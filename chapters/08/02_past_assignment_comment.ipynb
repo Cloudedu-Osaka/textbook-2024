{
 "cells": [
  {
   "cell_type": "markdown",
   "id": "d02d3317-3df2-43b2-a8a6-04a34d1106dd",
   "metadata": {},
   "source": [
    "# 課題の講評"
   ]
  },
  {
   "cell_type": "code",
   "execution_count": 1,
   "id": "684aa3ee-7e46-42b4-bf7c-0f951f934c26",
   "metadata": {},
   "outputs": [
    {
     "data": {
      "text/markdown": [
       "ピタゴラス音律は、古代ギリシャの数学者ピタゴラスにちなんで名付けられた音階の調整法です。ピタゴラス音律では、全ての音程が純粋な比率、つまり整数の比率で表されます。これは、弦の長さや振動数が一定の比率になることを意味します。\n",
       "\n",
       "具体的には、一度(完全一度)は「1:1」、五度（完全五度）は「3:2」、八度（完全八度）は「2:1」という比率で表されます。また、半音は「$ \\sqrt[12]{2} : 1 $」または「256:243」という比率で表されます。このように、ピタゴラス音律では、音の間隔は純粋な数学的比率に基づいています。\n",
       "\n",
       "しかし、ピタゴラス音律には問題もあります。全てのキーで純粋な比率を保つことはできず、特定のキーでは音程が「ずれる」ことがあります。これは「ピタゴラスのコンマ」と呼ばれる問題です。この問題を解決するために、さまざまな音律法（例えば平均律）が開発されました。\n",
       "\n",
       "それにもかかわらず、ピタゴラス音律は音楽理論と音響学の基礎を築きました。また、この音律法は特に古代ギリシャの音楽や中世の音楽、一部の民族音楽で使用されています。"
      ],
      "text/plain": [
       "<IPython.core.display.Markdown object>"
      ]
     },
     "execution_count": 1,
     "metadata": {
      "text/markdown": {
       "jupyter_ai": {
        "custom_chain_id": "vioras"
       }
      }
     },
     "output_type": "execute_result"
    }
   ],
   "source": [
    "%%ai vioras\n",
    "ピタゴラス音律について"
   ]
  },
  {
   "cell_type": "code",
   "execution_count": 2,
   "id": "648fc0f5-481f-4440-8b04-e1cea28c857f",
   "metadata": {},
   "outputs": [
    {
     "data": {
      "text/markdown": [
       "ピタゴラス音律は、音階や和音の形成に直接的な影響を与えます。音階は一連の音の配列であり、特定のキーに基づいています。ピタゴラス音律は、これらの音の間隔（音程）を数学的に明確に定義します。したがって、ピタゴラス音律は、音階がどのように構成されるかを決定します。\n",
       "\n",
       "たとえば、ピタゴラス音律を使用してCメジャー音階を作成すると、次のようになります（ここでの数字は、基準となる音（ここではC）の周波数に対する比率を示しています）：\n",
       "\n",
       "- C: 1:1\n",
       "- D: 9:8\n",
       "- E: 81:64\n",
       "- F: 4:3\n",
       "- G: 3:2\n",
       "- A: 27:16\n",
       "- B: 243:128\n",
       "- C: 2:1\n",
       "\n",
       "和音もまた、特定の音程の組み合わせで構成されます。ピタゴラス音律はこれらの音程を定義します。たとえば、Cメジャー和音（C-E-G）は、CからEへの比率（81:64）と、CからGへの比率（3:2）を使用して定義できます。\n",
       "\n",
       "しかし、ピタゴラス音律には「ピタゴラスのコンマ」と呼ばれる問題があり、全てのキーで完全に一貫した和音を生成することはできません。これは、12回の完全五度を重ねて完全八度を12回重ねたものと比較したときに微妙な差異が生じるためです。この問題を解決するために、西洋音楽では平均律が一般的に用いられています。"
      ],
      "text/plain": [
       "<IPython.core.display.Markdown object>"
      ]
     },
     "execution_count": 2,
     "metadata": {
      "text/markdown": {
       "jupyter_ai": {
        "custom_chain_id": "vioras"
       }
      }
     },
     "output_type": "execute_result"
    }
   ],
   "source": [
    "%%ai vioras\n",
    "ピタゴラス音律と、音階や和音との関係について"
   ]
  },
  {
   "cell_type": "markdown",
   "id": "017e8683-761b-48f4-a24c-397dfac0db07",
   "metadata": {},
   "source": [
    "## Pythagorean method"
   ]
  },
  {
   "cell_type": "markdown",
   "id": "41cb7ac6-8cd6-4aa2-b14b-6514fed0a57a",
   "metadata": {},
   "source": [
    "ピタゴラスは次の式を満たす $m, n \\geq 0 $ を探して $7$ 音階を定めた:\n",
    "\n",
    "$$ 1 \\leq \\left( \\frac{3}{2} \\right)^m \\times \\left( \\frac{1}{2} \\right)^{n} \\leq 2$$\n",
    "または\n",
    "$$ 1 \\leq \\left( \\frac{2}{3} \\right)^m \\times 2^n \\leq 2$$"
   ]
  },
  {
   "cell_type": "markdown",
   "id": "f8dae7a5-fcf4-41d8-b915-022562884a29",
   "metadata": {},
   "source": [
    "例えば"
   ]
  },
  {
   "cell_type": "markdown",
   "id": "ceeea42e-8673-4aab-897c-cfd74620ee93",
   "metadata": {},
   "source": [
    "$$\\left( \\frac{2}{3} \\right)^1 \\times 2^1 = \\frac{4}{3}$$"
   ]
  },
  {
   "cell_type": "markdown",
   "id": "c836e557-466e-4918-8783-6ff1c9214a22",
   "metadata": {},
   "source": [
    "$$\\left(\\frac{3}{2} \\right)^4 \\times \\left( \\frac{1}{2} \\right)^2 = \\frac{3^4}{2^6} = \\frac{81}{64} = 1.265625 \\approx 1.25 = \\frac{5}{4}$$"
   ]
  },
  {
   "cell_type": "markdown",
   "id": "4693af5f-1d9e-480a-a565-3e7b6b2b5b1d",
   "metadata": {},
   "source": [
    "C, E, Gの比を求める:"
   ]
  },
  {
   "cell_type": "markdown",
   "id": "c8d96250-acfd-420a-9911-e20de8e73fd9",
   "metadata": {},
   "source": [
    "$$ 1 : \\frac{81}{64} : \\frac{3}{2} \\approx 1 : \\frac{5}{4} : \\frac{3}{2} = \\frac{4}{4} : \\frac{5}{4} : \\frac{6}{4} = 4 : 5 : 6$$"
   ]
  },
  {
   "cell_type": "markdown",
   "id": "01ad9072-5bbd-48aa-af39-07cb52381ce5",
   "metadata": {},
   "source": [
    "## 3/2系列でピタゴラス音階を生成する"
   ]
  },
  {
   "cell_type": "code",
   "execution_count": 58,
   "id": "ad4d84ae-4ee7-492a-8862-92e32287bc7f",
   "metadata": {},
   "outputs": [],
   "source": [
    "from fractions import Fraction\n",
    "import itertools\n",
    "import numpy as np"
   ]
  },
  {
   "cell_type": "code",
   "execution_count": 62,
   "id": "0f88cb86-d520-4abc-acea-11817f288c26",
   "metadata": {},
   "outputs": [
    {
     "data": {
      "text/plain": [
       "[(0, 0, 0, Fraction(1, 1)),\n",
       " (7, 1, 0, Fraction(3, 2)),\n",
       " (2, 2, 1, Fraction(9, 8)),\n",
       " (9, 3, 1, Fraction(27, 16)),\n",
       " (4, 4, 2, Fraction(81, 64)),\n",
       " (11, 5, 2, Fraction(243, 128)),\n",
       " (6, 6, 3, Fraction(729, 512)),\n",
       " (1, 7, 4, Fraction(2187, 2048)),\n",
       " (8, 8, 4, Fraction(6561, 4096)),\n",
       " (3, 9, 5, Fraction(19683, 16384)),\n",
       " (10, 10, 5, Fraction(59049, 32768)),\n",
       " (5, 11, 6, Fraction(177147, 131072)),\n",
       " (0, 12, 7, Fraction(531441, 524288))]"
      ]
     },
     "execution_count": 62,
     "metadata": {},
     "output_type": "execute_result"
    }
   ],
   "source": [
    "pyt = [(m*7 % 12, m, n, Fraction(x))\n",
    "       for (m, n, x) in [(m, n, (3/2)**m * (1/2)**n) \n",
    "                         for m, n in itertools.product(range(13), repeat=2)]\n",
    "       if 1.0 <= x <= 2.0]\n",
    "pyt"
   ]
  },
  {
   "cell_type": "markdown",
   "id": "58ec35c2-9d0a-4f0e-8a30-1745fc0ada73",
   "metadata": {},
   "source": [
    "```{note}\n",
    "この系列で$m \\times 7$ を$12$で割った余りは (半) 音階に対応する事が知られています\n",
    "```"
   ]
  },
  {
   "cell_type": "code",
   "execution_count": 69,
   "id": "4df80015-b9ce-4e1f-9366-1d913e9c5a45",
   "metadata": {},
   "outputs": [
    {
     "data": {
      "text/plain": [
       "array([[0, 0, 0, Fraction(1, 1)],\n",
       "       [0, 12, 7, Fraction(531441, 524288)],\n",
       "       [1, 7, 4, Fraction(2187, 2048)],\n",
       "       [2, 2, 1, Fraction(9, 8)],\n",
       "       [3, 9, 5, Fraction(19683, 16384)],\n",
       "       [4, 4, 2, Fraction(81, 64)],\n",
       "       [5, 11, 6, Fraction(177147, 131072)],\n",
       "       [6, 6, 3, Fraction(729, 512)],\n",
       "       [7, 1, 0, Fraction(3, 2)],\n",
       "       [8, 8, 4, Fraction(6561, 4096)],\n",
       "       [9, 3, 1, Fraction(27, 16)],\n",
       "       [10, 10, 5, Fraction(59049, 32768)],\n",
       "       [11, 5, 2, Fraction(243, 128)]], dtype=object)"
      ]
     },
     "execution_count": 69,
     "metadata": {},
     "output_type": "execute_result"
    }
   ],
   "source": [
    "pyt = np.array(pyt)\n",
    "pyt[pyt[:,3].argsort()]"
   ]
  },
  {
   "cell_type": "markdown",
   "id": "3db5e890-9925-4dca-9c33-771acb7d89d5",
   "metadata": {},
   "source": [
    "* [C1E10_PythagoreanTuning](https://www.audiolabs-erlangen.de/resources/MIR/FMP/C1/C1E10_PythagoreanTuning.html)"
   ]
  },
  {
   "cell_type": "code",
   "execution_count": null,
   "id": "3e05bb19-2a09-4944-acd1-d116d512ed86",
   "metadata": {},
   "outputs": [],
   "source": [
    "import numpy as np\n",
    "import IPython.display as ipd\n",
    "\n",
    "import sys\n",
    "sys.path.append('..')\n",
    "import libfmp.c1\n",
    "\n",
    "def compute_ratio(num3, num2):\n",
    "    return (3 ** num3) / (2 ** num2)\n",
    "\n",
    "num3 = 0\n",
    "num2 = 0\n",
    "note = 0\n",
    "diff = 0\n",
    "s = np.zeros((13, 6))\n",
    "s[0] = [0, note, num3, num2, compute_ratio(num3, num2), diff] \n",
    "\n",
    "for m in range(1, 13):\n",
    "    note = (note + 7) % 12\n",
    "    if note == 0: note = 12\n",
    "    num3 = num3 + 1\n",
    "    num2 = num2 + 1 \n",
    "    ratio = compute_ratio(num3, num2)\n",
    "    if ratio > 2:\n",
    "        num2 = num2 + 1\n",
    "        ratio = compute_ratio(num3, num2)\n",
    "    diff = (np.log2(ratio) - 1 / 12) * 1200\n",
    "    diff = np.remainder(diff, 100)        \n",
    "    s[m] = [m, note, num3, num2, compute_ratio(num3, num2), diff]   "
   ]
  },
  {
   "cell_type": "code",
   "execution_count": 4,
   "id": "eab21d4f-3b3b-40f7-9122-3d0aea687aef",
   "metadata": {},
   "outputs": [
    {
     "data": {
      "text/plain": [
       "array([[ 0.        ,  0.        ,  0.        ,  0.        ,  1.        ,\n",
       "         0.        ],\n",
       "       [ 1.        ,  7.        ,  1.        ,  1.        ,  1.5       ,\n",
       "         1.95500087],\n",
       "       [ 2.        ,  2.        ,  2.        ,  3.        ,  1.125     ,\n",
       "         3.91000173],\n",
       "       [ 3.        ,  9.        ,  3.        ,  4.        ,  1.6875    ,\n",
       "         5.8650026 ],\n",
       "       [ 4.        ,  4.        ,  4.        ,  6.        ,  1.265625  ,\n",
       "         7.82000346],\n",
       "       [ 5.        , 11.        ,  5.        ,  7.        ,  1.8984375 ,\n",
       "         9.77500433],\n",
       "       [ 6.        ,  6.        ,  6.        ,  9.        ,  1.42382812,\n",
       "        11.73000519],\n",
       "       [ 7.        ,  1.        ,  7.        , 11.        ,  1.06787109,\n",
       "        13.68500606],\n",
       "       [ 8.        ,  8.        ,  8.        , 12.        ,  1.60180664,\n",
       "        15.64000692],\n",
       "       [ 9.        ,  3.        ,  9.        , 14.        ,  1.20135498,\n",
       "        17.59500779],\n",
       "       [10.        , 10.        , 10.        , 15.        ,  1.80203247,\n",
       "        19.55000865],\n",
       "       [11.        ,  5.        , 11.        , 17.        ,  1.35152435,\n",
       "        21.50500952],\n",
       "       [12.        , 12.        , 12.        , 19.        ,  1.01364326,\n",
       "        23.46001038]])"
      ]
     },
     "execution_count": 4,
     "metadata": {},
     "output_type": "execute_result"
    }
   ],
   "source": [
    "s"
   ]
  },
  {
   "cell_type": "code",
   "execution_count": 5,
   "id": "d750ef5f-7fc3-40b6-a07c-f0477622b0ea",
   "metadata": {},
   "outputs": [
    {
     "data": {
      "text/markdown": [
       "このプログラムは、ピタゴラス音律 (Pythagorean tuning) に基づく音の周波数比を計算します。ピタゴラス音律は、音楽の音階を生成するための古代のシステムで、全てのピッチが純粋な完全五度（周波数比3:2）の積であるという原理に基づいています。このプログラムでは、そのプロセスを模擬しています。\n",
       "\n",
       "以下、コードの各部分の詳細な説明です：\n",
       "\n",
       "まず、必要なパッケージをインポートします：\n",
       "\n",
       "```python\n",
       "import numpy as np\n",
       "import IPython.display as ipd\n",
       "import sys\n",
       "sys.path.append('..')\n",
       "import libfmp.c1\n",
       "```\n",
       "\n",
       "次に、指定された数値に対して周波数比（3の`num3`乗 ÷ 2の`num2`乗）を計算する関数`compute_ratio`を定義します：\n",
       "\n",
       "```python\n",
       "def compute_ratio(num3, num2):\n",
       "    return (3 ** num3) / (2 ** num2)\n",
       "```\n",
       "\n",
       "その後、初期変数を設定し、結果を保存するための空の2次元配列（13行6列）を作成します：\n",
       "\n",
       "```python\n",
       "num3 = 0\n",
       "num2 = 0\n",
       "note = 0\n",
       "diff = 0\n",
       "s = np.zeros((13, 6))\n",
       "s[0] = [0, note, num3, num2, compute_ratio(num3, num2), diff]\n",
       "```\n",
       "\n",
       "次に、12回のループを行い、各ステップで新しい音符を生成します：\n",
       "\n",
       "```python\n",
       "for m in range(1, 13):\n",
       "    note = (note + 7) % 12\n",
       "    if note == 0: note = 12\n",
       "    num3 = num3 + 1\n",
       "    num2 = num2 + 1 \n",
       "    ratio = compute_ratio(num3, num2)\n",
       "    if ratio > 2:\n",
       "        num2 = num2 + 1\n",
       "        ratio = compute_ratio(num3, num2)\n",
       "    diff = (np.log2(ratio) - 1 / 12) * 1200\n",
       "    diff = np.remainder(diff, 100)        \n",
       "    s[m] = [m, note, num3, num2, compute_ratio(num3, num2), diff]\n",
       "```\n",
       "\n",
       "これらのステップを詳しく見てみましょう：\n",
       "\n",
       "- `note = (note + 7) % 12`：これは新しい音符を生成します。音符は7つ進み（完全五度）、そして12で割ることで、音符が12を超えるときにそれをラッピングします（12音階システムに対応）。`if note == 0: note = 12`は、音符が0になるときにそれを12にリセットします。\n",
       "- `num3 = num3 + 1`と`num2 = num2 + 1`：これらは、次の周波数比を計算するために、3の指数と2の指数をそれぞれインクリメントします。\n",
       "- その後、新しい周波数比を計算します：`ratio = compute_ratio(num3, num2)`。\n",
       "- `if ratio > 2: num2 = num2 + 1; ratio = compute_ratio(num3, num2)`：これは、新しい比率が2を超えた場合に、比率が1から2の範囲になるように2の指数を増やします。\n",
       "- `diff = (np.log2(ratio) - 1 / 12) * 1200; diff = np.remainder(diff, 100)`：これは、新しい音高の周波数比と等 temperament scale の間の差分をセントで計算します。そしてその差分を100で割った余りを求めます。\n",
       "- 最後に、生成した情報を配列`s`に保存します：`s[m] = [m, note, num3, num2, compute_ratio(num3, num2), diff]`。\n",
       "\n",
       "そして、このプログラムの結果として、各音符（ノート）の周波数比と、それが等 temperament scale とどの程度異なるかが計算されます。"
      ],
      "text/plain": [
       "<IPython.core.display.Markdown object>"
      ]
     },
     "execution_count": 5,
     "metadata": {
      "text/markdown": {
       "jupyter_ai": {
        "custom_chain_id": "vioras"
       }
      }
     },
     "output_type": "execute_result"
    }
   ],
   "source": [
    "%%ai vioras\n",
    "次のプログラムを解説してください\n",
    "---\n",
    "import numpy as np\n",
    "import IPython.display as ipd\n",
    "\n",
    "import sys\n",
    "sys.path.append('..')\n",
    "import libfmp.c1\n",
    "\n",
    "def compute_ratio(num3, num2):\n",
    "    return (3 ** num3) / (2 ** num2)\n",
    "\n",
    "num3 = 0\n",
    "num2 = 0\n",
    "note = 0\n",
    "diff = 0\n",
    "s = np.zeros((13, 6))\n",
    "s[0] = [0, note, num3, num2, compute_ratio(num3, num2), diff] \n",
    "\n",
    "for m in range(1, 13):\n",
    "    note = (note + 7) % 12\n",
    "    if note == 0: note = 12\n",
    "    num3 = num3 + 1\n",
    "    num2 = num2 + 1 \n",
    "    ratio = compute_ratio(num3, num2)\n",
    "    if ratio > 2:\n",
    "        num2 = num2 + 1\n",
    "        ratio = compute_ratio(num3, num2)\n",
    "    diff = (np.log2(ratio) - 1 / 12) * 1200\n",
    "    diff = np.remainder(diff, 100)        \n",
    "    s[m] = [m, note, num3, num2, compute_ratio(num3, num2), diff]"
   ]
  },
  {
   "cell_type": "markdown",
   "id": "67b968d2-6636-45c6-adb8-6b97e2d75161",
   "metadata": {},
   "source": [
    "```{note}\n",
    "ピタゴラス音階は、$\\left(\\frac{3}{2}\\right)^m \\times \\left(\\frac{1}{2}\\right)^n\n",
    "= \\frac{3^m}{2^{m+n}}$系列と\n",
    "$\\left(\\frac{2}{3}\\right)^m \\times 2^n\n",
    "= \\frac{2^{m+n}}{3^m}$系列の合成で構成されます\n",
    "```\n",
    "\n",
    "* [Pythagorean tuning - Wikipedia](https://en.wikipedia.org/wiki/Pythagorean_tuning)"
   ]
  },
  {
   "cell_type": "code",
   "execution_count": null,
   "id": "ac726821-c9f5-47ad-aea8-9f4d4303b6b8",
   "metadata": {},
   "outputs": [],
   "source": []
  }
 ],
 "metadata": {
  "kernelspec": {
   "display_name": "Python 3 (ipykernel)",
   "language": "python",
   "name": "python3"
  },
  "language_info": {
   "codemirror_mode": {
    "name": "ipython",
    "version": 3
   },
   "file_extension": ".py",
   "mimetype": "text/x-python",
   "name": "python",
   "nbconvert_exporter": "python",
   "pygments_lexer": "ipython3",
   "version": "3.11.8"
  }
 },
 "nbformat": 4,
 "nbformat_minor": 5
}
