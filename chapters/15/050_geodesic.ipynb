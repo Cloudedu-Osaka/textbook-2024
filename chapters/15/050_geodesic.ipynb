{
 "cells": [
  {
   "cell_type": "markdown",
   "id": "b4a59f43-7db1-4389-a8d4-4f0267c17bf3",
   "metadata": {},
   "source": [
    "# 重力と測地線 (2)"
   ]
  },
  {
   "cell_type": "markdown",
   "id": "0d8d9dc8",
   "metadata": {},
   "source": [
    "## Geodesic\n",
    "\n",
    "* [Geodesic - Wikipedia](https://en.wikipedia.org/wiki/Geodesic)"
   ]
  },
  {
   "cell_type": "markdown",
   "id": "994054c2",
   "metadata": {},
   "source": [
    "* [Physics - Pushing the envelope of general relativity](https://physics.aps.org/articles/v2/71)\n",
    "\n",
    "![fig-34](https://physics.aps.org/assets/f842dc5c-a38c-4a5b-b1f5-d042e072079a/e71_1.png)"
   ]
  },
  {
   "cell_type": "markdown",
   "id": "b8f51d21",
   "metadata": {},
   "source": [
    "* [大圏コース - Wikipedia](https://ja.wikipedia.org/wiki/%E5%A4%A7%E5%9C%8F%E3%82%B3%E3%83%BC%E3%82%B9)\n",
    "\n",
    "![fig-40](https://upload.wikimedia.org/wikipedia/commons/7/79/Greatcircle_Jetstream_routes.svg)"
   ]
  },
  {
   "cell_type": "code",
   "execution_count": null,
   "id": "d0744669",
   "metadata": {},
   "outputs": [],
   "source": []
  },
  {
   "cell_type": "code",
   "execution_count": null,
   "id": "6e98ccd6",
   "metadata": {},
   "outputs": [],
   "source": []
  },
  {
   "cell_type": "code",
   "execution_count": null,
   "id": "38a1b21f",
   "metadata": {},
   "outputs": [],
   "source": []
  },
  {
   "cell_type": "markdown",
   "id": "4fa483f3",
   "metadata": {},
   "source": [
    "## Geodesic equation\n",
    "\n",
    "* [Euler–Lagrange equation - Wikipedia](https://en.wikipedia.org/wiki/Euler%E2%80%93Lagrange_equation)"
   ]
  },
  {
   "cell_type": "markdown",
   "id": "31d0f2a7",
   "metadata": {},
   "source": [
    "$$\n",
    "\\frac{d^2 x^\\lambda}{dt^2} \n",
    "  + \\Gamma^\\lambda_{\\mu \\nu} \n",
    "    \\frac{dx^\\mu}{dt} \\frac{dx^\\nu}{dt} = 0\n",
    "$$"
   ]
  },
  {
   "cell_type": "markdown",
   "id": "cea64f71",
   "metadata": {},
   "source": [
    "半径 $r$ の球面を極座標 $(\\theta, \\phi)$ で表す:"
   ]
  },
  {
   "cell_type": "code",
   "execution_count": 34,
   "id": "6e1b8693",
   "metadata": {
    "tags": []
   },
   "outputs": [
    {
     "data": {
      "text/plain": [
       "[r, theta, phi]"
      ]
     },
     "execution_count": 34,
     "metadata": {},
     "output_type": "execute_result"
    }
   ],
   "source": [
    "R3_s.base_scalars()"
   ]
  },
  {
   "cell_type": "code",
   "execution_count": 35,
   "id": "3803fc40",
   "metadata": {
    "scrolled": true,
    "tags": []
   },
   "outputs": [
    {
     "data": {
      "text/latex": [
       "$\\displaystyle \\left[\\begin{matrix}\\sin{\\left(\\mathbf{\\theta} \\right)} \\cos{\\left(\\mathbf{\\phi} \\right)} \\mathbf{r}\\\\\\sin{\\left(\\mathbf{\\theta} \\right)} \\sin{\\left(\\mathbf{\\phi} \\right)} \\mathbf{r}\\\\\\cos{\\left(\\mathbf{\\theta} \\right)} \\mathbf{r}\\end{matrix}\\right]$"
      ],
      "text/plain": [
       "Matrix([\n",
       "[sin(theta)*cos(phi)*r],\n",
       "[sin(theta)*sin(phi)*r],\n",
       "[         cos(theta)*r]])"
      ]
     },
     "execution_count": 35,
     "metadata": {},
     "output_type": "execute_result"
    }
   ],
   "source": [
    "s = R3_s.transform(R3_r, R3_s.base_scalars())\n",
    "s"
   ]
  },
  {
   "cell_type": "markdown",
   "id": "3edc09e3",
   "metadata": {},
   "source": [
    "$\\theta$ と $\\phi$ を媒介変数 $t$ の関数とみなす:"
   ]
  },
  {
   "cell_type": "code",
   "execution_count": 36,
   "id": "4dc95b46",
   "metadata": {
    "tags": []
   },
   "outputs": [],
   "source": [
    "t = Symbol('t')"
   ]
  },
  {
   "cell_type": "code",
   "execution_count": 37,
   "id": "b3dffb37",
   "metadata": {
    "tags": []
   },
   "outputs": [],
   "source": [
    "theta = Function('theta')(t)"
   ]
  },
  {
   "cell_type": "code",
   "execution_count": 38,
   "id": "13168587",
   "metadata": {
    "tags": []
   },
   "outputs": [],
   "source": [
    "phi = Function('phi')(t)"
   ]
  },
  {
   "cell_type": "code",
   "execution_count": 39,
   "id": "4bb4cdad",
   "metadata": {
    "tags": []
   },
   "outputs": [],
   "source": [
    "funcs = (theta, phi)"
   ]
  },
  {
   "cell_type": "code",
   "execution_count": 40,
   "id": "7c3611dc",
   "metadata": {
    "tags": []
   },
   "outputs": [
    {
     "data": {
      "text/latex": [
       "$\\displaystyle \\theta{\\left(t \\right)}$"
      ],
      "text/plain": [
       "theta(t)"
      ]
     },
     "metadata": {},
     "output_type": "display_data"
    },
    {
     "data": {
      "text/latex": [
       "$\\displaystyle \\phi{\\left(t \\right)}$"
      ],
      "text/plain": [
       "phi(t)"
      ]
     },
     "metadata": {},
     "output_type": "display_data"
    }
   ],
   "source": [
    "for i in range(2):\n",
    "    display(funcs[i])"
   ]
  },
  {
   "cell_type": "code",
   "execution_count": 41,
   "id": "4e0cb5ac",
   "metadata": {
    "scrolled": true,
    "tags": []
   },
   "outputs": [
    {
     "data": {
      "text/latex": [
       "$\\displaystyle \\frac{d}{d t} \\theta{\\left(t \\right)}$"
      ],
      "text/plain": [
       "Derivative(theta(t), t)"
      ]
     },
     "metadata": {},
     "output_type": "display_data"
    },
    {
     "data": {
      "text/latex": [
       "$\\displaystyle \\frac{d}{d t} \\phi{\\left(t \\right)}$"
      ],
      "text/plain": [
       "Derivative(phi(t), t)"
      ]
     },
     "metadata": {},
     "output_type": "display_data"
    }
   ],
   "source": [
    "for i in range(2):\n",
    "    display(funcs[i].diff())"
   ]
  },
  {
   "cell_type": "code",
   "execution_count": 42,
   "id": "5564a79f",
   "metadata": {
    "scrolled": true,
    "tags": []
   },
   "outputs": [
    {
     "data": {
      "text/latex": [
       "$\\displaystyle \\frac{d^{2}}{d t^{2}} \\theta{\\left(t \\right)}$"
      ],
      "text/plain": [
       "Derivative(theta(t), (t, 2))"
      ]
     },
     "metadata": {},
     "output_type": "display_data"
    },
    {
     "data": {
      "text/latex": [
       "$\\displaystyle \\frac{d^{2}}{d t^{2}} \\phi{\\left(t \\right)}$"
      ],
      "text/plain": [
       "Derivative(phi(t), (t, 2))"
      ]
     },
     "metadata": {},
     "output_type": "display_data"
    }
   ],
   "source": [
    "for i in range(2):\n",
    "    display(funcs[i].diff().diff())"
   ]
  },
  {
   "cell_type": "markdown",
   "id": "ed37564f",
   "metadata": {},
   "source": [
    "測地線の公式に代入する:"
   ]
  },
  {
   "cell_type": "markdown",
   "id": "c5832442",
   "metadata": {},
   "source": [
    "$$\n",
    "\\frac{d^2 x^\\lambda}{dt^2} \n",
    "  + \\Gamma^\\lambda_{\\mu \\nu} \n",
    "    \\frac{dx^\\mu}{dt} \\frac{dx^\\nu}{dt} = 0\n",
    "$$"
   ]
  },
  {
   "cell_type": "code",
   "execution_count": 43,
   "id": "4dae5a2f",
   "metadata": {
    "tags": []
   },
   "outputs": [
    {
     "data": {
      "text/latex": [
       "$\\displaystyle \\left[\\begin{matrix}\\left[\\begin{matrix}0 & 0\\\\0 & - \\sin{\\left(\\theta \\right)} \\cos{\\left(\\theta \\right)}\\end{matrix}\\right] & \\left[\\begin{matrix}0 & \\frac{\\cos{\\left(\\theta \\right)}}{\\sin{\\left(\\theta \\right)}}\\\\\\frac{\\cos{\\left(\\theta \\right)}}{\\sin{\\left(\\theta \\right)}} & 0\\end{matrix}\\right]\\end{matrix}\\right]$"
      ],
      "text/plain": [
       "[[[0, 0], [0, -sin(theta)*cos(theta)]], [[0, cos(theta)/sin(theta)], [cos(theta)/sin(theta), 0]]]"
      ]
     },
     "execution_count": 43,
     "metadata": {},
     "output_type": "execute_result"
    }
   ],
   "source": [
    "chr2.tensor()"
   ]
  },
  {
   "cell_type": "code",
   "execution_count": 44,
   "id": "ad0d5c37",
   "metadata": {
    "tags": []
   },
   "outputs": [],
   "source": [
    "import itertools"
   ]
  },
  {
   "cell_type": "code",
   "execution_count": 45,
   "id": "57cb3bf1",
   "metadata": {
    "tags": []
   },
   "outputs": [
    {
     "data": {
      "text/latex": [
       "$\\displaystyle - \\sin{\\left(\\theta \\right)} \\cos{\\left(\\theta \\right)} \\left(\\frac{d}{d t} \\phi{\\left(t \\right)}\\right)^{2} + \\frac{d^{2}}{d t^{2}} \\theta{\\left(t \\right)}$"
      ],
      "text/plain": [
       "-sin(theta)*cos(theta)*Derivative(phi(t), t)**2 + Derivative(theta(t), (t, 2))"
      ]
     },
     "metadata": {},
     "output_type": "display_data"
    },
    {
     "data": {
      "text/latex": [
       "$\\displaystyle \\frac{d^{2}}{d t^{2}} \\phi{\\left(t \\right)} + \\frac{2 \\cos{\\left(\\theta \\right)} \\frac{d}{d t} \\phi{\\left(t \\right)} \\frac{d}{d t} \\theta{\\left(t \\right)}}{\\sin{\\left(\\theta \\right)}}$"
      ],
      "text/plain": [
       "Derivative(phi(t), (t, 2)) + 2*cos(theta)*Derivative(phi(t), t)*Derivative(theta(t), t)/sin(theta)"
      ]
     },
     "metadata": {},
     "output_type": "display_data"
    }
   ],
   "source": [
    "geodesic=[0,0]\n",
    "for i in range(2):\n",
    "    geodesic[i] = funcs[i].diff().diff()\n",
    "    for j,k in itertools.product((0,1), repeat=2):\n",
    "        geodesic[i] += (chr2[i,j,k] * funcs[j].diff() * funcs[k].diff())\n",
    "    display(geodesic[i])"
   ]
  },
  {
   "cell_type": "markdown",
   "id": "4447fb4e",
   "metadata": {},
   "source": [
    "$$\n",
    "\\begin{align}\n",
    "  \\theta'' - \\sin(\\theta) \\cos(\\theta) (\\phi')^2 & = 0 \\\\\n",
    "  \\phi'' + 2 \\cot(\\theta) \\phi' \\theta' & = 0\n",
    "\\end{align}\n",
    "$$"
   ]
  },
  {
   "cell_type": "markdown",
   "id": "62ff3504",
   "metadata": {},
   "source": [
    "測地線は一次元なので、$\\theta$ を $\\phi = \\phi(t)$ の関数とみなし、媒介変数 $t$ で微分する。"
   ]
  },
  {
   "cell_type": "code",
   "execution_count": 46,
   "id": "a9ed9dc4",
   "metadata": {
    "tags": []
   },
   "outputs": [
    {
     "data": {
      "text/latex": [
       "$\\displaystyle \\theta{\\left(\\phi{\\left(t \\right)} \\right)}$"
      ],
      "text/plain": [
       "theta(phi(t))"
      ]
     },
     "execution_count": 46,
     "metadata": {},
     "output_type": "execute_result"
    }
   ],
   "source": [
    "theta = Function('theta')(phi)\n",
    "theta"
   ]
  },
  {
   "cell_type": "code",
   "execution_count": 47,
   "id": "69e296fe",
   "metadata": {
    "tags": []
   },
   "outputs": [
    {
     "data": {
      "text/latex": [
       "$\\displaystyle \\theta{\\left(\\phi{\\left(t \\right)} \\right)}$"
      ],
      "text/plain": [
       "theta(phi(t))"
      ]
     },
     "metadata": {},
     "output_type": "display_data"
    },
    {
     "data": {
      "text/latex": [
       "$\\displaystyle \\phi{\\left(t \\right)}$"
      ],
      "text/plain": [
       "phi(t)"
      ]
     },
     "metadata": {},
     "output_type": "display_data"
    }
   ],
   "source": [
    "display(theta, phi)"
   ]
  },
  {
   "cell_type": "code",
   "execution_count": 48,
   "id": "82a9029f",
   "metadata": {
    "tags": []
   },
   "outputs": [
    {
     "data": {
      "text/latex": [
       "$\\displaystyle \\frac{d}{d t} \\phi{\\left(t \\right)}$"
      ],
      "text/plain": [
       "Derivative(phi(t), t)"
      ]
     },
     "execution_count": 48,
     "metadata": {},
     "output_type": "execute_result"
    }
   ],
   "source": [
    "phi.diff()"
   ]
  },
  {
   "cell_type": "code",
   "execution_count": 49,
   "id": "fe31afaa",
   "metadata": {
    "tags": []
   },
   "outputs": [
    {
     "data": {
      "text/latex": [
       "$\\displaystyle \\frac{d}{d t} \\phi{\\left(t \\right)} \\frac{d}{d \\phi{\\left(t \\right)}} \\theta{\\left(\\phi{\\left(t \\right)} \\right)}$"
      ],
      "text/plain": [
       "Derivative(phi(t), t)*Derivative(theta(phi(t)), phi(t))"
      ]
     },
     "execution_count": 49,
     "metadata": {},
     "output_type": "execute_result"
    }
   ],
   "source": [
    "theta.diff(t)"
   ]
  },
  {
   "cell_type": "code",
   "execution_count": 50,
   "id": "242438d0",
   "metadata": {
    "tags": []
   },
   "outputs": [
    {
     "data": {
      "text/latex": [
       "$\\displaystyle \\left(\\frac{d}{d t} \\phi{\\left(t \\right)}\\right)^{2} \\frac{d^{2}}{d \\phi{\\left(t \\right)}^{2}} \\theta{\\left(\\phi{\\left(t \\right)} \\right)} + \\frac{d^{2}}{d t^{2}} \\phi{\\left(t \\right)} \\frac{d}{d \\phi{\\left(t \\right)}} \\theta{\\left(\\phi{\\left(t \\right)} \\right)}$"
      ],
      "text/plain": [
       "Derivative(phi(t), t)**2*Derivative(theta(phi(t)), (phi(t), 2)) + Derivative(phi(t), (t, 2))*Derivative(theta(phi(t)), phi(t))"
      ]
     },
     "execution_count": 50,
     "metadata": {},
     "output_type": "execute_result"
    }
   ],
   "source": [
    "theta.diff().diff()"
   ]
  },
  {
   "cell_type": "code",
   "execution_count": 51,
   "id": "080b2264",
   "metadata": {
    "scrolled": true,
    "tags": []
   },
   "outputs": [
    {
     "data": {
      "text/latex": [
       "$\\displaystyle - \\sin{\\left(\\theta \\right)} \\cos{\\left(\\theta \\right)} \\left(\\frac{d}{d t} \\phi{\\left(t \\right)}\\right)^{2} + \\left(\\frac{d}{d t} \\phi{\\left(t \\right)}\\right)^{2} \\frac{d^{2}}{d \\phi{\\left(t \\right)}^{2}} \\theta{\\left(\\phi{\\left(t \\right)} \\right)} + \\frac{d^{2}}{d t^{2}} \\phi{\\left(t \\right)} \\frac{d}{d \\phi{\\left(t \\right)}} \\theta{\\left(\\phi{\\left(t \\right)} \\right)}$"
      ],
      "text/plain": [
       "-sin(theta)*cos(theta)*Derivative(phi(t), t)**2 + Derivative(phi(t), t)**2*Derivative(theta(phi(t)), (phi(t), 2)) + Derivative(phi(t), (t, 2))*Derivative(theta(phi(t)), phi(t))"
      ]
     },
     "metadata": {},
     "output_type": "display_data"
    },
    {
     "data": {
      "text/latex": [
       "$\\displaystyle \\frac{d^{2}}{d t^{2}} \\phi{\\left(t \\right)} + \\frac{2 \\cos{\\left(\\theta \\right)} \\left(\\frac{d}{d t} \\phi{\\left(t \\right)}\\right)^{2} \\frac{d}{d \\phi{\\left(t \\right)}} \\theta{\\left(\\phi{\\left(t \\right)} \\right)}}{\\sin{\\left(\\theta \\right)}}$"
      ],
      "text/plain": [
       "Derivative(phi(t), (t, 2)) + 2*cos(theta)*Derivative(phi(t), t)**2*Derivative(theta(phi(t)), phi(t))/sin(theta)"
      ]
     },
     "metadata": {},
     "output_type": "display_data"
    }
   ],
   "source": [
    "geodesic=[0,0]\n",
    "funcs = (theta, phi)\n",
    "for i in range(2):\n",
    "    geodesic[i] = funcs[i].diff().diff()\n",
    "    for j,k in itertools.product((0,1), repeat=2):\n",
    "        geodesic[i] += (chr2[i,j,k] * funcs[j].diff() * funcs[k].diff())\n",
    "    display(geodesic[i])"
   ]
  },
  {
   "cell_type": "markdown",
   "id": "b53e7fc8",
   "metadata": {},
   "source": [
    "次のように簡略化する:"
   ]
  },
  {
   "cell_type": "code",
   "execution_count": 52,
   "id": "dbf7e6ea",
   "metadata": {
    "tags": []
   },
   "outputs": [
    {
     "data": {
      "text/latex": [
       "$\\displaystyle \\frac{d^{2}}{d t^{2}} \\phi{\\left(t \\right)}$"
      ],
      "text/plain": [
       "Derivative(phi(t), (t, 2))"
      ]
     },
     "execution_count": 52,
     "metadata": {},
     "output_type": "execute_result"
    }
   ],
   "source": [
    "phi.diff().diff()"
   ]
  },
  {
   "cell_type": "markdown",
   "id": "52a293f0",
   "metadata": {},
   "source": [
    "二つ目の式 `geodesic[1]` を $\\phi''$ (`phi.diff().diff()`) について解く:"
   ]
  },
  {
   "cell_type": "code",
   "execution_count": 53,
   "id": "b8cd15ca",
   "metadata": {
    "tags": []
   },
   "outputs": [
    {
     "data": {
      "text/latex": [
       "$\\displaystyle - \\frac{2 \\left(\\frac{d}{d t} \\phi{\\left(t \\right)}\\right)^{2} \\frac{d}{d \\phi{\\left(t \\right)}} \\theta{\\left(\\phi{\\left(t \\right)} \\right)}}{\\tan{\\left(\\theta \\right)}}$"
      ],
      "text/plain": [
       "-2*Derivative(phi(t), t)**2*Derivative(theta(phi(t)), phi(t))/tan(theta)"
      ]
     },
     "metadata": {},
     "output_type": "display_data"
    }
   ],
   "source": [
    "from sympy.solvers import solve\n",
    "g1, = solve(geodesic[1], phi.diff().diff())\n",
    "display(g1)"
   ]
  },
  {
   "cell_type": "markdown",
   "id": "9c4c3a60",
   "metadata": {},
   "source": [
    "一つ目の式 `geodesic[0]` に代入する:"
   ]
  },
  {
   "cell_type": "code",
   "execution_count": 54,
   "id": "341fcf18",
   "metadata": {
    "tags": []
   },
   "outputs": [
    {
     "data": {
      "text/latex": [
       "$\\displaystyle \\left(- \\frac{\\sin{\\left(2 \\theta \\right)}}{2} + \\frac{d^{2}}{d \\phi{\\left(t \\right)}^{2}} \\theta{\\left(\\phi{\\left(t \\right)} \\right)} - \\frac{2 \\left(\\frac{d}{d \\phi{\\left(t \\right)}} \\theta{\\left(\\phi{\\left(t \\right)} \\right)}\\right)^{2}}{\\tan{\\left(\\theta \\right)}}\\right) \\left(\\frac{d}{d t} \\phi{\\left(t \\right)}\\right)^{2}$"
      ],
      "text/plain": [
       "(-sin(2*theta)/2 + Derivative(theta(phi(t)), (phi(t), 2)) - 2*Derivative(theta(phi(t)), phi(t))**2/tan(theta))*Derivative(phi(t), t)**2"
      ]
     },
     "execution_count": 54,
     "metadata": {},
     "output_type": "execute_result"
    }
   ],
   "source": [
    "sympy.simplify(geodesic[0].subs(phi.diff().diff(), g1))"
   ]
  },
  {
   "cell_type": "markdown",
   "id": "30440d5d",
   "metadata": {},
   "source": [
    "次の簡略化された測地線の方程式が得られる:"
   ]
  },
  {
   "cell_type": "markdown",
   "id": "907c4d8c",
   "metadata": {},
   "source": [
    "$$\n",
    "\\theta'' - 2 \\cot(\\theta) (\\theta')^2 - \\cos(\\theta)\\sin(\\theta) = 0\n",
    "$$"
   ]
  },
  {
   "cell_type": "markdown",
   "id": "ff4877fd",
   "metadata": {},
   "source": [
    "さらに、$\\omega$ を次のように定義する:"
   ]
  },
  {
   "cell_type": "markdown",
   "id": "3a748a0c",
   "metadata": {},
   "source": [
    "$$\n",
    "\\omega(t) = \\cot(\\theta(t))\n",
    "$$"
   ]
  },
  {
   "cell_type": "code",
   "execution_count": 55,
   "id": "dd8190f7",
   "metadata": {
    "tags": []
   },
   "outputs": [],
   "source": [
    "theta = Function('theta')(t)"
   ]
  },
  {
   "cell_type": "code",
   "execution_count": 56,
   "id": "196835cd",
   "metadata": {
    "tags": []
   },
   "outputs": [
    {
     "data": {
      "text/latex": [
       "$\\displaystyle \\frac{d}{d t} \\theta{\\left(t \\right)}$"
      ],
      "text/plain": [
       "Derivative(theta(t), t)"
      ]
     },
     "metadata": {},
     "output_type": "display_data"
    },
    {
     "data": {
      "text/latex": [
       "$\\displaystyle \\frac{d^{2}}{d t^{2}} \\theta{\\left(t \\right)}$"
      ],
      "text/plain": [
       "Derivative(theta(t), (t, 2))"
      ]
     },
     "metadata": {},
     "output_type": "display_data"
    }
   ],
   "source": [
    "display(theta.diff(), theta.diff().diff())"
   ]
  },
  {
   "cell_type": "code",
   "execution_count": 57,
   "id": "6af7f768",
   "metadata": {
    "tags": []
   },
   "outputs": [
    {
     "data": {
      "text/latex": [
       "$\\displaystyle \\cot{\\left(\\theta{\\left(t \\right)} \\right)}$"
      ],
      "text/plain": [
       "cot(theta(t))"
      ]
     },
     "execution_count": 57,
     "metadata": {},
     "output_type": "execute_result"
    }
   ],
   "source": [
    "cot(theta)"
   ]
  },
  {
   "cell_type": "code",
   "execution_count": 58,
   "id": "b6c9d018",
   "metadata": {
    "tags": []
   },
   "outputs": [
    {
     "data": {
      "text/latex": [
       "$\\displaystyle - \\frac{\\frac{d}{d t} \\theta{\\left(t \\right)}}{\\sin^{2}{\\left(\\theta{\\left(t \\right)} \\right)}}$"
      ],
      "text/plain": [
       "-Derivative(theta(t), t)/sin(theta(t))**2"
      ]
     },
     "execution_count": 58,
     "metadata": {},
     "output_type": "execute_result"
    }
   ],
   "source": [
    "sympy.simplify(cot(theta).diff())"
   ]
  },
  {
   "cell_type": "code",
   "execution_count": 59,
   "id": "a2f4e64a",
   "metadata": {
    "tags": []
   },
   "outputs": [
    {
     "data": {
      "text/latex": [
       "$\\displaystyle \\frac{2 \\cot{\\left(\\theta{\\left(t \\right)} \\right)} \\left(\\frac{d}{d t} \\theta{\\left(t \\right)}\\right)^{2} - \\frac{d^{2}}{d t^{2}} \\theta{\\left(t \\right)}}{\\sin^{2}{\\left(\\theta{\\left(t \\right)} \\right)}}$"
      ],
      "text/plain": [
       "(2*cot(theta(t))*Derivative(theta(t), t)**2 - Derivative(theta(t), (t, 2)))/sin(theta(t))**2"
      ]
     },
     "execution_count": 59,
     "metadata": {},
     "output_type": "execute_result"
    }
   ],
   "source": [
    "sympy.simplify(cot(theta).diff().diff())"
   ]
  },
  {
   "cell_type": "code",
   "execution_count": 60,
   "id": "87ad6d56",
   "metadata": {
    "tags": []
   },
   "outputs": [
    {
     "data": {
      "text/latex": [
       "$\\displaystyle \\omega{\\left(t \\right)}$"
      ],
      "text/plain": [
       "omega(t)"
      ]
     },
     "execution_count": 60,
     "metadata": {},
     "output_type": "execute_result"
    }
   ],
   "source": [
    "omega = Function('omega')(t)\n",
    "omega"
   ]
  },
  {
   "cell_type": "code",
   "execution_count": 61,
   "id": "30a6b6c9",
   "metadata": {
    "tags": []
   },
   "outputs": [
    {
     "data": {
      "text/latex": [
       "$\\displaystyle \\frac{d}{d t} \\omega{\\left(t \\right)}$"
      ],
      "text/plain": [
       "Derivative(omega(t), t)"
      ]
     },
     "metadata": {},
     "output_type": "display_data"
    },
    {
     "data": {
      "text/latex": [
       "$\\displaystyle \\frac{d^{2}}{d t^{2}} \\omega{\\left(t \\right)}$"
      ],
      "text/plain": [
       "Derivative(omega(t), (t, 2))"
      ]
     },
     "metadata": {},
     "output_type": "display_data"
    }
   ],
   "source": [
    "display(omega.diff(), omega.diff().diff())"
   ]
  },
  {
   "cell_type": "markdown",
   "id": "be2d5031",
   "metadata": {},
   "source": [
    "$\\omega$ に式を代入してしまうと、$\\omega$ 自身やその微分について、評価を保留して記号として参照できないため、次のように間接的な手法で値を求めていく:"
   ]
  },
  {
   "cell_type": "markdown",
   "id": "74e126da",
   "metadata": {},
   "source": [
    "定義式の左辺 $\\cot(\\theta(t))$ を微分すると $\\omega'$ : `omega.diff()` が得られる:"
   ]
  },
  {
   "cell_type": "code",
   "execution_count": 62,
   "id": "7a6d5ccf",
   "metadata": {
    "scrolled": true,
    "tags": []
   },
   "outputs": [
    {
     "data": {
      "text/latex": [
       "$\\displaystyle - \\frac{\\frac{d}{d t} \\theta{\\left(t \\right)}}{\\sin^{2}{\\left(\\theta{\\left(t \\right)} \\right)}}$"
      ],
      "text/plain": [
       "-Derivative(theta(t), t)/sin(theta(t))**2"
      ]
     },
     "execution_count": 62,
     "metadata": {},
     "output_type": "execute_result"
    }
   ],
   "source": [
    "sympy.simplify(cot(theta).diff())"
   ]
  },
  {
   "cell_type": "markdown",
   "id": "136d0db9",
   "metadata": {},
   "source": [
    "上式を `solve()`を使って $\\theta'$ : `theta.diff()` について解き、$\\omega'$ で表す:"
   ]
  },
  {
   "cell_type": "code",
   "execution_count": 63,
   "id": "7425f768",
   "metadata": {
    "tags": []
   },
   "outputs": [
    {
     "data": {
      "text/latex": [
       "$\\displaystyle - \\sin^{2}{\\left(\\theta{\\left(t \\right)} \\right)} \\frac{d}{d t} \\omega{\\left(t \\right)}$"
      ],
      "text/plain": [
       "-sin(theta(t))**2*Derivative(omega(t), t)"
      ]
     },
     "metadata": {},
     "output_type": "display_data"
    }
   ],
   "source": [
    "theta1, = solve(omega.diff() - sympy.simplify(cot(theta).diff()), theta.diff())\n",
    "display(theta1)"
   ]
  },
  {
   "cell_type": "markdown",
   "id": "1cb608cb",
   "metadata": {},
   "source": [
    "$\\theta' = - \\omega' \\sin^2(\\theta)$ が得られる。"
   ]
  },
  {
   "cell_type": "markdown",
   "id": "160b40cf",
   "metadata": {},
   "source": [
    "同じように $\\cot(\\theta(t))$ を二回微分すると $\\omega''$ : `omega.diff().diff()` が得られる:"
   ]
  },
  {
   "cell_type": "code",
   "execution_count": 64,
   "id": "3d42e15b",
   "metadata": {
    "scrolled": true,
    "tags": []
   },
   "outputs": [
    {
     "data": {
      "text/latex": [
       "$\\displaystyle \\frac{2 \\cot{\\left(\\theta{\\left(t \\right)} \\right)} \\left(\\frac{d}{d t} \\theta{\\left(t \\right)}\\right)^{2} - \\frac{d^{2}}{d t^{2}} \\theta{\\left(t \\right)}}{\\sin^{2}{\\left(\\theta{\\left(t \\right)} \\right)}}$"
      ],
      "text/plain": [
       "(2*cot(theta(t))*Derivative(theta(t), t)**2 - Derivative(theta(t), (t, 2)))/sin(theta(t))**2"
      ]
     },
     "execution_count": 64,
     "metadata": {},
     "output_type": "execute_result"
    }
   ],
   "source": [
    "sympy.simplify(cot(theta).diff().diff())"
   ]
  },
  {
   "cell_type": "markdown",
   "id": "1d5b954c",
   "metadata": {},
   "source": [
    "上式を $\\theta''$ : `theta.diff().diff()` について解き、$\\omega''$, $\\omega'$ で表す:"
   ]
  },
  {
   "cell_type": "code",
   "execution_count": 65,
   "id": "e4b760e5",
   "metadata": {
    "tags": []
   },
   "outputs": [
    {
     "data": {
      "text/latex": [
       "$\\displaystyle \\frac{d^{2}}{d t^{2}} \\theta{\\left(t \\right)}$"
      ],
      "text/plain": [
       "Derivative(theta(t), (t, 2))"
      ]
     },
     "execution_count": 65,
     "metadata": {},
     "output_type": "execute_result"
    }
   ],
   "source": [
    "theta.diff().diff()"
   ]
  },
  {
   "cell_type": "code",
   "execution_count": 66,
   "id": "d2e261f8",
   "metadata": {
    "tags": []
   },
   "outputs": [
    {
     "data": {
      "text/latex": [
       "$\\displaystyle - \\sin^{2}{\\left(\\theta{\\left(t \\right)} \\right)} \\frac{d^{2}}{d t^{2}} \\omega{\\left(t \\right)} + \\frac{2 \\left(\\frac{d}{d t} \\theta{\\left(t \\right)}\\right)^{2}}{\\tan{\\left(\\theta{\\left(t \\right)} \\right)}}$"
      ],
      "text/plain": [
       "-sin(theta(t))**2*Derivative(omega(t), (t, 2)) + 2*Derivative(theta(t), t)**2/tan(theta(t))"
      ]
     },
     "metadata": {},
     "output_type": "display_data"
    }
   ],
   "source": [
    "theta2, = solve(omega.diff().diff() - sympy.simplify(cot(theta).diff()).diff(), theta.diff().diff())\n",
    "display(theta2)"
   ]
  },
  {
   "cell_type": "code",
   "execution_count": 67,
   "id": "f38e7a67",
   "metadata": {
    "scrolled": true,
    "tags": []
   },
   "outputs": [
    {
     "data": {
      "text/latex": [
       "$\\displaystyle \\left(2 \\sin{\\left(\\theta{\\left(t \\right)} \\right)} \\cos{\\left(\\theta{\\left(t \\right)} \\right)} \\left(\\frac{d}{d t} \\omega{\\left(t \\right)}\\right)^{2} - \\frac{d^{2}}{d t^{2}} \\omega{\\left(t \\right)}\\right) \\sin^{2}{\\left(\\theta{\\left(t \\right)} \\right)}$"
      ],
      "text/plain": [
       "(2*sin(theta(t))*cos(theta(t))*Derivative(omega(t), t)**2 - Derivative(omega(t), (t, 2)))*sin(theta(t))**2"
      ]
     },
     "execution_count": 67,
     "metadata": {},
     "output_type": "execute_result"
    }
   ],
   "source": [
    "theta2 = sympy.simplify(theta2.subs(theta.diff(), theta1))\n",
    "theta2"
   ]
  },
  {
   "cell_type": "markdown",
   "id": "2750f40c",
   "metadata": {},
   "source": [
    "上で得られた $\\theta''$ : `theta2`, $\\theta'$ : `theta1` を測地線の方程式に代入する:"
   ]
  },
  {
   "cell_type": "markdown",
   "id": "9127d236",
   "metadata": {},
   "source": [
    "$$\n",
    "\\theta'' - 2 \\cot(\\theta) (\\theta')^2 - \\cos(\\theta)\\sin(\\theta) = 0\n",
    "$$"
   ]
  },
  {
   "cell_type": "code",
   "execution_count": 68,
   "id": "f2f6497e",
   "metadata": {
    "scrolled": true,
    "tags": []
   },
   "outputs": [
    {
     "data": {
      "text/latex": [
       "$\\displaystyle \\left(2 \\sin{\\left(\\theta{\\left(t \\right)} \\right)} \\cos{\\left(\\theta{\\left(t \\right)} \\right)} \\left(\\frac{d}{d t} \\omega{\\left(t \\right)}\\right)^{2} - \\frac{d^{2}}{d t^{2}} \\omega{\\left(t \\right)}\\right) \\sin^{2}{\\left(\\theta{\\left(t \\right)} \\right)} - 2 \\sin^{4}{\\left(\\theta{\\left(t \\right)} \\right)} \\cot{\\left(\\theta{\\left(t \\right)} \\right)} \\left(\\frac{d}{d t} \\omega{\\left(t \\right)}\\right)^{2} - \\sin{\\left(\\theta{\\left(t \\right)} \\right)} \\cos{\\left(\\theta{\\left(t \\right)} \\right)}$"
      ],
      "text/plain": [
       "(2*sin(theta(t))*cos(theta(t))*Derivative(omega(t), t)**2 - Derivative(omega(t), (t, 2)))*sin(theta(t))**2 - 2*sin(theta(t))**4*cot(theta(t))*Derivative(omega(t), t)**2 - sin(theta(t))*cos(theta(t))"
      ]
     },
     "execution_count": 68,
     "metadata": {},
     "output_type": "execute_result"
    }
   ],
   "source": [
    "theta2 - 2 * cot(theta) * (theta1)**2 - cos(theta) * sin(theta)"
   ]
  },
  {
   "cell_type": "markdown",
   "id": "1fc3aff8",
   "metadata": {},
   "source": [
    "式の簡略化に先立って、三角関数の倍角公式の適用を避けるため $\\sin^2(\\theta)$ で割っておく:"
   ]
  },
  {
   "cell_type": "code",
   "execution_count": 69,
   "id": "6a4bb109",
   "metadata": {
    "tags": []
   },
   "outputs": [
    {
     "data": {
      "text/latex": [
       "$\\displaystyle - 2 \\sin^{2}{\\left(\\theta{\\left(t \\right)} \\right)} \\cot{\\left(\\theta{\\left(t \\right)} \\right)} \\left(\\frac{d}{d t} \\omega{\\left(t \\right)}\\right)^{2} + 2 \\sin{\\left(\\theta{\\left(t \\right)} \\right)} \\cos{\\left(\\theta{\\left(t \\right)} \\right)} \\left(\\frac{d}{d t} \\omega{\\left(t \\right)}\\right)^{2} - \\frac{d^{2}}{d t^{2}} \\omega{\\left(t \\right)} - \\frac{\\cos{\\left(\\theta{\\left(t \\right)} \\right)}}{\\sin{\\left(\\theta{\\left(t \\right)} \\right)}}$"
      ],
      "text/plain": [
       "-2*sin(theta(t))**2*cot(theta(t))*Derivative(omega(t), t)**2 + 2*sin(theta(t))*cos(theta(t))*Derivative(omega(t), t)**2 - Derivative(omega(t), (t, 2)) - cos(theta(t))/sin(theta(t))"
      ]
     },
     "execution_count": 69,
     "metadata": {},
     "output_type": "execute_result"
    }
   ],
   "source": [
    "sympy.expand(_ / sin(theta)**2)"
   ]
  },
  {
   "cell_type": "code",
   "execution_count": 70,
   "id": "3b6e89c2",
   "metadata": {
    "tags": []
   },
   "outputs": [
    {
     "data": {
      "text/latex": [
       "$\\displaystyle - \\frac{d^{2}}{d t^{2}} \\omega{\\left(t \\right)} - \\frac{1}{\\tan{\\left(\\theta{\\left(t \\right)} \\right)}}$"
      ],
      "text/plain": [
       "-Derivative(omega(t), (t, 2)) - 1/tan(theta(t))"
      ]
     },
     "execution_count": 70,
     "metadata": {},
     "output_type": "execute_result"
    }
   ],
   "source": [
    "sympy.simplify(_)"
   ]
  },
  {
   "cell_type": "markdown",
   "id": "af35167f",
   "metadata": {},
   "source": [
    "$\\omega(t) = \\cot(\\theta(t))$ と置いていたので、測地線の方程式は次の微分方程式と等価になる:"
   ]
  },
  {
   "cell_type": "markdown",
   "id": "279c1519",
   "metadata": {},
   "source": [
    "$$\n",
    "\\omega''(t) + \\omega(t) = 0\n",
    "$$"
   ]
  },
  {
   "cell_type": "markdown",
   "id": "ad63a527",
   "metadata": {},
   "source": [
    "微分方程式を解く:"
   ]
  },
  {
   "cell_type": "code",
   "execution_count": 71,
   "id": "ecdd67b7",
   "metadata": {
    "tags": []
   },
   "outputs": [
    {
     "data": {
      "text/latex": [
       "$\\displaystyle \\omega{\\left(t \\right)}$"
      ],
      "text/plain": [
       "omega(t)"
      ]
     },
     "execution_count": 71,
     "metadata": {},
     "output_type": "execute_result"
    }
   ],
   "source": [
    "t = Symbol('t')\n",
    "omega = Function('omega')(t)\n",
    "omega"
   ]
  },
  {
   "cell_type": "code",
   "execution_count": 72,
   "id": "74692c43",
   "metadata": {
    "tags": []
   },
   "outputs": [
    {
     "data": {
      "text/latex": [
       "$\\displaystyle \\frac{d^{2}}{d t^{2}} \\omega{\\left(t \\right)}$"
      ],
      "text/plain": [
       "Derivative(omega(t), (t, 2))"
      ]
     },
     "execution_count": 72,
     "metadata": {},
     "output_type": "execute_result"
    }
   ],
   "source": [
    "omega.diff().diff()"
   ]
  },
  {
   "cell_type": "code",
   "execution_count": 73,
   "id": "fd8e7503",
   "metadata": {
    "tags": []
   },
   "outputs": [
    {
     "data": {
      "text/latex": [
       "$\\displaystyle \\omega{\\left(t \\right)} = C_{1} \\sin{\\left(t \\right)} + C_{2} \\cos{\\left(t \\right)}$"
      ],
      "text/plain": [
       "Eq(omega(t), C1*sin(t) + C2*cos(t))"
      ]
     },
     "execution_count": 73,
     "metadata": {},
     "output_type": "execute_result"
    }
   ],
   "source": [
    "from sympy.solvers import solve, dsolve\n",
    "dsolve(omega.diff().diff() + omega, omega)"
   ]
  },
  {
   "cell_type": "markdown",
   "id": "41487f33",
   "metadata": {},
   "source": [
    "球面上の大円を表す方程式となる。"
   ]
  },
  {
   "cell_type": "code",
   "execution_count": null,
   "id": "0886c2e3",
   "metadata": {},
   "outputs": [],
   "source": []
  },
  {
   "cell_type": "code",
   "execution_count": null,
   "id": "98d555f3",
   "metadata": {},
   "outputs": [],
   "source": []
  },
  {
   "cell_type": "code",
   "execution_count": null,
   "id": "44c41659",
   "metadata": {},
   "outputs": [],
   "source": []
  },
  {
   "cell_type": "markdown",
   "id": "dccd3569",
   "metadata": {},
   "source": [
    "* [scipy.spatial.geometric_slerp — SciPy v1.8.1 Manual](https://docs.scipy.org/doc/scipy/reference/generated/scipy.spatial.geometric_slerp.html#re44bd46832d9-1)"
   ]
  },
  {
   "cell_type": "code",
   "execution_count": 151,
   "id": "980b5353",
   "metadata": {},
   "outputs": [
    {
     "data": {
      "image/png": "[encoded data removed]",
      "text/plain": [
       "<Figure size 432x288 with 1 Axes>"
      ]
     },
     "metadata": {
      "needs_background": "light"
     },
     "output_type": "display_data"
    }
   ],
   "source": [
    "from scipy.spatial import geometric_slerp\n",
    "import matplotlib.pyplot as plt\n",
    "from mpl_toolkits.mplot3d import proj3d\n",
    "\n",
    "fig = plt.figure()\n",
    "ax = fig.add_subplot(111, projection='3d')\n",
    "\n",
    "u = np.linspace(0, 2 * np.pi, 100)\n",
    "v = np.linspace(0, np.pi, 100)\n",
    "x = np.outer(np.cos(u), np.sin(v))\n",
    "y = np.outer(np.sin(u), np.sin(v))\n",
    "z = np.outer(np.ones(np.size(u)), np.cos(v))\n",
    "ax.plot_surface(x, y, z, color='y', alpha=0.1)\n",
    "\n",
    "start = np.array([1, 0, 0])\n",
    "end = np.array([0, 0, 1])\n",
    "t_vals = np.linspace(0, 1, 200)\n",
    "result = geometric_slerp(start,\n",
    "                         end,\n",
    "                         t_vals)\n",
    "ax.plot(result[...,0],\n",
    "        result[...,1],\n",
    "        result[...,2],\n",
    "        c='k')\n",
    "#ax.set_aspect('equal')\n",
    "plt.show()"
   ]
  },
  {
   "cell_type": "code",
   "execution_count": null,
   "id": "16503bb2",
   "metadata": {},
   "outputs": [],
   "source": []
  }
 ],
 "metadata": {
  "kernelspec": {
   "display_name": "Python 3 (ipykernel)",
   "language": "python",
   "name": "python3"
  },
  "language_info": {
   "codemirror_mode": {
    "name": "ipython",
    "version": 3
   },
   "file_extension": ".py",
   "mimetype": "text/x-python",
   "name": "python",
   "nbconvert_exporter": "python",
   "pygments_lexer": "ipython3",
   "version": "3.11.8"
  },
  "toc": {
   "base_numbering": 1,
   "nav_menu": {},
   "number_sections": true,
   "sideBar": true,
   "skip_h1_title": false,
   "title_cell": "Table of Contents",
   "title_sidebar": "Contents",
   "toc_cell": false,
   "toc_position": {},
   "toc_section_display": true,
   "toc_window_display": false
  },
  "widgets": {
   "application/vnd.jupyter.widget-state+json": {
    "state": {},
    "version_major": 2,
    "version_minor": 0
   }
  }
 },
 "nbformat": 4,
 "nbformat_minor": 5
}
