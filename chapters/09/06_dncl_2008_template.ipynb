{
 "cells": [
  {
   "cell_type": "markdown",
   "id": "59d8a377-3e44-4571-80db-4aeba8903356",
   "metadata": {},
   "source": [
    "# 2008年度 大学入学共通テスト 情報関係基礎から"
   ]
  },
  {
   "cell_type": "markdown",
   "id": "47866372-7a73-461a-80da-a11b3de7ae98",
   "metadata": {},
   "source": [
    "## 問2\n",
    "\n",
    "次の文章の空欄【エ】〜【ケ】に入れるのに最も適切な物を、<s>次ページの</s>解答群のうちから一つづつ選べ。"
   ]
  },
  {
   "cell_type": "markdown",
   "id": "f4ddf75a-ce75-45bf-9487-bcd86dd9af04",
   "metadata": {},
   "source": [
    "図2: 「配列の要素を初期化する手続き」\n",
    "```\n",
    "(01) Namae[1] ← 「はるこ」，Tokuten[1] ← 73 \n",
    "(02) Namae[2] ← 「なつお」，Tokuten[2] ← 77\n",
    "(03) Namae[3] ← 「あきよ」，Tokuten[3] ← 81 \n",
    "(04) Namae[4] ← 「ふゆき」，Tokuten[4] ← 68\n",
    "```"
   ]
  },
  {
   "cell_type": "markdown",
   "id": "49d914a3-9048-4eee-96b7-5eb8044d89bf",
   "metadata": {},
   "source": [
    "図3: 「配列の要素を入れ替える手続き」\n",
    "```\n",
    "(01) n ← Namae[i]\n",
    "(02) 【エ】 ← 【オ】\n",
    "(03) Namae[i+1] ← n \n",
    "(04) t ← 【カ】\n",
    "(05) 【カ】 ← Tokuten[i+1]\n",
    "(06) Tokuten[i+1] ← 【キ】\n",
    "```"
   ]
  },
  {
   "cell_type": "markdown",
   "id": "725fc86f-880b-40cc-947e-d91e0f07bfce",
   "metadata": {},
   "source": [
    "図4: 「並べ替えの手続き」\n",
    "```\n",
    "(01) ~ (04) (先に示した「配列の要素を初期化する手続き」) \n",
    "(05)        jを4-1から1まで1ずつ減らしながら，\n",
    "(06)        ｜ iを1から【ク】まで1ずつ増やしながら，\n",
    "(07)        ｜ ｜ もしTokuten[i] < 【ケ】 ならば\n",
    "(08) ~ (13) ｜ ｜ ｜ (先に示した「配列の要素を入れ替える手続き」) \n",
    "(14)        ｜ ｜ を実行する\n",
    "(15)        ｜ を繰り返す\n",
    "(16)        を繰り返す\n",
    "```"
   ]
  },
  {
   "cell_type": "markdown",
   "id": "865267eb-47be-4681-a6ca-7b7b76adbdab",
   "metadata": {},
   "source": [
    "```\n",
    "【エ】から【ケ】の解答群\n",
    "\n",
    "0. `Name[i]`\n",
    "1. `Name[j]`\n",
    "2. `Name[i+1]`\n",
    "3. `Tokuten[i]`\n",
    "4. `Tokuten[j]`\n",
    "5. `Tokuten[i+1]`\n",
    "6. `i+1`\n",
    "7. `n`\n",
    "8. `t`\n",
    "9. `j`\n",
    "10. `j+1`\n",
    "11. `4`\n",
    "```"
   ]
  },
  {
   "cell_type": "markdown",
   "id": "7abe35f6-3f28-405c-82fb-6955bceb7830",
   "metadata": {},
   "source": [
    "## 問3"
   ]
  },
  {
   "cell_type": "markdown",
   "id": "b5413866-ec05-468a-95e3-1151bb792970",
   "metadata": {},
   "source": [
    "次の文章の空欄【シ】・【ス】に入れるのに最も適切な物を、<s>次ページの</s>解答群のうちから一つづつ選べ。"
   ]
  },
  {
   "cell_type": "markdown",
   "id": "3f22ec7f-ae69-48f6-ba50-68e4ae1b1179",
   "metadata": {},
   "source": [
    "図6: 「比較回数を減らした並べ替えの手続き」\n",
    "```\n",
    "(01) ~ (04) (先に示した「配列の要素を初期化する手続き」) \n",
    "(05)        j ← 【シ】 - 1\n",
    "(06)        繰り返し，\n",
    "(07)        ｜ saigo ← 0\n",
    "(08)        ｜ iを1から【ク】まで1ずつ増やしながら，\n",
    "(09)        ｜ ｜ もしTokuten[i] < 【ケ】 ならば\n",
    "(10) ~ (15) ｜ ｜ ｜ (先に示した「配列の要素を入れ替える手続き」) \n",
    "(16)        ｜ ｜ ｜ saigo ← 【ス】\n",
    "(17)        ｜ ｜ を実行する\n",
    "(18)        ｜ を繰り返す\n",
    "(19)        ｜ j ← saigo - 1\n",
    "(20)        を，saigo ≤ 1になるまで実行する\n",
    "```"
   ]
  },
  {
   "cell_type": "markdown",
   "id": "4d50813c-ebfb-4da7-ad12-1df22c98460c",
   "metadata": {},
   "source": [
    "【シ】と【ス】の解答群\n",
    "\n",
    "0. `0`\n",
    "1. `1`\n",
    "2. `2`\n",
    "3. `3`\n",
    "4. `4`\n",
    "5. `i`\n",
    "6. `j`\n",
    "7. `i+1`\n",
    "8. `saigo+1`\n",
    "9. `Tokuten[i]`"
   ]
  },
  {
   "cell_type": "code",
   "execution_count": null,
   "id": "99e45dac-fc67-419a-8a6e-0d7e5ebe253f",
   "metadata": {},
   "outputs": [],
   "source": []
  }
 ],
 "metadata": {
  "kernelspec": {
   "display_name": "Python 3 (ipykernel)",
   "language": "python",
   "name": "python3"
  },
  "language_info": {
   "codemirror_mode": {
    "name": "ipython",
    "version": 3
   },
   "file_extension": ".py",
   "mimetype": "text/x-python",
   "name": "python",
   "nbconvert_exporter": "python",
   "pygments_lexer": "ipython3",
   "version": "3.11.8"
  }
 },
 "nbformat": 4,
 "nbformat_minor": 5
}
