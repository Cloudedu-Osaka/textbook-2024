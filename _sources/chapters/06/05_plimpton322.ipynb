{
 "cells": [
  {
   "cell_type": "markdown",
   "id": "c46a45a9",
   "metadata": {},
   "source": [
    "# Plimton 322 の解読 (1)"
   ]
  },
  {
   "cell_type": "markdown",
   "id": "808cfef7",
   "metadata": {},
   "source": [
    "## 粘土板に楔形文字を書く\n",
    "* [Writing Cuneiform (video) | Khan Academy](https://www.khanacademy.org/humanities/ancient-art-civilizations/ancient-near-east1/the-ancient-near-east-an-introduction/v/cuneiform)"
   ]
  },
  {
   "cell_type": "markdown",
   "id": "cf0a8330",
   "metadata": {},
   "source": [
    "## Plimpton 322 の外観\n",
    "* [Mathematicians Crack Mystery of Babylonian Clay Tablet ‘Plimpton 322’ | Archaeology, Mathematics | Sci-News.com](http://www.sci-news.com/archaeology/babylonian-clay-tablet-plimpton-322-05163.html)"
   ]
  },
  {
   "cell_type": "markdown",
   "id": "b44cba8d",
   "metadata": {},
   "source": [
    "![fig-2](./fig-2.jpeg)"
   ]
  },
  {
   "cell_type": "markdown",
   "id": "2d435ba0",
   "metadata": {},
   "source": [
    "![fig-3](./fig-3.jpeg)"
   ]
  },
  {
   "cell_type": "markdown",
   "id": "d56eb925",
   "metadata": {},
   "source": [
    "## Plimpton 322 の数表を読み込む\n",
    "* [Plimpton 322 - Wikipedia](https://en.wikipedia.org/wiki/Plimpton_322)\n",
    "  - 数表-1: 60進法\n",
    "    - 異なる推定値を括弧で示し、1番目と4番目のコラムのうち内容が推定される破損部分を斜体で示し、6つの推定誤りを太字で示し、その下の角括弧に一般に提案されている訂正を示す\n",
    "    - 3列目の53を2倍の値である1 46に置き換えるか、2列目の56を半分の値である28に置き換えるか\n",
    "  - 数表-2: 10進法\n",
    "    - 11行目の2列目と3列目には、15行目を除く他の行とは異なり、共通因子が含まれている。$45$ と$1 15$はバビロニア数学では$3/4$と$5/4$と解釈される可能性があり、これはおなじみの標準的な直角三角形 $(3,4,5)$ を縮小した$(0.75, 1, 1.25)$ と一致するものです\n",
    "    - 15行目も2列目が28、3列目が53と修正される可能性がある"
   ]
  },
  {
   "cell_type": "code",
   "execution_count": 1,
   "id": "f173f34a-87ab-4ebb-aea9-48f7bebebc7e",
   "metadata": {},
   "outputs": [
    {
     "name": "stdout",
     "output_type": "stream",
     "text": [
      "Requirement already satisfied: lxml in /opt/conda/lib/python3.11/site-packages (5.2.2)\n"
     ]
    }
   ],
   "source": [
    "!pip install -U lxml"
   ]
  },
  {
   "cell_type": "code",
   "execution_count": 2,
   "id": "18a6cc1f",
   "metadata": {
    "tags": []
   },
   "outputs": [],
   "source": [
    "import pandas as pd"
   ]
  },
  {
   "cell_type": "code",
   "execution_count": 3,
   "id": "9ddc7339",
   "metadata": {
    "tags": []
   },
   "outputs": [
    {
     "data": {
      "text/html": [
       "<div>\n",
       "<style scoped>\n",
       "    .dataframe tbody tr th:only-of-type {\n",
       "        vertical-align: middle;\n",
       "    }\n",
       "\n",
       "    .dataframe tbody tr th {\n",
       "        vertical-align: top;\n",
       "    }\n",
       "\n",
       "    .dataframe thead th {\n",
       "        text-align: right;\n",
       "    }\n",
       "</style>\n",
       "<table border=\"1\" class=\"dataframe\">\n",
       "  <thead>\n",
       "    <tr style=\"text-align: right;\">\n",
       "      <th></th>\n",
       "      <th>Plimpton 322</th>\n",
       "      <th>Plimpton 322.1</th>\n",
       "    </tr>\n",
       "  </thead>\n",
       "  <tbody>\n",
       "    <tr>\n",
       "      <th>0</th>\n",
       "      <td>The Plimpton 322 clay tablet, with numbers wri...</td>\n",
       "      <td>The Plimpton 322 clay tablet, with numbers wri...</td>\n",
       "    </tr>\n",
       "    <tr>\n",
       "      <th>1</th>\n",
       "      <td>Height</td>\n",
       "      <td>9 cm</td>\n",
       "    </tr>\n",
       "    <tr>\n",
       "      <th>2</th>\n",
       "      <td>Width</td>\n",
       "      <td>13 cm</td>\n",
       "    </tr>\n",
       "    <tr>\n",
       "      <th>3</th>\n",
       "      <td>Created</td>\n",
       "      <td>c. 1800 BC</td>\n",
       "    </tr>\n",
       "    <tr>\n",
       "      <th>4</th>\n",
       "      <td>Present location</td>\n",
       "      <td>New York City, New York, United States</td>\n",
       "    </tr>\n",
       "  </tbody>\n",
       "</table>\n",
       "</div>"
      ],
      "text/plain": [
       "                                        Plimpton 322  \\\n",
       "0  The Plimpton 322 clay tablet, with numbers wri...   \n",
       "1                                             Height   \n",
       "2                                              Width   \n",
       "3                                            Created   \n",
       "4                                   Present location   \n",
       "\n",
       "                                      Plimpton 322.1  \n",
       "0  The Plimpton 322 clay tablet, with numbers wri...  \n",
       "1                                               9 cm  \n",
       "2                                              13 cm  \n",
       "3                                         c. 1800 BC  \n",
       "4             New York City, New York, United States  "
      ]
     },
     "execution_count": 3,
     "metadata": {},
     "output_type": "execute_result"
    }
   ],
   "source": [
    "dfs=pd.read_html('https://en.wikipedia.org/wiki/Plimpton_322')\n",
    "dfs[0]"
   ]
  },
  {
   "cell_type": "code",
   "execution_count": 4,
   "id": "b423d7da",
   "metadata": {
    "tags": []
   },
   "outputs": [
    {
     "data": {
      "text/html": [
       "<div>\n",
       "<style scoped>\n",
       "    .dataframe tbody tr th:only-of-type {\n",
       "        vertical-align: middle;\n",
       "    }\n",
       "\n",
       "    .dataframe tbody tr th {\n",
       "        vertical-align: top;\n",
       "    }\n",
       "\n",
       "    .dataframe thead th {\n",
       "        text-align: right;\n",
       "    }\n",
       "</style>\n",
       "<table border=\"1\" class=\"dataframe\">\n",
       "  <thead>\n",
       "    <tr style=\"text-align: right;\">\n",
       "      <th></th>\n",
       "      <th>takiltum of the diagonal  from which 1 is torn out so that the width comes up</th>\n",
       "      <th>ÍB.SI8 of the  width</th>\n",
       "      <th>ÍB.SI8 of the  diagonal</th>\n",
       "      <th>its  line</th>\n",
       "    </tr>\n",
       "  </thead>\n",
       "  <tbody>\n",
       "    <tr>\n",
       "      <th>0</th>\n",
       "      <td>(1) 59 00 15</td>\n",
       "      <td>1 59</td>\n",
       "      <td>2 49</td>\n",
       "      <td>1st</td>\n",
       "    </tr>\n",
       "    <tr>\n",
       "      <th>1</th>\n",
       "      <td>(1) 56 56 58 14 56 15  (1) 56 56 58 14 [50 06] 15</td>\n",
       "      <td>56 07</td>\n",
       "      <td>3 12 01  [1 20 25]</td>\n",
       "      <td>2nd</td>\n",
       "    </tr>\n",
       "    <tr>\n",
       "      <th>2</th>\n",
       "      <td>(1) 55 07 41 15 33 45</td>\n",
       "      <td>1 16 41</td>\n",
       "      <td>1 50 49</td>\n",
       "      <td>3rd</td>\n",
       "    </tr>\n",
       "    <tr>\n",
       "      <th>3</th>\n",
       "      <td>(1) 53 10 29 32 52 16</td>\n",
       "      <td>3 31 49</td>\n",
       "      <td>5 09 01</td>\n",
       "      <td>4th</td>\n",
       "    </tr>\n",
       "    <tr>\n",
       "      <th>4</th>\n",
       "      <td>(1) 48 54 01 40</td>\n",
       "      <td>1 05</td>\n",
       "      <td>1 37</td>\n",
       "      <td>5th</td>\n",
       "    </tr>\n",
       "    <tr>\n",
       "      <th>5</th>\n",
       "      <td>(1) 47 06 41 40</td>\n",
       "      <td>5 19</td>\n",
       "      <td>8 01</td>\n",
       "      <td>6th</td>\n",
       "    </tr>\n",
       "    <tr>\n",
       "      <th>6</th>\n",
       "      <td>(1) 43 11 56 28 26 40</td>\n",
       "      <td>38 11</td>\n",
       "      <td>59 01</td>\n",
       "      <td>7th</td>\n",
       "    </tr>\n",
       "    <tr>\n",
       "      <th>7</th>\n",
       "      <td>(1) 41 33 59 03 45  (1) 41 33 [45 14] 03 45</td>\n",
       "      <td>13 19</td>\n",
       "      <td>20 49</td>\n",
       "      <td>8th</td>\n",
       "    </tr>\n",
       "    <tr>\n",
       "      <th>8</th>\n",
       "      <td>(1) 38 33 36 36</td>\n",
       "      <td>9 01  [8] 01</td>\n",
       "      <td>12 49</td>\n",
       "      <td>9th</td>\n",
       "    </tr>\n",
       "    <tr>\n",
       "      <th>9</th>\n",
       "      <td>(1) 35 10 02 28 27 24 26 40</td>\n",
       "      <td>1 22 41</td>\n",
       "      <td>2 16 01</td>\n",
       "      <td>10th</td>\n",
       "    </tr>\n",
       "    <tr>\n",
       "      <th>10</th>\n",
       "      <td>(1) 33 45</td>\n",
       "      <td>45</td>\n",
       "      <td>1 15</td>\n",
       "      <td>11th</td>\n",
       "    </tr>\n",
       "    <tr>\n",
       "      <th>11</th>\n",
       "      <td>(1) 29 21 54 02 15</td>\n",
       "      <td>27 59</td>\n",
       "      <td>48 49</td>\n",
       "      <td>12th</td>\n",
       "    </tr>\n",
       "    <tr>\n",
       "      <th>12</th>\n",
       "      <td>(1) 27 00 03 45</td>\n",
       "      <td>7 12 01  [2 41]</td>\n",
       "      <td>4 49</td>\n",
       "      <td>13th</td>\n",
       "    </tr>\n",
       "    <tr>\n",
       "      <th>13</th>\n",
       "      <td>(1) 25 48 51 35 06 40</td>\n",
       "      <td>29 31</td>\n",
       "      <td>53 49</td>\n",
       "      <td>14th</td>\n",
       "    </tr>\n",
       "    <tr>\n",
       "      <th>14</th>\n",
       "      <td>(1) 23 13 46 40</td>\n",
       "      <td>56  56  [28] (alt.)</td>\n",
       "      <td>53  [1 46]  53 (alt.)</td>\n",
       "      <td>15th</td>\n",
       "    </tr>\n",
       "  </tbody>\n",
       "</table>\n",
       "</div>"
      ],
      "text/plain": [
       "   takiltum of the diagonal  from which 1 is torn out so that the width comes up  \\\n",
       "0                                        (1) 59 00 15                              \n",
       "1   (1) 56 56 58 14 56 15  (1) 56 56 58 14 [50 06] 15                              \n",
       "2                               (1) 55 07 41 15 33 45                              \n",
       "3                               (1) 53 10 29 32 52 16                              \n",
       "4                                     (1) 48 54 01 40                              \n",
       "5                                     (1) 47 06 41 40                              \n",
       "6                               (1) 43 11 56 28 26 40                              \n",
       "7         (1) 41 33 59 03 45  (1) 41 33 [45 14] 03 45                              \n",
       "8                                     (1) 38 33 36 36                              \n",
       "9                         (1) 35 10 02 28 27 24 26 40                              \n",
       "10                                          (1) 33 45                              \n",
       "11                                 (1) 29 21 54 02 15                              \n",
       "12                                    (1) 27 00 03 45                              \n",
       "13                              (1) 25 48 51 35 06 40                              \n",
       "14                                    (1) 23 13 46 40                              \n",
       "\n",
       "   ÍB.SI8 of the  width ÍB.SI8 of the  diagonal its  line  \n",
       "0                  1 59                    2 49       1st  \n",
       "1                 56 07      3 12 01  [1 20 25]       2nd  \n",
       "2               1 16 41                 1 50 49       3rd  \n",
       "3               3 31 49                 5 09 01       4th  \n",
       "4                  1 05                    1 37       5th  \n",
       "5                  5 19                    8 01       6th  \n",
       "6                 38 11                   59 01       7th  \n",
       "7                 13 19                   20 49       8th  \n",
       "8          9 01  [8] 01                   12 49       9th  \n",
       "9               1 22 41                 2 16 01      10th  \n",
       "10                   45                    1 15      11th  \n",
       "11                27 59                   48 49      12th  \n",
       "12      7 12 01  [2 41]                    4 49      13th  \n",
       "13                29 31                   53 49      14th  \n",
       "14  56  56  [28] (alt.)   53  [1 46]  53 (alt.)      15th  "
      ]
     },
     "execution_count": 4,
     "metadata": {},
     "output_type": "execute_result"
    }
   ],
   "source": [
    "dfs[1]"
   ]
  },
  {
   "cell_type": "code",
   "execution_count": 7,
   "id": "4f804123-f002-47b7-9f60-26802fda3a0e",
   "metadata": {
    "tags": []
   },
   "outputs": [
    {
     "data": {
      "text/html": [
       "<div>\n",
       "<style scoped>\n",
       "    .dataframe tbody tr th:only-of-type {\n",
       "        vertical-align: middle;\n",
       "    }\n",
       "\n",
       "    .dataframe tbody tr th {\n",
       "        vertical-align: top;\n",
       "    }\n",
       "\n",
       "    .dataframe thead th {\n",
       "        text-align: right;\n",
       "    }\n",
       "</style>\n",
       "<table border=\"1\" class=\"dataframe\">\n",
       "  <thead>\n",
       "    <tr style=\"text-align: right;\">\n",
       "      <th></th>\n",
       "      <th>or</th>\n",
       "      <th>Short Side</th>\n",
       "      <th>Diagonal</th>\n",
       "      <th>Row #</th>\n",
       "    </tr>\n",
       "  </thead>\n",
       "  <tbody>\n",
       "    <tr>\n",
       "      <th>0</th>\n",
       "      <td>(1).9834028</td>\n",
       "      <td>119</td>\n",
       "      <td>169</td>\n",
       "      <td>1</td>\n",
       "    </tr>\n",
       "    <tr>\n",
       "      <th>1</th>\n",
       "      <td>(1).9491586</td>\n",
       "      <td>3367</td>\n",
       "      <td>4825</td>\n",
       "      <td>2</td>\n",
       "    </tr>\n",
       "    <tr>\n",
       "      <th>2</th>\n",
       "      <td>(1).9188021</td>\n",
       "      <td>4601</td>\n",
       "      <td>6649</td>\n",
       "      <td>3</td>\n",
       "    </tr>\n",
       "    <tr>\n",
       "      <th>3</th>\n",
       "      <td>(1).8862479</td>\n",
       "      <td>12709</td>\n",
       "      <td>18541</td>\n",
       "      <td>4</td>\n",
       "    </tr>\n",
       "    <tr>\n",
       "      <th>4</th>\n",
       "      <td>(1).8150077</td>\n",
       "      <td>65</td>\n",
       "      <td>97</td>\n",
       "      <td>5</td>\n",
       "    </tr>\n",
       "    <tr>\n",
       "      <th>5</th>\n",
       "      <td>(1).7851929</td>\n",
       "      <td>319</td>\n",
       "      <td>481</td>\n",
       "      <td>6</td>\n",
       "    </tr>\n",
       "    <tr>\n",
       "      <th>6</th>\n",
       "      <td>(1).7199837</td>\n",
       "      <td>2291</td>\n",
       "      <td>3541</td>\n",
       "      <td>7</td>\n",
       "    </tr>\n",
       "    <tr>\n",
       "      <th>7</th>\n",
       "      <td>(1).6927094</td>\n",
       "      <td>799</td>\n",
       "      <td>1249</td>\n",
       "      <td>8</td>\n",
       "    </tr>\n",
       "    <tr>\n",
       "      <th>8</th>\n",
       "      <td>(1).6426694</td>\n",
       "      <td>481</td>\n",
       "      <td>769</td>\n",
       "      <td>9</td>\n",
       "    </tr>\n",
       "    <tr>\n",
       "      <th>9</th>\n",
       "      <td>(1).5861226</td>\n",
       "      <td>4961</td>\n",
       "      <td>8161</td>\n",
       "      <td>10</td>\n",
       "    </tr>\n",
       "    <tr>\n",
       "      <th>10</th>\n",
       "      <td>(1).5625</td>\n",
       "      <td>45*</td>\n",
       "      <td>75*</td>\n",
       "      <td>11</td>\n",
       "    </tr>\n",
       "    <tr>\n",
       "      <th>11</th>\n",
       "      <td>(1).4894168</td>\n",
       "      <td>1679</td>\n",
       "      <td>2929</td>\n",
       "      <td>12</td>\n",
       "    </tr>\n",
       "    <tr>\n",
       "      <th>12</th>\n",
       "      <td>(1).4500174</td>\n",
       "      <td>161</td>\n",
       "      <td>289</td>\n",
       "      <td>13</td>\n",
       "    </tr>\n",
       "    <tr>\n",
       "      <th>13</th>\n",
       "      <td>(1).4302388</td>\n",
       "      <td>1771</td>\n",
       "      <td>3229</td>\n",
       "      <td>14</td>\n",
       "    </tr>\n",
       "    <tr>\n",
       "      <th>14</th>\n",
       "      <td>(1).3871605</td>\n",
       "      <td>56*</td>\n",
       "      <td>106*</td>\n",
       "      <td>15</td>\n",
       "    </tr>\n",
       "  </tbody>\n",
       "</table>\n",
       "</div>"
      ],
      "text/plain": [
       "             or Short Side Diagonal  Row #\n",
       "0   (1).9834028        119      169      1\n",
       "1   (1).9491586       3367     4825      2\n",
       "2   (1).9188021       4601     6649      3\n",
       "3   (1).8862479      12709    18541      4\n",
       "4   (1).8150077         65       97      5\n",
       "5   (1).7851929        319      481      6\n",
       "6   (1).7199837       2291     3541      7\n",
       "7   (1).6927094        799     1249      8\n",
       "8   (1).6426694        481      769      9\n",
       "9   (1).5861226       4961     8161     10\n",
       "10     (1).5625        45*      75*     11\n",
       "11  (1).4894168       1679     2929     12\n",
       "12  (1).4500174        161      289     13\n",
       "13  (1).4302388       1771     3229     14\n",
       "14  (1).3871605        56*     106*     15"
      ]
     },
     "execution_count": 7,
     "metadata": {},
     "output_type": "execute_result"
    }
   ],
   "source": [
    "dfs[2]"
   ]
  },
  {
   "cell_type": "markdown",
   "id": "1da62afd",
   "metadata": {},
   "source": [
    "### 11行目に着目する"
   ]
  },
  {
   "cell_type": "code",
   "execution_count": 5,
   "id": "473463bd",
   "metadata": {
    "tags": []
   },
   "outputs": [
    {
     "data": {
      "text/html": [
       "<div>\n",
       "<style scoped>\n",
       "    .dataframe tbody tr th:only-of-type {\n",
       "        vertical-align: middle;\n",
       "    }\n",
       "\n",
       "    .dataframe tbody tr th {\n",
       "        vertical-align: top;\n",
       "    }\n",
       "\n",
       "    .dataframe thead th {\n",
       "        text-align: right;\n",
       "    }\n",
       "</style>\n",
       "<table border=\"1\" class=\"dataframe\">\n",
       "  <thead>\n",
       "    <tr style=\"text-align: right;\">\n",
       "      <th></th>\n",
       "      <th>takiltum of the diagonal  from which 1 is torn out so that the width comes up</th>\n",
       "      <th>ÍB.SI8 of the  width</th>\n",
       "      <th>ÍB.SI8 of the  diagonal</th>\n",
       "      <th>its  line</th>\n",
       "    </tr>\n",
       "  </thead>\n",
       "  <tbody>\n",
       "    <tr>\n",
       "      <th>10</th>\n",
       "      <td>(1) 33 45</td>\n",
       "      <td>45</td>\n",
       "      <td>1 15</td>\n",
       "      <td>11th</td>\n",
       "    </tr>\n",
       "  </tbody>\n",
       "</table>\n",
       "</div>"
      ],
      "text/plain": [
       "   takiltum of the diagonal  from which 1 is torn out so that the width comes up  \\\n",
       "10                                          (1) 33 45                              \n",
       "\n",
       "   ÍB.SI8 of the  width ÍB.SI8 of the  diagonal its  line  \n",
       "10                   45                    1 15      11th  "
      ]
     },
     "execution_count": 5,
     "metadata": {},
     "output_type": "execute_result"
    }
   ],
   "source": [
    "dfs[1].take([10])"
   ]
  },
  {
   "cell_type": "code",
   "execution_count": 6,
   "id": "15a34ecf",
   "metadata": {
    "tags": []
   },
   "outputs": [
    {
     "data": {
      "text/html": [
       "<div>\n",
       "<style scoped>\n",
       "    .dataframe tbody tr th:only-of-type {\n",
       "        vertical-align: middle;\n",
       "    }\n",
       "\n",
       "    .dataframe tbody tr th {\n",
       "        vertical-align: top;\n",
       "    }\n",
       "\n",
       "    .dataframe thead th {\n",
       "        text-align: right;\n",
       "    }\n",
       "</style>\n",
       "<table border=\"1\" class=\"dataframe\">\n",
       "  <thead>\n",
       "    <tr style=\"text-align: right;\">\n",
       "      <th></th>\n",
       "      <th>or</th>\n",
       "      <th>Short Side</th>\n",
       "      <th>Diagonal</th>\n",
       "      <th>Row #</th>\n",
       "    </tr>\n",
       "  </thead>\n",
       "  <tbody>\n",
       "    <tr>\n",
       "      <th>10</th>\n",
       "      <td>(1).5625</td>\n",
       "      <td>45*</td>\n",
       "      <td>75*</td>\n",
       "      <td>11</td>\n",
       "    </tr>\n",
       "  </tbody>\n",
       "</table>\n",
       "</div>"
      ],
      "text/plain": [
       "          or Short Side Diagonal  Row #\n",
       "10  (1).5625        45*      75*     11"
      ]
     },
     "execution_count": 6,
     "metadata": {},
     "output_type": "execute_result"
    }
   ],
   "source": [
    "dfs[2].take([10])"
   ]
  },
  {
   "cell_type": "code",
   "execution_count": 10,
   "id": "4b685855-7c30-4f20-9772-9e80ba3844b3",
   "metadata": {
    "tags": []
   },
   "outputs": [
    {
     "data": {
      "text/plain": [
       "60.0"
      ]
     },
     "execution_count": 10,
     "metadata": {},
     "output_type": "execute_result"
    }
   ],
   "source": [
    "import math\n",
    "math.sqrt(75**2 - 45**2)"
   ]
  },
  {
   "cell_type": "markdown",
   "id": "479e9666-9b79-440a-88bf-0cdd7d975e90",
   "metadata": {},
   "source": [
    "```{note}\n",
    "$(45, 60, 75)$という三数は、$60$進法の基数を含むため、古代バビロニア人には応用し易い組み合わせだったと考えられます。\n",
    "\n",
    "$10$進法では、既約表現である$(3, 4, 5)$を使います。\n",
    "```"
   ]
  },
  {
   "cell_type": "markdown",
   "id": "f368e6bb-570b-458c-8375-26f3424fecd4",
   "metadata": {},
   "source": [
    "## 数表の公式"
   ]
  },
  {
   "cell_type": "markdown",
   "id": "21c08a7a-a8c3-43c9-82fe-eb73b78ffa2b",
   "metadata": {
    "hide_input": false
   },
   "source": [
    "* [ピタゴラス数の求め方とその証明 | 高校数学の美しい物語](https://manabitimes.jp/math/661)"
   ]
  },
  {
   "cell_type": "markdown",
   "id": "b97276b1-3fbf-43f5-893b-46a4c49cc632",
   "metadata": {},
   "source": [
    "正の整数 $p$, $q$ $(p>q)$ に対して、\n",
    "\n",
    "$$\n",
    "  \\begin{align}\n",
    "    a & =  2 p q \\\\\n",
    "    b & =  p^2 - q^2\\\\\n",
    "    d & =  p^2 + q^2\\\\\n",
    "  \\end{align}\n",
    "$$\n",
    "\n",
    "とおくと、$a$, $b$, $d$ はピタゴラスの三数となり、$a^2+b^2 = d^2$ を満たす。"
   ]
  },
  {
   "cell_type": "markdown",
   "id": "cf8ebd54-2739-48c8-9406-1d02255ef924",
   "metadata": {},
   "source": [
    "解) 恒等式\n",
    "\n",
    "$$\n",
    "  (x-y)^2 = (x+y)^2 - 4xy\n",
    "$$\n",
    "\n",
    "に対して $x=p^2$, $y=q^2$ とおいて $p$, $q$ を消去する。\n",
    "\n",
    "$$\n",
    "  \\begin{align}\n",
    "    (p^2-q^2)^2 &= (p^2+q^2)^2 - 4p^2q^2 \\\\\n",
    "    b^2 &= d^2 - a^2\n",
    "  \\end{align}\n",
    "$$"
   ]
  },
  {
   "cell_type": "markdown",
   "id": "6009cb28-8a4a-4a2c-919e-12482f90fb62",
   "metadata": {},
   "source": [
    "```{note}\n",
    "方程式$(2)$は、次の図の面積の関係を表しています。\n",
    "```"
   ]
  },
  {
   "cell_type": "code",
   "execution_count": 2,
   "id": "912878c8-2425-4339-aa44-9adc58363e36",
   "metadata": {
    "hide_input": true,
    "jupyter": {
     "source_hidden": true
    },
    "tags": []
   },
   "outputs": [
    {
     "data": {
      "image/png": "[encoded data removed]",
      "text/plain": [
       "<Figure size 432x288 with 1 Axes>"
      ]
     },
     "metadata": {
      "needs_background": "light"
     },
     "output_type": "display_data"
    }
   ],
   "source": [
    "from matplotlib.patches import Polygon\n",
    "import matplotlib.pyplot as plt\n",
    "\n",
    "p0 = Polygon([(0,0), (3,0), (3,1), (0,1), ], fill=False)\n",
    "p1 = Polygon([(3,0), (4,0), (4,3), (3,3), ], fill=False)\n",
    "p2 = Polygon([(4,3), (4,4), (1,4), (1,3), ], fill=False)\n",
    "p3 = Polygon([(1,1), (1,4), (0,4), (0,1), ], fill=False)\n",
    "\n",
    "fig, ax = plt.subplots(1,1)\n",
    "\n",
    "ax.add_patch(p0)\n",
    "ax.add_patch(p1)\n",
    "ax.add_patch(p2)\n",
    "ax.add_patch(p3)\n",
    "ax.axis('equal')\n",
    "ax.set(xlim=(0,4),ylim=(-1,5))\n",
    "\n",
    "plt.text(1.5,-0.3,'x')\n",
    "plt.text(3.5,-0.3,'y')\n",
    "plt.text(-0.3,2.5,'x')\n",
    "plt.text(-0.3,0.5,'y')\n",
    "plt.text(1.8,1.2, 'x - y')\n",
    "plt.show()"
   ]
  },
  {
   "cell_type": "markdown",
   "id": "fc41d7b3-ee58-4c2f-88cb-ec956ffaafcb",
   "metadata": {},
   "source": [
    "Plimpton 322との対応は次の表の通りである:"
   ]
  },
  {
   "cell_type": "markdown",
   "id": "4c1000f9-794d-4bdb-ac27-aefe8a9655a1",
   "metadata": {},
   "source": [
    "|#1 |#2 |#3 |\n",
    "|:-:|:-:|:-:|\n",
    "|$$\\left(\\frac{d}{a}\\right)^2$$|$$b$$      |$$d$$      |\n",
    "|$$\\frac{1}{4}\\left(\\frac{p}{q}+\\frac{q}{p}\\right)^2$$|$$p^2-q^2$$|$$p^2+q^2$$|"
   ]
  },
  {
   "cell_type": "markdown",
   "id": "ba5e6f06-4623-4c62-8299-63f731f10183",
   "metadata": {},
   "source": [
    "命題) Plimpton 322は、互いに素な正の整数 $p$, $q$ のうち、\n",
    "\n",
    "$$\n",
    "  \\frac{9}{5} \\leq \\frac{p}{q} \\leq \\frac{12}{5}\n",
    "$$\n",
    "\n",
    "を満たす組み合わせについて、\n",
    "\n",
    "$$\n",
    "\\frac{d}{a} = \\frac{1}{2}\\left(\\frac{p}{q}+\\frac{q}{p}\\right)\n",
    "$$\n",
    "\n",
    "をキーとして降順に並べたものである。"
   ]
  }
 ],
 "metadata": {
  "kernelspec": {
   "display_name": "Python 3 (ipykernel)",
   "language": "python",
   "name": "python3"
  },
  "language_info": {
   "codemirror_mode": {
    "name": "ipython",
    "version": 3
   },
   "file_extension": ".py",
   "mimetype": "text/x-python",
   "name": "python",
   "nbconvert_exporter": "python",
   "pygments_lexer": "ipython3",
   "version": "3.11.8"
  },
  "toc": {
   "base_numbering": 1,
   "nav_menu": {},
   "number_sections": true,
   "sideBar": true,
   "skip_h1_title": false,
   "title_cell": "Table of Contents",
   "title_sidebar": "Contents",
   "toc_cell": false,
   "toc_position": {},
   "toc_section_display": true,
   "toc_window_display": false
  }
 },
 "nbformat": 4,
 "nbformat_minor": 5
}
