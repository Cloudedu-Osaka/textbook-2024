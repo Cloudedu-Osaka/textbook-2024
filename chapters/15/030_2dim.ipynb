{
 "cells": [
  {
   "cell_type": "markdown",
   "id": "37fb3686-5ed7-4300-87f3-8bb34244662b",
   "metadata": {},
   "source": [
    "# 微分と幾何学 (3)"
   ]
  },
  {
   "cell_type": "markdown",
   "id": "422ba19f-8090-40b6-8266-589fa43ba3ee",
   "metadata": {},
   "source": [
    "## SymPyによる二次元リーマン多様体"
   ]
  },
  {
   "cell_type": "markdown",
   "id": "52dcf23f-5fc9-4576-a5d7-490024faf8c1",
   "metadata": {},
   "source": [
    "* [Cartesian coordinate system - Wikipedia](https://en.wikipedia.org/wiki/Cartesian_coordinate_system)\n",
    "    * [Euclidean distance - Wikipedia](https://en.wikipedia.org/wiki/Euclidean_distance)\n",
    "* [Polar coordinate system - Wikipedia](https://en.wikipedia.org/wiki/Polar_coordinate_system)"
   ]
  },
  {
   "cell_type": "code",
   "execution_count": 1,
   "id": "ec2943b5-1fef-499e-a334-1eb53340c405",
   "metadata": {},
   "outputs": [],
   "source": [
    "import sympy\n",
    "from sympy import Matrix, BlockMatrix"
   ]
  },
  {
   "cell_type": "code",
   "execution_count": 2,
   "id": "db721e1d-846b-494d-b4b7-73893b26a64e",
   "metadata": {},
   "outputs": [],
   "source": [
    "from sympy.diffgeom.rn import R2_r, R2_p"
   ]
  },
  {
   "cell_type": "code",
   "execution_count": 3,
   "id": "ce9937ef-44ad-4b8b-9f03-4b134ff09021",
   "metadata": {},
   "outputs": [
    {
     "name": "stdout",
     "output_type": "stream",
     "text": [
      "rectangular\n",
      "polar\n"
     ]
    }
   ],
   "source": [
    "print(R2_r)\n",
    "print(R2_p)"
   ]
  },
  {
   "cell_type": "markdown",
   "id": "a62c5c35-2605-4d86-8e99-69d904c73164",
   "metadata": {},
   "source": [
    "* [Standard basis - Wikipedia](https://en.wikipedia.org/wiki/Standard_basis)"
   ]
  },
  {
   "cell_type": "code",
   "execution_count": 4,
   "id": "791d6d52-bfa1-431f-b965-2b9287939532",
   "metadata": {},
   "outputs": [
    {
     "data": {
      "text/latex": [
       "$\\displaystyle \\left[\\begin{matrix}\\mathbf{x}\\\\\\mathbf{y}\\end{matrix}\\right]$"
      ],
      "text/plain": [
       "Matrix([\n",
       "[x],\n",
       "[y]])"
      ]
     },
     "execution_count": 4,
     "metadata": {},
     "output_type": "execute_result"
    }
   ],
   "source": [
    "Matrix(R2_r.base_scalars())"
   ]
  },
  {
   "cell_type": "code",
   "execution_count": 5,
   "id": "6e8709c4-3fb5-441a-b5f5-ebc9b4160cf4",
   "metadata": {},
   "outputs": [
    {
     "data": {
      "text/latex": [
       "$\\displaystyle \\left[\\begin{matrix}\\mathbf{\\rho}\\\\\\mathbf{\\theta}\\end{matrix}\\right]$"
      ],
      "text/plain": [
       "Matrix([\n",
       "[  rho],\n",
       "[theta]])"
      ]
     },
     "execution_count": 5,
     "metadata": {},
     "output_type": "execute_result"
    }
   ],
   "source": [
    "Matrix(R2_p.base_scalars())"
   ]
  },
  {
   "cell_type": "markdown",
   "id": "48617ba9-f3c2-4dc9-8b40-a6895701f3c9",
   "metadata": {},
   "source": [
    "* [List of common coordinate transformations - Wikipedia](https://en.wikipedia.org/wiki/List_of_common_coordinate_transformations)"
   ]
  },
  {
   "cell_type": "code",
   "execution_count": 15,
   "id": "13f04801-cebe-4699-bf6b-f54830709096",
   "metadata": {},
   "outputs": [
    {
     "data": {
      "text/latex": [
       "$\\displaystyle \\left[\\begin{matrix}\\cos{\\left(\\mathbf{\\theta} \\right)} \\mathbf{\\rho}\\\\\\sin{\\left(\\mathbf{\\theta} \\right)} \\mathbf{\\rho}\\end{matrix}\\right]$"
      ],
      "text/plain": [
       "Matrix([\n",
       "[cos(theta)*rho],\n",
       "[sin(theta)*rho]])"
      ]
     },
     "execution_count": 15,
     "metadata": {},
     "output_type": "execute_result"
    }
   ],
   "source": [
    "s = R2_p.transform(R2_r, R2_p.base_scalars())\n",
    "s"
   ]
  },
  {
   "cell_type": "code",
   "execution_count": 16,
   "id": "624f763e-4f0d-4e55-99ab-326f990fe532",
   "metadata": {},
   "outputs": [
    {
     "data": {
      "text/latex": [
       "$\\displaystyle \\left[\\begin{matrix}\\sqrt{\\mathbf{x}^{2} + \\mathbf{y}^{2}}\\\\\\operatorname{atan}_{2}{\\left(\\mathbf{y},\\mathbf{x} \\right)}\\end{matrix}\\right]$"
      ],
      "text/plain": [
       "Matrix([\n",
       "[sqrt(x**2 + y**2)],\n",
       "[      atan2(y, x)]])"
      ]
     },
     "execution_count": 16,
     "metadata": {},
     "output_type": "execute_result"
    }
   ],
   "source": [
    "s = R2_r.transform(R2_p, R2_r.base_scalars())\n",
    "s"
   ]
  },
  {
   "cell_type": "markdown",
   "id": "4da0b2de-b902-4e9d-85af-50e21f7610c4",
   "metadata": {},
   "source": [
    "* [Vector field - Wikipedia](https://en.wikipedia.org/wiki/Vector_field)"
   ]
  },
  {
   "cell_type": "code",
   "execution_count": 24,
   "id": "d9e16190",
   "metadata": {},
   "outputs": [
    {
     "data": {
      "text/latex": [
       "$\\displaystyle \\left[\\begin{matrix}\\operatorname{d}\\rho\\\\\\operatorname{d}\\theta\\end{matrix}\\right]$"
      ],
      "text/plain": [
       "Matrix([\n",
       "[  drho],\n",
       "[dtheta]])"
      ]
     },
     "execution_count": 24,
     "metadata": {},
     "output_type": "execute_result"
    }
   ],
   "source": [
    "Matrix(R2_p.base_oneforms())"
   ]
  },
  {
   "cell_type": "code",
   "execution_count": 25,
   "id": "2ee63447",
   "metadata": {},
   "outputs": [
    {
     "data": {
      "text/latex": [
       "$\\displaystyle \\left[\\begin{matrix}\\partial_{\\rho}\\\\\\partial_{\\theta}\\end{matrix}\\right]$"
      ],
      "text/plain": [
       "Matrix([\n",
       "[  e_rho],\n",
       "[e_theta]])"
      ]
     },
     "execution_count": 25,
     "metadata": {},
     "output_type": "execute_result"
    }
   ],
   "source": [
    "Matrix(R2_p.base_vectors())"
   ]
  },
  {
   "cell_type": "markdown",
   "id": "d94cc05a-9774-4712-8d4f-ccecd5b53958",
   "metadata": {},
   "source": [
    "* [One-form (differential geometry) - Wikipedia](https://en.wikipedia.org/wiki/One-form_(differential_geometry))"
   ]
  },
  {
   "cell_type": "code",
   "execution_count": 6,
   "id": "8c7dcae1-4dd3-402d-9db3-1f3ae3070334",
   "metadata": {},
   "outputs": [
    {
     "data": {
      "text/markdown": [
       "二次元ユークリッド空間は、通常私たちが考える2次元空間のことを指します。これは通常、2つの直交する軸（通常はx軸とy軸と呼ばれます）によって定義されます。このような空間における点は、それぞれの軸に沿った座標のペア（x, y）によって一意に識別することができます。\n",
       "\n",
       "「第一形式」という用語は、一般的に微分幾何学の文脈で使用されます。特に、微分形式の理論においては、「第一形式」は1-形式または微分1-形式と呼ばれます。\n",
       "\n",
       "1-形式は、ベクトル場をスカラーにマッピングするために使用される数学的なオブジェクトです。二次元ユークリッド空間の場合、1-形式は通常、2つの成分を持ちます。これらの成分は、各軸に沿った「微分」を表します。具体的には、1-形式$\\omega$は以下のように表されます：\n",
       "\n",
       "$$\\omega = dx \\otimes \\alpha + dy \\otimes \\beta$$\n",
       "\n",
       "ここで、$\\alpha$と$\\beta$はスカラー関数であり、「$dx$」と「$dy$」は、それぞれx軸とy軸に沿った微分を表します。「$\\otimes$」はテンソル積を表します。\n",
       "\n",
       "1-形式は、ベクトル場と組み合わせて使用されることが一般的で、ベクトル場の各点における「方向導関数」を計算するのに役立ちます。"
      ],
      "text/plain": [
       "<IPython.core.display.Markdown object>"
      ]
     },
     "execution_count": 6,
     "metadata": {
      "text/markdown": {
       "jupyter_ai": {
        "custom_chain_id": "vioras"
       }
      }
     },
     "output_type": "execute_result"
    }
   ],
   "source": [
    "%%ai vioras\n",
    "二次元ユークリッド空間の第一形式について"
   ]
  },
  {
   "cell_type": "code",
   "execution_count": 24,
   "id": "4cdcdc29",
   "metadata": {},
   "outputs": [
    {
     "data": {
      "text/latex": [
       "$\\displaystyle \\left[\\begin{matrix}\\operatorname{d}\\rho\\\\\\operatorname{d}\\theta\\end{matrix}\\right]$"
      ],
      "text/plain": [
       "Matrix([\n",
       "[  drho],\n",
       "[dtheta]])"
      ]
     },
     "execution_count": 24,
     "metadata": {},
     "output_type": "execute_result"
    }
   ],
   "source": [
    "Matrix(R2_p.base_oneforms())"
   ]
  },
  {
   "cell_type": "code",
   "execution_count": 25,
   "id": "b74d0a77",
   "metadata": {},
   "outputs": [
    {
     "data": {
      "text/latex": [
       "$\\displaystyle \\left[\\begin{matrix}\\partial_{\\rho}\\\\\\partial_{\\theta}\\end{matrix}\\right]$"
      ],
      "text/plain": [
       "Matrix([\n",
       "[  e_rho],\n",
       "[e_theta]])"
      ]
     },
     "execution_count": 25,
     "metadata": {},
     "output_type": "execute_result"
    }
   ],
   "source": [
    "Matrix(R2_p.base_vectors())"
   ]
  },
  {
   "cell_type": "markdown",
   "id": "547321e3-cb43-47c3-bd6d-e6a1cbb6c2fd",
   "metadata": {},
   "source": [
    "* [Line element - Wikipedia](https://en.wikipedia.org/wiki/Line_element)"
   ]
  },
  {
   "cell_type": "code",
   "execution_count": 7,
   "id": "e8d65752-09cc-4fc1-bb83-5c14df28d43f",
   "metadata": {},
   "outputs": [
    {
     "data": {
      "text/markdown": [
       "二次元ユークリッド空間における線素（line element）の長さは、微小変化$dx$と$dy$に関して次のように表されます。\n",
       "\n",
       "$$ds^2 = dx^2 + dy^2$$\n",
       "\n",
       "ここで、$ds$は線素（line element）の微小の長さを表します。\n",
       "\n",
       "この表現を微分1-形式（第一形式）の言葉で表現すると、次のようになります。\n",
       "\n",
       "$$ds = \\sqrt{(dx)^2 + (dy)^2}$$\n",
       "\n",
       "ここで、$(dx)^2$と$(dy)^2$は微分1-形式の平方を表し、これらの和の平方根を取ることで、線素の長さ$ds$を得ます。\n",
       "\n",
       "なお、これはユークリッド空間（つまり、通常の「平らな」空間）での表現であり、曲率を持つ空間（例えば、一般相対性理論の文脈で考えられるような）では、異なる表現が必要になることに注意してください。"
      ],
      "text/plain": [
       "<IPython.core.display.Markdown object>"
      ]
     },
     "execution_count": 7,
     "metadata": {
      "text/markdown": {
       "jupyter_ai": {
        "custom_chain_id": "vioras"
       }
      }
     },
     "output_type": "execute_result"
    }
   ],
   "source": [
    "%%ai vioras\n",
    "線素 (line element) の長さを第一形式で表して下さい"
   ]
  },
  {
   "cell_type": "code",
   "execution_count": 9,
   "id": "569bee78-9efa-45e1-9378-63170bf786ea",
   "metadata": {},
   "outputs": [
    {
     "data": {
      "text/markdown": [
       "計量テンソル（または計量）は、一般相対性理論や微分幾何学の中心的な概念であり、特定の空間内の距離や角度を定義する方法を提供します。具体的には、計量テンソルは、特定の点における2つのベクトル間の内積を計算するためのツールとして機能します。\n",
       "\n",
       "計量テンソルは通常、$g_{\\mu\\nu}$（ここで、$\\mu$と$\\nu$は指標）で表され、これは特定の座標系におけるテンソルの各成分を示します。二次元ユークリッド空間では、計量テンソルは次のようになります：\n",
       "\n",
       "$$g = \\begin{bmatrix} 1 & 0 \\\\ 0 & 1 \\end{bmatrix}$$\n",
       "\n",
       "これは、二次元ユークリッド空間の標準的な座標（つまり、直交座標）に関して、内積が通常のユークリッド内積（つまり、スカラー積）になることを示しています。\n",
       "\n",
       "計量テンソルは、空間の幾何学的性質（曲率など）を決定する基本的な要素であり、一般相対性理論のアインシュタインの場の方程式の出発点となります。また、計量テンソルを用いて、曲線の長さや面積、体積などを計算することができます。"
      ],
      "text/plain": [
       "<IPython.core.display.Markdown object>"
      ]
     },
     "execution_count": 9,
     "metadata": {
      "text/markdown": {
       "jupyter_ai": {
        "custom_chain_id": "vioras"
       }
      }
     },
     "output_type": "execute_result"
    }
   ],
   "source": [
    "%%ai vioras\n",
    "計量テンソルは？"
   ]
  },
  {
   "cell_type": "code",
   "execution_count": 11,
   "id": "3f86b586-1197-4980-809f-83ed3ada71e6",
   "metadata": {},
   "outputs": [
    {
     "data": {
      "text/markdown": [
       "極座標系では、座標は一般に $(r, \\theta)$ と表され、ここで $r$ は原点からの距離（半径）を、$\\theta$ は正の x 軸からの角度を表します。\n",
       "\n",
       "極座標系における微小距離（線素）$ds$は次のように表されます：\n",
       "\n",
       "$$ds^2 = dr^2 + r^2 d\\theta^2$$\n",
       "\n",
       "この式は、半径方向の微小変化 $dr$ と角度方向の微小変化 $d\\theta$ から直交座標系における微小距離の二乗 $ds^2$ を計算します。これは、微小円弧の長さを $r d\\theta$ とし、ピタゴラスの定理を用いて得られます。\n",
       "\n",
       "したがって、極座標系における計量テンソルは次のようになります：\n",
       "\n",
       "$$g = \\begin{bmatrix} 1 & 0 \\\\ 0 & r^2 \\end{bmatrix}$$\n",
       "\n",
       "この計量テンソルは、極座標系における距離と角度の測定を可能にします。ここで、計量テンソルの成分 $g_{\\mu\\nu}$ は、座標間の内積を定義します。この場合、$g_{rr} = 1$ は半径方向の距離を、$g_{\\theta\\theta} = r^2$ は角度方向の距離を定義します。"
      ],
      "text/plain": [
       "<IPython.core.display.Markdown object>"
      ]
     },
     "execution_count": 11,
     "metadata": {
      "text/markdown": {
       "jupyter_ai": {
        "custom_chain_id": "vioras"
       }
      }
     },
     "output_type": "execute_result"
    }
   ],
   "source": [
    "%%ai vioras\n",
    "極座標表示によって誘導される計量を求めて下さい"
   ]
  },
  {
   "cell_type": "code",
   "execution_count": 21,
   "id": "2ecdb24c-e0de-4a55-b206-1108b96d644f",
   "metadata": {},
   "outputs": [
    {
     "data": {
      "text/latex": [
       "$\\displaystyle \\left[\\begin{matrix}\\cos{\\left(\\mathbf{\\theta} \\right)} & - \\sin{\\left(\\mathbf{\\theta} \\right)} \\mathbf{\\rho}\\\\\\sin{\\left(\\mathbf{\\theta} \\right)} & \\cos{\\left(\\mathbf{\\theta} \\right)} \\mathbf{\\rho}\\end{matrix}\\right]$"
      ],
      "text/plain": [
       "Matrix([\n",
       "[cos(theta), -sin(theta)*rho],\n",
       "[sin(theta),  cos(theta)*rho]])"
      ]
     },
     "execution_count": 21,
     "metadata": {},
     "output_type": "execute_result"
    }
   ],
   "source": [
    "Matrix(BlockMatrix([e(s) for e in R2_p.base_vectors()]))"
   ]
  },
  {
   "cell_type": "code",
   "execution_count": 12,
   "id": "b4c924e4-cfe4-4600-9424-cd3b3fbe57b7",
   "metadata": {},
   "outputs": [
    {
     "data": {
      "text/latex": [
       "$\\displaystyle \\left[\\begin{matrix}- \\sin{\\left(\\mathbf{\\theta} \\right)} \\mathbf{\\rho} \\operatorname{d}\\theta + \\cos{\\left(\\mathbf{\\theta} \\right)} \\operatorname{d}\\rho\\\\\\sin{\\left(\\mathbf{\\theta} \\right)} \\operatorname{d}\\rho + \\cos{\\left(\\mathbf{\\theta} \\right)} \\mathbf{\\rho} \\operatorname{d}\\theta\\end{matrix}\\right]$"
      ],
      "text/plain": [
       "Matrix([\n",
       "[-sin(theta)*rho*dtheta + cos(theta)*drho],\n",
       "[ sin(theta)*drho + cos(theta)*rho*dtheta]])"
      ]
     },
     "execution_count": 12,
     "metadata": {},
     "output_type": "execute_result"
    }
   ],
   "source": [
    "ds = Matrix(BlockMatrix(ds)).multiply(Matrix(R2_p.base_oneforms()))\n",
    "ds"
   ]
  },
  {
   "cell_type": "code",
   "execution_count": 105,
   "id": "38c60299-2560-4a03-bdad-63f41d0e13f2",
   "metadata": {},
   "outputs": [
    {
     "data": {
      "text/latex": [
       "$\\displaystyle \\sin^{2}{\\left(\\mathbf{\\theta} \\right)} \\mathbf{\\rho}^{2} \\operatorname{d}\\theta^{2} + \\sin^{2}{\\left(\\mathbf{\\theta} \\right)} \\operatorname{d}\\rho^{2} + \\cos^{2}{\\left(\\mathbf{\\theta} \\right)} \\mathbf{\\rho}^{2} \\operatorname{d}\\theta^{2} + \\cos^{2}{\\left(\\mathbf{\\theta} \\right)} \\operatorname{d}\\rho^{2}$"
      ],
      "text/plain": [
       "sin(theta)**2*rho**2*dtheta**2 + sin(theta)**2*drho**2 + cos(theta)**2*rho**2*dtheta**2 + cos(theta)**2*drho**2"
      ]
     },
     "execution_count": 105,
     "metadata": {},
     "output_type": "execute_result"
    }
   ],
   "source": [
    "ds2=sympy.expand(ds.dot(ds))\n",
    "ds2"
   ]
  },
  {
   "cell_type": "code",
   "execution_count": 106,
   "id": "60cd8a9f-a53b-462b-8194-48314cf06afb",
   "metadata": {},
   "outputs": [
    {
     "data": {
      "text/latex": [
       "$\\displaystyle 1$"
      ],
      "text/plain": [
       "1"
      ]
     },
     "execution_count": 106,
     "metadata": {},
     "output_type": "execute_result"
    }
   ],
   "source": [
    "sympy.simplify(ds2.coeff(R2_p.base_oneform(0)**2))"
   ]
  },
  {
   "cell_type": "code",
   "execution_count": 108,
   "id": "6c97b493-1c55-4bd9-9805-c56d342648e3",
   "metadata": {},
   "outputs": [
    {
     "data": {
      "text/latex": [
       "$\\displaystyle \\mathbf{\\rho}^{2}$"
      ],
      "text/plain": [
       "rho**2"
      ]
     },
     "execution_count": 108,
     "metadata": {},
     "output_type": "execute_result"
    }
   ],
   "source": [
    "sympy.simplify(ds2.coeff(R2_p.base_oneform(1)**2))"
   ]
  },
  {
   "cell_type": "code",
   "execution_count": 1,
   "id": "b5d8f8e9-c089-4016-9fde-b7298d94b53d",
   "metadata": {},
   "outputs": [
    {
     "name": "stdout",
     "output_type": "stream",
     "text": [
      "Requirement already satisfied: einsteinpy in /opt/conda/lib/python3.11/site-packages (0.4.0)\n",
      "Requirement already satisfied: numpy in /opt/conda/lib/python3.11/site-packages (from einsteinpy) (1.26.4)\n",
      "Requirement already satisfied: astropy in /opt/conda/lib/python3.11/site-packages (from einsteinpy) (6.1.1)\n",
      "Requirement already satisfied: matplotlib in /opt/conda/lib/python3.11/site-packages (from einsteinpy) (3.8.4)\n",
      "Requirement already satisfied: scipy>=1.0 in /opt/conda/lib/python3.11/site-packages (from einsteinpy) (1.13.0)\n",
      "Requirement already satisfied: plotly>=4.0 in /opt/conda/lib/python3.11/site-packages (from einsteinpy) (5.22.0)\n",
      "Requirement already satisfied: sympy>=1.1 in /opt/conda/lib/python3.11/site-packages (from einsteinpy) (1.12)\n",
      "Requirement already satisfied: numba!=0.49.0,>=0.46 in /opt/conda/lib/python3.11/site-packages (from einsteinpy) (0.60.0)\n",
      "Requirement already satisfied: llvmlite<0.44,>=0.43.0dev0 in /opt/conda/lib/python3.11/site-packages (from numba!=0.49.0,>=0.46->einsteinpy) (0.43.0)\n",
      "Requirement already satisfied: tenacity>=6.2.0 in /opt/conda/lib/python3.11/site-packages (from plotly>=4.0->einsteinpy) (8.2.3)\n",
      "Requirement already satisfied: packaging in /opt/conda/lib/python3.11/site-packages (from plotly>=4.0->einsteinpy) (24.0)\n",
      "Requirement already satisfied: mpmath>=0.19 in /opt/conda/lib/python3.11/site-packages (from sympy>=1.1->einsteinpy) (1.3.0)\n",
      "Requirement already satisfied: pyerfa>=2.0.1.1 in /opt/conda/lib/python3.11/site-packages (from astropy->einsteinpy) (2.0.1.4)\n",
      "Requirement already satisfied: astropy-iers-data>=0.2024.5.27.0.30.8 in /opt/conda/lib/python3.11/site-packages (from astropy->einsteinpy) (0.2024.7.22.0.34.13)\n",
      "Requirement already satisfied: PyYAML>=3.13 in /opt/conda/lib/python3.11/site-packages (from astropy->einsteinpy) (6.0.1)\n",
      "Requirement already satisfied: contourpy>=1.0.1 in /opt/conda/lib/python3.11/site-packages (from matplotlib->einsteinpy) (1.2.1)\n",
      "Requirement already satisfied: cycler>=0.10 in /opt/conda/lib/python3.11/site-packages (from matplotlib->einsteinpy) (0.12.1)\n",
      "Requirement already satisfied: fonttools>=4.22.0 in /opt/conda/lib/python3.11/site-packages (from matplotlib->einsteinpy) (4.51.0)\n",
      "Requirement already satisfied: kiwisolver>=1.3.1 in /opt/conda/lib/python3.11/site-packages (from matplotlib->einsteinpy) (1.4.5)\n",
      "Requirement already satisfied: pillow>=8 in /opt/conda/lib/python3.11/site-packages (from matplotlib->einsteinpy) (10.3.0)\n",
      "Requirement already satisfied: pyparsing>=2.3.1 in /opt/conda/lib/python3.11/site-packages (from matplotlib->einsteinpy) (3.1.2)\n",
      "Requirement already satisfied: python-dateutil>=2.7 in /opt/conda/lib/python3.11/site-packages (from matplotlib->einsteinpy) (2.9.0)\n",
      "Requirement already satisfied: six>=1.5 in /opt/conda/lib/python3.11/site-packages (from python-dateutil>=2.7->matplotlib->einsteinpy) (1.16.0)\n"
     ]
    }
   ],
   "source": [
    "!pip install -U einsteinpy"
   ]
  },
  {
   "cell_type": "code",
   "execution_count": 2,
   "id": "65edf307-86cf-499e-bfc1-6d6e13af635f",
   "metadata": {},
   "outputs": [],
   "source": [
    "import sympy\n",
    "from sympy import sin, cos, tan, cot"
   ]
  },
  {
   "cell_type": "code",
   "execution_count": 3,
   "id": "7de04281-5a62-426a-a620-b01b74f52746",
   "metadata": {},
   "outputs": [],
   "source": [
    "import einsteinpy"
   ]
  },
  {
   "cell_type": "code",
   "execution_count": 4,
   "id": "f00e188c-d471-49c8-88f1-0e3997ebf0d2",
   "metadata": {},
   "outputs": [
    {
     "data": {
      "text/plain": [
       "'0.4.0'"
      ]
     },
     "execution_count": 4,
     "metadata": {},
     "output_type": "execute_result"
    }
   ],
   "source": [
    "einsteinpy.__version__"
   ]
  },
  {
   "cell_type": "code",
   "execution_count": 5,
   "id": "1e853a8e-5aed-4774-8115-8c913f8adab0",
   "metadata": {
    "tags": []
   },
   "outputs": [],
   "source": [
    "from einsteinpy.symbolic import MetricTensor\n",
    "from einsteinpy.symbolic import ChristoffelSymbols, RiemannCurvatureTensor\n",
    "from einsteinpy.symbolic import RicciTensor, RicciScalar"
   ]
  },
  {
   "cell_type": "code",
   "execution_count": 6,
   "id": "42a1d6d8-b156-4a72-b8d8-883656ad18df",
   "metadata": {},
   "outputs": [],
   "source": [
    "from sympy import sin, cos, tan, cot"
   ]
  },
  {
   "cell_type": "code",
   "execution_count": 8,
   "id": "666bd76e-e434-445d-ab13-e5c6c040bb20",
   "metadata": {},
   "outputs": [
    {
     "data": {
      "text/plain": [
       "(r, theta)"
      ]
     },
     "execution_count": 8,
     "metadata": {},
     "output_type": "execute_result"
    }
   ],
   "source": [
    "syms = sympy.symbols('r theta')\n",
    "syms"
   ]
  },
  {
   "cell_type": "code",
   "execution_count": 10,
   "id": "bdf1a88d-f679-4ff7-a0dd-459a1af916ad",
   "metadata": {},
   "outputs": [],
   "source": [
    "r, theta = syms"
   ]
  },
  {
   "cell_type": "code",
   "execution_count": 12,
   "id": "f4250ecd-2aea-4412-9612-73a3cf077086",
   "metadata": {},
   "outputs": [
    {
     "data": {
      "text/latex": [
       "$\\displaystyle \\left[\\begin{matrix}1 & 0\\\\0 & r^{2}\\end{matrix}\\right]$"
      ],
      "text/plain": [
       "Matrix([\n",
       "[1,    0],\n",
       "[0, r**2]])"
      ]
     },
     "execution_count": 12,
     "metadata": {},
     "output_type": "execute_result"
    }
   ],
   "source": [
    "g=sympy.diag(1,r**2)\n",
    "g"
   ]
  },
  {
   "cell_type": "code",
   "execution_count": 13,
   "id": "c552e8da-8661-4961-9277-e789e6619878",
   "metadata": {},
   "outputs": [],
   "source": [
    "metric = MetricTensor(g.tolist(), syms)"
   ]
  },
  {
   "cell_type": "code",
   "execution_count": 14,
   "id": "034ae70f-cce4-43a0-a8b4-63f55b9422b4",
   "metadata": {},
   "outputs": [
    {
     "data": {
      "text/latex": [
       "$\\displaystyle \\left[\\begin{matrix}1 & 0\\\\0 & r^{2}\\end{matrix}\\right]$"
      ],
      "text/plain": [
       "[[1, 0], [0, r**2]]"
      ]
     },
     "execution_count": 14,
     "metadata": {},
     "output_type": "execute_result"
    }
   ],
   "source": [
    "metric.tensor()"
   ]
  },
  {
   "cell_type": "code",
   "execution_count": null,
   "id": "53837366-8cc3-4c36-a519-971275a07854",
   "metadata": {},
   "outputs": [],
   "source": []
  }
 ],
 "metadata": {
  "kernelspec": {
   "display_name": "Python 3 (ipykernel)",
   "language": "python",
   "name": "python3"
  },
  "language_info": {
   "codemirror_mode": {
    "name": "ipython",
    "version": 3
   },
   "file_extension": ".py",
   "mimetype": "text/x-python",
   "name": "python",
   "nbconvert_exporter": "python",
   "pygments_lexer": "ipython3",
   "version": "3.11.8"
  }
 },
 "nbformat": 4,
 "nbformat_minor": 5
}
