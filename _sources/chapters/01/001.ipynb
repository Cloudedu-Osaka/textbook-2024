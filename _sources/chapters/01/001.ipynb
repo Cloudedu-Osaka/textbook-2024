{
 "cells": [
  {
   "cell_type": "markdown",
   "id": "c7fffa22-51f7-4678-b485-e8eedc0b55c7",
   "metadata": {},
   "source": [
    "# 学問への扉: プログラミングで遡る科学史"
   ]
  },
  {
   "cell_type": "markdown",
   "id": "a78e54b3-a534-45d3-951e-6d52dbd72fee",
   "metadata": {},
   "source": [
    "```{note}この授業では\n",
    "* PowerPointは使いません。\n",
    "* 講義資料はChatGPTとの対話で作成しています。\n",
    "* プログラムはChatGPTとの対話で生成します。\n",
    "```"
   ]
  },
  {
   "cell_type": "code",
   "execution_count": 1,
   "id": "fd68bc81-e705-470c-8470-a7fe6d8f3808",
   "metadata": {},
   "outputs": [
    {
     "data": {
      "text/markdown": [
       "はい、科学の歴史を遡るためのプログラミングも可能です。それはデータ分析やデータビジュアライザーションの形でも行うことができます。例えば、科学的発見や理論の発展のデータを収集し、それを時間軸に沿って視覚的に表現することで、科学史の流れを理解するのに役立つプログラムを作ることができます。\n",
       "\n",
       "これには、Pythonのようなプログラミング言語と、PandasやMatplotlib、Seabornなどのデータ分析やビジュアライザーションのライブラリがよく用いられます。以下に、一例を示します（ただし、このプログラムは具体的なデータがないため実行できません）：\n",
       "\n",
       "```python\n",
       "import pandas as pd\n",
       "import matplotlib.pyplot as plt\n",
       "\n",
       "# 科学的発見のデータを読み込む\n",
       "data = pd.read_csv('scientific_discoveries.csv')\n",
       "\n",
       "# 発見の年度でデータをソートする\n",
       "data = data.sort_values('year')\n",
       "\n",
       "# 発見の数を年度で積み上げた棒グラフを作成する\n",
       "data['year'].value_counts().sort_index().cumsum().plot(kind='bar')\n",
       "\n",
       "plt.title('Cumulative scientific discoveries over time')\n",
       "plt.xlabel('Year')\n",
       "plt.ylabel('Number of discoveries')\n",
       "\n",
       "plt.show()\n",
       "```\n",
       "\n",
       "このプログラムは、'scientific_discoveries.csv'というファイルから科学的発見のデータを読み込み、それを年度でソートします。そして、各年度の発見の数を積み上げた棒グラフを作成します。これにより、時間の経過とともに科学的発見がどのように増加してきたかを視覚的に理解することができます。\n",
       "\n",
       "ただし、これはあくまで一例であり、具体的な方法は目的や利用可能なデータによります。また、科学史を遡ることは、ただデータを解析するだけではなく、その背景にある思想や文化、社会的な影響などを理解することも重要です。"
      ],
      "text/plain": [
       "<IPython.core.display.Markdown object>"
      ]
     },
     "execution_count": 1,
     "metadata": {
      "text/markdown": {
       "jupyter_ai": {
        "custom_chain_id": "vioras"
       }
      }
     },
     "output_type": "execute_result"
    }
   ],
   "source": [
    "%%ai vioras\n",
    "プログラミングで科学史を遡ることはできますか？"
   ]
  },
  {
   "cell_type": "code",
   "execution_count": 2,
   "id": "352d133d-c4ba-4a68-9c75-97578ff93a32",
   "metadata": {},
   "outputs": [
    {
     "data": {
      "text/markdown": [
       "申し訳ありませんが、私は具体的な`scientific_discoveries.csv`ファイルを提供する能力がありません。このファイル名は一例として使用したものです。\n",
       "\n",
       "しかし、あなたが自身で科学的な発見に関するデータを集めることができれば、そのデータを用いてプログラムを実行することが可能です。\n",
       "\n",
       "一般的に、このようなCSVファイルは次のような構造を持つことが多いです：\n",
       "\n",
       "```csv\n",
       "discovery,year,scientist,field\n",
       "Relativity Theory,1905,Albert Einstein,Physics\n",
       "Penicillin,1928,Alexander Fleming,Biology\n",
       "DNA Structure,1953,James Watson & Francis Crick,Biology\n",
       "...\n",
       "```\n",
       "\n",
       "この例では、各列はそれぞれ「発見」、「年」、「科学者」、「分野」を表しています。具体的なデータは、あなたが収集した情報に基づいて異なるでしょう。"
      ],
      "text/plain": [
       "<IPython.core.display.Markdown object>"
      ]
     },
     "execution_count": 2,
     "metadata": {
      "text/markdown": {
       "jupyter_ai": {
        "custom_chain_id": "vioras"
       }
      }
     },
     "output_type": "execute_result"
    }
   ],
   "source": [
    "%%ai vioras\n",
    "`scientific_discoveries.csv`の具体的なデータはありますか？"
   ]
  }
 ],
 "metadata": {
  "kernelspec": {
   "display_name": "Python 3 (ipykernel)",
   "language": "python",
   "name": "python3"
  },
  "language_info": {
   "codemirror_mode": {
    "name": "ipython",
    "version": 3
   },
   "file_extension": ".py",
   "mimetype": "text/x-python",
   "name": "python",
   "nbconvert_exporter": "python",
   "pygments_lexer": "ipython3",
   "version": "3.11.8"
  }
 },
 "nbformat": 4,
 "nbformat_minor": 5
}
