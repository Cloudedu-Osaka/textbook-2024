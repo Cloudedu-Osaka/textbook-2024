{
 "cells": [
  {
   "cell_type": "markdown",
   "id": "43bd770f-b64e-41c3-a72a-abfd533fad4e",
   "metadata": {},
   "source": [
    "# 九九のない世界"
   ]
  },
  {
   "cell_type": "markdown",
   "id": "1b4f93c0-b86c-44e3-a57d-e1b09fecfa64",
   "metadata": {},
   "source": [
    "## なぜLeibnizは2進法を導入しようとしたのか?!\n",
    "\n",
    "* [Gottfried Wilhelm Leibniz - Wikipedia](https://en.wikipedia.org/wiki/Gottfried_Wilhelm_Leibniz) (1646&ndash;1716)\n",
    "     - [Dropping In on Gottfried Leibniz—Stephen Wolfram Writings](https://writings.stephenwolfram.com/2013/05/dropping-in-on-gottfried-leibniz/)"
   ]
  },
  {
   "cell_type": "markdown",
   "id": "efe36ba1-fc88-4b41-8374-e5d1dfb82bdc",
   "metadata": {},
   "source": [
    "<img src=\"https://content.wolfram.com/uploads/sites/43/2013/05/33-large-a.png\"/>"
   ]
  },
  {
   "cell_type": "code",
   "execution_count": 5,
   "id": "ef7aa880-2dd6-4e1c-8f47-d3a111c2f1b2",
   "metadata": {},
   "outputs": [
    {
     "data": {
      "text/markdown": [
       "ゴットフリート・ヴィルヘルム・ライプニッツ（Gottfried Wilhelm Leibniz）は、17世紀のドイツの数学者・哲学者で、彼の業績は微分積分学の共同発明者として最もよく知られていますが、彼はまた、現代のコンピュータの基礎を成す二進数システムを発見・提唱した人物でもあります。\n",
       "\n",
       "ライプニッツは、1695年に著した \"Explication de l'Arithmétique Binaire\"（二進算術の説明）という論文にて、二進数（Base-2）の概念を公式に導入した最初の人物として認識されています。彼は、このシステムが論理と形而上学に深い関連性を持つことを理解しました。\n",
       "\n",
       "二進数は、0と1の二つの数字だけを用いて数を表現する数の表現方法です。このシンプルな表現方法は、電子計算機が登場した20世紀になってから、その真価を発揮します。電子計算機内部では、電流が流れている状態を「1」、流れていない状態を「0」とすることで、二進数を用いて情報を表現し、処理することができます。\n",
       "\n",
       "したがって、ライプニッツの二進数の発見は、現代のデジタルコンピュータの基礎を築く重要な成果であり、彼の数学と哲学の業績の一部として広く認識されています。"
      ],
      "text/plain": [
       "<IPython.core.display.Markdown object>"
      ]
     },
     "execution_count": 5,
     "metadata": {
      "text/markdown": {
       "jupyter_ai": {
        "custom_chain_id": "vioras"
       }
      }
     },
     "output_type": "execute_result"
    }
   ],
   "source": [
    "%%ai vioras\n",
    "Leibnizと二進数について"
   ]
  },
  {
   "cell_type": "code",
   "execution_count": 6,
   "id": "7a72b678-3c7f-4e37-a17a-834de17aaf60",
   "metadata": {},
   "outputs": [
    {
     "data": {
      "text/markdown": [
       "ライプニッツが二進法を表現したものとしては、彼が制作した特別なメダルが知られています。このメダルには、二進法を使用した表現が刻印されています。\n",
       "\n",
       "メダルの表面には、「0」と「1」の数列が円形に配置され、その中心には「omnibus ex nihilo ducendis sufficit unum」というラテン語のフレーズが刻印されています。これは「すべてのものを無から導き出すにはひとつで十分」という意味で、哲学的な考え方と二進法の原理を結びつけています。\n",
       "\n",
       "このメダルは、ライプニッツが二進法について深く考え、その概念を広めるために作られたと考えられています。また、ライプニッツ自身が自然哲学や形而上学に深い興味を持っていたことが、このメダルのデザインからも伺えます。\n",
       "\n",
       "現代のコンピュータ科学において、ライプニッツの二進法は基本的な概念となっています。このメダルは、そのような基本的なアイデアがどのように古くから存在し、そしてその重要性がどのように長い間認識されてきたかを示しています。"
      ],
      "text/plain": [
       "<IPython.core.display.Markdown object>"
      ]
     },
     "execution_count": 6,
     "metadata": {
      "text/markdown": {
       "jupyter_ai": {
        "custom_chain_id": "vioras"
       }
      }
     },
     "output_type": "execute_result"
    }
   ],
   "source": [
    "%%ai vioras\n",
    "Leibnizの二進法が刻印されたメダルについて"
   ]
  },
  {
   "cell_type": "code",
   "execution_count": 11,
   "id": "7eef6dfb-1a93-4e75-b73b-3678368f8dc0",
   "metadata": {},
   "outputs": [
    {
     "data": {
      "text/markdown": [
       "ゴットフリート・ヴィルヘルム・ライプニッツ（Leibniz）の「omnibus ex nihilo ducendis sufficit unum」（すべてのものを無から導き出すには一つで十分）とピタゴラス（Pythagoras）の「πάντα ἀριθμεῖ」（すべては数）という言葉は、それぞれの哲学的な視点を反映していますが、直接的な関連性はありません。\n",
       "\n",
       "ライプニッツの言葉は、彼の二進法への理解と、数学的な表現が宇宙の理解に役立つという彼の信念を表しています。彼は、シンプルな要素（この場合は0と1）から複雑なシステムや真理を導き出すことができると信じていました。\n",
       "\n",
       "一方、ピタゴラスの「すべては数」は、数が宇宙の本質的な構造を表すというピタゴラス派の信念を表しています。彼らは、数とその比率が音楽、天文学、道徳など、宇宙のすべての側面を規定すると考えていました。\n",
       "\n",
       "これらのフレーズは、数と数学的な原則が世界を理解する鍵であるという共通の考え方を反映しています。しかし、それぞれが唱える具体的な思想や理論は、異なる時代と文化背景から生まれています。"
      ],
      "text/plain": [
       "<IPython.core.display.Markdown object>"
      ]
     },
     "execution_count": 11,
     "metadata": {
      "text/markdown": {
       "jupyter_ai": {
        "custom_chain_id": "vioras"
       }
      }
     },
     "output_type": "execute_result"
    }
   ],
   "source": [
    "%%ai vioras\n",
    "Leibnizの\"omnibus ex nihilo ducendis sufficit unum\"と\n",
    "Pythagorasの\"πάντα ἀριθμεῖ\"に関連はありますか？"
   ]
  },
  {
   "cell_type": "code",
   "execution_count": 7,
   "id": "feada44c-6973-4046-93fa-5ec60ec0b8e3",
   "metadata": {},
   "outputs": [
    {
     "data": {
      "text/markdown": [
       "ゴットフリート・ヴィルヘルム・ライプニッツ（Leibniz）が二進数に着目した理由は、彼の哲学的な考え方と深く結びついています。ライプニッツは、理論的な真理や宇宙の秩序についての理解を深める道具として数学を見ていました。\n",
       "\n",
       "彼が二進数に興味を持ったのは、そのシンプルさと、論理的真理との直接的な関連性によるところが大きいです。二進数のシステムは、0と1の二つの要素だけで構成されており、これは彼の「対立する力の調和」の哲学に対応します。また、二進数は形而上学や神学的な観点から、存在と非存在、もしくは善と悪といった二元的な対立概念を表現するための自然な方法と見なすこともできます。\n",
       "\n",
       "また、ライプニッツは二進数が自然法則の表現に適していると信じていました。彼は、自然の法則がシンプルで一貫した原則から派生するという考えを持っていましたが、二進数はそのようなシンプルさと一貫性を提供してくれます。\n",
       "\n",
       "したがって、ライプニッツが二進数に着目したのは、その論理的なシンプルさと、自然法則や哲学的な真理の表現への可能性に魅力を感じたからだと言えます。"
      ],
      "text/plain": [
       "<IPython.core.display.Markdown object>"
      ]
     },
     "execution_count": 7,
     "metadata": {
      "text/markdown": {
       "jupyter_ai": {
        "custom_chain_id": "vioras"
       }
      }
     },
     "output_type": "execute_result"
    }
   ],
   "source": [
    "%%ai vioras\n",
    "Leibnizが二進数に着目したのは何故ですか？"
   ]
  },
  {
   "cell_type": "code",
   "execution_count": 8,
   "id": "f58d7912-4580-4ec3-9480-26e42a5d1f0a",
   "metadata": {},
   "outputs": [
    {
     "data": {
      "text/markdown": [
       "ご指摘の通り、ライプニッツが制作したメダルには二進法を用いた加算と乗算の例が刻印されています。このメダルは、ライプニッツが二進法の概念を具体的に示すために作られたもので、彼の二進法に対する深い理解と、その可能性を広く伝える意図が見て取れます。\n",
       "\n",
       "このメダルに刻印された二進法の加算と乗算の例は、二進法がどのようにして機能するかを示す教育的なツールともなっていました。それは、現代のコンピュータが内部的にデータを処理する基本的な方法を示しており、その意味では、このメダルは現代のデジタルコンピュータの原型とも言えます。\n",
       "\n",
       "ライプニッツの二進法の発見は、コンピュータ科学とデジタル技術の発展における重要な一歩となりました。そして、彼が作成したこのメダルは、その重要なアイデアを具体化し、広く共有するための一つの手段となったのです。"
      ],
      "text/plain": [
       "<IPython.core.display.Markdown object>"
      ]
     },
     "execution_count": 8,
     "metadata": {
      "text/markdown": {
       "jupyter_ai": {
        "custom_chain_id": "vioras"
       }
      }
     },
     "output_type": "execute_result"
    }
   ],
   "source": [
    "%%ai vioras\n",
    "Leibnizのメダルには二進法の加算と乗算の例が刻印されています"
   ]
  },
  {
   "cell_type": "code",
   "execution_count": 9,
   "id": "cc72c1ef-e8b9-4a10-aab3-77f72348f313",
   "metadata": {},
   "outputs": [
    {
     "data": {
      "text/markdown": [
       "二進数（ビット）の乗算は、基本的には0と1の二つの数字だけで行われるため、計算が簡素化されます。具体的には、二進数の乗算は以下の規則に基づいて行われます：\n",
       "\n",
       "1. $0 \\times 0 = 0$\n",
       "2. $0 \\times 1 = 0$\n",
       "3. $1 \\times 0 = 0$\n",
       "4. $1 \\times 1 = 1$\n",
       "\n",
       "これは、10進数の乗算（$2 \\times 2 = 4$、$3 \\times 3 = 9$ など）と比べて非常にシンプルです。このシンプルさは、コンピュータが大量のデータを高速に処理する際に大いに利点となります。\n",
       "\n",
       "また、長い二進数同士の乗算も、基本的にはこれらのシンプルなルールを用いて行われます。それぞれのビットを乗算し、適切に位置をずらしながら（シフト操作）、その結果を加算することで、全体の乗算結果が得られます。\n",
       "\n",
       "このように、二進数の乗算は計算の簡素化と高速化を可能にし、現代のデジタルコンピュータにとって重要な基礎を提供しています。"
      ],
      "text/plain": [
       "<IPython.core.display.Markdown object>"
      ]
     },
     "execution_count": 9,
     "metadata": {
      "text/markdown": {
       "jupyter_ai": {
        "custom_chain_id": "vioras"
       }
      }
     },
     "output_type": "execute_result"
    }
   ],
   "source": [
    "%%ai vioras\n",
    "二進数の乗算で計算が簡素化される理由について"
   ]
  },
  {
   "cell_type": "code",
   "execution_count": 10,
   "id": "9c1fa761-debe-48fd-941d-f5f9a346f3df",
   "metadata": {},
   "outputs": [
    {
     "data": {
      "text/markdown": [
       "二進法での乗算を紹介するため、10進数の $5 \\times 3$ を例に取りましょう。この計算を二進法で行うためには、まず10進数を二進数に変換します。\n",
       "\n",
       "- 10進数の5は二進数では101\n",
       "- 10進数の3は二進数では11\n",
       "\n",
       "これらの二進数を用いて乗算を行います。筆算の形式で示すと以下のようになります：\n",
       "\n",
       "```\n",
       "  101 (これは5を表す)\n",
       "x  11 (これは3を表す)\n",
       "------\n",
       " 101  (下から1番目の位が1なので、上の数をそのまま書きます。)\n",
       "+1000 (下から2番目の位が1なので、上の数を左に1ビットシフトして書きます。)\n",
       "------\n",
       "1111  (これが結果で、これは二進数で15を表す)\n",
       "```\n",
       "\n",
       "このようにして、二進法での乗算を行うことができます。この結果は二進数で1111となり、これを10進数に戻すと15となります。つまり、$5 \\times 3 = 15$ となることが確認できました。\n",
       "\n",
       "なお、二進法での乗算は、各ビットでの乗算（0か1だけなのでシンプル）とビットシフト（場所の移動）、そして加算から成ります。そのため、ハードウェアレベルでの実装が容易で、高速な動作が可能となっています。"
      ],
      "text/plain": [
       "<IPython.core.display.Markdown object>"
      ]
     },
     "execution_count": 10,
     "metadata": {
      "text/markdown": {
       "jupyter_ai": {
        "custom_chain_id": "vioras"
       }
      }
     },
     "output_type": "execute_result"
    }
   ],
   "source": [
    "%%ai vioras\n",
    "Leibnizのメダルのように$5 \\times 3$の例を筆算で示してください"
   ]
  }
 ],
 "metadata": {
  "kernelspec": {
   "display_name": "Python 3 (ipykernel)",
   "language": "python",
   "name": "python3"
  },
  "language_info": {
   "codemirror_mode": {
    "name": "ipython",
    "version": 3
   },
   "file_extension": ".py",
   "mimetype": "text/x-python",
   "name": "python",
   "nbconvert_exporter": "python",
   "pygments_lexer": "ipython3",
   "version": "3.11.8"
  }
 },
 "nbformat": 4,
 "nbformat_minor": 5
}
