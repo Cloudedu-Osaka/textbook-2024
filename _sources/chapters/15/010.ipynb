{
 "cells": [
  {
   "cell_type": "markdown",
   "id": "d8ddd1cd-872e-4156-bc85-27d51d40ff89",
   "metadata": {},
   "source": [
    "# 微分と幾何学"
   ]
  },
  {
   "cell_type": "markdown",
   "id": "105327ea-9a6c-4cf5-a16a-e884c8f01989",
   "metadata": {},
   "source": [
    "* (1596&ndash;1650) [René Descartes - Wikipedia](https://en.wikipedia.org/wiki/Ren%C3%A9_Descartes)\n",
    "    * (1637) [La Géométrie - Wikipedia](https://en.wikipedia.org/wiki/La_G%C3%A9om%C3%A9trie)\n",
    "        * [Cartesian coordinate system - Wikipedia](https://en.wikipedia.org/wiki/Cartesian_coordinate_system)\n",
    "        * [Euclidean space - Wikipedia](https://en.wikipedia.org/wiki/Euclidean_space)\n",
    "* (1642&ndash;1727) [Isaac Newton - Wikipedia](https://en.wikipedia.org/wiki/Isaac_Newton)\n",
    "* (1646&ndash;1716) [Gottfried Wilhelm Leibniz - Wikipedia](https://en.wikipedia.org/wiki/Gottfried_Wilhelm_Leibniz)"
   ]
  },
  {
   "cell_type": "markdown",
   "id": "d76e2d82-5179-4130-b684-3be92c58e798",
   "metadata": {},
   "source": [
    "## Tangent\n",
    "* [Tangent - Wikipedia](https://en.wikipedia.org/wiki/Tangent)"
   ]
  },
  {
   "cell_type": "markdown",
   "id": "25a19676-b690-4b9c-8ae3-907cc527acae",
   "metadata": {},
   "source": [
    ":::{image} https://upload.wikimedia.org/wikipedia/commons/0/0f/Tangent_to_a_curve.svg\n",
    ":width: 60%\n",
    ":::"
   ]
  },
  {
   "cell_type": "code",
   "execution_count": 9,
   "id": "0d4907af-3579-4ec2-8dea-0fd2523461f9",
   "metadata": {},
   "outputs": [
    {
     "data": {
      "text/markdown": [
       "微分可能な陽関数（すなわち $y = f(x)$ のような形で表される関数）の接線の公式は、初期の微分積分学の開発者であるニュートンとライプニッツによって確立されました。\n",
       "\n",
       "具体的には、関数 $y=f(x)$ が微分可能であるとき、その曲線上のある点 $P(x_0, f(x_0))$ における接線の方程式は次の形になります：\n",
       "\n",
       "$$ y - f(x_0) = f'(x_0)(x - x_0) $$\n",
       "\n",
       "この公式は、微分の基本的な幾何学的解釈を提供します。すなわち、関数の導関数 $f'(x_0)$ は、関数のグラフにおける点 $P$ での接線の傾きを表します。この公式は、微分積分学の重要な応用の一つであり、曲線の局所的な振る舞いを理解するための基本的な道具となっています。"
      ],
      "text/plain": [
       "<IPython.core.display.Markdown object>"
      ]
     },
     "execution_count": 9,
     "metadata": {
      "text/markdown": {
       "jupyter_ai": {
        "custom_chain_id": "vioras"
       }
      }
     },
     "output_type": "execute_result"
    }
   ],
   "source": [
    "%%ai vioras\n",
    "微分可能な陽関数の接線の公式を発見したのは？"
   ]
  },
  {
   "cell_type": "markdown",
   "id": "32a9011c-ce6b-4b22-913a-f31160e5fde5",
   "metadata": {},
   "source": [
    "## Curvature circle / Osculating circle\n",
    "\n",
    "\n",
    "```{note}\n",
    "二次元ユークリッド空間に埋めこまれた一次元曲線の曲率\n",
    "```"
   ]
  },
  {
   "cell_type": "markdown",
   "id": "cb09e951-c71e-4f9e-ac0d-180b003152c9",
   "metadata": {
    "jp-MarkdownHeadingCollapsed": true
   },
   "source": [
    "* [Tangent circles - Wikipedia](https://en.wikipedia.org/wiki/Tangent_circles)\n",
    "* [Osculating circle - Wikipedia](https://en.wikipedia.org/wiki/Osculating_circle)\n",
    "    - \"among all tangent circles at the given point that approaches the curve **most tightly**\""
   ]
  },
  {
   "cell_type": "markdown",
   "id": "02bd1da0-f12b-4f34-aa08-ba9d2af2b128",
   "metadata": {},
   "source": [
    ":::{image} https://upload.wikimedia.org/wikipedia/commons/8/84/Osculating_circle.svg\n",
    ":width: 60%"
   ]
  },
  {
   "cell_type": "code",
   "execution_count": 5,
   "id": "01d68f21-5573-43a3-94a1-2113c778ea6b",
   "metadata": {},
   "outputs": [
    {
     "data": {
      "text/markdown": [
       "\"circulus osculans\"はラテン語で、英語では\"osculating circle\"と呼ばれ、直訳すると「接吻する円」や「キスする円」となります。これは曲線上のある点において、該当の曲線と最も密接に一致する円のことを指します。\n",
       "\n",
       "曲線上の点Pにおけるosculating circleは、その曲線がその点で他の全ての円よりも密接に一致する円であり、その点における曲率を最もよく表現します。この円の半径は曲率半径と呼ばれ、その逆数が曲率となります。曲線がその点でどれだけ急に曲がっているかを定量化するために使われます。\n",
       "\n",
       "ライプニッツは、このような円が微分計算の文脈で自然に現れることを示しました。これは、曲線の微分可能性と曲率の概念を結びつける重要な洞察であり、微分幾何学の基礎を築きました。\n",
       "\n",
       "具体的には、曲線の任意の点における接線は、曲線の一次近似を与えます。同様に、osculating circleはその点における曲線の二次近似を与え、曲線がどのように曲がっているかという情報を捉えます。"
      ],
      "text/plain": [
       "<IPython.core.display.Markdown object>"
      ]
     },
     "execution_count": 5,
     "metadata": {
      "text/markdown": {
       "jupyter_ai": {
        "custom_chain_id": "vioras"
       }
      }
     },
     "output_type": "execute_result"
    }
   ],
   "source": [
    "%%ai vioras\n",
    "ライプニッツの\"circulus osculans\"について"
   ]
  },
  {
   "cell_type": "markdown",
   "id": "0d9f8dee-8507-4a4b-baf8-baf7df9b3277",
   "metadata": {},
   "source": [
    "* 曲率円\n",
    "    * [曲率半径](https://w3e.kanazawa-it.ac.jp/math/category/kika/heimenkika/henkan-tex.cgi?target=%2Fmath%2Fcategory%2Fkika%2Fheimenkika%2Fradius_of_curvature.html&pcview=2)\n",
    "    * [曲率・曲率半径の感覚的な意味と求め方 | 高校数学の美しい物語](https://manabitimes.jp/math/952)"
   ]
  },
  {
   "cell_type": "markdown",
   "id": "22939b5e-eb3e-42a0-97ef-c11bd6962aa9",
   "metadata": {},
   "source": [
    "* [Center of curvature - Wikipedia](https://en.wikipedia.org/wiki/Center_of_curvature)\n",
    "* [Radius of curvature - Wikipedia](https://en.wikipedia.org/wiki/Radius_of_curvature)"
   ]
  },
  {
   "cell_type": "markdown",
   "id": "aab3eec9-4180-488d-9f02-f2487a417731",
   "metadata": {},
   "source": [
    ":::{image} https://upload.wikimedia.org/wikipedia/commons/3/34/Radius_of_curvature.svg\n",
    ":width: 60%\n",
    ":::"
   ]
  },
  {
   "cell_type": "markdown",
   "id": "3cf36561-aa27-4386-84e0-65d562e1d729",
   "metadata": {},
   "source": [
    "* [鉄道標識 § 曲線標 - Wikipedia](https://ja.wikipedia.org/wiki/%E9%89%84%E9%81%93%E6%A8%99%E8%AD%98#%E6%9B%B2%E7%B7%9A%E6%A8%99)\n",
    "    - [https://www.google.co.jp/maps/\\@34.7534753,135.4160154,19z](https://www.google.co.jp/maps/@34.7534753,135.4160154,19z)\n",
    "\n",
    ":::{figure} https://upload.wikimedia.org/wikipedia/commons/e/e3/Curve_Sign.jpg\n",
    ":width: 60%\n",
    ":::"
   ]
  },
  {
   "cell_type": "code",
   "execution_count": 1,
   "id": "27b58107-70bb-43d4-bd3d-7594696b40b7",
   "metadata": {},
   "outputs": [
    {
     "data": {
      "text/markdown": [
       "円の曲率は、その半径の逆数として定義されます。つまり、円の半径が $r$ である場合、その曲率 $k$ は以下のように求められます：\n",
       "\n",
       "$$ k = \\frac{1}{r} $$\n",
       "\n",
       "この公式は、円が最も単純な曲線であり、その全ての点で曲率が一定であるという性質を表しています。曲率は曲線がどれだけ急に曲がるかを表す量で、その定義から直感的に理解できると思います。つまり、小さい半径の円（つまり大きな曲率）は急に曲がり、大きな半径の円（つまり小さな曲率）はゆっくりと曲がります。"
      ],
      "text/plain": [
       "<IPython.core.display.Markdown object>"
      ]
     },
     "execution_count": 1,
     "metadata": {
      "text/markdown": {
       "jupyter_ai": {
        "custom_chain_id": "vioras"
       }
      }
     },
     "output_type": "execute_result"
    }
   ],
   "source": [
    "%%ai vioras\n",
    "円の半径と曲率の関係"
   ]
  },
  {
   "cell_type": "code",
   "execution_count": 8,
   "id": "c84df5c2-b80b-402e-ae6c-da2c1ca42b99",
   "metadata": {},
   "outputs": [
    {
     "data": {
      "text/markdown": [
       "二階微分可能な陽関数（すなわち $y=f(x)$ のような形で表される関数）によって表される曲線の曲率を求める公式は、主にレオニャルド・オイラーによって開発されました。\n",
       "\n",
       "オイラーは微分と積分の基本的な性質を広く研究し、その結果、曲率の計算において二階微分がどのように関与するかを示しました。\n",
       "\n",
       "具体的には、関数 $y=f(x)$ が二階微分可能であるとき、その曲率 $k$ は次の公式によって計算できます：\n",
       "\n",
       "$$ k = \\frac{|f''(x)|}{(1+(f'(x))^2)^{3/2}} $$\n",
       "\n",
       "ここで、$f'(x)$ は関数 $f$ の一次導関数（すなわち傾き）、$f''(x)$ は関数 $f$ の二次導関数（すなわち曲率）を表します。この公式は、曲線がどれだけ曲がっているかを定量的に表すための基本的な道具となっています。"
      ],
      "text/plain": [
       "<IPython.core.display.Markdown object>"
      ]
     },
     "execution_count": 8,
     "metadata": {
      "text/markdown": {
       "jupyter_ai": {
        "custom_chain_id": "vioras"
       }
      }
     },
     "output_type": "execute_result"
    }
   ],
   "source": [
    "%%ai vioras\n",
    "二階微分可能な陽関数によって表される曲線の曲率を求める公式を発見したのは？"
   ]
  },
  {
   "cell_type": "markdown",
   "id": "bdead6f5-a090-41c8-96fa-d68e81bd00fd",
   "metadata": {},
   "source": [
    "### 放物線 (Parabola) の場合"
   ]
  },
  {
   "cell_type": "markdown",
   "id": "e2191baa-1519-4eed-9ca8-eecdbb044069",
   "metadata": {},
   "source": [
    "* [Parabola - Wikipedia](https://en.wikipedia.org/wiki/Parabola)\n",
    "\n",
    ":::{image} https://upload.wikimedia.org/wikipedia/commons/f/f4/Parts_of_Parabola.svg\n",
    ":width: 60%\n",
    ":::"
   ]
  },
  {
   "cell_type": "code",
   "execution_count": 1,
   "id": "a41ca540-8e0e-4811-a00b-b77388a6dcc4",
   "metadata": {},
   "outputs": [
    {
     "data": {
      "text/markdown": [
       "放物線の古典的な定義は、ある固定点（焦点）からの距離とある固定直線（準線）からの距離が等しい点の集合として与えられます。\n",
       "\n",
       "焦点を $F(h, k)$ とし、準線を $y = k - p$ とすると、放物線上の任意の点 $P(x, y)$ について以下の等式が成り立つことになります。\n",
       "\n",
       "1. FとPの距離：$\\sqrt{(x - h)^2 + (y - k)^2}$\n",
       "2. Pと直線の距離：$|y - (k - p)|$\n",
       "\n",
       "これらが等しいという条件から、次のように放物線の二次方程式を導くことができます。\n",
       "\n",
       "$\\sqrt{(x - h)^2 + (y - k)^2} = |y - (k -p)|$\n",
       "\n",
       "これを計算すると以下のようになります。\n",
       "\n",
       "$(x - h)^2 + (y - k)^2 = (y - k + p)^2$\n",
       "\n",
       "これを整理すると\n",
       "\n",
       "$(x - h)^2 = 4p(y - k)$\n",
       "\n",
       "これが放物線の一般的な形式の方程式になります。ここで、準線は $y = k - p$ と仮定しましたので、上向きの放物線を考えています。また、 $4p$ は放物線の焦点と直頂点の距離の2倍です。"
      ],
      "text/plain": [
       "<IPython.core.display.Markdown object>"
      ]
     },
     "execution_count": 1,
     "metadata": {
      "text/markdown": {
       "jupyter_ai": {
        "custom_chain_id": "vioras"
       }
      }
     },
     "output_type": "execute_result"
    }
   ],
   "source": [
    "%%ai vioras\n",
    "古典的な焦点と準線による放物線の定義から、放物線の二次方程式を求めて下さい"
   ]
  },
  {
   "cell_type": "code",
   "execution_count": 2,
   "id": "1f78efc9-ba16-42b3-a0f7-7e915d682480",
   "metadata": {},
   "outputs": [
    {
     "data": {
      "text/markdown": [
       "上記で導出した放物線の二次方程式 $(x - h)^2 = 4p(y - k)$ を陽関数に変形します。陽関数とは、一方の変数（この場合は $y$）が他方の変数（この場合は $x$）の関数として書かれる形式のことを指します。\n",
       "\n",
       "まず、両辺を $4p$ で割りましょう。\n",
       "\n",
       "$\\frac{(x - h)^2}{4p} = y - k$\n",
       "\n",
       "次に、等式の右側に $k$ を加えます。\n",
       "\n",
       "$y = \\frac{(x - h)^2}{4p} + k$\n",
       "\n",
       "これが放物線の陽関数形式の方程式です。具体的な値によりますが、ここでは $h$ は放物線の頂点の $x$ 座標、$k$ は頂点の $y$ 座標、$p$ は焦点と頂点の距離を表します。\n",
       "\n",
       "以上の結果を簡約化するためには、特定の値を適用する必要があります。具体的な値が与えられていないため、これ以上簡約化することはできません。"
      ],
      "text/plain": [
       "<IPython.core.display.Markdown object>"
      ]
     },
     "execution_count": 2,
     "metadata": {
      "text/markdown": {
       "jupyter_ai": {
        "custom_chain_id": "vioras"
       }
      }
     },
     "output_type": "execute_result"
    }
   ],
   "source": [
    "%%ai vioras\n",
    "求めた放物線の方程式を、陽関数に変形し簡約化してください"
   ]
  },
  {
   "cell_type": "code",
   "execution_count": 3,
   "id": "1363ee70-c7a3-4728-ae1f-113d041c5c88",
   "metadata": {},
   "outputs": [
    {
     "data": {
      "text/markdown": [
       "まず、与えられた放物線の方程式 $y = \\frac{(x - h)^2}{4p} + k$ の一次微分を取りましょう。これは、放物線上の任意の点での接線の傾きを与えます。\n",
       "\n",
       "微分すると、次のようになります。\n",
       "\n",
       "$\\frac{dy}{dx} = \\frac{2(x - h)}{4p}$\n",
       "\n",
       "これを整理すると、\n",
       "\n",
       "$\\frac{dy}{dx} = \\frac{x - h}{2p}$\n",
       "\n",
       "これが接線の傾きを表す式です。\n",
       "\n",
       "次に、接線の方程式を求めます。一般的に、傾き$m$、点$(x_1, y_1)$を通る直線の方程式は次のように表されます。\n",
       "\n",
       "$y - y_1 = m(x - x_1)$\n",
       "\n",
       "ここで、$m$は傾き（上記で求めた微分の値）、$(x_1, y_1)$は放物線上の点（ここでは、$x_1$は与えられた$x$の値、$y_1$はそのときの$y$の値、つまり$y_1 = \\frac{(x_1 - h)^2}{4p} + k$）です。\n",
       "\n",
       "したがって、$x=x_1$における接線の方程式は次のようになります。\n",
       "\n",
       "$y - \\left(\\frac{(x_1 - h)^2}{4p} + k\\right) = \\frac{x_1 - h}{2p}(x - x_1)$\n",
       "\n",
       "これが求める接線の方程式です。"
      ],
      "text/plain": [
       "<IPython.core.display.Markdown object>"
      ]
     },
     "execution_count": 3,
     "metadata": {
      "text/markdown": {
       "jupyter_ai": {
        "custom_chain_id": "vioras"
       }
      }
     },
     "output_type": "execute_result"
    }
   ],
   "source": [
    "%%ai vioras\n",
    "この放物線について、与えられた$x$における接線の方程式を求めて下さい"
   ]
  },
  {
   "cell_type": "code",
   "execution_count": 4,
   "id": "66729ca4-3244-4bfc-bac8-a8b5c4437b41",
   "metadata": {},
   "outputs": [
    {
     "data": {
      "text/markdown": [
       "曲率とは、曲線がどれだけ曲がっているかを表す量で、曲率円とは特定の点での曲率を表す円を指します。曲率は接線の傾きが変化する度合いを表します。 \n",
       "\n",
       "曲線 $y = f(x)$ の任意の点 $(x, y)$ での曲率 $k$ は次のように定義されます。\n",
       "\n",
       "$k = \\frac{|y''|}{(1 + (y')^2)^{3/2}}$\n",
       "\n",
       "ここで、$y'$ は一次導関数、$y''$ は二次導関数です。また、曲率の半径 $r$ は曲率 $k$ の逆数、つまり $r = \\frac{1}{k}$ です。\n",
       "\n",
       "与えられた放物線の方程式 $y = \\frac{(x - h)^2}{4p} + k$ の一次導関数は以下の通りでした。\n",
       "\n",
       "$y' = \\frac{x - h}{2p}$\n",
       "\n",
       "二次導関数を求めると次のようになります。\n",
       "\n",
       "$y'' = \\frac{1}{2p}$\n",
       "\n",
       "これらを上記の曲率の定義に代入します。\n",
       "\n",
       "$k = \\frac{|\\frac{1}{2p}|}{(1 + (\\frac{x - h}{2p})^2)^{3/2}}$\n",
       "\n",
       "ここで、$x$ は与えられた値を使用します。\n",
       "\n",
       "求めた曲率 $k$ の逆数を取ると、曲率半径 $r$ が得られます。\n",
       "\n",
       "$r = \\frac{1}{k}$\n",
       "\n",
       "曲率円の中心は、曲線上の点から接線の方向に曲率半径 $r$ だけ離れた点になります。接線の方向は一次導関数 $y'$ で得られ、曲線上の点は元の式 $y = \\frac{(x - h)^2}{4p} + k$ を用いて計算できます。\n",
       "\n",
       "以上の手順を踏むことで、与えられた $x$ における曲率円を求めることができます。ただし、具体的な計算は与えられた $x$ の値によります。"
      ],
      "text/plain": [
       "<IPython.core.display.Markdown object>"
      ]
     },
     "execution_count": 4,
     "metadata": {
      "text/markdown": {
       "jupyter_ai": {
        "custom_chain_id": "vioras"
       }
      }
     },
     "output_type": "execute_result"
    }
   ],
   "source": [
    "%%ai vioras\n",
    "与えられた$x$における曲率円を求めて下さい"
   ]
  },
  {
   "cell_type": "markdown",
   "id": "2f6474ff-4535-45f0-8346-16c244430725",
   "metadata": {},
   "source": [
    "### 線素 (line element) による曲率の公式の証明"
   ]
  },
  {
   "cell_type": "markdown",
   "id": "d30be5bd-7264-4275-94e3-8351aaa2aa97",
   "metadata": {},
   "source": [
    "* [Line element § Line elements in Euclidean space - Wikipedia](https://en.wikipedia.org/wiki/Line_element#Line_elements_in_Euclidean_space)\n",
    "\n",
    ":::{image} https://upload.wikimedia.org/wikipedia/commons/0/06/Line_element.svg\n",
    ":width: 60%\n",
    ":::"
   ]
  },
  {
   "cell_type": "markdown",
   "id": "4fbbf87c-7aff-4aee-be35-132b4b648a94",
   "metadata": {},
   "source": [
    "陽関数 $y = f(x)$ において、\n",
    "$x$ から $x+dx$ における微少区間 (線素 $dr$) の長さ $ds$ を考える。"
   ]
  },
  {
   "cell_type": "markdown",
   "id": "76583582-4728-4880-a7dd-393237ced229",
   "metadata": {},
   "source": [
    "$dy = f(x+dx) - f(x)$ と置くと、ピタゴラスの定理より、線素の長さ $ds$ は"
   ]
  },
  {
   "cell_type": "markdown",
   "id": "dfbeb946-91bd-4aae-b352-9c857309dd78",
   "metadata": {},
   "source": [
    "$$ds^2 = dx^2 + dy^2 = \\left(1+\\left(\\frac{dy}{dx}\\right)^2\\right)dx^2\n",
    "=\\left(1+{y'}^2\\right)dx^2$$"
   ]
  },
  {
   "cell_type": "markdown",
   "id": "7e047353-aef0-41b9-910b-023087b06c88",
   "metadata": {},
   "source": [
    "と表すことができる。"
   ]
  },
  {
   "cell_type": "markdown",
   "id": "c1634656-3d08-4c2c-ab89-82becf972a22",
   "metadata": {},
   "source": [
    "一方、$x$ における $f$ の傾き ($x$-軸となす角度) $\\varphi$ は、\n",
    "$\\tan(\\varphi) = \\frac{dy}{dx}$ と表すことができる。"
   ]
  },
  {
   "cell_type": "markdown",
   "id": "50c77de1-8ccc-4fe0-b1ed-0a03e58c8114",
   "metadata": {},
   "source": [
    "$$\\tan(\\varphi) =\\frac{dy}{dx} = f'(x) = y'$$"
   ]
  },
  {
   "cell_type": "markdown",
   "id": "0c051c1e-6a4e-4ad0-8f6a-703c0174cac1",
   "metadata": {},
   "source": [
    "さらに、微少区間における $f$ の傾きの変化を $d\\varphi$ とする。\n",
    "$f$ の傾き ($f'(x) = y'$) の変化 ($f''(x) = y''$) を用いると、"
   ]
  },
  {
   "cell_type": "markdown",
   "id": "26508dbf-b0c7-4a93-b79a-fdaebadf59ae",
   "metadata": {},
   "source": [
    "$$\\tan(\\varphi + d\\varphi) = y' + y'' dx = \\frac{dy}{dx} + \\frac{d^2 y}{dx^2} dx$$"
   ]
  },
  {
   "cell_type": "markdown",
   "id": "af61ab1a-c4cb-491e-8643-c733025d6000",
   "metadata": {},
   "source": [
    "が成り立つ。\n",
    "一方、三角関数の加法定理より\n",
    "\n",
    "* [List of trigonometric identities § Angle sum and difference identities - Wikipedia](https://en.wikipedia.org/wiki/List_of_trigonometric_identities#Angle_sum_and_difference_identities)"
   ]
  },
  {
   "cell_type": "markdown",
   "id": "27494e11-e8a2-4fab-93e7-2b5c1499f728",
   "metadata": {},
   "source": [
    "$$\n",
    "\\begin{eqnarray}\n",
    "\\tan(\\varphi + d\\varphi) &= \\frac{\\tan(\\varphi)+\\tan(d\\varphi)}{1 - \\tan(\\varphi)\\tan(d\\varphi)} \\\\\n",
    "&\\approx \\frac{\\tan(\\varphi)+d\\varphi}{1-\\tan(\\varphi)d\\varphi} \\\\\n",
    "&= \\frac{y'+d\\varphi}{1-y'd\\varphi}f\n",
    "\\end{eqnarray}\n",
    "$$"
   ]
  },
  {
   "cell_type": "markdown",
   "id": "1f758774-4a20-4ccd-8f6e-1fc0ab0b37b7",
   "metadata": {},
   "source": [
    "が成り立つ。\n",
    "ここでは微少区間を考えているので、$\\tan(d\\varphi) \\approx d\\varphi$ としている。"
   ]
  },
  {
   "cell_type": "markdown",
   "id": "63d11131-63f0-4ecb-90cf-128ecd51d9a8",
   "metadata": {},
   "source": [
    "これらの二式から、"
   ]
  },
  {
   "cell_type": "markdown",
   "id": "57b18120-266d-4b16-9a6d-d64b86d7cfe6",
   "metadata": {},
   "source": [
    "$$y'+y'' dx = \\frac{y'+d\\varphi}{1-y' d\\varphi}$$"
   ]
  },
  {
   "cell_type": "markdown",
   "id": "1130e954-8b8d-46aa-803d-f0f4cda7b80b",
   "metadata": {},
   "source": [
    "が成り立ち、この等式を傾きの変化 $d\\varphi$ について解く。\n",
    "その際、二次の微少項 $dx d\\varphi$ は無視する。"
   ]
  },
  {
   "cell_type": "markdown",
   "id": "76f490f7-c03a-4d82-afed-683986c9c808",
   "metadata": {},
   "source": [
    "$$d\\varphi = \\frac{y''}{1+{y'}^2} dx$$"
   ]
  },
  {
   "cell_type": "markdown",
   "id": "b4736322-f484-4b7f-85d2-3f340f6f1d6e",
   "metadata": {},
   "source": [
    "線素の長さ $ds$ と傾きの変化 $d\\varphi$ の比を曲率 ($\\kappa=\\frac{d\\varphi}{ds}$) または曲率半径 ($R=\\frac{ds}{d\\varphi}$) と呼ぶ。"
   ]
  },
  {
   "cell_type": "markdown",
   "id": "e80b5e59-fe72-498b-a3cc-ce16a6e622f0",
   "metadata": {},
   "source": [
    "$$\\kappa = \\frac{d\\varphi}{ds} = \\frac{y''}{\\left(1+{y'}^2\\right)^{3/2}}$$"
   ]
  },
  {
   "cell_type": "markdown",
   "id": "bcc874ee-7194-4d57-9360-a6020c6291cf",
   "metadata": {},
   "source": [
    "$$R = \\frac{ds}{d\\varphi} = \\frac{\\left(1+{y'}^2\\right)^{3/2}}{y''}$$"
   ]
  },
  {
   "cell_type": "markdown",
   "id": "fc63dde4-743b-4c0f-89c1-2718c013625a",
   "metadata": {},
   "source": [
    "## Gaussian curvature\n",
    "\n",
    "```{note}\n",
    "三次元ユークリッド空間に埋めこまれた二次元曲面の曲率\n",
    "```"
   ]
  },
  {
   "cell_type": "markdown",
   "id": "d202ed91-abb2-491f-8f84-14ebf0104f3f",
   "metadata": {},
   "source": [
    "* (1707&ndash;1783) [Leonhard Euler - Wikipedia](https://en.wikipedia.org/wiki/Leonhard_Euler)\n",
    "    * [Euler's theorem (differential geometry) - Wikipedia](https://en.wikipedia.org/wiki/Euler%27s_theorem_(differential_geometry))\n",
    "* (1777&ndash;1855) [Carl Friedrich Gauss - Wikipedia](https://en.wikipedia.org/wiki/Carl_Friedrich_Gauss)\n",
    "    * (1827) [Theorema Egregium - Wikipedia](https://en.wikipedia.org/wiki/Theorema_Egregium)"
   ]
  },
  {
   "cell_type": "markdown",
   "id": "29d91039-086a-4285-b79a-067b1b4e99b1",
   "metadata": {},
   "source": [
    ":::{image} https://upload.wikimedia.org/wikipedia/commons/6/61/Gaussian_curvature.svg\n",
    ":width: 60%\n",
    ":::"
   ]
  },
  {
   "cell_type": "code",
   "execution_count": 2,
   "id": "b072094e-5bcd-483a-9685-481aabc34d9e",
   "metadata": {},
   "outputs": [
    {
     "data": {
      "text/markdown": [
       "球面のガウス曲率は、その半径の逆数の二乗として定義されます。つまり、球の半径が $r$ である場合、そのガウス曲率 $K$ は次のように計算できます：\n",
       "\n",
       "$$ K = \\frac{1}{r^2} $$\n",
       "\n",
       "ガウス曲率は、2次元曲面の局所的な曲がり方を記述するために使用されます。具体的には、曲面上の任意の点で2つの主曲率（最大曲率と最小曲率）を掛け合わせることで計算されます。\n",
       "\n",
       "球面の場合、すべての方向で曲率は一定です。よって、任意の2つの主曲率は同じとなり、それらの積（つまりガウス曲率）も一定となります。\n",
       "\n",
       "また、ガウス曲率は、その曲面が平坦（ガウス曲率が0）、正（ガウス曲率が正）、または負（ガウス曲率が負）であるかを示します。球面の場合、全ての点でガウス曲率は正となります。"
      ],
      "text/plain": [
       "<IPython.core.display.Markdown object>"
      ]
     },
     "execution_count": 2,
     "metadata": {
      "text/markdown": {
       "jupyter_ai": {
        "custom_chain_id": "vioras"
       }
      }
     },
     "output_type": "execute_result"
    }
   ],
   "source": [
    "%%ai vioras\n",
    "球面とガウス曲率"
   ]
  },
  {
   "cell_type": "code",
   "execution_count": 4,
   "id": "25f604c1-f14d-4839-a15b-df71c3824102",
   "metadata": {},
   "outputs": [
    {
     "data": {
      "text/markdown": [
       "ガウスの偉大な定理（Gauss's Theorema Egregium）は、ドイツの数学者カール・フリードリヒ・ガウスによって発表された重要な定理です。ガウスの偉大な定理は、曲面の「局所的な」性質を「大域的な」性質と関連付けるもので、現代の幾何学、特に微分幾何学の基礎を形成しています。\n",
       "\n",
       "具体的には、この定理は曲面のガウス曲率が「内在的」であると述べています。つまり、ガウス曲率は曲面が埋め込まれている空間の形状や配置によらず、曲面自体の形状だけに依存するということです。この意味で、ガウス曲率は「内在的」な量であり、例えば、曲面上を動く虫がその存在を感じ取ることができます。\n",
       "\n",
       "これは、曲面がどのように3次元空間に埋め込まれていても、その曲面上で測定される距離や角度は変わらないという事実に対応しています。このため、ガウスの偉大な定理はしばしば「大域的な」定理と呼ばれます。\n",
       "\n",
       "この定理の重要性は、曲率という概念が幾何学的な直観を超え、より深い抽象的な意味を持つことを示している点にあります。これは、曲率が純粋に曲面自体の性質を表す量であるという洞察を与え、リーマン幾何学などの発展を導きました。"
      ],
      "text/plain": [
       "<IPython.core.display.Markdown object>"
      ]
     },
     "execution_count": 4,
     "metadata": {
      "text/markdown": {
       "jupyter_ai": {
        "custom_chain_id": "vioras"
       }
      }
     },
     "output_type": "execute_result"
    }
   ],
   "source": [
    "%%ai vioras\n",
    "ガウスの偉大な定理について"
   ]
  },
  {
   "cell_type": "markdown",
   "id": "d230076f-8358-4bbc-9414-6f31fb897c80",
   "metadata": {},
   "source": [
    "## Scalar curvature\n",
    "\n",
    "```{note}\n",
    "曲率を多次元空間の曲面に一般化\n",
    "```"
   ]
  },
  {
   "cell_type": "markdown",
   "id": "72f468ee-b62c-42a5-8031-5c9ec93c78aa",
   "metadata": {},
   "source": [
    "* [n-sphere - Wikipedia](https://en.wikipedia.org/wiki/N-sphere)"
   ]
  },
  {
   "cell_type": "code",
   "execution_count": 3,
   "id": "8a32cc7b-4d3c-4dfa-aad2-89003c97f95d",
   "metadata": {},
   "outputs": [
    {
     "data": {
      "text/markdown": [
       "$n$次元球面（$n$-sphere）の半径が $r$ のとき、そのスカラー曲率（リッチスカラー）$R$ は以下のように定義されます：\n",
       "\n",
       "$$ R = \\frac{n(n-1)}{r^2} $$\n",
       "\n",
       "スカラー曲率はリーマン曲率テンソルの成分を足し合わせたものであり、その意味では曲率の一種ですが、具体的な形状や向きを持つわけではなく、ある意味で「全体的な」曲率を表します。\n",
       "\n",
       "この公式は、球面が等方的（つまり、どの方向から見ても同じ）であるという性質を反映しています。すなわち、球面の全ての点において、その「局所的な」曲がり方は一定です。このため、スカラー曲率は一定となり、その値は半径の逆数の二乗に比例します。\n",
       "\n",
       "なお、$n$次元球面とは、通常我々が考える3次元空間の球（2次元球面）や、2次元平面の円（1次元球面）を一般化したものを指します。"
      ],
      "text/plain": [
       "<IPython.core.display.Markdown object>"
      ]
     },
     "execution_count": 3,
     "metadata": {
      "text/markdown": {
       "jupyter_ai": {
        "custom_chain_id": "vioras"
       }
      }
     },
     "output_type": "execute_result"
    }
   ],
   "source": [
    "%%ai vioras\n",
    "n次元球面のスカラー曲率"
   ]
  },
  {
   "cell_type": "code",
   "execution_count": null,
   "id": "38244e90-a175-4ac2-b3e7-1c452c246edb",
   "metadata": {},
   "outputs": [],
   "source": []
  }
 ],
 "metadata": {
  "kernelspec": {
   "display_name": "Python 3 (ipykernel)",
   "language": "python",
   "name": "python3"
  },
  "language_info": {
   "codemirror_mode": {
    "name": "ipython",
    "version": 3
   },
   "file_extension": ".py",
   "mimetype": "text/x-python",
   "name": "python",
   "nbconvert_exporter": "python",
   "pygments_lexer": "ipython3",
   "version": "3.11.8"
  }
 },
 "nbformat": 4,
 "nbformat_minor": 5
}
