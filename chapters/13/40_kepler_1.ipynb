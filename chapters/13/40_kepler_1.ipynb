{
 "cells": [
  {
   "cell_type": "markdown",
   "id": "1192efa6-7c83-4097-b1c9-21f7033f0d41",
   "metadata": {},
   "source": [
    "# ケプラーの第一法則\n",
    "\n",
    "* (1609) The orbit of a planet is an ellipse with the Sun at one of the two foci."
   ]
  },
  {
   "cell_type": "markdown",
   "id": "de532e0d-36ec-485d-b35a-c300c53e2b49",
   "metadata": {},
   "source": [
    "![fig-01](https://upload.wikimedia.org/wikipedia/commons/9/98/Kepler_laws_diagram.svg)"
   ]
  },
  {
   "cell_type": "markdown",
   "id": "2a3fecf0-1abc-46dd-a695-dbd95fd20ed8",
   "metadata": {},
   "source": [
    "## 楕円"
   ]
  },
  {
   "cell_type": "markdown",
   "id": "0a1d945e-ebdd-465c-8baa-711c5b266561",
   "metadata": {},
   "source": [
    "### 離心率 (eccentricity)"
   ]
  },
  {
   "cell_type": "markdown",
   "id": "5a4289a2-1326-4741-936a-680192f1e39c",
   "metadata": {},
   "source": [
    "* [Conic section - Wikipedia](https://en.wikipedia.org/wiki/Conic_section)\n",
    "    - [Conic section - Wikipedia](https://en.wikipedia.org/wiki/Conic_section#Eccentricity,_focus_and_directrix)#Eccentricity,_focus_and_directrix"
   ]
  },
  {
   "cell_type": "markdown",
   "id": "ecbdda24-2d74-41c2-92b3-67217e38d6da",
   "metadata": {},
   "source": [
    "円錐曲線の離心率 $e$ は、曲線上の点 $P$ と焦点 $F$ の距離と準線 $L$ の距離の比である。"
   ]
  },
  {
   "cell_type": "markdown",
   "id": "b3a92446-005f-40dc-9fed-47a356dd9665",
   "metadata": {},
   "source": [
    "![fig-0](https://upload.wikimedia.org/wikipedia/commons/0/05/Eccentricity.png)"
   ]
  },
  {
   "cell_type": "markdown",
   "id": "4a3b4fe3-4283-4658-82d3-942aa861bae8",
   "metadata": {},
   "source": [
    "* [Eccentricity (mathematics) - Wikipedia](https://en.wikipedia.org/wiki/Eccentricity_%28mathematics%29)\n",
    "* [Ellipse - Wikipedia](https://en.wikipedia.org/wiki/Ellipse)\n",
    "    * [Semi-major and semi-minor axes - Wikipedia](https://en.wikipedia.org/wiki/Semi-major_and_semi-minor_axes)"
   ]
  },
  {
   "cell_type": "markdown",
   "id": "b91f6f9f-0b98-40d7-a667-1c713f03b3b7",
   "metadata": {},
   "source": [
    "楕円は、準線を導入せずに定義できる。\n",
    "楕円は、2つの焦点 $F_{1}, F_{2}$ からの距離の和が等しい点 $P$ の集合である。"
   ]
  },
  {
   "cell_type": "markdown",
   "id": "0f241bc8-6b16-4e7b-a6b0-f9496b7f32cd",
   "metadata": {},
   "source": [
    "![fig-10](https://upload.wikimedia.org/wikipedia/commons/a/ae/Ellipse-def-e.svg)"
   ]
  },
  {
   "cell_type": "markdown",
   "id": "e258f49a-b20e-4e13-b328-7449572b7255",
   "metadata": {
    "tags": []
   },
   "source": [
    "![fig-1](https://upload.wikimedia.org/wikipedia/commons/a/a1/Ellipse_semi-major_and_minor_axes.svg)"
   ]
  },
  {
   "cell_type": "markdown",
   "id": "84b02bf1-ea2f-43df-8eb8-66bdf42cd2bd",
   "metadata": {},
   "source": [
    "楕円は、長軸の長半径 $a$ と短軸の短半径 $b$ を用いて二次方程式の解として定義できる。\n",
    "$$\n",
    "  \\frac{x^2}{a^2} + \\frac{y^2}{b^2} = 1\n",
    "$$"
   ]
  },
  {
   "cell_type": "markdown",
   "id": "b429d58e-66de-4d43-9b68-e062be1f9d58",
   "metadata": {},
   "source": [
    "この場合、離心率は次の式で表されるが、準線を用いて定義した離心率と等しい。"
   ]
  },
  {
   "cell_type": "markdown",
   "id": "062eca89-d659-4c28-8671-dfd9d5989c01",
   "metadata": {
    "tags": []
   },
   "source": [
    "$$\n",
    "  \\epsilon = \\sqrt{1-\\frac{b^2}{a^2}}\n",
    "$$"
   ]
  },
  {
   "cell_type": "markdown",
   "id": "3736341b-ded3-42f8-84c6-9dd41f8a5260",
   "metadata": {},
   "source": [
    "## 惑星の離心率\n",
    "\n",
    "* [Orbital eccentricity - Wikipedia](https://en.wikipedia.org/wiki/Orbital_eccentricity)"
   ]
  },
  {
   "cell_type": "code",
   "execution_count": 3,
   "id": "45c4b64f-5c89-4679-b594-43e32f42658b",
   "metadata": {},
   "outputs": [
    {
     "name": "stdout",
     "output_type": "stream",
     "text": [
      "Collecting lxml\n",
      "  Using cached lxml-5.2.2-cp311-cp311-manylinux_2_28_x86_64.whl.metadata (3.4 kB)\n",
      "Using cached lxml-5.2.2-cp311-cp311-manylinux_2_28_x86_64.whl (5.0 MB)\n",
      "Installing collected packages: lxml\n",
      "Successfully installed lxml-5.2.2\n"
     ]
    }
   ],
   "source": [
    "!pip install -U lxml"
   ]
  },
  {
   "cell_type": "code",
   "execution_count": 4,
   "id": "0cf81b7a-7e3b-473e-9189-e987079fd46c",
   "metadata": {
    "tags": []
   },
   "outputs": [],
   "source": [
    "import pandas as pd"
   ]
  },
  {
   "cell_type": "code",
   "execution_count": 5,
   "id": "205c1e28-326b-46e4-96e2-55221df77478",
   "metadata": {
    "tags": []
   },
   "outputs": [],
   "source": [
    "dfs = pd.read_html('https://en.wikipedia.org/wiki/Orbital_eccentricity')"
   ]
  },
  {
   "cell_type": "code",
   "execution_count": 6,
   "id": "b6e3d55b-3e47-43d6-ad41-6b3651422be0",
   "metadata": {
    "tags": []
   },
   "outputs": [
    {
     "data": {
      "text/html": [
       "<div>\n",
       "<style scoped>\n",
       "    .dataframe tbody tr th:only-of-type {\n",
       "        vertical-align: middle;\n",
       "    }\n",
       "\n",
       "    .dataframe tbody tr th {\n",
       "        vertical-align: top;\n",
       "    }\n",
       "\n",
       "    .dataframe thead th {\n",
       "        text-align: right;\n",
       "    }\n",
       "</style>\n",
       "<table border=\"1\" class=\"dataframe\">\n",
       "  <thead>\n",
       "    <tr style=\"text-align: right;\">\n",
       "      <th></th>\n",
       "      <th>Object</th>\n",
       "      <th>Eccentricity</th>\n",
       "    </tr>\n",
       "  </thead>\n",
       "  <tbody>\n",
       "    <tr>\n",
       "      <th>0</th>\n",
       "      <td>Triton</td>\n",
       "      <td>0.00002</td>\n",
       "    </tr>\n",
       "    <tr>\n",
       "      <th>1</th>\n",
       "      <td>Venus</td>\n",
       "      <td>0.0068</td>\n",
       "    </tr>\n",
       "    <tr>\n",
       "      <th>2</th>\n",
       "      <td>Neptune</td>\n",
       "      <td>0.0086</td>\n",
       "    </tr>\n",
       "    <tr>\n",
       "      <th>3</th>\n",
       "      <td>Earth</td>\n",
       "      <td>0.0167</td>\n",
       "    </tr>\n",
       "    <tr>\n",
       "      <th>4</th>\n",
       "      <td>Titan</td>\n",
       "      <td>0.0288</td>\n",
       "    </tr>\n",
       "    <tr>\n",
       "      <th>5</th>\n",
       "      <td>Uranus</td>\n",
       "      <td>0.0472</td>\n",
       "    </tr>\n",
       "    <tr>\n",
       "      <th>6</th>\n",
       "      <td>Jupiter</td>\n",
       "      <td>0.0484</td>\n",
       "    </tr>\n",
       "    <tr>\n",
       "      <th>7</th>\n",
       "      <td>Saturn</td>\n",
       "      <td>0.0541</td>\n",
       "    </tr>\n",
       "    <tr>\n",
       "      <th>8</th>\n",
       "      <td>Luna (Moon)</td>\n",
       "      <td>0.0549</td>\n",
       "    </tr>\n",
       "    <tr>\n",
       "      <th>9</th>\n",
       "      <td>Ceres</td>\n",
       "      <td>0.0758</td>\n",
       "    </tr>\n",
       "    <tr>\n",
       "      <th>10</th>\n",
       "      <td>Vesta</td>\n",
       "      <td>0.0887</td>\n",
       "    </tr>\n",
       "    <tr>\n",
       "      <th>11</th>\n",
       "      <td>Mars</td>\n",
       "      <td>0.0934</td>\n",
       "    </tr>\n",
       "    <tr>\n",
       "      <th>12</th>\n",
       "      <td>10 Hygiea</td>\n",
       "      <td>0.1146</td>\n",
       "    </tr>\n",
       "    <tr>\n",
       "      <th>13</th>\n",
       "      <td>Makemake</td>\n",
       "      <td>0.1559</td>\n",
       "    </tr>\n",
       "    <tr>\n",
       "      <th>14</th>\n",
       "      <td>Haumea</td>\n",
       "      <td>0.1887</td>\n",
       "    </tr>\n",
       "    <tr>\n",
       "      <th>15</th>\n",
       "      <td>Mercury</td>\n",
       "      <td>0.2056</td>\n",
       "    </tr>\n",
       "    <tr>\n",
       "      <th>16</th>\n",
       "      <td>2 Pallas</td>\n",
       "      <td>0.2313</td>\n",
       "    </tr>\n",
       "    <tr>\n",
       "      <th>17</th>\n",
       "      <td>Pluto</td>\n",
       "      <td>0.2488</td>\n",
       "    </tr>\n",
       "    <tr>\n",
       "      <th>18</th>\n",
       "      <td>3 Juno</td>\n",
       "      <td>0.2555</td>\n",
       "    </tr>\n",
       "    <tr>\n",
       "      <th>19</th>\n",
       "      <td>324 Bamberga</td>\n",
       "      <td>0.3400</td>\n",
       "    </tr>\n",
       "    <tr>\n",
       "      <th>20</th>\n",
       "      <td>Eris</td>\n",
       "      <td>0.4407</td>\n",
       "    </tr>\n",
       "    <tr>\n",
       "      <th>21</th>\n",
       "      <td>Nereid</td>\n",
       "      <td>0.7507</td>\n",
       "    </tr>\n",
       "    <tr>\n",
       "      <th>22</th>\n",
       "      <td>Sedna</td>\n",
       "      <td>0.8549</td>\n",
       "    </tr>\n",
       "    <tr>\n",
       "      <th>23</th>\n",
       "      <td>Halley's Comet</td>\n",
       "      <td>0.9671</td>\n",
       "    </tr>\n",
       "    <tr>\n",
       "      <th>24</th>\n",
       "      <td>Comet Hale-Bopp</td>\n",
       "      <td>0.9951</td>\n",
       "    </tr>\n",
       "    <tr>\n",
       "      <th>25</th>\n",
       "      <td>Comet Ikeya-Seki</td>\n",
       "      <td>0.9999</td>\n",
       "    </tr>\n",
       "    <tr>\n",
       "      <th>26</th>\n",
       "      <td>Comet McNaught</td>\n",
       "      <td>1.0002[a]</td>\n",
       "    </tr>\n",
       "    <tr>\n",
       "      <th>27</th>\n",
       "      <td>C/1980 E1</td>\n",
       "      <td>1.057</td>\n",
       "    </tr>\n",
       "    <tr>\n",
       "      <th>28</th>\n",
       "      <td>ʻOumuamua</td>\n",
       "      <td>1.20[b]</td>\n",
       "    </tr>\n",
       "    <tr>\n",
       "      <th>29</th>\n",
       "      <td>2I/Borisov</td>\n",
       "      <td>3.5[c]</td>\n",
       "    </tr>\n",
       "  </tbody>\n",
       "</table>\n",
       "</div>"
      ],
      "text/plain": [
       "              Object Eccentricity\n",
       "0             Triton      0.00002\n",
       "1              Venus       0.0068\n",
       "2            Neptune       0.0086\n",
       "3              Earth       0.0167\n",
       "4              Titan       0.0288\n",
       "5             Uranus       0.0472\n",
       "6            Jupiter       0.0484\n",
       "7             Saturn       0.0541\n",
       "8        Luna (Moon)       0.0549\n",
       "9              Ceres       0.0758\n",
       "10             Vesta       0.0887\n",
       "11              Mars       0.0934\n",
       "12         10 Hygiea       0.1146\n",
       "13          Makemake       0.1559\n",
       "14            Haumea       0.1887\n",
       "15           Mercury       0.2056\n",
       "16          2 Pallas       0.2313\n",
       "17             Pluto       0.2488\n",
       "18            3 Juno       0.2555\n",
       "19      324 Bamberga       0.3400\n",
       "20              Eris       0.4407\n",
       "21            Nereid       0.7507\n",
       "22             Sedna       0.8549\n",
       "23    Halley's Comet       0.9671\n",
       "24   Comet Hale-Bopp       0.9951\n",
       "25  Comet Ikeya-Seki       0.9999\n",
       "26    Comet McNaught    1.0002[a]\n",
       "27         C/1980 E1        1.057\n",
       "28         ʻOumuamua      1.20[b]\n",
       "29        2I/Borisov       3.5[c]"
      ]
     },
     "execution_count": 6,
     "metadata": {},
     "output_type": "execute_result"
    }
   ],
   "source": [
    "dfs[1]"
   ]
  },
  {
   "cell_type": "code",
   "execution_count": 8,
   "id": "1e68c331-bb34-4830-8694-cb1441913ab6",
   "metadata": {
    "tags": []
   },
   "outputs": [
    {
     "data": {
      "text/plain": [
       "0.0934"
      ]
     },
     "execution_count": 8,
     "metadata": {},
     "output_type": "execute_result"
    }
   ],
   "source": [
    "# 火星の離心率\n",
    "float(dfs[1][dfs[1]['Object'] == 'Mars'].iloc[0]['Eccentricity'])"
   ]
  },
  {
   "cell_type": "code",
   "execution_count": 9,
   "id": "0dbcc0e0-06a8-4a0d-a8e5-0e3d0bcc0357",
   "metadata": {
    "tags": []
   },
   "outputs": [
    {
     "data": {
      "text/plain": [
       "0.0167"
      ]
     },
     "execution_count": 9,
     "metadata": {},
     "output_type": "execute_result"
    }
   ],
   "source": [
    "# 地球の離心率\n",
    "float(dfs[1][dfs[1]['Object'] == 'Earth'].iloc[0]['Eccentricity'])"
   ]
  },
  {
   "cell_type": "markdown",
   "id": "64c5a37a-bbc0-44da-a175-48b1790ee086",
   "metadata": {},
   "source": [
    "* [Mars - Wikipedia](https://en.wikipedia.org/wiki/Mars)\n",
    "* [Earth - Wikipedia](https://en.wikipedia.org/wiki/Earth)"
   ]
  },
  {
   "cell_type": "code",
   "execution_count": 10,
   "id": "3369d258-3097-480c-a5a8-68aed9981573",
   "metadata": {
    "tags": []
   },
   "outputs": [],
   "source": [
    "dfs = pd.read_html('https://en.wikipedia.org/wiki/Mars')"
   ]
  },
  {
   "cell_type": "code",
   "execution_count": 11,
   "id": "8cdfa2e0-a991-4d9a-9f4c-dc496d7d2388",
   "metadata": {
    "tags": []
   },
   "outputs": [
    {
     "data": {
      "text/html": [
       "<div>\n",
       "<style scoped>\n",
       "    .dataframe tbody tr th:only-of-type {\n",
       "        vertical-align: middle;\n",
       "    }\n",
       "\n",
       "    .dataframe tbody tr th {\n",
       "        vertical-align: top;\n",
       "    }\n",
       "\n",
       "    .dataframe thead th {\n",
       "        text-align: right;\n",
       "    }\n",
       "</style>\n",
       "<table border=\"1\" class=\"dataframe\">\n",
       "  <thead>\n",
       "    <tr style=\"text-align: right;\">\n",
       "      <th></th>\n",
       "      <th>0</th>\n",
       "      <th>1</th>\n",
       "      <th>2</th>\n",
       "      <th>3</th>\n",
       "    </tr>\n",
       "  </thead>\n",
       "  <tbody>\n",
       "    <tr>\n",
       "      <th>0</th>\n",
       "      <td>Mars in true color,[a] as captured by the Hope...</td>\n",
       "      <td>Mars in true color,[a] as captured by the Hope...</td>\n",
       "      <td>NaN</td>\n",
       "      <td>NaN</td>\n",
       "    </tr>\n",
       "    <tr>\n",
       "      <th>1</th>\n",
       "      <td>Designations</td>\n",
       "      <td>Designations</td>\n",
       "      <td>NaN</td>\n",
       "      <td>NaN</td>\n",
       "    </tr>\n",
       "    <tr>\n",
       "      <th>2</th>\n",
       "      <td>Adjectives</td>\n",
       "      <td>Martian</td>\n",
       "      <td>NaN</td>\n",
       "      <td>NaN</td>\n",
       "    </tr>\n",
       "    <tr>\n",
       "      <th>3</th>\n",
       "      <td>Symbol</td>\n",
       "      <td>NaN</td>\n",
       "      <td>NaN</td>\n",
       "      <td>NaN</td>\n",
       "    </tr>\n",
       "    <tr>\n",
       "      <th>4</th>\n",
       "      <td>Orbital characteristics[1]</td>\n",
       "      <td>Orbital characteristics[1]</td>\n",
       "      <td>NaN</td>\n",
       "      <td>NaN</td>\n",
       "    </tr>\n",
       "    <tr>\n",
       "      <th>5</th>\n",
       "      <td>Epoch J2000</td>\n",
       "      <td>Epoch J2000</td>\n",
       "      <td>NaN</td>\n",
       "      <td>NaN</td>\n",
       "    </tr>\n",
       "    <tr>\n",
       "      <th>6</th>\n",
       "      <td>Aphelion</td>\n",
       "      <td>249261000 km (1.66621 AU)[2]</td>\n",
       "      <td>NaN</td>\n",
       "      <td>NaN</td>\n",
       "    </tr>\n",
       "    <tr>\n",
       "      <th>7</th>\n",
       "      <td>Perihelion</td>\n",
       "      <td>206650000 km (1.3814 AU)[2]</td>\n",
       "      <td>NaN</td>\n",
       "      <td>NaN</td>\n",
       "    </tr>\n",
       "    <tr>\n",
       "      <th>8</th>\n",
       "      <td>Semi-major axis</td>\n",
       "      <td>227939366 km (1.52368055 AU)[3]</td>\n",
       "      <td>NaN</td>\n",
       "      <td>NaN</td>\n",
       "    </tr>\n",
       "    <tr>\n",
       "      <th>9</th>\n",
       "      <td>Eccentricity</td>\n",
       "      <td>0.0934[2]</td>\n",
       "      <td>NaN</td>\n",
       "      <td>NaN</td>\n",
       "    </tr>\n",
       "    <tr>\n",
       "      <th>10</th>\n",
       "      <td>Orbital period (sidereal)</td>\n",
       "      <td>686.980 d (1.88085 yr; 668.5991 sols)[2]</td>\n",
       "      <td>NaN</td>\n",
       "      <td>NaN</td>\n",
       "    </tr>\n",
       "    <tr>\n",
       "      <th>11</th>\n",
       "      <td>Orbital period (synodic)</td>\n",
       "      <td>779.94 d (2.1354 yr)[3]</td>\n",
       "      <td>NaN</td>\n",
       "      <td>NaN</td>\n",
       "    </tr>\n",
       "    <tr>\n",
       "      <th>12</th>\n",
       "      <td>Average orbital speed</td>\n",
       "      <td>24.07 km/s[2]</td>\n",
       "      <td>NaN</td>\n",
       "      <td>NaN</td>\n",
       "    </tr>\n",
       "    <tr>\n",
       "      <th>13</th>\n",
       "      <td>Mean anomaly</td>\n",
       "      <td>19.412°[2]</td>\n",
       "      <td>NaN</td>\n",
       "      <td>NaN</td>\n",
       "    </tr>\n",
       "    <tr>\n",
       "      <th>14</th>\n",
       "      <td>Inclination</td>\n",
       "      <td>1.850° to ecliptic5.65° to Sun's equator1.63° ...</td>\n",
       "      <td>NaN</td>\n",
       "      <td>NaN</td>\n",
       "    </tr>\n",
       "    <tr>\n",
       "      <th>15</th>\n",
       "      <td>Longitude of ascending node</td>\n",
       "      <td>49.57854°[2]</td>\n",
       "      <td>NaN</td>\n",
       "      <td>NaN</td>\n",
       "    </tr>\n",
       "    <tr>\n",
       "      <th>16</th>\n",
       "      <td>Time of perihelion</td>\n",
       "      <td>2022-Jun-21[5]</td>\n",
       "      <td>NaN</td>\n",
       "      <td>NaN</td>\n",
       "    </tr>\n",
       "    <tr>\n",
       "      <th>17</th>\n",
       "      <td>Argument of perihelion</td>\n",
       "      <td>286.5°[3]</td>\n",
       "      <td>NaN</td>\n",
       "      <td>NaN</td>\n",
       "    </tr>\n",
       "    <tr>\n",
       "      <th>18</th>\n",
       "      <td>Satellites</td>\n",
       "      <td>2 (Phobos and Deimos)</td>\n",
       "      <td>NaN</td>\n",
       "      <td>NaN</td>\n",
       "    </tr>\n",
       "    <tr>\n",
       "      <th>19</th>\n",
       "      <td>Physical characteristics</td>\n",
       "      <td>Physical characteristics</td>\n",
       "      <td>NaN</td>\n",
       "      <td>NaN</td>\n",
       "    </tr>\n",
       "    <tr>\n",
       "      <th>20</th>\n",
       "      <td>Mean radius</td>\n",
       "      <td>3389.5 ± 0.2 km[b] [6] (2106.1 ± 0.1 mi)</td>\n",
       "      <td>NaN</td>\n",
       "      <td>NaN</td>\n",
       "    </tr>\n",
       "    <tr>\n",
       "      <th>21</th>\n",
       "      <td>Equatorial radius</td>\n",
       "      <td>3396.2 ± 0.1 km[b] [6] (2110.3 ± 0.1 mi; 0.533...</td>\n",
       "      <td>NaN</td>\n",
       "      <td>NaN</td>\n",
       "    </tr>\n",
       "    <tr>\n",
       "      <th>22</th>\n",
       "      <td>Polar radius</td>\n",
       "      <td>3376.2 ± 0.1 km[b] [6] (2097.9 ± 0.1 mi; 0.531...</td>\n",
       "      <td>NaN</td>\n",
       "      <td>NaN</td>\n",
       "    </tr>\n",
       "    <tr>\n",
       "      <th>23</th>\n",
       "      <td>Flattening</td>\n",
       "      <td>0.00589±0.00015[5][6]</td>\n",
       "      <td>NaN</td>\n",
       "      <td>NaN</td>\n",
       "    </tr>\n",
       "    <tr>\n",
       "      <th>24</th>\n",
       "      <td>Surface area</td>\n",
       "      <td>1.4437×108 km2[7] (0.284 Earths)</td>\n",
       "      <td>NaN</td>\n",
       "      <td>NaN</td>\n",
       "    </tr>\n",
       "    <tr>\n",
       "      <th>25</th>\n",
       "      <td>Volume</td>\n",
       "      <td>1.63118×1011 km3[8] (0.151 Earths)</td>\n",
       "      <td>NaN</td>\n",
       "      <td>NaN</td>\n",
       "    </tr>\n",
       "    <tr>\n",
       "      <th>26</th>\n",
       "      <td>Mass</td>\n",
       "      <td>6.4171×1023 kg[9] (0.107 Earths)</td>\n",
       "      <td>NaN</td>\n",
       "      <td>NaN</td>\n",
       "    </tr>\n",
       "    <tr>\n",
       "      <th>27</th>\n",
       "      <td>Mean density</td>\n",
       "      <td>3.9335 g/cm3[8]</td>\n",
       "      <td>NaN</td>\n",
       "      <td>NaN</td>\n",
       "    </tr>\n",
       "    <tr>\n",
       "      <th>28</th>\n",
       "      <td>Surface gravity</td>\n",
       "      <td>3.72076 m/s2 (0.3794 g0)[10]</td>\n",
       "      <td>NaN</td>\n",
       "      <td>NaN</td>\n",
       "    </tr>\n",
       "    <tr>\n",
       "      <th>29</th>\n",
       "      <td>Moment of inertia factor</td>\n",
       "      <td>0.3644±0.0005[9]</td>\n",
       "      <td>NaN</td>\n",
       "      <td>NaN</td>\n",
       "    </tr>\n",
       "    <tr>\n",
       "      <th>30</th>\n",
       "      <td>Escape velocity</td>\n",
       "      <td>5.027 km/s (18100 km/h)[11]</td>\n",
       "      <td>NaN</td>\n",
       "      <td>NaN</td>\n",
       "    </tr>\n",
       "    <tr>\n",
       "      <th>31</th>\n",
       "      <td>Synodic rotation period</td>\n",
       "      <td>1.02749125 d[12]  24h 39m 36s</td>\n",
       "      <td>NaN</td>\n",
       "      <td>NaN</td>\n",
       "    </tr>\n",
       "    <tr>\n",
       "      <th>32</th>\n",
       "      <td>Sidereal rotation period</td>\n",
       "      <td>1.025957 d 24h 37m 22.7s[8]</td>\n",
       "      <td>NaN</td>\n",
       "      <td>NaN</td>\n",
       "    </tr>\n",
       "    <tr>\n",
       "      <th>33</th>\n",
       "      <td>Equatorial rotation velocity</td>\n",
       "      <td>241 m/s (870 km/h)[2]</td>\n",
       "      <td>NaN</td>\n",
       "      <td>NaN</td>\n",
       "    </tr>\n",
       "    <tr>\n",
       "      <th>34</th>\n",
       "      <td>Axial tilt</td>\n",
       "      <td>25.19° to its orbital plane[2]</td>\n",
       "      <td>NaN</td>\n",
       "      <td>NaN</td>\n",
       "    </tr>\n",
       "    <tr>\n",
       "      <th>35</th>\n",
       "      <td>North pole right ascension</td>\n",
       "      <td>317.68143°[6] 21h 10m 44s</td>\n",
       "      <td>NaN</td>\n",
       "      <td>NaN</td>\n",
       "    </tr>\n",
       "    <tr>\n",
       "      <th>36</th>\n",
       "      <td>North pole declination</td>\n",
       "      <td>52.88650°[6]</td>\n",
       "      <td>NaN</td>\n",
       "      <td>NaN</td>\n",
       "    </tr>\n",
       "    <tr>\n",
       "      <th>37</th>\n",
       "      <td>Albedo</td>\n",
       "      <td>0.170 geometric[13]0.25 Bond[2]</td>\n",
       "      <td>NaN</td>\n",
       "      <td>NaN</td>\n",
       "    </tr>\n",
       "    <tr>\n",
       "      <th>38</th>\n",
       "      <td>Temperature</td>\n",
       "      <td>209 K (−64 °C) (blackbody temperature)[14]</td>\n",
       "      <td>NaN</td>\n",
       "      <td>NaN</td>\n",
       "    </tr>\n",
       "    <tr>\n",
       "      <th>39</th>\n",
       "      <td>Surface temp. min mean max Celsius −110 °C[15]...</td>\n",
       "      <td>Surface temp. min mean max Celsius −110 °C[15]...</td>\n",
       "      <td>NaN</td>\n",
       "      <td>NaN</td>\n",
       "    </tr>\n",
       "    <tr>\n",
       "      <th>40</th>\n",
       "      <td>Surface temp.</td>\n",
       "      <td>min</td>\n",
       "      <td>mean</td>\n",
       "      <td>max</td>\n",
       "    </tr>\n",
       "    <tr>\n",
       "      <th>41</th>\n",
       "      <td>Celsius</td>\n",
       "      <td>−110 °C[15]</td>\n",
       "      <td>−60 °C[16]</td>\n",
       "      <td>35 °C[15]</td>\n",
       "    </tr>\n",
       "    <tr>\n",
       "      <th>42</th>\n",
       "      <td>Fahrenheit</td>\n",
       "      <td>−166 °F[15]</td>\n",
       "      <td>−80 °F[16]</td>\n",
       "      <td>95 °F[15]</td>\n",
       "    </tr>\n",
       "    <tr>\n",
       "      <th>43</th>\n",
       "      <td>Surface absorbed dose rate</td>\n",
       "      <td>8.8 μGy/h[17]</td>\n",
       "      <td>NaN</td>\n",
       "      <td>NaN</td>\n",
       "    </tr>\n",
       "    <tr>\n",
       "      <th>44</th>\n",
       "      <td>Surface equivalent dose rate</td>\n",
       "      <td>27 μSv/h[17]</td>\n",
       "      <td>NaN</td>\n",
       "      <td>NaN</td>\n",
       "    </tr>\n",
       "    <tr>\n",
       "      <th>45</th>\n",
       "      <td>Apparent magnitude</td>\n",
       "      <td>−2.94 to +1.86[18]</td>\n",
       "      <td>NaN</td>\n",
       "      <td>NaN</td>\n",
       "    </tr>\n",
       "    <tr>\n",
       "      <th>46</th>\n",
       "      <td>Absolute magnitude (H)</td>\n",
       "      <td>−1.5[19]</td>\n",
       "      <td>NaN</td>\n",
       "      <td>NaN</td>\n",
       "    </tr>\n",
       "    <tr>\n",
       "      <th>47</th>\n",
       "      <td>Angular diameter</td>\n",
       "      <td>3.5–25.1″[2]</td>\n",
       "      <td>NaN</td>\n",
       "      <td>NaN</td>\n",
       "    </tr>\n",
       "    <tr>\n",
       "      <th>48</th>\n",
       "      <td>Atmosphere[2][20]</td>\n",
       "      <td>Atmosphere[2][20]</td>\n",
       "      <td>NaN</td>\n",
       "      <td>NaN</td>\n",
       "    </tr>\n",
       "    <tr>\n",
       "      <th>49</th>\n",
       "      <td>Surface pressure</td>\n",
       "      <td>0.636 (0.4–0.87) kPa 0.00628 atm</td>\n",
       "      <td>NaN</td>\n",
       "      <td>NaN</td>\n",
       "    </tr>\n",
       "    <tr>\n",
       "      <th>50</th>\n",
       "      <td>Composition by volume</td>\n",
       "      <td>95.97% carbon dioxide 1.93% argon 1.89% nitrog...</td>\n",
       "      <td>NaN</td>\n",
       "      <td>NaN</td>\n",
       "    </tr>\n",
       "    <tr>\n",
       "      <th>51</th>\n",
       "      <td>NaN</td>\n",
       "      <td>NaN</td>\n",
       "      <td>NaN</td>\n",
       "      <td>NaN</td>\n",
       "    </tr>\n",
       "  </tbody>\n",
       "</table>\n",
       "</div>"
      ],
      "text/plain": [
       "                                                    0  \\\n",
       "0   Mars in true color,[a] as captured by the Hope...   \n",
       "1                                        Designations   \n",
       "2                                          Adjectives   \n",
       "3                                              Symbol   \n",
       "4                          Orbital characteristics[1]   \n",
       "5                                         Epoch J2000   \n",
       "6                                            Aphelion   \n",
       "7                                          Perihelion   \n",
       "8                                     Semi-major axis   \n",
       "9                                        Eccentricity   \n",
       "10                          Orbital period (sidereal)   \n",
       "11                           Orbital period (synodic)   \n",
       "12                              Average orbital speed   \n",
       "13                                       Mean anomaly   \n",
       "14                                        Inclination   \n",
       "15                        Longitude of ascending node   \n",
       "16                                 Time of perihelion   \n",
       "17                             Argument of perihelion   \n",
       "18                                         Satellites   \n",
       "19                           Physical characteristics   \n",
       "20                                        Mean radius   \n",
       "21                                  Equatorial radius   \n",
       "22                                       Polar radius   \n",
       "23                                         Flattening   \n",
       "24                                       Surface area   \n",
       "25                                             Volume   \n",
       "26                                               Mass   \n",
       "27                                       Mean density   \n",
       "28                                    Surface gravity   \n",
       "29                           Moment of inertia factor   \n",
       "30                                    Escape velocity   \n",
       "31                            Synodic rotation period   \n",
       "32                           Sidereal rotation period   \n",
       "33                       Equatorial rotation velocity   \n",
       "34                                         Axial tilt   \n",
       "35                         North pole right ascension   \n",
       "36                             North pole declination   \n",
       "37                                             Albedo   \n",
       "38                                        Temperature   \n",
       "39  Surface temp. min mean max Celsius −110 °C[15]...   \n",
       "40                                      Surface temp.   \n",
       "41                                            Celsius   \n",
       "42                                         Fahrenheit   \n",
       "43                         Surface absorbed dose rate   \n",
       "44                       Surface equivalent dose rate   \n",
       "45                                 Apparent magnitude   \n",
       "46                             Absolute magnitude (H)   \n",
       "47                                   Angular diameter   \n",
       "48                                  Atmosphere[2][20]   \n",
       "49                                   Surface pressure   \n",
       "50                              Composition by volume   \n",
       "51                                                NaN   \n",
       "\n",
       "                                                    1           2          3  \n",
       "0   Mars in true color,[a] as captured by the Hope...         NaN        NaN  \n",
       "1                                        Designations         NaN        NaN  \n",
       "2                                             Martian         NaN        NaN  \n",
       "3                                                 NaN         NaN        NaN  \n",
       "4                          Orbital characteristics[1]         NaN        NaN  \n",
       "5                                         Epoch J2000         NaN        NaN  \n",
       "6                        249261000 km (1.66621 AU)[2]         NaN        NaN  \n",
       "7                         206650000 km (1.3814 AU)[2]         NaN        NaN  \n",
       "8                     227939366 km (1.52368055 AU)[3]         NaN        NaN  \n",
       "9                                           0.0934[2]         NaN        NaN  \n",
       "10           686.980 d (1.88085 yr; 668.5991 sols)[2]         NaN        NaN  \n",
       "11                            779.94 d (2.1354 yr)[3]         NaN        NaN  \n",
       "12                                      24.07 km/s[2]         NaN        NaN  \n",
       "13                                         19.412°[2]         NaN        NaN  \n",
       "14  1.850° to ecliptic5.65° to Sun's equator1.63° ...         NaN        NaN  \n",
       "15                                       49.57854°[2]         NaN        NaN  \n",
       "16                                     2022-Jun-21[5]         NaN        NaN  \n",
       "17                                          286.5°[3]         NaN        NaN  \n",
       "18                              2 (Phobos and Deimos)         NaN        NaN  \n",
       "19                           Physical characteristics         NaN        NaN  \n",
       "20           3389.5 ± 0.2 km[b] [6] (2106.1 ± 0.1 mi)         NaN        NaN  \n",
       "21  3396.2 ± 0.1 km[b] [6] (2110.3 ± 0.1 mi; 0.533...         NaN        NaN  \n",
       "22  3376.2 ± 0.1 km[b] [6] (2097.9 ± 0.1 mi; 0.531...         NaN        NaN  \n",
       "23                              0.00589±0.00015[5][6]         NaN        NaN  \n",
       "24                   1.4437×108 km2[7] (0.284 Earths)         NaN        NaN  \n",
       "25                 1.63118×1011 km3[8] (0.151 Earths)         NaN        NaN  \n",
       "26                   6.4171×1023 kg[9] (0.107 Earths)         NaN        NaN  \n",
       "27                                    3.9335 g/cm3[8]         NaN        NaN  \n",
       "28                       3.72076 m/s2 (0.3794 g0)[10]         NaN        NaN  \n",
       "29                                   0.3644±0.0005[9]         NaN        NaN  \n",
       "30                        5.027 km/s (18100 km/h)[11]         NaN        NaN  \n",
       "31                      1.02749125 d[12]  24h 39m 36s         NaN        NaN  \n",
       "32                        1.025957 d 24h 37m 22.7s[8]         NaN        NaN  \n",
       "33                              241 m/s (870 km/h)[2]         NaN        NaN  \n",
       "34                     25.19° to its orbital plane[2]         NaN        NaN  \n",
       "35                          317.68143°[6] 21h 10m 44s         NaN        NaN  \n",
       "36                                       52.88650°[6]         NaN        NaN  \n",
       "37                    0.170 geometric[13]0.25 Bond[2]         NaN        NaN  \n",
       "38         209 K (−64 °C) (blackbody temperature)[14]         NaN        NaN  \n",
       "39  Surface temp. min mean max Celsius −110 °C[15]...         NaN        NaN  \n",
       "40                                                min        mean        max  \n",
       "41                                        −110 °C[15]  −60 °C[16]  35 °C[15]  \n",
       "42                                        −166 °F[15]  −80 °F[16]  95 °F[15]  \n",
       "43                                      8.8 μGy/h[17]         NaN        NaN  \n",
       "44                                       27 μSv/h[17]         NaN        NaN  \n",
       "45                                 −2.94 to +1.86[18]         NaN        NaN  \n",
       "46                                           −1.5[19]         NaN        NaN  \n",
       "47                                       3.5–25.1″[2]         NaN        NaN  \n",
       "48                                  Atmosphere[2][20]         NaN        NaN  \n",
       "49                   0.636 (0.4–0.87) kPa 0.00628 atm         NaN        NaN  \n",
       "50  95.97% carbon dioxide 1.93% argon 1.89% nitrog...         NaN        NaN  \n",
       "51                                                NaN         NaN        NaN  "
      ]
     },
     "execution_count": 11,
     "metadata": {},
     "output_type": "execute_result"
    }
   ],
   "source": [
    "dfs[0]"
   ]
  },
  {
   "cell_type": "code",
   "execution_count": 12,
   "id": "89d26581-119f-4830-820e-1480053d00f9",
   "metadata": {
    "tags": []
   },
   "outputs": [
    {
     "data": {
      "text/html": [
       "<div>\n",
       "<style scoped>\n",
       "    .dataframe tbody tr th:only-of-type {\n",
       "        vertical-align: middle;\n",
       "    }\n",
       "\n",
       "    .dataframe tbody tr th {\n",
       "        vertical-align: top;\n",
       "    }\n",
       "\n",
       "    .dataframe thead th {\n",
       "        text-align: right;\n",
       "    }\n",
       "</style>\n",
       "<table border=\"1\" class=\"dataframe\">\n",
       "  <thead>\n",
       "    <tr style=\"text-align: right;\">\n",
       "      <th></th>\n",
       "      <th>0</th>\n",
       "      <th>1</th>\n",
       "      <th>2</th>\n",
       "      <th>3</th>\n",
       "    </tr>\n",
       "  </thead>\n",
       "  <tbody>\n",
       "    <tr>\n",
       "      <th>9</th>\n",
       "      <td>Eccentricity</td>\n",
       "      <td>0.0934[2]</td>\n",
       "      <td>NaN</td>\n",
       "      <td>NaN</td>\n",
       "    </tr>\n",
       "  </tbody>\n",
       "</table>\n",
       "</div>"
      ],
      "text/plain": [
       "              0          1    2    3\n",
       "9  Eccentricity  0.0934[2]  NaN  NaN"
      ]
     },
     "execution_count": 12,
     "metadata": {},
     "output_type": "execute_result"
    }
   ],
   "source": [
    "dfs[0][dfs[0][0] == 'Eccentricity']"
   ]
  },
  {
   "cell_type": "markdown",
   "id": "7b0868b1-8624-4d6d-9835-09d17f9de2fc",
   "metadata": {},
   "source": [
    "### 近日点、遠日点"
   ]
  },
  {
   "cell_type": "markdown",
   "id": "01189282-eb6b-4cff-b587-145e8fd12928",
   "metadata": {},
   "source": [
    "* [Apsis - Wikipedia](https://en.wikipedia.org/wiki/Apsis) (近点・遠点)\n",
    "    - [Apsis - Wikipedia](https://en.wikipedia.org/wiki/Apsis#Perihelion_and_aphelion)#Perihelion_and_aphelion (近日点・遠日点)"
   ]
  },
  {
   "cell_type": "markdown",
   "id": "9bdd6f4c-c3b9-4d85-b94c-f1a6c3fd3c68",
   "metadata": {
    "tags": []
   },
   "source": [
    "![fig-2](https://upload.wikimedia.org/wikipedia/commons/9/94/Perihelion-Aphelion.svg)"
   ]
  },
  {
   "cell_type": "markdown",
   "id": "a1305dec-0851-4f19-885a-76104871b3a5",
   "metadata": {},
   "source": [
    "$$\n",
    "\\begin{eqnarray}\n",
    "\\left\\{ \n",
    "\\begin{array}{l}r_{\\min} = a (1-\\epsilon)\\\\\n",
    "r_{\\max} = a (1+\\epsilon) \n",
    "\\end{array}\\right.\n",
    "\\end{eqnarray}\n",
    "$$"
   ]
  },
  {
   "cell_type": "markdown",
   "id": "321000f0-cc5c-45e5-bc3d-480418a47246",
   "metadata": {},
   "source": [
    "$$a = \\frac{r_{\\max} + r_{\\min}}{2}$$"
   ]
  },
  {
   "cell_type": "markdown",
   "id": "e0bc839b-eeb5-41d3-812b-e7335f51ce33",
   "metadata": {},
   "source": [
    " $$\\epsilon = \\frac{r_{\\max} - r_{\\min}}{r_{\\max}+r_{\\min}}$$"
   ]
  },
  {
   "cell_type": "markdown",
   "id": "de93e95b-e11c-40a0-9bb1-0a62ede29be9",
   "metadata": {},
   "source": [
    "### 火星の次の近日点・遠日点通過日"
   ]
  },
  {
   "cell_type": "code",
   "execution_count": 1,
   "id": "b36736b8-541e-43e2-9633-40c265c277be",
   "metadata": {},
   "outputs": [
    {
     "name": "stdout",
     "output_type": "stream",
     "text": [
      "Requirement already satisfied: astronomy-engine in /opt/conda/lib/python3.11/site-packages (2.1.19)\n"
     ]
    }
   ],
   "source": [
    "!pip install -U astronomy-engine"
   ]
  },
  {
   "cell_type": "code",
   "execution_count": 2,
   "id": "e2ed1237-7c9d-40e8-a1fe-1739017e1ebf",
   "metadata": {
    "tags": []
   },
   "outputs": [],
   "source": [
    "import astronomy"
   ]
  },
  {
   "cell_type": "code",
   "execution_count": 3,
   "id": "659b816a-35b8-4591-8ceb-6b8ec1142434",
   "metadata": {
    "tags": []
   },
   "outputs": [
    {
     "data": {
      "text/plain": [
       "Apsis(Time('2025-04-16T22:54:51.374Z'), ApsisKind.Apocenter, dist_au=1.6660577981008962)"
      ]
     },
     "execution_count": 3,
     "metadata": {},
     "output_type": "execute_result"
    }
   ],
   "source": [
    "a0 = astronomy.SearchPlanetApsis(astronomy.Body.Mars, astronomy.Time.Now())\n",
    "a0"
   ]
  },
  {
   "cell_type": "code",
   "execution_count": 4,
   "id": "0ae70854-18e3-4ae0-8cbd-46c4a8a288fd",
   "metadata": {
    "tags": []
   },
   "outputs": [
    {
     "data": {
      "text/plain": [
       "Apsis(Time('2026-03-26T07:06:54.273Z'), ApsisKind.Pericenter, dist_au=1.3812758063827724)"
      ]
     },
     "execution_count": 4,
     "metadata": {},
     "output_type": "execute_result"
    }
   ],
   "source": [
    "a1 = astronomy.NextPlanetApsis(astronomy.Body.Mars, a0)\n",
    "a1"
   ]
  },
  {
   "cell_type": "code",
   "execution_count": 5,
   "id": "dd97907b-d066-4b6e-8645-b7dfa35181a8",
   "metadata": {
    "tags": []
   },
   "outputs": [
    {
     "data": {
      "text/plain": [
       "0.09345284392201504"
      ]
     },
     "execution_count": 5,
     "metadata": {},
     "output_type": "execute_result"
    }
   ],
   "source": [
    "# 火星の離心率\n",
    "abs(a0.dist_au - a1.dist_au) / (a0.dist_au + a1.dist_au)"
   ]
  },
  {
   "cell_type": "code",
   "execution_count": 1,
   "id": "917ae89e-f78e-4005-8666-c6b6576334e1",
   "metadata": {
    "tags": []
   },
   "outputs": [
    {
     "data": {
      "text/markdown": [
       "以下のコードを実行することで、jupyterのpythonで火星の公転軌道と同じ離心率の楕円を描くことができます。\n",
       "\n",
       "```python\n",
       "import matplotlib.pyplot as plt\n",
       "import numpy as np\n",
       "\n",
       "a = 1.524 # 火星の軌道長半径\n",
       "e = 0.0934 # 火星の離心率\n",
       "\n",
       "b = a * np.sqrt(1 - e**2) # 火星の軌道短半径\n",
       "\n",
       "theta = np.linspace(0, 2*np.pi, 1000) # 角度を0から2πまで1000分割\n",
       "\n",
       "x = a * np.cos(theta) # x座標\n",
       "y = b * np.sin(theta) # y座標\n",
       "\n",
       "plt.plot(x, y) # 楕円を描画\n",
       "plt.gca().set_aspect('equal', adjustable='box') # アスペクト比を調整\n",
       "plt.show() # 描画\n",
       "```\n",
       "\n",
       "このコードでは、matplotlibとnumpyを使用しています。また、火星の軌道長半径と離心率を変数に代入し、楕円のx座標とy座標を計算しています。最後に、plot関数で楕円を描画し、set_aspect関数でアスペクト比を調整しています。"
      ],
      "text/plain": [
       "<IPython.core.display.Markdown object>"
      ]
     },
     "metadata": {},
     "output_type": "display_data"
    }
   ],
   "source": [
    "%%ai_ask\n",
    "jupyterのpythonで火星の公転軌道と同じ離心率の楕円を描く"
   ]
  },
  {
   "cell_type": "code",
   "execution_count": 2,
   "id": "27ed9480-77ad-4ab3-88bb-80c9ef46f5f9",
   "metadata": {
    "tags": []
   },
   "outputs": [
    {
     "data": {
      "image/png": "[encoded data removed]",
      "text/plain": [
       "<Figure size 640x480 with 1 Axes>"
      ]
     },
     "metadata": {},
     "output_type": "display_data"
    }
   ],
   "source": [
    "import matplotlib.pyplot as plt\n",
    "import numpy as np\n",
    "\n",
    "a = 1.524 # 火星の軌道長半径\n",
    "e = 0.0934 # 火星の離心率\n",
    "\n",
    "b = a * np.sqrt(1 - e**2) # 火星の軌道短半径\n",
    "\n",
    "theta = np.linspace(0, 2*np.pi, 1000) # 角度を0から2πまで1000分割\n",
    "\n",
    "x = a * np.cos(theta) # x座標\n",
    "y = b * np.sin(theta) # y座標\n",
    "\n",
    "plt.plot(x, y) # 楕円を描画\n",
    "plt.gca().set_aspect('equal', adjustable='box') # アスペクト比を調整\n",
    "plt.show() # 描画"
   ]
  },
  {
   "cell_type": "code",
   "execution_count": 19,
   "id": "f50e53cf-3e26-4c3f-b98d-3b9b6e21b4d9",
   "metadata": {
    "tags": []
   },
   "outputs": [
    {
     "data": {
      "text/markdown": [
       "以下のコードを使用して、Jupyter Notebook上で火星の公転軌道と同じ離心率の楕円を描くことができます。また、楕円の2つの焦点も同時に描かれます。\n",
       "\n",
       "```python\n",
       "import matplotlib.pyplot as plt\n",
       "import numpy as np\n",
       "\n",
       "a = 1.524 # 長軸半径\n",
       "e = 0.0934 # 離心率\n",
       "\n",
       "b = a * np.sqrt(1 - e**2) # 短軸半径\n",
       "c = e * a # 焦点間の距離\n",
       "\n",
       "# 楕円の描画\n",
       "theta = np.linspace(0, 2*np.pi, 1000)\n",
       "x = a * np.cos(theta)\n",
       "y = b * np.sin(theta)\n",
       "plt.plot(x, y)\n",
       "\n",
       "# 焦点の描画\n",
       "plt.plot([-c, c], [0, 0], 'ro')\n",
       "\n",
       "plt.axis('equal')\n",
       "plt.show()\n",
       "```\n",
       "\n",
       "このコードでは、`a`と`e`をそれぞれ長軸半径と離心率に設定し、短軸半径と焦点間の距離を計算しています。そして、`np.linspace()`を使用して楕円の描画に必要な角度を生成し、`np.cos()`と`np.sin()`を使用して楕円の座標を計算しています。最後に、`plt.plot()`を使用して楕円と焦点を描画し、`plt.axis('equal')`を使用してアスペクト比を調整しています。"
      ],
      "text/plain": [
       "<IPython.core.display.Markdown object>"
      ]
     },
     "metadata": {},
     "output_type": "display_data"
    }
   ],
   "source": [
    "%%ai_ask\n",
    "jupyterのpythonで火星の公転軌道と同じ離心率の楕円を描く。\n",
    "その際に、2つの焦点を同時に描く。"
   ]
  },
  {
   "cell_type": "code",
   "execution_count": 20,
   "id": "4e437cb0-a459-4b8a-91d1-df65b670abdc",
   "metadata": {
    "tags": []
   },
   "outputs": [
    {
     "data": {
      "image/png": "[encoded data removed]",
      "text/plain": [
       "<Figure size 640x480 with 1 Axes>"
      ]
     },
     "metadata": {},
     "output_type": "display_data"
    }
   ],
   "source": [
    "import matplotlib.pyplot as plt\n",
    "import numpy as np\n",
    "\n",
    "a = 1.524 # 長軸半径\n",
    "e = 0.0934 # 離心率\n",
    "\n",
    "b = a * np.sqrt(1 - e**2) # 短軸半径\n",
    "c = e * a # 焦点間の距離\n",
    "\n",
    "# 楕円の描画\n",
    "theta = np.linspace(0, 2*np.pi, 1000)\n",
    "x = a * np.cos(theta)\n",
    "y = b * np.sin(theta)\n",
    "plt.plot(x, y)\n",
    "\n",
    "# 焦点の描画\n",
    "plt.plot([-c, c], [0, 0], 'ro')\n",
    "\n",
    "plt.axis('equal')\n",
    "plt.show()"
   ]
  },
  {
   "cell_type": "markdown",
   "id": "9939cbc5-9733-4f97-8d96-3f3aee8cf2c9",
   "metadata": {},
   "source": [
    "### 地球の次の近日点・遠日点通過日"
   ]
  },
  {
   "cell_type": "code",
   "execution_count": 6,
   "id": "1d532923",
   "metadata": {
    "tags": []
   },
   "outputs": [
    {
     "data": {
      "text/plain": [
       "Apsis(Time('2025-01-04T13:22:32.083Z'), ApsisKind.Pericenter, dist_au=0.9833286160393861)"
      ]
     },
     "execution_count": 6,
     "metadata": {},
     "output_type": "execute_result"
    }
   ],
   "source": [
    "a0 = astronomy.SearchPlanetApsis(astronomy.Body.Earth, astronomy.Time.Now())\n",
    "a0"
   ]
  },
  {
   "cell_type": "code",
   "execution_count": 7,
   "id": "61d337be",
   "metadata": {
    "tags": []
   },
   "outputs": [
    {
     "data": {
      "text/plain": [
       "Apsis(Time('2025-07-03T20:11:47.601Z'), ApsisKind.Apocenter, dist_au=1.0166463687470069)"
      ]
     },
     "execution_count": 7,
     "metadata": {},
     "output_type": "execute_result"
    }
   ],
   "source": [
    "a1 = astronomy.NextPlanetApsis(astronomy.Body.Earth, a0)\n",
    "a1"
   ]
  },
  {
   "cell_type": "code",
   "execution_count": 8,
   "id": "2d753384-72ae-4e42-b2fc-0311c91b2fcc",
   "metadata": {
    "tags": []
   },
   "outputs": [
    {
     "data": {
      "text/plain": [
       "0.01665908471909173"
      ]
     },
     "execution_count": 8,
     "metadata": {},
     "output_type": "execute_result"
    }
   ],
   "source": [
    "# 地球の離心率\n",
    "abs(a0.dist_au - a1.dist_au) / (a0.dist_au + a1.dist_au)"
   ]
  },
  {
   "cell_type": "code",
   "execution_count": 21,
   "id": "71d87203-cf93-4b8a-b6e6-c958a1168b4b",
   "metadata": {
    "tags": []
   },
   "outputs": [
    {
     "data": {
      "text/markdown": [
       "以下のコードを使用して、Jupyter Notebook上で地球の公転軌道と同じ離心率の楕円を描くことができます。また、楕円の2つの焦点も同時に描かれます。\n",
       "\n",
       "```python\n",
       "import matplotlib.pyplot as plt\n",
       "import numpy as np\n",
       "\n",
       "a = 1.496e8 # 長軸半径（単位：km）\n",
       "e = 0.0167 # 離心率\n",
       "\n",
       "b = a * np.sqrt(1 - e**2) # 短軸半径\n",
       "c = e * a # 焦点間の距離\n",
       "\n",
       "# 楕円の描画\n",
       "theta = np.linspace(0, 2*np.pi, 1000)\n",
       "x = a * np.cos(theta)\n",
       "y = b * np.sin(theta)\n",
       "plt.plot(x, y)\n",
       "\n",
       "# 焦点の描画\n",
       "plt.plot([-c, c], [0, 0], 'ro')\n",
       "\n",
       "plt.axis('equal')\n",
       "plt.show()\n",
       "```\n",
       "\n",
       "このコードでは、`a`と`e`をそれぞれ長軸半径と離心率に設定し、短軸半径と焦点間の距離を計算しています。そして、`np.linspace()`を使用して楕円の描画に必要な角度を生成し、`np.cos()`と`np.sin()`を使用して楕円の座標を計算しています。最後に、`plt.plot()`を使用して楕円と焦点を描画し、`plt.axis('equal')`を使用してアスペクト比を調整しています。\n",
       "\n",
       "なお、地球の公転軌道の長軸半径は約1.496×10^8 km、離心率は約0.0167です。"
      ],
      "text/plain": [
       "<IPython.core.display.Markdown object>"
      ]
     },
     "metadata": {},
     "output_type": "display_data"
    }
   ],
   "source": [
    "%%ai_continue\n",
    "jupyterのpythonで地球の公転軌道と同じ離心率の楕円を描く。\n",
    "その際に、2つの焦点を同時に描く。"
   ]
  },
  {
   "cell_type": "code",
   "execution_count": 22,
   "id": "4af32813-49a6-4b30-b173-0615acad982e",
   "metadata": {
    "tags": []
   },
   "outputs": [
    {
     "data": {
      "image/png": "[encoded data removed]",
      "text/plain": [
       "<Figure size 640x480 with 1 Axes>"
      ]
     },
     "metadata": {},
     "output_type": "display_data"
    }
   ],
   "source": [
    "import matplotlib.pyplot as plt\n",
    "import numpy as np\n",
    "\n",
    "a = 1.496e8 # 長軸半径（単位：km）\n",
    "e = 0.0167 # 離心率\n",
    "\n",
    "b = a * np.sqrt(1 - e**2) # 短軸半径\n",
    "c = e * a # 焦点間の距離\n",
    "\n",
    "# 楕円の描画\n",
    "theta = np.linspace(0, 2*np.pi, 1000)\n",
    "x = a * np.cos(theta)\n",
    "y = b * np.sin(theta)\n",
    "plt.plot(x, y)\n",
    "\n",
    "# 焦点の描画\n",
    "plt.plot([-c, c], [0, 0], 'ro')\n",
    "\n",
    "plt.axis('equal')\n",
    "plt.show()"
   ]
  },
  {
   "cell_type": "markdown",
   "id": "5ab777e9-61e6-4369-87db-9632f23aba9b",
   "metadata": {},
   "source": [
    "## まとめ"
   ]
  },
  {
   "cell_type": "code",
   "execution_count": 8,
   "id": "1c458c88-beb9-4996-ace5-bf77ac615902",
   "metadata": {
    "tags": []
   },
   "outputs": [],
   "source": [
    "import numpy as np\n",
    "import matplotlib.pyplot as plt\n",
    "import matplotlib.collections as mc\n",
    "import matplotlib.patches as mp"
   ]
  },
  {
   "cell_type": "code",
   "execution_count": 9,
   "id": "b99e6f24-959c-49a4-9f82-7270c6398ce5",
   "metadata": {
    "tags": []
   },
   "outputs": [],
   "source": [
    "theta = np.linspace(0, 2*np.pi, 100)"
   ]
  },
  {
   "cell_type": "code",
   "execution_count": 11,
   "id": "875ff6a5-9d85-4360-8a9f-13aa1f742ba0",
   "metadata": {
    "tags": []
   },
   "outputs": [],
   "source": [
    "#epsilon = 0.6\n",
    "#epsilon = 0.9673 # 1P/Halley\n",
    "#epsilon = 0.0934 # mars\n",
    "epsilon = 0.0167 # earth"
   ]
  },
  {
   "cell_type": "code",
   "execution_count": 12,
   "id": "cf90310e-6a99-4241-99b0-ac841df5e1bc",
   "metadata": {
    "tags": []
   },
   "outputs": [
    {
     "name": "stdout",
     "output_type": "stream",
     "text": [
      "1 0.99986054527619 0.0167\n"
     ]
    }
   ],
   "source": [
    "a=1\n",
    "b= np.sqrt(a**2-epsilon**2)\n",
    "print(a, b, a*epsilon)"
   ]
  },
  {
   "cell_type": "code",
   "execution_count": 13,
   "id": "1b48e3c0-f993-4b80-9f9c-b2ed58c94fd4",
   "metadata": {
    "tags": []
   },
   "outputs": [
    {
     "data": {
      "image/png": "[encoded data removed]",
      "text/plain": [
       "<Figure size 1600x800 with 1 Axes>"
      ]
     },
     "metadata": {},
     "output_type": "display_data"
    }
   ],
   "source": [
    "ax = plt.figure(figsize=(16,8)).add_subplot()\n",
    "ax.set_aspect('equal')\n",
    "\n",
    "X0 = np.cos(theta)\n",
    "Y0 = b * np.sin(theta)\n",
    "ax.plot(X0,Y0)\n",
    "\n",
    "X1 = np.cos(theta)\n",
    "Y1 = np.sin(theta)\n",
    "ax.plot(X1,Y1, ':', alpha=.5)\n",
    "\n",
    "l = mc.LineCollection([[(a/epsilon,-1),(a/epsilon,1)]])\n",
    "#ax.add_collection(l)\n",
    "\n",
    "ax.plot(0,0,'x')\n",
    "ax.plot( a*epsilon, 0, 'o')\n",
    "ax.plot(-a*epsilon, 0, 'o')\n",
    "\n",
    "plt.grid()\n",
    "plt.show()"
   ]
  },
  {
   "cell_type": "markdown",
   "id": "67f16021-a762-4879-a96a-37e0ec721f53",
   "metadata": {},
   "source": [
    "## 参考) ニュートンの運動方程式と楕円軌道"
   ]
  },
  {
   "cell_type": "markdown",
   "id": "5a495082-ee06-42f5-9716-6b60f44d219c",
   "metadata": {},
   "source": [
    "* [地球の公転軌道が楕円であることの導出 | 高校数学の美しい物語](https://manabitimes.jp/math/1263)\n",
    "* [単振動：運動方程式](https://w3e.kanazawa-it.ac.jp/math/physics/category/mechanics/masspoint_mechanics/simple_harmonic_motion/henkan-tex.cgi?target=/math/physics/category/mechanics/masspoint_mechanics/simple_harmonic_motion/shm_equation_of_motion.html)\n",
    "* [単振動：微分方程式の解法](https://w3e.kanazawa-it.ac.jp/math/physics/category/mechanics/masspoint_mechanics/simple_harmonic_motion/henkan-tex.cgi?target=/math/physics/category/mechanics/masspoint_mechanics/simple_harmonic_motion/shm_solution.html)"
   ]
  }
 ],
 "metadata": {
  "kernelspec": {
   "display_name": "Python 3 (ipykernel)",
   "language": "python",
   "name": "python3"
  },
  "language_info": {
   "codemirror_mode": {
    "name": "ipython",
    "version": 3
   },
   "file_extension": ".py",
   "mimetype": "text/x-python",
   "name": "python",
   "nbconvert_exporter": "python",
   "pygments_lexer": "ipython3",
   "version": "3.11.8"
  }
 },
 "nbformat": 4,
 "nbformat_minor": 5
}
