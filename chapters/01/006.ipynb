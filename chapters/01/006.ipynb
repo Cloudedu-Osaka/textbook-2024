{
 "cells": [
  {
   "attachments": {},
   "cell_type": "markdown",
   "id": "3c888fa4-9481-4279-8d44-f1a3357660cf",
   "metadata": {
    "nbgrader": {
     "grade": false,
     "grade_id": "cell-157cce00342f65a3",
     "locked": true,
     "schema_version": 3,
     "solution": false,
     "task": false
    },
    "tags": []
   },
   "source": [
    "# 大学入試とAI\n",
    "\n",
    "* 「[東ロボくん - Wikipedia](https://ja.wikipedia.org/wiki/%E6%9D%B1%E3%83%AD%E3%83%9C%E3%81%8F%E3%82%93)」については別の機会に・・・"
   ]
  },
  {
   "attachments": {},
   "cell_type": "markdown",
   "id": "ca12bad4-e7b7-4796-a9e1-c2198b5b000d",
   "metadata": {
    "nbgrader": {
     "grade": false,
     "grade_id": "cell-759ec9d4096a61bc",
     "locked": true,
     "schema_version": 3,
     "solution": false,
     "task": false
    },
    "tags": []
   },
   "source": [
    "## DNCL\n",
    "\n",
    "* [独立行政法人 大学入試センター](https://www.dnc.ac.jp/)\n",
    "    * [共通テスト手順記述標準言語 (DNCL) の説明](https://www.dnc.ac.jp/albums/abm.php?d=67&f=abm00000819.pdf&n=R4_%E5%85%B1%E9%80%9A%E3%83%86%E3%82%B9%E3%83%88%E6%89%8B%E9%A0%86%E8%A8%98%E8%BF%B0%E6%A8%99%E6%BA%96%E8%A8%80%E8%AA%9E%EF%BC%88DNCL%EF%BC%89%E3%81%AE%E8%AA%AC%E6%98%8E.pdf)\n",
    "    * [令和７年度以降の試験に向けた検討について | 独立行政法人 大学入試センター](https://www.dnc.ac.jp/kyotsu/shiken_jouhou/r7ikou/)\n",
    "        * [平成 30 年告示高等学校学習指導要領に対応した令和７年度大学入学共通テストからの出題教科・科目 情報 サンプル問題](https://www.dnc.ac.jp/albums/abm.php?d=33&f=abm00000307.pdf&n=%E3%82%B5%E3%83%B3%E3%83%97%E3%83%AB%E5%95%8F%E9%A1%8C%E3%80%8E%E6%83%85%E5%A0%B1%E3%80%8F_%E5%95%8F%E9%A1%8C.pdf)"
   ]
  },
  {
   "cell_type": "code",
   "execution_count": 1,
   "id": "8e3bb257-3cb2-4828-abfa-d9661bc58125",
   "metadata": {
    "tags": []
   },
   "outputs": [
    {
     "data": {
      "text/markdown": [
       "申し訳ありませんが、\"DNCL\"の具体的な文脈や意味をもう少し詳しく教えていただけますか？ これは略語で、さまざまな意味を持つ可能性があります。たとえば、「Do Not Call List（連絡禁止リスト）」や特定の技術やプロジェクトを指している場合もあります。もし具体的な文脈を教えていただければ、より具体的な情報を提供できます。"
      ],
      "text/plain": [
       "<IPython.core.display.Markdown object>"
      ]
     },
     "execution_count": 1,
     "metadata": {
      "text/markdown": {
       "jupyter_ai": {
        "custom_chain_id": "vioras"
       }
      }
     },
     "output_type": "execute_result"
    }
   ],
   "source": [
    "%%ai vioras\n",
    "DNCLについて"
   ]
  },
  {
   "cell_type": "code",
   "execution_count": 2,
   "id": "b9f17a87-1613-47c3-88ff-725188c7827a",
   "metadata": {
    "tags": []
   },
   "outputs": [
    {
     "data": {
      "text/markdown": [
       "ああ、そうですか。それならば、おそらく「データ記述言語 (Data Description Language)」の略で、日本の大学入試、特に情報科学やコンピュータ科学の試験でよく用いられる疑似コード言語を指している可能性が高いです。\n",
       "\n",
       "DNCLは、情報を表現するためのシンプルな疑似言語で、データ構造の定義や操作を記述します。コードの実行結果を予測したり、アルゴリズムの理解を深めるためのツールとして使用されます。具体的なコードの書き方や実行環境は省かれ、データの構造や操作方法に焦点を当てることで、学習者がプログラミングの基本的な概念を理解しやすくなっています。\n",
       "\n",
       "例えば、配列やリストの操作、ループ、条件分岐などの基本的なプログラムの構造を表現することができます。また、関数や手続きの定義と呼び出しも可能です。\n",
       "\n",
       "ただし、DNCL自体は特定のプログラミング言語とは異なり、実際にコードを実行することはできません。あくまで概念理解やアルゴリズムの表現を目的とした教育用のツールです。"
      ],
      "text/plain": [
       "<IPython.core.display.Markdown object>"
      ]
     },
     "execution_count": 2,
     "metadata": {
      "text/markdown": {
       "jupyter_ai": {
        "custom_chain_id": "vioras"
       }
      }
     },
     "output_type": "execute_result"
    }
   ],
   "source": [
    "%%ai vioras\n",
    "日本の大学入試で使われる疑似言語の略語です"
   ]
  },
  {
   "attachments": {},
   "cell_type": "markdown",
   "id": "906be911-0257-4127-afe1-bbf5c95f1d75",
   "metadata": {
    "nbgrader": {
     "grade": false,
     "grade_id": "cell-d11ada1e052bee67",
     "locked": true,
     "schema_version": 3,
     "solution": false,
     "task": false
    },
    "tags": []
   },
   "source": [
    "## R7: 情報 サンプル問題 第２問\n",
    "\n",
    "### 問1"
   ]
  },
  {
   "attachments": {},
   "cell_type": "markdown",
   "id": "8c662d5f-f9ce-40b6-9aee-d83aa6e4b898",
   "metadata": {
    "nbgrader": {
     "grade": false,
     "grade_id": "cell-a9444dae5472b88b",
     "locked": true,
     "schema_version": 3,
     "solution": false,
     "task": false
    },
    "tags": []
   },
   "source": [
    "![fig-2-01.png](006_files/fig-2-01.png)"
   ]
  },
  {
   "attachments": {},
   "cell_type": "markdown",
   "id": "a673ddff-40d2-4eec-93f7-1e631da1172a",
   "metadata": {
    "nbgrader": {
     "grade": false,
     "grade_id": "cell-1ee2a9c359dfa07a",
     "locked": true,
     "schema_version": 3,
     "solution": false,
     "task": false
    },
    "tags": []
   },
   "source": [
    "![fig-2-02.png](006_files/fig-2-02.png)"
   ]
  },
  {
   "attachments": {},
   "cell_type": "markdown",
   "id": "01b144f6-b388-4915-8760-56c291d07f34",
   "metadata": {
    "nbgrader": {
     "grade": false,
     "grade_id": "cell-3682265862310b81",
     "locked": true,
     "schema_version": 3,
     "solution": false,
     "task": false
    },
    "tags": []
   },
   "source": [
    "## 次のChatGPTとの応答例を参考に上の問題に解答せよ"
   ]
  },
  {
   "cell_type": "code",
   "execution_count": 3,
   "id": "0e0d0d12-e64b-48b9-bdfd-07a23b66f28a",
   "metadata": {
    "tags": []
   },
   "outputs": [
    {
     "data": {
      "text/markdown": [
       "日本の比例代表制度における基準得票数（ドント方式）は、各政党が獲得した投票数をその政党の候補者数で割った値を指します。この基準得票数は、選挙の結果を決定するための重要な要素であり、各政党が得た比例代表議席の数を決定します。\n",
       "\n",
       "具体的な計算方法は次のようになります：\n",
       "\n",
       "1. まず、各政党が獲得した投票数をその政党の候補者数で割ります。これが基準得票数です。\n",
       "2. 基準得票数が最も高い政党から順に、各政党に議席を割り当てます。ただし、その政党の候補者数が既に議席数に達している場合、その政党にはこれ以上議席は割り当てられません。\n",
       "3. すべての議席が割り当てられるまで、このプロセスを繰り返します。\n",
       "\n",
       "基準得票数が同じである場合、その政党の候補者が少ない方が議席を得ます。これは、候補者数が少ないほど、一人あたりの票数が多いという意味になるからです。\n",
       "\n",
       "この方式はドント方式と呼ばれ、比例代表制度の公正性を保つために用いられます。"
      ],
      "text/plain": [
       "<IPython.core.display.Markdown object>"
      ]
     },
     "execution_count": 3,
     "metadata": {
      "text/markdown": {
       "jupyter_ai": {
        "custom_chain_id": "vioras"
       }
      }
     },
     "output_type": "execute_result"
    }
   ],
   "source": [
    "%%ai vioras\n",
    "日本の比例代表選挙の基準得票数について"
   ]
  },
  {
   "cell_type": "code",
   "execution_count": 4,
   "id": "edb4a343-6def-4eaa-b9a7-9c96c1f1efc0",
   "metadata": {
    "tags": []
   },
   "outputs": [
    {
     "data": {
      "text/markdown": [
       "それは素晴らしいです。Pythonは非常に強力で使いやすい言語であり、組み込み関数を使うだけでも多くのことができます。\n",
       "\n",
       "Pythonの組み込み関数には、`len()`や`range()`, `print()`, `type()`などがあります。これらは特別なモジュールをインポートすることなく、直接使用できます。\n",
       "\n",
       "例えば、以下はリストの長さを取得するために`len()`関数を使用した例です：\n",
       "\n",
       "```python\n",
       "my_list = [1, 2, 3, 4, 5]\n",
       "print(len(my_list))  # 出力は5\n",
       "```\n",
       "\n",
       "そして、以下は`range()`関数を使用して一定の範囲を持つ整数の列を生成し、それを`for`ループで繰り返す例です：\n",
       "\n",
       "```python\n",
       "for i in range(5):\n",
       "    print(i)  # 0から4までを順に出力\n",
       "```\n",
       "\n",
       "具体的なタスクや質問があれば、それに対するPythonのコードを提供することができます。どんなタスクを解決しようとしているのか、詳しく教えてください。"
      ],
      "text/plain": [
       "<IPython.core.display.Markdown object>"
      ]
     },
     "execution_count": 4,
     "metadata": {
      "text/markdown": {
       "jupyter_ai": {
        "custom_chain_id": "vioras"
       }
      }
     },
     "output_type": "execute_result"
    }
   ],
   "source": [
    "%%ai vioras\n",
    "pythonでプログラムします。今回は組み込み関数だけ使います。"
   ]
  },
  {
   "cell_type": "code",
   "execution_count": 5,
   "id": "a7f5ea5f-6ce4-4dae-acae-1362fca11597",
   "metadata": {
    "tags": []
   },
   "outputs": [
    {
     "data": {
      "text/markdown": [
       "Pythonで不変の配列（タプルと呼ばれます）を作成するには、次のようにします：\n",
       "\n",
       "```python\n",
       "Tomei = (\"A党\", \"B党\", \"C党\", \"D党\")\n",
       "```\n",
       "\n",
       "このコードは、\"A党\", \"B党\", \"C党\", \"D党\"という4つの要素を持つタプルを作成し、それを`Tomei`という変数に格納します。タプルは一度作成するとその内容を変更することはできません（不変）。つまり、要素の追加や削除、変更ができません。\n",
       "\n",
       "この`Tomei`変数を使って何か特定の操作をしたい場合、その詳細を教えてください。それに応じて適切なPythonコードを提供します。"
      ],
      "text/plain": [
       "<IPython.core.display.Markdown object>"
      ]
     },
     "execution_count": 5,
     "metadata": {
      "text/markdown": {
       "jupyter_ai": {
        "custom_chain_id": "vioras"
       }
      }
     },
     "output_type": "execute_result"
    }
   ],
   "source": [
    "%%ai vioras\n",
    "配列Tomeiに \"A党\", \"B党\", \"C党\", \"D党\" を格納します。Tomeiは不変です。"
   ]
  },
  {
   "cell_type": "code",
   "execution_count": 6,
   "id": "6f38ed65-2880-4577-ba6b-80890e268d99",
   "metadata": {
    "tags": []
   },
   "outputs": [
    {
     "data": {
      "text/markdown": [
       "Pythonのタプル（またはリスト）から要素を取り出すには、インデックスを使います。インデックスは0から始まります。つまり、最初の要素はインデックス0、2番目の要素はインデックス1、というようになります。\n",
       "\n",
       "Tomeiの最初の要素を取り出すには以下のようにします：\n",
       "\n",
       "```python\n",
       "first_element = Tomei[0]\n",
       "print(first_element)  # \"A党\" を出力\n",
       "```\n",
       "\n",
       "最後の要素を取り出すには、-1のインデックスを使います：\n",
       "\n",
       "```python\n",
       "last_element = Tomei[-1]\n",
       "print(last_element)  # \"D党\" を出力\n",
       "```\n",
       "\n",
       "任意の場所`i`の要素を取り出すには、その位置のインデックスを使います。ただし、最初の位置は0です。例えば、3番目の要素を取り出すには以下のようにします：\n",
       "\n",
       "```python\n",
       "i = 2  # 3番目の要素のインデックス (0から数える)\n",
       "element_at_i = Tomei[i]\n",
       "print(element_at_i)  # \"C党\" を出力\n",
       "```\n",
       "\n",
       "これらのコードは、Tomeiという名前のタプルがすでに定義されていることを前提としています。"
      ],
      "text/plain": [
       "<IPython.core.display.Markdown object>"
      ]
     },
     "execution_count": 6,
     "metadata": {
      "text/markdown": {
       "jupyter_ai": {
        "custom_chain_id": "vioras"
       }
      }
     },
     "output_type": "execute_result"
    }
   ],
   "source": [
    "%%ai vioras\n",
    "Tomeiの最初の要素、最後の要素の取り出し方を説明してください。また、任意の場所iの要素の取り出し方も教えてください。"
   ]
  },
  {
   "cell_type": "code",
   "execution_count": 7,
   "id": "d3fd5049-cbf3-426b-9f3b-c596ddc7d700",
   "metadata": {
    "tags": []
   },
   "outputs": [
    {
     "data": {
      "text/markdown": [
       "Pythonで不変の配列（タプル）を作成するには、次のようにします：\n",
       "\n",
       "```python\n",
       "Tokuhyo = (1200, 660, 1440, 180)\n",
       "```\n",
       "\n",
       "このコードは、1200, 660, 1440, 180という4つの要素を持つタプルを作成し、それを`Tokuhyo`という変数に格納します。タプルは一度作成するとその内容を変更することはできません（不変）。つまり、要素の追加や削除、変更ができません。\n",
       "\n",
       "ここで、`Tomei`と`Tokuhyo`という2つのタプルが定義された状態です。これらを使って何か特定の操作をしたい場合、その詳細を教えてください。それに応じて適切なPythonコードを提供します。"
      ],
      "text/plain": [
       "<IPython.core.display.Markdown object>"
      ]
     },
     "execution_count": 7,
     "metadata": {
      "text/markdown": {
       "jupyter_ai": {
        "custom_chain_id": "vioras"
       }
      }
     },
     "output_type": "execute_result"
    }
   ],
   "source": [
    "%%ai vioras\n",
    "次に、配列Tokuhyoに 1200, 660, 1440, 180 を格納します。Tokuhyoも不変です。"
   ]
  },
  {
   "cell_type": "code",
   "execution_count": 8,
   "id": "1a0cad2c-a1f6-4451-8ac9-cdcc91948d10",
   "metadata": {
    "tags": []
   },
   "outputs": [
    {
     "data": {
      "text/markdown": [
       "Pythonには組み込み関数の`sum()`があり、これを使ってタプル内のすべての要素の合計を簡単に計算することができます。以下に、それを使ってTokuhyoの総計を求め、その結果を変数`sousuu`に格納するプログラムを示します：\n",
       "\n",
       "```python\n",
       "# 変数sousuuを0で初期化\n",
       "sousuu = 0\n",
       "\n",
       "# Tokuhyoの総計を求めてsousuuに格納\n",
       "sousuu = sum(Tokuhyo)\n",
       "\n",
       "print(sousuu)  # 総計を出力\n",
       "```\n",
       "\n",
       "このプログラムは、`Tokuhyo`という名前のタプルがすでに定義されていることを前提としています。"
      ],
      "text/plain": [
       "<IPython.core.display.Markdown object>"
      ]
     },
     "execution_count": 8,
     "metadata": {
      "text/markdown": {
       "jupyter_ai": {
        "custom_chain_id": "vioras"
       }
      }
     },
     "output_type": "execute_result"
    }
   ],
   "source": [
    "%%ai vioras\n",
    "変数sousuuを0で初期化し、Tokuhyoの総計を求めてsousuuに格納するプログラムを書いてください。"
   ]
  },
  {
   "cell_type": "code",
   "execution_count": 9,
   "id": "9a782f03-a290-472d-b537-c00b1ec5afd2",
   "metadata": {
    "tags": []
   },
   "outputs": [
    {
     "data": {
      "text/markdown": [
       "Pythonの`for`ループとインデックスを使って、タプル`Tokuhyo`の各要素を順にアクセスし、その総計を計算するプログラムは以下のようになります：\n",
       "\n",
       "```python\n",
       "# 変数sousuuを0で初期化\n",
       "sousuu = 0\n",
       "\n",
       "# for文を使ってTokuhyoの各要素にアクセス\n",
       "for i in range(len(Tokuhyo)):\n",
       "    sousuu += Tokuhyo[i]  # 各要素をsousuuに加える\n",
       "\n",
       "print(sousuu)  # 総計を出力\n",
       "```\n",
       "\n",
       "このプログラムは、`Tokuhyo`という名前のタプルがすでに定義されていることを前提としています。また、`range(len(Tokuhyo))`は`Tokuhyo`の長さ（つまり、要素数）だけ繰り返すための範囲を生成します。そして、`sousuu += Tokuhyo[i]`の行で、`Tokuhyo`の各要素を`sousuu`に加えています。"
      ],
      "text/plain": [
       "<IPython.core.display.Markdown object>"
      ]
     },
     "execution_count": 9,
     "metadata": {
      "text/markdown": {
       "jupyter_ai": {
        "custom_chain_id": "vioras"
       }
      }
     },
     "output_type": "execute_result"
    }
   ],
   "source": [
    "%%ai vioras\n",
    "変数sousuuを0で初期化し、Tokuhyoの総計を求めてsousuuに格納するプログラムを書いてください。\n",
    "その際、for文を使ってループ変数を添字としてTokuhyoの各要素をアクセスしてください。"
   ]
  },
  {
   "cell_type": "code",
   "execution_count": 10,
   "id": "eb50c091-656e-4888-b17a-2d98a87b3108",
   "metadata": {
    "tags": []
   },
   "outputs": [
    {
     "data": {
      "text/markdown": [
       "Pythonで定数と変数を定義し、計算結果を格納するには以下のようにします：\n",
       "\n",
       "```python\n",
       "# gisekiを定数として6で初期化\n",
       "giseki = 6\n",
       "\n",
       "# kizyunsuuにsousuuをgisekiで割った値を格納\n",
       "kizyunsuu = sousuu / giseki\n",
       "\n",
       "print(kizyunsuu)  # 結果を出力\n",
       "```\n",
       "\n",
       "このプログラムは、`sousuu`という名前の変数がすでに定義されていること（そしてその値が数値であること）を前提としています。また、Pythonでは定数という概念はありませんので、`giseki`は変更しない変数として扱います。\n",
       "\n",
       "以上のプログラムは、`sousuu`を`giseki`で割った結果を`kizyunsuu`に格納し、その値を出力します。"
      ],
      "text/plain": [
       "<IPython.core.display.Markdown object>"
      ]
     },
     "execution_count": 10,
     "metadata": {
      "text/markdown": {
       "jupyter_ai": {
        "custom_chain_id": "vioras"
       }
      }
     },
     "output_type": "execute_result"
    }
   ],
   "source": [
    "%%ai vioras\n",
    "次に、変数gisekiを導入し6で初期化してください。gisekiは定数です。変数kizyunsuuにsousuuをgisekiで割った値を格納してください。"
   ]
  },
  {
   "cell_type": "code",
   "execution_count": 11,
   "id": "331a1b31-474c-4c07-ba8d-e3d00829e518",
   "metadata": {
    "tags": []
   },
   "outputs": [
    {
     "data": {
      "text/markdown": [
       "Pythonの`for`ループと`zip()`関数を使って、`Tokuhyo`の各要素を`kizyunsuu`で割り、それぞれに対応する`Tomei`のラベルと一緒に表示するプログラムは以下のようになります：\n",
       "\n",
       "```python\n",
       "# Tokuhyoの各要素をkizyunsuuで割り、それぞれのTomeiのラベルとともに表示\n",
       "for party, votes in zip(Tomei, Tokuhyo):\n",
       "    result = votes / kizyunsuu\n",
       "    print(f\"{party}: {result}\")\n",
       "```\n",
       "\n",
       "このプログラムは、`Tomei`、`Tokuhyo`、`kizyunsuu`という名前の変数がすでに定義されていることを前提としています。\n",
       "\n",
       "`zip()`関数は、複数のイテラブル（ここではタプル`Tomei`と`Tokuhyo`）から要素を順に取り出し、それらを組にして返します。`for`ループと一緒に使うことで、`Tomei`の各要素（政党名）と`Tokuhyo`の各要素（得票数）を同時に取り出すことができます。そして、`votes / kizyunsuu`で各政党の得票数を基準得票数で割り、その結果を表示します。"
      ],
      "text/plain": [
       "<IPython.core.display.Markdown object>"
      ]
     },
     "execution_count": 11,
     "metadata": {
      "text/markdown": {
       "jupyter_ai": {
        "custom_chain_id": "vioras"
       }
      }
     },
     "output_type": "execute_result"
    }
   ],
   "source": [
    "%%ai vioras\n",
    "最後に、Tokuhyoの各要素をkizyunsuuで割って、Tomeiの値をラベルにして表示してください。"
   ]
  },
  {
   "cell_type": "code",
   "execution_count": 12,
   "id": "85805672-17c5-4fbd-b8f2-d5ec7466802a",
   "metadata": {},
   "outputs": [
    {
     "data": {
      "text/markdown": [
       "了解しました。`zip()`関数を使わずに、`Tokuhyo`の各要素を`kizyunsuu`で割り、それぞれに対応する`Tomei`のラベルと一緒に表示するプログラムは以下のようになります：\n",
       "\n",
       "```python\n",
       "# Tokuhyoの各要素をkizyunsuuで割り、それぞれのTomeiのラベルとともに表示\n",
       "for i in range(len(Tomei)):\n",
       "    result = Tokuhyo[i] / kizyunsuu\n",
       "    print(f\"{Tomei[i]}: {result}\")\n",
       "```\n",
       "\n",
       "このプログラムは、`Tomei`、`Tokuhyo`、`kizyunsuu`という名前の変数がすでに定義されていることを前提としています。\n",
       "\n",
       "`range(len(Tomei))`は`Tomei`の長さ（つまり、要素数）だけ繰り返すための範囲を生成します。`for`ループと一緒に使うことで、`Tomei`と`Tokuhyo`の各要素にインデックス`i`を使って同時にアクセスします。そして、`Tokuhyo[i] / kizyunsuu`で各政党の得票数を基準得票数で割り、その結果を表示します。"
      ],
      "text/plain": [
       "<IPython.core.display.Markdown object>"
      ]
     },
     "execution_count": 12,
     "metadata": {
      "text/markdown": {
       "jupyter_ai": {
        "custom_chain_id": "vioras"
       }
      }
     },
     "output_type": "execute_result"
    }
   ],
   "source": [
    "%%ai vioras\n",
    "組み込み関数`zip()`は使いません。"
   ]
  },
  {
   "cell_type": "code",
   "execution_count": 13,
   "id": "5400009f-18d5-4b53-a3db-0a04b46d1fe2",
   "metadata": {},
   "outputs": [
    {
     "data": {
      "text/markdown": [
       "了解しました。以下に、これまでの定義と説明を組み合わせて、全体のプログラムを示します：\n",
       "\n",
       "```python\n",
       "# 配列TomeiとTokuhyoの定義\n",
       "Tomei = (\"A党\", \"B党\", \"C党\", \"D党\")\n",
       "Tokuhyo = (1200, 660, 1440, 180)\n",
       "\n",
       "# 変数sousuuを0で初期化し、Tokuhyoの総計を求めてsousuuに格納\n",
       "sousuu = 0\n",
       "for i in range(len(Tokuhyo)):\n",
       "    sousuu += Tokuhyo[i]  # 各要素をsousuuに加える\n",
       "\n",
       "# 定数gisekiを6で初期化し、kizyunsuuにsousuuをgisekiで割った値を格納\n",
       "giseki = 6\n",
       "kizyunsuu = sousuu / giseki\n",
       "\n",
       "# Tokuhyoの各要素をkizyunsuuで割り、それぞれのTomeiのラベルとともに表示\n",
       "for i in range(len(Tomei)):\n",
       "    result = Tokuhyo[i] / kizyunsuu\n",
       "    print(f\"{Tomei[i]}: {result}\")\n",
       "```\n",
       "\n",
       "このプログラムを実行すると、Tomeiの各政党について、Tokuhyoの得票数を基準得票数で割った結果が出力されます。"
      ],
      "text/plain": [
       "<IPython.core.display.Markdown object>"
      ]
     },
     "execution_count": 13,
     "metadata": {
      "text/markdown": {
       "jupyter_ai": {
        "custom_chain_id": "vioras"
       }
      }
     },
     "output_type": "execute_result"
    }
   ],
   "source": [
    "%%ai vioras\n",
    "定義した配列で実行してください。"
   ]
  },
  {
   "cell_type": "code",
   "execution_count": 14,
   "id": "00797e78-19cd-4173-8fee-2998bff7273a",
   "metadata": {
    "tags": []
   },
   "outputs": [
    {
     "name": "stdout",
     "output_type": "stream",
     "text": [
      "A党: 2.0689655172413794\n",
      "B党: 1.1379310344827587\n",
      "C党: 2.4827586206896552\n",
      "D党: 0.3103448275862069\n"
     ]
    }
   ],
   "source": [
    "# 配列TomeiとTokuhyoの定義\n",
    "Tomei = (\"A党\", \"B党\", \"C党\", \"D党\")\n",
    "Tokuhyo = (1200, 660, 1440, 180)\n",
    "\n",
    "# 変数sousuuを0で初期化し、Tokuhyoの総計を求めてsousuuに格納\n",
    "sousuu = 0\n",
    "for i in range(len(Tokuhyo)):\n",
    "    sousuu += Tokuhyo[i]  # 各要素をsousuuに加える\n",
    "\n",
    "# 定数gisekiを6で初期化し、kizyunsuuにsousuuをgisekiで割った値を格納\n",
    "giseki = 6\n",
    "kizyunsuu = sousuu / giseki\n",
    "\n",
    "# Tokuhyoの各要素をkizyunsuuで割り、それぞれのTomeiのラベルとともに表示\n",
    "for i in range(len(Tomei)):\n",
    "    result = Tokuhyo[i] / kizyunsuu\n",
    "    print(f\"{Tomei[i]}: {result}\")"
   ]
  }
 ],
 "metadata": {
  "kernelspec": {
   "display_name": "Python 3 (ipykernel)",
   "language": "python",
   "name": "python3"
  },
  "language_info": {
   "codemirror_mode": {
    "name": "ipython",
    "version": 3
   },
   "file_extension": ".py",
   "mimetype": "text/x-python",
   "name": "python",
   "nbconvert_exporter": "python",
   "pygments_lexer": "ipython3",
   "version": "3.11.8"
  }
 },
 "nbformat": 4,
 "nbformat_minor": 5
}
