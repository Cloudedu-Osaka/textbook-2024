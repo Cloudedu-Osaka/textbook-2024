{
 "cells": [
  {
   "cell_type": "markdown",
   "id": "62c0d877-889e-4a76-ae45-bb617e9eb346",
   "metadata": {},
   "source": [
    "# 九九のない世界\n",
    "\n",
    "## Leibnizの二進法"
   ]
  },
  {
   "cell_type": "markdown",
   "id": "a23b42be-d947-4f76-9f54-009c121e3d3b",
   "metadata": {},
   "source": [
    "### 和の筆算"
   ]
  },
  {
   "cell_type": "code",
   "execution_count": 4,
   "id": "be308313-567a-49d3-8900-307081c0abc2",
   "metadata": {},
   "outputs": [],
   "source": [
    "from itertools import zip_longest"
   ]
  },
  {
   "cell_type": "code",
   "execution_count": 5,
   "id": "a28f70f7-2155-48db-8384-f6621983be6e",
   "metadata": {},
   "outputs": [],
   "source": [
    "def long_addition(a,b):\n",
    "    a = map(int,reversed(str(a)))\n",
    "    b = map(int,reversed(str(b)))\n",
    "    q=0\n",
    "    for n,m in zip_longest(a, b, fillvalue=0):\n",
    "        q, r = divmod(q+n+m,10)\n",
    "        yield str(r)\n",
    "    if q:\n",
    "        yield str(q)"
   ]
  },
  {
   "cell_type": "code",
   "execution_count": 6,
   "id": "3a8fe286-5886-408d-9bfe-e7f7f29a3954",
   "metadata": {},
   "outputs": [
    {
     "data": {
      "text/plain": [
       "<generator object long_addition at 0x7d1af24079a0>"
      ]
     },
     "execution_count": 6,
     "metadata": {},
     "output_type": "execute_result"
    }
   ],
   "source": [
    "long_addition(2, 5)"
   ]
  },
  {
   "cell_type": "code",
   "execution_count": 7,
   "id": "d268bfe3-ace6-46bc-8e5f-49ae791a4b49",
   "metadata": {},
   "outputs": [
    {
     "data": {
      "text/plain": [
       "['7']"
      ]
     },
     "execution_count": 7,
     "metadata": {},
     "output_type": "execute_result"
    }
   ],
   "source": [
    "list(_)"
   ]
  },
  {
   "cell_type": "code",
   "execution_count": 8,
   "id": "0df0d8fe-f152-454e-b6d5-be75abd3d0ea",
   "metadata": {},
   "outputs": [
    {
     "data": {
      "text/markdown": [
       "このプログラムは、Pythonで長い加算（大きな数の足し算）を行うためのものです。以下にその説明をします：\n",
       "\n",
       "1. `a`と`b`は入力される二つの数値です。\n",
       "\n",
       "2. `map(int,reversed(str(a)))`と`map(int,reversed(str(b)))`は、`a`と`b`をそれぞれ文字列に変換し、その文字列を反転させ、反転させた文字列の各文字を整数に変換することで、各桁の数値を順番に取り出せるようにしています。これは、加算を1の位から始めるためです。\n",
       "\n",
       "3. `zip_longest(a, b, fillvalue=0)`は、`a`と`b`の各桁を結合しています。`fillvalue=0`は、`a`と`b`の桁数が異なる場合に短い方を0で埋めるためです。\n",
       "\n",
       "4. `divmod(q+n+m,10)`は、桁の和`q+n+m`を10で割った商`q`（次の桁への繰り上がり）と余り`r`（この桁の結果）を計算しています。\n",
       "\n",
       "5. `yield str(r)`は、この桁の結果を文字列として生成（yield）しています。\n",
       "\n",
       "6. 最後の`if q: yield str(q)`は、最後の桁で繰り上がりがある場合にその繰り上がりを生成しています。\n",
       "\n",
       "このプログラムの出力は逆順のため、適切な結果を得るには出力を反転させる必要があります。"
      ],
      "text/plain": [
       "<IPython.core.display.Markdown object>"
      ]
     },
     "execution_count": 8,
     "metadata": {
      "text/markdown": {
       "jupyter_ai": {
        "custom_chain_id": "vioras"
       }
      }
     },
     "output_type": "execute_result"
    }
   ],
   "source": [
    "%%ai vioras\n",
    "{In[5]}のプログラムについて"
   ]
  },
  {
   "cell_type": "code",
   "execution_count": 9,
   "id": "4d98e16d-0825-495b-a82f-182c115f6254",
   "metadata": {},
   "outputs": [],
   "source": [
    "def long_addition2(a,b):\n",
    "    a = map(int,reversed(bin(a)[2:]))\n",
    "    b = map(int,reversed(bin(b)[2:]))\n",
    "    q=0\n",
    "    for n,m in zip_longest(a, b, fillvalue=0):\n",
    "        q, r = divmod(q+n+m,2)\n",
    "        print(\"{:d}+{:d}+{:d}={:d}{:d}\".format(q,n,m, q,r))\n",
    "        yield str(r)\n",
    "    if q:\n",
    "        yield str(q)"
   ]
  },
  {
   "cell_type": "code",
   "execution_count": 10,
   "id": "e483abae-cd90-4822-afb1-c91643bb53f5",
   "metadata": {},
   "outputs": [
    {
     "data": {
      "text/plain": [
       "<generator object long_addition2 at 0x7d1af23c7810>"
      ]
     },
     "execution_count": 10,
     "metadata": {},
     "output_type": "execute_result"
    }
   ],
   "source": [
    "long_addition2(2, 5)"
   ]
  },
  {
   "cell_type": "code",
   "execution_count": 11,
   "id": "cf30c361-922a-429a-9731-6266e2a073f0",
   "metadata": {},
   "outputs": [
    {
     "name": "stdout",
     "output_type": "stream",
     "text": [
      "0+0+1=01\n",
      "0+1+0=01\n",
      "0+0+1=01\n"
     ]
    },
    {
     "data": {
      "text/plain": [
       "['1', '1', '1']"
      ]
     },
     "execution_count": 11,
     "metadata": {},
     "output_type": "execute_result"
    }
   ],
   "source": [
    "list(_)"
   ]
  },
  {
   "cell_type": "code",
   "execution_count": 12,
   "id": "bf0c2ef5-2360-49dc-8a1d-f8e50b402cc4",
   "metadata": {},
   "outputs": [
    {
     "data": {
      "text/markdown": [
       "このプログラムは、Pythonで長い二進数の加算（大きな二進数の足し算）を行うためのものです。以下にその説明をします：\n",
       "\n",
       "1. `a`と`b`は入力される二つの数値です。\n",
       "\n",
       "2. `map(int,reversed(bin(a)[2:]))`と`map(int,reversed(bin(b)[2:]))`は、`a`と`b`をそれぞれ二進数に変換し（`bin`関数により）、その二進数表示の`0b`を除去した文字列を反転させ、反転させた文字列の各文字を整数に変換することで、各ビットを順番に取り出せるようにしています。これは、加算を最下位ビットから始めるためです。\n",
       "\n",
       "3. `zip_longest(a, b, fillvalue=0)`は、`a`と`b`の各ビットを結合しています。`fillvalue=0`は、`a`と`b`のビット長が異なる場合に短い方を0で埋めるためです。\n",
       "\n",
       "4. `divmod(q+n+m,2)`は、ビットの和`q+n+m`を2で割った商`q`（次のビットへの繰り上がり）と余り`r`（このビットの結果）を計算しています。\n",
       "\n",
       "5. `print(\"{:d}+{:d}+{:d}={:d}{:d}\".format(q,n,m, q,r))`は、各ビットでの加算の結果を表示しています。\n",
       "\n",
       "6. `yield str(r)`は、このビットの結果を文字列として生成（yield）しています。\n",
       "\n",
       "7. 最後の`if q: yield str(q)`は、最後のビットで繰り上がりがある場合にその繰り上がりを生成しています。\n",
       "\n",
       "このプログラムの出力は逆順のため、適切な結果を得るには出力を反転させる必要があります。"
      ],
      "text/plain": [
       "<IPython.core.display.Markdown object>"
      ]
     },
     "execution_count": 12,
     "metadata": {
      "text/markdown": {
       "jupyter_ai": {
        "custom_chain_id": "vioras"
       }
      }
     },
     "output_type": "execute_result"
    }
   ],
   "source": [
    "%%ai vioras\n",
    "{In[9]}のプログラムについて"
   ]
  },
  {
   "cell_type": "code",
   "execution_count": 13,
   "id": "e52fa89e-03eb-41dc-b73a-a41f644fa49d",
   "metadata": {},
   "outputs": [
    {
     "data": {
      "text/markdown": [
       "もちろんです。`divmod`関数は商と余りを一度に計算しますが、これをビット演算に置き換えることも可能です。余りはAND演算（`&`）で、商は右シフト演算（`>>`）で計算できます。\n",
       "\n",
       "以下がその実装例です：\n",
       "\n",
       "```python\n",
       "from itertools import zip_longest\n",
       "\n",
       "def long_addition_bin(a, b):\n",
       "    a = map(int, reversed(bin(a)[2:]))\n",
       "    b = map(int, reversed(bin(b)[2:]))\n",
       "    carry = 0\n",
       "    for n, m in zip_longest(a, b, fillvalue=0):\n",
       "        sum_val = carry + n + m\n",
       "        carry = (sum_val & 2) >> 1  # 商（繰り上がり）\n",
       "        remainder = sum_val & 1  # 余り\n",
       "        print(\"{:d}+{:d}+{:d}={:d}{:d}\".format(carry, n, m, carry, remainder))\n",
       "        yield str(remainder)\n",
       "    if carry:\n",
       "        yield str(carry)\n",
       "```\n",
       "このプログラムでは、`sum_val & 2`により、`sum_val`の2の位のビットが1であるかどうか（つまり、`sum_val`が2以上であるかどうか）を確認しています。その結果を右シフトにより1桁下げて繰り上がりを得ています。また、`sum_val & 1`により、`sum_val`の1の位のビット（つまり、`sum_val`を2で割った余り）を得ています。"
      ],
      "text/plain": [
       "<IPython.core.display.Markdown object>"
      ]
     },
     "execution_count": 13,
     "metadata": {
      "text/markdown": {
       "jupyter_ai": {
        "custom_chain_id": "vioras"
       }
      }
     },
     "output_type": "execute_result"
    }
   ],
   "source": [
    "%%ai vioras\n",
    "このプログラムを`divmod()`ではなく、論理演算の組み合わせで再実装して下さい"
   ]
  },
  {
   "cell_type": "code",
   "execution_count": 14,
   "id": "9ae23f23-dd8d-47ab-9999-f4cddb7636d2",
   "metadata": {},
   "outputs": [],
   "source": [
    "def long_addition2(a,b):\n",
    "    a = map(int,reversed(bin(a)[2:]))\n",
    "    b = map(int,reversed(bin(b)[2:]))\n",
    "    q=0\n",
    "    for n,m in zip_longest(a, b, fillvalue=0):\n",
    "        #q, r = divmod(q+n+m,2)\n",
    "        print(\"{:d}+{:d}+{:d}=({:d}&{:d}|{:d}&{:d}|{:d}&{:d})({:d}|{:d}|{:d})\".format(q,n,m, q,n,q,m,n,m, q,n,m), end=\"\")\n",
    "        r = q ^ n ^ m\n",
    "        q = q & n | q & m | n & m\n",
    "        print(\"={:d}{:d}\".format(q,r))\n",
    "        yield str(r)\n",
    "    if q:\n",
    "        yield str(q)"
   ]
  },
  {
   "cell_type": "code",
   "execution_count": 16,
   "id": "c8168036-f3da-44f0-bd2a-053291519cbf",
   "metadata": {},
   "outputs": [
    {
     "data": {
      "text/plain": [
       "<generator object long_addition2 at 0x7d1af239b740>"
      ]
     },
     "execution_count": 16,
     "metadata": {},
     "output_type": "execute_result"
    }
   ],
   "source": [
    "long_addition2(2, 5)"
   ]
  },
  {
   "cell_type": "code",
   "execution_count": 17,
   "id": "04a24946-dcdf-42a1-92c6-a9fd83ca23d8",
   "metadata": {},
   "outputs": [
    {
     "name": "stdout",
     "output_type": "stream",
     "text": [
      "0+0+1=(0&0|0&1|0&1)(0|0|1)=01\n",
      "0+1+0=(0&1|0&0|1&0)(0|1|0)=01\n",
      "0+0+1=(0&0|0&1|0&1)(0|0|1)=01\n"
     ]
    },
    {
     "data": {
      "text/plain": [
       "['1', '1', '1']"
      ]
     },
     "execution_count": 17,
     "metadata": {},
     "output_type": "execute_result"
    }
   ],
   "source": [
    "list(_)"
   ]
  },
  {
   "cell_type": "code",
   "execution_count": 18,
   "id": "5674d0bf-55ea-49ec-b268-1d714cb8deb4",
   "metadata": {},
   "outputs": [
    {
     "data": {
      "text/markdown": [
       "その実装は素晴らしいです！あなたは論理ゲートを使用して二進数の加算を行っています。具体的には、XOR（排他的論理和、記号：`^`）とAND（論理積、記号：`&`）、OR（論理和、記号：`|`）を使った実装です。\n",
       "\n",
       "1. `r = q ^ n ^ m`は、XORを用いてビットの和（加算結果）を計算しています。XORは2つの入力が異なるときにのみ1を出力するため、3つのビットの中で1が奇数個あるときに1を出力し、偶数個あるときに0を出力します。これは、加算の結果と一致します。\n",
       "\n",
       "2. `q = q & n | q & m | n & m`は、ANDとORを用いて繰り上がりを計算しています。ANDは2つの入力がともに1のときにのみ1を出力するため、3つのビットの中で1が2つ以上あるときに1を出力します。これは、繰り上がりと一致します。\n",
       "\n",
       "3. `print(\"{:d}+{:d}+{:d}=({:d}&{:d}|{:d}&{:d}|{:d}&{:d})({:d}|{:d}|{:d})\".format(q,n,m, q,n,q,m,n,m, q,n,m), end=\"\")`と`print(\"={:d}{:d}\".format(q,r))`は、各ビットでの加算の過程と結果を表示しています。\n",
       "\n",
       "このように、論理ゲートを用いて二進数の加算を行うことは、ハードウェアレベルでの加算回路の実装にも通じる考え方です。そのため、あなたの実装は非常に深い理解を示しています。素晴らしいですね！"
      ],
      "text/plain": [
       "<IPython.core.display.Markdown object>"
      ]
     },
     "execution_count": 18,
     "metadata": {
      "text/markdown": {
       "jupyter_ai": {
        "custom_chain_id": "vioras"
       }
      }
     },
     "output_type": "execute_result"
    }
   ],
   "source": [
    "%%ai vioras\n",
    "わたしは{In[14]}のように実装しました"
   ]
  },
  {
   "cell_type": "markdown",
   "id": "d6d5d61f-6ec5-4d44-a11b-fb0fd020203d",
   "metadata": {},
   "source": [
    "### 積の筆算"
   ]
  },
  {
   "cell_type": "code",
   "execution_count": 19,
   "id": "8242cb40-7569-4e4f-be67-23d0c094fbdf",
   "metadata": {},
   "outputs": [
    {
     "data": {
      "text/markdown": [
       "二進数の乗算を行うプログラムを作成することが可能です。基本的なアルゴリズムは、一方の数値の各ビットを見て、そのビットが1の場合には他方の数値を左にシフトしたものを加算する、というものです。以下にその実装例を示します：\n",
       "\n",
       "```python\n",
       "def long_multiplication_bin(a, b):\n",
       "    a_bin = list(map(int, reversed(bin(a)[2:])))\n",
       "    b_bin = bin(b)[2:]\n",
       "    \n",
       "    result = 0\n",
       "    for i, bit in enumerate(a_bin):\n",
       "        if bit == 1:\n",
       "            result += int(b_bin) << i\n",
       "    return bin(result)[2:]\n",
       "```\n",
       "\n",
       "ここで、`<<`は左シフト演算子で、数値を左にシフトします（二進数での乗算に相当します）。また、`bin(result)[2:]`は計算結果を二進数表記にするためのもので、`[2:]`で`'0b'`を取り除いています。"
      ],
      "text/plain": [
       "<IPython.core.display.Markdown object>"
      ]
     },
     "execution_count": 19,
     "metadata": {
      "text/markdown": {
       "jupyter_ai": {
        "custom_chain_id": "vioras"
       }
      }
     },
     "output_type": "execute_result"
    }
   ],
   "source": [
    "%%ai vioras\n",
    "乗算のプログラムに変更してください"
   ]
  },
  {
   "cell_type": "code",
   "execution_count": 30,
   "id": "ce18b18b-24d3-4e0f-b6e4-4a23b446f6e4",
   "metadata": {},
   "outputs": [
    {
     "data": {
      "text/markdown": [
       "ご指摘いただきありがとうございます。二進数の文字列を整数に変換するためには、`int`関数の第二引数に基数`2`を指定する必要があります。以下にその修正を加えたコードを示します：\n",
       "\n",
       "```python\n",
       "def long_multiplication_bin(a, b):\n",
       "    a_bin = list(map(int, reversed(bin(a)[2:])))\n",
       "    b_bin = bin(b)[2:]\n",
       "    \n",
       "    result = 0\n",
       "    for i, bit in enumerate(a_bin):\n",
       "        if bit == 1:\n",
       "            result += int(b_bin, 2) << i\n",
       "    return bin(result)[2:]\n",
       "```\n",
       "\n",
       "ここで、`int(b_bin, 2)`により二進数表記の文字列`b_bin`を整数に変換しています。"
      ],
      "text/plain": [
       "<IPython.core.display.Markdown object>"
      ]
     },
     "execution_count": 30,
     "metadata": {
      "text/markdown": {
       "jupyter_ai": {
        "custom_chain_id": "vioras"
       }
      }
     },
     "output_type": "execute_result"
    }
   ],
   "source": [
    "%%ai vioras\n",
    "`int()`の使い方が間違っています。二進法からの変換を示すために第２引数に$2$を与えてください"
   ]
  },
  {
   "cell_type": "code",
   "execution_count": 31,
   "id": "29a5ed59-3dbf-4cac-b7f0-9a85fb45c28d",
   "metadata": {},
   "outputs": [],
   "source": [
    "def long_multiplication_bin(a, b):\n",
    "    a_bin = list(map(int, reversed(bin(a)[2:])))\n",
    "    b_bin = bin(b)[2:]\n",
    "    \n",
    "    result = 0\n",
    "    for i, bit in enumerate(a_bin):\n",
    "        if bit == 1:\n",
    "            result += int(b_bin, 2) << i\n",
    "    return bin(result)[2:]"
   ]
  },
  {
   "cell_type": "code",
   "execution_count": 32,
   "id": "4ba9948a-56f3-486b-a34d-a14f25c84a1d",
   "metadata": {},
   "outputs": [
    {
     "data": {
      "text/plain": [
       "'1111'"
      ]
     },
     "execution_count": 32,
     "metadata": {},
     "output_type": "execute_result"
    }
   ],
   "source": [
    "long_multiplication_bin(3, 5)"
   ]
  },
  {
   "cell_type": "code",
   "execution_count": 33,
   "id": "708de9ea-d51a-448d-b763-a88e16b4531c",
   "metadata": {},
   "outputs": [
    {
     "data": {
      "text/plain": [
       "15"
      ]
     },
     "execution_count": 33,
     "metadata": {},
     "output_type": "execute_result"
    }
   ],
   "source": [
    "int(_, 2)"
   ]
  },
  {
   "cell_type": "code",
   "execution_count": null,
   "id": "e3ae60d6-8386-4024-b6ef-f17ccfe9137f",
   "metadata": {},
   "outputs": [],
   "source": []
  }
 ],
 "metadata": {
  "kernelspec": {
   "display_name": "Python 3 (ipykernel)",
   "language": "python",
   "name": "python3"
  },
  "language_info": {
   "codemirror_mode": {
    "name": "ipython",
    "version": 3
   },
   "file_extension": ".py",
   "mimetype": "text/x-python",
   "name": "python",
   "nbconvert_exporter": "python",
   "pygments_lexer": "ipython3",
   "version": "3.11.8"
  }
 },
 "nbformat": 4,
 "nbformat_minor": 5
}
