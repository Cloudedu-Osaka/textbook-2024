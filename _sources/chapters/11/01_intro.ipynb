{
 "cells": [
  {
   "cell_type": "markdown",
   "id": "1adc4167-3214-423e-9720-d446bd4eb58b",
   "metadata": {},
   "source": [
    "# 第十一週: 九九のない世界"
   ]
  },
  {
   "cell_type": "markdown",
   "id": "0053aa57-b138-4e2e-881b-616f9397a29e",
   "metadata": {},
   "source": [
    "## 機械式計算機から電子式計算機への道のり"
   ]
  },
  {
   "cell_type": "code",
   "execution_count": 1,
   "id": "c4367a93-08c5-47bd-8fe3-8691673bc091",
   "metadata": {},
   "outputs": [
    {
     "data": {
      "text/markdown": [
       "計算機の歴史は非常に興味深いもので、初期の機械式計算機から現在の電子式計算機への進化は、科学、工学、技術の著しい進歩を示しています。以下にその道のりを簡単に説明します。\n",
       "\n",
       "1. **機械式計算機の時代:** 最初の計算機は完全に手動で動作し、ギアとレバーの複雑な配列によって動かされました。例えば、17世紀の数学者ブレーズ・パスカルが作ったパスカリンや、19世紀の数学者チャールズ・バベッジが設計した解析機はその初期の例です。これらの機械は基本的な算術を自動化することができましたが、その機能は非常に限定的でした。\n",
       "\n",
       "2. **電気機械式計算機の時代:** 20世紀に入ると、電気機械式計算機が開発されました。これらの機械は電気を使用して動作し、より高速で効率的な計算を可能にしました。一例としては、1930年代にIBMが製造したパンチカードシステムがあります。これらのシステムは、電気パルスを使用してカードの穴を読み取り、データを処理しました。\n",
       "\n",
       "3. **電子式計算機の時代:** 第二次世界大戦中、科学者たちはより高度な計算能力を必要としました。これは、複雑な軍事計算と暗号解読のためでした。その結果、世界初の真の電子式計算機であるENIAC（Electronic Numerical Integrator and Computer）が1945年に誕生しました。ENIACは真空管を使用し、数千の電子スイッチを高速でオンオフすることで計算を行いました。\n",
       "\n",
       "4. **トランジスタと集積回路の導入:** 1950年代には、真空管を置き換える新たな技術が開発されました：トランジスタ。トランジスタは真空管よりも小さく、より信頼性が高く、より少ない電力を消費しました。その後、1960年代には集積回路（IC）が開発され、さらに多くのトランジスタを一つの小さなチップに納めることができるようになりました。\n",
       "\n",
       "5. **マイクロプロセッサの時代:** 1970年代には、マイクロプロセッサが開発され、計算機の全ての主要なコンポーネントが一つのチップに統合されました。これにより、パーソナルコンピューターの時代が始まり、一般の人々が計算機を手に入れることが可能となりました。\n",
       "\n",
       "以上が、大まかな機械式計算機から電子式計算機への道のりです。今日では、私たちの日常生活はこの進化の産物であるスマートフォン、ラップトップ、デスクトップコンピュータに大きく依存しています。"
      ],
      "text/plain": [
       "<IPython.core.display.Markdown object>"
      ]
     },
     "execution_count": 1,
     "metadata": {
      "text/markdown": {
       "jupyter_ai": {
        "custom_chain_id": "vioras"
       }
      }
     },
     "output_type": "execute_result"
    }
   ],
   "source": [
    "%%ai vioras\n",
    "機械式計算機から電子式計算機への道のり"
   ]
  },
  {
   "cell_type": "markdown",
   "id": "4daf2165-48d1-40dd-aec8-0ebde6695de9",
   "metadata": {},
   "source": [
    ":::{seealso}\n",
    "* [EDSAC - Wikipedia](https://en.wikipedia.org/wiki/EDSAC)\n",
    ":::"
   ]
  },
  {
   "cell_type": "code",
   "execution_count": 3,
   "id": "2b26165c-7499-44d5-9fb3-c31ca62c1a43",
   "metadata": {},
   "outputs": [
    {
     "data": {
      "text/markdown": [
       "EDSAC（Electronic Delay Storage Automatic Calculator）は、計算機の歴史において非常に重要な役割を果たしました。EDSACは1949年にイギリスのケンブリッジ大学で設計および構築され、その後のコンピュータ設計に大きな影響を与えました。\n",
       "\n",
       "以下に、EDSACの主な特徴とその重要性について説明します。\n",
       "\n",
       "1. **最初の完全電子式ストアドプログラム式コンピュータ:** EDSACは、ストアドプログラム方式を採用した最初の完全電子式のコンピュータとして広く認識されています。これは、プログラムの指示が主記憶装置に保存され、必要に応じて読み出されるという方式で、現在のコンピュータの基本的な動作原理を形成しています。\n",
       "\n",
       "2. **ビットとバイトの初期使用:** EDSACは、情報を保存し操作するための基本単位としてビットとバイトを使用しました。これも現代のコンピュータ科学の基本的な概念です。\n",
       "\n",
       "3. **高水準プログラミング言語の先駆け:** EDSACは初期のアセンブラ（低水準プログラム言語）を使用してプログラムされ、数値計算と科学計算を実行するためのライブラリが開発されました。これは高水準プログラミング言語の開発への道を開きました。\n",
       "\n",
       "4. **商用コンピュータの先駆け:** EDSACの設計は、初の商用コンピュータであるLEO（Lyons Electronic Office）の基礎となりました。これは、コンピュータが科学的な計算だけでなく、ビジネスと行政のタスクの自動化にも使用できることを示しました。\n",
       "\n",
       "以上のように、EDSACはその革新的な設計と概念により、電子式計算機の歴史において重要な地位を占めています。それは現代のコンピュータの設計と機能に対する基礎的な影響を与え、科学的な計算だけでなく商用の応用におけるコンピュータの可能性を示しました。"
      ],
      "text/plain": [
       "<IPython.core.display.Markdown object>"
      ]
     },
     "execution_count": 3,
     "metadata": {
      "text/markdown": {
       "jupyter_ai": {
        "custom_chain_id": "vioras"
       }
      }
     },
     "output_type": "execute_result"
    }
   ],
   "source": [
    "%%ai vioras\n",
    "電子式計算機におけるEDSACの位置づけは？"
   ]
  },
  {
   "cell_type": "code",
   "execution_count": 4,
   "id": "b787b1c0-3cc4-48a5-afe4-994cfc6792fd",
   "metadata": {},
   "outputs": [
    {
     "data": {
      "text/markdown": [
       "EDSACは、その設計が現代のコンピューターアーキテクチャに多大な影響を与えただけでなく、初期のプログラミングテクニックとアルゴリズムの発展にも寄与しました。その中には、平開法を使用した平方根の計算のアルゴリズムも含まれています。\n",
       "\n",
       "**平開法**は、ある数の平方根を求めるための手法で、手動計算でもコンピューターでも使用できます。このアルゴリズムは数値解析の基本的な手法であり、古代に遡る歴史があります。\n",
       "\n",
       "EDSACにおける平開法の具体的な実装については、具体的なコードや詳細な手順が公に利用可能であるわけではないため、具体的な指示を提供することはできません。しかし、基本的なアイデアは次のとおりです。\n",
       "\n",
       "1. 初期の推測値（通常は与えられた数自体またはその半分）から始めます。\n",
       "2. その推測値を使って平方根を計算し、その結果が与えられた数とどれほど近いかを評価します。\n",
       "3. 結果が十分に近ければ、その推測値を最終的な答えとして受け入れます。そうでなければ、推測値を調整し、再度計算します。\n",
       "\n",
       "この手法は反復法とも呼ばれ、推測値が真の平方根に十分に近くなるまで繰り返されます。この種のアルゴリズムは、初期のコンピューターシステム、特に浮動小数点演算能力が限定的だったシステムで、非常に有用でした。\n",
       "\n",
       "現代のコンピューターでは、より高度なアルゴリズムが使用されることが多く、それらはハードウェアレベルで直接支援されている場合もあります。しかし、平開法のような基本的なアルゴリズムは、コンピューター科学の基礎であり、私たちがどのように複雑な数学的演算を行うことができるかを理解するための鍵となります。"
      ],
      "text/plain": [
       "<IPython.core.display.Markdown object>"
      ]
     },
     "execution_count": 4,
     "metadata": {
      "text/markdown": {
       "jupyter_ai": {
        "custom_chain_id": "vioras"
       }
      }
     },
     "output_type": "execute_result"
    }
   ],
   "source": [
    "%%ai vioras\n",
    "EDSACにおける平開法のアルゴリズムについて"
   ]
  },
  {
   "cell_type": "markdown",
   "id": "6aaf0177-0556-4c5e-a9f2-9c807d929e50",
   "metadata": {},
   "source": [
    ":::{seealso}\n",
    "* (1550&mdash;1617) [John Napier - Wikipedia](https://en.wikipedia.org/wiki/John_Napier)\n",
    "    * [Logarithm - Wikipedia](https://en.wikipedia.org/wiki/Logarithm)\n",
    "    * [Napier's bones - Wikipedia](https://en.wikipedia.org/wiki/Napier%27s_bones)\n",
    "    * [Decimal separator - Wikipedia](https://en.wikipedia.org/wiki/Decimal_separator)\n",
    "* (1646&mdash;1716) [Gottfried Wilhelm Leibniz - Wikipedia](https://en.wikipedia.org/wiki/Gottfried_Wilhelm_Leibniz)\n",
    "    * [Leibniz wheel - Wikipedia](https://en.wikipedia.org/wiki/Leibniz_wheel)\n",
    "    * [Binary number - Wikipedia](https://en.wikipedia.org/wiki/Binary_number)\n",
    ":::"
   ]
  },
  {
   "cell_type": "code",
   "execution_count": 2,
   "id": "2eef9311-ee06-46da-9145-d68a4a1cb301",
   "metadata": {},
   "outputs": [
    {
     "data": {
      "text/markdown": [
       "ジョン・ネイピア（John Napier）とゴットフリート・ライプニッツ（Gottfried Leibniz）は、計算機の歴史において非常に重要な位置を占めています。彼らはそれぞれ異なる時代に機械式計算機の開発に大きな影響を与えました。\n",
       "\n",
       "**ジョン・ネイピア:** ネイピア（1550-1617）はスコットランドの数学者で、彼の最も重要な貢献は対数の発明です。対数は乗算を加算に、除算を減算に変換することで、計算を大幅に簡単にしました。さらに、ネイピアは「ネイピアの骨」（またはネイピアの棒）と呼ばれる初期の計算機を発明しました。これは一連の棒または矩形の板で、それぞれが乗算表を表しており、これを使用することで乗算、除算、平方根の計算が可能になりました。これらの発明は、後の計算機開発に大きな影響を与え、特に対数は計算機科学における多くのアルゴリズムとデータ構造において中心的な役割を果たしています。\n",
       "\n",
       "**ゴットフリート・ライプニッツ:** ライプニッツ（1646-1716）はドイツの数学者で哲学者であり、微分積分学を独立に発明したことで最もよく知られています。しかし、彼はまた、機械式計算機の分野でも重要な役割を果たしました。ライプニッツは「ライプニッツの計算機」（またはステップド・レクナー）を発明しました。これは、ギアの複雑な配置を使用して加算、減算、乗算、除算を自動化することができる機械でした。この計算機は、機械式計算機の可能性を示す重要な一歩であり、後の計算機設計の基礎を築きました。\n",
       "\n",
       "したがって、ネイピアとライプニッツは、それぞれが異なる方法で初期の機械式計算機の発展に対して重要な貢献をしました。ネイピアの対数とネイピアの骨は計算を簡素化し、ライプニッツの計算機は機械式計算機の可能性を広げました。これらの貢献は、計算機科学と計算機工学の発展において、基礎的なものでした。"
      ],
      "text/plain": [
       "<IPython.core.display.Markdown object>"
      ]
     },
     "execution_count": 2,
     "metadata": {
      "text/markdown": {
       "jupyter_ai": {
        "custom_chain_id": "vioras"
       }
      }
     },
     "output_type": "execute_result"
    }
   ],
   "source": [
    "%%ai vioras\n",
    "機械式計算機におけるNapierとLeibnizの位置づけ"
   ]
  },
  {
   "cell_type": "markdown",
   "id": "3e7b88bf-303f-4002-af09-683b52dbbfc2",
   "metadata": {},
   "source": [
    "## ルネッサンス、科学革命\n",
    "\n",
    ":::{seealso}\n",
    "* [Renaissance - Wikipedia](https://en.wikipedia.org/wiki/Renaissance)\n",
    "    - [Science in the Renaissance - Wikipedia](https://en.wikipedia.org/wiki/Science_in_the_Renaissance)\n",
    "* [Age of Enlightenment - Wikipedia](https://en.wikipedia.org/wiki/Age_of_Enlightenment)\n",
    "    - [Science in the Age of Enlightenment - Wikipedia](https://en.wikipedia.org/wiki/Science_in_the_Age_of_Enlightenment)\n",
    "* [Scientific Revolution - Wikipedia](https://en.wikipedia.org/wiki/Scientific_Revolution)\n",
    ":::"
   ]
  },
  {
   "cell_type": "code",
   "execution_count": 1,
   "id": "6b5cdb23-1ab2-4a17-832b-a976c92a285f",
   "metadata": {},
   "outputs": [
    {
     "data": {
      "text/markdown": [
       "世界三大発明とは、通常、印刷術、火薬、そして羅針盤を指します。これらはすべて古代中国で発明されました。\n",
       "\n",
       "1. **印刷術**: 木版印刷が最初に発明され、その後、活版印刷が開発されました。これにより情報を大量に、効率的に伝えることが可能となり、知識と情報の広がりを助けました。\n",
       "\n",
       "2. **火薬**: 9世紀に中国で発明されました。火薬の発明は戦争の方法を根本的に変え、大砲や銃のような武器の開発を可能にしました。\n",
       "\n",
       "3. **羅針盤**: 羅針盤は方向を特定するための重要なツールで、航海や探検を助けました。羅針盤の発明は、世界の地図の作成と世界の探検に大きな影響を与えました。\n",
       "\n",
       "これらの発明は、科学、技術、交通、戦争、そして情報伝播の領域で人類の歴史に深く影響を与えました。"
      ],
      "text/plain": [
       "<IPython.core.display.Markdown object>"
      ]
     },
     "execution_count": 1,
     "metadata": {
      "text/markdown": {
       "jupyter_ai": {
        "custom_chain_id": "vioras"
       }
      }
     },
     "output_type": "execute_result"
    }
   ],
   "source": [
    "%%ai vioras\n",
    "世界三大発明について"
   ]
  },
  {
   "cell_type": "code",
   "execution_count": 2,
   "id": "48766333-af63-4440-b443-a548857ffe49",
   "metadata": {},
   "outputs": [
    {
     "data": {
      "text/markdown": [
       "それは非常に興味深い視点です。モンゴル帝国は13世紀から14世紀にかけて存在し、ユーラシア大陸の大部分を支配していました。\n",
       "\n",
       "1. **印刷術**: モンゴル帝国の広範な領土と経済的な力は、文化や知識の交換を促進しました。印刷術はこの交換の一部として広がったと考えられています。\n",
       "\n",
       "2. **火薬**: モンゴル帝国は火薬を使用した武器を広く利用しました。彼らの侵略と征服は、火薬技術の広範な拡散に寄与しました。\n",
       "\n",
       "3. **羅針盤**: モンゴル帝国の広大な領土は、異なる地域間の航海と交流を必要としました。羅針盤はそのような航海を可能にし、また、その技術もまたモンゴル帝国を通じて広まった可能性があります。\n",
       "\n",
       "モンゴル帝国の広範な交流と交易網は、これらの発明がユーラシア全体、そして最終的には世界中に広がるための道を開きました。これらの発明がモンゴル帝国の時代に広がったという視点は、技術と知識の拡散がどのようにして地理的な境界を越えて行われるかを示しています。"
      ],
      "text/plain": [
       "<IPython.core.display.Markdown object>"
      ]
     },
     "execution_count": 2,
     "metadata": {
      "text/markdown": {
       "jupyter_ai": {
        "custom_chain_id": "vioras"
       }
      }
     },
     "output_type": "execute_result"
    }
   ],
   "source": [
    "%%ai vioras\n",
    "NHKの「３ヶ月で学ぶ世界史」というTV番組によれば、それらはすべてモンゴル帝国に関係あるとされています"
   ]
  },
  {
   "cell_type": "markdown",
   "id": "5cd9144c-efdf-4895-b182-1bb4810aeafb",
   "metadata": {},
   "source": [
    ":::{seealso}\n",
    "* [Positional notation - Wikipedia](https://en.wikipedia.org/wiki/Positional_notation)\n",
    "    - [0 - Wikipedia](https://en.wikipedia.org/wiki/0)\n",
    "    - [Decimal separator - Wikipedia](https://en.wikipedia.org/wiki/Decimal_separator)\n",
    ":::"
   ]
  },
  {
   "cell_type": "code",
   "execution_count": 3,
   "id": "efbe16b3-52c6-45c9-b509-edd7ca477d29",
   "metadata": {},
   "outputs": [
    {
     "data": {
      "text/markdown": [
       "その通りです。古代メソポタミアの数学は、特に我々が今日使用している10進法とは異なる60進法に基づいていました。この体系は、時間の計算（60秒/分、60分/時）や角度の計測（360度）など、現代の多くの計算方法にまだ影響を与えています。\n",
       "\n",
       "しかし、古代メソポタミアの数学者たちは、「ゼロ」の概念を持っていませんでした。彼らは空の場所を示すために特定の記号を使うことがありましたが、それは我々が理解する「ゼロ」（つまり、数値としてのゼロ）ではありませんでした。\n",
       "\n",
       "また、彼らは小数点の概念も持っていませんでした。しかし、彼らは分数を使用して非整数の値を表現し、それは現代の小数点以下の値を表現する方法に類似しています。\n",
       "\n",
       "たとえば、彼らは$1/2$、$1/3$、$1/4$などの分数を表現するための記号を持っていました。これにより、彼らは精密な計算と、現代の小数を用いた計算と同等の結果を得ることができました。"
      ],
      "text/plain": [
       "<IPython.core.display.Markdown object>"
      ]
     },
     "execution_count": 3,
     "metadata": {
      "text/markdown": {
       "jupyter_ai": {
        "custom_chain_id": "vioras"
       }
      }
     },
     "output_type": "execute_result"
    }
   ],
   "source": [
    "%%ai vioras\n",
    "古代メソポタミアでは60進法による位取り記法が使われていましたが、ゼロと小数点がありませんでした"
   ]
  },
  {
   "cell_type": "markdown",
   "id": "74d960e8-ba90-4148-a78f-d3ff19cef2e8",
   "metadata": {},
   "source": [
    ":::{seealso}\n",
    "* [History of the Hindu–Arabic numeral system - Wikipedia](https://en.wikipedia.org/wiki/History_of_the_Hindu%E2%80%93Arabic_numeral_system)\n",
    "* [Toledo School of Translators - Wikipedia](https://en.wikipedia.org/wiki/Toledo_School_of_Translators)\n",
    ":::"
   ]
  },
  {
   "cell_type": "code",
   "execution_count": 4,
   "id": "b8467161-081c-468e-9fe6-690a25d9a0c9",
   "metadata": {},
   "outputs": [
    {
     "data": {
      "text/markdown": [
       "その通りです。ゼロという概念は、古代インドの数学者によって開発され、そこからアラビアの学者を通じてヨーロッパに伝播されました。\n",
       "\n",
       "インドでは5世紀頃にゼロという概念が発展し始め、7世紀頃には完全に認識されるようになりました。ゼロは、数値としての存在（例えば、20と200の違いを表現するため）だけでなく、数学的な計算（例えば、減算や除算）にも重要でした。\n",
       "\n",
       "これらの概念は、9世紀から12世紀にかけてのイスラム黄金時代に、アラビアの学者たちによって取り入れられました。彼らはインドの数学を翻訳し、発展させ、イスラム世界全体に広めました。\n",
       "\n",
       "中世ヨーロッパにおいて、これらのアラビアの数学的知識は、12世紀のトレドの翻訳学校など、さまざまな経路を通じて伝えられました。これにより、ゼロという概念、そしてアラビア数字（0から9までの数字）は、ヨーロッパの数学と科学に取り入れられるようになりました。\n",
       "\n",
       "ゼロの導入は、数学的な計算と思考の方法を大きく変え、科学的な進歩を劇的に加速させました。"
      ],
      "text/plain": [
       "<IPython.core.display.Markdown object>"
      ]
     },
     "execution_count": 4,
     "metadata": {
      "text/markdown": {
       "jupyter_ai": {
        "custom_chain_id": "vioras"
       }
      }
     },
     "output_type": "execute_result"
    }
   ],
   "source": [
    "%%ai vioras\n",
    "ゼロは、インド数字がイスラムに広まり、アラビア数字としてヨーロッパに伝わりました"
   ]
  },
  {
   "cell_type": "code",
   "execution_count": 5,
   "id": "d696b1da-7814-47f6-85b3-5e02fbab1366",
   "metadata": {},
   "outputs": [
    {
     "data": {
      "text/markdown": [
       "その通りです。レコンキスタ（イスラム統治下のイベリア半島をキリスト教徒が再征服する過程）は8世紀から15世紀にかけて行われました。この期間中、特に12世紀から13世紀にかけて、イスラムの文献の大規模な翻訳が行われました。この翻訳活動は、トレド翻訳学校を中心として行われました。\n",
       "\n",
       "トレド翻訳学校では、キリスト教徒、ユダヤ人、そしてイスラム教徒の学者たちが協力して、アラビア語の文献をラテン語や他のヨーロッパの言語に翻訳しました。これらの文献には、哲学、医学、天文学、数学など、様々な学問分野の知識が含まれていました。\n",
       "\n",
       "この翻訳活動は、中世ヨーロッパの思想と科学に大きな影響を与えました。特に、アラビア数字とゼロの概念、そしてアルジェブラといった数学的な概念の導入は、ヨーロッパの学問に大きな変革をもたらしました。\n",
       "\n",
       "また、これらの翻訳は、クラシックのギリシャやローマの知識をヨーロッパに再導入する重要な手段ともなりました。これは、イスラム学者がこれらの古典を保存し、研究し、翻訳していたためです。そのため、イスラムの翻訳活動は、ルネサンスの到来を促す一因ともなりました。"
      ],
      "text/plain": [
       "<IPython.core.display.Markdown object>"
      ]
     },
     "execution_count": 5,
     "metadata": {
      "text/markdown": {
       "jupyter_ai": {
        "custom_chain_id": "vioras"
       }
      }
     },
     "output_type": "execute_result"
    }
   ],
   "source": [
    "%%ai vioras\n",
    "イスラムの文献は、レコンキスタと前後して翻訳されました"
   ]
  },
  {
   "cell_type": "markdown",
   "id": "b53ee558-5e22-46a7-835a-e6cbe4c79b2e",
   "metadata": {},
   "source": [
    ":::{seealso}\n",
    "* (1550&mdash;1617) [John Napier - Wikipedia](https://en.wikipedia.org/wiki/John_Napier)\n",
    ":::"
   ]
  },
  {
   "cell_type": "code",
   "execution_count": 6,
   "id": "9a4e3df8-daa9-4243-a805-6ebc5f954d4c",
   "metadata": {},
   "outputs": [
    {
     "data": {
      "text/markdown": [
       "その通りです。小数点の使用は、スコットランドの数学者ジョン・ネイピア（John Napier）によって広められました。彼は「対数」の概念を初めて紹介した人物でもあります。\n",
       "\n",
       "ネイピアは1614年に対数の概念を導入し、これにより複雑な乗算や除算をより簡単な加算や減算に置き換えることができるようになりました。これは、航海や天文学などの分野で大きな影響を及ぼしました。\n",
       "\n",
       "また、ネイピアは1617年に彼の作品「Rabdologiae」の中で、小数点を使用する方法を紹介しました。これにより、非整数の数値をより正確に表現し、計算することが可能となりました。\n",
       "\n",
       "しかし、小数点の記号そのもの（\".\"）は、イングランドの数学者トーマス・ハリオット（Thomas Harriot）が初めて使用したとも言われています。ハリオットは、ネイピアと同じくらいの時期に小数点を使用していました。\n",
       "\n",
       "このように、小数点の導入は複数の数学者による独立した発明と発展の結果であり、それぞれが重要な役割を果たしています。"
      ],
      "text/plain": [
       "<IPython.core.display.Markdown object>"
      ]
     },
     "execution_count": 6,
     "metadata": {
      "text/markdown": {
       "jupyter_ai": {
        "custom_chain_id": "vioras"
       }
      }
     },
     "output_type": "execute_result"
    }
   ],
   "source": [
    "%%ai vioras\n",
    "小数点を導入したのはネイピアと言われています"
   ]
  },
  {
   "cell_type": "markdown",
   "id": "bfeb5399-8db3-4b8d-a6f5-86f8473ca713",
   "metadata": {},
   "source": [
    ":::{seealso}\n",
    "* (1596&mdash;1650) [René Descartes - Wikipedia](https://en.wikipedia.org/wiki/Ren%C3%A9_Descartes)\n",
    "    * (1637) [La Géométrie - Wikipedia](https://en.wikipedia.org/wiki/La_G%C3%A9om%C3%A9trie)\n",
    ":::"
   ]
  },
  {
   "cell_type": "code",
   "execution_count": 7,
   "id": "08ac5d0a-45f0-445c-b280-f48c8f9c88a5",
   "metadata": {},
   "outputs": [
    {
     "data": {
      "text/markdown": [
       "座標を科学的に導入したのは、フランスの数学者で哲学者でもあるルネ・デカルトです。彼は17世紀に「解析幾何学」を創設しました。\n",
       "\n",
       "解析幾何学は、数学（特に代数と微積分）と幾何を統合するための手法を提供します。デカルトは、数値を使用して幾何学的形状を表現するという新しい考え方を導入しました。これにより、数学者は形状と方程式を直接関連付けることができるようになりました。\n",
       "\n",
       "デカルト座標系は、2次元または3次元の空間で点を表現するために使用されます。各点は、原点からの距離（x, y,（3次元の場合はz））によって一意に定義されます。デカルトのこのイノベーションは、現代の科学、工学、数学の多くの分野で基本的なツールとなっています。\n",
       "\n",
       "そのため、デカルトは、座標の科学的な導入により、数学と物理学の発展に大きな影響を与えたと言えます。"
      ],
      "text/plain": [
       "<IPython.core.display.Markdown object>"
      ]
     },
     "execution_count": 7,
     "metadata": {
      "text/markdown": {
       "jupyter_ai": {
        "custom_chain_id": "vioras"
       }
      }
     },
     "output_type": "execute_result"
    }
   ],
   "source": [
    "%%ai vioras\n",
    "座標を科学的に導入した人は？"
   ]
  },
  {
   "cell_type": "code",
   "execution_count": 8,
   "id": "6658880f-4e58-46b6-b7bc-ae6bbe49b846",
   "metadata": {},
   "outputs": [
    {
     "data": {
      "text/markdown": [
       "その通りです。座標の導入は、微分積分学の発展にとって重要なステップでした。特に、デカルトの解析幾何学は、アイザック・ニュートンとゴットフリート・ライプニッツが微分積分学を独立に発展させる際の基礎となりました。\n",
       "\n",
       "微分積分学は、関数の変化率や曲線の傾きを調べる数学の一分野です。これらの概念を理解するためには、座標平面上で関数を視覚的に表示することが有用です。デカルト座標系はそれを可能にし、数値と幾何学的直観を結びつけるための枠組みを提供します。\n",
       "\n",
       "ニュートンの流体力学や運動の法則、ライプニッツの最小作用原理などの重要な概念は、この座標体系と微分積分学の概念を用いて形式化されました。また、これらの工具は物理学、工学、経済学など、幅広い分野で現在も広く使われています。\n",
       "\n",
       "したがって、座標の概念の導入は、微分積分学の体系化とそれが後の科学的進歩に与えた影響にとって、間違いなく不可欠でした。"
      ],
      "text/plain": [
       "<IPython.core.display.Markdown object>"
      ]
     },
     "execution_count": 8,
     "metadata": {
      "text/markdown": {
       "jupyter_ai": {
        "custom_chain_id": "vioras"
       }
      }
     },
     "output_type": "execute_result"
    }
   ],
   "source": [
    "%%ai vioras\n",
    "ニュートンやライプニッツの微分の体系化は、座標なしでは有り得なかったと思いませんか？"
   ]
  },
  {
   "cell_type": "code",
   "execution_count": 9,
   "id": "d908e4b6-5e2b-4212-9644-438df2ab4034",
   "metadata": {},
   "outputs": [
    {
     "data": {
      "text/markdown": [
       "その通りです。ルネサンスと科学革命は異なる時代を示しますが、それらは歴史的な連続性を持っています。\n",
       "\n",
       "ルネサンスは14世紀から17世紀初頭にかけての期間を指し、文化、芸術、哲学、そして科学の広範な再生と革新の時代でした。この時代には、古典の再発見や人間中心主義の発展など、多くの重要な変化が生じました。\n",
       "\n",
       "一方、科学革命は16世紀後半から17世紀にかけての期間を指し、科学的方法の確立と、物理学、天文学、生物学、医学などの多くの科学分野での大きな進歩が特徴です。この時期には、コペルニクスの地動説、ガリレオ・ガリレイの物理学的発見、そしてニュートンの運動の法則などが提唱されました。\n",
       "\n",
       "ルネ・デカルトの解析幾何学（17世紀初頭）と、ニュートンやライプニッツによる微分積分学の発展（17世紀後半）は、明らかに科学革命の時代の成果と言えます。これらの発見は、科学的思考の方法を根本的に変え、科学の進歩を大きく加速させました。\n",
       "\n",
       "したがって、これらの業績は、科学革命の時代に位置付けることが最も適切と言えるでしょう。"
      ],
      "text/plain": [
       "<IPython.core.display.Markdown object>"
      ]
     },
     "execution_count": 9,
     "metadata": {
      "text/markdown": {
       "jupyter_ai": {
        "custom_chain_id": "vioras"
       }
      }
     },
     "output_type": "execute_result"
    }
   ],
   "source": [
    "%%ai vioras\n",
    "これらの業績は、ルネッサンスではなく、科学革命の時代と考えてよいですか？"
   ]
  },
  {
   "cell_type": "markdown",
   "id": "2159ff13-8169-4d00-8944-f84d8a4f9ebe",
   "metadata": {},
   "source": [
    ":::{seealso}\n",
    "* [Hexagram (I Ching) - Wikipedia](https://en.wikipedia.org/wiki/Hexagram_(I_Ching))\n",
    "    - [六十四卦 - 维基百科，自由的百科全书](https://zh.wikipedia.org/wiki/%E5%85%AD%E5%8D%81%E5%9B%9B%E5%8D%A6)\n",
    ":::"
   ]
  },
  {
   "cell_type": "code",
   "execution_count": 10,
   "id": "26d09ae9-bb51-4d74-b30e-ec076a182ec6",
   "metadata": {
    "scrolled": true
   },
   "outputs": [
    {
     "data": {
      "text/markdown": [
       "ゴットフリート・ライプニッツは、中国の六十四卦（『易経』の一部）については、ヨーロッパにいながらにして学びました。17世紀のヨーロッパでは、中国の文化と知識に対する関心が高まっていました。\n",
       "\n",
       "ライプニッツが中国の六十四卦について学んだ具体的な方法は、イエズス会の宣教師たちの報告を通じてでした。当時のイエズス会は、中国とヨーロッパの間で文化と知識の交流を促進する役割を果たしていました。彼らは中国の文化、哲学、科学などについて詳細な報告をヨーロッパに送り、これらの知識を広めるための重要な媒介となりました。\n",
       "\n",
       "ライプニッツは、イエズス会の宣教師からの報告を通じて、中国の六十四卦や『易経』について知り、それらの思想を研究しました。また、中国の二進法の概念についても学びました。ライプニッツは二進法に深い興味を持ち、それが自身の数学と哲学の研究に影響を与えました。\n",
       "\n",
       "したがって、ライプニッツが六十四卦を入手した方法は、イエズス会の宣教師たちからの報告とその研究を通じてでした。"
      ],
      "text/plain": [
       "<IPython.core.display.Markdown object>"
      ]
     },
     "execution_count": 10,
     "metadata": {
      "text/markdown": {
       "jupyter_ai": {
        "custom_chain_id": "vioras"
       }
      }
     },
     "output_type": "execute_result"
    }
   ],
   "source": [
    "%%ai vioras\n",
    "ちなみに、ライプニッツは中国の六十四卦をどのように入手しましたか？"
   ]
  }
 ],
 "metadata": {
  "kernelspec": {
   "display_name": "Python 3 (ipykernel)",
   "language": "python",
   "name": "python3"
  },
  "language_info": {
   "codemirror_mode": {
    "name": "ipython",
    "version": 3
   },
   "file_extension": ".py",
   "mimetype": "text/x-python",
   "name": "python",
   "nbconvert_exporter": "python",
   "pygments_lexer": "ipython3",
   "version": "3.11.8"
  }
 },
 "nbformat": 4,
 "nbformat_minor": 5
}
