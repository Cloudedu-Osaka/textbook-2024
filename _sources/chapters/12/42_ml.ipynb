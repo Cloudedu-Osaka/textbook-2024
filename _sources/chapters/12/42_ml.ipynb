{
 "cells": [
  {
   "cell_type": "markdown",
   "id": "c304b0c7",
   "metadata": {},
   "source": [
    "# プログラミングのない世界 (4)"
   ]
  },
  {
   "cell_type": "markdown",
   "id": "ee13dfb6",
   "metadata": {},
   "source": [
    "## 機械学習 (Machine Learning)"
   ]
  },
  {
   "cell_type": "markdown",
   "id": "71a9d157",
   "metadata": {},
   "source": [
    "### Multi-Layer Perceptron (MLP)\n",
    "\n",
    "* [Artificial neural network - Wikipedia](https://en.wikipedia.org/wiki/Artificial_neural_network)\n",
    "* [Multilayer perceptron - Wikipedia](https://en.wikipedia.org/wiki/Multilayer_perceptron)\n",
    "* [Layer (deep learning) - Wikipedia](https://en.wikipedia.org/wiki/Layer_%28deep_learning%29)"
   ]
  },
  {
   "cell_type": "markdown",
   "id": "de04babb",
   "metadata": {},
   "source": [
    "![fig-1](https://upload.wikimedia.org/wikipedia/commons/e/e4/Artificial_neural_network.svg)"
   ]
  },
  {
   "cell_type": "markdown",
   "id": "1c6283cc",
   "metadata": {},
   "source": [
    "### MLPの応用\n",
    "* [Pythonで多層パーセプトロンのXORゲートを実装する! | WATLAB -Python, 信号処理, 画像処理, AI, 工学, Web-](https://watlab-blog.com/2019/12/12/mlp-xor/)\n",
    "* [python - Training a neural network to compute 'XOR' in scikit-learn - Stack Overflow](https://stackoverflow.com/questions/44896453/training-a-neural-network-to-compute-xor-in-scikit-learn)"
   ]
  },
  {
   "cell_type": "markdown",
   "id": "94285b0e",
   "metadata": {},
   "source": [
    "#### xor (`^`) を機械学習する:"
   ]
  },
  {
   "cell_type": "code",
   "execution_count": 1,
   "id": "8e452940-26d0-477d-9ff1-a53a21082abe",
   "metadata": {},
   "outputs": [
    {
     "data": {
      "text/markdown": [
       "素晴らしいですね！scikit-learnの一つのモデル、例えばSVM（Support Vector Machines）を使ってXOR問題を解くことができます。\n",
       "\n",
       "以下に、そのための基本的なPythonコードを示します：\n",
       "\n",
       "```python\n",
       "from sklearn import svm\n",
       "import numpy as np\n",
       "\n",
       "# XORのデータとラベル\n",
       "X = np.array([[0, 0], [0, 1], [1, 0], [1, 1]])\n",
       "y = np.array([0, 1, 1, 0])\n",
       "\n",
       "# SVMのモデルを作成\n",
       "model = svm.SVC(kernel='rbf', C=1.0)\n",
       "\n",
       "# モデルの訓練\n",
       "model.fit(X, y)\n",
       "\n",
       "# テストデータ\n",
       "test_data = [[0, 0], [0, 1], [1, 0], [1, 1]]\n",
       "\n",
       "# 予測\n",
       "print(model.predict(test_data))\n",
       "```\n",
       "\n",
       "ここで、Xは入力データ（XORの入力となる値のペア）を、yは対応するラベル（XORの出力）を表しています。`svm.SVC`はSVMの分類器を作成するための関数で、パラメータとしてkernelやCなどを取ります。そして、`model.fit(X, y)`でモデルを訓練しています。\n",
       "\n",
       "最後に、訓練されたモデルを使っていくつかのテストデータの予測を行っています。"
      ],
      "text/plain": [
       "<IPython.core.display.Markdown object>"
      ]
     },
     "execution_count": 1,
     "metadata": {
      "text/markdown": {
       "jupyter_ai": {
        "custom_chain_id": "vioras"
       }
      }
     },
     "output_type": "execute_result"
    }
   ],
   "source": [
    "%%ai vioras\n",
    "scikit-learnを使ってxorを機械学習で実装します"
   ]
  },
  {
   "cell_type": "code",
   "execution_count": 2,
   "id": "9e8e7ad2-c354-442c-bbfc-2b481c3278af",
   "metadata": {},
   "outputs": [
    {
     "data": {
      "text/markdown": [
       "もちろんです、`MLPClassifier`（Multi-Layer Perceptron Classifier）を使ってXOR問題を解くこともできます。MLPはニューラルネットワークの一種で、非線形問題の学習に適しています。\n",
       "\n",
       "以下に、そのための基本的なPythonコードを示します：\n",
       "\n",
       "```python\n",
       "from sklearn.neural_network import MLPClassifier\n",
       "import numpy as np\n",
       "\n",
       "# XORのデータとラベル\n",
       "X = np.array([[0, 0], [0, 1], [1, 0], [1, 1]])\n",
       "y = np.array([0, 1, 1, 0])\n",
       "\n",
       "# MLPClassifierのモデルを作成\n",
       "model = MLPClassifier(hidden_layer_sizes=(10,), activation='relu', solver='sgd', max_iter=1000)\n",
       "\n",
       "# モデルの訓練\n",
       "model.fit(X, y)\n",
       "\n",
       "# テストデータ\n",
       "test_data = [[0, 0], [0, 1], [1, 0], [1, 1]]\n",
       "\n",
       "# 予測\n",
       "print(model.predict(test_data))\n",
       "```\n",
       "\n",
       "ここで、`MLPClassifier`のパラメータ`hidden_layer_sizes=(10,)`は隠れ層のユニット数（ここでは10）を指定します。`activation='relu'`は活性化関数としてReLU（Rectified Linear Unit）を使用することを指定し、`solver='sgd'`は最適化手法として確率的勾配降下法（Stochastic Gradient Descent）を使用することを指定します。`max_iter=1000`は最大イテレーション数を指定します。\n",
       "\n",
       "そして、訓練されたモデルを使っていくつかのテストデータの予測を行っています。"
      ],
      "text/plain": [
       "<IPython.core.display.Markdown object>"
      ]
     },
     "execution_count": 2,
     "metadata": {
      "text/markdown": {
       "jupyter_ai": {
        "custom_chain_id": "vioras"
       }
      }
     },
     "output_type": "execute_result"
    }
   ],
   "source": [
    "%%ai vioras\n",
    "MLPClassifierを使うとどうなりますか？"
   ]
  },
  {
   "cell_type": "code",
   "execution_count": 1,
   "id": "34f52ccd",
   "metadata": {},
   "outputs": [],
   "source": [
    "import numpy as np"
   ]
  },
  {
   "cell_type": "code",
   "execution_count": 2,
   "id": "af681f39",
   "metadata": {},
   "outputs": [],
   "source": [
    "import itertools"
   ]
  },
  {
   "cell_type": "code",
   "execution_count": 3,
   "id": "f03f9d07",
   "metadata": {},
   "outputs": [
    {
     "data": {
      "text/plain": [
       "array([[0, 0],\n",
       "       [0, 1],\n",
       "       [1, 0],\n",
       "       [1, 1]])"
      ]
     },
     "execution_count": 3,
     "metadata": {},
     "output_type": "execute_result"
    }
   ],
   "source": [
    "xs = np.array([[i,j] for i,j in itertools.product([0,1], repeat=2)])\n",
    "xs"
   ]
  },
  {
   "cell_type": "code",
   "execution_count": 4,
   "id": "cf77d844",
   "metadata": {},
   "outputs": [
    {
     "data": {
      "text/plain": [
       "array([0, 1, 1, 0])"
      ]
     },
     "execution_count": 4,
     "metadata": {},
     "output_type": "execute_result"
    }
   ],
   "source": [
    "ys = np.array([i^j for i,j in xs])\n",
    "ys"
   ]
  },
  {
   "cell_type": "code",
   "execution_count": 5,
   "id": "1f7a76c8",
   "metadata": {},
   "outputs": [],
   "source": [
    "from sklearn.neural_network import MLPClassifier"
   ]
  },
  {
   "cell_type": "code",
   "execution_count": 6,
   "id": "bb10d894",
   "metadata": {},
   "outputs": [
    {
     "data": {
      "text/html": [
       "<style>#sk-container-id-1 {\n",
       "  /* Definition of color scheme common for light and dark mode */\n",
       "  --sklearn-color-text: black;\n",
       "  --sklearn-color-line: gray;\n",
       "  /* Definition of color scheme for unfitted estimators */\n",
       "  --sklearn-color-unfitted-level-0: #fff5e6;\n",
       "  --sklearn-color-unfitted-level-1: #f6e4d2;\n",
       "  --sklearn-color-unfitted-level-2: #ffe0b3;\n",
       "  --sklearn-color-unfitted-level-3: chocolate;\n",
       "  /* Definition of color scheme for fitted estimators */\n",
       "  --sklearn-color-fitted-level-0: #f0f8ff;\n",
       "  --sklearn-color-fitted-level-1: #d4ebff;\n",
       "  --sklearn-color-fitted-level-2: #b3dbfd;\n",
       "  --sklearn-color-fitted-level-3: cornflowerblue;\n",
       "\n",
       "  /* Specific color for light theme */\n",
       "  --sklearn-color-text-on-default-background: var(--sg-text-color, var(--theme-code-foreground, var(--jp-content-font-color1, black)));\n",
       "  --sklearn-color-background: var(--sg-background-color, var(--theme-background, var(--jp-layout-color0, white)));\n",
       "  --sklearn-color-border-box: var(--sg-text-color, var(--theme-code-foreground, var(--jp-content-font-color1, black)));\n",
       "  --sklearn-color-icon: #696969;\n",
       "\n",
       "  @media (prefers-color-scheme: dark) {\n",
       "    /* Redefinition of color scheme for dark theme */\n",
       "    --sklearn-color-text-on-default-background: var(--sg-text-color, var(--theme-code-foreground, var(--jp-content-font-color1, white)));\n",
       "    --sklearn-color-background: var(--sg-background-color, var(--theme-background, var(--jp-layout-color0, #111)));\n",
       "    --sklearn-color-border-box: var(--sg-text-color, var(--theme-code-foreground, var(--jp-content-font-color1, white)));\n",
       "    --sklearn-color-icon: #878787;\n",
       "  }\n",
       "}\n",
       "\n",
       "#sk-container-id-1 {\n",
       "  color: var(--sklearn-color-text);\n",
       "}\n",
       "\n",
       "#sk-container-id-1 pre {\n",
       "  padding: 0;\n",
       "}\n",
       "\n",
       "#sk-container-id-1 input.sk-hidden--visually {\n",
       "  border: 0;\n",
       "  clip: rect(1px 1px 1px 1px);\n",
       "  clip: rect(1px, 1px, 1px, 1px);\n",
       "  height: 1px;\n",
       "  margin: -1px;\n",
       "  overflow: hidden;\n",
       "  padding: 0;\n",
       "  position: absolute;\n",
       "  width: 1px;\n",
       "}\n",
       "\n",
       "#sk-container-id-1 div.sk-dashed-wrapped {\n",
       "  border: 1px dashed var(--sklearn-color-line);\n",
       "  margin: 0 0.4em 0.5em 0.4em;\n",
       "  box-sizing: border-box;\n",
       "  padding-bottom: 0.4em;\n",
       "  background-color: var(--sklearn-color-background);\n",
       "}\n",
       "\n",
       "#sk-container-id-1 div.sk-container {\n",
       "  /* jupyter's `normalize.less` sets `[hidden] { display: none; }`\n",
       "     but bootstrap.min.css set `[hidden] { display: none !important; }`\n",
       "     so we also need the `!important` here to be able to override the\n",
       "     default hidden behavior on the sphinx rendered scikit-learn.org.\n",
       "     See: https://github.com/scikit-learn/scikit-learn/issues/21755 */\n",
       "  display: inline-block !important;\n",
       "  position: relative;\n",
       "}\n",
       "\n",
       "#sk-container-id-1 div.sk-text-repr-fallback {\n",
       "  display: none;\n",
       "}\n",
       "\n",
       "div.sk-parallel-item,\n",
       "div.sk-serial,\n",
       "div.sk-item {\n",
       "  /* draw centered vertical line to link estimators */\n",
       "  background-image: linear-gradient(var(--sklearn-color-text-on-default-background), var(--sklearn-color-text-on-default-background));\n",
       "  background-size: 2px 100%;\n",
       "  background-repeat: no-repeat;\n",
       "  background-position: center center;\n",
       "}\n",
       "\n",
       "/* Parallel-specific style estimator block */\n",
       "\n",
       "#sk-container-id-1 div.sk-parallel-item::after {\n",
       "  content: \"\";\n",
       "  width: 100%;\n",
       "  border-bottom: 2px solid var(--sklearn-color-text-on-default-background);\n",
       "  flex-grow: 1;\n",
       "}\n",
       "\n",
       "#sk-container-id-1 div.sk-parallel {\n",
       "  display: flex;\n",
       "  align-items: stretch;\n",
       "  justify-content: center;\n",
       "  background-color: var(--sklearn-color-background);\n",
       "  position: relative;\n",
       "}\n",
       "\n",
       "#sk-container-id-1 div.sk-parallel-item {\n",
       "  display: flex;\n",
       "  flex-direction: column;\n",
       "}\n",
       "\n",
       "#sk-container-id-1 div.sk-parallel-item:first-child::after {\n",
       "  align-self: flex-end;\n",
       "  width: 50%;\n",
       "}\n",
       "\n",
       "#sk-container-id-1 div.sk-parallel-item:last-child::after {\n",
       "  align-self: flex-start;\n",
       "  width: 50%;\n",
       "}\n",
       "\n",
       "#sk-container-id-1 div.sk-parallel-item:only-child::after {\n",
       "  width: 0;\n",
       "}\n",
       "\n",
       "/* Serial-specific style estimator block */\n",
       "\n",
       "#sk-container-id-1 div.sk-serial {\n",
       "  display: flex;\n",
       "  flex-direction: column;\n",
       "  align-items: center;\n",
       "  background-color: var(--sklearn-color-background);\n",
       "  padding-right: 1em;\n",
       "  padding-left: 1em;\n",
       "}\n",
       "\n",
       "\n",
       "/* Toggleable style: style used for estimator/Pipeline/ColumnTransformer box that is\n",
       "clickable and can be expanded/collapsed.\n",
       "- Pipeline and ColumnTransformer use this feature and define the default style\n",
       "- Estimators will overwrite some part of the style using the `sk-estimator` class\n",
       "*/\n",
       "\n",
       "/* Pipeline and ColumnTransformer style (default) */\n",
       "\n",
       "#sk-container-id-1 div.sk-toggleable {\n",
       "  /* Default theme specific background. It is overwritten whether we have a\n",
       "  specific estimator or a Pipeline/ColumnTransformer */\n",
       "  background-color: var(--sklearn-color-background);\n",
       "}\n",
       "\n",
       "/* Toggleable label */\n",
       "#sk-container-id-1 label.sk-toggleable__label {\n",
       "  cursor: pointer;\n",
       "  display: block;\n",
       "  width: 100%;\n",
       "  margin-bottom: 0;\n",
       "  padding: 0.5em;\n",
       "  box-sizing: border-box;\n",
       "  text-align: center;\n",
       "}\n",
       "\n",
       "#sk-container-id-1 label.sk-toggleable__label-arrow:before {\n",
       "  /* Arrow on the left of the label */\n",
       "  content: \"▸\";\n",
       "  float: left;\n",
       "  margin-right: 0.25em;\n",
       "  color: var(--sklearn-color-icon);\n",
       "}\n",
       "\n",
       "#sk-container-id-1 label.sk-toggleable__label-arrow:hover:before {\n",
       "  color: var(--sklearn-color-text);\n",
       "}\n",
       "\n",
       "/* Toggleable content - dropdown */\n",
       "\n",
       "#sk-container-id-1 div.sk-toggleable__content {\n",
       "  max-height: 0;\n",
       "  max-width: 0;\n",
       "  overflow: hidden;\n",
       "  text-align: left;\n",
       "  /* unfitted */\n",
       "  background-color: var(--sklearn-color-unfitted-level-0);\n",
       "}\n",
       "\n",
       "#sk-container-id-1 div.sk-toggleable__content.fitted {\n",
       "  /* fitted */\n",
       "  background-color: var(--sklearn-color-fitted-level-0);\n",
       "}\n",
       "\n",
       "#sk-container-id-1 div.sk-toggleable__content pre {\n",
       "  margin: 0.2em;\n",
       "  border-radius: 0.25em;\n",
       "  color: var(--sklearn-color-text);\n",
       "  /* unfitted */\n",
       "  background-color: var(--sklearn-color-unfitted-level-0);\n",
       "}\n",
       "\n",
       "#sk-container-id-1 div.sk-toggleable__content.fitted pre {\n",
       "  /* unfitted */\n",
       "  background-color: var(--sklearn-color-fitted-level-0);\n",
       "}\n",
       "\n",
       "#sk-container-id-1 input.sk-toggleable__control:checked~div.sk-toggleable__content {\n",
       "  /* Expand drop-down */\n",
       "  max-height: 200px;\n",
       "  max-width: 100%;\n",
       "  overflow: auto;\n",
       "}\n",
       "\n",
       "#sk-container-id-1 input.sk-toggleable__control:checked~label.sk-toggleable__label-arrow:before {\n",
       "  content: \"▾\";\n",
       "}\n",
       "\n",
       "/* Pipeline/ColumnTransformer-specific style */\n",
       "\n",
       "#sk-container-id-1 div.sk-label input.sk-toggleable__control:checked~label.sk-toggleable__label {\n",
       "  color: var(--sklearn-color-text);\n",
       "  background-color: var(--sklearn-color-unfitted-level-2);\n",
       "}\n",
       "\n",
       "#sk-container-id-1 div.sk-label.fitted input.sk-toggleable__control:checked~label.sk-toggleable__label {\n",
       "  background-color: var(--sklearn-color-fitted-level-2);\n",
       "}\n",
       "\n",
       "/* Estimator-specific style */\n",
       "\n",
       "/* Colorize estimator box */\n",
       "#sk-container-id-1 div.sk-estimator input.sk-toggleable__control:checked~label.sk-toggleable__label {\n",
       "  /* unfitted */\n",
       "  background-color: var(--sklearn-color-unfitted-level-2);\n",
       "}\n",
       "\n",
       "#sk-container-id-1 div.sk-estimator.fitted input.sk-toggleable__control:checked~label.sk-toggleable__label {\n",
       "  /* fitted */\n",
       "  background-color: var(--sklearn-color-fitted-level-2);\n",
       "}\n",
       "\n",
       "#sk-container-id-1 div.sk-label label.sk-toggleable__label,\n",
       "#sk-container-id-1 div.sk-label label {\n",
       "  /* The background is the default theme color */\n",
       "  color: var(--sklearn-color-text-on-default-background);\n",
       "}\n",
       "\n",
       "/* On hover, darken the color of the background */\n",
       "#sk-container-id-1 div.sk-label:hover label.sk-toggleable__label {\n",
       "  color: var(--sklearn-color-text);\n",
       "  background-color: var(--sklearn-color-unfitted-level-2);\n",
       "}\n",
       "\n",
       "/* Label box, darken color on hover, fitted */\n",
       "#sk-container-id-1 div.sk-label.fitted:hover label.sk-toggleable__label.fitted {\n",
       "  color: var(--sklearn-color-text);\n",
       "  background-color: var(--sklearn-color-fitted-level-2);\n",
       "}\n",
       "\n",
       "/* Estimator label */\n",
       "\n",
       "#sk-container-id-1 div.sk-label label {\n",
       "  font-family: monospace;\n",
       "  font-weight: bold;\n",
       "  display: inline-block;\n",
       "  line-height: 1.2em;\n",
       "}\n",
       "\n",
       "#sk-container-id-1 div.sk-label-container {\n",
       "  text-align: center;\n",
       "}\n",
       "\n",
       "/* Estimator-specific */\n",
       "#sk-container-id-1 div.sk-estimator {\n",
       "  font-family: monospace;\n",
       "  border: 1px dotted var(--sklearn-color-border-box);\n",
       "  border-radius: 0.25em;\n",
       "  box-sizing: border-box;\n",
       "  margin-bottom: 0.5em;\n",
       "  /* unfitted */\n",
       "  background-color: var(--sklearn-color-unfitted-level-0);\n",
       "}\n",
       "\n",
       "#sk-container-id-1 div.sk-estimator.fitted {\n",
       "  /* fitted */\n",
       "  background-color: var(--sklearn-color-fitted-level-0);\n",
       "}\n",
       "\n",
       "/* on hover */\n",
       "#sk-container-id-1 div.sk-estimator:hover {\n",
       "  /* unfitted */\n",
       "  background-color: var(--sklearn-color-unfitted-level-2);\n",
       "}\n",
       "\n",
       "#sk-container-id-1 div.sk-estimator.fitted:hover {\n",
       "  /* fitted */\n",
       "  background-color: var(--sklearn-color-fitted-level-2);\n",
       "}\n",
       "\n",
       "/* Specification for estimator info (e.g. \"i\" and \"?\") */\n",
       "\n",
       "/* Common style for \"i\" and \"?\" */\n",
       "\n",
       ".sk-estimator-doc-link,\n",
       "a:link.sk-estimator-doc-link,\n",
       "a:visited.sk-estimator-doc-link {\n",
       "  float: right;\n",
       "  font-size: smaller;\n",
       "  line-height: 1em;\n",
       "  font-family: monospace;\n",
       "  background-color: var(--sklearn-color-background);\n",
       "  border-radius: 1em;\n",
       "  height: 1em;\n",
       "  width: 1em;\n",
       "  text-decoration: none !important;\n",
       "  margin-left: 1ex;\n",
       "  /* unfitted */\n",
       "  border: var(--sklearn-color-unfitted-level-1) 1pt solid;\n",
       "  color: var(--sklearn-color-unfitted-level-1);\n",
       "}\n",
       "\n",
       ".sk-estimator-doc-link.fitted,\n",
       "a:link.sk-estimator-doc-link.fitted,\n",
       "a:visited.sk-estimator-doc-link.fitted {\n",
       "  /* fitted */\n",
       "  border: var(--sklearn-color-fitted-level-1) 1pt solid;\n",
       "  color: var(--sklearn-color-fitted-level-1);\n",
       "}\n",
       "\n",
       "/* On hover */\n",
       "div.sk-estimator:hover .sk-estimator-doc-link:hover,\n",
       ".sk-estimator-doc-link:hover,\n",
       "div.sk-label-container:hover .sk-estimator-doc-link:hover,\n",
       ".sk-estimator-doc-link:hover {\n",
       "  /* unfitted */\n",
       "  background-color: var(--sklearn-color-unfitted-level-3);\n",
       "  color: var(--sklearn-color-background);\n",
       "  text-decoration: none;\n",
       "}\n",
       "\n",
       "div.sk-estimator.fitted:hover .sk-estimator-doc-link.fitted:hover,\n",
       ".sk-estimator-doc-link.fitted:hover,\n",
       "div.sk-label-container:hover .sk-estimator-doc-link.fitted:hover,\n",
       ".sk-estimator-doc-link.fitted:hover {\n",
       "  /* fitted */\n",
       "  background-color: var(--sklearn-color-fitted-level-3);\n",
       "  color: var(--sklearn-color-background);\n",
       "  text-decoration: none;\n",
       "}\n",
       "\n",
       "/* Span, style for the box shown on hovering the info icon */\n",
       ".sk-estimator-doc-link span {\n",
       "  display: none;\n",
       "  z-index: 9999;\n",
       "  position: relative;\n",
       "  font-weight: normal;\n",
       "  right: .2ex;\n",
       "  padding: .5ex;\n",
       "  margin: .5ex;\n",
       "  width: min-content;\n",
       "  min-width: 20ex;\n",
       "  max-width: 50ex;\n",
       "  color: var(--sklearn-color-text);\n",
       "  box-shadow: 2pt 2pt 4pt #999;\n",
       "  /* unfitted */\n",
       "  background: var(--sklearn-color-unfitted-level-0);\n",
       "  border: .5pt solid var(--sklearn-color-unfitted-level-3);\n",
       "}\n",
       "\n",
       ".sk-estimator-doc-link.fitted span {\n",
       "  /* fitted */\n",
       "  background: var(--sklearn-color-fitted-level-0);\n",
       "  border: var(--sklearn-color-fitted-level-3);\n",
       "}\n",
       "\n",
       ".sk-estimator-doc-link:hover span {\n",
       "  display: block;\n",
       "}\n",
       "\n",
       "/* \"?\"-specific style due to the `<a>` HTML tag */\n",
       "\n",
       "#sk-container-id-1 a.estimator_doc_link {\n",
       "  float: right;\n",
       "  font-size: 1rem;\n",
       "  line-height: 1em;\n",
       "  font-family: monospace;\n",
       "  background-color: var(--sklearn-color-background);\n",
       "  border-radius: 1rem;\n",
       "  height: 1rem;\n",
       "  width: 1rem;\n",
       "  text-decoration: none;\n",
       "  /* unfitted */\n",
       "  color: var(--sklearn-color-unfitted-level-1);\n",
       "  border: var(--sklearn-color-unfitted-level-1) 1pt solid;\n",
       "}\n",
       "\n",
       "#sk-container-id-1 a.estimator_doc_link.fitted {\n",
       "  /* fitted */\n",
       "  border: var(--sklearn-color-fitted-level-1) 1pt solid;\n",
       "  color: var(--sklearn-color-fitted-level-1);\n",
       "}\n",
       "\n",
       "/* On hover */\n",
       "#sk-container-id-1 a.estimator_doc_link:hover {\n",
       "  /* unfitted */\n",
       "  background-color: var(--sklearn-color-unfitted-level-3);\n",
       "  color: var(--sklearn-color-background);\n",
       "  text-decoration: none;\n",
       "}\n",
       "\n",
       "#sk-container-id-1 a.estimator_doc_link.fitted:hover {\n",
       "  /* fitted */\n",
       "  background-color: var(--sklearn-color-fitted-level-3);\n",
       "}\n",
       "</style><div id=\"sk-container-id-1\" class=\"sk-top-container\"><div class=\"sk-text-repr-fallback\"><pre>MLPClassifier(hidden_layer_sizes=(4,), solver=&#x27;lbfgs&#x27;)</pre><b>In a Jupyter environment, please rerun this cell to show the HTML representation or trust the notebook. <br />On GitHub, the HTML representation is unable to render, please try loading this page with nbviewer.org.</b></div><div class=\"sk-container\" hidden><div class=\"sk-item\"><div class=\"sk-estimator fitted sk-toggleable\"><input class=\"sk-toggleable__control sk-hidden--visually\" id=\"sk-estimator-id-1\" type=\"checkbox\" checked><label for=\"sk-estimator-id-1\" class=\"sk-toggleable__label fitted sk-toggleable__label-arrow fitted\">&nbsp;&nbsp;MLPClassifier<a class=\"sk-estimator-doc-link fitted\" rel=\"noreferrer\" target=\"_blank\" href=\"https://scikit-learn.org/1.4/modules/generated/sklearn.neural_network.MLPClassifier.html\">?<span>Documentation for MLPClassifier</span></a><span class=\"sk-estimator-doc-link fitted\">i<span>Fitted</span></span></label><div class=\"sk-toggleable__content fitted\"><pre>MLPClassifier(hidden_layer_sizes=(4,), solver=&#x27;lbfgs&#x27;)</pre></div> </div></div></div></div>"
      ],
      "text/plain": [
       "MLPClassifier(hidden_layer_sizes=(4,), solver='lbfgs')"
      ]
     },
     "execution_count": 6,
     "metadata": {},
     "output_type": "execute_result"
    }
   ],
   "source": [
    "clf = MLPClassifier(\n",
    "    activation='relu',\n",
    "    max_iter=200,\n",
    "    hidden_layer_sizes=(4,),\n",
    "    solver='lbfgs')\n",
    "clf.fit(xs, ys)"
   ]
  },
  {
   "cell_type": "code",
   "execution_count": 7,
   "id": "1e4ab5b2",
   "metadata": {},
   "outputs": [
    {
     "name": "stdout",
     "output_type": "stream",
     "text": [
      "score: 1.0\n",
      "predictions: [0 1 1 0]\n"
     ]
    }
   ],
   "source": [
    "print('score:', clf.score(xs, ys))\n",
    "print('predictions:', clf.predict(xs))"
   ]
  },
  {
   "cell_type": "code",
   "execution_count": 8,
   "id": "43d4ae3a-d593-457e-90fc-dfb067af0218",
   "metadata": {},
   "outputs": [],
   "source": [
    "import matplotlib.pyplot as plt"
   ]
  },
  {
   "cell_type": "code",
   "execution_count": 9,
   "id": "bb616350-5915-432e-b656-4a943c57c7f6",
   "metadata": {},
   "outputs": [],
   "source": [
    "def simulate(clf, x_min=-6, x_max=6, y_min=-4, y_max=8):\n",
    "    fig, ax = plt.subplots(1, 2, figsize=(18, 6))\n",
    "\n",
    "    xx, yy = np.meshgrid(np.arange(x_min, x_max, 0.01), np.arange(y_min, y_max, 0.01))\n",
    "    z = clf.predict(np.array([xx.ravel(), yy.ravel()]).T)\n",
    "    ax[0].contourf(xx, yy, z.reshape(xx.shape), alpha=0.2, cmap=plt.cm.coolwarm)\n",
    "    ax[0].scatter(xs[:, 0], xs[:, 1], c=ys, s=10, cmap=plt.cm.coolwarm)\n",
    "\n",
    "    xx, yy = np.meshgrid(np.arange(x_min*2, x_max*2, 0.01), np.arange(y_min*2, y_max*2, 0.01))\n",
    "    z = clf.predict(np.array([xx.ravel(), yy.ravel()]).T)\n",
    "    ax[1].contourf(xx, yy, z.reshape(xx.shape), alpha=0.2, cmap=plt.cm.coolwarm)\n",
    "    ax[1].scatter(xs[:, 0], xs[:, 1], c=ys, s=10, cmap=plt.cm.coolwarm)\n",
    "    plt.show()"
   ]
  },
  {
   "cell_type": "code",
   "execution_count": 10,
   "id": "9d2fd735-9807-455d-be8a-81395a3a8ea6",
   "metadata": {},
   "outputs": [
    {
     "data": {
      "image/png": "[encoded data removed]",
      "text/plain": [
       "<Figure size 1800x600 with 2 Axes>"
      ]
     },
     "metadata": {},
     "output_type": "display_data"
    }
   ],
   "source": [
    "simulate(clf)"
   ]
  },
  {
   "cell_type": "code",
   "execution_count": 11,
   "id": "419a4a41",
   "metadata": {},
   "outputs": [
    {
     "data": {
      "text/plain": [
       "[array([[ 3.80850058,  3.16898049, -0.2799211 ,  0.58890804],\n",
       "        [-3.80708112,  3.16932333, -0.05172106, -3.91924732]]),\n",
       " array([[ 5.21205848],\n",
       "        [-4.61663034],\n",
       "        [-0.31541214],\n",
       "        [-4.26094081]])]"
      ]
     },
     "execution_count": 11,
     "metadata": {},
     "output_type": "execute_result"
    }
   ],
   "source": [
    "clf.coefs_"
   ]
  },
  {
   "cell_type": "code",
   "execution_count": 12,
   "id": "8271e5b6",
   "metadata": {},
   "outputs": [
    {
     "name": "stdout",
     "output_type": "stream",
     "text": [
      "0\n",
      "1\n",
      "1\n",
      "0\n"
     ]
    }
   ],
   "source": [
    "for ij in xs:\n",
    "    print(clf.predict([ij])[0])"
   ]
  },
  {
   "cell_type": "markdown",
   "id": "d3ab0b4f",
   "metadata": {},
   "source": [
    "#### 分類の評価\n",
    "* [Classifier comparison — scikit-learn 1.1.1 documentation](https://scikit-learn.org/stable/auto_examples/classification/plot_classifier_comparison.html#sphx-glr-auto-examples-classification-plot-classifier-comparison-py)"
   ]
  },
  {
   "cell_type": "code",
   "execution_count": 13,
   "id": "c4de06df",
   "metadata": {},
   "outputs": [],
   "source": [
    "from sklearn.inspection import DecisionBoundaryDisplay"
   ]
  },
  {
   "cell_type": "code",
   "execution_count": 14,
   "id": "b80cce34",
   "metadata": {},
   "outputs": [],
   "source": [
    "import matplotlib.pyplot as plt\n",
    "from matplotlib.colors import ListedColormap"
   ]
  },
  {
   "cell_type": "code",
   "execution_count": 15,
   "id": "d7560502",
   "metadata": {},
   "outputs": [
    {
     "data": {
      "image/png": "[encoded data removed]",
      "text/plain": [
       "<Figure size 640x480 with 1 Axes>"
      ]
     },
     "metadata": {},
     "output_type": "display_data"
    }
   ],
   "source": [
    "ax = plt.subplot()\n",
    "DecisionBoundaryDisplay.from_estimator(\n",
    "    clf, np.array(xs), # response_method=\"predict\",\n",
    "    ax=ax,\n",
    "    alpha=0.5, eps=0.5, cmap=plt.cm.RdBu, \n",
    ")\n",
    "ax.scatter(xs[:,0], xs[:,1], edgecolor=\"k\", c=ys, cmap=ListedColormap([\"#FF0000\", \"#0000FF\"]))\n",
    "ax.set_aspect('equal')\n",
    "plt.show()"
   ]
  },
  {
   "cell_type": "code",
   "execution_count": 16,
   "id": "a996d37a",
   "metadata": {},
   "outputs": [],
   "source": [
    "from mpl_toolkits.mplot3d import Axes3D"
   ]
  },
  {
   "cell_type": "code",
   "execution_count": 17,
   "id": "09a95319",
   "metadata": {},
   "outputs": [
    {
     "data": {
      "image/png": "[encoded data removed]",
      "text/plain": [
       "<Figure size 640x480 with 1 Axes>"
      ]
     },
     "metadata": {},
     "output_type": "display_data"
    }
   ],
   "source": [
    "fig = plt.figure()\n",
    "ax = fig.add_subplot(projection='3d')\n",
    "DecisionBoundaryDisplay.from_estimator(\n",
    "    clf, xs, # response_method=\"predict\",\n",
    "    ax=ax,\n",
    "    alpha=0.5, eps=0.1, cmap=plt.cm.RdBu, \n",
    ")\n",
    "ax.scatter3D(xs[:,0], xs[:,1], ys, edgecolor=\"k\", c=ys, cmap=ListedColormap([\"#FF0000\", \"#0000FF\"]))\n",
    "#ax.set_aspect('equal')\n",
    "plt.show()"
   ]
  },
  {
   "cell_type": "code",
   "execution_count": 3,
   "id": "1f74def1-6b9d-47fe-90fd-3017a2fdc988",
   "metadata": {},
   "outputs": [
    {
     "data": {
      "text/markdown": [
       "もちろんです、AND演算とXOR演算を学習したモデルを使って、二進法の加算（二つのビットの加算）を実装することができます。二進法の加算は以下のルールに従います：\n",
       "\n",
       "```plaintext\n",
       "0 + 0 = 0\n",
       "0 + 1 = 1\n",
       "1 + 0 = 1\n",
       "1 + 1 = 10 (これは2進数で10を意味します、すなわち、結果として「0」を返し、「1」を繰り上げます)\n",
       "```\n",
       "\n",
       "これは、結果（`0`または`1`）を得るためにXORを使用し、繰り上げ（`0`または`1`）を得るためにANDを使用することで実現できます。\n",
       "\n",
       "以下に、そのためのPythonコードを示します：\n",
       "\n",
       "```python\n",
       "from sklearn.neural_network import MLPClassifier\n",
       "import numpy as np\n",
       "\n",
       "# AND演算とXOR演算のデータとラベル\n",
       "X = np.array([[0, 0], [0, 1], [1, 0], [1, 1]])\n",
       "y_and = np.array([0, 0, 0, 1])\n",
       "y_xor = np.array([0, 1, 1, 0])\n",
       "\n",
       "# AND演算とXOR演算のモデルを訓練\n",
       "model_and = MLPClassifier(hidden_layer_sizes=(10,), activation='relu', solver='sgd', max_iter=1000)\n",
       "model_xor = MLPClassifier(hidden_layer_sizes=(10,), activation='relu', solver='sgd', max_iter=1000)\n",
       "\n",
       "model_and.fit(X, y_and)\n",
       "model_xor.fit(X, y_xor)\n",
       "\n",
       "# 二進法の加算を行う関数\n",
       "def binary_addition(a, b):\n",
       "    result = model_xor.predict([[a, b]])\n",
       "    carry = model_and.predict([[a, b]])\n",
       "    return carry, result\n",
       "\n",
       "# テスト\n",
       "print(binary_addition(0, 0))  # Output: (0, 0)\n",
       "print(binary_addition(0, 1))  # Output: (0, 1)\n",
       "print(binary_addition(1, 0))  # Output: (0, 1)\n",
       "print(binary_addition(1, 1))  # Output: (1, 0)\n",
       "```\n",
       "\n",
       "ここでは、`binary_addition`関数が二進法の加算を行う関数となります。関数は入力として二つのビットを受け取り、それらのビットの加算結果と繰り上げを返します。これは、XORモデルを使って加算結果を計算し、ANDモデルを使って繰り上げを計算します。"
      ],
      "text/plain": [
       "<IPython.core.display.Markdown object>"
      ]
     },
     "execution_count": 3,
     "metadata": {
      "text/markdown": {
       "jupyter_ai": {
        "custom_chain_id": "vioras"
       }
      }
     },
     "output_type": "execute_result"
    }
   ],
   "source": [
    "%%ai vioras\n",
    "同様にandも機械学習し、訓練されたxorとandモデルを使って二進法の加算を実装してください"
   ]
  },
  {
   "cell_type": "code",
   "execution_count": 4,
   "id": "5a11d4d1-1e1e-4bb0-9b44-d298120c9a76",
   "metadata": {},
   "outputs": [
    {
     "data": {
      "text/markdown": [
       "二進法の加算を機械学習することは可能ですが、その訓練されたモデルからXORとANDを直接分離することは一般的には困難です。なぜなら、訓練されたモデルは特定のタスク（この場合は二進法の加算）を解くために学習したパターンをキャプチャしますが、それが具体的にどのような演算（XORやAND）を内部で使用しているかを明示的には示さないからです。\n",
       "\n",
       "一つのモデルが複数のタスク（この場合、XORとAND）を同時に学習する場合、それぞれのタスクがどのようにモデル内で表現されているかを特定することは一般的には非常に難しいと言えます。そのため、訓練されたモデルから特定のタスクを分離するための一般的な方法は存在しません。\n",
       "\n",
       "しかし、モデルの内部構造や動作を理解するための多くの技術が存在します。例えば、ニューラルネットワークの場合、特定の層やニューロンが特定のタスクに対してどの程度影響を持っているかを調査することが可能です。また、特定の入力がモデルの出力にどのように影響を与えるかを調査するための可視化手法も存在します。これらの手法を使って、モデルがXORやANDのような特定のタスクをどのように処理しているかを一部理解することは可能かもしれません。"
      ],
      "text/plain": [
       "<IPython.core.display.Markdown object>"
      ]
     },
     "execution_count": 4,
     "metadata": {
      "text/markdown": {
       "jupyter_ai": {
        "custom_chain_id": "vioras"
       }
      }
     },
     "output_type": "execute_result"
    }
   ],
   "source": [
    "%%ai vioras\n",
    "逆に、二進法の加算を機械学習し、訓練されたモデルからxorとandを分離できますか？"
   ]
  },
  {
   "cell_type": "code",
   "execution_count": null,
   "id": "debeaead",
   "metadata": {},
   "outputs": [],
   "source": []
  },
  {
   "cell_type": "code",
   "execution_count": null,
   "id": "0104808b",
   "metadata": {},
   "outputs": [],
   "source": []
  },
  {
   "cell_type": "markdown",
   "id": "e8bb39df",
   "metadata": {},
   "source": [
    "#### 繰り上がりを考慮"
   ]
  },
  {
   "cell_type": "code",
   "execution_count": 18,
   "id": "c33acb90",
   "metadata": {},
   "outputs": [
    {
     "data": {
      "text/plain": [
       "array([[0, 0, 0],\n",
       "       [0, 0, 1],\n",
       "       [0, 1, 0],\n",
       "       [0, 1, 1],\n",
       "       [1, 0, 0],\n",
       "       [1, 0, 1],\n",
       "       [1, 1, 0],\n",
       "       [1, 1, 1]])"
      ]
     },
     "execution_count": 18,
     "metadata": {},
     "output_type": "execute_result"
    }
   ],
   "source": [
    "xs = np.array(list(itertools.product(range(2), repeat=3)))\n",
    "xs"
   ]
  },
  {
   "cell_type": "code",
   "execution_count": 19,
   "id": "b060a1b0",
   "metadata": {},
   "outputs": [
    {
     "data": {
      "text/plain": [
       "array([[0, 0],\n",
       "       [0, 1],\n",
       "       [0, 1],\n",
       "       [1, 0],\n",
       "       [0, 1],\n",
       "       [1, 0],\n",
       "       [1, 0],\n",
       "       [1, 1]])"
      ]
     },
     "execution_count": 19,
     "metadata": {},
     "output_type": "execute_result"
    }
   ],
   "source": [
    "ys = np.array([list(map(int,\"{:02b}\".format(i+j+k))) for i,j,k in xs])\n",
    "ys"
   ]
  },
  {
   "cell_type": "code",
   "execution_count": 20,
   "id": "a54608a1",
   "metadata": {},
   "outputs": [
    {
     "data": {
      "text/html": [
       "<style>#sk-container-id-2 {\n",
       "  /* Definition of color scheme common for light and dark mode */\n",
       "  --sklearn-color-text: black;\n",
       "  --sklearn-color-line: gray;\n",
       "  /* Definition of color scheme for unfitted estimators */\n",
       "  --sklearn-color-unfitted-level-0: #fff5e6;\n",
       "  --sklearn-color-unfitted-level-1: #f6e4d2;\n",
       "  --sklearn-color-unfitted-level-2: #ffe0b3;\n",
       "  --sklearn-color-unfitted-level-3: chocolate;\n",
       "  /* Definition of color scheme for fitted estimators */\n",
       "  --sklearn-color-fitted-level-0: #f0f8ff;\n",
       "  --sklearn-color-fitted-level-1: #d4ebff;\n",
       "  --sklearn-color-fitted-level-2: #b3dbfd;\n",
       "  --sklearn-color-fitted-level-3: cornflowerblue;\n",
       "\n",
       "  /* Specific color for light theme */\n",
       "  --sklearn-color-text-on-default-background: var(--sg-text-color, var(--theme-code-foreground, var(--jp-content-font-color1, black)));\n",
       "  --sklearn-color-background: var(--sg-background-color, var(--theme-background, var(--jp-layout-color0, white)));\n",
       "  --sklearn-color-border-box: var(--sg-text-color, var(--theme-code-foreground, var(--jp-content-font-color1, black)));\n",
       "  --sklearn-color-icon: #696969;\n",
       "\n",
       "  @media (prefers-color-scheme: dark) {\n",
       "    /* Redefinition of color scheme for dark theme */\n",
       "    --sklearn-color-text-on-default-background: var(--sg-text-color, var(--theme-code-foreground, var(--jp-content-font-color1, white)));\n",
       "    --sklearn-color-background: var(--sg-background-color, var(--theme-background, var(--jp-layout-color0, #111)));\n",
       "    --sklearn-color-border-box: var(--sg-text-color, var(--theme-code-foreground, var(--jp-content-font-color1, white)));\n",
       "    --sklearn-color-icon: #878787;\n",
       "  }\n",
       "}\n",
       "\n",
       "#sk-container-id-2 {\n",
       "  color: var(--sklearn-color-text);\n",
       "}\n",
       "\n",
       "#sk-container-id-2 pre {\n",
       "  padding: 0;\n",
       "}\n",
       "\n",
       "#sk-container-id-2 input.sk-hidden--visually {\n",
       "  border: 0;\n",
       "  clip: rect(1px 1px 1px 1px);\n",
       "  clip: rect(1px, 1px, 1px, 1px);\n",
       "  height: 1px;\n",
       "  margin: -1px;\n",
       "  overflow: hidden;\n",
       "  padding: 0;\n",
       "  position: absolute;\n",
       "  width: 1px;\n",
       "}\n",
       "\n",
       "#sk-container-id-2 div.sk-dashed-wrapped {\n",
       "  border: 1px dashed var(--sklearn-color-line);\n",
       "  margin: 0 0.4em 0.5em 0.4em;\n",
       "  box-sizing: border-box;\n",
       "  padding-bottom: 0.4em;\n",
       "  background-color: var(--sklearn-color-background);\n",
       "}\n",
       "\n",
       "#sk-container-id-2 div.sk-container {\n",
       "  /* jupyter's `normalize.less` sets `[hidden] { display: none; }`\n",
       "     but bootstrap.min.css set `[hidden] { display: none !important; }`\n",
       "     so we also need the `!important` here to be able to override the\n",
       "     default hidden behavior on the sphinx rendered scikit-learn.org.\n",
       "     See: https://github.com/scikit-learn/scikit-learn/issues/21755 */\n",
       "  display: inline-block !important;\n",
       "  position: relative;\n",
       "}\n",
       "\n",
       "#sk-container-id-2 div.sk-text-repr-fallback {\n",
       "  display: none;\n",
       "}\n",
       "\n",
       "div.sk-parallel-item,\n",
       "div.sk-serial,\n",
       "div.sk-item {\n",
       "  /* draw centered vertical line to link estimators */\n",
       "  background-image: linear-gradient(var(--sklearn-color-text-on-default-background), var(--sklearn-color-text-on-default-background));\n",
       "  background-size: 2px 100%;\n",
       "  background-repeat: no-repeat;\n",
       "  background-position: center center;\n",
       "}\n",
       "\n",
       "/* Parallel-specific style estimator block */\n",
       "\n",
       "#sk-container-id-2 div.sk-parallel-item::after {\n",
       "  content: \"\";\n",
       "  width: 100%;\n",
       "  border-bottom: 2px solid var(--sklearn-color-text-on-default-background);\n",
       "  flex-grow: 1;\n",
       "}\n",
       "\n",
       "#sk-container-id-2 div.sk-parallel {\n",
       "  display: flex;\n",
       "  align-items: stretch;\n",
       "  justify-content: center;\n",
       "  background-color: var(--sklearn-color-background);\n",
       "  position: relative;\n",
       "}\n",
       "\n",
       "#sk-container-id-2 div.sk-parallel-item {\n",
       "  display: flex;\n",
       "  flex-direction: column;\n",
       "}\n",
       "\n",
       "#sk-container-id-2 div.sk-parallel-item:first-child::after {\n",
       "  align-self: flex-end;\n",
       "  width: 50%;\n",
       "}\n",
       "\n",
       "#sk-container-id-2 div.sk-parallel-item:last-child::after {\n",
       "  align-self: flex-start;\n",
       "  width: 50%;\n",
       "}\n",
       "\n",
       "#sk-container-id-2 div.sk-parallel-item:only-child::after {\n",
       "  width: 0;\n",
       "}\n",
       "\n",
       "/* Serial-specific style estimator block */\n",
       "\n",
       "#sk-container-id-2 div.sk-serial {\n",
       "  display: flex;\n",
       "  flex-direction: column;\n",
       "  align-items: center;\n",
       "  background-color: var(--sklearn-color-background);\n",
       "  padding-right: 1em;\n",
       "  padding-left: 1em;\n",
       "}\n",
       "\n",
       "\n",
       "/* Toggleable style: style used for estimator/Pipeline/ColumnTransformer box that is\n",
       "clickable and can be expanded/collapsed.\n",
       "- Pipeline and ColumnTransformer use this feature and define the default style\n",
       "- Estimators will overwrite some part of the style using the `sk-estimator` class\n",
       "*/\n",
       "\n",
       "/* Pipeline and ColumnTransformer style (default) */\n",
       "\n",
       "#sk-container-id-2 div.sk-toggleable {\n",
       "  /* Default theme specific background. It is overwritten whether we have a\n",
       "  specific estimator or a Pipeline/ColumnTransformer */\n",
       "  background-color: var(--sklearn-color-background);\n",
       "}\n",
       "\n",
       "/* Toggleable label */\n",
       "#sk-container-id-2 label.sk-toggleable__label {\n",
       "  cursor: pointer;\n",
       "  display: block;\n",
       "  width: 100%;\n",
       "  margin-bottom: 0;\n",
       "  padding: 0.5em;\n",
       "  box-sizing: border-box;\n",
       "  text-align: center;\n",
       "}\n",
       "\n",
       "#sk-container-id-2 label.sk-toggleable__label-arrow:before {\n",
       "  /* Arrow on the left of the label */\n",
       "  content: \"▸\";\n",
       "  float: left;\n",
       "  margin-right: 0.25em;\n",
       "  color: var(--sklearn-color-icon);\n",
       "}\n",
       "\n",
       "#sk-container-id-2 label.sk-toggleable__label-arrow:hover:before {\n",
       "  color: var(--sklearn-color-text);\n",
       "}\n",
       "\n",
       "/* Toggleable content - dropdown */\n",
       "\n",
       "#sk-container-id-2 div.sk-toggleable__content {\n",
       "  max-height: 0;\n",
       "  max-width: 0;\n",
       "  overflow: hidden;\n",
       "  text-align: left;\n",
       "  /* unfitted */\n",
       "  background-color: var(--sklearn-color-unfitted-level-0);\n",
       "}\n",
       "\n",
       "#sk-container-id-2 div.sk-toggleable__content.fitted {\n",
       "  /* fitted */\n",
       "  background-color: var(--sklearn-color-fitted-level-0);\n",
       "}\n",
       "\n",
       "#sk-container-id-2 div.sk-toggleable__content pre {\n",
       "  margin: 0.2em;\n",
       "  border-radius: 0.25em;\n",
       "  color: var(--sklearn-color-text);\n",
       "  /* unfitted */\n",
       "  background-color: var(--sklearn-color-unfitted-level-0);\n",
       "}\n",
       "\n",
       "#sk-container-id-2 div.sk-toggleable__content.fitted pre {\n",
       "  /* unfitted */\n",
       "  background-color: var(--sklearn-color-fitted-level-0);\n",
       "}\n",
       "\n",
       "#sk-container-id-2 input.sk-toggleable__control:checked~div.sk-toggleable__content {\n",
       "  /* Expand drop-down */\n",
       "  max-height: 200px;\n",
       "  max-width: 100%;\n",
       "  overflow: auto;\n",
       "}\n",
       "\n",
       "#sk-container-id-2 input.sk-toggleable__control:checked~label.sk-toggleable__label-arrow:before {\n",
       "  content: \"▾\";\n",
       "}\n",
       "\n",
       "/* Pipeline/ColumnTransformer-specific style */\n",
       "\n",
       "#sk-container-id-2 div.sk-label input.sk-toggleable__control:checked~label.sk-toggleable__label {\n",
       "  color: var(--sklearn-color-text);\n",
       "  background-color: var(--sklearn-color-unfitted-level-2);\n",
       "}\n",
       "\n",
       "#sk-container-id-2 div.sk-label.fitted input.sk-toggleable__control:checked~label.sk-toggleable__label {\n",
       "  background-color: var(--sklearn-color-fitted-level-2);\n",
       "}\n",
       "\n",
       "/* Estimator-specific style */\n",
       "\n",
       "/* Colorize estimator box */\n",
       "#sk-container-id-2 div.sk-estimator input.sk-toggleable__control:checked~label.sk-toggleable__label {\n",
       "  /* unfitted */\n",
       "  background-color: var(--sklearn-color-unfitted-level-2);\n",
       "}\n",
       "\n",
       "#sk-container-id-2 div.sk-estimator.fitted input.sk-toggleable__control:checked~label.sk-toggleable__label {\n",
       "  /* fitted */\n",
       "  background-color: var(--sklearn-color-fitted-level-2);\n",
       "}\n",
       "\n",
       "#sk-container-id-2 div.sk-label label.sk-toggleable__label,\n",
       "#sk-container-id-2 div.sk-label label {\n",
       "  /* The background is the default theme color */\n",
       "  color: var(--sklearn-color-text-on-default-background);\n",
       "}\n",
       "\n",
       "/* On hover, darken the color of the background */\n",
       "#sk-container-id-2 div.sk-label:hover label.sk-toggleable__label {\n",
       "  color: var(--sklearn-color-text);\n",
       "  background-color: var(--sklearn-color-unfitted-level-2);\n",
       "}\n",
       "\n",
       "/* Label box, darken color on hover, fitted */\n",
       "#sk-container-id-2 div.sk-label.fitted:hover label.sk-toggleable__label.fitted {\n",
       "  color: var(--sklearn-color-text);\n",
       "  background-color: var(--sklearn-color-fitted-level-2);\n",
       "}\n",
       "\n",
       "/* Estimator label */\n",
       "\n",
       "#sk-container-id-2 div.sk-label label {\n",
       "  font-family: monospace;\n",
       "  font-weight: bold;\n",
       "  display: inline-block;\n",
       "  line-height: 1.2em;\n",
       "}\n",
       "\n",
       "#sk-container-id-2 div.sk-label-container {\n",
       "  text-align: center;\n",
       "}\n",
       "\n",
       "/* Estimator-specific */\n",
       "#sk-container-id-2 div.sk-estimator {\n",
       "  font-family: monospace;\n",
       "  border: 1px dotted var(--sklearn-color-border-box);\n",
       "  border-radius: 0.25em;\n",
       "  box-sizing: border-box;\n",
       "  margin-bottom: 0.5em;\n",
       "  /* unfitted */\n",
       "  background-color: var(--sklearn-color-unfitted-level-0);\n",
       "}\n",
       "\n",
       "#sk-container-id-2 div.sk-estimator.fitted {\n",
       "  /* fitted */\n",
       "  background-color: var(--sklearn-color-fitted-level-0);\n",
       "}\n",
       "\n",
       "/* on hover */\n",
       "#sk-container-id-2 div.sk-estimator:hover {\n",
       "  /* unfitted */\n",
       "  background-color: var(--sklearn-color-unfitted-level-2);\n",
       "}\n",
       "\n",
       "#sk-container-id-2 div.sk-estimator.fitted:hover {\n",
       "  /* fitted */\n",
       "  background-color: var(--sklearn-color-fitted-level-2);\n",
       "}\n",
       "\n",
       "/* Specification for estimator info (e.g. \"i\" and \"?\") */\n",
       "\n",
       "/* Common style for \"i\" and \"?\" */\n",
       "\n",
       ".sk-estimator-doc-link,\n",
       "a:link.sk-estimator-doc-link,\n",
       "a:visited.sk-estimator-doc-link {\n",
       "  float: right;\n",
       "  font-size: smaller;\n",
       "  line-height: 1em;\n",
       "  font-family: monospace;\n",
       "  background-color: var(--sklearn-color-background);\n",
       "  border-radius: 1em;\n",
       "  height: 1em;\n",
       "  width: 1em;\n",
       "  text-decoration: none !important;\n",
       "  margin-left: 1ex;\n",
       "  /* unfitted */\n",
       "  border: var(--sklearn-color-unfitted-level-1) 1pt solid;\n",
       "  color: var(--sklearn-color-unfitted-level-1);\n",
       "}\n",
       "\n",
       ".sk-estimator-doc-link.fitted,\n",
       "a:link.sk-estimator-doc-link.fitted,\n",
       "a:visited.sk-estimator-doc-link.fitted {\n",
       "  /* fitted */\n",
       "  border: var(--sklearn-color-fitted-level-1) 1pt solid;\n",
       "  color: var(--sklearn-color-fitted-level-1);\n",
       "}\n",
       "\n",
       "/* On hover */\n",
       "div.sk-estimator:hover .sk-estimator-doc-link:hover,\n",
       ".sk-estimator-doc-link:hover,\n",
       "div.sk-label-container:hover .sk-estimator-doc-link:hover,\n",
       ".sk-estimator-doc-link:hover {\n",
       "  /* unfitted */\n",
       "  background-color: var(--sklearn-color-unfitted-level-3);\n",
       "  color: var(--sklearn-color-background);\n",
       "  text-decoration: none;\n",
       "}\n",
       "\n",
       "div.sk-estimator.fitted:hover .sk-estimator-doc-link.fitted:hover,\n",
       ".sk-estimator-doc-link.fitted:hover,\n",
       "div.sk-label-container:hover .sk-estimator-doc-link.fitted:hover,\n",
       ".sk-estimator-doc-link.fitted:hover {\n",
       "  /* fitted */\n",
       "  background-color: var(--sklearn-color-fitted-level-3);\n",
       "  color: var(--sklearn-color-background);\n",
       "  text-decoration: none;\n",
       "}\n",
       "\n",
       "/* Span, style for the box shown on hovering the info icon */\n",
       ".sk-estimator-doc-link span {\n",
       "  display: none;\n",
       "  z-index: 9999;\n",
       "  position: relative;\n",
       "  font-weight: normal;\n",
       "  right: .2ex;\n",
       "  padding: .5ex;\n",
       "  margin: .5ex;\n",
       "  width: min-content;\n",
       "  min-width: 20ex;\n",
       "  max-width: 50ex;\n",
       "  color: var(--sklearn-color-text);\n",
       "  box-shadow: 2pt 2pt 4pt #999;\n",
       "  /* unfitted */\n",
       "  background: var(--sklearn-color-unfitted-level-0);\n",
       "  border: .5pt solid var(--sklearn-color-unfitted-level-3);\n",
       "}\n",
       "\n",
       ".sk-estimator-doc-link.fitted span {\n",
       "  /* fitted */\n",
       "  background: var(--sklearn-color-fitted-level-0);\n",
       "  border: var(--sklearn-color-fitted-level-3);\n",
       "}\n",
       "\n",
       ".sk-estimator-doc-link:hover span {\n",
       "  display: block;\n",
       "}\n",
       "\n",
       "/* \"?\"-specific style due to the `<a>` HTML tag */\n",
       "\n",
       "#sk-container-id-2 a.estimator_doc_link {\n",
       "  float: right;\n",
       "  font-size: 1rem;\n",
       "  line-height: 1em;\n",
       "  font-family: monospace;\n",
       "  background-color: var(--sklearn-color-background);\n",
       "  border-radius: 1rem;\n",
       "  height: 1rem;\n",
       "  width: 1rem;\n",
       "  text-decoration: none;\n",
       "  /* unfitted */\n",
       "  color: var(--sklearn-color-unfitted-level-1);\n",
       "  border: var(--sklearn-color-unfitted-level-1) 1pt solid;\n",
       "}\n",
       "\n",
       "#sk-container-id-2 a.estimator_doc_link.fitted {\n",
       "  /* fitted */\n",
       "  border: var(--sklearn-color-fitted-level-1) 1pt solid;\n",
       "  color: var(--sklearn-color-fitted-level-1);\n",
       "}\n",
       "\n",
       "/* On hover */\n",
       "#sk-container-id-2 a.estimator_doc_link:hover {\n",
       "  /* unfitted */\n",
       "  background-color: var(--sklearn-color-unfitted-level-3);\n",
       "  color: var(--sklearn-color-background);\n",
       "  text-decoration: none;\n",
       "}\n",
       "\n",
       "#sk-container-id-2 a.estimator_doc_link.fitted:hover {\n",
       "  /* fitted */\n",
       "  background-color: var(--sklearn-color-fitted-level-3);\n",
       "}\n",
       "</style><div id=\"sk-container-id-2\" class=\"sk-top-container\"><div class=\"sk-text-repr-fallback\"><pre>MLPClassifier(activation=&#x27;tanh&#x27;, hidden_layer_sizes=(3,), max_iter=1000,\n",
       "              solver=&#x27;lbfgs&#x27;)</pre><b>In a Jupyter environment, please rerun this cell to show the HTML representation or trust the notebook. <br />On GitHub, the HTML representation is unable to render, please try loading this page with nbviewer.org.</b></div><div class=\"sk-container\" hidden><div class=\"sk-item\"><div class=\"sk-estimator fitted sk-toggleable\"><input class=\"sk-toggleable__control sk-hidden--visually\" id=\"sk-estimator-id-2\" type=\"checkbox\" checked><label for=\"sk-estimator-id-2\" class=\"sk-toggleable__label fitted sk-toggleable__label-arrow fitted\">&nbsp;&nbsp;MLPClassifier<a class=\"sk-estimator-doc-link fitted\" rel=\"noreferrer\" target=\"_blank\" href=\"https://scikit-learn.org/1.4/modules/generated/sklearn.neural_network.MLPClassifier.html\">?<span>Documentation for MLPClassifier</span></a><span class=\"sk-estimator-doc-link fitted\">i<span>Fitted</span></span></label><div class=\"sk-toggleable__content fitted\"><pre>MLPClassifier(activation=&#x27;tanh&#x27;, hidden_layer_sizes=(3,), max_iter=1000,\n",
       "              solver=&#x27;lbfgs&#x27;)</pre></div> </div></div></div></div>"
      ],
      "text/plain": [
       "MLPClassifier(activation='tanh', hidden_layer_sizes=(3,), max_iter=1000,\n",
       "              solver='lbfgs')"
      ]
     },
     "execution_count": 20,
     "metadata": {},
     "output_type": "execute_result"
    }
   ],
   "source": [
    "clf = MLPClassifier(activation='tanh',\n",
    "                    max_iter=1000,\n",
    "                    hidden_layer_sizes=(3,),\n",
    "                    solver='lbfgs')\n",
    "clf.fit(xs, ys)"
   ]
  },
  {
   "cell_type": "code",
   "execution_count": 21,
   "id": "ad9fd526",
   "metadata": {},
   "outputs": [
    {
     "name": "stdout",
     "output_type": "stream",
     "text": [
      "score: 1.0\n",
      "predictions: [[0 0]\n",
      " [0 1]\n",
      " [0 1]\n",
      " [1 0]\n",
      " [0 1]\n",
      " [1 0]\n",
      " [1 0]\n",
      " [1 1]]\n"
     ]
    }
   ],
   "source": [
    "print('score:', clf.score(xs, ys)) \n",
    "print('predictions:', clf.predict(xs))"
   ]
  },
  {
   "cell_type": "code",
   "execution_count": 22,
   "id": "4e08ab1b",
   "metadata": {},
   "outputs": [
    {
     "data": {
      "text/plain": [
       "[array([[-3.08207895, -5.38209318, -3.12255698],\n",
       "        [-2.81184332, -5.47128535, -3.12689574],\n",
       "        [-3.05825693, -5.20813447, -3.10909883]]),\n",
       " array([[ 0.20265279, -9.39934429],\n",
       "        [-8.84034842,  8.81816812],\n",
       "        [-4.04482446, -8.40816314]])]"
      ]
     },
     "execution_count": 22,
     "metadata": {},
     "output_type": "execute_result"
    }
   ],
   "source": [
    "clf.coefs_"
   ]
  },
  {
   "cell_type": "code",
   "execution_count": 29,
   "id": "b5b6ae08-8058-4044-bb77-a73180637670",
   "metadata": {},
   "outputs": [
    {
     "data": {
      "text/plain": [
       "array([0, 0, 1])"
      ]
     },
     "execution_count": 29,
     "metadata": {},
     "output_type": "execute_result"
    }
   ],
   "source": [
    "xs[1]"
   ]
  },
  {
   "cell_type": "code",
   "execution_count": 31,
   "id": "62ed5ed4",
   "metadata": {},
   "outputs": [
    {
     "data": {
      "text/plain": [
       "array([[0, 1]])"
      ]
     },
     "execution_count": 31,
     "metadata": {},
     "output_type": "execute_result"
    }
   ],
   "source": [
    "clf.predict([xs[1]])"
   ]
  },
  {
   "cell_type": "code",
   "execution_count": 48,
   "id": "a91ac414-4034-46ff-a77b-3e3d02f7fb09",
   "metadata": {},
   "outputs": [
    {
     "data": {
      "text/plain": [
       "array([0, 1])"
      ]
     },
     "execution_count": 48,
     "metadata": {},
     "output_type": "execute_result"
    }
   ],
   "source": [
    "clf.predict([[0, 0, 1]])[0]"
   ]
  },
  {
   "cell_type": "code",
   "execution_count": 35,
   "id": "d6f29c51-8531-466e-a011-297e8a67f228",
   "metadata": {},
   "outputs": [],
   "source": [
    "from itertools import zip_longest"
   ]
  },
  {
   "cell_type": "code",
   "execution_count": 36,
   "id": "74f33b8c-a082-4be6-a13f-cc26847c4dcc",
   "metadata": {},
   "outputs": [],
   "source": [
    "def long_addition2(a,b):\n",
    "    a = map(int,reversed(bin(a)[2:]))\n",
    "    b = map(int,reversed(bin(b)[2:]))\n",
    "    q=0\n",
    "    for n,m in zip_longest(a, b, fillvalue=0):\n",
    "        q, r = divmod(q+n+m,2)\n",
    "        print(\"{:d}+{:d}+{:d}={:d}{:d}\".format(q,n,m, q,r))\n",
    "        yield str(r)\n",
    "    if q:\n",
    "        yield str(q)"
   ]
  },
  {
   "cell_type": "code",
   "execution_count": 37,
   "id": "67dcb9c2-7ffc-477d-818f-52992f6b5ede",
   "metadata": {},
   "outputs": [
    {
     "name": "stdout",
     "output_type": "stream",
     "text": [
      "1+1+1=10\n",
      "1+1+0=10\n",
      "1+0+1=10\n"
     ]
    },
    {
     "data": {
      "text/plain": [
       "['0', '0', '0', '1']"
      ]
     },
     "execution_count": 37,
     "metadata": {},
     "output_type": "execute_result"
    }
   ],
   "source": [
    "list(long_addition2(3, 5))"
   ]
  },
  {
   "cell_type": "code",
   "execution_count": 51,
   "id": "80b5083f-35bb-4c2e-b281-e9a7183d4765",
   "metadata": {},
   "outputs": [],
   "source": [
    "def long_addition2(a,b):\n",
    "    a = map(int,reversed(bin(a)[2:]))\n",
    "    b = map(int,reversed(bin(b)[2:]))\n",
    "    q=0\n",
    "    for n,m in zip_longest(a, b, fillvalue=0):\n",
    "        [[q, r]] = clf.predict([[n, m, q]])\n",
    "        print(\"{:d}+{:d}+{:d}={:d}{:d}\".format(q,n,m, q,r))\n",
    "        yield str(r)\n",
    "    if q:\n",
    "        yield str(q)"
   ]
  },
  {
   "cell_type": "code",
   "execution_count": 52,
   "id": "eea9b9a6-a65f-4a1e-83d8-e97f2b90b780",
   "metadata": {},
   "outputs": [
    {
     "name": "stdout",
     "output_type": "stream",
     "text": [
      "1+1+1=10\n",
      "1+1+0=10\n",
      "1+0+1=10\n"
     ]
    },
    {
     "data": {
      "text/plain": [
       "['0', '0', '0', '1']"
      ]
     },
     "execution_count": 52,
     "metadata": {},
     "output_type": "execute_result"
    }
   ],
   "source": [
    "list(long_addition2(3, 5))"
   ]
  },
  {
   "cell_type": "markdown",
   "id": "13504d12-bc7c-4537-954e-be1ab59a0e14",
   "metadata": {},
   "source": [
    "#### 複数桁の演算"
   ]
  },
  {
   "cell_type": "code",
   "execution_count": 5,
   "id": "4f515c1e-3be7-4608-9566-59c4a17f5959",
   "metadata": {},
   "outputs": [
    {
     "data": {
      "text/markdown": [
       "4桁の二進数の加算を機械学習で実装するためには、各桁を個別に処理することを考えると良いでしょう。以下に、そのための基本的なPythonコードを示します。ここでは、2つの4桁の二進数を入力とし、それらの和を出力とするモデルを訓練します。\n",
       "\n",
       "```python\n",
       "from sklearn.neural_network import MLPClassifier\n",
       "import numpy as np\n",
       "\n",
       "# 二進法の加算を行う関数\n",
       "def binary_addition(a, b):\n",
       "    result = model_xor.predict([[a, b]])\n",
       "    carry = model_and.predict([[a, b]])\n",
       "    return carry, result\n",
       "\n",
       "# 4桁の二進数の加算を行う関数\n",
       "def add_binary_nums(x, y):\n",
       "    max_len = max(len(x), len(y))\n",
       "\n",
       "    # 入力を同じ長さに揃える\n",
       "    x = x.zfill(max_len)\n",
       "    y = y.zfill(max_len)\n",
       "\n",
       "    result = ''\n",
       "    carry = 0\n",
       "    for i in range(max_len-1, -1, -1):\n",
       "        r, carry = binary_addition(int(x[i]), int(y[i]) + carry)\n",
       "        result = str(r[0]) + result\n",
       "\n",
       "    # 最後に繰り上がりが残っていれば結果に追加\n",
       "    if carry != 0 : result = '1' + result\n",
       "\n",
       "    return result.zfill(max_len)\n",
       "\n",
       "# テスト\n",
       "print(add_binary_nums('1101', '1011'))  # Output: '11000'\n",
       "```\n",
       "\n",
       "このコードでは、`add_binary_nums`関数が4桁の二進数の加算を行います。この関数は二つの4桁の二進数（文字列形式）を入力として受け取り、その和を返します。関数は各桁を右から左へと順に処理し、各桁での加算結果と繰り上がりを計算します。そして、最終的な結果を生成します。\n",
       "\n",
       "このコードは、`binary_addition`関数が二進法の加算を行う関数として定義されていることを前提としています。実際には、この関数を実装するためには、訓練済みのXORモデルとANDモデルが必要です。"
      ],
      "text/plain": [
       "<IPython.core.display.Markdown object>"
      ]
     },
     "execution_count": 5,
     "metadata": {
      "text/markdown": {
       "jupyter_ai": {
        "custom_chain_id": "vioras"
       }
      }
     },
     "output_type": "execute_result"
    }
   ],
   "source": [
    "%%ai vioras\n",
    "4桁の二進数の加算を機械学習で実装してください。"
   ]
  },
  {
   "cell_type": "code",
   "execution_count": 6,
   "id": "a2ea1b41-d437-41b3-ab0a-9b7a6a45c1f2",
   "metadata": {},
   "outputs": [
    {
     "data": {
      "text/markdown": [
       "すみませんが、現在の技術では、4桁の二進数の加算を直接学習するのは困難です。これは、機械学習モデルが通常、入力と出力間の直接的なマッピングを学習するのに対して、4桁の二進数加算は複数の桁間での関係性（繰り上がりなど）を必要とするためです。\n",
       "\n",
       "したがって、各桁を個別に処理するアプローチを採用することが一般的です。ただし、深層学習の一部、特にリカレントニューラルネットワーク（RNN）やトランスフォーマーなどのシーケンスモデルは、シーケンスデータに対する複雑なタスクを学習する能力があります。これらのモデルは、時間または空間にわたる依存性（例えば、繰り上がり）を捉えることが可能なため、理論的には4桁の二進数加算のようなタスクを学習することが可能です。\n",
       "\n",
       "ただし、これらのモデルは訓練が難しく、大量のデータと計算リソースを必要とします。また、これらのモデルの訓練と評価は、通常の機械学習モデルよりも複雑であるため、このタスクに取り組む場合は高度な知識と経験が必要です。"
      ],
      "text/plain": [
       "<IPython.core.display.Markdown object>"
      ]
     },
     "execution_count": 6,
     "metadata": {
      "text/markdown": {
       "jupyter_ai": {
        "custom_chain_id": "vioras"
       }
      }
     },
     "output_type": "execute_result"
    }
   ],
   "source": [
    "%%ai vioras\n",
    "各桁を個別に処理せず、4桁の加算を学習して下さい。"
   ]
  },
  {
   "cell_type": "code",
   "execution_count": 7,
   "id": "877b5b5e-aacd-4607-9f9b-32d2e9cd8e6d",
   "metadata": {},
   "outputs": [
    {
     "data": {
      "text/markdown": [
       "もちろんです。一桁の16進数の加算を学習することは可能です。16進数の各桁は0からF（10進数で15）までの値をとるため、これは0から15までの整数の加算を学習することに相当します。\n",
       "\n",
       "以下に、そのための基本的なPythonコードを示します。ここでは、`MLPRegressor`（Multi-Layer Perceptron Regressor）を使っています。なぜなら、出力が連続的な値（この場合は加算の結果）であるため、回帰問題として扱うのが適切だからです。\n",
       "\n",
       "```python\n",
       "from sklearn.neural_network import MLPRegressor\n",
       "from sklearn.model_selection import train_test_split\n",
       "import numpy as np\n",
       "\n",
       "# 一桁の16進数の加算のデータとラベルを生成\n",
       "X = [[i, j] for i in range(16) for j in range(16)]\n",
       "y = [i + j for i in range(16) for j in range(16)]\n",
       "\n",
       "X_train, X_test, y_train, y_test = train_test_split(X, y, test_size=0.2, random_state=42)\n",
       "\n",
       "# MLPRegressorのモデルを作成\n",
       "model = MLPRegressor(hidden_layer_sizes=(10,), activation='relu', solver='adam', max_iter=1000)\n",
       "\n",
       "# モデルの訓練\n",
       "model.fit(X_train, y_train)\n",
       "\n",
       "# テストデータで評価\n",
       "print(\"Score: \", model.score(X_test, y_test))\n",
       "```\n",
       "\n",
       "このコードでは、`MLPRegressor`のパラメータ`hidden_layer_sizes=(10,)`は隠れ層のユニット数（ここでは10）を指定します。`activation='relu'`は活性化関数としてReLU（Rectified Linear Unit）を使用することを指定し、`solver='adam'`は最適化手法としてAdam（Adaptive Moment Estimation）を使用することを指定します。`max_iter=1000`は最大イテレーション数を指定します。\n",
       "\n",
       "そして、訓練されたモデルを使っていくつかのテストデータの予測を行っています。この予測は10進数での結果を示しますが、最終的な出力を16進数に変換することも可能です。\n",
       "\n",
       "なお、このコードは回帰問題として加算を扱っていますが、一般的には整数の加算を回帰問題として扱うのは適切ではないかもしれません。ただし、ここではおそらく最善のアプローチであり、適切な結果を提供します。"
      ],
      "text/plain": [
       "<IPython.core.display.Markdown object>"
      ]
     },
     "execution_count": 7,
     "metadata": {
      "text/markdown": {
       "jupyter_ai": {
        "custom_chain_id": "vioras"
       }
      }
     },
     "output_type": "execute_result"
    }
   ],
   "source": [
    "%%ai vioras\n",
    "一桁の16進数の加算を学習することはできますか？繰り上がりは考慮しません。"
   ]
  },
  {
   "cell_type": "code",
   "execution_count": 38,
   "id": "23f61360-5b77-4462-9c9d-2e7dbbb96d29",
   "metadata": {},
   "outputs": [],
   "source": [
    "from sklearn.neural_network import MLPClassifier"
   ]
  },
  {
   "cell_type": "code",
   "execution_count": 39,
   "id": "56705300-8b07-4c6d-8a22-accfb5ce3ff1",
   "metadata": {},
   "outputs": [
    {
     "name": "stdout",
     "output_type": "stream",
     "text": [
      "Score:  0.038461538461538464\n"
     ]
    }
   ],
   "source": [
    "from sklearn.neural_network import MLPRegressor\n",
    "from sklearn.model_selection import train_test_split\n",
    "import numpy as np\n",
    "\n",
    "# 一桁の16進数の加算のデータとラベルを生成\n",
    "X = [[i, j] for i in range(16) for j in range(16)]\n",
    "y = [i + j for i in range(16) for j in range(16)]\n",
    "\n",
    "X_train, X_test, y_train, y_test = train_test_split(X, y, test_size=0.2, random_state=42)\n",
    "\n",
    "# MLPRegressorのモデルを作成\n",
    "model = MLPClassifier(hidden_layer_sizes=(10,), activation='relu', solver='adam', max_iter=1000)\n",
    "\n",
    "# モデルの訓練\n",
    "model.fit(X_train, y_train)\n",
    "\n",
    "# テストデータで評価\n",
    "print(\"Score: \", model.score(X_test, y_test))"
   ]
  },
  {
   "cell_type": "code",
   "execution_count": 40,
   "id": "bb0a76e9-7caa-4d35-b755-df2c608fab30",
   "metadata": {},
   "outputs": [
    {
     "data": {
      "text/plain": [
       "[14]"
      ]
     },
     "execution_count": 40,
     "metadata": {},
     "output_type": "execute_result"
    }
   ],
   "source": [
    "list(map(int, model.predict([[3,9]])))"
   ]
  },
  {
   "cell_type": "code",
   "execution_count": 41,
   "id": "64e7f33a-5547-4d93-8c99-e88b0393459f",
   "metadata": {},
   "outputs": [
    {
     "data": {
      "text/plain": [
       "array([[ 3.69894206e-01, -2.56189840e-02],\n",
       "       [ 4.06174978e-01,  2.77836174e-01],\n",
       "       [-2.29745509e-01,  5.56600879e-12],\n",
       "       [-4.78858349e-01,  2.90595335e-01],\n",
       "       [-5.32529853e-01,  8.02012921e-02],\n",
       "       [ 1.15662800e-01, -5.40686323e-02],\n",
       "       [ 4.75984860e-01,  2.32419271e-01],\n",
       "       [ 1.02596546e-01,  3.54541644e-01],\n",
       "       [-7.33867391e-01,  6.11268262e-01],\n",
       "       [ 4.49836176e-01,  2.60505704e-01]])"
      ]
     },
     "execution_count": 41,
     "metadata": {},
     "output_type": "execute_result"
    }
   ],
   "source": [
    "model.coefs_[0].T"
   ]
  },
  {
   "cell_type": "code",
   "execution_count": 42,
   "id": "71de702b-b491-42d4-8304-28833bdf86ab",
   "metadata": {},
   "outputs": [],
   "source": [
    "import matplotlib.pyplot as plt"
   ]
  },
  {
   "cell_type": "code",
   "execution_count": 43,
   "id": "23a42b3b-2908-4441-819d-f0ae731a62c5",
   "metadata": {},
   "outputs": [],
   "source": [
    "x = np.linspace(0, 10, 10)"
   ]
  },
  {
   "cell_type": "code",
   "execution_count": 44,
   "id": "e05afcb1-af9e-4e94-a27d-4db257d69e4f",
   "metadata": {},
   "outputs": [
    {
     "data": {
      "text/plain": [
       "10"
      ]
     },
     "execution_count": 44,
     "metadata": {},
     "output_type": "execute_result"
    }
   ],
   "source": [
    "x.size"
   ]
  },
  {
   "cell_type": "code",
   "execution_count": 45,
   "id": "e3e06186-c439-4678-bb7d-bb797fb445c2",
   "metadata": {},
   "outputs": [
    {
     "data": {
      "text/plain": [
       "[<matplotlib.lines.Line2D at 0x7616762f9750>,\n",
       " <matplotlib.lines.Line2D at 0x7616763a41d0>]"
      ]
     },
     "execution_count": 45,
     "metadata": {},
     "output_type": "execute_result"
    },
    {
     "data": {
      "image/png": "[encoded data removed]",
      "text/plain": [
       "<Figure size 640x480 with 1 Axes>"
      ]
     },
     "metadata": {},
     "output_type": "display_data"
    }
   ],
   "source": [
    "plt.plot(x, model.coefs_[0].T)"
   ]
  },
  {
   "cell_type": "code",
   "execution_count": 46,
   "id": "fad4becd-012b-4e64-a210-271a4b65e861",
   "metadata": {},
   "outputs": [
    {
     "data": {
      "text/markdown": [
       "確かに、入力と出力を二進数に変換し、`MLPClassifier`を使ってモデルを訓練することができます。以下にそのための基本的なPythonコードを示します：\n",
       "\n",
       "```python\n",
       "from sklearn.neural_network import MLPClassifier\n",
       "from sklearn.model_selection import train_test_split\n",
       "import numpy as np\n",
       "\n",
       "# 一桁の16進数の加算のデータとラベルを生成\n",
       "X = [[i, j] for i in range(16) for j in range(16)]\n",
       "y = [i + j for i in range(16) for j in range(16)]\n",
       "\n",
       "# 入力と出力を4桁の二進数に変換\n",
       "X = [[int(bin(i)[2:].zfill(4)), int(bin(j)[2:].zfill(4))] for i, j in X]\n",
       "y = [int(bin(i)[2:].zfill(5)) for i in y]\n",
       "\n",
       "X_train, X_test, y_train, y_test = train_test_split(X, y, test_size=0.2, random_state=42)\n",
       "\n",
       "# MLPClassifierのモデルを作成\n",
       "model = MLPClassifier(hidden_layer_sizes=(10,), activation='relu', solver='adam', max_iter=1000)\n",
       "\n",
       "# モデルの訓練\n",
       "model.fit(X_train, y_train)\n",
       "\n",
       "# テストデータで評価\n",
       "print(\"Score: \", model.score(X_test, y_test))\n",
       "```\n",
       "\n",
       "ここで、`bin(i)[2:].zfill(4)`というコードは、10進数の`i`を二進数に変換し、`zfill(4)`で4桁になるように左側をゼロで埋めています。同様に、出力`y`は5桁の二進数に変換しています（16進数の加算結果は最大で30なので、これを表現するためには5桁の二進数が必要です）。\n",
       "\n",
       "そして`MLPClassifier`を使ってモデルを訓練し、テストデータで評価しています。このモデルは、4桁の二進数を入力とし、5桁の二進数を出力します。\n",
       "\n",
       "ただし、このコードは二進数を整数として扱っています。つまり、4桁の二進数`1010`は整数の1010として扱われます。このため、このコードは実際のユースケースには適していないかもしれません。本当に各桁を個別に扱う必要がある場合は、各桁を個別の特徴として扱い、それぞれを別々の入力としてモデルに供給することを検討してみてください。"
      ],
      "text/plain": [
       "<IPython.core.display.Markdown object>"
      ]
     },
     "execution_count": 46,
     "metadata": {
      "text/markdown": {
       "jupyter_ai": {
        "custom_chain_id": "vioras"
       }
      }
     },
     "output_type": "execute_result"
    }
   ],
   "source": [
    "%%ai vioras\n",
    "入力と出力を二進数に変換して行い、かつ、MLPClassifierを使ってください。"
   ]
  },
  {
   "cell_type": "code",
   "execution_count": null,
   "id": "52a18e12",
   "metadata": {},
   "outputs": [],
   "source": []
  },
  {
   "cell_type": "code",
   "execution_count": 51,
   "id": "8b6f8be0-ca5c-4475-af4d-e88e5381335b",
   "metadata": {},
   "outputs": [
    {
     "data": {
      "text/markdown": [
       "残念ながら、scikit-learnライブラリは現在、リカレントニューラルネットワーク（RNN）やトランスフォーマー（Transformer）のような深層学習モデルを直接サポートしていません。\n",
       "\n",
       "scikit-learnは様々な伝統的な機械学習アルゴリズム（例えば、SVM、決定木、ランダムフォレスト、k-最近傍法、ロジスティック回帰など）を提供しています。また、一部の単純なニューラルネットワーク（例えば、多層パーセプトロン）もサポートしていますが、これらは基本的なものであり、深層学習の全てをカバーしているわけではありません。\n",
       "\n",
       "RNNやTransformerなどのより複雑な深層学習モデルを使用するためには、TensorFlowやPyTorchといった深層学習ライブラリを使用することをお勧めします。これらのライブラリは、深層学習モデルの訓練と評価を行うための広範なツールと機能を提供しています。\n",
       "\n",
       "それらのライブラリは学習曲線が少し急ですが、それらを使うことで、大規模なデータセットに対する複雑なモデルの訓練や、GPUを使用した高速な計算など、深層学習の全ての利点を活用することが可能となります。"
      ],
      "text/plain": [
       "<IPython.core.display.Markdown object>"
      ]
     },
     "execution_count": 51,
     "metadata": {
      "text/markdown": {
       "jupyter_ai": {
        "custom_chain_id": "vioras"
       }
      }
     },
     "output_type": "execute_result"
    }
   ],
   "source": [
    "%%ai vioras\n",
    "scikit-leanではRNNやTransformerは使えませんか？"
   ]
  },
  {
   "cell_type": "code",
   "execution_count": null,
   "id": "6836388f",
   "metadata": {},
   "outputs": [],
   "source": []
  },
  {
   "cell_type": "code",
   "execution_count": null,
   "id": "68eb43e5",
   "metadata": {},
   "outputs": [],
   "source": []
  },
  {
   "cell_type": "code",
   "execution_count": null,
   "id": "0c0e820f",
   "metadata": {},
   "outputs": [],
   "source": []
  }
 ],
 "metadata": {
  "kernelspec": {
   "display_name": "Python 3 (ipykernel)",
   "language": "python",
   "name": "python3"
  },
  "language_info": {
   "codemirror_mode": {
    "name": "ipython",
    "version": 3
   },
   "file_extension": ".py",
   "mimetype": "text/x-python",
   "name": "python",
   "nbconvert_exporter": "python",
   "pygments_lexer": "ipython3",
   "version": "3.11.8"
  },
  "toc": {
   "base_numbering": 1,
   "nav_menu": {},
   "number_sections": true,
   "sideBar": true,
   "skip_h1_title": false,
   "title_cell": "Table of Contents",
   "title_sidebar": "Contents",
   "toc_cell": false,
   "toc_position": {},
   "toc_section_display": true,
   "toc_window_display": false
  }
 },
 "nbformat": 4,
 "nbformat_minor": 5
}
