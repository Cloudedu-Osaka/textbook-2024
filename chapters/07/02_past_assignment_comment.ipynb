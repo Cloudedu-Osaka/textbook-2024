{
 "cells": [
  {
   "cell_type": "markdown",
   "id": "24cc18d2-e669-4dbd-af80-1dff96b13c5f",
   "metadata": {},
   "source": [
    "# 課題の講評"
   ]
  },
  {
   "cell_type": "markdown",
   "id": "949ec763-1b69-4d36-9252-1267140c8d5d",
   "metadata": {},
   "source": [
    "## ピタゴラスの三数とPlimpton 322に関する公式"
   ]
  },
  {
   "cell_type": "markdown",
   "id": "e2e85156-31a3-4c10-9045-aaed483d2326",
   "metadata": {},
   "source": [
    "命題) Plimpton 322は、互いに素な正の整数 $p$, $q$ のうち、\n",
    "\n",
    "$$\n",
    "  \\frac{9}{5} \\leq \\frac{p}{q} \\leq \\frac{12}{5}\n",
    "$$\n",
    "\n",
    "を満たす組み合わせについて、\n",
    "\n",
    "$$\n",
    "\\left(\\frac{d}{a}\\right)^2 = \\frac{1}{4}\\left(\\frac{p}{q}+\\frac{q}{p}\\right)^2\n",
    "$$\n",
    "\n",
    "をキーとして降順に並べたものである。"
   ]
  },
  {
   "cell_type": "markdown",
   "id": "b090e2a4-bd0f-4ce7-97c9-5d4821e23af9",
   "metadata": {},
   "source": [
    "ここで、\n",
    "\n",
    "$$\n",
    "  \\begin{align}\n",
    "    a & =  2 p q \\\\\n",
    "    b & =  p^2 - q^2\\\\\n",
    "    d & =  p^2 + q^2\\\\\n",
    "  \\end{align}\n",
    "$$\n",
    "\n",
    "である。なお、このとき$a$, $b$, $d$ は**既約な**ピタゴラスの三数 (最小公倍数が$1$) となり、$a^2+b^2 = d^2$ を満たす。"
   ]
  },
  {
   "cell_type": "markdown",
   "id": "a8c0ea5e-93a8-45fd-b8d5-078438af0b28",
   "metadata": {},
   "source": [
    "さらに、Plimpton 322の左カラムから次の式の値に対応する:\n",
    "\n",
    "|#1 |#2 |#3 |\n",
    "|:-:|:-:|:-:|\n",
    "|$$\\left(\\frac{d}{a}\\right)^2$$|$$b$$      |$$d$$      |\n",
    "|$$\\frac{1}{4}\\left(\\frac{p}{q}+\\frac{q}{p}\\right)^2$$|$$p^2-q^2$$|$$p^2+q^2$$|"
   ]
  },
  {
   "cell_type": "markdown",
   "id": "a73151e0-6490-4be0-bb35-4266fd9099dc",
   "metadata": {},
   "source": [
    "## ピタゴラスの三数を探索する"
   ]
  },
  {
   "cell_type": "code",
   "execution_count": 1,
   "id": "0d89f7ca-a2f1-47e5-8fae-153da29de8e0",
   "metadata": {},
   "outputs": [
    {
     "data": {
      "text/markdown": [
       "この関数`find_pythagorean_triplets`はピタゴラスの三つ組を探すためのもので、概ね正しく動作します。ただし、以下の点について問題があり、改善が必要です。\n",
       "\n",
       "1. **範囲の設定:** `c`の値が`limit`以下であるかをチェックしていますが、このチェックは`a`と`b`のループ内で行われています。この結果、`c`が`limit`を超える組み合わせでも、その前に`a`と`b`が`limit`以下であるためにループが続行され、不要な計算が行われます。`c`が`limit`を超えた時点で、内側のループを中断することで、計算の効率を向上させることができます。\n",
       "\n",
       "2. **整数の確認:** `c`が整数であるかを確認するために、`is_integer()`メソッドを使用しています。これ自体は問題ではありませんが、浮動小数点数の精度の問題から算出結果が理想的な整数にならない可能性があります（例：`2.999999999999999`など）。`math.isclose()`関数を使用して、許容可能な誤差内にあるか確認する方が安全です。\n",
       "\n",
       "3. **ユニットテスト:** この関数にはユニットテストがないため、期待通りの動作をするかの確認が難しいです。ユニットテストを書くことで、関数が正しく動作することを保証することが可能になります。\n",
       "\n",
       "したがって、上記の問題を修正したバージョンの関数は以下のようになります。\n",
       "\n",
       "```python\n",
       "import math\n",
       "\n",
       "def find_pythagorean_triplets(limit):\n",
       "    triplets = []\n",
       "    \n",
       "    for a in range(1, limit):\n",
       "        for b in range(a, limit):\n",
       "            c = (a**2 + b**2)**0.5\n",
       "            if c > limit:\n",
       "                break\n",
       "            if math.isclose(c, round(c), rel_tol=1e-9):\n",
       "                triplets.append((a, b, int(round(c))))\n",
       "                \n",
       "    return triplets\n",
       "```\n",
       "\n",
       "この関数は次のようにテストできます。\n",
       "\n",
       "```python\n",
       "def test_find_pythagorean_triplets():\n",
       "    assert find_pythagorean_triplets(10) == [(3, 4, 5), (6, 8, 10)]\n",
       "    assert find_pythagorean_triplets(20) == [(3, 4, 5), (6, 8, 10), (5, 12, 13), (9, 12, 15), (8, 15, 17), (12, 16, 20)]\n",
       "    print(\"All tests passed.\")\n",
       "    \n",
       "test_find_pythagorean_triplets()\n",
       "```"
      ],
      "text/plain": [
       "<IPython.core.display.Markdown object>"
      ]
     },
     "execution_count": 1,
     "metadata": {
      "text/markdown": {
       "jupyter_ai": {
        "custom_chain_id": "vioras"
       }
      }
     },
     "output_type": "execute_result"
    }
   ],
   "source": [
    "%%ai vioras\n",
    "次の関数の問題点を指摘してください。\n",
    "---\n",
    "def find_pythagorean_triplets(limit):\n",
    "    triplets = []\n",
    "    \n",
    "    for a in range(1, limit):\n",
    "        for b in range(a, limit):\n",
    "            c = (a**2 + b**2)**0.5\n",
    "            if c.is_integer() and c <= limit:\n",
    "                triplets.append((a, b, int(c)))\n",
    "                \n",
    "    return triplets"
   ]
  },
  {
   "cell_type": "markdown",
   "id": "8dd9a6dd-408e-4dba-9c3e-29e58087808c",
   "metadata": {},
   "source": [
    "```{note}\n",
    "浮動小数で表現される実数が整数か否かを判定する際に理論的な曖昧さを排除できません。\n",
    "```"
   ]
  },
  {
   "cell_type": "code",
   "execution_count": 38,
   "id": "a82ff21f-b3ba-4613-963d-241918b7540d",
   "metadata": {},
   "outputs": [
    {
     "name": "stdout",
     "output_type": "stream",
     "text": [
      "Help on method_descriptor:\n",
      "\n",
      "is_integer(self, /)\n",
      "    Return True if the float is an integer.\n",
      "\n"
     ]
    }
   ],
   "source": [
    "help(float.is_integer)"
   ]
  },
  {
   "cell_type": "code",
   "execution_count": 25,
   "id": "76b7a320-deef-4d21-96af-3c0801a89604",
   "metadata": {},
   "outputs": [
    {
     "data": {
      "text/plain": [
       "(0.1111111111111111, 1.0, float, True)"
      ]
     },
     "execution_count": 25,
     "metadata": {},
     "output_type": "execute_result"
    }
   ],
   "source": [
    "x = 1/9\n",
    "x, x*9, type(x*9), (x*9).is_integer()"
   ]
  },
  {
   "cell_type": "code",
   "execution_count": 36,
   "id": "983cd0ec-1040-4c40-bc93-9782f53e85f3",
   "metadata": {},
   "outputs": [
    {
     "data": {
      "text/plain": [
       "(0.9999999999999999, float, False)"
      ]
     },
     "execution_count": 36,
     "metadata": {},
     "output_type": "execute_result"
    }
   ],
   "source": [
    "x = 0.9999999999999999\n",
    "x, type(x), (x).is_integer()"
   ]
  },
  {
   "cell_type": "code",
   "execution_count": 37,
   "id": "673f0f00",
   "metadata": {},
   "outputs": [
    {
     "data": {
      "text/plain": [
       "(1.0, float, True)"
      ]
     },
     "execution_count": 37,
     "metadata": {},
     "output_type": "execute_result"
    }
   ],
   "source": [
    "x = 0.99999999999999999\n",
    "x, type(x), (x).is_integer()"
   ]
  },
  {
   "cell_type": "markdown",
   "id": "22608cdf-e134-4eb0-9601-c918b864633a",
   "metadata": {},
   "source": [
    "### 公式を元にピタゴラスの三数を探索する"
   ]
  },
  {
   "cell_type": "code",
   "execution_count": 1,
   "id": "ce139cf3-17ee-4b2b-820e-962e240a1d77",
   "metadata": {},
   "outputs": [
    {
     "data": {
      "text/markdown": [
       "Pythonを使って、ピタゴラスの三数を探索するプログラムを書くことができます。\n",
       "以下のプログラムは、指定された範囲の$p$と$q$の値を用いて、ピタゴラスの三数を計算します。\n",
       "\n",
       "```python\n",
       "def find_pythagorean_triples(n):\n",
       "    triples = []\n",
       "    for p in range(1, n+1):\n",
       "        for q in range(1, p):\n",
       "            a = 2 * p * q\n",
       "            b = p**2 - q**2\n",
       "            d = p**2 + q**2\n",
       "            triples.append((a, b, d))\n",
       "    return triples\n",
       "\n",
       "n = 10  # ここではpとqの範囲を1から10までとしています。\n",
       "triples = find_pythagorean_triples(n)\n",
       "for triple in triples:\n",
       "    print(triple)\n",
       "```\n",
       "\n",
       "このプログラムは、$p$と$q$が1から10までの範囲で変化するすべての組み合わせに対して、ピタゴラスの三数$(a, b, d)$を計算します。その後、計算された三数のリストを出力します。\n",
       "\n",
       "このプログラムの実行結果は、$(a, b, d)$の組み合わせのリストとなります。これらの三数は全てピタゴラスの三数であり、それぞれの三数が$a^2 + b^2 = d^2$を満たすことが確認できます。\n",
       "\n",
       "このプログラムを用いて、任意の範囲の$p$と$q$に対するピタゴラスの三数を計算することができます。"
      ],
      "text/plain": [
       "<IPython.core.display.Markdown object>"
      ]
     },
     "execution_count": 1,
     "metadata": {
      "text/markdown": {
       "jupyter_ai": {
        "custom_chain_id": "vioras"
       }
      }
     },
     "output_type": "execute_result"
    }
   ],
   "source": [
    "%%ai vioras\n",
    "$p, q$を正の整数として、さらに $p > q$ とすると、\n",
    "$a = 2 p q$, $b = p^2 - q^2$, $d = p^2 + q^2$と置いたとき、\n",
    "$(a, b, d)$は既約なピタゴラスの三数であることが知られています。\n",
    "この関係式を元に、ピタゴラスの三数を探索するプログラムを書いてください"
   ]
  },
  {
   "cell_type": "code",
   "execution_count": 2,
   "id": "c0f03752-0e7e-483b-92f3-a354308c6d95",
   "metadata": {},
   "outputs": [
    {
     "name": "stdout",
     "output_type": "stream",
     "text": [
      "(4, 3, 5)\n",
      "(6, 8, 10)\n",
      "(12, 5, 13)\n",
      "(8, 15, 17)\n",
      "(16, 12, 20)\n",
      "(24, 7, 25)\n",
      "(10, 24, 26)\n",
      "(20, 21, 29)\n",
      "(30, 16, 34)\n",
      "(40, 9, 41)\n",
      "(12, 35, 37)\n",
      "(24, 32, 40)\n",
      "(36, 27, 45)\n",
      "(48, 20, 52)\n",
      "(60, 11, 61)\n",
      "(14, 48, 50)\n",
      "(28, 45, 53)\n",
      "(42, 40, 58)\n",
      "(56, 33, 65)\n",
      "(70, 24, 74)\n",
      "(84, 13, 85)\n",
      "(16, 63, 65)\n",
      "(32, 60, 68)\n",
      "(48, 55, 73)\n",
      "(64, 48, 80)\n",
      "(80, 39, 89)\n",
      "(96, 28, 100)\n",
      "(112, 15, 113)\n",
      "(18, 80, 82)\n",
      "(36, 77, 85)\n",
      "(54, 72, 90)\n",
      "(72, 65, 97)\n",
      "(90, 56, 106)\n",
      "(108, 45, 117)\n",
      "(126, 32, 130)\n",
      "(144, 17, 145)\n",
      "(20, 99, 101)\n",
      "(40, 96, 104)\n",
      "(60, 91, 109)\n",
      "(80, 84, 116)\n",
      "(100, 75, 125)\n",
      "(120, 64, 136)\n",
      "(140, 51, 149)\n",
      "(160, 36, 164)\n",
      "(180, 19, 181)\n"
     ]
    }
   ],
   "source": [
    "def find_pythagorean_triples(n):\n",
    "    triples = []\n",
    "    for p in range(1, n+1):\n",
    "        for q in range(1, p):\n",
    "            a = 2 * p * q\n",
    "            b = p**2 - q**2\n",
    "            d = p**2 + q**2\n",
    "            triples.append((a, b, d))\n",
    "    return triples\n",
    "\n",
    "n = 10  # ここではpとqの範囲を1から10までとしています。\n",
    "triples = find_pythagorean_triples(n)\n",
    "for triple in triples:\n",
    "    print(triple)"
   ]
  },
  {
   "cell_type": "code",
   "execution_count": 3,
   "id": "1849a031-0ee2-4d3f-8875-ed84fa11b236",
   "metadata": {},
   "outputs": [
    {
     "data": {
      "text/markdown": [
       "もちろんです。$p$と$q$の値も含めてピタゴラスの三数を探索するプログラムを以下に示します。\n",
       "\n",
       "```python\n",
       "def find_pythagorean_triples(n):\n",
       "    triples = []\n",
       "    for p in range(1, n+1):\n",
       "        for q in range(1, p):\n",
       "            a = 2 * p * q\n",
       "            b = p**2 - q**2\n",
       "            d = p**2 + q**2\n",
       "            triples.append((p, q, a, b, d))\n",
       "    return triples\n",
       "\n",
       "n = 10  # ここではpとqの範囲を1から10までとしています。\n",
       "triples = find_pythagorean_triples(n)\n",
       "for triple in triples:\n",
       "    print(triple)\n",
       "```\n",
       "\n",
       "このプログラムは、$p$と$q$が1から10までの範囲で変化するすべての組み合わせに対して、ピタゴラスの三数$(a, b, d)$を計算します。その後、$p$, $q$と共に計算された三数のリストを出力します。\n",
       "\n",
       "このプログラムの実行結果は、$(p, q, a, b, d)$の組み合わせのリストとなります。これらの三数は全てピタゴラスの三数であり、それぞれの三数が$a^2 + b^2 = d^2$を満たすことが確認できます。\n",
       "\n",
       "このプログラムを用いて、任意の範囲の$p$と$q$に対するピタゴラスの三数を計算することができます。"
      ],
      "text/plain": [
       "<IPython.core.display.Markdown object>"
      ]
     },
     "execution_count": 3,
     "metadata": {
      "text/markdown": {
       "jupyter_ai": {
        "custom_chain_id": "vioras"
       }
      }
     },
     "output_type": "execute_result"
    }
   ],
   "source": [
    "%%ai vioras\n",
    "$p, q$も表示してください。"
   ]
  },
  {
   "cell_type": "code",
   "execution_count": 4,
   "id": "6ba722d8-41ff-45e3-8c82-cacb1f80904c",
   "metadata": {},
   "outputs": [
    {
     "name": "stdout",
     "output_type": "stream",
     "text": [
      "(2, 1, 4, 3, 5)\n",
      "(3, 1, 6, 8, 10)\n",
      "(3, 2, 12, 5, 13)\n",
      "(4, 1, 8, 15, 17)\n",
      "(4, 2, 16, 12, 20)\n",
      "(4, 3, 24, 7, 25)\n",
      "(5, 1, 10, 24, 26)\n",
      "(5, 2, 20, 21, 29)\n",
      "(5, 3, 30, 16, 34)\n",
      "(5, 4, 40, 9, 41)\n",
      "(6, 1, 12, 35, 37)\n",
      "(6, 2, 24, 32, 40)\n",
      "(6, 3, 36, 27, 45)\n",
      "(6, 4, 48, 20, 52)\n",
      "(6, 5, 60, 11, 61)\n",
      "(7, 1, 14, 48, 50)\n",
      "(7, 2, 28, 45, 53)\n",
      "(7, 3, 42, 40, 58)\n",
      "(7, 4, 56, 33, 65)\n",
      "(7, 5, 70, 24, 74)\n",
      "(7, 6, 84, 13, 85)\n",
      "(8, 1, 16, 63, 65)\n",
      "(8, 2, 32, 60, 68)\n",
      "(8, 3, 48, 55, 73)\n",
      "(8, 4, 64, 48, 80)\n",
      "(8, 5, 80, 39, 89)\n",
      "(8, 6, 96, 28, 100)\n",
      "(8, 7, 112, 15, 113)\n",
      "(9, 1, 18, 80, 82)\n",
      "(9, 2, 36, 77, 85)\n",
      "(9, 3, 54, 72, 90)\n",
      "(9, 4, 72, 65, 97)\n",
      "(9, 5, 90, 56, 106)\n",
      "(9, 6, 108, 45, 117)\n",
      "(9, 7, 126, 32, 130)\n",
      "(9, 8, 144, 17, 145)\n",
      "(10, 1, 20, 99, 101)\n",
      "(10, 2, 40, 96, 104)\n",
      "(10, 3, 60, 91, 109)\n",
      "(10, 4, 80, 84, 116)\n",
      "(10, 5, 100, 75, 125)\n",
      "(10, 6, 120, 64, 136)\n",
      "(10, 7, 140, 51, 149)\n",
      "(10, 8, 160, 36, 164)\n",
      "(10, 9, 180, 19, 181)\n"
     ]
    }
   ],
   "source": [
    "def find_pythagorean_triples(n):\n",
    "    triples = []\n",
    "    for p in range(1, n+1):\n",
    "        for q in range(1, p):\n",
    "            a = 2 * p * q\n",
    "            b = p**2 - q**2\n",
    "            d = p**2 + q**2\n",
    "            triples.append((p, q, a, b, d))\n",
    "    return triples\n",
    "\n",
    "n = 10  # ここではpとqの範囲を1から10までとしています。\n",
    "triples = find_pythagorean_triples(n)\n",
    "for triple in triples:\n",
    "    print(triple)"
   ]
  },
  {
   "cell_type": "markdown",
   "id": "743ca77a-e867-4eb3-a89f-db957c0af33f",
   "metadata": {},
   "source": [
    "## Plimpton 322の数表を探索する"
   ]
  },
  {
   "cell_type": "code",
   "execution_count": 5,
   "id": "2749b4c3-3359-425a-9be9-a43cb6aadfb6",
   "metadata": {},
   "outputs": [
    {
     "data": {
      "text/markdown": [
       "Plimpton 322は、古代バビロニア（現在のイラク）から出土した粘土板で、紀元前1800年頃に書かれたとされています。この粘土板は、現在はコロンビア大学のレアブック＆マニュスクリプト図書館に所蔵されています。\n",
       "\n",
       "この粘土板は、特に数学史の観点から重要で、最初のピタゴラスの定理の一例として知られています。ピタゴラスの定理は、直角三角形の2つの直角辺の長さの二乗の和が、斜辺の長さの二乗と等しいという定理で、一般的には「$a^2 + b^2 = c^2$」と表現されます。\n",
       "\n",
       "Plimpton 322は、その表が15行からなり、各行が特定の三つ組（$a, b, c$）に対応していることで知られています。これらの三つ組は、すべてピタゴラスの三数（つまり、$a^2 + b^2 = c^2$を満たす正の整数の組）で、粘土板の各行は、その三つ組の$a, b, c$をバビロニアの60進数で表現しています。\n",
       "\n",
       "この粘土板がどのような目的で作成されたのかについては、数学者や歴史家の間で多くの議論があります。一部の研究者は、この粘土板が教育的な目的で使用された可能性を示唆しています。具体的には、学生がピタゴラスの三数の概念を理解し、それを使用して具体的な数学的問題を解決するためのツールとして使用された可能性があります。\n",
       "\n",
       "他の研究者は、この粘土板がより実用的な目的、例えば建築や土地測量に関連した計算を行うために使用された可能性を示唆しています。"
      ],
      "text/plain": [
       "<IPython.core.display.Markdown object>"
      ]
     },
     "execution_count": 5,
     "metadata": {
      "text/markdown": {
       "jupyter_ai": {
        "custom_chain_id": "vioras"
       }
      }
     },
     "output_type": "execute_result"
    }
   ],
   "source": [
    "%%ai vioras\n",
    "Plimpton 322について"
   ]
  },
  {
   "cell_type": "code",
   "execution_count": 8,
   "id": "a77562db-bec2-4025-841e-0588b35b45ba",
   "metadata": {},
   "outputs": [
    {
     "data": {
      "text/markdown": [
       "Pythonを使って、指定された$p$と$q$の範囲でPlimpton 322の数表を生成するプログラムを書くことができます。\n",
       "\n",
       "以下のプログラムは、$p/q$が$9/5$以上$12/5$以下の範囲で、最左のカラムが降順になるようにピタゴラスの三数を計算します。\n",
       "\n",
       "```python\n",
       "def generate_plimpton_322_table():\n",
       "    table = []\n",
       "    for p in range(1, 100):  # pの範囲は適切に調整してください。\n",
       "        for q in range(1, p):\n",
       "            if 9/5 <= p/q <= 12/5:\n",
       "                first_column = 1/4 * (p/q + q/p)**2\n",
       "                b = p**2 - q**2\n",
       "                d = p**2 + q**2\n",
       "                table.append((first_column, b, d))\n",
       "    # 最左のカラムで降順にソート\n",
       "    table.sort(key=lambda x: x[0], reverse=True)\n",
       "    return table\n",
       "\n",
       "table = generate_plimpton_322_table()\n",
       "for row in table:\n",
       "    print(row)\n",
       "```\n",
       "\n",
       "このプログラムは、$p$と$q$が特定の範囲で変化するすべての組み合わせに対して、最初のカラム、$b$、および$d$を計算します。その後、最初のカラムで降順にソートされた表を出力します。\n",
       "\n",
       "このプログラムの実行結果は、Plimpton 322の数表に対応する$(\\frac{1}{4} (p/q + q/p)^2, b, d)$の組み合わせのリストとなります。"
      ],
      "text/plain": [
       "<IPython.core.display.Markdown object>"
      ]
     },
     "execution_count": 8,
     "metadata": {
      "text/markdown": {
       "jupyter_ai": {
        "custom_chain_id": "vioras"
       }
      }
     },
     "output_type": "execute_result"
    }
   ],
   "source": [
    "%%ai vioras\n",
    "Plimpton 322の左のカラムから三つは、\n",
    "既約なピタゴラスの三数の探索に用いた式を使うと\n",
    "$1/4 (p/q + q/p)^2$、$b$、$d$に対応すると考える事ができます。\n",
    "さらに、数表は$9/5 <= p/q <= 12/5$に限定されており、最左のカラムで降順にソートされています。\n",
    "Plimpton 322の数表を生成するプログラムを書いてください"
   ]
  },
  {
   "cell_type": "code",
   "execution_count": 12,
   "id": "abb36dcc-d1cc-4a56-9a24-6c44bb3e8f85",
   "metadata": {},
   "outputs": [
    {
     "name": "stdout",
     "output_type": "stream",
     "text": [
      "(1.90702947845805, 40, 58)\n",
      "(1.815007716049383, 65, 97)\n",
      "(1.5625, 3, 5)\n",
      "(1.5625, 12, 20)\n",
      "(1.5625, 27, 45)\n",
      "(1.5625, 48, 80)\n",
      "(1.3871604938271607, 56, 106)\n"
     ]
    }
   ],
   "source": [
    "def generate_plimpton_322_table():\n",
    "    table = []\n",
    "    for p in range(1, 10):  # pの範囲は適切に調整してください。\n",
    "        for q in range(1, p):\n",
    "            if 9/5 <= p/q <= 12/5:\n",
    "                first_column = 1/4 * (p/q + q/p)**2\n",
    "                b = p**2 - q**2\n",
    "                d = p**2 + q**2\n",
    "                table.append((first_column, b, d))\n",
    "    # 最左のカラムで降順にソート\n",
    "    table.sort(key=lambda x: x[0], reverse=True)\n",
    "    return table\n",
    "\n",
    "table = generate_plimpton_322_table()\n",
    "for row in table:\n",
    "    print(row)"
   ]
  },
  {
   "cell_type": "markdown",
   "id": "d8ec6a25-0623-4bf3-9a00-0ae7697b89ea",
   "metadata": {},
   "source": [
    "### 合同な値 (最左カラムが同じ値) を除く"
   ]
  },
  {
   "cell_type": "markdown",
   "id": "2479dd08-897c-4114-bc76-0b548e28c6fa",
   "metadata": {},
   "source": [
    "* $p$と$q$は互いに素\n",
    "* $p$と$q$は$(2, 3, 5)$の合成数\n",
    "    * [Composite number - Wikipedia](https://en.wikipedia.org/wiki/Composite_number)"
   ]
  },
  {
   "cell_type": "markdown",
   "id": "e529396a-0a0b-4338-893b-90ce95a00be0",
   "metadata": {},
   "source": [
    "```{note}\n",
    "$(2, 3, 5)$は60進法の基数の約数の部分集合です。\n",
    "```"
   ]
  },
  {
   "cell_type": "code",
   "execution_count": 17,
   "id": "3c2f5241-4123-492b-9630-5623d28b7410",
   "metadata": {},
   "outputs": [
    {
     "data": {
      "text/markdown": [
       "指定された条件を満たすように、$p$と$q$が互いに素な$(2, 3, 5)$の合成数であることを検証する関数を追加します。以下のプログラムは、その条件を満たすようにピタゴラスの三数を計算します。\n",
       "\n",
       "```python\n",
       "import math\n",
       "\n",
       "def is_composite_of_2_3_5(n):\n",
       "    for prime in [2, 3, 5]:\n",
       "        while n % prime == 0:\n",
       "            n /= prime\n",
       "    return n == 1\n",
       "\n",
       "def generate_plimpton_322_table():\n",
       "    table = []\n",
       "    for p in range(2, 100):  # pの範囲は適切に調整してください。\n",
       "        if is_composite_of_2_3_5(p):\n",
       "            for q in range(2, p):\n",
       "                if is_composite_of_2_3_5(q) and math.gcd(p, q) == 1 and 9/5 <= p/q <= 12/5:\n",
       "                    first_column = 1/4 * (p/q + q/p)**2\n",
       "                    b = p**2 - q**2\n",
       "                    d = p**2 + q**2\n",
       "                    table.append((first_column, b, d))\n",
       "    # 最左のカラムで降順にソート\n",
       "    table.sort(key=lambda x: x[0], reverse=True)\n",
       "    return table\n",
       "\n",
       "table = generate_plimpton_322_table()\n",
       "for row in table:\n",
       "    print(row)\n",
       "```\n",
       "\n",
       "このプログラムは、$p$と$q$が互いに素な$(2, 3, 5)$の合成数で、かつ$p > q$かつ$p/q$が$9/5$以上$12/5$以下の範囲で変化するすべての組み合わせに対して、最初のカラム、$b$、および$d$を計算します。その後、最初のカラムで降順にソートされた表を出力します。このプログラムの実行結果は、Plimpton 322の数表に対応する$(\\frac{1}{4} (p/q + q/p)^2, b, d)$の組み合わせのリストとなります。"
      ],
      "text/plain": [
       "<IPython.core.display.Markdown object>"
      ]
     },
     "execution_count": 17,
     "metadata": {
      "text/markdown": {
       "jupyter_ai": {
        "custom_chain_id": "vioras"
       }
      }
     },
     "output_type": "execute_result"
    }
   ],
   "source": [
    "%%ai vioras\n",
    "$p, q$を互いに素な$(2, 3, 5)$の合成数に限定してください。"
   ]
  },
  {
   "cell_type": "code",
   "execution_count": 18,
   "id": "e019e856-37d7-40a3-8fb1-2c486ef021be",
   "metadata": {},
   "outputs": [
    {
     "name": "stdout",
     "output_type": "stream",
     "text": [
      "(1.9834027777777774, 119, 169)\n",
      "(1.9491585520886916, 3367, 4825)\n",
      "(1.9188021267361113, 4601, 6649)\n",
      "(1.815007716049383, 65, 97)\n",
      "(1.7851929012345682, 319, 481)\n",
      "(1.7199836762688614, 2291, 3541)\n",
      "(1.6927094184027778, 799, 1249)\n",
      "(1.6426694444444445, 481, 769)\n",
      "(1.5861225661103489, 4961, 8161)\n",
      "(1.4894168402777779, 1679, 2929)\n",
      "(1.450017361111111, 161, 289)\n",
      "(1.4302388203017835, 1771, 3229)\n",
      "(1.3871604938271607, 56, 106)\n"
     ]
    }
   ],
   "source": [
    "import math\n",
    "\n",
    "def is_composite_of_2_3_5(n):\n",
    "    for prime in [2, 3, 5]:\n",
    "        while n % prime == 0:\n",
    "            n /= prime\n",
    "    return n == 1\n",
    "\n",
    "def generate_plimpton_322_table():\n",
    "    table = []\n",
    "    for p in range(2, 100):  # pの範囲は適切に調整してください。\n",
    "        if is_composite_of_2_3_5(p):\n",
    "            for q in range(2, p):\n",
    "                if is_composite_of_2_3_5(q) and math.gcd(p, q) == 1 and 9/5 <= p/q <= 12/5:\n",
    "                    first_column = 1/4 * (p/q + q/p)**2\n",
    "                    b = p**2 - q**2\n",
    "                    d = p**2 + q**2\n",
    "                    table.append((first_column, b, d))\n",
    "    # 最左のカラムで降順にソート\n",
    "    table.sort(key=lambda x: x[0], reverse=True)\n",
    "    return table\n",
    "\n",
    "table = generate_plimpton_322_table()\n",
    "for row in table:\n",
    "    print(row)"
   ]
  },
  {
   "cell_type": "code",
   "execution_count": 21,
   "id": "a1d07dfd-e9e7-49d4-bd7c-a4c13aea2028",
   "metadata": {},
   "outputs": [
    {
     "name": "stdout",
     "output_type": "stream",
     "text": [
      "Collecting lxml\n",
      "  Using cached lxml-5.2.2-cp311-cp311-manylinux_2_28_x86_64.whl.metadata (3.4 kB)\n",
      "Using cached lxml-5.2.2-cp311-cp311-manylinux_2_28_x86_64.whl (5.0 MB)\n",
      "Installing collected packages: lxml\n",
      "Successfully installed lxml-5.2.2\n"
     ]
    }
   ],
   "source": [
    "!pip install -U lxml"
   ]
  },
  {
   "cell_type": "code",
   "execution_count": 22,
   "id": "fa36600b-3bc8-40d3-93bf-63ddb7d9f466",
   "metadata": {
    "tags": []
   },
   "outputs": [],
   "source": [
    "import pandas as pd"
   ]
  },
  {
   "cell_type": "code",
   "execution_count": 23,
   "id": "fefbe0c4-61cf-4939-b95d-44dd569a2d51",
   "metadata": {
    "tags": []
   },
   "outputs": [],
   "source": [
    "dfs = pd.read_html('https://en.wikipedia.org/wiki/Plimpton_322')"
   ]
  },
  {
   "cell_type": "code",
   "execution_count": 25,
   "id": "5b23df25-9e60-4834-aca3-572acb1bf09f",
   "metadata": {
    "tags": []
   },
   "outputs": [
    {
     "data": {
      "text/html": [
       "<div>\n",
       "<style scoped>\n",
       "    .dataframe tbody tr th:only-of-type {\n",
       "        vertical-align: middle;\n",
       "    }\n",
       "\n",
       "    .dataframe tbody tr th {\n",
       "        vertical-align: top;\n",
       "    }\n",
       "\n",
       "    .dataframe thead th {\n",
       "        text-align: right;\n",
       "    }\n",
       "</style>\n",
       "<table border=\"1\" class=\"dataframe\">\n",
       "  <thead>\n",
       "    <tr style=\"text-align: right;\">\n",
       "      <th></th>\n",
       "      <th>or</th>\n",
       "      <th>Short Side</th>\n",
       "      <th>Diagonal</th>\n",
       "      <th>Row #</th>\n",
       "    </tr>\n",
       "  </thead>\n",
       "  <tbody>\n",
       "    <tr>\n",
       "      <th>0</th>\n",
       "      <td>(1).9834028</td>\n",
       "      <td>119</td>\n",
       "      <td>169</td>\n",
       "      <td>1</td>\n",
       "    </tr>\n",
       "    <tr>\n",
       "      <th>1</th>\n",
       "      <td>(1).9491586</td>\n",
       "      <td>3367</td>\n",
       "      <td>4825</td>\n",
       "      <td>2</td>\n",
       "    </tr>\n",
       "    <tr>\n",
       "      <th>2</th>\n",
       "      <td>(1).9188021</td>\n",
       "      <td>4601</td>\n",
       "      <td>6649</td>\n",
       "      <td>3</td>\n",
       "    </tr>\n",
       "    <tr>\n",
       "      <th>3</th>\n",
       "      <td>(1).8862479</td>\n",
       "      <td>12709</td>\n",
       "      <td>18541</td>\n",
       "      <td>4</td>\n",
       "    </tr>\n",
       "    <tr>\n",
       "      <th>4</th>\n",
       "      <td>(1).8150077</td>\n",
       "      <td>65</td>\n",
       "      <td>97</td>\n",
       "      <td>5</td>\n",
       "    </tr>\n",
       "    <tr>\n",
       "      <th>5</th>\n",
       "      <td>(1).7851929</td>\n",
       "      <td>319</td>\n",
       "      <td>481</td>\n",
       "      <td>6</td>\n",
       "    </tr>\n",
       "    <tr>\n",
       "      <th>6</th>\n",
       "      <td>(1).7199837</td>\n",
       "      <td>2291</td>\n",
       "      <td>3541</td>\n",
       "      <td>7</td>\n",
       "    </tr>\n",
       "    <tr>\n",
       "      <th>7</th>\n",
       "      <td>(1).6927094</td>\n",
       "      <td>799</td>\n",
       "      <td>1249</td>\n",
       "      <td>8</td>\n",
       "    </tr>\n",
       "    <tr>\n",
       "      <th>8</th>\n",
       "      <td>(1).6426694</td>\n",
       "      <td>481</td>\n",
       "      <td>769</td>\n",
       "      <td>9</td>\n",
       "    </tr>\n",
       "    <tr>\n",
       "      <th>9</th>\n",
       "      <td>(1).5861226</td>\n",
       "      <td>4961</td>\n",
       "      <td>8161</td>\n",
       "      <td>10</td>\n",
       "    </tr>\n",
       "    <tr>\n",
       "      <th>10</th>\n",
       "      <td>(1).5625</td>\n",
       "      <td>45*</td>\n",
       "      <td>75*</td>\n",
       "      <td>11</td>\n",
       "    </tr>\n",
       "    <tr>\n",
       "      <th>11</th>\n",
       "      <td>(1).4894168</td>\n",
       "      <td>1679</td>\n",
       "      <td>2929</td>\n",
       "      <td>12</td>\n",
       "    </tr>\n",
       "    <tr>\n",
       "      <th>12</th>\n",
       "      <td>(1).4500174</td>\n",
       "      <td>161</td>\n",
       "      <td>289</td>\n",
       "      <td>13</td>\n",
       "    </tr>\n",
       "    <tr>\n",
       "      <th>13</th>\n",
       "      <td>(1).4302388</td>\n",
       "      <td>1771</td>\n",
       "      <td>3229</td>\n",
       "      <td>14</td>\n",
       "    </tr>\n",
       "    <tr>\n",
       "      <th>14</th>\n",
       "      <td>(1).3871605</td>\n",
       "      <td>56*</td>\n",
       "      <td>106*</td>\n",
       "      <td>15</td>\n",
       "    </tr>\n",
       "  </tbody>\n",
       "</table>\n",
       "</div>"
      ],
      "text/plain": [
       "             or Short Side Diagonal  Row #\n",
       "0   (1).9834028        119      169      1\n",
       "1   (1).9491586       3367     4825      2\n",
       "2   (1).9188021       4601     6649      3\n",
       "3   (1).8862479      12709    18541      4\n",
       "4   (1).8150077         65       97      5\n",
       "5   (1).7851929        319      481      6\n",
       "6   (1).7199837       2291     3541      7\n",
       "7   (1).6927094        799     1249      8\n",
       "8   (1).6426694        481      769      9\n",
       "9   (1).5861226       4961     8161     10\n",
       "10     (1).5625        45*      75*     11\n",
       "11  (1).4894168       1679     2929     12\n",
       "12  (1).4500174        161      289     13\n",
       "13  (1).4302388       1771     3229     14\n",
       "14  (1).3871605        56*     106*     15"
      ]
     },
     "execution_count": 25,
     "metadata": {},
     "output_type": "execute_result"
    }
   ],
   "source": [
    "dfs[2]"
   ]
  },
  {
   "cell_type": "code",
   "execution_count": null,
   "id": "442af663-080a-4e56-a090-4d35b00fbd34",
   "metadata": {},
   "outputs": [],
   "source": []
  }
 ],
 "metadata": {
  "kernelspec": {
   "display_name": "Python 3 (ipykernel)",
   "language": "python",
   "name": "python3"
  },
  "language_info": {
   "codemirror_mode": {
    "name": "ipython",
    "version": 3
   },
   "file_extension": ".py",
   "mimetype": "text/x-python",
   "name": "python",
   "nbconvert_exporter": "python",
   "pygments_lexer": "ipython3",
   "version": "3.11.8"
  }
 },
 "nbformat": 4,
 "nbformat_minor": 5
}
