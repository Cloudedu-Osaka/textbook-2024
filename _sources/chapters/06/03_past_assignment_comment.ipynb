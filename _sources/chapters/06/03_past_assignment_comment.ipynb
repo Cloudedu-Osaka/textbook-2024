{
 "cells": [
  {
   "cell_type": "markdown",
   "id": "fa97f92b-abe0-476f-9dce-29d6098cf2dc",
   "metadata": {},
   "source": [
    "# 課題の解説\n",
    "## 課題 1: 位取り記法の加算"
   ]
  },
  {
   "cell_type": "markdown",
   "id": "c6d941aa-3a08-4a53-850f-39abfcfcfdfd",
   "metadata": {},
   "source": [
    "* [Addition - Wikipedia](https://en.wikipedia.org/wiki/Addition)\n",
    "    1. それぞれの数字を文字列に変換する\n",
    "    2. 各桁を逆順にしてから加算を行う\n",
    "    3. 最後に結果を再び逆順にする"
   ]
  },
  {
   "cell_type": "code",
   "execution_count": 60,
   "id": "e6839078-3750-456a-9163-d3628665e55e",
   "metadata": {},
   "outputs": [
    {
     "data": {
      "text/plain": [
       "('12345', '678')"
      ]
     },
     "execution_count": 60,
     "metadata": {},
     "output_type": "execute_result"
    }
   ],
   "source": [
    "# 1. 数字を文字列に変換\n",
    "num1, num2 = 12345, 678\n",
    "str(num1), str(num2)"
   ]
  },
  {
   "cell_type": "code",
   "execution_count": 61,
   "id": "3ac83a5f-84f1-488b-9d86-d14e7b46eef6",
   "metadata": {},
   "outputs": [
    {
     "data": {
      "text/plain": [
       "('54321', '876')"
      ]
     },
     "execution_count": 61,
     "metadata": {},
     "output_type": "execute_result"
    }
   ],
   "source": [
    "# 2.1 各桁を逆順にする\n",
    "str(num1)[::-1], str(num2)[::-1]"
   ]
  },
  {
   "cell_type": "code",
   "execution_count": 62,
   "id": "ec4b8e1f-be15-45eb-a537-26ad24f3576d",
   "metadata": {},
   "outputs": [
    {
     "data": {
      "text/plain": [
       "[('5', '8'), ('4', '7'), ('3', '6')]"
      ]
     },
     "execution_count": 62,
     "metadata": {},
     "output_type": "execute_result"
    }
   ],
   "source": [
    "# 2.2 下の桁から処理する\n",
    "list(zip(*(str(num1)[::-1], str(num2)[::-1])))"
   ]
  },
  {
   "cell_type": "markdown",
   "id": "572e1f57-6239-4a57-a6f7-5bc520cbf308",
   "metadata": {},
   "source": [
    "```{note}\n",
    "組み込みの`zip()`関数は長さの違うリストは切り詰められます\n",
    "```"
   ]
  },
  {
   "cell_type": "code",
   "execution_count": 59,
   "id": "f0138989-e276-443f-b781-26f970a25f86",
   "metadata": {},
   "outputs": [
    {
     "data": {
      "text/plain": [
       "\u001b[0;31mInit signature:\u001b[0m \u001b[0mzip\u001b[0m\u001b[0;34m(\u001b[0m\u001b[0mself\u001b[0m\u001b[0;34m,\u001b[0m \u001b[0;34m/\u001b[0m\u001b[0;34m,\u001b[0m \u001b[0;34m*\u001b[0m\u001b[0margs\u001b[0m\u001b[0;34m,\u001b[0m \u001b[0;34m**\u001b[0m\u001b[0mkwargs\u001b[0m\u001b[0;34m)\u001b[0m\u001b[0;34m\u001b[0m\u001b[0;34m\u001b[0m\u001b[0m\n",
       "\u001b[0;31mDocstring:\u001b[0m     \n",
       "zip(*iterables, strict=False) --> Yield tuples until an input is exhausted.\n",
       "\n",
       "   >>> list(zip('abcdefg', range(3), range(4)))\n",
       "   [('a', 0, 0), ('b', 1, 1), ('c', 2, 2)]\n",
       "\n",
       "The zip object yields n-length tuples, where n is the number of iterables\n",
       "passed as positional arguments to zip().  The i-th element in every tuple\n",
       "comes from the i-th iterable argument to zip().  This continues until the\n",
       "shortest argument is exhausted.\n",
       "\n",
       "If strict is true and one of the arguments is exhausted before the others,\n",
       "raise a ValueError.\n",
       "\u001b[0;31mType:\u001b[0m           type\n",
       "\u001b[0;31mSubclasses:\u001b[0m     "
      ]
     },
     "metadata": {},
     "output_type": "display_data"
    }
   ],
   "source": [
    "zip?"
   ]
  },
  {
   "cell_type": "code",
   "execution_count": 63,
   "id": "005b5a33-8488-4d66-9f1c-5491c4b111dc",
   "metadata": {},
   "outputs": [
    {
     "data": {
      "text/plain": [
       "[('5', '8'), ('4', '7'), ('3', '6'), ('2', '0'), ('1', '0')]"
      ]
     },
     "execution_count": 63,
     "metadata": {},
     "output_type": "execute_result"
    }
   ],
   "source": [
    "# 2.2 下の桁から処理する際に長い桁に合わせる\n",
    "import itertools\n",
    "\n",
    "list(itertools.zip_longest(*(str(num1)[::-1], str(num2)[::-1]), fillvalue='0'))"
   ]
  },
  {
   "cell_type": "code",
   "execution_count": 58,
   "id": "679dc166-1c0d-4f3e-80ae-25a807b42e5f",
   "metadata": {},
   "outputs": [
    {
     "data": {
      "text/plain": [
       "\u001b[0;31mInit signature:\u001b[0m \u001b[0mitertools\u001b[0m\u001b[0;34m.\u001b[0m\u001b[0mzip_longest\u001b[0m\u001b[0;34m(\u001b[0m\u001b[0mself\u001b[0m\u001b[0;34m,\u001b[0m \u001b[0;34m/\u001b[0m\u001b[0;34m,\u001b[0m \u001b[0;34m*\u001b[0m\u001b[0margs\u001b[0m\u001b[0;34m,\u001b[0m \u001b[0;34m**\u001b[0m\u001b[0mkwargs\u001b[0m\u001b[0;34m)\u001b[0m\u001b[0;34m\u001b[0m\u001b[0;34m\u001b[0m\u001b[0m\n",
       "\u001b[0;31mDocstring:\u001b[0m     \n",
       "zip_longest(iter1 [,iter2 [...]], [fillvalue=None]) --> zip_longest object\n",
       "\n",
       "Return a zip_longest object whose .__next__() method returns a tuple where\n",
       "the i-th element comes from the i-th iterable argument.  The .__next__()\n",
       "method continues until the longest iterable in the argument sequence\n",
       "is exhausted and then it raises StopIteration.  When the shorter iterables\n",
       "are exhausted, the fillvalue is substituted in their place.  The fillvalue\n",
       "defaults to None or can be specified by a keyword argument.\n",
       "\u001b[0;31mType:\u001b[0m           type\n",
       "\u001b[0;31mSubclasses:\u001b[0m     "
      ]
     },
     "metadata": {},
     "output_type": "display_data"
    }
   ],
   "source": [
    "itertools.zip_longest?"
   ]
  },
  {
   "cell_type": "code",
   "execution_count": 65,
   "id": "d958392d-60bc-465b-963b-d1dde1c3c301",
   "metadata": {},
   "outputs": [
    {
     "name": "stdout",
     "output_type": "stream",
     "text": [
      "13\n",
      "11\n",
      "9\n",
      "2\n",
      "1\n"
     ]
    }
   ],
   "source": [
    "# 2.3 繰り上がりを考慮しない各桁の加算\n",
    "for d in itertools.zip_longest(*(str(num1)[::-1], str(num2)[::-1]), fillvalue='0'):\n",
    "    print(sum(map(int, d)))"
   ]
  },
  {
   "cell_type": "markdown",
   "id": "89210811-b2bc-477d-aba3-97a1af483849",
   "metadata": {},
   "source": [
    "```{note}\n",
    "繰り上がりは下の桁から順次処理する必要があり、並行処理はできません\n",
    "```"
   ]
  },
  {
   "cell_type": "code",
   "execution_count": 1,
   "id": "8b9b7f25-f488-4eb9-a05d-1c0ba753ea52",
   "metadata": {},
   "outputs": [
    {
     "data": {
      "text/markdown": [
       "これらの2つのプログラムは非常に似ていますが、使用する数値の形式が異なります。\n",
       "\n",
       "- `add_two_numbers_str`関数は、2つの整数を文字列に変換し、その文字列を逆順にします。そして、各桁を順番に加算し、必要に応じて繰り上がりを行います。この関数は、2つの整数を十進数として扱います。\n",
       "\n",
       "- 一方、`add_two_binary_numbers`関数は、2つの整数を二進数の文字列に変換し、その文字列を逆順にします。そして、各ビット（0または1）を順番に加算し、必要に応じて繰り上がりを行います。この関数は、2つの整数を二進数として扱います。\n",
       "\n",
       "基本的なアルゴリズムは同じですが、`add_two_numbers_str`は十進加算を行い、`add_two_binary_numbers`は二進加算を行うという違いがあります。具体的には、加算後の結果が10（`add_two_numbers_str`）または2（`add_two_binary_numbers`）以上になった場合に繰り上がりを行い、それぞれ10または2で割った余りを現在の桁の結果としています。"
      ],
      "text/plain": [
       "<IPython.core.display.Markdown object>"
      ]
     },
     "execution_count": 1,
     "metadata": {
      "text/markdown": {
       "jupyter_ai": {
        "custom_chain_id": "vioras"
       }
      }
     },
     "output_type": "execute_result"
    }
   ],
   "source": [
    "%%ai vioras\n",
    "次の2つのプログラムの違いを探してください\n",
    "---\n",
    "def add_two_numbers_str(num1, num2):\n",
    "    # 数字を文字列に変換し、逆順にする\n",
    "    num1 = str(num1)[::-1]\n",
    "    num2 = str(num2)[::-1]\n",
    "    \n",
    "    # 2つの数の長さを揃える\n",
    "    max_len = max(len(num1), len(num2))\n",
    "    num1 = num1.ljust(max_len, '0') \n",
    "    num2 = num2.ljust(max_len, '0')\n",
    "    \n",
    "    carry = 0\n",
    "    result = ''\n",
    "\n",
    "    for i in range(max_len):\n",
    "        temp = int(num1[i]) + int(num2[i]) + carry\n",
    "        result += str(temp % 10)\n",
    "        carry = temp // 10\n",
    "\n",
    "    if carry > 0:\n",
    "        result += str(carry)\n",
    "    \n",
    "    # 結果を逆順にして返す\n",
    "    return result[::-1]\n",
    "---\n",
    "def add_two_binary_numbers(num1, num2):\n",
    "    # 数字を二進数の文字列に変換し、逆順にする\n",
    "    num1 = bin(num1)[2:][::-1]\n",
    "    num2 = bin(num2)[2:][::-1]\n",
    "    \n",
    "    # 2つの数の長さを揃える\n",
    "    max_len = max(len(num1), len(num2))\n",
    "    num1 = num1.ljust(max_len, '0')\n",
    "    num2 = num2.ljust(max_len, '0')\n",
    "    \n",
    "    carry = 0\n",
    "    result = ''\n",
    "\n",
    "    for i in range(max_len):\n",
    "        temp = int(num1[i]) + int(num2[i]) + carry\n",
    "        result += str(temp % 2)\n",
    "        carry = temp // 2\n",
    "\n",
    "    if carry > 0:\n",
    "        result += str(carry)\n",
    "    \n",
    "    # 結果を逆順にして返す\n",
    "    return result[::-1]\n",
    "---"
   ]
  },
  {
   "cell_type": "code",
   "execution_count": 2,
   "id": "517734e3-e82a-4ba7-b3b5-830759c1e7e5",
   "metadata": {},
   "outputs": [
    {
     "data": {
      "text/markdown": [
       "もちろんです。それでは、2つの関数の具体的な違いを行ごとに見ていきましょう。\n",
       "\n",
       "1. 数字を文字列に変換する行:\n",
       "\n",
       "    ```python\n",
       "    num1 = str(num1)[::-1]  # add_two_numbers_str\n",
       "    num1 = bin(num1)[2:][::-1]  # add_two_binary_numbers\n",
       "    ```\n",
       "    `add_two_numbers_str`では、整数をそのまま文字列に変換します。一方、`add_two_binary_numbers`では、整数を二進数の文字列に変換します。Pythonの`bin`関数は、数値を`'0b'`で始まる二進数の文字列に変換するため、`[2:]`で最初の2文字をスキップしています。\n",
       "\n",
       "2. 各桁を加算する行:\n",
       "\n",
       "    ```python\n",
       "    temp = int(num1[i]) + int(num2[i]) + carry  # add_two_numbers_str and add_two_binary_numbers\n",
       "    ```\n",
       "    これらの行は、コードは同じですが動作が異なります。`add_two_numbers_str`では、各桁の値（0～9）を加算します。一方で、`add_two_binary_numbers`では、各ビットの値（0または1）を加算します。\n",
       "\n",
       "3. 結果と繰り上がりを計算する行:\n",
       "\n",
       "    ```python\n",
       "    result += str(temp % 10)  # add_two_numbers_str\n",
       "    carry = temp // 10  # add_two_numbers_str\n",
       "    \n",
       "    result += str(temp % 2)  # add_two_binary_numbers\n",
       "    carry = temp // 2  # add_two_binary_numbers\n",
       "    ```\n",
       "    `add_two_numbers_str`では、10で割った余りが現在の桁の結果となり、10での整数除算の結果が次の繰り上がりとなります。これは十進数の加算に対応しています。\n",
       "\n",
       "    一方、`add_two_binary_numbers`では、2で割った余りが現在のビットの結果となり、2での整数除算の結果が次の繰り上がりとなります。これは二進数の加算に対応しています。\n",
       "\n",
       "これらの違いにより、`add_two_numbers_str`関数は十進数の加算を行い、`add_two_binary_numbers`関数は二進数の加算を行います。"
      ],
      "text/plain": [
       "<IPython.core.display.Markdown object>"
      ]
     },
     "execution_count": 2,
     "metadata": {
      "text/markdown": {
       "jupyter_ai": {
        "custom_chain_id": "vioras"
       }
      }
     },
     "output_type": "execute_result"
    }
   ],
   "source": [
    "%%ai vioras\n",
    "具体的に異なる行を示し、詳細に動作の違いを説明してください"
   ]
  },
  {
   "cell_type": "code",
   "execution_count": 13,
   "id": "44d180be-21f2-493d-909b-4f7c3f728a73",
   "metadata": {},
   "outputs": [
    {
     "data": {
      "text/plain": [
       "('123', '0b1111011')"
      ]
     },
     "execution_count": 13,
     "metadata": {},
     "output_type": "execute_result"
    }
   ],
   "source": [
    "num=123\n",
    "str(num), bin(num)"
   ]
  },
  {
   "cell_type": "code",
   "execution_count": 19,
   "id": "e52e9d1c-d5bd-49fe-a63e-0a164e3c0d99",
   "metadata": {},
   "outputs": [
    {
     "data": {
      "text/plain": [
       "[str, str]"
      ]
     },
     "execution_count": 19,
     "metadata": {},
     "output_type": "execute_result"
    }
   ],
   "source": [
    "list(map(type, (str(num), bin(num))))"
   ]
  },
  {
   "cell_type": "code",
   "execution_count": 20,
   "id": "5d95d2d0-724b-4642-87c9-5b0c4cc34beb",
   "metadata": {},
   "outputs": [
    {
     "data": {
      "text/plain": [
       "int"
      ]
     },
     "execution_count": 20,
     "metadata": {},
     "output_type": "execute_result"
    }
   ],
   "source": [
    "type(num)"
   ]
  },
  {
   "cell_type": "code",
   "execution_count": 23,
   "id": "1a173e9e-0d90-4578-8efd-55b832a91bbd",
   "metadata": {},
   "outputs": [
    {
     "data": {
      "text/plain": [
       "('0b1111011', '1111011', '1101111')"
      ]
     },
     "execution_count": 23,
     "metadata": {},
     "output_type": "execute_result"
    }
   ],
   "source": [
    "bin(num), bin(num)[2:], bin(num)[2:][::-1]"
   ]
  },
  {
   "cell_type": "code",
   "execution_count": 28,
   "id": "04f8ed57-aa25-4a61-8f7a-ef146a2ad065",
   "metadata": {},
   "outputs": [
    {
     "data": {
      "text/plain": [
       "1"
      ]
     },
     "execution_count": 28,
     "metadata": {},
     "output_type": "execute_result"
    }
   ],
   "source": [
    "int(bin(num)[2:][::-1][1])"
   ]
  },
  {
   "cell_type": "code",
   "execution_count": 30,
   "id": "49722309-b192-414a-8d6f-c3fa33a8921f",
   "metadata": {},
   "outputs": [
    {
     "data": {
      "text/plain": [
       "15"
      ]
     },
     "execution_count": 30,
     "metadata": {},
     "output_type": "execute_result"
    }
   ],
   "source": [
    "int('F', 16)"
   ]
  },
  {
   "cell_type": "code",
   "execution_count": 15,
   "id": "e27160e8-a923-4213-9873-992b356af5e3",
   "metadata": {},
   "outputs": [
    {
     "data": {
      "text/plain": [
       "\u001b[0;31mInit signature:\u001b[0m \u001b[0mstr\u001b[0m\u001b[0;34m(\u001b[0m\u001b[0mself\u001b[0m\u001b[0;34m,\u001b[0m \u001b[0;34m/\u001b[0m\u001b[0;34m,\u001b[0m \u001b[0;34m*\u001b[0m\u001b[0margs\u001b[0m\u001b[0;34m,\u001b[0m \u001b[0;34m**\u001b[0m\u001b[0mkwargs\u001b[0m\u001b[0;34m)\u001b[0m\u001b[0;34m\u001b[0m\u001b[0;34m\u001b[0m\u001b[0m\n",
       "\u001b[0;31mDocstring:\u001b[0m     \n",
       "str(object='') -> str\n",
       "str(bytes_or_buffer[, encoding[, errors]]) -> str\n",
       "\n",
       "Create a new string object from the given object. If encoding or\n",
       "errors is specified, then the object must expose a data buffer\n",
       "that will be decoded using the given encoding and error handler.\n",
       "Otherwise, returns the result of object.__str__() (if defined)\n",
       "or repr(object).\n",
       "encoding defaults to sys.getdefaultencoding().\n",
       "errors defaults to 'strict'.\n",
       "\u001b[0;31mType:\u001b[0m           type\n",
       "\u001b[0;31mSubclasses:\u001b[0m     StrEnum, DeferredConfigString, _rstr, _ScriptTarget, _ModuleTarget, LSString, include, Keys, InputMode, ColorDepth, ..."
      ]
     },
     "metadata": {},
     "output_type": "display_data"
    }
   ],
   "source": [
    "str?"
   ]
  },
  {
   "cell_type": "code",
   "execution_count": 14,
   "id": "8e6833f5-3eb1-48d5-8ed6-41a4e1d9b347",
   "metadata": {},
   "outputs": [
    {
     "data": {
      "text/plain": [
       "\u001b[0;31mSignature:\u001b[0m \u001b[0mbin\u001b[0m\u001b[0;34m(\u001b[0m\u001b[0mnumber\u001b[0m\u001b[0;34m,\u001b[0m \u001b[0;34m/\u001b[0m\u001b[0;34m)\u001b[0m\u001b[0;34m\u001b[0m\u001b[0;34m\u001b[0m\u001b[0m\n",
       "\u001b[0;31mDocstring:\u001b[0m\n",
       "Return the binary representation of an integer.\n",
       "\n",
       ">>> bin(2796202)\n",
       "'0b1010101010101010101010'\n",
       "\u001b[0;31mType:\u001b[0m      builtin_function_or_method"
      ]
     },
     "metadata": {},
     "output_type": "display_data"
    }
   ],
   "source": [
    "bin?"
   ]
  },
  {
   "cell_type": "code",
   "execution_count": 29,
   "id": "fb14357b-83b5-418c-9a33-3f70a75458f2",
   "metadata": {},
   "outputs": [
    {
     "data": {
      "text/plain": [
       "\u001b[0;31mInit signature:\u001b[0m \u001b[0mint\u001b[0m\u001b[0;34m(\u001b[0m\u001b[0mself\u001b[0m\u001b[0;34m,\u001b[0m \u001b[0;34m/\u001b[0m\u001b[0;34m,\u001b[0m \u001b[0;34m*\u001b[0m\u001b[0margs\u001b[0m\u001b[0;34m,\u001b[0m \u001b[0;34m**\u001b[0m\u001b[0mkwargs\u001b[0m\u001b[0;34m)\u001b[0m\u001b[0;34m\u001b[0m\u001b[0;34m\u001b[0m\u001b[0m\n",
       "\u001b[0;31mDocstring:\u001b[0m     \n",
       "int([x]) -> integer\n",
       "int(x, base=10) -> integer\n",
       "\n",
       "Convert a number or string to an integer, or return 0 if no arguments\n",
       "are given.  If x is a number, return x.__int__().  For floating point\n",
       "numbers, this truncates towards zero.\n",
       "\n",
       "If x is not a number or if base is given, then x must be a string,\n",
       "bytes, or bytearray instance representing an integer literal in the\n",
       "given base.  The literal can be preceded by '+' or '-' and be surrounded\n",
       "by whitespace.  The base defaults to 10.  Valid bases are 0 and 2-36.\n",
       "Base 0 means to interpret the base from the string as an integer literal.\n",
       ">>> int('0b100', base=0)\n",
       "4\n",
       "\u001b[0;31mType:\u001b[0m           type\n",
       "\u001b[0;31mSubclasses:\u001b[0m     bool, IntEnum, IntFlag, _NamedIntConstant, StrictBool, ConstrainedInt, ByteSize, _CacheHashWrapper, symbol"
      ]
     },
     "metadata": {},
     "output_type": "display_data"
    }
   ],
   "source": [
    "int?"
   ]
  },
  {
   "cell_type": "markdown",
   "id": "386281a9-e13e-4784-a715-8f2d6032e63c",
   "metadata": {},
   "source": [
    "### 汎用化"
   ]
  },
  {
   "cell_type": "code",
   "execution_count": 3,
   "id": "c64ede7f-a02d-42ad-bd3a-a36de36d437a",
   "metadata": {},
   "outputs": [
    {
     "data": {
      "text/markdown": [
       "もちろんです。基数（radix）を引数として取る関数を作成し、その基数に基づいて加算を行うことが可能です。以下に、そのような関数の一例を示します：\n",
       "\n",
       "```python\n",
       "def add_numbers_in_radix(num1, num2, radix):\n",
       "    # 数字を指定された基数の文字列に変換し、逆順にする\n",
       "    num1 = int_to_base(num1, radix)[::-1]\n",
       "    num2 = int_to_base(num2, radix)[::-1]\n",
       "    \n",
       "    # 2つの数の長さを揃える\n",
       "    max_len = max(len(num1), len(num2))\n",
       "    num1 = num1.ljust(max_len, '0')\n",
       "    num2 = num2.ljust(max_len, '0')\n",
       "    \n",
       "    carry = 0\n",
       "    result = ''\n",
       "\n",
       "    for i in range(max_len):\n",
       "        temp = int(num1[i], radix) + int(num2[i], radix) + carry\n",
       "        result += int_to_base(temp % radix, radix)\n",
       "        carry = temp // radix\n",
       "\n",
       "    if carry > 0:\n",
       "        result += int_to_base(carry, radix)\n",
       "    \n",
       "    # 結果を逆順にして返す\n",
       "    return result[::-1]\n",
       "\n",
       "def int_to_base(num, base):\n",
       "    # Convert an integer to a string in the given base\n",
       "    # This function is used because the built-in `bin` and `hex` functions add prefixes\n",
       "    alphabet = \"0123456789ABCDEFGHIJKLMNOPQRSTUVWXYZ\"\n",
       "    if num < base:\n",
       "        return alphabet[num]\n",
       "    else:\n",
       "        return int_to_base(num // base, base) + alphabet[num % base]\n",
       "```\n",
       "\n",
       "この`add_numbers_in_radix`関数は、指定された基数（radix）に基づいて2つの数字を加算します。基数は10（十進数）や2（二進数）など、任意の整数を指定できます。\n",
       "\n",
       "また、`int_to_base`関数は、整数を指定された基数の文字列に変換します。これは組み込みの`bin`や`hex`関数がプレフィックス（`'0b'`や`'0x'`）を追加するため、その代わりに使用します。"
      ],
      "text/plain": [
       "<IPython.core.display.Markdown object>"
      ]
     },
     "execution_count": 3,
     "metadata": {
      "text/markdown": {
       "jupyter_ai": {
        "custom_chain_id": "vioras"
       }
      }
     },
     "output_type": "execute_result"
    }
   ],
   "source": [
    "%%ai vioras\n",
    "基数を引数とする関数に統合できますか？"
   ]
  },
  {
   "cell_type": "code",
   "execution_count": 4,
   "id": "b537cb23-d1b2-43d9-b012-336cdf671385",
   "metadata": {},
   "outputs": [],
   "source": [
    "def add_numbers_in_radix(num1, num2, radix):\n",
    "    # 数字を指定された基数の文字列に変換し、逆順にする\n",
    "    num1 = int_to_base(num1, radix)[::-1]\n",
    "    num2 = int_to_base(num2, radix)[::-1]\n",
    "    \n",
    "    # 2つの数の長さを揃える\n",
    "    max_len = max(len(num1), len(num2))\n",
    "    num1 = num1.ljust(max_len, '0')\n",
    "    num2 = num2.ljust(max_len, '0')\n",
    "    \n",
    "    carry = 0\n",
    "    result = ''\n",
    "\n",
    "    for i in range(max_len):\n",
    "        temp = int(num1[i], radix) + int(num2[i], radix) + carry\n",
    "        result += int_to_base(temp % radix, radix)\n",
    "        carry = temp // radix\n",
    "\n",
    "    if carry > 0:\n",
    "        result += int_to_base(carry, radix)\n",
    "    \n",
    "    # 結果を逆順にして返す\n",
    "    return result[::-1]\n",
    "\n",
    "def int_to_base(num, base):\n",
    "    # Convert an integer to a string in the given base\n",
    "    # This function is used because the built-in `bin` and `hex` functions add prefixes\n",
    "    alphabet = \"0123456789ABCDEFGHIJKLMNOPQRSTUVWXYZ\"\n",
    "    if num < base:\n",
    "        return alphabet[num]\n",
    "    else:\n",
    "        return int_to_base(num // base, base) + alphabet[num % base]"
   ]
  },
  {
   "cell_type": "code",
   "execution_count": 5,
   "id": "2f09e9ca-0083-4e5f-9f90-42732b3d0318",
   "metadata": {},
   "outputs": [
    {
     "data": {
      "text/plain": [
       "'1111011'"
      ]
     },
     "execution_count": 5,
     "metadata": {},
     "output_type": "execute_result"
    }
   ],
   "source": [
    "int_to_base(123, 2)"
   ]
  },
  {
   "cell_type": "code",
   "execution_count": 6,
   "id": "0c2fd4be-31f5-4368-9a47-4393dac96802",
   "metadata": {},
   "outputs": [
    {
     "data": {
      "text/plain": [
       "'173'"
      ]
     },
     "execution_count": 6,
     "metadata": {},
     "output_type": "execute_result"
    }
   ],
   "source": [
    "int_to_base(123, 8)"
   ]
  },
  {
   "cell_type": "code",
   "execution_count": 7,
   "id": "80662553-5ce0-4176-804c-e3b476d0ce34",
   "metadata": {},
   "outputs": [
    {
     "data": {
      "text/plain": [
       "'7B'"
      ]
     },
     "execution_count": 7,
     "metadata": {},
     "output_type": "execute_result"
    }
   ],
   "source": [
    "int_to_base(123, 16)"
   ]
  },
  {
   "cell_type": "code",
   "execution_count": 8,
   "id": "1f3b6cb3-939d-4334-82c6-85eed84d6587",
   "metadata": {},
   "outputs": [
    {
     "data": {
      "text/markdown": [
       "Pythonの標準ライブラリには、`int_to_base`と同じ機能を持つ関数は存在しません。しかし、Pythonの`format`, `bin`, `oct`, `hex`などの関数を使用すると、整数を異なる基数の文字列（二進数、八進数、十六進数など）に変換することが可能です。\n",
       "\n",
       "しかし、これらの関数は特定の基数（2, 8, 16）でしか使用できず、また二進数と八進数の表現はそれぞれ'0b'と'0o'のプレフィックスが付きます。\n",
       "\n",
       "そのため、任意の基数で整数を文字列に変換するためには、カスタム関数を作成する必要があります。その一例が先ほど示した`int_to_base`関数です。\n",
       "\n",
       "一方、Pythonの`int`関数は、文字列と基数を引数に取ることで、その基数の文字列を整数に変換することができます。例えば、`int('1010', 2)`は二進数の'1010'を整数の10に変換します。"
      ],
      "text/plain": [
       "<IPython.core.display.Markdown object>"
      ]
     },
     "execution_count": 8,
     "metadata": {
      "text/markdown": {
       "jupyter_ai": {
        "custom_chain_id": "vioras"
       }
      }
     },
     "output_type": "execute_result"
    }
   ],
   "source": [
    "%%ai vioras\n",
    "`int_to_base`はPythonのライブラリにはありませんか？"
   ]
  },
  {
   "cell_type": "markdown",
   "id": "4b968c10-33f9-4107-913d-37ed99f46f6f",
   "metadata": {},
   "source": [
    "## 二進数の加算"
   ]
  },
  {
   "cell_type": "code",
   "execution_count": 9,
   "id": "fbcee6e2-1c4b-482a-8f8b-c4adc81186e0",
   "metadata": {},
   "outputs": [
    {
     "data": {
      "text/markdown": [
       "2つの関数はどちらも二進数を加算する機能を持ちますが、その内部の処理方法が異なります。\n",
       "\n",
       "1. 数字を二進数の文字列に変換する部分：\n",
       "\n",
       "    ```python\n",
       "    num1 = bin(num1)[2:][::-1]  # 第1の関数\n",
       "    num1 = bin(num1)[2:]  # 第2の関数\n",
       "    ```\n",
       "    第1の関数では、二進数の文字列を逆順にしています。それに対して、第2の関数では、二進数の文字列をそのまま使用します。\n",
       "\n",
       "2. 二進数の加算を行う部分：\n",
       "\n",
       "    ```python\n",
       "    temp = int(num1[i]) + int(num2[i]) + carry  # 第1の関数\n",
       "    result += str(temp % 2)\n",
       "    carry = temp // 2\n",
       "    \n",
       "    bit1 = int(num1[i])  # 第2の関数\n",
       "    bit2 = int(num2[i])\n",
       "    sum_bit = bit1 ^ bit2 ^ carry\n",
       "    carry = (bit1 & bit2) | (carry & (bit1 ^ bit2))\n",
       "    result = str(sum_bit) + result\n",
       "    ```\n",
       "    第1の関数では、各桁を順番に加算し（`int(num1[i]) + int(num2[i]) + carry`）、その結果を2で割った余り（`temp % 2`）と商（`temp // 2`）を次の桁の計算に使用しています。これは、通常の十進数の加算と同様の方法です。\n",
       "\n",
       "    一方、第2の関数では、XOR演算(`^`)とAND演算(`&`)を使用して各ビットの加算と桁上がりを計算しています。これは、ビットレベルでの二進数の加算に対応する方法です。具体的には、`bit1 ^ bit2 ^ carry`はビットの加算を行い、`bit1 & bit2`と`carry & (bit1 ^ bit2)`は桁上がりを計算します。\n",
       "\n",
       "3. 関数が返す結果の形式：\n",
       "\n",
       "    ```python\n",
       "    return result[::-1]  # 第1の関数\n",
       "    return result  # 第2の関数\n",
       "    ```\n",
       "    第1の関数では、計算結果の文字列を逆順に戻してから返しています。これは、最初に二進数の文字列を逆順にしたためです。一方、第2の関数では、計算結果の文字列をそのまま返しています。\n",
       "\n",
       "これらの違いは、主に二進数の加算の方法と結果の形式に関連しています。第1の関数は、通常の十進数の加算と同様の方法を使用していますが、逆順に処理しているため最後に結果を逆順に戻す必要があります。一方、第2の関数は、ビットレベルでの二進数の加算を行い、結果をそのまま返しています。"
      ],
      "text/plain": [
       "<IPython.core.display.Markdown object>"
      ]
     },
     "execution_count": 9,
     "metadata": {
      "text/markdown": {
       "jupyter_ai": {
        "custom_chain_id": "vioras"
       }
      }
     },
     "output_type": "execute_result"
    }
   ],
   "source": [
    "%%ai vioras\n",
    "次の2つのプログラムの違いを探してください\n",
    "---\n",
    "def add_two_binary_numbers(num1, num2):\n",
    "    # 数字を二進数の文字列に変換し、逆順にする\n",
    "    num1 = bin(num1)[2:][::-1]\n",
    "    num2 = bin(num2)[2:][::-1]\n",
    "    \n",
    "    # 2つの数の長さを揃える\n",
    "    max_len = max(len(num1), len(num2))\n",
    "    num1 = num1.ljust(max_len, '0')\n",
    "    num2 = num2.ljust(max_len, '0')\n",
    "    \n",
    "    carry = 0\n",
    "    result = ''\n",
    "\n",
    "    for i in range(max_len):\n",
    "        temp = int(num1[i]) + int(num2[i]) + carry\n",
    "        result += str(temp % 2)\n",
    "        carry = temp // 2\n",
    "\n",
    "    if carry > 0:\n",
    "        result += str(carry)\n",
    "    \n",
    "    # 結果を逆順にして返す\n",
    "    return result[::-1]\n",
    "---\n",
    "def add_two_binary_numbers(num1, num2):\n",
    "    # 数字を二進数の文字列に変換する\n",
    "    num1 = bin(num1)[2:]\n",
    "    num2 = bin(num2)[2:]\n",
    "    \n",
    "    # 2つの数の長さを揃える\n",
    "    max_len = max(len(num1), len(num2))\n",
    "    num1 = num1.zfill(max_len)\n",
    "    num2 = num2.zfill(max_len)\n",
    "    \n",
    "    result = ''\n",
    "    carry = 0\n",
    "\n",
    "    for i in range(max_len-1, -1, -1):\n",
    "        bit1 = int(num1[i])\n",
    "        bit2 = int(num2[i])\n",
    "        \n",
    "        # XOR演算で各ビットを加算する\n",
    "        sum_bit = bit1 ^ bit2 ^ carry\n",
    "        \n",
    "        # ANDと左シフト演算で桁上がりを計算する\n",
    "        carry = (bit1 & bit2) | (carry & (bit1 ^ bit2))\n",
    "        \n",
    "        result = str(sum_bit) + result\n",
    "\n",
    "    if carry != 0 :\n",
    "        result = str(carry) + result\n",
    "\n",
    "    return result\n",
    "---"
   ]
  },
  {
   "cell_type": "code",
   "execution_count": 10,
   "id": "f9a4a4bc-d144-4505-ada5-b6cbbc2cb9d4",
   "metadata": {},
   "outputs": [
    {
     "data": {
      "text/markdown": [
       "ビットの加算は、一般的な数値の加算と同じように、桁上がりを考慮しながら各ビットを1つずつ加算します。ただし、ビットの加算では2進数を扱うため、各ビットは0または1のみを取ります。\n",
       "\n",
       "以下に、2ビットの二進数の加算の全ての可能なケースを示します：\n",
       "\n",
       "- $0 + 0 = 0$\n",
       "- $0 + 1 = 1$ または $1 + 0 = 1$\n",
       "- $1 + 1 = 10$（2進数で10は十進数での2に相当）\n",
       "\n",
       "ここで重要なのは、$1 + 1$の結果が$10$になることです。これは、2ビットの加算で桁上がりが発生する唯一のケースで、最下位ビット（右端）が0で、次の桁に1が繰り上がることを示しています。\n",
       "\n",
       "ビットの加算では、通常の加算と同様に桁上がりを管理する必要があります。各ステップで、現在のビットの加算結果と前のステップからの桁上がりを加算し、新しい桁上がりを計算します。\n",
       "\n",
       "ビットの加算は、論理回路設計やコンピュータアーキテクチャ、プログラミングなど、多くの分野で使用されます。特に、コンピュータ内部ではすべての計算がビットレベルで行われるため、ビットの加算は非常に基本的な操作です。"
      ],
      "text/plain": [
       "<IPython.core.display.Markdown object>"
      ]
     },
     "execution_count": 10,
     "metadata": {
      "text/markdown": {
       "jupyter_ai": {
        "custom_chain_id": "vioras"
       }
      }
     },
     "output_type": "execute_result"
    }
   ],
   "source": [
    "%%ai vioras\n",
    "ビットの加算について詳しく"
   ]
  },
  {
   "cell_type": "code",
   "execution_count": 11,
   "id": "19ef62e7-5712-45b9-824a-38549dbdef3d",
   "metadata": {},
   "outputs": [
    {
     "data": {
      "text/markdown": [
       "XOR（排他的論理和）演算は、二進数の加算における「加算」部分を表現するのに適しています。これは、XOR演算が2つのビットが異なる場合に1を、同じ場合に0を返すという特性によるものです。これは、ビットの加算とまったく同じ振る舞いです。以下に、XOR演算の真理値表を示します：\n",
       "\n",
       "| A | B | A XOR B |\n",
       "|---|---|---------|\n",
       "| 0 | 0 |   0    |\n",
       "| 0 | 1 |   1    |\n",
       "| 1 | 0 |   1    |\n",
       "| 1 | 1 |   0    |\n",
       "\n",
       "そして、ビットの加算の結果を見てみると：\n",
       "\n",
       "- $0 + 0 = 0$\n",
       "- $0 + 1 = 1$ または $1 + 0 = 1$\n",
       "- $1 + 1 = 0$（桁上がりを無視した場合）\n",
       "\n",
       "これは完全にXOR演算の真理値表と一致します。つまり、XOR演算はビットの加算における「加算」部分を正確に表現します。ただし、桁上がりは別途計算する必要があります。それは通常、AND演算とシフト演算を使用して計算します。"
      ],
      "text/plain": [
       "<IPython.core.display.Markdown object>"
      ]
     },
     "execution_count": 11,
     "metadata": {
      "text/markdown": {
       "jupyter_ai": {
        "custom_chain_id": "vioras"
       }
      }
     },
     "output_type": "execute_result"
    }
   ],
   "source": [
    "%%ai vioras\n",
    "XORでビットの加算が処理できるのは何故？"
   ]
  },
  {
   "cell_type": "code",
   "execution_count": 12,
   "id": "2f94f766-367f-449a-9d76-02fb65725c78",
   "metadata": {},
   "outputs": [
    {
     "data": {
      "text/markdown": [
       "ビットの加算における桁上がり（または繰り上がり）は、二進数の加算において特定のビットでの加算結果が2（つまり10）以上になったときに発生します。つまり、2つのビットが共に1のときにのみ桁上がりが発生します。\n",
       "\n",
       "ビットの加算を行う際には、各ビット位置での加算結果と桁上がりを同時に計算する必要があります。そして、それぞれのビット位置での桁上がりは次のビット位置の加算に影響を与えます。\n",
       "\n",
       "具体的には、以下のような手順でビットの加算と桁上がりを計算します：\n",
       "\n",
       "1. 各ビット位置での加算（XOR）を行います：$sum = A \\oplus B$\n",
       "\n",
       "2. 各ビット位置での桁上がり（AND）を計算します：$carry = A \\& B$\n",
       "\n",
       "3. 次のビット位置に桁上がりを適用します：$A = sum$、$B = carry << 1$\n",
       "\n",
       "4. 全てのビットで加算が完了するまでステップ1から3を繰り返します。\n",
       "\n",
       "この方法を用いると、ビットレベルでの加算と桁上がりを正確に計算することができます。この計算は、コンピュータハードウェアの加算器で使われる方法と基本的に同じです。"
      ],
      "text/plain": [
       "<IPython.core.display.Markdown object>"
      ]
     },
     "execution_count": 12,
     "metadata": {
      "text/markdown": {
       "jupyter_ai": {
        "custom_chain_id": "vioras"
       }
      }
     },
     "output_type": "execute_result"
    }
   ],
   "source": [
    "%%ai vioras\n",
    "桁上がり（繰り上がり）処理について詳しく"
   ]
  },
  {
   "cell_type": "markdown",
   "id": "ac113834-89bb-42ab-a29c-41262cdd0a32",
   "metadata": {},
   "source": [
    "```{note}\n",
    "分かりにくいので、Leibnizの紹介の際に改めて解説します\n",
    "```"
   ]
  },
  {
   "cell_type": "code",
   "execution_count": null,
   "id": "8dfef61d-68dd-4140-82d8-d953dd24dce1",
   "metadata": {},
   "outputs": [],
   "source": []
  }
 ],
 "metadata": {
  "kernelspec": {
   "display_name": "Python 3 (ipykernel)",
   "language": "python",
   "name": "python3"
  },
  "language_info": {
   "codemirror_mode": {
    "name": "ipython",
    "version": 3
   },
   "file_extension": ".py",
   "mimetype": "text/x-python",
   "name": "python",
   "nbconvert_exporter": "python",
   "pygments_lexer": "ipython3",
   "version": "3.11.8"
  }
 },
 "nbformat": 4,
 "nbformat_minor": 5
}
