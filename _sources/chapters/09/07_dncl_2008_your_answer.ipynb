{
 "cells": [
  {
   "cell_type": "markdown",
   "id": "2e22297a-42a8-48d2-807a-4d165138ef7a",
   "metadata": {},
   "source": [
    "# 2008年度 大学入学共通テスト 情報関係基礎から"
   ]
  },
  {
   "cell_type": "markdown",
   "id": "cfe2aaa0-96fe-4d36-ac02-1421defcdbbc",
   "metadata": {},
   "source": [
    "## あなたの解答 (15分)\n",
    "\n",
    "```{note}\n",
    "解答に際しては、ひとつ前のノートブックを活用してコピーペーストしてみてください。\n",
    "```"
   ]
  },
  {
   "cell_type": "code",
   "execution_count": null,
   "id": "0d617674-0e96-4ea6-b824-90dddaf24bf3",
   "metadata": {},
   "outputs": [],
   "source": [
    "%%ai vioras\n",
    "今から擬似コードでプログラミングします。"
   ]
  },
  {
   "cell_type": "code",
   "execution_count": null,
   "id": "256c4429-8f83-4d1c-9b15-4435c8ccae04",
   "metadata": {},
   "outputs": [],
   "source": []
  },
  {
   "cell_type": "code",
   "execution_count": null,
   "id": "967a928d-e9e6-42d9-9321-9c77bf5c2fad",
   "metadata": {},
   "outputs": [],
   "source": []
  },
  {
   "cell_type": "code",
   "execution_count": null,
   "id": "2174ce24-7ba3-46c7-881e-bb8af4b9ea95",
   "metadata": {},
   "outputs": [],
   "source": []
  },
  {
   "cell_type": "code",
   "execution_count": null,
   "id": "0d1d5fc3-6cf2-4b2e-9619-ce801bee4ae1",
   "metadata": {},
   "outputs": [],
   "source": []
  }
 ],
 "metadata": {
  "kernelspec": {
   "display_name": "Python 3 (ipykernel)",
   "language": "python",
   "name": "python3"
  },
  "language_info": {
   "codemirror_mode": {
    "name": "ipython",
    "version": 3
   },
   "file_extension": ".py",
   "mimetype": "text/x-python",
   "name": "python",
   "nbconvert_exporter": "python",
   "pygments_lexer": "ipython3",
   "version": "3.11.8"
  }
 },
 "nbformat": 4,
 "nbformat_minor": 5
}
