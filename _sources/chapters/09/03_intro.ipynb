{
 "cells": [
  {
   "cell_type": "markdown",
   "id": "8b206478-9d31-4289-ae08-d6710f2edefa",
   "metadata": {},
   "source": [
    "# プログラミング言語で考える\n",
    "\n",
    "## 入試問題を解く人工知能"
   ]
  },
  {
   "cell_type": "code",
   "execution_count": 1,
   "id": "9ecd5c30-58f6-4928-bfd7-4cfadf3cfba7",
   "metadata": {},
   "outputs": [
    {
     "data": {
      "text/markdown": [
       "数理的演繹とは、既知の事実から新たな事実を導き出す論理的なプロセスを指します。数学の試験問題を解く際には、この数理的演繹が非常に重要な役割を果たします。\n",
       "\n",
       "具体的な問題とその解答方法がない限り、詳細なアドバイスを提供することは難しいです。ただし、一般的には以下のようなステップを踏むと良いでしょう。\n",
       "\n",
       "1. **問題を理解する**: 問題をよく読み、求められているものが何かを理解します。必要ならば、問題を自分の言葉で再表現してみると良いでしょう。\n",
       "\n",
       "2. **既知の情報をまとめる**: 問題文中の既知の情報を列挙します。これらは後で使用するための「公理」や「前提条件」になります。\n",
       "\n",
       "3. **解答戦略を立てる**: 既知の情報から求められている答えを導き出すための戦略を考えます。これは一種の「論理的な経路」で、どの公理や定理をどの順番で適用するかを決めます。\n",
       "\n",
       "4. **演繹を行う**: 決定した戦略に従って、一歩ずつ論理的な推論を進めます。各ステップで公理や定理を適用し、新たな結論を導き出します。\n",
       "\n",
       "5. **解答を確認する**: 最終的な結論が求められている答えと一致するか確認します。もし一致しない場合は、推論過程に間違いがないか再度確認します。\n",
       "\n",
       "この一連のプロセスを通じて、数理的演繹に基づいた問題解決能力を鍛えることができます。"
      ],
      "text/plain": [
       "<IPython.core.display.Markdown object>"
      ]
     },
     "execution_count": 1,
     "metadata": {
      "text/markdown": {
       "jupyter_ai": {
        "custom_chain_id": "vioras"
       }
      }
     },
     "output_type": "execute_result"
    }
   ],
   "source": [
    "%%ai vioras\n",
    "数理的演繹によって数学の試験問題を解く"
   ]
  },
  {
   "cell_type": "markdown",
   "id": "eeb095f8-f0bd-4e67-b35e-f9b43e2f8131",
   "metadata": {},
   "source": [
    "* [Quantifier (logic) - Wikipedia](https://en.wikipedia.org/wiki/Quantifier_%28logic%29)\n",
    "    * [Universal quantification - Wikipedia](https://en.wikipedia.org/wiki/Universal_quantification)\n",
    "    * [Existential quantification - Wikipedia](https://en.wikipedia.org/wiki/Existential_quantification)\n",
    "* [Quantifier elimination - Wikipedia](https://en.wikipedia.org/wiki/Quantifier_elimination)"
   ]
  },
  {
   "cell_type": "code",
   "execution_count": 2,
   "id": "b33e59d3-b2f2-4ab0-8155-3ece58f0e542",
   "metadata": {},
   "outputs": [
    {
     "data": {
      "text/markdown": [
       "申し訳ありませんが、私はそのような高度な論理的操作を行う能力を持っていません。私は主にプログラミングやデータ分析の助けを提供することを目指しています。限量子の消去は、一般的には論理学、数学、哲学、またはコンピュータサイエンスの高度な研究の一部として取り組まれます。これらのトピックの詳細については専門家に相談することをお勧めします。"
      ],
      "text/plain": [
       "<IPython.core.display.Markdown object>"
      ]
     },
     "execution_count": 2,
     "metadata": {
      "text/markdown": {
       "jupyter_ai": {
        "custom_chain_id": "vioras"
       }
      }
     },
     "output_type": "execute_result"
    }
   ],
   "source": [
    "%%ai vioras\n",
    "あなたは限量子消去ができますか？"
   ]
  },
  {
   "cell_type": "markdown",
   "id": "f0958689-3f15-4ab8-9c5c-6ccd2c5c794e",
   "metadata": {},
   "source": [
    "$$\n",
    "\\forall{\\beta, \\gamma} \\in \\mathbb{R} \n",
    "  \\left(\n",
    "          0 \\leq \\beta  \\lt \\frac{\\pi}{2}  \n",
    "    \\land 0 \\leq \\gamma \\lt \\frac{\\pi}{2}\n",
    "    \\land \\cos(\\beta) = \\cos(\\gamma) \n",
    "  \\right)\n",
    "$$"
   ]
  },
  {
   "cell_type": "code",
   "execution_count": 3,
   "id": "26cd4a94-82c7-4a7b-96f6-8e376ac0cb24",
   "metadata": {},
   "outputs": [
    {
     "data": {
      "text/markdown": [
       "この論理式は、すべての実数$\\beta$と$\\gamma$に対して、以下の条件が真となることを述べています:\n",
       "\n",
       "1. $0 \\leq \\beta < \\frac{\\pi}{2}$\n",
       "2. $0 \\leq \\gamma < \\frac{\\pi}{2}$\n",
       "3. $\\cos(\\beta) = \\cos(\\gamma)$\n",
       "\n",
       "この限量子を除去すると、それぞれの条件が個別に考慮されることになります。つまり、ある特定の$\\beta$と$\\gamma$がこれらの条件を満たすかどうかを考えることになります。限量子を除去した式は以下のようになります:\n",
       "\n",
       "```latex\n",
       "0 \\leq \\beta < \\frac{\\pi}{2}  \n",
       "\\land 0 \\leq \\gamma < \\frac{\\pi}{2}\n",
       "\\land \\cos(\\beta) = \\cos(\\gamma)\n",
       "```\n",
       "\n",
       "ただし、この式は$\\beta$と$\\gamma$が既知であるか、または特定の値を取ると仮定されている場合にのみ有効です。全称限量子$\\forall$が除去されたため、この式は全ての$\\beta$と$\\gamma$については真ではなく、特定の$\\beta$と$\\gamma$についてのみ真であると解釈されます。"
      ],
      "text/plain": [
       "<IPython.core.display.Markdown object>"
      ]
     },
     "execution_count": 3,
     "metadata": {
      "text/markdown": {
       "jupyter_ai": {
        "custom_chain_id": "vioras"
       }
      }
     },
     "output_type": "execute_result"
    }
   ],
   "source": [
    "%%ai vioras\n",
    "次の式から限量子を消去してください\n",
    "---\n",
    "```latex\n",
    "\\forall\\{\\beta, \\gamma\\} \\in \\mathbb\\\\{R\\\\}\n",
    "  \\left(\n",
    "          0 \\leq \\beta  \\lt \\frac\\\\{\\pi\\\\}\\\\{2\\\\}  \n",
    "    \\land 0 \\leq \\gamma \\lt \\frac\\\\{\\pi\\\\}\\\\{2\\\\}\n",
    "    \\land \\cos(\\beta) = \\cos(\\gamma) \n",
    "  \\right)\n",
    "```"
   ]
  },
  {
   "cell_type": "markdown",
   "id": "89ba86ff-d098-4a8c-8c5e-cf05ea9e17fa",
   "metadata": {},
   "source": [
    "## 東ロボくんが引かなかった補助線をChatGPTに引かせてみる (2024年版)"
   ]
  },
  {
   "cell_type": "code",
   "execution_count": 1,
   "id": "6b7dccfa-0595-40f4-b99c-815aeb953fc1",
   "metadata": {
    "tags": []
   },
   "outputs": [
    {
     "data": {
      "text/markdown": [
       "初等幾何における補助線の引き方についてのコツは、問題の全体像を理解し、それに基づいて補助線を引くことです。以下に具体的な戦略をいくつか示します。\n",
       "\n",
       "1. **図形を単純化する**：複雑な図形を簡単な部分に分解することで、新たな関係性やパターンが見えてくることがあります。補助線を引くことで、それらの単純な部分を明らかにすることができます。\n",
       "\n",
       "2. **対称性を利用する**：図形内に対称性が存在する場合、それを利用して補助線を引くことが有効です。対称性を利用することで、計算を簡単にしたり、新たな角度や長さの関係性を見つけることができます。\n",
       "\n",
       "3. **既知の定理を利用する**：初等幾何には様々な定理があります（例えば、ピタゴラスの定理、相似の定理など）。これらの定理を活用して補助線を引くことで、問題の解決に役立つ新たな情報を見つけ出すことができます。\n",
       "\n",
       "4. **試行錯誤を恐れない**：最初から完璧な補助線を引く必要はありません。いくつかの可能性を試してみることで、最適な補助線を見つけることができます。\n",
       "\n",
       "これらの戦略は、補助線を引くための一般的なアプローチであり、具体的な問題によっては異なるアプローチが必要となることを覚えておいてください。幾何学的な理解と直感を磨くことが重要です。"
      ],
      "text/plain": [
       "<IPython.core.display.Markdown object>"
      ]
     },
     "execution_count": 1,
     "metadata": {
      "text/markdown": {
       "jupyter_ai": {
        "custom_chain_id": "vioras"
       }
      }
     },
     "output_type": "execute_result"
    }
   ],
   "source": [
    "%%ai vioras\n",
    "初等幾何において、補助線の引き方にコツはありますか？"
   ]
  },
  {
   "cell_type": "code",
   "execution_count": 7,
   "id": "19800f0d-d98d-4942-9d2b-8162d21caa91",
   "metadata": {},
   "outputs": [
    {
     "data": {
      "text/markdown": [
       "補助線を引く場所は問題によりますが、一般的に以下のようなガイドラインが参考になるかもしれません：\n",
       "\n",
       "1. **問題を簡単にする：** 複雑な形状をより簡単な形状に分解できるような場所に補助線を引くと良いです。例えば、四角形を二つの三角形に分割したり、大きな三角形を複数の小さな三角形に分割したりすることで、問題をより扱いやすくすることができます。\n",
       "\n",
       "2. **対称性を利用する：** 対称性がある場合、その対称軸に沿って補助線を引くと有用な場合があります。対称性を利用することで、問題を半分に減らすことができることがあります。\n",
       "\n",
       "3. **相似や合同を作る：** 二つの図形が相似あるいは合同になるような補助線を引くと、図形の性質を利用して問題を解くことができます。\n",
       "\n",
       "4. **新たな角度や長さを作る：** 特定の角度や長さが問題解決に役立つ場合、それを作り出すための補助線を引くと良いです。\n",
       "\n",
       "5. **既知の定理を適用する：** 既知の定理が適用できるような形状を作り出すための補助線を引くと良いです。これにより、既存の知識を利用して効率的に問題を解くことができます。\n",
       "\n",
       "以上のような観点から、補助線を引く場所を検討すると良いでしょう。しかし、これらはあくまで一般的なガイドラインであり、具体的な問題によっては異なるアプローチが必要となる場合もあります。"
      ],
      "text/plain": [
       "<IPython.core.display.Markdown object>"
      ]
     },
     "execution_count": 7,
     "metadata": {
      "text/markdown": {
       "jupyter_ai": {
        "custom_chain_id": "vioras"
       }
      }
     },
     "output_type": "execute_result"
    }
   ],
   "source": [
    "%%ai vioras\n",
    "一般的にどこに補助線を引くべきですか？"
   ]
  },
  {
   "cell_type": "code",
   "execution_count": 2,
   "id": "f644c38b-77d0-437c-af36-27d60770dfce",
   "metadata": {
    "tags": []
   },
   "outputs": [
    {
     "data": {
      "text/markdown": [
       "「まず一番さびしそうな所に引いてごらん」というアドバイスは、一見、あまり理論的には聞こえないかもしれませんが、実は非常に有用なアドバイスです。これは、補助線を引く場所を決定する際の一つのアプローチとして理解できます。\n",
       "\n",
       "「さびしそうな所」というのは、情報が少ない、または何も特徴的なものがない場所を指すことが多いです。そのような場所に補助線を引くことで、新たな関係性や情報を見つけ出すことができることがあります。\n",
       "\n",
       "たとえば、三角形の内部が「さびしそう」に見える場合、そこに高さを引いたり、中線を引いたりすることで、新たな関係性（例えば、三角形の面積の公式や中線の性質など）を見つけることができます。\n",
       "\n",
       "ですので、「まず一番さびしそうな所に引いてごらん」というアドバイスは、補助線を引く場所を探す際の一つの有効な視点と言えます。ただし、このアプローチが全てのケースで適用可能というわけではないため、他の戦略と組み合わせながら使用することが重要です。"
      ],
      "text/plain": [
       "<IPython.core.display.Markdown object>"
      ]
     },
     "execution_count": 2,
     "metadata": {
      "text/markdown": {
       "jupyter_ai": {
        "custom_chain_id": "vioras"
       }
      }
     },
     "output_type": "execute_result"
    }
   ],
   "source": [
    "%%ai vioras\n",
    "「まず一番さびしそうな所に引いてごらん」というアドバイスは的確ですか？"
   ]
  },
  {
   "cell_type": "code",
   "execution_count": 3,
   "id": "722e7443-cfdc-4013-bf2c-f5a049c5e383",
   "metadata": {},
   "outputs": [
    {
     "data": {
      "text/markdown": [
       "はい、目的に合わせて補助線を引くセンスは初等幾何学において重要なスキルの一つです。\n",
       "\n",
       "初等幾何学の問題を解く際、補助線は新たな視点や解法を見つけるための重要なツールとなります。補助線を適切に引くことで、問題が持つ幾何学的な構造や関係性を明らかにしたり、計算を簡単にしたりすることが可能となります。\n",
       "\n",
       "しかし、どのように補助線を引くかは問題によります。目的に合わせて補助線を引くセンス、つまり、どのような補助線が問題解決に役立つかを判断する能力は、幾何学的な直感と理解を深めることで培われます。\n",
       "\n",
       "このセンスを磨くためには、多くの幾何学の問題を解いて、様々な種類の補助線の引き方に慣れることが有効です。また、他の人がどのように補助線を引いて問題を解いたかを学ぶことも、新たな視点やアプローチを見つけるのに役立ちます。"
      ],
      "text/plain": [
       "<IPython.core.display.Markdown object>"
      ]
     },
     "execution_count": 3,
     "metadata": {
      "text/markdown": {
       "jupyter_ai": {
        "custom_chain_id": "vioras"
       }
      }
     },
     "output_type": "execute_result"
    }
   ],
   "source": [
    "%%ai vioras\n",
    "目的に合わせた補助線を引くセンスは初等幾何学に不可欠ですか？"
   ]
  },
  {
   "cell_type": "code",
   "execution_count": 4,
   "id": "a1317377-0950-4cf6-a754-c1a53a13a01f",
   "metadata": {},
   "outputs": [
    {
     "data": {
      "text/markdown": [
       "「二等辺三角形の2つの底角が等しいことを示せ」という問題に対しては、補助線を引く必要は基本的にありません。というのも、この性質は二等辺三角形の定義から直接導出することができるからです。\n",
       "\n",
       "二等辺三角形は、2つの辺の長さが等しい三角形のことを指します。この二等辺三角形においては、2つの等しい辺に対する底角が必然的に等しくなります。これは、三角形の内角の和が180度であることと、等辺三角形では2つの辺が等しいことから導かれます。\n",
       "\n",
       "具体的には、二等辺三角形の頂角を$A$、底角をそれぞれ$B$、$C$とします。このとき、$AB=AC$(二等辺三角形の定義)から、$\\angle B = \\angle C$ (等辺の対角は等しい)となります。これは、三角形の内角の和が180度であることから、$\\angle A + \\angle B + \\angle C = 180°$、そして$\\angle B = \\angle C$なので、$\\angle A + 2\\angle B = 180°$となります。したがって、底角$B$と$C$は等しいということが証明できます。\n",
       "\n",
       "したがって、この問題に対しては補助線を引く必要はありません。ただし、別の複雑な問題に対しては補助線を引くことで解法を見つけることができる場合があります。"
      ],
      "text/plain": [
       "<IPython.core.display.Markdown object>"
      ]
     },
     "execution_count": 4,
     "metadata": {
      "text/markdown": {
       "jupyter_ai": {
        "custom_chain_id": "vioras"
       }
      }
     },
     "output_type": "execute_result"
    }
   ],
   "source": [
    "%%ai vioras\n",
    "例えば、「二等辺三角形の2つの底角が等しいことを示せ」という問題が出されたとき、\n",
    "どのように補助線を引くべきですか？"
   ]
  },
  {
   "cell_type": "code",
   "execution_count": 5,
   "id": "ba4cf057-396c-44ba-b620-14b08cddaa80",
   "metadata": {},
   "outputs": [
    {
     "data": {
      "text/markdown": [
       "もちろんです。ここでは、二等辺三角形の中線を引くことによって底角が等しいことを証明します。\n",
       "\n",
       "まず、二等辺三角形の頂点を$A$、底辺の端点を$B$、$C$、そして底辺$BC$の中点を$D$とします。$AD$を補助線として引きます。\n",
       "\n",
       "![補助線の引き方](https://upload.wikimedia.org/wikipedia/commons/thumb/4/4e/Isosceles_triangle_with_altitude.svg/320px-Isosceles_triangle_with_altitude.svg.png)\n",
       "\n",
       "この時、直線$AD$は底辺$BC$を二等分しますので、$BD=CD$です。\n",
       "\n",
       "また、$AB=AC$は二等辺三角形の定義ですから、三角形$ABD$と三角形$ACD$は辺辺辺による三角形の合同条件から合同となります。つまり、$\\triangle ABD \\cong \\triangle ACD$です。\n",
       "\n",
       "したがって、対応する角は等しいことになり、$\\angle BAD = \\angle CAD$となります。これが証明したいことで、二等辺三角形の底角が等しいことが証明できました。\n",
       "\n",
       "この例では、補助線$AD$を引くことで、二等辺三角形の底角が等しいことを証明するための三角形の合同を用いる新たな視点を得られました。"
      ],
      "text/plain": [
       "<IPython.core.display.Markdown object>"
      ]
     },
     "execution_count": 5,
     "metadata": {
      "text/markdown": {
       "jupyter_ai": {
        "custom_chain_id": "vioras"
       }
      }
     },
     "output_type": "execute_result"
    }
   ],
   "source": [
    "%%ai vioras\n",
    "証明可能な定理なので、補助線を引く証明をして下さい。"
   ]
  },
  {
   "cell_type": "code",
   "execution_count": 6,
   "id": "c6c6ccf3-2ba5-4edb-b801-b55573809250",
   "metadata": {},
   "outputs": [
    {
     "data": {
      "text/markdown": [
       "補助線を引く場所を決定する際の一つの視点は、「新たな関係性や情報を発見するためにどの部分を強調または明確化したいか」を考えることです。\n",
       "\n",
       "この問題では、「二等辺三角形の2つの底角が等しいことを示す」ために、まず二等辺三角形の頂点から底辺への補助線（中線）を引きました。この補助線により、大きな二等辺三角形が二つの小さな等脚三角形に分割されます。\n",
       "\n",
       "この2つの小さな等脚三角形は、それぞれの辺の長さが等しいため、三角形の合同条件（SSS: Side-Side-Side）により、これらの三角形は合同であると言えます。すなわち、一方の三角形である角度が他方の対応する角度と等しいと言えます。\n",
       "\n",
       "したがって、この補助線を引くことにより、二等辺三角形の底角が等しいことを証明するための新たな視点を得ることができました。"
      ],
      "text/plain": [
       "<IPython.core.display.Markdown object>"
      ]
     },
     "execution_count": 6,
     "metadata": {
      "text/markdown": {
       "jupyter_ai": {
        "custom_chain_id": "vioras"
       }
      }
     },
     "output_type": "execute_result"
    }
   ],
   "source": [
    "%%ai vioras\n",
    "あなたは何故そこに補助線を引いたのですか？"
   ]
  },
  {
   "cell_type": "code",
   "execution_count": null,
   "id": "30900a91-68a4-4c07-b4db-80db3f2097f2",
   "metadata": {},
   "outputs": [],
   "source": []
  }
 ],
 "metadata": {
  "kernelspec": {
   "display_name": "Python 3 (ipykernel)",
   "language": "python",
   "name": "python3"
  },
  "language_info": {
   "codemirror_mode": {
    "name": "ipython",
    "version": 3
   },
   "file_extension": ".py",
   "mimetype": "text/x-python",
   "name": "python",
   "nbconvert_exporter": "python",
   "pygments_lexer": "ipython3",
   "version": "3.11.8"
  }
 },
 "nbformat": 4,
 "nbformat_minor": 5
}
