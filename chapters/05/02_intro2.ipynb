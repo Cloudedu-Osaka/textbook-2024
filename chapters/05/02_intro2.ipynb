{
 "cells": [
  {
   "cell_type": "markdown",
   "id": "edbc2e60-8a90-4d80-9c3a-3ca4e4a1fd25",
   "metadata": {},
   "source": [
    "# ローマ数字に変換する (1)"
   ]
  },
  {
   "cell_type": "code",
   "execution_count": 1,
   "id": "b9021c41-4ea8-448a-8ccb-0783b3e7f416",
   "metadata": {},
   "outputs": [
    {
     "data": {
      "text/markdown": [
       "もちろんです、この関数 `int_to_roman` は整数をローマ数字に変換するためのものです。以下にその詳細な説明を提供します。\n",
       "\n",
       "- 関数は1つの引数、`input`を受け取ります。この値は変換する整数を表します。\n",
       "\n",
       "- 関数の最初の2行は、入力が整数であることと、その値が1から3999の範囲内であることを検証します。これらの条件を満たさない場合、関数はエラーを返します。\n",
       "\n",
       "- 次に、2つのタプル`ints`と`nums`が定義されています。`ints`タプルは基本的なローマ数字を表す整数の値を持ち、`nums`タプルは対応するローマ数字の文字列を持ちます。\n",
       "\n",
       "- 空のリスト`result`が初期化されます。これは最終的なローマ数字の文字列を構築するためのものです。\n",
       "\n",
       "- forループでは、`ints`の各要素について以下の操作を行います:\n",
       "    - `input`を`ints[i]`で除算して整数部分（`count`）を取得します。これは、`nums[i]`が結果のローマ数字に何回現れるかを示します。\n",
       "    - `nums[i]`を`count`回繰り返した文字列を`result`に追加します。\n",
       "    - `input`から`ints[i]`を`count`回引きます。これにより、`input`は次のループの繰り返しに適切に更新されます。\n",
       "\n",
       "- 最後に、`result`リストの全ての文字列を結合して返します。これは入力整数を表すローマ数字の文字列です。\n",
       "\n",
       "例えば、`int_to_roman(1987)`を呼び出すと、結果は `'MCMLXXXVII'` となります。これはローマ数字で1987を表しています。"
      ],
      "text/plain": [
       "<IPython.core.display.Markdown object>"
      ]
     },
     "execution_count": 1,
     "metadata": {
      "text/markdown": {
       "jupyter_ai": {
        "custom_chain_id": "vioras"
       }
      }
     },
     "output_type": "execute_result"
    }
   ],
   "source": [
    "%%ai vioras\n",
    "このプログラムを解説してください\n",
    "---\n",
    "def int_to_roman(input):\n",
    "    if not isinstance(input, type(1)):\n",
    "        raise TypeError(\"expected integer, got %s\" % type(input))\n",
    "    if not 0 < input < 4000:\n",
    "        raise ValueError(\"Argument must be between 1 and 3999\")\n",
    "    ints = (1000, 900,  500, 400, 100,  90, 50,  40, 10,  9,   5,  4,   1)\n",
    "    nums = ('M',  'CM', 'D', 'CD','C', 'XC','L','XL','X','IX','V','IV','I')\n",
    "    result = []\n",
    "    for i in range(len(ints)):\n",
    "        count = int(input // ints[i])\n",
    "        result.append(nums[i] * count)\n",
    "        input -= ints[i] * count\n",
    "    return ''.join(result)"
   ]
  },
  {
   "cell_type": "code",
   "execution_count": 2,
   "id": "e4019620-1703-4947-836a-c167208c3fcd",
   "metadata": {},
   "outputs": [
    {
     "data": {
      "text/markdown": [
       "もちろんです、以下がコメントとデバッグ出力を追加したプログラムです：\n",
       "\n",
       "```python\n",
       "def int_to_roman(input):\n",
       "    # Ensure the input is an integer\n",
       "    if not isinstance(input, type(1)):\n",
       "        raise TypeError(\"expected integer, got %s\" % type(input))\n",
       "    print(f\"Input is a valid integer: {input}\")\n",
       "    \n",
       "    # Ensure the input is within the valid range for Roman numerals\n",
       "    if not 0 < input < 4000:\n",
       "        raise ValueError(\"Argument must be between 1 and 3999\")\n",
       "    print(f\"Input is within the valid range: {input}\")\n",
       "    \n",
       "    # Define the mapping between integers and Roman numerals\n",
       "    ints = (1000, 900,  500, 400, 100,  90, 50,  40, 10,  9,   5,  4,   1)\n",
       "    nums = ('M',  'CM', 'D', 'CD','C', 'XC','L','XL','X','IX','V','IV','I')\n",
       "    \n",
       "    # Initialize the result list\n",
       "    result = []\n",
       "    \n",
       "    # Iterate over each integer in the mapping\n",
       "    for i in range(len(ints)):\n",
       "        # Determine the count of the current Roman numeral in the output\n",
       "        count = int(input // ints[i])\n",
       "        print(f\"Current integer: {ints[i]}, count: {count}\")\n",
       "        \n",
       "        # Append the current Roman numeral to the result the appropriate number of times\n",
       "        result.append(nums[i] * count)\n",
       "        \n",
       "        # Subtract the value of the current Roman numeral from the input\n",
       "        input -= ints[i] * count\n",
       "    \n",
       "    # Join the result list into a string and return it\n",
       "    return ''.join(result)\n",
       "```\n",
       "\n",
       "このプログラムでは、`print` ステートメントがデバッグ出力を提供します。それぞれのステップでどのような処理が行われているかを明確に示しています。"
      ],
      "text/plain": [
       "<IPython.core.display.Markdown object>"
      ]
     },
     "execution_count": 2,
     "metadata": {
      "text/markdown": {
       "jupyter_ai": {
        "custom_chain_id": "vioras"
       }
      }
     },
     "output_type": "execute_result"
    }
   ],
   "source": [
    "%%ai vioras\n",
    "説明をコメントとしてプログラムに埋めこみ、デバッグ出力を追加してください"
   ]
  },
  {
   "cell_type": "code",
   "execution_count": 3,
   "id": "8b1e261f-e447-4a3c-8aad-45c57932938d",
   "metadata": {},
   "outputs": [],
   "source": [
    "def int_to_roman(input):\n",
    "    # Ensure the input is an integer\n",
    "    if not isinstance(input, type(1)):\n",
    "        raise TypeError(\"expected integer, got %s\" % type(input))\n",
    "    print(f\"Input is a valid integer: {input}\")\n",
    "    \n",
    "    # Ensure the input is within the valid range for Roman numerals\n",
    "    if not 0 < input < 4000:\n",
    "        raise ValueError(\"Argument must be between 1 and 3999\")\n",
    "    print(f\"Input is within the valid range: {input}\")\n",
    "    \n",
    "    # Define the mapping between integers and Roman numerals\n",
    "    ints = (1000, 900,  500, 400, 100,  90, 50,  40, 10,  9,   5,  4,   1)\n",
    "    nums = ('M',  'CM', 'D', 'CD','C', 'XC','L','XL','X','IX','V','IV','I')\n",
    "    \n",
    "    # Initialize the result list\n",
    "    result = []\n",
    "    \n",
    "    # Iterate over each integer in the mapping\n",
    "    for i in range(len(ints)):\n",
    "        # Determine the count of the current Roman numeral in the output\n",
    "        count = int(input // ints[i])\n",
    "        print(f\"Current integer: {ints[i]}, count: {count}\")\n",
    "        \n",
    "        # Append the current Roman numeral to the result the appropriate number of times\n",
    "        result.append(nums[i] * count)\n",
    "        \n",
    "        # Subtract the value of the current Roman numeral from the input\n",
    "        input -= ints[i] * count\n",
    "    \n",
    "    # Join the result list into a string and return it\n",
    "    return ''.join(result)"
   ]
  },
  {
   "cell_type": "code",
   "execution_count": 4,
   "id": "7bb9db17-8de8-4e3b-9582-0641c0e4d801",
   "metadata": {},
   "outputs": [
    {
     "name": "stdout",
     "output_type": "stream",
     "text": [
      "Input is a valid integer: 1234\n",
      "Input is within the valid range: 1234\n",
      "Current integer: 1000, count: 1\n",
      "Current integer: 900, count: 0\n",
      "Current integer: 500, count: 0\n",
      "Current integer: 400, count: 0\n",
      "Current integer: 100, count: 2\n",
      "Current integer: 90, count: 0\n",
      "Current integer: 50, count: 0\n",
      "Current integer: 40, count: 0\n",
      "Current integer: 10, count: 3\n",
      "Current integer: 9, count: 0\n",
      "Current integer: 5, count: 0\n",
      "Current integer: 4, count: 1\n",
      "Current integer: 1, count: 0\n"
     ]
    },
    {
     "data": {
      "text/plain": [
       "'MCCXXXIV'"
      ]
     },
     "execution_count": 4,
     "metadata": {},
     "output_type": "execute_result"
    }
   ],
   "source": [
    "int_to_roman(1234)"
   ]
  },
  {
   "cell_type": "code",
   "execution_count": 6,
   "id": "6b0f3fbe-71e2-48d9-af32-f6228363edaf",
   "metadata": {},
   "outputs": [
    {
     "name": "stdout",
     "output_type": "stream",
     "text": [
      "Input is a valid integer: 2024\n",
      "Input is within the valid range: 2024\n",
      "Current integer: 1000, count: 2\n",
      "Current integer: 900, count: 0\n",
      "Current integer: 500, count: 0\n",
      "Current integer: 400, count: 0\n",
      "Current integer: 100, count: 0\n",
      "Current integer: 90, count: 0\n",
      "Current integer: 50, count: 0\n",
      "Current integer: 40, count: 0\n",
      "Current integer: 10, count: 2\n",
      "Current integer: 9, count: 0\n",
      "Current integer: 5, count: 0\n",
      "Current integer: 4, count: 1\n",
      "Current integer: 1, count: 0\n"
     ]
    },
    {
     "data": {
      "text/plain": [
       "'MMXXIV'"
      ]
     },
     "execution_count": 6,
     "metadata": {},
     "output_type": "execute_result"
    }
   ],
   "source": [
    "int_to_roman(2024)"
   ]
  },
  {
   "cell_type": "markdown",
   "id": "f031581b-2362-4f40-96b2-e4c9901d4b78",
   "metadata": {},
   "source": [
    "## 対応するデータ構造の表現方法"
   ]
  },
  {
   "cell_type": "markdown",
   "id": "1850b3da-b891-461d-8e8b-e2bd48737201",
   "metadata": {},
   "source": [
    "### 行列 (二次元配列)"
   ]
  },
  {
   "cell_type": "code",
   "execution_count": 13,
   "id": "2e2925bd-9003-459a-9b84-51725a66dc22",
   "metadata": {},
   "outputs": [
    {
     "data": {
      "text/markdown": [
       "`ints`と`nums`を行列（Pythonでは通常リストのリストとして表現されます）で表現すると、次のようになります:\n",
       "\n",
       "```python\n",
       "def int_to_roman(input):\n",
       "    # Ensure the input is an integer\n",
       "    if not isinstance(input, type(1)):\n",
       "        raise TypeError(\"expected integer, got %s\" % type(input))\n",
       "    print(f\"Input is a valid integer: {input}\")\n",
       "    \n",
       "    # Ensure the input is within the valid range for Roman numerals\n",
       "    if not 0 < input < 4000:\n",
       "        raise ValueError(\"Argument must be between 1 and 3999\")\n",
       "    print(f\"Input is within the valid range: {input}\")\n",
       "    \n",
       "    # Define the mapping between integers and Roman numerals as a matrix\n",
       "    roman_matrix = [[1000, 'M'], [900, 'CM'], [500, 'D'], [400, 'CD'], [100, 'C'],\n",
       "                    [90, 'XC'], [50, 'L'], [40, 'XL'], [10, 'X'], [9, 'IX'], [5, 'V'], [4, 'IV'], [1, 'I']]\n",
       "    \n",
       "    # Initialize the result list\n",
       "    result = []\n",
       "    \n",
       "    # Iterate over each pair in the matrix\n",
       "    for pair in roman_matrix:\n",
       "        # Determine the count of the current Roman numeral in the output\n",
       "        count = int(input // pair[0])\n",
       "        print(f\"Current integer: {pair[0]}, count: {count}\")\n",
       "        \n",
       "        # Append the current Roman numeral to the result the appropriate number of times\n",
       "        result.append(pair[1] * count)\n",
       "        \n",
       "        # Subtract the value of the current Roman numeral from the input\n",
       "        input -= pair[0] * count\n",
       "    \n",
       "    # Join the result list into a string and return it\n",
       "    return ''.join(result)\n",
       "```\n",
       "\n",
       "このプログラムでは、整数とローマ数字の対応を`roman_matrix`という行列（リストのリスト）で表現しています。行列の各要素は2つの要素を持つリストで、最初の要素は整数、2つ目の要素は対応するローマ数字です。"
      ],
      "text/plain": [
       "<IPython.core.display.Markdown object>"
      ]
     },
     "execution_count": 13,
     "metadata": {
      "text/markdown": {
       "jupyter_ai": {
        "custom_chain_id": "vioras"
       }
      }
     },
     "output_type": "execute_result"
    }
   ],
   "source": [
    "%%ai vioras\n",
    "`ints`と`nums`を行列で表現してください"
   ]
  },
  {
   "cell_type": "code",
   "execution_count": 1,
   "id": "b88ce212-01ee-4874-ba6c-c6bd48ed4a10",
   "metadata": {},
   "outputs": [],
   "source": [
    "ints = (1000, 900,  500, 400, 100,  90, 50,  40, 10,  9,   5,  4,   1)\n",
    "nums = ('M',  'CM', 'D', 'CD','C', 'XC','L','XL','X','IX','V','IV','I')"
   ]
  },
  {
   "cell_type": "code",
   "execution_count": 2,
   "id": "fb6ce3e7-6224-40d3-a770-dce367193b8e",
   "metadata": {},
   "outputs": [
    {
     "data": {
      "text/plain": [
       "((1000, 900, 500, 400, 100, 90, 50, 40, 10, 9, 5, 4, 1),\n",
       " ('M', 'CM', 'D', 'CD', 'C', 'XC', 'L', 'XL', 'X', 'IX', 'V', 'IV', 'I'))"
      ]
     },
     "execution_count": 2,
     "metadata": {},
     "output_type": "execute_result"
    }
   ],
   "source": [
    "roman_matrix = (ints, nums)\n",
    "roman_matrix"
   ]
  },
  {
   "cell_type": "code",
   "execution_count": 11,
   "id": "243a07bc-86e6-4a46-8f6b-96aa2e422308",
   "metadata": {},
   "outputs": [
    {
     "name": "stdout",
     "output_type": "stream",
     "text": [
      "1000\n",
      "900\n",
      "500\n",
      "400\n",
      "100\n",
      "90\n",
      "50\n",
      "40\n",
      "10\n"
     ]
    }
   ],
   "source": [
    "for i in range(9):\n",
    "    print(roman_matrix[0][i])"
   ]
  },
  {
   "cell_type": "code",
   "execution_count": 12,
   "id": "76cd0ed7-874d-446c-b41b-784a19d356cc",
   "metadata": {},
   "outputs": [
    {
     "name": "stdout",
     "output_type": "stream",
     "text": [
      "M\n",
      "CM\n",
      "D\n",
      "CD\n",
      "C\n",
      "XC\n",
      "L\n",
      "XL\n",
      "X\n"
     ]
    }
   ],
   "source": [
    "for i in range(9):\n",
    "    print(roman_matrix[1][i])"
   ]
  },
  {
   "cell_type": "markdown",
   "id": "7ae38034-4321-41fc-909c-add43abb7334",
   "metadata": {},
   "source": [
    "### 行列 (二次元配列) の転置"
   ]
  },
  {
   "cell_type": "code",
   "execution_count": 14,
   "id": "f5f20ca9-86c7-4f57-9ee5-6258519828c3",
   "metadata": {},
   "outputs": [
    {
     "data": {
      "text/markdown": [
       "`ints`と`nums`を転置した行列を使って表現すると、次のようになります：\n",
       "\n",
       "```python\n",
       "def int_to_roman(input):\n",
       "    # Ensure the input is an integer\n",
       "    if not isinstance(input, type(1)):\n",
       "        raise TypeError(\"expected integer, got %s\" % type(input))\n",
       "    print(f\"Input is a valid integer: {input}\")\n",
       "    \n",
       "    # Ensure the input is within the valid range for Roman numerals\n",
       "    if not 0 < input < 4000:\n",
       "        raise ValueError(\"Argument must be between 1 and 3999\")\n",
       "    print(f\"Input is within the valid range: {input}\")\n",
       "    \n",
       "    # Define the mapping between integers and Roman numerals as a transposed matrix\n",
       "    roman_matrix = [[1000, 900, 500, 400, 100, 90, 50, 40, 10, 9, 5, 4, 1], \n",
       "                    ['M', 'CM', 'D', 'CD', 'C', 'XC', 'L', 'XL', 'X', 'IX', 'V', 'IV', 'I']]\n",
       "    \n",
       "    # Transpose the matrix\n",
       "    roman_matrix_transposed = list(map(list, zip(*roman_matrix)))\n",
       "    \n",
       "    # Initialize the result list\n",
       "    result = []\n",
       "    \n",
       "    # Iterate over each pair in the transposed matrix\n",
       "    for pair in roman_matrix_transposed:\n",
       "        # Determine the count of the current Roman numeral in the output\n",
       "        count = int(input // pair[0])\n",
       "        print(f\"Current integer: {pair[0]}, count: {count}\")\n",
       "        \n",
       "        # Append the current Roman numeral to the result the appropriate number of times\n",
       "        result.append(pair[1] * count)\n",
       "        \n",
       "        # Subtract the value of the current Roman numeral from the input\n",
       "        input -= pair[0] * count\n",
       "    \n",
       "    # Join the result list into a string and return it\n",
       "    return ''.join(result)\n",
       "```\n",
       "\n",
       "このプログラムでは、整数とローマ数字の対応を`roman_matrix`という転置した行列（リストのリスト）で表現しています。行列の最初のリストは整数値を、2つ目のリストは対応するローマ数字を含んでいます。`list(map(list, zip(*roman_matrix)))`を使って行列を転置し、その結果を`roman_matrix_transposed`に格納しています。そして、`roman_matrix_transposed`の各要素（2つの要素を持つリスト）を繰り返し処理しています。最初の要素は整数、2つ目の要素は対応するローマ数字です。"
      ],
      "text/plain": [
       "<IPython.core.display.Markdown object>"
      ]
     },
     "execution_count": 14,
     "metadata": {
      "text/markdown": {
       "jupyter_ai": {
        "custom_chain_id": "vioras"
       }
      }
     },
     "output_type": "execute_result"
    }
   ],
   "source": [
    "%%ai vioras\n",
    "`ints`と`nums`の行列を転置して表現してください"
   ]
  },
  {
   "cell_type": "code",
   "execution_count": 5,
   "id": "67b8e6ef-3e8a-4d3a-8a47-107307a2fffc",
   "metadata": {},
   "outputs": [
    {
     "data": {
      "text/plain": [
       "[[1000, 'M'],\n",
       " [900, 'CM'],\n",
       " [500, 'D'],\n",
       " [400, 'CD'],\n",
       " [100, 'C'],\n",
       " [90, 'XC'],\n",
       " [50, 'L'],\n",
       " [40, 'XL'],\n",
       " [10, 'X'],\n",
       " [9, 'IX'],\n",
       " [5, 'V'],\n",
       " [4, 'IV'],\n",
       " [1, 'I']]"
      ]
     },
     "execution_count": 5,
     "metadata": {},
     "output_type": "execute_result"
    }
   ],
   "source": [
    "roman_matrix_transposed = list(map(list, zip(*roman_matrix)))\n",
    "roman_matrix_transposed"
   ]
  },
  {
   "cell_type": "code",
   "execution_count": 14,
   "id": "efa52beb-3407-4144-8928-cd1330515cf7",
   "metadata": {},
   "outputs": [
    {
     "name": "stdout",
     "output_type": "stream",
     "text": [
      "1000\n",
      "900\n",
      "500\n",
      "400\n",
      "100\n",
      "90\n",
      "50\n",
      "40\n",
      "10\n"
     ]
    }
   ],
   "source": [
    "for i in range(9):\n",
    "    print(roman_matrix_transposed[i][0])"
   ]
  },
  {
   "cell_type": "code",
   "execution_count": 15,
   "id": "73bdc811-eafd-4aa0-b6d9-d6569690be8c",
   "metadata": {},
   "outputs": [
    {
     "name": "stdout",
     "output_type": "stream",
     "text": [
      "M\n",
      "CM\n",
      "D\n",
      "CD\n",
      "C\n",
      "XC\n",
      "L\n",
      "XL\n",
      "X\n"
     ]
    }
   ],
   "source": [
    "for i in range(9):\n",
    "    print(roman_matrix_transposed[i][1])"
   ]
  },
  {
   "cell_type": "markdown",
   "id": "e8e0fde5-499c-4fab-ba97-a9206e301e7b",
   "metadata": {},
   "source": [
    "### 行列 (二次元配列) の転置を辞書に変換"
   ]
  },
  {
   "cell_type": "code",
   "execution_count": 17,
   "id": "87801a8f-5dbf-40b2-ae2f-3369ee2a3154",
   "metadata": {},
   "outputs": [
    {
     "data": {
      "text/markdown": [
       "もちろんです、`roman_matrix_transposed`を辞書に変換すると以下のようになります：\n",
       "\n",
       "```python\n",
       "def int_to_roman(input):\n",
       "    # Ensure the input is an integer\n",
       "    if not isinstance(input, type(1)):\n",
       "        raise TypeError(\"expected integer, got %s\" % type(input))\n",
       "    print(f\"Input is a valid integer: {input}\")\n",
       "    \n",
       "    # Ensure the input is within the valid range for Roman numerals\n",
       "    if not 0 < input < 4000:\n",
       "        raise ValueError(\"Argument must be between 1 and 3999\")\n",
       "    print(f\"Input is within the valid range: {input}\")\n",
       "    \n",
       "    # Define the mapping between integers and Roman numerals as a transposed matrix\n",
       "    roman_matrix = [[1000, 900, 500, 400, 100, 90, 50, 40, 10, 9, 5, 4, 1], \n",
       "                    ['M', 'CM', 'D', 'CD', 'C', 'XC', 'L', 'XL', 'X', 'IX', 'V', 'IV', 'I']]\n",
       "    \n",
       "    # Transpose the matrix\n",
       "    roman_matrix_transposed = list(map(list, zip(*roman_matrix)))\n",
       "    \n",
       "    # Convert the transposed matrix to a dictionary\n",
       "    roman_dict = dict(roman_matrix_transposed)\n",
       "    \n",
       "    # Initialize the result list\n",
       "    result = []\n",
       "    \n",
       "    # Iterate over each integer in the dictionary\n",
       "    for i in sorted(roman_dict.keys(), reverse=True):\n",
       "        # Determine the count of the current Roman numeral in the output\n",
       "        count = int(input // i)\n",
       "        print(f\"Current integer: {i}, count: {count}\")\n",
       "        \n",
       "        # Append the current Roman numeral to the result the appropriate number of times\n",
       "        result.append(roman_dict[i] * count)\n",
       "        \n",
       "        # Subtract the value of the current Roman numeral from the input\n",
       "        input -= i * count\n",
       "    \n",
       "    # Join the result list into a string and return it\n",
       "    return ''.join(result)\n",
       "```\n",
       "\n",
       "このプログラムでは、転置した行列`roman_matrix_transposed`を辞書`roman_dict`に変換しています。そして、辞書のキーを降順にソートしてループを回すことで、元のプログラムと同じロジックを実現しています。辞書のキーは整数で、値は対応するローマ数字です。"
      ],
      "text/plain": [
       "<IPython.core.display.Markdown object>"
      ]
     },
     "execution_count": 17,
     "metadata": {
      "text/markdown": {
       "jupyter_ai": {
        "custom_chain_id": "vioras"
       }
      }
     },
     "output_type": "execute_result"
    }
   ],
   "source": [
    "%%ai vioras\n",
    "`roman_matrix_transposed`を辞書に変換してください"
   ]
  },
  {
   "cell_type": "code",
   "execution_count": 16,
   "id": "05738160-94f0-4710-9ce7-fecee499647f",
   "metadata": {},
   "outputs": [
    {
     "data": {
      "text/plain": [
       "{1000: 'M',\n",
       " 900: 'CM',\n",
       " 500: 'D',\n",
       " 400: 'CD',\n",
       " 100: 'C',\n",
       " 90: 'XC',\n",
       " 50: 'L',\n",
       " 40: 'XL',\n",
       " 10: 'X',\n",
       " 9: 'IX',\n",
       " 5: 'V',\n",
       " 4: 'IV',\n",
       " 1: 'I'}"
      ]
     },
     "execution_count": 16,
     "metadata": {},
     "output_type": "execute_result"
    }
   ],
   "source": [
    "roman_dict = dict(roman_matrix_transposed)\n",
    "roman_dict"
   ]
  },
  {
   "cell_type": "code",
   "execution_count": 21,
   "id": "f2983b11-7dc2-44c3-a08f-55878344fbdf",
   "metadata": {},
   "outputs": [
    {
     "data": {
      "text/plain": [
       "dict_keys([1000, 900, 500, 400, 100, 90, 50, 40, 10, 9, 5, 4, 1])"
      ]
     },
     "execution_count": 21,
     "metadata": {},
     "output_type": "execute_result"
    }
   ],
   "source": [
    "keys = roman_dict.keys()\n",
    "keys"
   ]
  },
  {
   "cell_type": "code",
   "execution_count": 23,
   "id": "e73a3b34-1cdf-4676-a2d8-c12693ae8c54",
   "metadata": {},
   "outputs": [
    {
     "data": {
      "text/plain": [
       "dict_keys"
      ]
     },
     "execution_count": 23,
     "metadata": {},
     "output_type": "execute_result"
    }
   ],
   "source": [
    "type(keys)"
   ]
  },
  {
   "cell_type": "code",
   "execution_count": 20,
   "id": "11a0dcde-f238-44f7-98cd-782654b9ba88",
   "metadata": {},
   "outputs": [
    {
     "name": "stdout",
     "output_type": "stream",
     "text": [
      "M\n",
      "CM\n",
      "D\n",
      "CD\n",
      "C\n",
      "XC\n",
      "L\n",
      "XL\n",
      "X\n",
      "IX\n",
      "V\n",
      "IV\n",
      "I\n"
     ]
    }
   ],
   "source": [
    "for k in roman_dict.keys():\n",
    "    print(roman_dict[k])"
   ]
  },
  {
   "cell_type": "code",
   "execution_count": null,
   "id": "03798ef4-d7b8-403d-b8f8-0262f4e35aa8",
   "metadata": {},
   "outputs": [],
   "source": []
  }
 ],
 "metadata": {
  "kernelspec": {
   "display_name": "Python 3 (ipykernel)",
   "language": "python",
   "name": "python3"
  },
  "language_info": {
   "codemirror_mode": {
    "name": "ipython",
    "version": 3
   },
   "file_extension": ".py",
   "mimetype": "text/x-python",
   "name": "python",
   "nbconvert_exporter": "python",
   "pygments_lexer": "ipython3",
   "version": "3.11.8"
  }
 },
 "nbformat": 4,
 "nbformat_minor": 5
}
