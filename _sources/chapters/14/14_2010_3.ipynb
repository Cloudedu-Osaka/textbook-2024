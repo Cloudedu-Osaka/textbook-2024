{
 "cells": [
  {
   "cell_type": "markdown",
   "id": "a472c53b-0e84-4658-a534-ae2e9534326c",
   "metadata": {},
   "source": [
    "# 2010年度 情報関係基礎 第３問 問3"
   ]
  },
  {
   "cell_type": "markdown",
   "id": "6694af35-e267-4d39-9c2d-d4c63e8531f8",
   "metadata": {},
   "source": [
    "![fig-05](./fig-05.png)"
   ]
  },
  {
   "cell_type": "markdown",
   "id": "db48d39a-0df4-4c12-bb55-34219f78672d",
   "metadata": {},
   "source": [
    "![fig-06](./fig-06.png)"
   ]
  },
  {
   "attachments": {},
   "cell_type": "markdown",
   "id": "c334900f-64d7-46c0-887f-6ffb4907907f",
   "metadata": {
    "tags": []
   },
   "source": [
    "::::::{tip}コピペ用のテンプレートです。\n",
    "# 第3問\n",
    "## 問３\n",
    "\n",
    "次の文章を読み、\n",
    "図中の空欄【サ】〜【セ】および文中の空欄【ソ】に入れるのに最も適当なものを、\n",
    "次ページのそれぞれの解答群のうちから一つずつ選べ。\n",
    "\n",
    "変数`x`に格納された数を漢数字表示する手続きを図３に示す。\n",
    "例えば、123456789を１億２３４５万６７８９とみると、\n",
    "4桁ごとに区切られて、「億」、「万」という大きな位を表す文字が挿入されることがわかる。\n",
    "\n",
    "なお、変数に格納できる整数の範囲が$2^31$未満であると仮定すると、\n",
    "「万」「億」『兆」のような大きな位を表す文字は、「億」まで用意しておけば十分である。\n",
    "\n",
    ":::{code}\n",
    ":caption:図３ 数`x`を漢数字表示する手続き\n",
    "(01)〜(05) (図1 文字の配列を初期化する手続き)\n",
    "(06)       OkinaKuraiMoji[3] ← 「億」\n",
    "(07)       OkinaKuraiMoji[2] ← 「万」\n",
    "(08)       OkinaKuraiMoji[1] ← 「」\n",
    "(09)       okinaKurai ← 【サ】\n",
    "(10)       kugiriを3から1まで1ずつ減らしながら，\n",
    "(11)       | 【シ】\n",
    "(12)       |  もしn ≠ 0ならば\n",
    "(13)〜(26) |      (図2 一万未満の数nを漢数字表示する手続き)\n",
    "(27)       |      OkinaKuraiMoji[kugiri]を表示する\n",
    "(28)       |  を実行する\n",
    "(29)       | 【ス】\n",
    "(30)       | 【セ】\n",
    "(31)       を繰り返す\n",
    ":::\n",
    "\n",
    "図３の手続きは、10000000を「千万」と表示する。\n",
    "これを「一千万」と表示するには、\n",
    "図４の手続きを図３の【ソ】の直後に挿入すれば良い。\n",
    "\n",
    ":::{code}\n",
    ":caption: 図４ 「一千万」の「一」を表示するために挿入される手続き\n",
    "もし n = 1000 かつ kugiri ≠ 1 ならば\n",
    "|   「一」を表示する\n",
    "を実行する\n",
    ":::\n",
    "\n",
    ":::{hint}【サ】の解答群\n",
    "0. `0`\n",
    "1. `1`\n",
    "2. `10_000_000` (一千万)\n",
    "3. `10`\n",
    "4. `100`\n",
    "5. `100_000_000` (一億)\n",
    "6. `1_000`\n",
    "7. `10_000`\n",
    "8. `1_000_000_000_000` (一兆)\n",
    ":::\n",
    ":::{hint}【シ】〜【セ】の解答群\n",
    "0. `x = x % okinaKurai`\n",
    "1. `n = x ÷ 10`\n",
    "2. `n = x ÷ okinaKurai`\n",
    "3. `n = x ÷ 10_000`\n",
    "4. `okinaKurai = okinaKurai - 1`\n",
    "5. `x = x ÷ 10_000`\n",
    "6. `okinaKurai = okinaKurai + 1`\n",
    "7. `n = x % 10`\n",
    "8. `okinaKurai = okinaKurai ÷ 10`\n",
    "9. `n = x % 10_000`\n",
    "10. `okinaKurai = okinaKurai ÷ 10_000`\n",
    "11. `x = x % 10_000`\n",
    ":::\n",
    ":::{hint}【ソ】の解答群\n",
    "0. (12)行目\n",
    "1. (26)行目\n",
    "2. (28)行目\n",
    "3. (30)行目\n",
    ":::\n",
    "::::::"
   ]
  },
  {
   "cell_type": "markdown",
   "id": "61bd41f0-3028-437b-9d9d-9f4c956ef811",
   "metadata": {},
   "source": [
    "### 解答"
   ]
  },
  {
   "cell_type": "code",
   "execution_count": null,
   "id": "e7c7705a-cc10-48eb-906d-df2e0bdc129a",
   "metadata": {},
   "outputs": [],
   "source": [
    "%%ai vioras\n",
    "今から擬似コードでプログラミングしますが、擬似コードの実行環境はありません。\n",
    "あなたが提示するコードを検証するためPythonのプログラムコードも同時に提示して下さい。"
   ]
  },
  {
   "cell_type": "code",
   "execution_count": null,
   "id": "a933cba9-9345-4dc7-92c6-eabcaa33d167",
   "metadata": {},
   "outputs": [],
   "source": []
  },
  {
   "cell_type": "code",
   "execution_count": null,
   "id": "1ff8493f-12cf-4441-8f43-d9f4572b4702",
   "metadata": {},
   "outputs": [],
   "source": []
  },
  {
   "cell_type": "code",
   "execution_count": null,
   "id": "5bf998cd-d66b-46e5-b3c9-0bfeee22f056",
   "metadata": {},
   "outputs": [],
   "source": []
  },
  {
   "cell_type": "code",
   "execution_count": null,
   "id": "8ed6a5cd-c70e-42e2-b941-cde196fae3a6",
   "metadata": {},
   "outputs": [],
   "source": []
  },
  {
   "cell_type": "code",
   "execution_count": null,
   "id": "b0b094b1-da33-4b41-a225-e0a8e1ab60bb",
   "metadata": {},
   "outputs": [],
   "source": []
  },
  {
   "cell_type": "markdown",
   "id": "7a3b1a5c-2f42-4980-bde8-3455695b4a7c",
   "metadata": {},
   "source": [
    "## 参考"
   ]
  },
  {
   "attachments": {},
   "cell_type": "markdown",
   "id": "c850b71e-5bb6-449f-b6f2-31e9a73a7dc9",
   "metadata": {},
   "source": [
    "::::{note}正解と見解\n",
    ":::{table}\n",
    "|問題番号 (配点)|設問|解答記号|正解|配点|備考|\n",
    "|:-:          |:-:|:-:    |:-:|:-:|----|\n",
    "|第３問 (35)   |3  |サ|5 | 2|`100_000_000` (一億)|\n",
    "|             |   |シ|2 | 2|`n = x ÷ okinaKurai`|\n",
    "|             |   |ス|0 | 3|`x = x % okinaKurai`|\n",
    "|             |   |セ|a | 3|`okinaKurai = okinaKurai ÷ 10_000`|\n",
    "|             |   |ソ|0 | 2|(12)行目|\n",
    ":::\n",
    "\n",
    ":::{attention}情報処理学会の問題作成部会の見解\n",
    "\n",
    "問３ \n",
    "１万以上の場合も含めた漢数字表示を行う手続きを題材に、手続きを読み取り構成する\n",
    "能力を問う問題である。提示された手続きの一部として前問の手続きがそのまま使われており、本問の手続きを見通しよく読み取るには、この部分を一つのモジュールとして理解することが望ましい。\n",
    "前問の１桁ずつ取り出す手続きは常套手段であるとの意見もいただいているが、本問では応用的に数を４桁ずつ取り出す手続きを構成させる設問となっている。\n",
    "なお、$2^{31}$と「億」についての説明は、手続きを設計する際に留意すべき点であることから、述べたものである。\n",
    "また、この第３問のような手続きを構成する問題では、他の試験問題と異なり、試験後に実際に動作させて試してみる受験者がいる可能性もある。現在最も普及している計算機における整数の扱いに合わせて、約20億までの値でしか正しく動作しないことを何らかの形で伝えておく必要もあるものと考えられる。\n",
    "\n",
    "試験結果の統計情報を見ると、okinaKurai の初期値や整数除算によって上位桁を取り出す部分については、全体で約３～４割、ほぼ予想したとおりの正答率となった。\n",
    "しかし、`okinaKurai`と`ｘ`を更新する[ス]・[セ]については、全体で約２割と予想よりも低い正答率であった。誤答の中では、10 との除算を選択した者も多く、４桁ごとに区切らねばならないことを理解していないようにも思われる。\n",
    "また、問３の設問はいずれも１割以上がノーマークであり、解答に至らなかった者が若干多かったようである。その理由としては、問２の手続きの理解に時間がかかったのではないかとも思われる。\n",
    ":::\n",
    "::::"
   ]
  }
 ],
 "metadata": {
  "kernelspec": {
   "display_name": "Python 3 (ipykernel)",
   "language": "python",
   "name": "python3"
  },
  "language_info": {
   "codemirror_mode": {
    "name": "ipython",
    "version": 3
   },
   "file_extension": ".py",
   "mimetype": "text/x-python",
   "name": "python",
   "nbconvert_exporter": "python",
   "pygments_lexer": "ipython3",
   "version": "3.11.8"
  }
 },
 "nbformat": 4,
 "nbformat_minor": 5
}
