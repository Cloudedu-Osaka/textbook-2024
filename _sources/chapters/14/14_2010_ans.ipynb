{
 "cells": [
  {
   "cell_type": "markdown",
   "id": "4962d624-0efd-4c00-8444-f8b8c508caee",
   "metadata": {},
   "source": [
    "# 第3問の解答"
   ]
  },
  {
   "cell_type": "markdown",
   "id": "153ee1f8-ad86-4b8d-857b-e9a96f16c9a1",
   "metadata": {},
   "source": [
    "## 問1"
   ]
  },
  {
   "cell_type": "code",
   "execution_count": null,
   "id": "32be0108-e6b1-4f33-9c88-f992505fdb58",
   "metadata": {},
   "outputs": [],
   "source": [
    "%%ai vioras\n"
   ]
  },
  {
   "cell_type": "code",
   "execution_count": null,
   "id": "e78bb0e0-86e0-49d1-8082-4dcb07639c38",
   "metadata": {},
   "outputs": [],
   "source": []
  },
  {
   "cell_type": "code",
   "execution_count": null,
   "id": "1597a2d9-b17d-470c-b974-68a5ff12b1ec",
   "metadata": {},
   "outputs": [],
   "source": []
  },
  {
   "cell_type": "markdown",
   "id": "95bf750a-78b8-45bb-8a0b-757a57dd46c1",
   "metadata": {},
   "source": [
    "## 問2"
   ]
  },
  {
   "cell_type": "code",
   "execution_count": null,
   "id": "16af6a2e-20b4-4b08-8953-fa13fd3a81b9",
   "metadata": {},
   "outputs": [],
   "source": [
    "%%ai vioras\n",
    "今から擬似コードでプログラミングしますが、擬似コードの実行環境はありません。\n",
    "擬似コードのテンプレートを与えるので選択肢から穴埋めを行ってください。\n",
    "さらに、あなたが提示する解答を検証するためPythonのプログラムコードも同時に提示して下さい。"
   ]
  },
  {
   "cell_type": "code",
   "execution_count": null,
   "id": "92595bd9-a827-4033-9fba-613debc83717",
   "metadata": {},
   "outputs": [],
   "source": []
  },
  {
   "cell_type": "code",
   "execution_count": null,
   "id": "1a05a221-92c9-4db3-9af8-fb687a82f2df",
   "metadata": {},
   "outputs": [],
   "source": []
  },
  {
   "cell_type": "code",
   "execution_count": null,
   "id": "5593628f-c181-4a94-a697-01dab3d2006a",
   "metadata": {},
   "outputs": [],
   "source": []
  },
  {
   "cell_type": "code",
   "execution_count": null,
   "id": "839b06f7-dc99-42fc-8b9f-058464e383bd",
   "metadata": {},
   "outputs": [],
   "source": []
  },
  {
   "cell_type": "markdown",
   "id": "2b71b188-3612-44d6-b9eb-7c30c82bc9f2",
   "metadata": {},
   "source": [
    "## 問3"
   ]
  },
  {
   "cell_type": "code",
   "execution_count": null,
   "id": "9b5690d1-5631-4e25-b47d-d7d1707b4879",
   "metadata": {},
   "outputs": [],
   "source": [
    "%%ai vioras\n"
   ]
  },
  {
   "cell_type": "code",
   "execution_count": null,
   "id": "f8112b64-8686-49b7-ae99-25a865e5d6df",
   "metadata": {},
   "outputs": [],
   "source": []
  },
  {
   "cell_type": "code",
   "execution_count": null,
   "id": "ea574f8b-cb7f-432f-b83d-a159f5a19884",
   "metadata": {},
   "outputs": [],
   "source": []
  }
 ],
 "metadata": {
  "kernelspec": {
   "display_name": "Python 3 (ipykernel)",
   "language": "python",
   "name": "python3"
  },
  "language_info": {
   "codemirror_mode": {
    "name": "ipython",
    "version": 3
   },
   "file_extension": ".py",
   "mimetype": "text/x-python",
   "name": "python",
   "nbconvert_exporter": "python",
   "pygments_lexer": "ipython3",
   "version": "3.11.8"
  }
 },
 "nbformat": 4,
 "nbformat_minor": 5
}
