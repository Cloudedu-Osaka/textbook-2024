{
 "cells": [
  {
   "cell_type": "markdown",
   "id": "a274e988-d319-4d3f-b971-964f2cc7dc7b",
   "metadata": {},
   "source": [
    "# 第二週\n",
    "\n",
    "* 同意書の回収\n",
    "* 自己紹介\n",
    "* 前回の課題1\n",
    "    * ChatGPTによる科学史の探訪\n",
    "        - Gaussによる等比数列の和の公式\n",
    "        - 数式とプログラミング\n",
    "        - 数式の変数とプログラムの変数\n",
    "* 前回の課題2\n",
    "    * ChatGPTで入試問題を解く\n",
    "        - 適切なプロンプト\n",
    "            - 適切な用語による伝達\n",
    "                - ChatGPTが学習したことも受験で学習したことも同じ\n",
    "            - 概念を説明し学習させることは不可能\n",
    "* 今回の課題\n",
    "    * 数の表現\n",
    "        * [International System of Units - Wikipedia](https://en.wikipedia.org/wiki/International_System_of_Units)\n",
    "        * [Binary prefix - Wikipedia](https://en.wikipedia.org/wiki/Binary_prefix)"
   ]
  },
  {
   "cell_type": "markdown",
   "id": "1cdcc01d-dc53-408f-87a4-cbbd43cd9cf5",
   "metadata": {
    "tags": []
   },
   "source": [
    "## JupyterLabの使い方\n",
    "\n",
    "JupyterLabは、JupyterHubに接続したときに表示されるUI (User Interface) です。\n",
    "\n",
    "- セルの状態\n",
    "    - 非選択 (他のセルが選択されている)\n",
    "    - [コマンドモード] 選択 (ダブルクリックで入力可状態へ)\n",
    "    - [編集 (入力) モード] 選択+入力可 (Shift+Enterで実行し非選択状態へ)\n",
    "- セルの追加\n",
    "    - 「+」アイコン\n",
    "- コピペ (選択)\n",
    "    - 文字 (Ctrl-C, Ctrl-V / Cmd-C, Cmd-V)\n",
    "        - キーボードショートカットのみ\n",
    "    - セル (C, V)\n",
    "        - メニューからも実行可\n",
    "- 自動保存とカリング\n",
    "    - 変更は自動的に保存されます\n",
    "    - 小一時間ほど放置すると自動的に切断されます"
   ]
  },
  {
   "cell_type": "markdown",
   "id": "486c526d-de81-4ead-8f10-5dd386b09426",
   "metadata": {},
   "source": [
    "```{attention}\n",
    "以下、ChatGPTとの応答です。\n",
    "```"
   ]
  },
  {
   "cell_type": "code",
   "execution_count": 4,
   "id": "cb06f045-ef3e-4fe4-9487-a8cd8ff38995",
   "metadata": {
    "tags": []
   },
   "outputs": [
    {
     "data": {
      "text/markdown": [
       "JupyterLabでは、ノートブックは複数の「セル」に分割されています。それぞれのセルは、コードを実行する場所またはMarkdownでテキストを書く場所として機能します。\n",
       "\n",
       "**セルの選択:**\n",
       "\n",
       "セルを選択するには、セルをクリックします。選択されたセルは、その周囲に薄い枠線が表示されます。複数のセルを選択するには、Shiftキーを押しながらセルをクリックします。\n",
       "\n",
       "**セルの状態:**\n",
       "\n",
       "JupyterLabのセルは主に次の3つの状態を持っています:\n",
       "\n",
       "1. **編集モード:** セルがアクティブで、ユーザーがその中にテキストを入力できる状態です。編集モードのセルは緑の枠線で囲まれています。\n",
       "\n",
       "2. **コマンドモード:** セルがアクティブであるが、ユーザーはセル自体ではなくノートブックと対話しています。このモードでは、キーボードショートカットを使用してセルを操作することができます。コマンドモードのセルは青の枠線で囲まれています。\n",
       "\n",
       "3. **非アクティブモード:** セルが選択されていない状態です。非アクティブモードのセルには枠線はありません。\n",
       "\n",
       "把握しづらい場合や更なる質問がある場合は、お知らせください。"
      ],
      "text/plain": [
       "<IPython.core.display.Markdown object>"
      ]
     },
     "execution_count": 4,
     "metadata": {
      "text/markdown": {
       "jupyter_ai": {
        "custom_chain_id": "vioras"
       }
      }
     },
     "output_type": "execute_result"
    }
   ],
   "source": [
    "%%ai vioras\n",
    "JupyterLabのセルの選択と状態について"
   ]
  },
  {
   "cell_type": "code",
   "execution_count": 5,
   "id": "33c2ac69-e7ee-4a3d-8901-4e98616dab37",
   "metadata": {
    "tags": []
   },
   "outputs": [
    {
     "data": {
      "text/markdown": [
       "JupyterLabでは、新しいセルを追加するための複数の方法があります。\n",
       "\n",
       "1. **「+」ボタンを使う:** JupyterLabのツールバーにある「+」ボタンをクリックすることで、選択中のセルの下に新しいセルを追加することができます。\n",
       "\n",
       "2. **メニューバーを使う:** メニューバーの「Insert」をクリックし、「Insert Cell Above」または「Insert Cell Below」を選択することで、現在のセルの上または下に新しいセルを追加することができます。\n",
       "\n",
       "3. **キーボードショートカットを使う:** キーボードショートカットもセルを追加するための便利な方法です。コマンドモード（セルが青くハイライトされている状態）で「A」を押すと現在のセルの上に、また「B」を押すと現在のセルの下に新しいセルが追加されます。\n",
       "\n",
       "新しいセルはデフォルトでコードセルとして追加されますが、ツールバーのドロップダウンメニューから「Markdown」を選択することで、Markdownセルに変更することも可能です。"
      ],
      "text/plain": [
       "<IPython.core.display.Markdown object>"
      ]
     },
     "execution_count": 5,
     "metadata": {
      "text/markdown": {
       "jupyter_ai": {
        "custom_chain_id": "vioras"
       }
      }
     },
     "output_type": "execute_result"
    }
   ],
   "source": [
    "%%ai vioras\n",
    "JupyterLabのセルの追加について"
   ]
  },
  {
   "cell_type": "code",
   "execution_count": 6,
   "id": "59073dc5-e822-45cc-aa1e-6c6a8756bf22",
   "metadata": {
    "tags": []
   },
   "outputs": [
    {
     "data": {
      "text/markdown": [
       "JupyterLabでは、セルのコピーと貼り付けをするためのいくつかの方法があります。\n",
       "\n",
       "**キーボードショートカットを使用する方法:**\n",
       "\n",
       "1. `C`を押すと、選択中のセルがコピーされます（コマンドモードで操作します）。\n",
       "2. `V`を押すと、コピーしたセルが選択中のセルの下に貼り付けられます（コマンドモードで操作します）。\n",
       "3. `Shift + V`を押すと、コピーしたセルが選択中のセルの上に貼り付けられます（コマンドモードで操作します）。\n",
       "\n",
       "**メニューバーを使用する方法:**\n",
       "\n",
       "メニューバーにある「Edit」メニューから「Copy Cells」を選択してセルをコピーし、「Paste Cells Above」や「Paste Cells Below」を選択してセルを貼り付けます。\n",
       "\n",
       "以上の操作は、単一のセルだけでなく、複数のセルを選択している場合にも適用可能です。ただし、コピーと貼り付けを行うセルは、同じノートブック内である必要があります。\n",
       "\n",
       "さらに詳しい情報や他の操作について説明が必要であれば、お知らせください。"
      ],
      "text/plain": [
       "<IPython.core.display.Markdown object>"
      ]
     },
     "execution_count": 6,
     "metadata": {
      "text/markdown": {
       "jupyter_ai": {
        "custom_chain_id": "vioras"
       }
      }
     },
     "output_type": "execute_result"
    }
   ],
   "source": [
    "%%ai vioras\n",
    "JupyterLabのコピペについて"
   ]
  },
  {
   "cell_type": "markdown",
   "id": "b654da2f-d677-442b-8e7d-1956fbcda0dc",
   "metadata": {
    "tags": []
   },
   "source": [
    "## 自己紹介\n",
    "\n",
    "* 名前と所属学部\n",
    "* AIについてAIに聞いてみたかったこと → 回答をどう思ったか"
   ]
  },
  {
   "cell_type": "markdown",
   "id": "e6a54db8-d71e-4f59-b8f3-0540bb9a00a8",
   "metadata": {},
   "source": [
    "```{note}\n",
    "次のセルの二行目に「あなたがAIに聞いてみたかったこと」を入力して`Shift+Enter`または`shift+return`キーを押してください。\n",
    "ChatGPTからの応答が返るまでに時間が掛かることがあります。\n",
    "特に「AIについてAIに聞いてみたかったこと」を聞いて、ChatGPTからの回答をどう思ったかを自己紹介の際に発表してください。\n",
    "```"
   ]
  },
  {
   "cell_type": "code",
   "execution_count": null,
   "id": "dc84987c-93b7-4747-8c55-c2b1be6d955c",
   "metadata": {},
   "outputs": [],
   "source": [
    "%%ai vioras\n"
   ]
  },
  {
   "cell_type": "code",
   "execution_count": null,
   "id": "7e4c6582-6835-405a-acb6-1e6cfdf7b945",
   "metadata": {},
   "outputs": [],
   "source": []
  },
  {
   "cell_type": "code",
   "execution_count": null,
   "id": "15de4118-b74c-46e1-b23a-58b068f84fb8",
   "metadata": {},
   "outputs": [],
   "source": []
  },
  {
   "cell_type": "markdown",
   "id": "48ccc9bb-db89-424e-84ef-b91806c6c5ef",
   "metadata": {},
   "source": [
    "```{attention}\n",
    "以下、ChatGPTとの応答例です。\n",
    "```"
   ]
  },
  {
   "cell_type": "markdown",
   "id": "0361c01b-42de-422d-8e2e-cf01953d55b2",
   "metadata": {},
   "source": [
    "### 模範解答"
   ]
  },
  {
   "cell_type": "code",
   "execution_count": 1,
   "id": "276f0bf9-3641-43df-8032-de3d08d3610d",
   "metadata": {},
   "outputs": [
    {
     "data": {
      "text/markdown": [
       "AIは教育の分野で非常に有用なツールとなりつつあります。具体的には、プログラミングの学習において、ChatGPTのようなモデルを活用することは多くの利点があります。\n",
       "\n",
       "1. **個々の学習者に対するパーソナライズドな学習経験の提供**: AIは学習者の様々なスキルレベルや学習スタイルに対応する能力を持っています。それにより、チュートリアルや教材を個々の学習者に合わせてカスタマイズすることができます。\n",
       "\n",
       "2. **24/7のアクセス**: AIはいつでもどこでも学習者の質問に答えることができます。これは学習者が自分自身のペースで学習できることを意味し、教師が必ずしもいつでも利用可能である必要がなくなります。\n",
       "\n",
       "3. **インタラクティブな学習**: AIは学習者に対して即時のフィードバックを提供し、学習者が自分の理解度を確認するのに役立ちます。\n",
       "\n",
       "しかし、AIを教育ツールとして使用する際には注意すべき点もあります。例えば、AIの回答は常に正確ではないかもしれません。また、AIが提供する情報は、教師が提供する情報ほど詳細で具体的ではないかもしれません。さらに、AIがプログラミングのような複雑なトピックを教える能力は、その設計とトレーニングに大きく依存します。\n",
       "\n",
       "したがって、プログラミングの授業にChatGPTを使用することを検討する場合は、これらの利点と限界を理解しておくことが重要です。また、AIが学習者の理解と知識の深化をサポートする補完的なツールとして使用されるべきであり、教師の役割を置き換えるものではないと考えることが重要です。"
      ],
      "text/plain": [
       "<IPython.core.display.Markdown object>"
      ]
     },
     "execution_count": 1,
     "metadata": {
      "text/markdown": {
       "jupyter_ai": {
        "custom_chain_id": "vioras"
       }
      }
     },
     "output_type": "execute_result"
    }
   ],
   "source": [
    "%%ai vioras\n",
    "ChatGPTをプログラミングの授業に使うことをどう思うか？"
   ]
  },
  {
   "cell_type": "code",
   "execution_count": 2,
   "id": "7fc86d7a-2fb6-48b8-aabf-68d0989fbd26",
   "metadata": {},
   "outputs": [
    {
     "data": {
      "text/markdown": [
       "Using AI like ChatGPT in a classroom setting could offer several benefits, but it's important to bear in mind some limitations as well.\n",
       "\n",
       "**Benefits:**\n",
       "\n",
       "1. **Personalized Learning:** AI can cater to different skill levels and learning styles, allowing for tailored instructions and resources for each student.\n",
       "\n",
       "2. **24/7 Accessibility:** AI can answer questions at any time, which means students can learn at their own pace without needing a teacher to be always available.\n",
       "\n",
       "3. **Interactive Learning:** AI can provide instant feedback, helping students check their understanding and correct misconceptions immediately.\n",
       "\n",
       "4. **Engagement:** AI-driven tools like ChatGPT could make learning more engaging and fun, especially for students who are digitally inclined.\n",
       "\n",
       "**Limitations:**\n",
       "\n",
       "1. **Accuracy:** AI's responses might not always be accurate. It's crucial to have a mechanism in place to check and correct these inaccuracies.\n",
       "\n",
       "2. **Lack of Human Touch:** AI can't replace the empathetic understanding and personal connection that human teachers provide. \n",
       "\n",
       "3. **Data Privacy:** Using AI in classrooms could raise concerns about students' data privacy.\n",
       "\n",
       "4. **Dependence on Technology:** Overreliance on AI can lead to decreased human interaction and increased screen time.\n",
       "\n",
       "So, while using something like ChatGPT in the classroom could be a valuable supplement to traditional teaching methods, it's important to use it as a tool to aid the teaching process, not replace teachers. It should be used thoughtfully, in a manner that enhances learning without compromising the quality of education or the well-being of students."
      ],
      "text/plain": [
       "<IPython.core.display.Markdown object>"
      ]
     },
     "execution_count": 2,
     "metadata": {
      "text/markdown": {
       "jupyter_ai": {
        "custom_chain_id": "vioras"
       }
      }
     },
     "output_type": "execute_result"
    }
   ],
   "source": [
    "%%ai vioras\n",
    "how do you think about using chatgpt in classroom?"
   ]
  },
  {
   "cell_type": "code",
   "execution_count": 3,
   "id": "3a9d9ef6-1801-418f-9687-f76560c04d9c",
   "metadata": {},
   "outputs": [
    {
     "data": {
      "text/markdown": [
       "AIをChatGPTのような教室の環境で使用することは、いくつかの利点がある一方で、いくつかの制限も念頭に置く必要があります。\n",
       "\n",
       "**利点:**\n",
       "\n",
       "1. **パーソナライズドな学習:** AIは異なるスキルレベルや学習スタイルに対応することができ、各学生に合わせた指導とリソースを提供することができます。\n",
       "\n",
       "2. **24/7のアクセシビリティ:** AIはいつでも質問に答えることができます。これは、学生が自分自身のペースで学習でき、教師が常に利用可能である必要がないことを意味します。\n",
       "\n",
       "3. **インタラクティブな学習:** AIは即時のフィードバックを提供することができ、学生が自分の理解をチェックし、誤解をすぐに訂正するのに役立ちます。\n",
       "\n",
       "4. **エンゲージメント:** ChatGPTのようなAI駆動のツールは、特にデジタルに傾倒する学生にとって、学習をより魅力的で楽しくすることができます。\n",
       "\n",
       "**制限:**\n",
       "\n",
       "1. **精度:** AIの回答は常に正確ではないかもしれません。これらの不正確さをチェックし、訂正するメカニズムを設けることが重要です。\n",
       "\n",
       "2. **人間のタッチの欠如:** AIは人間の教師が提供する共感的な理解と個人的な繋がりを置き換えることはできません。\n",
       "\n",
       "3. **データプライバシー:** 教室でAIを使用することは、生徒のデータプライバシーに関する懸念を引き起こす可能性があります。\n",
       "\n",
       "4. **技術への依存:** AIへの過度な依存は、人間の相互作用の減少と画面時間の増加につながる可能性があります。\n",
       "\n",
       "したがって、教室でChatGPTのようなものを使用することは、伝統的な教育方法を補完する貴重なツールとなる可能性がありますが、それを教育過程を助けるツールとして、教師を置き換えるものではなく使用することが重要です。それは、教育の質や学生の福祉を損なうことなく学習を強化する方法で、慎重に使用するべきです。"
      ],
      "text/plain": [
       "<IPython.core.display.Markdown object>"
      ]
     },
     "execution_count": 3,
     "metadata": {
      "text/markdown": {
       "jupyter_ai": {
        "custom_chain_id": "vioras"
       }
      }
     },
     "output_type": "execute_result"
    }
   ],
   "source": [
    "%%ai vioras\n",
    "in japanese"
   ]
  },
  {
   "cell_type": "markdown",
   "id": "a42067da-41b9-4e04-9ba0-c0fd89b4f67b",
   "metadata": {},
   "source": [
    "### 参考）去年の模範回答"
   ]
  },
  {
   "cell_type": "markdown",
   "id": "0cc9089a-aba1-42ff-88f4-3463942c0a5a",
   "metadata": {},
   "source": [
    "```{note}\n",
    "昨年のGPT-3.5 Turboモデルからの応答例です。\n",
    "今年はGPT-4.0を使っています。\n",
    "\n",
    "* [Models - OpenAI API](https://platform.openai.com/docs/models)\n",
    "```"
   ]
  },
  {
   "cell_type": "code",
   "execution_count": 20,
   "id": "0073cf05-dd62-4275-a4ab-3d84ea7a91f9",
   "metadata": {
    "tags": []
   },
   "outputs": [
    {
     "data": {
      "text/markdown": [
       "ChatGPTは、自然言語処理技術を使用して、人工知能による対話を可能にするための革新的な技術です。プログラミングの授業でChatGPTを使用することは、学生たちにとって非常に有益であると思われます。ChatGPTを使用することで、学生たちは自然言語処理技術の基礎を学ぶことができ、また、プログラミングにおける人工知能の応用についても学ぶことができます。ChatGPTを使用することで、学生たちは、自分たちでプログラムを作成することなく、人工知能による対話を体験することができます。これは、プログラミングの初心者にとって非常に有益であり、プログラミングの基礎を学ぶための優れた手段となるでしょう。"
      ],
      "text/plain": [
       "<IPython.core.display.Markdown object>"
      ]
     },
     "metadata": {},
     "output_type": "display_data"
    }
   ],
   "source": [
    "%%ai_ask\n",
    "ChatGPTをプログラミングの授業に使うことをどう思うか？"
   ]
  },
  {
   "cell_type": "code",
   "execution_count": 16,
   "id": "1fbb2dad-b659-48ff-bc7f-d4657a4d3f45",
   "metadata": {
    "tags": []
   },
   "outputs": [
    {
     "data": {
      "text/markdown": [
       "ChatGPT is a program that enables artificial intelligence-based conversation using natural language processing technology. If used in the classroom, students can use ChatGPT to resolve questions or doubts. This could be an efficient learning method as students do not need to research on their own and teachers can quickly respond to students' questions. However, since ChatGPT is not yet perfect and may not always provide accurate answers, it is important for teachers to provide accurate information to students."
      ],
      "text/plain": [
       "<IPython.core.display.Markdown object>"
      ]
     },
     "metadata": {},
     "output_type": "display_data"
    }
   ],
   "source": [
    "%%ai_continue\n",
    "how do you think about using chatgpt in classroom?"
   ]
  }
 ],
 "metadata": {
  "kernelspec": {
   "display_name": "Python 3 (ipykernel)",
   "language": "python",
   "name": "python3"
  },
  "language_info": {
   "codemirror_mode": {
    "name": "ipython",
    "version": 3
   },
   "file_extension": ".py",
   "mimetype": "text/x-python",
   "name": "python",
   "nbconvert_exporter": "python",
   "pygments_lexer": "ipython3",
   "version": "3.11.8"
  }
 },
 "nbformat": 4,
 "nbformat_minor": 5
}
