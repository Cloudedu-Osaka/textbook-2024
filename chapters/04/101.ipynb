{
 "cells": [
  {
   "cell_type": "markdown",
   "id": "fd1d7125-4ce3-439b-b311-c65f38afb515",
   "metadata": {},
   "source": [
    "# 第四週\n",
    "\n",
    "## この授業の2つの目標\n",
    "\n",
    "* プログラミングで科学史を遡る\n",
    "    * 初等・中等教育で学習した内容を科学史を遡って補修 (remedial) する\n",
    "    * 日本語で記述された内容をプログラミングで記述し思考する\n",
    "        * 数式やアルゴリズム (証明)\n",
    "        * 入試問題"
   ]
  },
  {
   "cell_type": "markdown",
   "id": "b3312e1a-2b42-4bdc-b144-557ea3887d65",
   "metadata": {},
   "source": [
    "* 前々回の課題1\n",
    "    * ChatGPTによる科学史の探訪\n",
    "        - Gaussによる等比数列の和の公式\n",
    "        - 数式とプログラミング\n",
    "            - 数式の変数とプログラムの変数\n",
    "* 前々回の課題2\n",
    "    * ChatGPTで入試問題を解く\n",
    "        - 適切なプロンプト\n",
    "            - 適切な用語による伝達\n",
    "                - ChatGPTが学習したことも受験で学習したことも同じ\n",
    "            - 概念を説明し学習させることは不可能\n",
    "* 前回の課題\n",
    "    * 数の表現\n",
    "        * [International System of Units - Wikipedia](https://en.wikipedia.org/wiki/International_System_of_Units)\n",
    "        * [Binary prefix - Wikipedia](https://en.wikipedia.org/wiki/Binary_prefix)\n",
    "* 今回の課題\n",
    "    * ピタゴラス音階"
   ]
  },
  {
   "cell_type": "code",
   "execution_count": null,
   "id": "4aeaee35-1ee4-4711-8987-b003b013b97b",
   "metadata": {},
   "outputs": [],
   "source": []
  }
 ],
 "metadata": {
  "kernelspec": {
   "display_name": "Python 3 (ipykernel)",
   "language": "python",
   "name": "python3"
  },
  "language_info": {
   "codemirror_mode": {
    "name": "ipython",
    "version": 3
   },
   "file_extension": ".py",
   "mimetype": "text/x-python",
   "name": "python",
   "nbconvert_exporter": "python",
   "pygments_lexer": "ipython3",
   "version": "3.11.8"
  }
 },
 "nbformat": 4,
 "nbformat_minor": 5
}
