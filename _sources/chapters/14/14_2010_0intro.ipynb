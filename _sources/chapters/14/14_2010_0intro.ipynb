{
 "cells": [
  {
   "cell_type": "markdown",
   "id": "3724511e-67bd-41f1-b188-48bc773629bc",
   "metadata": {},
   "source": [
    "# 第14回: 達成度評価"
   ]
  },
  {
   "cell_type": "markdown",
   "id": "bd16bada-da31-47e6-b024-e86336cd5605",
   "metadata": {},
   "source": [
    "## 情報関係基礎 2010年度の第３問に解答する"
   ]
  },
  {
   "cell_type": "markdown",
   "id": "ad1b5836-3ec9-4c3f-ac98-d48b02c4e980",
   "metadata": {
    "tags": []
   },
   "source": [
    "|年度 |題材        |if |else|elif|前条件ループ|後条件ループ|for|条件演算|switch|一次元配列|二次元配列|配列初期化|\n",
    "|:- |:-          |:-:|:-:|----|----------|:-:       |:-:|------|------|:-:      |---------|--------|\n",
    "|2008|バブルソート  |◯  |    |    |          |◯         |◯  |      |      |◯        |         |        |\n",
    "|2010|漢数字への変換|◯  |◯   |    |          |         |◯  |      |      |◯        |         |        |"
   ]
  },
  {
   "cell_type": "markdown",
   "id": "6b9b7111-b109-47c8-b79c-1bb36591c0b8",
   "metadata": {},
   "source": [
    "## 進行手順\n",
    "\n",
    "1. (10分) 情報端末を使わず紙面で問題を理解する\n",
    "2. (20分) 問１\n",
    "    * (5分) 解説\n",
    "    * (10分) ChatGPTとの応答で解く\n",
    "    * (5分) 答え合わせ\n",
    "4. (20分) 問２\n",
    "    * (5分) 解説\n",
    "    * (10分) ChatGPTとの応答で解く\n",
    "    * (5分) 答え合わせ\n",
    "6. (20分) 問３\n",
    "    * (5分) 解説\n",
    "    * (10分) ChatGPTとの応答で解く\n",
    "    * (5分) 答え合わせ"
   ]
  },
  {
   "cell_type": "markdown",
   "id": "42e1703d-b9f0-441e-ac10-1d95daf38eb1",
   "metadata": {},
   "source": [
    "## 情報処理学会の問題作成部会の見解"
   ]
  },
  {
   "cell_type": "markdown",
   "id": "2e77a3b8-4b78-44af-a1b7-91703feaf3af",
   "metadata": {},
   "source": [
    "プログラミングを通じて論理的思考力を問う選択問題として出題して５年目となる。高等学校でのプログラミング実習量が異なることを考慮し、<u>四則演算や配列操作を中心にして、与えられた条件から手続きやアルゴリズムの動作を理解する能力</u>を問う方針で作題している。"
   ]
  },
  {
   "cell_type": "markdown",
   "id": "4b2f7432-b7fe-4f46-960a-1a209684cf06",
   "metadata": {},
   "source": [
    "今回の出題は、<u>正の整数値の漢数字表示</u>を題材とした。数の漢数字による表記は既習事項であり、受験者にとって取り組みやすい問題であったとの意見もいただいている。処理手順の記述は、特定のプログラミング言語を用いることによって生じる不公平を避けるため、制限された構文を持つ日本語表記の言語（ＤＮＣＬ）を用いた。"
   ]
  },
  {
   "cell_type": "markdown",
   "id": "1d108b49-35c6-4e7f-b305-1351173318d1",
   "metadata": {},
   "source": [
    "![fig-01](./fig-01.png)"
   ]
  },
  {
   "cell_type": "markdown",
   "id": "cc70628e-e614-45b0-94ef-a702aa37792e",
   "metadata": {},
   "source": [
    "![fig-02](./fig-02.png)"
   ]
  },
  {
   "cell_type": "markdown",
   "id": "7c1a10fe-a808-4238-b2bd-8b0af632ca68",
   "metadata": {},
   "source": [
    "![fig-03](./fig-03.png)"
   ]
  },
  {
   "cell_type": "markdown",
   "id": "e4a15f56-9a42-4dc3-8493-0d447f5128e8",
   "metadata": {},
   "source": [
    "![fig-04](./fig-04.png)"
   ]
  },
  {
   "cell_type": "markdown",
   "id": "8ccc0001-0125-485c-bfd4-eff3ce0ed8a5",
   "metadata": {},
   "source": [
    "![fig-05](./fig-05.png)"
   ]
  },
  {
   "cell_type": "markdown",
   "id": "179c8d0f-9dd5-4987-94a9-0c1f6d36ef64",
   "metadata": {},
   "source": [
    "![fig-06](./fig-06.png)"
   ]
  }
 ],
 "metadata": {
  "kernelspec": {
   "display_name": "Python 3 (ipykernel)",
   "language": "python",
   "name": "python3"
  },
  "language_info": {
   "codemirror_mode": {
    "name": "ipython",
    "version": 3
   },
   "file_extension": ".py",
   "mimetype": "text/x-python",
   "name": "python",
   "nbconvert_exporter": "python",
   "pygments_lexer": "ipython3",
   "version": "3.11.8"
  }
 },
 "nbformat": 4,
 "nbformat_minor": 5
}
