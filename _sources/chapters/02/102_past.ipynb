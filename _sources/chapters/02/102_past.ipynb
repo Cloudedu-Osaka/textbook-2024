{
 "cells": [
  {
   "attachments": {},
   "cell_type": "markdown",
   "id": "793dd211-fa00-40bd-aae1-c8f13884e580",
   "metadata": {},
   "source": [
    "# Assingment 1\n",
    "\n",
    "```{note}\n",
    "ChatGPTとの対話によって科学史を遡り、ChatGPTによってプログラムを生成する例です。\n",
    "```\n",
    "\n",
    "## ChatGPIとの次のやりとりを参考にして、「末尾再帰」を行う関数を実装せよ\n",
    "\n",
    "* [Tail call - Wikipedia](https://en.wikipedia.org/wiki/Tail_call)\n",
    "  * プログラミング言語で繰り返し実行を行う際に、関数を「末尾再帰」で再帰的に呼び出す実装方法がある。\n",
    "  * 機械的にループに置き換えることができるため、プログラムを高速に実行するための技法として黎明期から活用されてきた。\n",
    "* 以下のやりとりを参考にして、自然数列の和を求める際にガウスが用いたアルゴリズムを末尾再帰によって実装せよ。\n",
    "    * 他の実装方法との実行時間の比較方法を聞き出せるとなおよい。\n",
    "---"
   ]
  },
  {
   "cell_type": "code",
   "execution_count": 1,
   "id": "2a1e92c9-d2f8-4b9c-ac61-8ec8f8b972a7",
   "metadata": {},
   "outputs": [
    {
     "data": {
      "text/markdown": [
       "カール・フリードリヒ・ガウス（Johann Carl Friedrich Gauss, 1777年4月30日 - 1855年2月23日）は、ドイツの数学者であり、物理学者であり、天文学者です。彼は「数学の王子」と呼ばれ、その広範な貢献は数学のほぼすべての分野に及びます。\n",
       "\n",
       "ガウスは、数論、統計学、解析学、微分幾何学、地磁気学、天文学などの分野で多大な貢献をしました。彼の名前は、ガウス分布（正規分布）、ガウスの法則、ガウスの素数定理など、数学と物理学の数々の概念と定理に冠されています。\n",
       "\n",
       "彼の著名な業績の中には、以下のものがあります:\n",
       "\n",
       "1. **数論**: ガウスは若くして「算術の基本定理」を証明しました。これは、任意の自然数は一意的に素数の積に分解できるという定理です。\n",
       "\n",
       "2. **天文学**: ガウスは天体の軌道を計算する新しい方法を開発しました。彼はこの方法を用いて、小惑星ケレスの位置を正確に予測しました。\n",
       "\n",
       "3. **統計学**: ガウスは最小二乗法を発展させ、これが統計学の基本的なツールとなりました。また、ガウス分布（正規分布）は彼の名前にちなんで名付けられました。\n",
       "\n",
       "4. **地磁気学**: ガウスは地磁気の研究においても重要な貢献をしました。彼の名前は、地磁気の強度を測定する単位「ガウス」にも使われています。\n",
       "\n",
       "5. **非ユークリッド幾何学**: ガウスは非ユークリッド幾何学の可能性を初めて認識しましたが、その発見は公にはされませんでした。しかし、彼の手紙やノートから、彼がこの分野を深く理解していたことが明らかになりました。\n",
       "\n",
       "以上のように、ガウスは数学と科学の多くの分野で深遠な影響を与えました。ガウスの多大な貢献により、彼は数学史上最も偉大な数学者の一人と広く認識されています。"
      ],
      "text/plain": [
       "<IPython.core.display.Markdown object>"
      ]
     },
     "execution_count": 1,
     "metadata": {
      "text/markdown": {
       "jupyter_ai": {
        "custom_chain_id": "vioras"
       }
      }
     },
     "output_type": "execute_result"
    }
   ],
   "source": [
    "%%ai vioras\n",
    "ガウスについて"
   ]
  },
  {
   "cell_type": "code",
   "execution_count": 2,
   "id": "fecc024f-babb-486f-9eaa-f1847b024484",
   "metadata": {},
   "outputs": [
    {
     "data": {
      "text/markdown": [
       "カール・フリードリヒ・ガウスの少年時代には、彼の驚異的な数学的才能が明らかになった有名なエピソードがあります。\n",
       "\n",
       "このエピソードは、彼がまだ小学生だったときのことです。ガウスの先生は、生徒たちに1から100までの全ての自然数を足す課題を出しました。これは生徒たちを忙しくさせ、先生が他の仕事をする間に時間を稼ぐためのものでした。\n",
       "\n",
       "しかし、ガウスはほんの数秒で答えを見つけてしまいました。彼は1と100を足し、次に2と99を足し、3と98を足し…というように、対になる数を足しました。それぞれの対の和は101で、それが50対あるため、答えは101×50=5050だとすぐに計算しました。\n",
       "\n",
       "このエピソードは、ガウスが数学的なパターンや関係性を直感的に理解し、それを用いて複雑な問題を素早く解く能力を早くから持っていたことを示しています。このような直感と洞察力は、彼が数学の多くの分野で重要な発見をする基礎となりました。"
      ],
      "text/plain": [
       "<IPython.core.display.Markdown object>"
      ]
     },
     "execution_count": 2,
     "metadata": {
      "text/markdown": {
       "jupyter_ai": {
        "custom_chain_id": "vioras"
       }
      }
     },
     "output_type": "execute_result"
    }
   ],
   "source": [
    "%%ai vioras\n",
    "ガウスの少年時代の有名なエピソードを語ってください"
   ]
  },
  {
   "cell_type": "code",
   "execution_count": 3,
   "id": "cd996826-fd31-4250-a06b-8d72534076eb",
   "metadata": {},
   "outputs": [
    {
     "data": {
      "text/markdown": [
       "Pythonで1から100までの全ての自然数を足す関数を作成すると以下のようになります：\n",
       "\n",
       "```python\n",
       "def sum_numbers(n):\n",
       "    return sum(range(1, n + 1))\n",
       "\n",
       "print(sum_numbers(100))\n",
       "```\n",
       "\n",
       "この関数`sum_numbers`は、引数`n`までの全ての自然数を足すものです。Pythonの`range`関数は指定した範囲の数列を生成し、`sum`関数はその数列の合計を計算します。\n",
       "\n",
       "`print(sum_numbers(100))`を実行すると、1から100までの全ての自然数の合計である5050が得られます。\n",
       "\n",
       "ただし、ガウスが使用した方法は、以下のように数列の最初の数と最後の数を足し、それを数列の半分の長さ（対の数）と掛けるというものでした。これをPythonで表現すると以下のようになります：\n",
       "\n",
       "```python\n",
       "def gauss_sum(n):\n",
       "    return (n * (n + 1)) // 2\n",
       "\n",
       "print(gauss_sum(100))\n",
       "```\n",
       "\n",
       "この関数`gauss_sum`でも、1から100までの全ての自然数の合計である5050が得られます。これはガウスの方法が正確であり、また計算が非常に効率的であることを示しています。"
      ],
      "text/plain": [
       "<IPython.core.display.Markdown object>"
      ]
     },
     "execution_count": 3,
     "metadata": {
      "text/markdown": {
       "jupyter_ai": {
        "custom_chain_id": "vioras"
       }
      }
     },
     "output_type": "execute_result"
    }
   ],
   "source": [
    "%%ai vioras\n",
    "その計算をPythonの関数にすると？"
   ]
  },
  {
   "cell_type": "code",
   "execution_count": 4,
   "id": "88f96397-96e7-4fc1-8d81-60443805132e",
   "metadata": {},
   "outputs": [
    {
     "data": {
      "text/markdown": [
       "Pythonを実行するためには、まずPythonがインストールされている環境が必要です。それが確認できたら、Pythonのコードを記述したファイルを作成し、そのファイルをPythonのインタープリタで実行します。\n",
       "\n",
       "以下に、詳細な手順を示します。\n",
       "\n",
       "1. テキストエディタ（例えば、Notepad++やSublime Textなど）を開き、新しいファイルを作成します。\n",
       "\n",
       "2. 次のPythonコードをそのファイルに貼り付けます：\n",
       "\n",
       "    ```python\n",
       "    def gauss_sum(n):\n",
       "        return (n * (n + 1)) // 2\n",
       "\n",
       "    print(gauss_sum(100))\n",
       "    ```\n",
       "\n",
       "3. このファイルを`gauss_sum.py`という名前（拡張子は`.py`）で保存します。\n",
       "\n",
       "4. コマンドプロンプト（Windows）またはターミナル（macOSやLinux）を開きます。\n",
       "\n",
       "5. `gauss_sum.py`が保存されたディレクトリに移動します。例えば、もしファイルがデスクトップに保存されているなら、以下のコマンドを使います：\n",
       "\n",
       "    ```bash\n",
       "    cd Desktop\n",
       "    ```\n",
       "\n",
       "6. 次に、以下のコマンドを使ってPythonスクリプトを実行します：\n",
       "\n",
       "    ```bash\n",
       "    python gauss_sum.py\n",
       "    ```\n",
       "\n",
       "7. 正しく実行された場合、ターミナルには`5050`と表示されます。これが1から100までの全ての自然数の合計です。\n",
       "\n",
       "以上が具体的なPythonの実行方法です。ただし、この手順はあくまで一例であり、使用する環境やエディタにより異なる場合があります。"
      ],
      "text/plain": [
       "<IPython.core.display.Markdown object>"
      ]
     },
     "execution_count": 4,
     "metadata": {
      "text/markdown": {
       "jupyter_ai": {
        "custom_chain_id": "vioras"
       }
      }
     },
     "output_type": "execute_result"
    }
   ],
   "source": [
    "%%ai vioras\n",
    "具体的な実行方法は？"
   ]
  },
  {
   "cell_type": "code",
   "execution_count": 5,
   "id": "0e76cfec-2d6d-4085-a7c0-31a744d58d13",
   "metadata": {},
   "outputs": [
    {
     "data": {
      "text/markdown": [
       "あ、すみません、その通りですね。JupyterLabの環境であることを見落としていました。\n",
       "\n",
       "JupyterLabでは、新しいノートブックを作成し、その中にPythonのコードを入力して実行します。以下に具体的な手順を示します。\n",
       "\n",
       "1. JupyterLabを開き、左上の「File」メニューから「New」を選び、「Notebook」を選択します。\n",
       "\n",
       "2. 新しいノートブックが開かれ、セルが一つ表示されます。このセルに以下のPythonのコードを入力します：\n",
       "\n",
       "    ```python\n",
       "    def gauss_sum(n):\n",
       "        return (n * (n + 1)) // 2\n",
       "\n",
       "    print(gauss_sum(100))\n",
       "    ```\n",
       "\n",
       "3. コードを入力したら、セルを実行します。これには、上部のツールバーにある「Run」ボタンを押すか、キーボードショートカットの`Shift + Enter`（または`Ctrl + Enter`）を使用します。\n",
       "\n",
       "4. セルが実行され、出力エリアに`5050`と表示されます。これが1から100までの全ての自然数の合計です。\n",
       "\n",
       "このように、JupyterLabではノートブック内で直接Pythonのコードを実行でき、結果も同じ場所で確認できます。また、Markdownを使って説明文を加えるなど、コードとその説明を一緒に記録することも可能です。"
      ],
      "text/plain": [
       "<IPython.core.display.Markdown object>"
      ]
     },
     "execution_count": 5,
     "metadata": {
      "text/markdown": {
       "jupyter_ai": {
        "custom_chain_id": "vioras"
       }
      }
     },
     "output_type": "execute_result"
    }
   ],
   "source": [
    "%%ai vioras\n",
    "ここはJupyterであなたはJupyternautのはずです。"
   ]
  },
  {
   "cell_type": "code",
   "execution_count": 6,
   "id": "3e61ac97-260e-449f-9848-af2ca4f0c46c",
   "metadata": {},
   "outputs": [
    {
     "data": {
      "text/markdown": [
       "末尾再帰（Tail Recursion）は、再帰の一種で、再帰呼び出しが関数の最後の操作となる形式のことを指します。これはスタックの深さを抑制するのに役立ちます。\n",
       "\n",
       "しかし、Pythonは末尾再帰の最適化をサポートしていません。つまり、Pythonでは末尾再帰を使用したとしても、再帰呼び出しでスタックオーバーフローを引き起こす可能性があります。\n",
       "\n",
       "したがって、Pythonで大きな数を扱う場合は、再帰よりも反復（ループ）を使用することが推奨されます。しかし、あくまで学習目的であれば、以下にガウスの加算問題を末尾再帰で解くPythonのコードを示します：\n",
       "\n",
       "```python\n",
       "def gauss_sum(n, acc=0):\n",
       "    if n == 0:\n",
       "        return acc\n",
       "    else:\n",
       "        return gauss_sum(n-1, acc+n)\n",
       "\n",
       "print(gauss_sum(100))\n",
       "```\n",
       "\n",
       "ここで`acc`は「accumulator」（累積器）の略で、これまでの加算結果を保持します。各再帰呼び出しでは、`n`を1つずつ減らし、`acc`に`n`を加えます。`n`が0になったとき、`acc`が最終結果となります。"
      ],
      "text/plain": [
       "<IPython.core.display.Markdown object>"
      ]
     },
     "execution_count": 6,
     "metadata": {
      "text/markdown": {
       "jupyter_ai": {
        "custom_chain_id": "vioras"
       }
      }
     },
     "output_type": "execute_result"
    }
   ],
   "source": [
    "%%ai vioras\n",
    "この関数を末尾再帰を使うように書き換えることはできますか？"
   ]
  },
  {
   "cell_type": "code",
   "execution_count": 7,
   "id": "067bc5fa-eacc-40fd-a085-bbc2e0c66f5c",
   "metadata": {},
   "outputs": [
    {
     "data": {
      "text/markdown": [
       "Pythonの`timeit`モジュールを使用して、末尾再帰版とループ版のガウスの加算問題の実行速度を比較することができます。以下にそのためのコードを示します：\n",
       "\n",
       "```python\n",
       "import timeit\n",
       "\n",
       "# Tail recursion version\n",
       "def gauss_sum_rec(n, acc=0):\n",
       "    if n == 0:\n",
       "        return acc\n",
       "    else:\n",
       "        return gauss_sum_rec(n-1, acc+n)\n",
       "\n",
       "# Loop version\n",
       "def gauss_sum_loop(n):\n",
       "    acc = 0\n",
       "    for i in range(1, n + 1):\n",
       "        acc += i\n",
       "    return acc\n",
       "\n",
       "# Measure time of tail recursion version\n",
       "start_time = timeit.default_timer()\n",
       "gauss_sum_rec(100)\n",
       "end_time = timeit.default_timer()\n",
       "print(f\"Tail recursion: {end_time - start_time} seconds\")\n",
       "\n",
       "# Measure time of loop version\n",
       "start_time = timeit.default_timer()\n",
       "gauss_sum_loop(100)\n",
       "end_time = timeit.default_timer()\n",
       "print(f\"Loop: {end_time - start_time} seconds\")\n",
       "```\n",
       "\n",
       "このコードは、`gauss_sum_rec`と`gauss_sum_loop`の実行時間を計測し、その結果を表示します。`timeit.default_timer`を使用して計測を開始し、再度`timeit.default_timer`を呼び出して計測を終了し、その差を計算することで、関数の実行時間を測定します。\n",
       "\n",
       "ただし、Pythonは末尾再帰の最適化をサポートしていないため、再帰版はループ版に比べて実行時間が長くなる可能性があります。"
      ],
      "text/plain": [
       "<IPython.core.display.Markdown object>"
      ]
     },
     "execution_count": 7,
     "metadata": {
      "text/markdown": {
       "jupyter_ai": {
        "custom_chain_id": "vioras"
       }
      }
     },
     "output_type": "execute_result"
    }
   ],
   "source": [
    "%%ai vioras\n",
    "末尾再帰とループの実行速度を比較したい。"
   ]
  },
  {
   "cell_type": "code",
   "execution_count": 8,
   "id": "7ec5cd8f-6b3d-4168-8040-1fbc4179871c",
   "metadata": {},
   "outputs": [
    {
     "name": "stdout",
     "output_type": "stream",
     "text": [
      "Tail recursion: 5.140100256539881e-05 seconds\n",
      "Loop: 4.2400992242619395e-05 seconds\n"
     ]
    }
   ],
   "source": [
    "import timeit\n",
    "\n",
    "# Tail recursion version\n",
    "def gauss_sum_rec(n, acc=0):\n",
    "    if n == 0:\n",
    "        return acc\n",
    "    else:\n",
    "        return gauss_sum_rec(n-1, acc+n)\n",
    "\n",
    "# Loop version\n",
    "def gauss_sum_loop(n):\n",
    "    acc = 0\n",
    "    for i in range(1, n + 1):\n",
    "        acc += i\n",
    "    return acc\n",
    "\n",
    "# Measure time of tail recursion version\n",
    "start_time = timeit.default_timer()\n",
    "gauss_sum_rec(100)\n",
    "end_time = timeit.default_timer()\n",
    "print(f\"Tail recursion: {end_time - start_time} seconds\")\n",
    "\n",
    "# Measure time of loop version\n",
    "start_time = timeit.default_timer()\n",
    "gauss_sum_loop(100)\n",
    "end_time = timeit.default_timer()\n",
    "print(f\"Loop: {end_time - start_time} seconds\")"
   ]
  },
  {
   "cell_type": "code",
   "execution_count": null,
   "id": "80cd23d0-5a41-48e3-a980-44819de9fec4",
   "metadata": {},
   "outputs": [],
   "source": []
  }
 ],
 "metadata": {
  "kernelspec": {
   "display_name": "Python 3 (ipykernel)",
   "language": "python",
   "name": "python3"
  },
  "language_info": {
   "codemirror_mode": {
    "name": "ipython",
    "version": 3
   },
   "file_extension": ".py",
   "mimetype": "text/x-python",
   "name": "python",
   "nbconvert_exporter": "python",
   "pygments_lexer": "ipython3",
   "version": "3.11.8"
  }
 },
 "nbformat": 4,
 "nbformat_minor": 5
}
