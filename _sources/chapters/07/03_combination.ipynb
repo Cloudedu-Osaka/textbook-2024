{
 "cells": [
  {
   "cell_type": "markdown",
   "id": "8e913aed-9a0a-4175-820d-8fa1ce006497",
   "metadata": {},
   "source": [
    "# 数の組み合わせによる概念の生成"
   ]
  },
  {
   "cell_type": "markdown",
   "id": "175c39a4-a08f-412d-b070-82d2ffa5b465",
   "metadata": {},
   "source": [
    "* [Combination - Wikipedia](https://en.wikipedia.org/wiki/Combination)"
   ]
  },
  {
   "cell_type": "code",
   "execution_count": 1,
   "id": "9e834056-3ee8-462c-be52-86d45f6b5e66",
   "metadata": {},
   "outputs": [
    {
     "data": {
      "text/markdown": [
       "組み合わせとは、数学の一分野である組合せ論における基本的な概念で、特定の集合から選んだ要素のグループを指します。具体的には、$n$個の異なる要素から$k$個を選ぶ際の異なる選び方の総数を表します。\n",
       "\n",
       "組み合わせは次のような数式で表されます：\n",
       "\n",
       "$C(n, k) = \\frac{n!}{k!(n-k)!}$\n",
       "\n",
       "ここで、$n!$ は $n$ の階乗を表し、$n$ から1までのすべての整数の積を意味します。また、$k!$ と $(n-k)!$ はそれぞれ $k$ の階乗と $(n-k)$ の階乗を表します。\n",
       "\n",
       "たとえば、$n=5$、$k=3$ のとき、5つの要素から3つを選ぶ組み合わせは\n",
       "\n",
       "$C(5, 3) = \\frac{5!}{3!(5-3)!} = 10$\n",
       "\n",
       "となります。これは、5つの要素から3つを選ぶ方法が10通りあることを示しています。\n",
       "\n",
       "組み合わせは順序を考慮しない選択を表すのに対し、順序を考慮する選択を表すときには順列という概念を用います。"
      ],
      "text/plain": [
       "<IPython.core.display.Markdown object>"
      ]
     },
     "execution_count": 1,
     "metadata": {
      "text/markdown": {
       "jupyter_ai": {
        "custom_chain_id": "vioras"
       }
      }
     },
     "output_type": "execute_result"
    }
   ],
   "source": [
    "%%ai vioras\n",
    "組み合わせについて"
   ]
  },
  {
   "cell_type": "code",
   "execution_count": 2,
   "id": "8bf6d661-791e-4065-b9cd-d3f2f2212e7f",
   "metadata": {},
   "outputs": [
    {
     "data": {
      "text/markdown": [
       "Pythonの標準ライブラリである `math` モジュールの `comb` 関数を使用して、組み合わせの数を求めることができます。以下にその使用方法を示します。\n",
       "\n",
       "```python\n",
       "import math\n",
       "\n",
       "n = 5\n",
       "k = 3\n",
       "\n",
       "# 組み合わせの数を求める\n",
       "combination = math.comb(n, k)\n",
       "\n",
       "print(combination)\n",
       "```\n",
       "\n",
       "このコードは、5つの要素から3つを選ぶ組み合わせの数を計算し、結果を出力します。\n",
       "\n",
       "なお、Pythonのバージョンが3.8より低い場合、`comb` 関数は利用できません。その場合は、組み合わせの公式を使用して以下のように計算することができます：\n",
       "\n",
       "```python\n",
       "import math\n",
       "\n",
       "n = 5\n",
       "k = 3\n",
       "\n",
       "# 組み合わせの数を求める\n",
       "combination = math.factorial(n) / (math.factorial(k) * math.factorial(n - k))\n",
       "\n",
       "print(combination)\n",
       "```"
      ],
      "text/plain": [
       "<IPython.core.display.Markdown object>"
      ]
     },
     "execution_count": 2,
     "metadata": {
      "text/markdown": {
       "jupyter_ai": {
        "custom_chain_id": "vioras"
       }
      }
     },
     "output_type": "execute_result"
    }
   ],
   "source": [
    "%%ai vioras\n",
    "pythonで組み合わせの数を求める"
   ]
  },
  {
   "cell_type": "code",
   "execution_count": 3,
   "id": "8d870939-b228-469b-91b8-5f3ca19864ff",
   "metadata": {},
   "outputs": [
    {
     "data": {
      "text/markdown": [
       "Pythonで組み合わせを実際に生成するためには、標準ライブラリの `itertools` モジュールの `combinations` 関数を使用します。以下にその使用方法を示します。\n",
       "\n",
       "```python\n",
       "import itertools\n",
       "\n",
       "elements = [1, 2, 3, 4, 5]  # 選ぶ元となる要素\n",
       "k = 3  # 選ぶ要素数\n",
       "\n",
       "# 組み合わせを求める\n",
       "combinations = list(itertools.combinations(elements, k))\n",
       "\n",
       "# 組み合わせを出力する\n",
       "for combination in combinations:\n",
       "    print(combination)\n",
       "```\n",
       "\n",
       "このコードは、リスト `elements` から3つの要素を選ぶすべての組み合わせを生成し、それらを出力します。`itertools.combinations` 関数は順序を考慮しない組み合わせを生成します。\n",
       "\n",
       "なお、順序を考慮する組み合わせ（順列）を生成する場合は、代わりに `itertools.permutations` 関数を使用します。"
      ],
      "text/plain": [
       "<IPython.core.display.Markdown object>"
      ]
     },
     "execution_count": 3,
     "metadata": {
      "text/markdown": {
       "jupyter_ai": {
        "custom_chain_id": "vioras"
       }
      }
     },
     "output_type": "execute_result"
    }
   ],
   "source": [
    "%%ai vioras\n",
    "組み合わせを求める"
   ]
  },
  {
   "cell_type": "code",
   "execution_count": 4,
   "id": "e4c2dc32-fdb7-480e-a734-8e66e207eac7",
   "metadata": {},
   "outputs": [],
   "source": [
    "import math"
   ]
  },
  {
   "cell_type": "code",
   "execution_count": 5,
   "id": "7e3dc869-5eff-4dd6-b5f3-7fef8cb68244",
   "metadata": {},
   "outputs": [
    {
     "name": "stdout",
     "output_type": "stream",
     "text": [
      "(1, 2, 3)\n",
      "(1, 2, 4)\n",
      "(1, 2, 5)\n",
      "(1, 3, 4)\n",
      "(1, 3, 5)\n",
      "(1, 4, 5)\n",
      "(2, 3, 4)\n",
      "(2, 3, 5)\n",
      "(2, 4, 5)\n",
      "(3, 4, 5)\n"
     ]
    }
   ],
   "source": [
    "import itertools\n",
    "\n",
    "elements = [1, 2, 3, 4, 5]  # 選ぶ元となる要素\n",
    "k = 3  # 選ぶ要素数\n",
    "\n",
    "# 組み合わせを求める\n",
    "combinations = list(itertools.combinations(elements, k))\n",
    "\n",
    "# 組み合わせを出力する\n",
    "for combination in combinations:\n",
    "    print(combination)"
   ]
  },
  {
   "cell_type": "code",
   "execution_count": 6,
   "id": "9b70a401-0d81-45d9-8c85-d1c1bb8ff35a",
   "metadata": {},
   "outputs": [
    {
     "data": {
      "text/plain": [
       "10"
      ]
     },
     "execution_count": 6,
     "metadata": {},
     "output_type": "execute_result"
    }
   ],
   "source": [
    "len(combinations)"
   ]
  },
  {
   "cell_type": "code",
   "execution_count": 7,
   "id": "64afc3e3-de5c-4606-b27f-41ebc300a4a2",
   "metadata": {},
   "outputs": [
    {
     "data": {
      "text/plain": [
       "10"
      ]
     },
     "execution_count": 7,
     "metadata": {},
     "output_type": "execute_result"
    }
   ],
   "source": [
    "math.comb(len(elements), k)"
   ]
  },
  {
   "cell_type": "markdown",
   "id": "1a503015-3ad2-4824-8079-f3082c23b6b6",
   "metadata": {},
   "source": [
    "* [Multiset - Wikipedia](https://en.wikipedia.org/wiki/Multiset)\n",
    "    - [Combination - Wikipedia](https://en.wikipedia.org/wiki/Combination#Number_of_combinations_with_repetition)#Number_of_combinations_with_repetition"
   ]
  },
  {
   "cell_type": "code",
   "execution_count": 8,
   "id": "9133b796-9f46-4b24-8a0d-2ef7a78aca8e",
   "metadata": {},
   "outputs": [
    {
     "data": {
      "text/markdown": [
       "重複組み合わせ（または、組み合わせ重複あり、組み合わせwithリピート、マルチセット、ボールと箱などとも呼ばれます）は、同じ要素を複数回選ぶことができる組み合わせのことを指します。つまり、一度選んだ要素を再度選ぶことが許される選択の方法です。\n",
       "\n",
       "数学的には、$n$種類の要素から重複を許して$k$個選ぶ組み合わせの数は以下の公式で計算されます：\n",
       "\n",
       "$H(n, k) = C(n + k - 1, k) = \\frac{(n + k - 1)!}{k!(n - 1)!}$\n",
       "\n",
       "Pythonで重複組み合わせを生成するには、`itertools.combinations_with_replacement` 関数を使用します。以下にその使用方法を示します：\n",
       "\n",
       "```python\n",
       "import itertools\n",
       "\n",
       "elements = [1, 2, 3]  # 選ぶ元となる要素\n",
       "k = 2  # 選ぶ要素数\n",
       "\n",
       "# 重複組み合わせを求める\n",
       "combinations = list(itertools.combinations_with_replacement(elements, k))\n",
       "\n",
       "# 重複組み合わせを出力する\n",
       "for combination in combinations:\n",
       "    print(combination)\n",
       "```\n",
       "\n",
       "このコードは、リスト `elements` から2つの要素を選ぶすべての重複組み合わせを生成し、それらを出力します。"
      ],
      "text/plain": [
       "<IPython.core.display.Markdown object>"
      ]
     },
     "execution_count": 8,
     "metadata": {
      "text/markdown": {
       "jupyter_ai": {
        "custom_chain_id": "vioras"
       }
      }
     },
     "output_type": "execute_result"
    }
   ],
   "source": [
    "%%ai vioras\n",
    "重複組み合わせについて"
   ]
  },
  {
   "cell_type": "code",
   "execution_count": 9,
   "id": "7e969648-b88b-4455-80b5-0cba8bb30eb2",
   "metadata": {},
   "outputs": [
    {
     "name": "stdout",
     "output_type": "stream",
     "text": [
      "(1, 1)\n",
      "(1, 2)\n",
      "(1, 3)\n",
      "(2, 2)\n",
      "(2, 3)\n",
      "(3, 3)\n"
     ]
    }
   ],
   "source": [
    "import itertools\n",
    "\n",
    "elements = [1, 2, 3]  # 選ぶ元となる要素\n",
    "k = 2  # 選ぶ要素数\n",
    "\n",
    "# 重複組み合わせを求める\n",
    "combinations = list(itertools.combinations_with_replacement(elements, k))\n",
    "\n",
    "# 重複組み合わせを出力する\n",
    "for combination in combinations:\n",
    "    print(combination)"
   ]
  },
  {
   "cell_type": "code",
   "execution_count": 11,
   "id": "053fd039-89a5-4fe9-8ae3-9c88fb12f5f2",
   "metadata": {},
   "outputs": [
    {
     "data": {
      "text/plain": [
       "6"
      ]
     },
     "execution_count": 11,
     "metadata": {},
     "output_type": "execute_result"
    }
   ],
   "source": [
    "len(combinations)"
   ]
  },
  {
   "cell_type": "code",
   "execution_count": 10,
   "id": "b35b6b1e-8cc2-487a-9746-c3429703b370",
   "metadata": {},
   "outputs": [
    {
     "data": {
      "text/plain": [
       "6"
      ]
     },
     "execution_count": 10,
     "metadata": {},
     "output_type": "execute_result"
    }
   ],
   "source": [
    "math.comb(len(elements)+k-1, k)"
   ]
  },
  {
   "cell_type": "markdown",
   "id": "44d2e3eb-86bf-46c3-a0e6-58d93304f989",
   "metadata": {},
   "source": [
    "* [Permutation - Wikipedia](https://en.wikipedia.org/wiki/Permutation)"
   ]
  },
  {
   "cell_type": "code",
   "execution_count": 12,
   "id": "b2b79851-5d0d-4b11-82d9-58860a206c5c",
   "metadata": {},
   "outputs": [
    {
     "data": {
      "text/markdown": [
       "順序を区別する重複組み合わせは、一般的には重複順列と呼ばれます。これは、特定の集合から一部の項目を選ぶ選択の方法を表し、選択した項目の順序が重要で、同じ項目を複数回選ぶことができます。\n",
       "\n",
       "数学的には、$n$種類の要素から重複を許して$k$個選ぶ順列（重複順列）の数は以下の公式で計算されます：\n",
       "\n",
       "$P' (n, k) = n^k$\n",
       "\n",
       "Pythonで重複順列を生成するには、`itertools.product` 関数を使用します。以下にその使用方法を示します：\n",
       "\n",
       "```python\n",
       "import itertools\n",
       "\n",
       "elements = [1, 2, 3]  # 選ぶ元となる要素\n",
       "k = 2  # 選ぶ要素数\n",
       "\n",
       "# 重複順列を求める\n",
       "permutations = list(itertools.product(elements, repeat=k))\n",
       "\n",
       "# 重複順列を出力する\n",
       "for permutation in permutations:\n",
       "    print(permutation)\n",
       "```\n",
       "\n",
       "このコードは、リスト `elements` から2つの要素を選ぶすべての重複順列を生成し、それらを出力します。"
      ],
      "text/plain": [
       "<IPython.core.display.Markdown object>"
      ]
     },
     "execution_count": 12,
     "metadata": {
      "text/markdown": {
       "jupyter_ai": {
        "custom_chain_id": "vioras"
       }
      }
     },
     "output_type": "execute_result"
    }
   ],
   "source": [
    "%%ai vioras\n",
    "順番を区別する重複組み合わせについて"
   ]
  },
  {
   "cell_type": "code",
   "execution_count": 13,
   "id": "bf0b6aac-c2be-4f9a-8cf4-d8b58fc41723",
   "metadata": {},
   "outputs": [
    {
     "name": "stdout",
     "output_type": "stream",
     "text": [
      "(1, 1)\n",
      "(1, 2)\n",
      "(1, 3)\n",
      "(2, 1)\n",
      "(2, 2)\n",
      "(2, 3)\n",
      "(3, 1)\n",
      "(3, 2)\n",
      "(3, 3)\n"
     ]
    }
   ],
   "source": [
    "import itertools\n",
    "\n",
    "elements = [1, 2, 3]  # 選ぶ元となる要素\n",
    "k = 2  # 選ぶ要素数\n",
    "\n",
    "# 重複順列を求める\n",
    "permutations = list(itertools.product(elements, repeat=k))\n",
    "\n",
    "# 重複順列を出力する\n",
    "for permutation in permutations:\n",
    "    print(permutation)"
   ]
  },
  {
   "cell_type": "code",
   "execution_count": 14,
   "id": "00616848-9812-46c0-8bbb-62190c3e587d",
   "metadata": {},
   "outputs": [
    {
     "data": {
      "text/plain": [
       "9"
      ]
     },
     "execution_count": 14,
     "metadata": {},
     "output_type": "execute_result"
    }
   ],
   "source": [
    "len(permutations)"
   ]
  },
  {
   "cell_type": "code",
   "execution_count": 15,
   "id": "95e343ab-5a59-4d9c-ae3e-5abe77b07ece",
   "metadata": {},
   "outputs": [
    {
     "data": {
      "text/plain": [
       "9"
      ]
     },
     "execution_count": 15,
     "metadata": {},
     "output_type": "execute_result"
    }
   ],
   "source": [
    "len(elements)**k"
   ]
  },
  {
   "cell_type": "code",
   "execution_count": null,
   "id": "771e46aa-38d2-4f03-b533-310314f89198",
   "metadata": {},
   "outputs": [],
   "source": []
  }
 ],
 "metadata": {
  "kernelspec": {
   "display_name": "Python 3 (ipykernel)",
   "language": "python",
   "name": "python3"
  },
  "language_info": {
   "codemirror_mode": {
    "name": "ipython",
    "version": 3
   },
   "file_extension": ".py",
   "mimetype": "text/x-python",
   "name": "python",
   "nbconvert_exporter": "python",
   "pygments_lexer": "ipython3",
   "version": "3.11.8"
  }
 },
 "nbformat": 4,
 "nbformat_minor": 5
}
