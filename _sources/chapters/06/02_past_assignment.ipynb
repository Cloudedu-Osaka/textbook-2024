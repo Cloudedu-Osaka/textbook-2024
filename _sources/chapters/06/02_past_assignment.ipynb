{
 "cells": [
  {
   "attachments": {},
   "cell_type": "markdown",
   "id": "96e45dbb-0c56-42e2-9f3b-42a6e3572b06",
   "metadata": {},
   "source": [
    "# 課題\n",
    "\n",
    "## 課題 1\n",
    "次の二つのプログラムの違いを探せ"
   ]
  },
  {
   "cell_type": "code",
   "execution_count": 2,
   "id": "f9120f05-ff02-4ecc-9328-c2967a106553",
   "metadata": {
    "tags": []
   },
   "outputs": [
    {
     "data": {
      "text/markdown": [
       "あなたが求めているのは、与えられた2つの整数を文字列として扱い、それらを十進法位取り記法に基づいて加算するという理解でよろしいでしょうか？\n",
       "\n",
       "その場合、それぞれの数字を文字列に変換し、各桁を逆順にしてから加算を行い、最後に結果を再び逆順にするという手順を踏むことで、この問題を解決することができます。\n",
       "\n",
       "以下にそのような関数を示します：\n",
       "\n",
       "```python\n",
       "def add_two_numbers_str(num1, num2):\n",
       "    # 数字を文字列に変換し、逆順にする\n",
       "    num1 = str(num1)[::-1]\n",
       "    num2 = str(num2)[::-1]\n",
       "    \n",
       "    # 2つの数の長さを揃える\n",
       "    max_len = max(len(num1), len(num2))\n",
       "    num1 = num1.ljust(max_len, '0') \n",
       "    num2 = num2.ljust(max_len, '0')\n",
       "    \n",
       "    carry = 0\n",
       "    result = ''\n",
       "\n",
       "    for i in range(max_len):\n",
       "        temp = int(num1[i]) + int(num2[i]) + carry\n",
       "        result += str(temp % 10)\n",
       "        carry = temp // 10\n",
       "\n",
       "    if carry > 0:\n",
       "        result += str(carry)\n",
       "    \n",
       "    # 結果を逆順にして返す\n",
       "    return result[::-1]\n",
       "\n",
       "# テストする\n",
       "print(add_two_numbers_str(123, 456))  # Output: \"579\"\n",
       "```\n",
       "\n",
       "この関数は、2つの整数を引数として受け取り、それらを文字列として扱います。それぞれの数字を逆順にし、各桁を加算します。桁上がりがある場合は次の桁の加算に持ち越します。最終的な結果を得るために、得られた文字列を再び逆順にします。"
      ],
      "text/plain": [
       "<IPython.core.display.Markdown object>"
      ]
     },
     "execution_count": 2,
     "metadata": {
      "text/markdown": {
       "jupyter_ai": {
        "custom_chain_id": "vioras"
       }
      }
     },
     "output_type": "execute_result"
    }
   ],
   "source": [
    "%%ai vioras\n",
    "与えられた2つの整数を十進法位取り記法による文字列に変換し足し算をプログラミングする"
   ]
  },
  {
   "cell_type": "code",
   "execution_count": 3,
   "id": "a60865c1-5443-4805-85a4-3526327cafdd",
   "metadata": {
    "tags": []
   },
   "outputs": [
    {
     "data": {
      "text/markdown": [
       "二進法位取り記法に基づいて2つの整数を加算するためのプログラムを作成したい場合、次の手順を踏むことができます：\n",
       "\n",
       "1. まず、2つの整数を二進数（文字列形式）に変換します。\n",
       "2. それから、それぞれの二進数を逆順にします（低位から処理を開始するため）。\n",
       "3. 各位を加算します。桁上がり（もし存在すれば）を次の位の加算に持ち越します。\n",
       "4. 最後に、結果を再び逆順にして正しい順序に戻します。\n",
       "\n",
       "以下に、そのような関数を示します：\n",
       "\n",
       "```python\n",
       "def add_two_binary_numbers(num1, num2):\n",
       "    # 数字を二進数の文字列に変換し、逆順にする\n",
       "    num1 = bin(num1)[2:][::-1]\n",
       "    num2 = bin(num2)[2:][::-1]\n",
       "    \n",
       "    # 2つの数の長さを揃える\n",
       "    max_len = max(len(num1), len(num2))\n",
       "    num1 = num1.ljust(max_len, '0')\n",
       "    num2 = num2.ljust(max_len, '0')\n",
       "    \n",
       "    carry = 0\n",
       "    result = ''\n",
       "\n",
       "    for i in range(max_len):\n",
       "        temp = int(num1[i]) + int(num2[i]) + carry\n",
       "        result += str(temp % 2)\n",
       "        carry = temp // 2\n",
       "\n",
       "    if carry > 0:\n",
       "        result += str(carry)\n",
       "    \n",
       "    # 結果を逆順にして返す\n",
       "    return result[::-1]\n",
       "\n",
       "# テストする\n",
       "print(add_two_binary_numbers(5, 3))  # Output: \"1000\"\n",
       "```\n",
       "\n",
       "この関数は、2つの整数を引数として受け取り、それらを二進数の文字列として扱います。それぞれの数字を逆順にし、各桁を加算します。桁上がりがある場合は次の桁の加算に持ち越します。最終的な結果を得るために、得られた文字列を再び逆順にします。\n",
       "\n",
       "テストケースでは、5は二進数で101、3は二進数で11です。これらを加算すると1000（8 in decimal）を得ます。"
      ],
      "text/plain": [
       "<IPython.core.display.Markdown object>"
      ]
     },
     "execution_count": 3,
     "metadata": {
      "text/markdown": {
       "jupyter_ai": {
        "custom_chain_id": "vioras"
       }
      }
     },
     "output_type": "execute_result"
    }
   ],
   "source": [
    "%%ai vioras\n",
    "与えられた2つの整数を二進法位取り記法による文字列に変換し足し算をプログラミングする"
   ]
  },
  {
   "cell_type": "markdown",
   "id": "77a5f11f-9700-45e0-93a4-87744a35ff0f",
   "metadata": {},
   "source": [
    "### 参考"
   ]
  },
  {
   "cell_type": "code",
   "execution_count": 2,
   "id": "6da7f771-4cfb-47b2-b1f8-e43f7cefde80",
   "metadata": {},
   "outputs": [
    {
     "data": {
      "text/plain": [
       "('321', '540')"
      ]
     },
     "execution_count": 2,
     "metadata": {},
     "output_type": "execute_result"
    }
   ],
   "source": [
    "num1, num2 = 123, 45\n",
    "\n",
    "num1 = str(num1)[::-1]\n",
    "num2 = str(num2)[::-1]\n",
    "\n",
    "max_len = max(len(num1), len(num2))\n",
    "\n",
    "num1 = num1.ljust(max_len, '0')\n",
    "num2 = num2.ljust(max_len, '0')\n",
    "num1, num2"
   ]
  },
  {
   "cell_type": "code",
   "execution_count": 5,
   "id": "cf4f857c-4c9e-4e99-a2e7-f362fd7081ad",
   "metadata": {},
   "outputs": [
    {
     "data": {
      "text/plain": [
       "\u001b[0;31mInit signature:\u001b[0m \u001b[0mstr\u001b[0m\u001b[0;34m(\u001b[0m\u001b[0mself\u001b[0m\u001b[0;34m,\u001b[0m \u001b[0;34m/\u001b[0m\u001b[0;34m,\u001b[0m \u001b[0;34m*\u001b[0m\u001b[0margs\u001b[0m\u001b[0;34m,\u001b[0m \u001b[0;34m**\u001b[0m\u001b[0mkwargs\u001b[0m\u001b[0;34m)\u001b[0m\u001b[0;34m\u001b[0m\u001b[0;34m\u001b[0m\u001b[0m\n",
       "\u001b[0;31mDocstring:\u001b[0m     \n",
       "str(object='') -> str\n",
       "str(bytes_or_buffer[, encoding[, errors]]) -> str\n",
       "\n",
       "Create a new string object from the given object. If encoding or\n",
       "errors is specified, then the object must expose a data buffer\n",
       "that will be decoded using the given encoding and error handler.\n",
       "Otherwise, returns the result of object.__str__() (if defined)\n",
       "or repr(object).\n",
       "encoding defaults to sys.getdefaultencoding().\n",
       "errors defaults to 'strict'.\n",
       "\u001b[0;31mType:\u001b[0m           type\n",
       "\u001b[0;31mSubclasses:\u001b[0m     StrEnum, DeferredConfigString, _rstr, _ScriptTarget, _ModuleTarget, LSString, include, Keys, InputMode, ColorDepth, ..."
      ]
     },
     "metadata": {},
     "output_type": "display_data"
    }
   ],
   "source": [
    "str?"
   ]
  },
  {
   "cell_type": "code",
   "execution_count": 10,
   "id": "3d47c09d-250b-4170-a97b-c25229f486b9",
   "metadata": {},
   "outputs": [
    {
     "name": "stdout",
     "output_type": "stream",
     "text": [
      "Help on built-in function ljust:\n",
      "\n",
      "ljust(width, fillchar=' ', /) method of builtins.str instance\n",
      "    Return a left-justified string of length width.\n",
      "    \n",
      "    Padding is done using the specified fill character (default is a space).\n",
      "\n"
     ]
    }
   ],
   "source": [
    "help(''.ljust)"
   ]
  },
  {
   "cell_type": "code",
   "execution_count": 3,
   "id": "01fd9a3d-2174-4aac-92f2-1e5b48798351",
   "metadata": {},
   "outputs": [
    {
     "data": {
      "text/plain": [
       "('1101111', '1011010')"
      ]
     },
     "execution_count": 3,
     "metadata": {},
     "output_type": "execute_result"
    }
   ],
   "source": [
    "num1, num2 = 123, 45\n",
    "\n",
    "num1 = bin(num1)[2:][::-1]\n",
    "num2 = bin(num2)[2:][::-1]\n",
    "\n",
    "max_len = max(len(num1), len(num2))\n",
    "\n",
    "num1 = num1.ljust(max_len, '0')\n",
    "num2 = num2.ljust(max_len, '0')\n",
    "num1, num2"
   ]
  },
  {
   "cell_type": "code",
   "execution_count": 4,
   "id": "b6af2830-307f-47b2-afbd-7b9d93b5332d",
   "metadata": {},
   "outputs": [
    {
     "data": {
      "text/plain": [
       "\u001b[0;31mSignature:\u001b[0m \u001b[0mbin\u001b[0m\u001b[0;34m(\u001b[0m\u001b[0mnumber\u001b[0m\u001b[0;34m,\u001b[0m \u001b[0;34m/\u001b[0m\u001b[0;34m)\u001b[0m\u001b[0;34m\u001b[0m\u001b[0;34m\u001b[0m\u001b[0m\n",
       "\u001b[0;31mDocstring:\u001b[0m\n",
       "Return the binary representation of an integer.\n",
       "\n",
       ">>> bin(2796202)\n",
       "'0b1010101010101010101010'\n",
       "\u001b[0;31mType:\u001b[0m      builtin_function_or_method"
      ]
     },
     "metadata": {},
     "output_type": "display_data"
    }
   ],
   "source": [
    "bin?"
   ]
  },
  {
   "attachments": {},
   "cell_type": "markdown",
   "id": "111ce5e4-5caa-4f80-8acc-6d86709894d3",
   "metadata": {},
   "source": [
    "## 課題 2\n",
    "上のプログラムと次のプログラムの違いを探せ\n",
    "\n",
    "* プログラムの違いがわかった箇所が何故同じ結果になるか考えてみよ"
   ]
  },
  {
   "cell_type": "code",
   "execution_count": 4,
   "id": "73c7917f-d379-40dc-bc49-486db13ac9df",
   "metadata": {
    "tags": []
   },
   "outputs": [
    {
     "data": {
      "text/markdown": [
       "ブール代数を使用して2つの二進数を加算するためには、XOR（排他的論理和）、AND（論理積）、および左シフト演算を使用します。XORは2つのビットの加算（桁上がりなし）を計算し、ANDと左シフトは桁上がりを計算します。\n",
       "\n",
       "以下にPythonでの実装例を示します。\n",
       "\n",
       "```python\n",
       "def add_two_binary_numbers(num1, num2):\n",
       "    # 数字を二進数の文字列に変換する\n",
       "    num1 = bin(num1)[2:]\n",
       "    num2 = bin(num2)[2:]\n",
       "    \n",
       "    # 2つの数の長さを揃える\n",
       "    max_len = max(len(num1), len(num2))\n",
       "    num1 = num1.zfill(max_len)\n",
       "    num2 = num2.zfill(max_len)\n",
       "    \n",
       "    result = ''\n",
       "    carry = 0\n",
       "\n",
       "    for i in range(max_len-1, -1, -1):\n",
       "        bit1 = int(num1[i])\n",
       "        bit2 = int(num2[i])\n",
       "        \n",
       "        # XOR演算で各ビットを加算する\n",
       "        sum_bit = bit1 ^ bit2 ^ carry\n",
       "        \n",
       "        # ANDと左シフト演算で桁上がりを計算する\n",
       "        carry = (bit1 & bit2) | (carry & (bit1 ^ bit2))\n",
       "        \n",
       "        result = str(sum_bit) + result\n",
       "\n",
       "    if carry != 0 :\n",
       "        result = str(carry) + result\n",
       "\n",
       "    return result\n",
       "\n",
       "# テストする\n",
       "print(add_two_binary_numbers(5, 3))  # Output: \"1000\"\n",
       "```\n",
       "\n",
       "この関数は、2つの整数を引数として受け取り、それらを二進数の文字列として扱います。それぞれの数字の各ビットを右から左へと順に処理し、各ビットを加算します。桁上がりがある場合は次のビットの加算に持ち越します。最終的な結果を得るために、得られた文字列を逆順にします。\n",
       "\n",
       "テストケースでは、5は二進数で101、3は二進数で11です。これらを加算すると1000（8 in decimal）を得ます。"
      ],
      "text/plain": [
       "<IPython.core.display.Markdown object>"
      ]
     },
     "execution_count": 4,
     "metadata": {
      "text/markdown": {
       "jupyter_ai": {
        "custom_chain_id": "vioras"
       }
      }
     },
     "output_type": "execute_result"
    }
   ],
   "source": [
    "%%ai vioras\n",
    "与えられた2つの整数を二進法位取り記法による文字列に変換し足し算をプログラミングする。その際、ブール代数の論理演算を使う"
   ]
  },
  {
   "cell_type": "code",
   "execution_count": null,
   "id": "28e2d854-0d5c-4042-bb17-83a2eea2598d",
   "metadata": {},
   "outputs": [],
   "source": []
  }
 ],
 "metadata": {
  "kernelspec": {
   "display_name": "Python 3 (ipykernel)",
   "language": "python",
   "name": "python3"
  },
  "language_info": {
   "codemirror_mode": {
    "name": "ipython",
    "version": 3
   },
   "file_extension": ".py",
   "mimetype": "text/x-python",
   "name": "python",
   "nbconvert_exporter": "python",
   "pygments_lexer": "ipython3",
   "version": "3.11.8"
  }
 },
 "nbformat": 4,
 "nbformat_minor": 5
}
