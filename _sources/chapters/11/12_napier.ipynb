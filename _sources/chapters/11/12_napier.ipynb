{
 "cells": [
  {
   "cell_type": "markdown",
   "id": "51ab4036",
   "metadata": {},
   "source": [
    "# Napier's Logarithms: 九九のない世界"
   ]
  },
  {
   "cell_type": "markdown",
   "id": "6b5da5c3-607d-43ca-92f2-30c437330cb3",
   "metadata": {},
   "source": [
    "## R=5のときのNapierの対数を計算する"
   ]
  },
  {
   "cell_type": "markdown",
   "id": "3e6f48da",
   "metadata": {},
   "source": [
    "Naperはこの数列を技巧を凝らして計算したが、単純に計算すると膨大な計算量となるため、まず $R=5$ の場合を計算する。"
   ]
  },
  {
   "cell_type": "markdown",
   "id": "dc994811-f6cc-4a50-b04c-6de860e96e7e",
   "metadata": {},
   "source": [
    "$$\n",
    "\\begin{eqnarray}\n",
    "p_{0}   &=& 10^5 = 100000 \\\\\n",
    "p_{1}   &=& 10^5 \\left(1-\\frac{1}{10^5} \\right)= 100000 \\times 0.99999 = 99999 \\\\\n",
    "p_{n+1} &=& p_{n} \\left(1-\\frac{1}{10^5}\\right) = p_{n} \\times 0.99999 \n",
    "\\end{eqnarray}\n",
    "$$"
   ]
  },
  {
   "cell_type": "markdown",
   "id": "41e7f58f",
   "metadata": {},
   "source": [
    "底の変換によって、$R=7$ の場合を効率よく近似できるため、これらの計算は無駄にならない:\n",
    "\n",
    "$$\n",
    "  \\log_{1-10^{-5}} \\frac{N}{10^5} = \\frac{\\log_{1-10^{-7}}\\frac{N}{10^5}}{\\log_{1-10^{-7}}(1-10^{-5})} \\approx \\frac{1}{100}\\log_{1-10^{-7}}\\frac{N}{10^5} = \\frac{1}{100} L(N \\times 100)\n",
    "$$"
   ]
  },
  {
   "cell_type": "code",
   "execution_count": 1,
   "id": "e60e97b0-f2a5-48f2-a923-05337852c409",
   "metadata": {},
   "outputs": [],
   "source": [
    "import math\n",
    "import numpy as np"
   ]
  },
  {
   "cell_type": "code",
   "execution_count": 8,
   "id": "daa98136",
   "metadata": {},
   "outputs": [
    {
     "data": {
      "text/plain": [
       "100.00049505548901"
      ]
     },
     "execution_count": 8,
     "metadata": {},
     "output_type": "execute_result"
    }
   ],
   "source": [
    "math.log(1-10**-5, 1-10**-7)"
   ]
  },
  {
   "cell_type": "markdown",
   "id": "73d001a4",
   "metadata": {},
   "source": [
    "関数を繰り返し適用する (数列の値を次々に求める) Python関数を定義する:"
   ]
  },
  {
   "cell_type": "code",
   "execution_count": 5,
   "id": "c0084b3b",
   "metadata": {},
   "outputs": [],
   "source": [
    "def nest_list(f, x, c=1):\n",
    "    while True:\n",
    "        yield x\n",
    "        x = f(x)\n",
    "        if x < c:\n",
    "            break\n",
    "    yield x"
   ]
  },
  {
   "cell_type": "code",
   "execution_count": 6,
   "id": "8f69fd93",
   "metadata": {},
   "outputs": [
    {
     "data": {
      "text/plain": [
       "(100000, 0.99999)"
      ]
     },
     "execution_count": 6,
     "metadata": {},
     "output_type": "execute_result"
    }
   ],
   "source": [
    "10**5, 1-10**(-5)"
   ]
  },
  {
   "cell_type": "code",
   "execution_count": 7,
   "id": "bec6ebdd",
   "metadata": {},
   "outputs": [
    {
     "data": {
      "text/plain": [
       "<generator object nest_list at 0x7c57150d7920>"
      ]
     },
     "execution_count": 7,
     "metadata": {},
     "output_type": "execute_result"
    }
   ],
   "source": [
    "nest_list(lambda l: l*(1-10**(-5)), 10**5, 1)"
   ]
  },
  {
   "cell_type": "code",
   "execution_count": 8,
   "id": "df05781b",
   "metadata": {},
   "outputs": [
    {
     "name": "stdout",
     "output_type": "stream",
     "text": [
      "100000\n",
      "99999\n",
      "99998\n",
      "99997\n",
      "99996\n",
      "99995\n",
      "99994\n",
      "99993\n",
      "99992\n",
      "99991\n"
     ]
    }
   ],
   "source": [
    "n = nest_list(lambda l: l*(1-10**(-5)), 10**5, 1)\n",
    "for _ in range(10):\n",
    "    print('{:5.0f}'.format(next(n)))"
   ]
  },
  {
   "cell_type": "markdown",
   "id": "39a79a9d-f5fa-4273-9370-cf4deca89473",
   "metadata": {},
   "source": [
    "```{note}\n",
    "$10000 \\times 0.99999 \\times 0.99999 \\times \\cdots$の値が$1$以下になるまで$0.99999$の乗算を繰り返してリストに格納する。リストの添字がNapierの対数になる\n",
    "```"
   ]
  },
  {
   "cell_type": "code",
   "execution_count": 9,
   "id": "45081919",
   "metadata": {},
   "outputs": [],
   "source": [
    "napier5=np.array(list(nest_list(lambda l: l*(1-10**(-5)), 10**5, 1)))"
   ]
  },
  {
   "cell_type": "code",
   "execution_count": 10,
   "id": "63e96676",
   "metadata": {},
   "outputs": [
    {
     "data": {
      "text/plain": [
       "(1151288, 0.9999979002909413)"
      ]
     },
     "execution_count": 10,
     "metadata": {},
     "output_type": "execute_result"
    }
   ],
   "source": [
    "napier5.size, napier5[-1]"
   ]
  },
  {
   "cell_type": "code",
   "execution_count": 11,
   "id": "ad39366a",
   "metadata": {},
   "outputs": [
    {
     "data": {
      "text/plain": [
       "array([100000.        ,  99999.        ,  99998.00001   ,  99997.00003   ,\n",
       "        99996.00006   ,  99995.0001    ,  99994.00015   ,  99993.00021   ,\n",
       "        99992.00027999,  99991.00035999,  99990.00044999,  99989.00054998,\n",
       "        99988.00065998,  99987.00077997,  99986.00090996,  99985.00104995,\n",
       "        99984.00119994,  99983.00135993,  99982.00152992,  99981.0017099 ,\n",
       "        99980.00189989,  99979.00209987,  99978.00230985,  99977.00252982,\n",
       "        99976.0027598 ,  99975.00299977,  99974.00324974,  99973.00350971,\n",
       "        99972.00377967,  99971.00405963,  99970.00434959,  99969.00464955,\n",
       "        99968.0049595 ,  99967.00527945,  99966.0056094 ,  99965.00594935,\n",
       "        99964.00629929,  99963.00665922,  99962.00702916,  99961.00740909,\n",
       "        99960.00779901,  99959.00819893,  99958.00860885,  99957.00902877,\n",
       "        99956.00945868,  99955.00989858,  99954.01034848,  99953.01080838,\n",
       "        99952.01127827,  99951.01175816,  99950.01224804,  99949.01274792,\n",
       "        99948.01325779,  99947.01377766,  99946.01430752,  99945.01484738,\n",
       "        99944.01539723,  99943.01595707,  99942.01652692,  99941.01710675,\n",
       "        99940.01769658,  99939.0182964 ,  99938.01890622,  99937.01952603,\n",
       "        99936.02015583,  99935.02079563,  99934.02144543,  99933.02210521,\n",
       "        99932.02277499,  99931.02345476,  99930.02414453,  99929.02484429,\n",
       "        99928.02555404,  99927.02627378,  99926.02700352,  99925.02774325,\n",
       "        99924.02849297,  99923.02925269,  99922.03002239,  99921.03080209,\n",
       "        99920.03159179,  99919.03239147,  99918.03320115,  99917.03402081,\n",
       "        99916.03485047,  99915.03569013,  99914.03653977,  99913.0373994 ,\n",
       "        99912.03826903,  99911.03914865,  99910.04003825,  99909.04093785,\n",
       "        99908.04184745,  99907.04276703,  99906.0436966 ,  99905.04463616,\n",
       "        99904.04558572,  99903.04654526,  99902.04751479,  99901.04849432])"
      ]
     },
     "execution_count": 11,
     "metadata": {},
     "output_type": "execute_result"
    }
   ],
   "source": [
    "napier5[0:100]"
   ]
  },
  {
   "cell_type": "code",
   "execution_count": 12,
   "id": "50a868fe-a9c6-4eac-970a-ecf7fe77e8e6",
   "metadata": {},
   "outputs": [
    {
     "data": {
      "text/plain": [
       "array([1.00098839, 1.00097838, 1.00096837, 1.00095836, 1.00094835,\n",
       "       1.00093834, 1.00092834, 1.00091833, 1.00090832, 1.00089831,\n",
       "       1.0008883 , 1.00087829, 1.00086828, 1.00085827, 1.00084826,\n",
       "       1.00083826, 1.00082825, 1.00081824, 1.00080823, 1.00079822,\n",
       "       1.00078821, 1.00077821, 1.0007682 , 1.00075819, 1.00074818,\n",
       "       1.00073818, 1.00072817, 1.00071816, 1.00070815, 1.00069815,\n",
       "       1.00068814, 1.00067813, 1.00066813, 1.00065812, 1.00064811,\n",
       "       1.00063811, 1.0006281 , 1.00061809, 1.00060809, 1.00059808,\n",
       "       1.00058808, 1.00057807, 1.00056806, 1.00055806, 1.00054805,\n",
       "       1.00053805, 1.00052804, 1.00051804, 1.00050803, 1.00049803,\n",
       "       1.00048802, 1.00047802, 1.00046801, 1.00045801, 1.000448  ,\n",
       "       1.000438  , 1.00042799, 1.00041799, 1.00040799, 1.00039798,\n",
       "       1.00038798, 1.00037797, 1.00036797, 1.00035797, 1.00034796,\n",
       "       1.00033796, 1.00032796, 1.00031795, 1.00030795, 1.00029795,\n",
       "       1.00028794, 1.00027794, 1.00026794, 1.00025793, 1.00024793,\n",
       "       1.00023793, 1.00022793, 1.00021793, 1.00020792, 1.00019792,\n",
       "       1.00018792, 1.00017792, 1.00016792, 1.00015791, 1.00014791,\n",
       "       1.00013791, 1.00012791, 1.00011791, 1.00010791, 1.00009791,\n",
       "       1.0000879 , 1.0000779 , 1.0000679 , 1.0000579 , 1.0000479 ,\n",
       "       1.0000379 , 1.0000279 , 1.0000179 , 1.0000079 , 0.9999979 ])"
      ]
     },
     "execution_count": 12,
     "metadata": {},
     "output_type": "execute_result"
    }
   ],
   "source": [
    "napier5[-100:]"
   ]
  },
  {
   "cell_type": "code",
   "execution_count": 13,
   "id": "7a22dc31",
   "metadata": {},
   "outputs": [
    {
     "data": {
      "text/plain": [
       "[<matplotlib.lines.Line2D at 0x7c57141e0290>]"
      ]
     },
     "execution_count": 13,
     "metadata": {},
     "output_type": "execute_result"
    },
    {
     "data": {
      "image/png": "[encoded data removed]",
      "text/plain": [
       "<Figure size 640x480 with 1 Axes>"
      ]
     },
     "metadata": {},
     "output_type": "display_data"
    }
   ],
   "source": [
    "import matplotlib.pyplot as plt\n",
    "\n",
    "x = np.linspace(0,napier5.size,num=napier5.size)\n",
    "plt.plot(x,napier5)"
   ]
  },
  {
   "cell_type": "markdown",
   "id": "a3a8d372",
   "metadata": {},
   "source": [
    "### 九九のない世界"
   ]
  },
  {
   "cell_type": "markdown",
   "id": "6777e06d",
   "metadata": {},
   "source": [
    "上で求めた配列 ```napier5``` を検索し、対数を求める: $n = \\log_{1-10^{-5}}(p_{n})$"
   ]
  },
  {
   "cell_type": "code",
   "execution_count": 14,
   "id": "48369a66",
   "metadata": {},
   "outputs": [
    {
     "data": {
      "text/plain": [
       "(100000.0, 0.9999979002909413)"
      ]
     },
     "execution_count": 14,
     "metadata": {},
     "output_type": "execute_result"
    }
   ],
   "source": [
    "napier5[0], napier5[-1]"
   ]
  },
  {
   "cell_type": "code",
   "execution_count": 15,
   "id": "70ccded1-ca3e-459e-863f-c723d7751bae",
   "metadata": {},
   "outputs": [
    {
     "data": {
      "text/plain": [
       "\u001b[0;31mSignature:\u001b[0m       \u001b[0mnp\u001b[0m\u001b[0;34m.\u001b[0m\u001b[0msearchsorted\u001b[0m\u001b[0;34m(\u001b[0m\u001b[0ma\u001b[0m\u001b[0;34m,\u001b[0m \u001b[0mv\u001b[0m\u001b[0;34m,\u001b[0m \u001b[0mside\u001b[0m\u001b[0;34m=\u001b[0m\u001b[0;34m'left'\u001b[0m\u001b[0;34m,\u001b[0m \u001b[0msorter\u001b[0m\u001b[0;34m=\u001b[0m\u001b[0;32mNone\u001b[0m\u001b[0;34m)\u001b[0m\u001b[0;34m\u001b[0m\u001b[0;34m\u001b[0m\u001b[0m\n",
       "\u001b[0;31mCall signature:\u001b[0m  \u001b[0mnp\u001b[0m\u001b[0;34m.\u001b[0m\u001b[0msearchsorted\u001b[0m\u001b[0;34m(\u001b[0m\u001b[0;34m*\u001b[0m\u001b[0margs\u001b[0m\u001b[0;34m,\u001b[0m \u001b[0;34m**\u001b[0m\u001b[0mkwargs\u001b[0m\u001b[0;34m)\u001b[0m\u001b[0;34m\u001b[0m\u001b[0;34m\u001b[0m\u001b[0m\n",
       "\u001b[0;31mType:\u001b[0m            _ArrayFunctionDispatcher\n",
       "\u001b[0;31mString form:\u001b[0m     <function searchsorted at 0x7c5731596700>\n",
       "\u001b[0;31mFile:\u001b[0m            /opt/conda/lib/python3.11/site-packages/numpy/core/fromnumeric.py\n",
       "\u001b[0;31mDocstring:\u001b[0m      \n",
       "Find indices where elements should be inserted to maintain order.\n",
       "\n",
       "Find the indices into a sorted array `a` such that, if the\n",
       "corresponding elements in `v` were inserted before the indices, the\n",
       "order of `a` would be preserved.\n",
       "\n",
       "Assuming that `a` is sorted:\n",
       "\n",
       "======  ============================\n",
       "`side`  returned index `i` satisfies\n",
       "======  ============================\n",
       "left    ``a[i-1] < v <= a[i]``\n",
       "right   ``a[i-1] <= v < a[i]``\n",
       "======  ============================\n",
       "\n",
       "Parameters\n",
       "----------\n",
       "a : 1-D array_like\n",
       "    Input array. If `sorter` is None, then it must be sorted in\n",
       "    ascending order, otherwise `sorter` must be an array of indices\n",
       "    that sort it.\n",
       "v : array_like\n",
       "    Values to insert into `a`.\n",
       "side : {'left', 'right'}, optional\n",
       "    If 'left', the index of the first suitable location found is given.\n",
       "    If 'right', return the last such index.  If there is no suitable\n",
       "    index, return either 0 or N (where N is the length of `a`).\n",
       "sorter : 1-D array_like, optional\n",
       "    Optional array of integer indices that sort array a into ascending\n",
       "    order. They are typically the result of argsort.\n",
       "\n",
       "    .. versionadded:: 1.7.0\n",
       "\n",
       "Returns\n",
       "-------\n",
       "indices : int or array of ints\n",
       "    Array of insertion points with the same shape as `v`,\n",
       "    or an integer if `v` is a scalar.\n",
       "\n",
       "See Also\n",
       "--------\n",
       "sort : Return a sorted copy of an array.\n",
       "histogram : Produce histogram from 1-D data.\n",
       "\n",
       "Notes\n",
       "-----\n",
       "Binary search is used to find the required insertion points.\n",
       "\n",
       "As of NumPy 1.4.0 `searchsorted` works with real/complex arrays containing\n",
       "`nan` values. The enhanced sort order is documented in `sort`.\n",
       "\n",
       "This function uses the same algorithm as the builtin python `bisect.bisect_left`\n",
       "(``side='left'``) and `bisect.bisect_right` (``side='right'``) functions,\n",
       "which is also vectorized in the `v` argument.\n",
       "\n",
       "Examples\n",
       "--------\n",
       ">>> np.searchsorted([1,2,3,4,5], 3)\n",
       "2\n",
       ">>> np.searchsorted([1,2,3,4,5], 3, side='right')\n",
       "3\n",
       ">>> np.searchsorted([1,2,3,4,5], [-10, 10, 2, 3])\n",
       "array([0, 5, 1, 2])\n",
       "\u001b[0;31mClass docstring:\u001b[0m\n",
       "Class to wrap functions with checks for __array_function__ overrides.\n",
       "\n",
       "All arguments are required, and can only be passed by position.\n",
       "\n",
       "Parameters\n",
       "----------\n",
       "dispatcher : function or None\n",
       "    The dispatcher function that returns a single sequence-like object\n",
       "    of all arguments relevant.  It must have the same signature (except\n",
       "    the default values) as the actual implementation.\n",
       "    If ``None``, this is a ``like=`` dispatcher and the\n",
       "    ``_ArrayFunctionDispatcher`` must be called with ``like`` as the\n",
       "    first (additional and positional) argument.\n",
       "implementation : function\n",
       "    Function that implements the operation on NumPy arrays without\n",
       "    overrides.  Arguments passed calling the ``_ArrayFunctionDispatcher``\n",
       "    will be forwarded to this (and the ``dispatcher``) as if using\n",
       "    ``*args, **kwargs``.\n",
       "\n",
       "Attributes\n",
       "----------\n",
       "_implementation : function\n",
       "    The original implementation passed in."
      ]
     },
     "metadata": {},
     "output_type": "display_data"
    }
   ],
   "source": [
    "np.searchsorted?"
   ]
  },
  {
   "cell_type": "markdown",
   "id": "ddc0fa7e-831c-48dd-b2d2-f7fdd83521c1",
   "metadata": {},
   "source": [
    "```{note}\n",
    "与えられた数の対数は、リストの数値の内でその数に最も近い値を取る数の添字\n",
    "```"
   ]
  },
  {
   "cell_type": "code",
   "execution_count": 16,
   "id": "65f6fab4",
   "metadata": {},
   "outputs": [],
   "source": [
    "def n_log(x):\n",
    "    if x < napier5[0] and x > napier5[-1]:\n",
    "        return np.searchsorted(-napier5, -x)\n",
    "    else:\n",
    "        raise IndexError"
   ]
  },
  {
   "cell_type": "code",
   "execution_count": 28,
   "id": "d805e84a",
   "metadata": {},
   "outputs": [
    {
     "data": {
      "text/plain": [
       "(439489, 286856)"
      ]
     },
     "execution_count": 28,
     "metadata": {},
     "output_type": "execute_result"
    }
   ],
   "source": [
    "n_log(1234), n_log(5678)"
   ]
  },
  {
   "cell_type": "code",
   "execution_count": 29,
   "id": "ec52703d-65e8-472b-a100-9f320ffcde49",
   "metadata": {},
   "outputs": [
    {
     "data": {
      "text/plain": [
       "(1233.9966508401064, 5677.981745569941)"
      ]
     },
     "execution_count": 29,
     "metadata": {},
     "output_type": "execute_result"
    }
   ],
   "source": [
    "napier5[439489], napier5[286856]"
   ]
  },
  {
   "cell_type": "code",
   "execution_count": 31,
   "id": "c206b6bc",
   "metadata": {},
   "outputs": [
    {
     "data": {
      "text/plain": [
       "726345"
      ]
     },
     "execution_count": 31,
     "metadata": {},
     "output_type": "execute_result"
    }
   ],
   "source": [
    "sum((439489, 286856))"
   ]
  },
  {
   "cell_type": "code",
   "execution_count": 33,
   "id": "4bd7cb5f",
   "metadata": {},
   "outputs": [
    {
     "data": {
      "text/plain": [
       "7006610.457565"
      ]
     },
     "execution_count": 33,
     "metadata": {},
     "output_type": "execute_result"
    }
   ],
   "source": [
    "napier5[726345] * 10**5"
   ]
  },
  {
   "cell_type": "code",
   "execution_count": 34,
   "id": "aadc01b7",
   "metadata": {},
   "outputs": [
    {
     "data": {
      "text/plain": [
       "7006652"
      ]
     },
     "execution_count": 34,
     "metadata": {},
     "output_type": "execute_result"
    }
   ],
   "source": [
    "1234*5678"
   ]
  },
  {
   "cell_type": "code",
   "execution_count": 35,
   "id": "e5ee2649",
   "metadata": {},
   "outputs": [],
   "source": [
    "def n_times(x, y):\n",
    "    return napier5[n_log(x)+n_log(y)] * 10**5"
   ]
  },
  {
   "cell_type": "code",
   "execution_count": 36,
   "id": "0ce20289",
   "metadata": {},
   "outputs": [
    {
     "data": {
      "text/plain": [
       "7006610.457565"
      ]
     },
     "execution_count": 36,
     "metadata": {},
     "output_type": "execute_result"
    }
   ],
   "source": [
    "n_times(1234, 5678)"
   ]
  },
  {
   "cell_type": "code",
   "execution_count": null,
   "id": "fc2ad409",
   "metadata": {},
   "outputs": [],
   "source": []
  },
  {
   "cell_type": "code",
   "execution_count": null,
   "id": "4174579c",
   "metadata": {},
   "outputs": [],
   "source": []
  },
  {
   "cell_type": "code",
   "execution_count": null,
   "id": "4c8179bc",
   "metadata": {},
   "outputs": [],
   "source": []
  }
 ],
 "metadata": {
  "kernelspec": {
   "display_name": "Python 3 (ipykernel)",
   "language": "python",
   "name": "python3"
  },
  "language_info": {
   "codemirror_mode": {
    "name": "ipython",
    "version": 3
   },
   "file_extension": ".py",
   "mimetype": "text/x-python",
   "name": "python",
   "nbconvert_exporter": "python",
   "pygments_lexer": "ipython3",
   "version": "3.11.8"
  },
  "toc": {
   "base_numbering": 1,
   "nav_menu": {},
   "number_sections": true,
   "sideBar": true,
   "skip_h1_title": false,
   "title_cell": "Table of Contents",
   "title_sidebar": "Contents",
   "toc_cell": false,
   "toc_position": {},
   "toc_section_display": true,
   "toc_window_display": false
  }
 },
 "nbformat": 4,
 "nbformat_minor": 5
}
