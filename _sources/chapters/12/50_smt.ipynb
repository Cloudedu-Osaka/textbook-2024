{
 "cells": [
  {
   "cell_type": "markdown",
   "id": "a7650781-22ec-4675-8942-e6a625e5a756",
   "metadata": {},
   "source": [
    "# 課題: SMTによる解の探索"
   ]
  },
  {
   "cell_type": "markdown",
   "id": "0357450d-6a35-4c76-9bab-25df6a4cd168",
   "metadata": {},
   "source": [
    "```{seealso}\n",
    "* [Satisfiability modulo theories - Wikipedia](https://en.wikipedia.org/wiki/Satisfiability_modulo_theories)\n",
    "    * [CTF/Toolkit/z3py - 電気通信大学MMA](https://wiki.mma.club.uec.ac.jp/CTF/Toolkit/z3py#A.2Be5eIU28Ue5c-)\n",
    "```"
   ]
  },
  {
   "cell_type": "code",
   "execution_count": 1,
   "id": "4b78d0ea-b0ad-4b4d-835d-16c3c0630718",
   "metadata": {},
   "outputs": [
    {
     "name": "stdout",
     "output_type": "stream",
     "text": [
      "Collecting z3-solver\n",
      "  Using cached z3_solver-4.13.0.0-py2.py3-none-manylinux2014_x86_64.whl.metadata (757 bytes)\n",
      "Using cached z3_solver-4.13.0.0-py2.py3-none-manylinux2014_x86_64.whl (57.3 MB)\n",
      "Installing collected packages: z3-solver\n",
      "Successfully installed z3-solver-4.13.0.0\n"
     ]
    }
   ],
   "source": [
    "!pip install -U z3-solver"
   ]
  },
  {
   "cell_type": "code",
   "execution_count": 3,
   "id": "4c90f252-3da5-4dee-9972-18341c2e38b3",
   "metadata": {},
   "outputs": [
    {
     "name": "stdout",
     "output_type": "stream",
     "text": [
      "[x = 1, y = 1]\n",
      "[x = 2, y = 2]\n",
      "[x = 3, y = 1]\n",
      "[x = 2, y = 1]\n",
      "[x = 1, y = 3]\n",
      "[x = 1, y = 2]\n"
     ]
    }
   ],
   "source": [
    "from z3 import *\n",
    "\n",
    "# 変数定義\n",
    "x = Int(\"x\")\n",
    "y = Int(\"y\")\n",
    "\n",
    "# 基本制約\n",
    "s = Solver()\n",
    "s.add(x > 0, y > 0)\n",
    "s.add(x + y < 5)\n",
    "\n",
    "# 解を探索\n",
    "while(s.check() == sat):\n",
    "    # 解の表示\n",
    "    m = s.model()\n",
    "    print(m)\n",
    "\n",
    "    # 解を制約条件に追加\n",
    "    s.add(Not(And(x == m[x], y == m[y])))"
   ]
  },
  {
   "cell_type": "markdown",
   "id": "70444690-765b-4527-b107-c4e22436d735",
   "metadata": {},
   "source": [
    "## 3×3の魔方陣"
   ]
  },
  {
   "cell_type": "code",
   "execution_count": 5,
   "id": "87ee7df8-2403-43e5-b1ef-d749ac0848dd",
   "metadata": {},
   "outputs": [
    {
     "name": "stdout",
     "output_type": "stream",
     "text": [
      "  6  7  2\n",
      "  8  3  4\n",
      "  1  5  9\n"
     ]
    }
   ],
   "source": [
    "from z3 import *\n",
    "import sys\n",
    "\n",
    "n = 3\n",
    "\n",
    "x = [[Int(\"x[%d,%d]\" % (i,j)) for j in range(n)] for i in range(n)]\n",
    "s = Solver()\n",
    "\n",
    "for i in range(n):\n",
    "    for j in range(n):\n",
    "        s.add(1 <= x[i][j], x[i][j] <= n*n)\n",
    "\n",
    "# all numbers are unique\n",
    "s.add(Distinct(sum(x, [])))\n",
    "\n",
    "# all rows have same sum\n",
    "for i in range(1, n):\n",
    "    s.add(sum(x[0]) == sum(x[i]))\n",
    "\n",
    "# all columns have same sum\n",
    "for j in range(1, n):\n",
    "    s.add(sum(map(lambda row: row[0], x)) == sum(map(lambda row: row[j], x)))\n",
    "\n",
    "s.check()\n",
    "m = s.model()\n",
    "\n",
    "for i in range(n):\n",
    "    for j in range(n):\n",
    "        sys.stdout.write(\" %2d\" % m[ x[i][j] ].as_long())\n",
    "    sys.stdout.write(\"\\n\")"
   ]
  },
  {
   "cell_type": "code",
   "execution_count": 7,
   "id": "533cc554-6419-4de8-aa68-e83f49ad59cd",
   "metadata": {},
   "outputs": [
    {
     "name": "stdout",
     "output_type": "stream",
     "text": [
      "[x[0,0] >= 1,\n",
      " x[0,0] <= 9,\n",
      " x[0,1] >= 1,\n",
      " x[0,1] <= 9,\n",
      " x[0,2] >= 1,\n",
      " x[0,2] <= 9,\n",
      " x[1,0] >= 1,\n",
      " x[1,0] <= 9,\n",
      " x[1,1] >= 1,\n",
      " x[1,1] <= 9,\n",
      " x[1,2] >= 1,\n",
      " x[1,2] <= 9,\n",
      " x[2,0] >= 1,\n",
      " x[2,0] <= 9,\n",
      " x[2,1] >= 1,\n",
      " x[2,1] <= 9,\n",
      " x[2,2] >= 1,\n",
      " x[2,2] <= 9,\n",
      " Distinct(x[0,0],\n",
      "          x[0,1],\n",
      "          x[0,2],\n",
      "          x[1,0],\n",
      "          x[1,1],\n",
      "          x[1,2],\n",
      "          x[2,0],\n",
      "          x[2,1],\n",
      "          x[2,2]),\n",
      " 0 + x[0,0] + x[0,1] + x[0,2] ==\n",
      " 0 + x[1,0] + x[1,1] + x[1,2],\n",
      " 0 + x[0,0] + x[0,1] + x[0,2] ==\n",
      " 0 + x[2,0] + x[2,1] + x[2,2],\n",
      " 0 + x[0,0] + x[1,0] + x[2,0] ==\n",
      " 0 + x[0,1] + x[1,1] + x[2,1],\n",
      " 0 + x[0,0] + x[1,0] + x[2,0] ==\n",
      " 0 + x[0,2] + x[1,2] + x[2,2]]\n"
     ]
    }
   ],
   "source": [
    "print(s.assertions())"
   ]
  },
  {
   "cell_type": "code",
   "execution_count": null,
   "id": "9ca22df2-5095-48d6-a70b-aae8f7cf444f",
   "metadata": {},
   "outputs": [],
   "source": []
  }
 ],
 "metadata": {
  "kernelspec": {
   "display_name": "Python 3 (ipykernel)",
   "language": "python",
   "name": "python3"
  },
  "language_info": {
   "codemirror_mode": {
    "name": "ipython",
    "version": 3
   },
   "file_extension": ".py",
   "mimetype": "text/x-python",
   "name": "python",
   "nbconvert_exporter": "python",
   "pygments_lexer": "ipython3",
   "version": "3.11.8"
  }
 },
 "nbformat": 4,
 "nbformat_minor": 5
}
