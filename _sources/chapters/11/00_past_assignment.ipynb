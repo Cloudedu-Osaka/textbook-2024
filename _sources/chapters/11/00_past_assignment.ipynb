{
 "cells": [
  {
   "cell_type": "markdown",
   "metadata": {},
   "source": [
    "# 課題: EDSACのプログラム技法"
   ]
  },
  {
   "attachments": {},
   "cell_type": "markdown",
   "metadata": {},
   "source": [
    "* [EDSAC - Wikipedia](https://en.wikipedia.org/wiki/EDSAC)\n",
    "    * [パラメトロン計算機: EDSACのプログラム技法](http://parametron.blogspot.com/search/label/EDSAC%E3%81%AE%E3%83%97%E3%83%AD%E3%82%B0%E3%83%A9%E3%83%A0%E6%8A%80%E6%B3%95)\n",
    "    * [From EDSAC to Raspberry Pi: 75 years of “computers that work” | University of Cambridge](https://www.cam.ac.uk/research/features/from-edsac-to-raspberry-pi-75-years-of-computers-that-work)"
   ]
  },
  {
   "attachments": {},
   "cell_type": "markdown",
   "metadata": {},
   "source": [
    "* [Methods of computing square roots - Wikipedia](https://en.wikipedia.org/wiki/Methods_of_computing_square_roots#A_two-variable_iterative_method)#A_two-variable_iterative_method\n",
    "    * [High order algorithms to find square roots and inverses](http://numbers.computation.free.fr/Constants/Algorithms/inverse.html)\n",
    "    * [Pythagoras' Constant : $\\sqrt{2}$](http://numbers.computation.free.fr/Constants/Sqrt2/sqrt2.html)\n",
    "    * [(PDF) A Note on an Iterative Method for Root Extraction](https://www.researchgate.net/publication/31300990_A_Note_on_an_Iterative_Method_for_Root_Extraction)"
   ]
  },
  {
   "cell_type": "markdown",
   "metadata": {},
   "source": [
    "$f(x) = \\frac{1}{x^2} - A$ とする. ニュートン法により"
   ]
  },
  {
   "cell_type": "markdown",
   "metadata": {},
   "source": [
    "\\begin{eqnarray}\n",
    "  x_{n+1} &=& x_{n} - \\frac{{x_{n}}^{-2}-A}{-2{x_{n}}^{-3}} \\\\\n",
    "          &=& x_{n} + \\frac{1}{2} x_{n} \\left( 1 - A {x_{n}}^2 \\right) \\\\\n",
    "          &=& x_{n} - \\frac{1}{2} x_{n} c_{n} \\\\\n",
    "          &=& x_{n} \\left( 1-\\frac{c_n}{2} \\right)\n",
    "\\end{eqnarray}"
   ]
  },
  {
   "cell_type": "markdown",
   "metadata": {},
   "source": [
    "ここで $c_{n} = A{x_{n}}^2-1$ と置き換えた.\n",
    "\n",
    "この式を ${x_{n}}^2 = \\frac{1}{A} (1+c_{n})$ と変形し,上式の両辺を自乗して代入すると"
   ]
  },
  {
   "cell_type": "markdown",
   "metadata": {},
   "source": [
    "$$(1+c_{n+1}) = (1+c_{n}) \\left( 1-\\frac{c_{n}}{2}\\right)^{2}$$"
   ]
  },
  {
   "cell_type": "markdown",
   "metadata": {},
   "source": [
    "\\begin{eqnarray}\n",
    "c_{n+1} &=& (1+c_{n})(1-c_{n}+\\frac{{c_{n}}^2}{4}) - 1 \\\\\n",
    "        &=& \\frac{1}{4}{c_{n}}^2 \\left( c_{n} - 3 \\right)\n",
    "\\end{eqnarray}"
   ]
  },
  {
   "cell_type": "markdown",
   "metadata": {},
   "source": [
    "この二重漸化式は, 除算を行う必要がないため (~~$1/2$ や $1/4$は有限小数の乗算~~ビットシフト演算), 高精度で高速な演算を期待できる."
   ]
  },
  {
   "cell_type": "markdown",
   "metadata": {},
   "source": [
    "この式は, 次のように一般化できる:"
   ]
  },
  {
   "cell_type": "markdown",
   "metadata": {},
   "source": [
    "\\begin{eqnarray}\n",
    "    x_{n+1} &=& x_{n} \\left( 1 - \\frac{c_{n}}{n}\\right) \\\\\n",
    "1 + c_{n+1} &=& (1 + c_{n})\\left( 1 - \\frac{c_{n}}{n} \\right)^{n}\n",
    "\\end{eqnarray}"
   ]
  },
  {
   "cell_type": "markdown",
   "metadata": {},
   "source": [
    "$x_{0} = a$, $c_{0} = b-1$ かつ $c_{n} \\rightarrow 0$ のとき "
   ]
  },
  {
   "cell_type": "markdown",
   "metadata": {},
   "source": [
    "$$x_{n} \\rightarrow \\frac{a}{b^{\\frac{1}{n}}}$$"
   ]
  },
  {
   "cell_type": "code",
   "execution_count": 1,
   "metadata": {},
   "outputs": [
    {
     "name": "stdout",
     "output_type": "stream",
     "text": [
      "1.0 -0.5\n",
      "1.25 -0.21875\n",
      "1.38671875 -0.03850555419921875\n",
      "1.413416936993599 -0.001126281109816385\n",
      "1.4142128893918142 -9.517390282169533e-07\n",
      "1.4142135623726146 -6.793555988965238e-13\n"
     ]
    }
   ],
   "source": [
    "x, c = 2, 2-1\n",
    "\n",
    "while True:\n",
    "    x = x - x * c / 2\n",
    "    c = c**2 * (c - 3) / 4\n",
    "    print(x, c)\n",
    "    if abs(c) < 0.00000001:\n",
    "        break"
   ]
  },
  {
   "cell_type": "code",
   "execution_count": 2,
   "metadata": {},
   "outputs": [
    {
     "data": {
      "text/markdown": [
       "このプログラムは、`x`と`c`という二つの変数に対して特定の計算を繰り返し行うものです。ここでの計算は以下の通りです:\n",
       "\n",
       "1. `x`の新しい値は、現在の`x`から`x`と`c`の積の半分を引いたものになります。\n",
       "2. `c`の新しい値は、現在の`c`の2乗と`(c - 3)`の積を、4で割ったものになります。\n",
       "3. その後、新しい`x`と`c`を出力します。\n",
       "\n",
       "この計算を続けるかどうかは、`c`の絶対値が`0.00000001`より小さくなった場合に停止します。\n",
       "\n",
       "初期値は`x = 2`および`c = 2 - 1 = 1`となっています。\n",
       "\n",
       "ただし、特定の数学的な背景や目的があるかどうかはこのコードだけからは明確には判断できません。たとえばこれは特定の数列を生成するためのものであったり、特定の制約下での最適化問題を解くためのものである可能性もあります。それは具体的な応用コンテキストや、このコードが書かれた背景によります。"
      ],
      "text/plain": [
       "<IPython.core.display.Markdown object>"
      ]
     },
     "execution_count": 2,
     "metadata": {
      "text/markdown": {
       "jupyter_ai": {
        "custom_chain_id": "vioras"
       }
      }
     },
     "output_type": "execute_result"
    }
   ],
   "source": [
    "%%ai vioras\n",
    "次のプログラムについて\n",
    "\n",
    "```python\n",
    "x, c = 2, 2-1\n",
    "\n",
    "while True:\n",
    "    x = x - x * c / 2\n",
    "    c = c**2 * (c - 3) / 4\n",
    "    print(x, c)\n",
    "    if abs(c) < 0.00000001:\n",
    "        break\n",
    "```"
   ]
  },
  {
   "cell_type": "code",
   "execution_count": 3,
   "metadata": {},
   "outputs": [
    {
     "data": {
      "text/markdown": [
       "ありがとうございます、その説明が非常に有用です。このコードは、実際には平方根の近似値を計算するためのもので、特に$2$の平方根を計算しています。\n",
       "\n",
       "まず初期値として`x=2`と`c=1`を設定します。そしてループ内では、以下の操作を繰り返します:\n",
       "\n",
       "1. `x`から`x * c / 2`を引くことで、`x`の新しい値を計算します。\n",
       "2. `c`の新しい値は、`c`の2乗と`(c - 3)`の積を4で割ったものに更新します。\n",
       "\n",
       "そして、`c`の絶対値が十分に小さくなる（具体的には `0.00000001`より小さくなる）までこれを繰り返します。\n",
       "\n",
       "このプロセスの結果、`c`は0に収束し、`x`は$2$の平方根に収束します。これは、`x`の更新式が$2$の平方根を逐次近似する方法となっているからです。ただし、この近似方法自体がどのように導出されたか、またはどのような理論的背景に基づいているかについては、このコードだけからは判断できません。"
      ],
      "text/plain": [
       "<IPython.core.display.Markdown object>"
      ]
     },
     "execution_count": 3,
     "metadata": {
      "text/markdown": {
       "jupyter_ai": {
        "custom_chain_id": "vioras"
       }
      }
     },
     "output_type": "execute_result"
    }
   ],
   "source": [
    "%%ai vioras\n",
    "`c`は0に収束し、`a`は$2$の平方根を近似します。"
   ]
  },
  {
   "cell_type": "code",
   "execution_count": 4,
   "metadata": {},
   "outputs": [
    {
     "data": {
      "text/markdown": [
       "なるほど、それは興味深い情報です。このアルゴリズムは、EDSAC (Electronic Delay Storage Automatic Calculator) のために開発されたニュートン法に基づいています。ニュートン法は、方程式の根を求めるための反復的なアルゴリズムで、初期近似値から始めてその値を逐次改良していきます。\n",
       "\n",
       "この具体的なコードは、二変数の漸化式を用いて、2の平方根の近似値を求めています。`x`と`c`の更新ルールは、ニュートン法の更新ステップを表現しています。\n",
       "\n",
       "ニュートン法の基本的なアイデアは、関数 $f(x)$ の近似解を見つけるために、初期点 $x_0$ から始めて、タンジェントラインを使って次の近似値 $x_{n+1}$ を求めるというものです。具体的には、次の式で更新を行います：\n",
       "\n",
       "$$ x_{n+1} = x_n - \\frac{f(x_n)}{f'(x_n)} $$\n",
       "\n",
       "ここで、$f'(x)$ は $f(x)$ の導関数です。このプロセスを反復すると、$x_n$ は $f(x) = 0$ の解に収束します。\n",
       "\n",
       "このコードでは、更新ステップを `x = x - x * c / 2` と `c = c**2 * (c - 3) / 4` で表現しており、これらはニュートン法に基づく近似ステップを表しています。そして、`c` が十分に小さくなるまでこの更新を繰り返すことで、`x` は2の平方根に収束します。"
      ],
      "text/plain": [
       "<IPython.core.display.Markdown object>"
      ]
     },
     "execution_count": 4,
     "metadata": {
      "text/markdown": {
       "jupyter_ai": {
        "custom_chain_id": "vioras"
       }
      }
     },
     "output_type": "execute_result"
    }
   ],
   "source": [
    "%%ai vioras\n",
    "このアルゴリズムは、EDSACのために開発されたニュートン法に基づく二変数の漸化式です。"
   ]
  },
  {
   "cell_type": "code",
   "execution_count": 6,
   "metadata": {},
   "outputs": [
    {
     "data": {
      "text/markdown": [
       "理解しました。この場合、関数 $f(x)$ は次のようになります：\n",
       "\n",
       "$$ f(x) = \\frac{1}{x^2} - A $$\n",
       "\n",
       "この関数の根を求めることは、$ \\frac{1}{x^2} = A $ つまり $x = \\sqrt{1 / A}$ を求めることに相当します。この例では $A=2$ なので、求める数値は $2$ の平方根となります。\n",
       "\n",
       "ニュートン法を用いると、次のような更新式が得られます。まず、$f(x)$ の導関数 $f'(x)$ を求めます：\n",
       "\n",
       "$$ f'(x) = -2 \\cdot \\frac{1}{x^3} $$\n",
       "\n",
       "次に、ニュートン法の更新式を適用します：\n",
       "\n",
       "$$ x_{n+1} = x_n - \\frac{f(x_n)}{f'(x_n)} $$\n",
       "\n",
       "これを $f(x)$ および $f'(x)$ に代入すると、次のような更新式が得られます：\n",
       "\n",
       "$$ x_{n+1} = x_n - \\frac{\\frac{1}{x_n^2} - A}{-2 \\cdot \\frac{1}{x_n^3}} $$\n",
       "\n",
       "これを整理すると、次のような形になります：\n",
       "\n",
       "$$ x_{n+1} = x_n \\left(1 + \\frac{A x_n^2 - 1}{2} \\right) $$\n",
       "\n",
       "これが`x = x - x * c / 2`と一致するためには、$c$は次のように定義されている必要があります：\n",
       "\n",
       "$$ c = A x_n^2 - 1 $$\n",
       "\n",
       "そして、`c` の更新ルール `c = c**2 * (c - 3) / 4` を満たすためには、$c$ が次のような漸化式で更新されている必要があります：\n",
       "\n",
       "$$ c_{n+1} = (A x_{n+1}^2 - 1) = c_n^2 \\left(c_n - 3 \\right) / 4 $$\n",
       "\n",
       "この関係が成り立つかどうかは、その適用される具体的な数学的背景によります。"
      ],
      "text/plain": [
       "<IPython.core.display.Markdown object>"
      ]
     },
     "execution_count": 6,
     "metadata": {
      "text/markdown": {
       "jupyter_ai": {
        "custom_chain_id": "vioras"
       }
      }
     },
     "output_type": "execute_result"
    }
   ],
   "source": [
    "%%ai vioras\n",
    "$f(x) = \\frac\\\\{1\\\\}\\\\{x^2\\\\} - A$です。"
   ]
  },
  {
   "cell_type": "code",
   "execution_count": 7,
   "metadata": {},
   "outputs": [
    {
     "data": {
      "text/markdown": [
       "はい、その通りです。ニュートン法のような反復的なアルゴリズムでは、初期値の選択が結果の収束に大きな影響を与えます。\n",
       "\n",
       "具体的には、初期値$c_0$が異なると、その後の値$c_n$の進行と収束が異なる可能性があります。ニュートン法は局所的な方法であり、初期値が解の近くになければ適切に収束しない可能性があります。また、初期値が特定の\"不運な\"値であると、アルゴリズムは収束しないか、あるいは非常に遅く収束する可能性があります。\n",
       "\n",
       "そのため、このアルゴリズムを使用する場合、適切な初期値を選択することが重要です。通常、問題の具体的な知識を用いて初期値を選択します。このコードでは、初期値として$c_0 = 2 - 1 = 1$が選択されています。"
      ],
      "text/plain": [
       "<IPython.core.display.Markdown object>"
      ]
     },
     "execution_count": 7,
     "metadata": {
      "text/markdown": {
       "jupyter_ai": {
        "custom_chain_id": "vioras"
       }
      }
     },
     "output_type": "execute_result"
    }
   ],
   "source": [
    "%%ai vioras\n",
    "$c_0$によって収束は異なります。"
   ]
  },
  {
   "cell_type": "code",
   "execution_count": 8,
   "metadata": {},
   "outputs": [
    {
     "data": {
      "text/markdown": [
       "EDSAC (Electronic Delay Storage Automatic Calculator) は、1940年代に開発された最初期の一般目的のデジタルコンピュータの一つです。その当時、コンピュータの計算能力は現代と比べて非常に限られており、複雑な計算を効率的に行うためのアルゴリズムが必要とされていました。\n",
       "\n",
       "平方根の計算は、多くの科学的、工学的な問題で必要とされる基本的な演算であり、その効率的な計算方法は重要です。しかし、当時のコンピュータでは乗除算の計算コストが高かったため、それを避ける工夫が必要でした。\n",
       "\n",
       "ニュートン法はこの問題に対する一つの解答で、反復的に解を改良していく方法で、初期値から始めてその値を逐次改良していきます。その更新ステップは比較的単純で、乗除算を必要としません。\n",
       "\n",
       "このコードのアルゴリズムは、2の平方根を求めるニュートン法の一種で、`x`と`c`の二つの変数を用いて反復計算を行っています。`x`の更新は`x = x - x * c / 2`という単純な形をしており、これは乗算と減算のみで計算できます。また、`c`の更新も`c = c**2 * (c - 3) / 4`という形で、乗算と減算のみで計算できます。\n",
       "\n",
       "したがって、このアルゴリズムは、当時のコンピュータの限られた計算能力を考慮に入れた上で、平方根の計算を効率的に行うための工夫された方法と言えるでしょう。"
      ],
      "text/plain": [
       "<IPython.core.display.Markdown object>"
      ]
     },
     "execution_count": 8,
     "metadata": {
      "text/markdown": {
       "jupyter_ai": {
        "custom_chain_id": "vioras"
       }
      }
     },
     "output_type": "execute_result"
    }
   ],
   "source": [
    "%%ai vioras\n",
    "EDSACが平方根の求解に何故このアルゴリズムを必要としたか考察してください。"
   ]
  },
  {
   "cell_type": "code",
   "execution_count": 9,
   "metadata": {},
   "outputs": [
    {
     "data": {
      "text/markdown": [
       "すみません、その点は見落としていました。確かに除算は現代のコンピュータにおいても、加算や乗算に比べてコストの高い演算です。1940年代の初期のコンピュータ、特にEDSACでは、除算は非常に高コストで、時間と資源を大量に消費する可能性がありました。\n",
       "\n",
       "ニュートン法は、一般的には除算を含む更新式 $x_{n+1} = x_n - \\frac{f(x_n)}{f'(x_n)}$ に基づいていますが、このアルゴリズムは除算を避けるように工夫されています。\n",
       "\n",
       "`x` の更新 `x = x - x * c / 2` では、除算は明示的には行われておらず、代わりに乗算が用いられています。`c` の更新 `c = c**2 * (c - 3) / 4` では、定数 `4` での除算が行われていますが、これは固定の除数であるため、シフト演算による最適化等が可能で、高コストな除算を避けることができます。\n",
       "\n",
       "したがって、このアルゴリズムは除算のコストを抑えるように設計されていたと言えるでしょう。これは、初期のコンピュータの限られた計算能力を考慮した、効率的なアルゴリズム設計の一例です。"
      ],
      "text/plain": [
       "<IPython.core.display.Markdown object>"
      ]
     },
     "execution_count": 9,
     "metadata": {
      "text/markdown": {
       "jupyter_ai": {
        "custom_chain_id": "vioras"
       }
      }
     },
     "output_type": "execute_result"
    }
   ],
   "source": [
    "%%ai vioras\n",
    "除算に関する考察が足りません。"
   ]
  },
  {
   "cell_type": "code",
   "execution_count": 10,
   "metadata": {},
   "outputs": [
    {
     "data": {
      "text/markdown": [
       "その通りです。ビットシフト演算は、2のn乗での乗算や除算を行う際に、非常に効率的な手法です。\n",
       "\n",
       "一般的に、2進数表現においては、左にビットを1つシフトすることは2倍（乗算）を、右にビットを1つシフトすることは半分（除算）を意味します。例えば、2進数の `1001` (10進数で9) を1ビット右にシフトすると `100` (10進数で4) になり、これは9を2で除した値と等しくなります。\n",
       "\n",
       "EDSACはこの特性を利用し、2や4での除算をビットシフト演算で行っていたとのことです。したがって、このコードにおける `c = c**2 * (c - 3) / 4` の操作は、高コストな除算を行っているように見えますが、実際には効率的なビットシフト演算を行っていたと言えます。このような工夫により、計算資源が限られていた当時のコンピュータでも効率的に平方根を計算することが可能になっていたというわけです。"
      ],
      "text/plain": [
       "<IPython.core.display.Markdown object>"
      ]
     },
     "execution_count": 10,
     "metadata": {
      "text/markdown": {
       "jupyter_ai": {
        "custom_chain_id": "vioras"
       }
      }
     },
     "output_type": "execute_result"
    }
   ],
   "source": [
    "%%ai vioras\n",
    "EDSACは、$2$と$4$の除算をビットシフト演算で行っていました。"
   ]
  },
  {
   "cell_type": "markdown",
   "metadata": {},
   "source": [
    "```{note}\n",
    "以下、補足です\n",
    "```"
   ]
  },
  {
   "cell_type": "markdown",
   "metadata": {},
   "source": [
    "## 位取り記法の基数による乗算と除算"
   ]
  },
  {
   "cell_type": "code",
   "execution_count": 2,
   "metadata": {},
   "outputs": [
    {
     "data": {
      "text/markdown": [
       "位取り記法の基数による乗算と除算が簡単な理由は、以下のような要点に集約されます：\n",
       "\n",
       "1. **基数の特性**: 基数の性質により、乗算と除算は互いに逆の操作となります。たとえば、10進法では、乗算は10の累乗によるスケーリングと解釈でき、除算はその逆の操作です。同じように、2進法では、左にビットをシフトすることは乗算に、右にシフトすることは除算に相当します。\n",
       "\n",
       "2. **位取り記法**: 位取り記法は、数字の位置によってその値が変わるという特性があります。これにより、乗算や除算を行う際に、各桁ごとに独立して計算を行うことが可能になります。これは計算を簡単にし、特に大きな数に対する計算を可能にします。\n",
       "\n",
       "3. **再利用性**: 一度学習した乗算や除算の手順は、任意の基数に対して再利用することができます。たとえば、10進法で学んだ乗算の手順は、2進法や16進法でもそのまま利用することが可能です。\n",
       "\n",
       "4. **計算の分割**: 乗算や除算は、複数の小さな計算に分割できます。このため、全体の計算を一度に行う代わりに、各部分を個別に計算し、最終的に結果を組み合わせることが可能になります。これにより、計算の複雑さを大幅に減らすことができます。\n",
       "\n",
       "これらの理由から、位取り記法の基数による乗算と除算は、比較的簡単な手順で行うことができます。"
      ],
      "text/plain": [
       "<IPython.core.display.Markdown object>"
      ]
     },
     "execution_count": 2,
     "metadata": {
      "text/markdown": {
       "jupyter_ai": {
        "custom_chain_id": "vioras"
       }
      }
     },
     "output_type": "execute_result"
    }
   ],
   "source": [
    "%%ai vioras\n",
    "位取り記法の基数による乗算と除算が簡単な理由"
   ]
  },
  {
   "cell_type": "code",
   "execution_count": 3,
   "metadata": {},
   "outputs": [
    {
     "data": {
      "text/markdown": [
       "もちろんです。4番目の「計算の分割」について、10進法を例に具体的な説明をします。\n",
       "\n",
       "10進法における乗算は、各桁ごとに行われ、それぞれの結果が加算されることで最終的な結果が得られます。例えば、`123 × 45`を計算する場合、以下のように分割して計算を行います。\n",
       "\n",
       "```plaintext\n",
       "   123 \n",
       "×  45 \n",
       "------\n",
       "  615 (これは123 × 5の結果)\n",
       "+4920 (これは123 × 4の結果、一つ左にシフトされている)\n",
       "------\n",
       " 5535 (これが最終的な結果)\n",
       "```\n",
       "\n",
       "上記の計算では、123という数を1の位の3、10の位の2、100の位の1という3つの数に分割し、それぞれ45と乗算しています。それぞれの乗算の結果を得た後、それらの結果を合計することで最終的な答えを得ています。このように、位取り記法を用いることで大きな数の乗算を、より小さな数の乗算に分割し、計算をシンプルにすることができます。\n",
       "\n",
       "同様に、除算もある数を基数の累乗で表現し、それぞれの部分で除算を行い、最後に結果を組み合わせることで計算を行うことができます。これにより、大きな数の除算を、より小さな数の除算に分割し、計算を簡単にすることができます。"
      ],
      "text/plain": [
       "<IPython.core.display.Markdown object>"
      ]
     },
     "execution_count": 3,
     "metadata": {
      "text/markdown": {
       "jupyter_ai": {
        "custom_chain_id": "vioras"
       }
      }
     },
     "output_type": "execute_result"
    }
   ],
   "source": [
    "%%ai vioras\n",
    "４番目の計算の分割について具体例を示してください"
   ]
  },
  {
   "cell_type": "code",
   "execution_count": null,
   "metadata": {},
   "outputs": [],
   "source": []
  }
 ],
 "metadata": {
  "kernelspec": {
   "display_name": "Python 3 (ipykernel)",
   "language": "python",
   "name": "python3"
  },
  "language_info": {
   "codemirror_mode": {
    "name": "ipython",
    "version": 3
   },
   "file_extension": ".py",
   "mimetype": "text/x-python",
   "name": "python",
   "nbconvert_exporter": "python",
   "pygments_lexer": "ipython3",
   "version": "3.11.8"
  },
  "nteract": {
   "version": "0.15.0"
  }
 },
 "nbformat": 4,
 "nbformat_minor": 4
}
