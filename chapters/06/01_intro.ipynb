{
 "cells": [
  {
   "cell_type": "markdown",
   "id": "1977fa91-02c9-406c-86bc-c72bd96bc31b",
   "metadata": {},
   "source": [
    "# 第六週"
   ]
  },
  {
   "cell_type": "markdown",
   "id": "987fdf47-00ea-4abb-8423-3e59bc73b424",
   "metadata": {},
   "source": [
    "* 前回の課題\n",
    "* バビロニアの60進数\n",
    "* Plimpton 322とピタゴラスの三数\n",
    "* 今回の課題\n",
    "    * Plimpton 322の数表を生成する\n",
    "* 次回の予定\n",
    "    * 平方根の解法とYBC7289\n",
    "    * 組み合わせとピタゴラス音階\n",
    "    * 相加平均相乗平均"
   ]
  },
  {
   "cell_type": "markdown",
   "id": "00c4833c-9369-4333-9ec9-2beda3595206",
   "metadata": {},
   "source": []
  },
  {
   "cell_type": "markdown",
   "id": "211e9e22-c9d7-4bb8-af1e-1d9a914777b6",
   "metadata": {},
   "source": []
  },
  {
   "cell_type": "markdown",
   "id": "ed112e81-326a-426a-bca5-2c401eb0ea24",
   "metadata": {},
   "source": []
  }
 ],
 "metadata": {
  "kernelspec": {
   "display_name": "Python 3 (ipykernel)",
   "language": "python",
   "name": "python3"
  },
  "language_info": {
   "codemirror_mode": {
    "name": "ipython",
    "version": 3
   },
   "file_extension": ".py",
   "mimetype": "text/x-python",
   "name": "python",
   "nbconvert_exporter": "python",
   "pygments_lexer": "ipython3",
   "version": "3.11.8"
  }
 },
 "nbformat": 4,
 "nbformat_minor": 5
}
