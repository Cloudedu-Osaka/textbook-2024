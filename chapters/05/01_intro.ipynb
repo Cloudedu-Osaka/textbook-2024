{
 "cells": [
  {
   "cell_type": "markdown",
   "id": "715841aa-b5c4-4c2f-8adc-71a96d96baf5",
   "metadata": {},
   "source": [
    "# 数の表現とデータ構造に依存するプログラミング"
   ]
  },
  {
   "cell_type": "markdown",
   "id": "9a8176b8-f3b3-4cca-8603-8d0a194a8a8e",
   "metadata": {},
   "source": [
    "## 数の表現の歴史"
   ]
  },
  {
   "cell_type": "code",
   "execution_count": 1,
   "id": "30e2d4a4-1cf9-4d63-86b6-92e06a3e84c6",
   "metadata": {},
   "outputs": [
    {
     "data": {
      "text/markdown": [
       "十進法が主に使われる理由は、おそらく人間の手の指が10本あることに由来しています。初期の数の表現では、手の指を使って数を数えていたと考えられています。したがって、10本の指があることから、十進法が自然に採用され、その後広まったと考えられます。\n",
       "\n",
       "しかし、すべての文化が十進法を採用しているわけではありません。例えば、古代のバビロニア人は60進法を使用しており、これは現在でも時間の計算（60分=1時間）や角度の計算（360度=1周）などで使われています。また、コンピュータの世界では、2進法や16進法が一般的に使用されています。\n",
       "\n",
       "したがって、十進法が広く採用されている理由は、人間の生物学的な特性と文化的な習慣の組み合わせによるものと言えるでしょう。"
      ],
      "text/plain": [
       "<IPython.core.display.Markdown object>"
      ]
     },
     "execution_count": 1,
     "metadata": {
      "text/markdown": {
       "jupyter_ai": {
        "custom_chain_id": "vioras"
       }
      }
     },
     "output_type": "execute_result"
    }
   ],
   "source": [
    "%%ai vioras\n",
    "人間は何故十進法で数を表現するのですか？"
   ]
  },
  {
   "cell_type": "code",
   "execution_count": 2,
   "id": "496d9bc6-b171-48bb-a03a-43bfd4aef236",
   "metadata": {},
   "outputs": [
    {
     "data": {
      "text/markdown": [
       "古代の数学の発展は、さまざまな文化と地域で異なる進行を見せましたが、古代バビロニア人の数学から始まる数の表現方法の歴史について、一部を概観してみましょう。\n",
       "\n",
       "1. **古代バビロニア（紀元前2000年頃）**：古代バビロニア人は、60進法を使用しました。これは、60が多くの他の数（1、2、3、4、5、6、10、12、15、20、30）で割り切れるため、計算が容易であったからです。このシステムは、時間、角度、地理座標の表現など、現代まで影響を及ぼしています。\n",
       "\n",
       "2. **古代エジプト（紀元前2000年頃）**：エジプト人は、10進法に基づく階層的な数値システムを使用していました。彼らの記号は、1、10、100、1,000、10,000、100,000、1,000,000の各値に対応していました。\n",
       "\n",
       "3. **古代ギリシャ（紀元前500年頃）**：ギリシャ人は、アルファベットの文字を数字として使用するアルファベット数法を採用しました。また、ギリシャの哲学者ピタゴラスは、数の神秘的な性質を探求し、数学の哲学的な側面を強調しました。\n",
       "\n",
       "4. **古代ローマ（紀元前500年頃）**：ローマ人は、特定の文字（I、V、X、L、C、D、M）を使用して数字を表現するローマ数字を採用しました。\n",
       "\n",
       "5. **中世ヨーロッパ（紀元後500年～1500年）**：この時代、アラビア数字（現在私たちが使用している0から9までの数字）がインドから導入され、それまでのローマ数字を置き換えるようになりました。アラビア数字は、計算が容易であるため、商業と科学の両方で広く採用されました。\n",
       "\n",
       "6. **現代（20世紀以降）**：現代のコンピュータは、2進法を使用します。これは、コンピュータの基本的な構造がオンとオフの2つの状態を持つ電子スイッチ（トランジスタ）に基づいているためです。\n",
       "\n",
       "以上のように、数の表現方法は、地域や時代、技術により変化し進化してきました。それぞれの数の表現方法は、それぞれの文化や科学のニーズに適応して発展してきたと言えるでしょう。"
      ],
      "text/plain": [
       "<IPython.core.display.Markdown object>"
      ]
     },
     "execution_count": 2,
     "metadata": {
      "text/markdown": {
       "jupyter_ai": {
        "custom_chain_id": "vioras"
       }
      }
     },
     "output_type": "execute_result"
    }
   ],
   "source": [
    "%%ai vioras\n",
    "古代のバビロニア人から始まる数の表現方法の歴史を教えてください"
   ]
  },
  {
   "cell_type": "markdown",
   "id": "69996251-ad8d-41b1-b591-1cd2151e73f9",
   "metadata": {},
   "source": [
    "* [Numeral system - Wikipedia](https://en.wikipedia.org/wiki/Numeral_system)\n",
    "    1. [Babylonian cuneiform numerals - Wikipedia](https://en.wikipedia.org/wiki/Babylonian_cuneiform_numerals)\n",
    "    1. [Egyptian numerals - Wikipedia](https://en.wikipedia.org/wiki/Egyptian_numerals)\n",
    "    1. [Greek numerals - Wikipedia](https://en.wikipedia.org/wiki/Greek_numerals)\n",
    "    1. [Roman numerals - Wikipedia](https://en.wikipedia.org/wiki/Roman_numerals)\n",
    "    1. [Arabic numerals - Wikipedia](https://en.wikipedia.org/wiki/Arabic_numerals)\n",
    "    1. [Binary number - Wikipedia](https://en.wikipedia.org/wiki/Binary_number)"
   ]
  },
  {
   "cell_type": "markdown",
   "id": "02fcb8ff-c3bd-43d0-b18d-1bc7a4240a09",
   "metadata": {},
   "source": [
    "### 位取り記法の喪失と復活"
   ]
  },
  {
   "cell_type": "markdown",
   "id": "4997ac36-f0f6-43d5-947a-1e18a898329a",
   "metadata": {},
   "source": [
    "* [Numeral system - Wikipedia](https://en.wikipedia.org/wiki/Numeral_system)\n",
    "    - [Positional notation - Wikipedia](https://en.wikipedia.org/wiki/Positional_notation)\n",
    "    - [Sign-value notation - Wikipedia](https://en.wikipedia.org/wiki/Sign-value_notation)"
   ]
  },
  {
   "cell_type": "code",
   "execution_count": 3,
   "id": "c42b2f8e-57b2-47fd-aaef-61b0ab96046f",
   "metadata": {},
   "outputs": [
    {
     "data": {
      "text/markdown": [
       "位取り記法は数値を表現する方法の一つで、各桁が数値の特定の重み（通常は基数のべき乗）を持つという特徴があります。0から基数-1までの数字が各桁で使用されます。以下に、あなたが尋ねられた数の表現方法を、位取り記法か否かで分類します。\n",
       "\n",
       "1. **古代バビロニア（60進法）**：はい、位取り記法です。古代のバビロニア人は60を基数とする位取り記法を使用していました。\n",
       "\n",
       "2. **古代エジプト（10進法）**：はい、位取り記法ですが、彼らのシステムは完全に位取り記法と呼べるものではありませんでした。彼らの記号は、1、10、100、1,000、10,000、100,000、1,000,000の各値に対応していましたが、現代の位取り記法とは異なり、位置による重み付けが行われていませんでした。\n",
       "\n",
       "3. **古代ギリシャ（アルファベット数法）**：いいえ、位取り記法ではありません。値は文字に直接関連付けられ、位取りによる重み付けはありませんでした。\n",
       "\n",
       "4. **古代ローマ（ローマ数字）**：いいえ、位取り記法ではありません。ローマ数字は特定の文字が特定の数値を示し、文字の組み合わせと配置によって数値が表現されますが、これは位取り記法とは異なります。\n",
       "\n",
       "5. **中世ヨーロッパ（アラビア数字）**：はい、位取り記法です。アラビア数字は10を基数とする位取り記法を使用しています。\n",
       "\n",
       "6. **現代（2進法）**：はい、位取り記法です。現代のコンピュータは2を基数とする位取り記法を使用しています。\n",
       "\n",
       "以上のように、位取り記法は特に中世以降の数値表現で広く採用され、現代の数学や科学、技術においても重要な役割を果たしています。"
      ],
      "text/plain": [
       "<IPython.core.display.Markdown object>"
      ]
     },
     "execution_count": 3,
     "metadata": {
      "text/markdown": {
       "jupyter_ai": {
        "custom_chain_id": "vioras"
       }
      }
     },
     "output_type": "execute_result"
    }
   ],
   "source": [
    "%%ai vioras\n",
    "列挙された数の表現方法を位取り記法か否かで分類してください"
   ]
  },
  {
   "cell_type": "code",
   "execution_count": 4,
   "id": "d330778e-f6cf-45e6-a6cd-36b45d70c192",
   "metadata": {},
   "outputs": [
    {
     "data": {
      "text/markdown": [
       "古代ギリシャやローマでは位取り記法が一般的ではなかった理由については、多くの学者が様々な理論を提唱しています。以下に、その一部を挙げてみます。\n",
       "\n",
       "1. **技術的要求**：古代のギリシャやローマの社会では、広範な計算が必要とされる状況が少なかった可能性があります。したがって、複雑な位取り記法を開発し、学習する強い動機付けが存在しなかったと考えられます。\n",
       "\n",
       "2. **文化的要素**：位取り記法は、一度に多くの情報を保持し、操作する能力を必要とします。これは教育と訓練を必要とし、古代のギリシャやローマでは、そのような教育システムが普及していなかった可能性があります。\n",
       "\n",
       "3. **記録方法**：ローマ数字やギリシャのアルファベット数法は、石碑や彫刻に記録するのに便利でした。位取り記法は、書き込みや削除が頻繁に行われる紙のような媒体に適していますが、古代ローマやギリシャでは、このような媒体が一般的ではなかった可能性があります。\n",
       "\n",
       "4. **抽象思考の欠如**：位取り記法は、数の抽象的な概念（つまり、同じ「1」が10の位では「10」を、100の位では「100」を表すなど）を理解する能力を必要とします。古代のギリシャやローマの社会では、このような高度な抽象的な思考を必要とするシステムが一般的ではなかった可能性があります。\n",
       "\n",
       "以上のように、技術的な需要、教育と訓練の水準、記録方法、抽象的な思考のレベルなど、多くの要素が古代ギリシャとローマで位取り記法が一般的でなかった理由として考えられます。ただし、これらは推測の範囲を出ないことを覚えておいてください。"
      ],
      "text/plain": [
       "<IPython.core.display.Markdown object>"
      ]
     },
     "execution_count": 4,
     "metadata": {
      "text/markdown": {
       "jupyter_ai": {
        "custom_chain_id": "vioras"
       }
      }
     },
     "output_type": "execute_result"
    }
   ],
   "source": [
    "%%ai vioras\n",
    "何故、古代ギリシアとローマでは位取り記法が失われたのですか？"
   ]
  },
  {
   "cell_type": "code",
   "execution_count": null,
   "id": "03f9e629-40b0-448e-bb1a-11e53793c55b",
   "metadata": {},
   "outputs": [],
   "source": []
  }
 ],
 "metadata": {
  "kernelspec": {
   "display_name": "Python 3 (ipykernel)",
   "language": "python",
   "name": "python3"
  },
  "language_info": {
   "codemirror_mode": {
    "name": "ipython",
    "version": 3
   },
   "file_extension": ".py",
   "mimetype": "text/x-python",
   "name": "python",
   "nbconvert_exporter": "python",
   "pygments_lexer": "ipython3",
   "version": "3.11.8"
  }
 },
 "nbformat": 4,
 "nbformat_minor": 5
}
