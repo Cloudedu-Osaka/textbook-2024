{
 "cells": [
  {
   "cell_type": "markdown",
   "id": "cb0dd74b-9dcb-48b9-b44b-c6622cf95e76",
   "metadata": {
    "tags": []
   },
   "source": [
    "# ローマ数字に変換する (2)\n",
    "\n",
    "* [Roman numerals - Wikipedia](https://en.wikipedia.org/wiki/Roman_numerals)"
   ]
  },
  {
   "cell_type": "markdown",
   "id": "9575fe5e-2266-44fd-acb8-cab4150b7657",
   "metadata": {},
   "source": [
    "## Wikipediaのデータを活用する"
   ]
  },
  {
   "attachments": {},
   "cell_type": "markdown",
   "id": "a0e6ea57-c490-4ce3-a24f-e74cd1da56eb",
   "metadata": {},
   "source": [
    "pandasのライブラリ関数 `read_html()` を使ってWikipediaの表を読み込む:\n",
    "\n",
    "* [Web scraping - Wikipedia](https://en.wikipedia.org/wiki/Web_scraping)\n",
    "    * [pandas.read_html — pandas 2.2.2 documentation](https://pandas.pydata.org/docs/reference/api/pandas.read_html.html)"
   ]
  },
  {
   "cell_type": "code",
   "execution_count": 81,
   "id": "2ae3be83-31e0-4e76-adb7-50467a29319d",
   "metadata": {},
   "outputs": [
    {
     "data": {
      "text/markdown": [
       "PythonでWebスクレイピングを行い、その結果をPandasのデータフレームに読み込むには、たとえば`requests`、`BeautifulSoup`、そして`pandas`といったライブラリを使用します。\n",
       "\n",
       "以下に、HTMLページからテーブルをスクレイピングし、それをPandasのデータフレームに読み込む基本的なコードを示します：\n",
       "\n",
       "```python\n",
       "import requests\n",
       "from bs4 import BeautifulSoup\n",
       "import pandas as pd\n",
       "\n",
       "# WebページのURL\n",
       "url = \"https://example.com\"\n",
       "\n",
       "# ページのHTMLを取得\n",
       "response = requests.get(url)\n",
       "\n",
       "# BeautifulSoupオブジェクトを作成\n",
       "soup = BeautifulSoup(response.text, 'html.parser')\n",
       "\n",
       "# HTML内のテーブルを見つける\n",
       "table = soup.find('table')\n",
       "\n",
       "# テーブルをデータフレームに変換\n",
       "df = pd.read_html(str(table))[0]\n",
       "\n",
       "print(df)\n",
       "```\n",
       "\n",
       "このコードでは、まず`requests.get()`を使ってWebページのHTMLを取得します。次に、`BeautifulSoup`を使ってHTMLを解析します。\n",
       "\n",
       "そして、`find('table')`を使ってHTML内のテーブルを見つけます。このとき、テーブルがページ内に複数ある場合は、最初に見つかったテーブルが選択されます。特定のテーブルを選択するには、より詳細なセレクタを使用する必要があります。\n",
       "\n",
       "最後に、`pd.read_html()`を使ってHTMLテーブルをデータフレームに変換します。この関数はHTML文字列を引数に取り、その中のすべてのテーブルをデータフレームのリストとして返します。今回は1つのテーブルだけを扱っているので、リストの最初の要素（`[0]`）を選択します。\n",
       "\n",
       "なお、このコードはあくまで一例であり、実際には取得するWebページやそのHTML構造により、適切なスクレイピング方法は異なります。また、Webスクレイピングは対象サイトの利用規約やロボット排除基準（robots.txt）に従う必要があります。"
      ],
      "text/plain": [
       "<IPython.core.display.Markdown object>"
      ]
     },
     "execution_count": 81,
     "metadata": {
      "text/markdown": {
       "jupyter_ai": {
        "custom_chain_id": "vioras"
       }
      }
     },
     "output_type": "execute_result"
    }
   ],
   "source": [
    "%%ai vioras\n",
    "Webスクレイピングして表をPandasのデータフレームに読み込む"
   ]
  },
  {
   "cell_type": "markdown",
   "id": "92da6f41-4cdf-4330-ba68-71c3ded9063a",
   "metadata": {},
   "source": [
    "## データフレーム"
   ]
  },
  {
   "cell_type": "code",
   "execution_count": 1,
   "id": "cfb52dfe-3d5a-4a24-97bc-09134c3bd62d",
   "metadata": {
    "tags": []
   },
   "outputs": [],
   "source": [
    "import pandas as pd\n",
    "tables = pd.read_html('https://en.wikipedia.org/wiki/Roman_numerals')"
   ]
  },
  {
   "cell_type": "code",
   "execution_count": 2,
   "id": "7b7294e0-ba6c-4821-b273-c110ed8398f1",
   "metadata": {
    "tags": []
   },
   "outputs": [
    {
     "data": {
      "text/html": [
       "<div>\n",
       "<style scoped>\n",
       "    .dataframe tbody tr th:only-of-type {\n",
       "        vertical-align: middle;\n",
       "    }\n",
       "\n",
       "    .dataframe tbody tr th {\n",
       "        vertical-align: top;\n",
       "    }\n",
       "\n",
       "    .dataframe thead th {\n",
       "        text-align: right;\n",
       "    }\n",
       "</style>\n",
       "<table border=\"1\" class=\"dataframe\">\n",
       "  <thead>\n",
       "    <tr style=\"text-align: right;\">\n",
       "      <th></th>\n",
       "      <th>0</th>\n",
       "    </tr>\n",
       "  </thead>\n",
       "  <tbody>\n",
       "    <tr>\n",
       "      <th>0</th>\n",
       "      <td>Hindu–Arabic numerals Western Arabic Eastern A...</td>\n",
       "    </tr>\n",
       "    <tr>\n",
       "      <th>1</th>\n",
       "      <td>East Asian systems Contemporary Chinese Suzhou...</td>\n",
       "    </tr>\n",
       "    <tr>\n",
       "      <th>2</th>\n",
       "      <td>Other systems History Ancient Babylonian Post-...</td>\n",
       "    </tr>\n",
       "    <tr>\n",
       "      <th>3</th>\n",
       "      <td>By radix/base Common radices/bases 2 3 4 5 6 8...</td>\n",
       "    </tr>\n",
       "  </tbody>\n",
       "</table>\n",
       "</div>"
      ],
      "text/plain": [
       "                                                   0\n",
       "0  Hindu–Arabic numerals Western Arabic Eastern A...\n",
       "1  East Asian systems Contemporary Chinese Suzhou...\n",
       "2  Other systems History Ancient Babylonian Post-...\n",
       "3  By radix/base Common radices/bases 2 3 4 5 6 8..."
      ]
     },
     "execution_count": 2,
     "metadata": {},
     "output_type": "execute_result"
    }
   ],
   "source": [
    "tables[1]"
   ]
  },
  {
   "cell_type": "code",
   "execution_count": 3,
   "id": "04378b09-ca6c-4440-aedc-e65d9b57d8ef",
   "metadata": {
    "tags": []
   },
   "outputs": [
    {
     "data": {
      "text/html": [
       "<div>\n",
       "<style scoped>\n",
       "    .dataframe tbody tr th:only-of-type {\n",
       "        vertical-align: middle;\n",
       "    }\n",
       "\n",
       "    .dataframe tbody tr th {\n",
       "        vertical-align: top;\n",
       "    }\n",
       "\n",
       "    .dataframe thead th {\n",
       "        text-align: right;\n",
       "    }\n",
       "</style>\n",
       "<table border=\"1\" class=\"dataframe\">\n",
       "  <thead>\n",
       "    <tr style=\"text-align: right;\">\n",
       "      <th></th>\n",
       "      <th>0</th>\n",
       "      <th>1</th>\n",
       "      <th>2</th>\n",
       "      <th>3</th>\n",
       "      <th>4</th>\n",
       "      <th>5</th>\n",
       "      <th>6</th>\n",
       "    </tr>\n",
       "  </thead>\n",
       "  <tbody>\n",
       "    <tr>\n",
       "      <th>0</th>\n",
       "      <td>I</td>\n",
       "      <td>V</td>\n",
       "      <td>X</td>\n",
       "      <td>L</td>\n",
       "      <td>C</td>\n",
       "      <td>D</td>\n",
       "      <td>M</td>\n",
       "    </tr>\n",
       "    <tr>\n",
       "      <th>1</th>\n",
       "      <td>1</td>\n",
       "      <td>5</td>\n",
       "      <td>10</td>\n",
       "      <td>50</td>\n",
       "      <td>100</td>\n",
       "      <td>500</td>\n",
       "      <td>1000</td>\n",
       "    </tr>\n",
       "  </tbody>\n",
       "</table>\n",
       "</div>"
      ],
      "text/plain": [
       "   0  1   2   3    4    5     6\n",
       "0  I  V   X   L    C    D     M\n",
       "1  1  5  10  50  100  500  1000"
      ]
     },
     "execution_count": 3,
     "metadata": {},
     "output_type": "execute_result"
    }
   ],
   "source": [
    "df1 = tables[2]\n",
    "df1"
   ]
  },
  {
   "cell_type": "markdown",
   "id": "b84f9bd2-1cf9-4da9-805b-d2adf30c1e1e",
   "metadata": {},
   "source": [
    "表を参照してローマ数字を変換するプログラムを書く:\n",
    "* `index` (行番号) を設定し直す\n",
    "* 表形式のままでもプログラムは書けるが、JSON形式を経由して辞書形式に変換する"
   ]
  },
  {
   "cell_type": "code",
   "execution_count": 4,
   "id": "68a98a35-97af-4ed4-9782-7208187a10bd",
   "metadata": {
    "tags": []
   },
   "outputs": [
    {
     "data": {
      "text/html": [
       "<div>\n",
       "<style scoped>\n",
       "    .dataframe tbody tr th:only-of-type {\n",
       "        vertical-align: middle;\n",
       "    }\n",
       "\n",
       "    .dataframe tbody tr th {\n",
       "        vertical-align: top;\n",
       "    }\n",
       "\n",
       "    .dataframe thead th {\n",
       "        text-align: right;\n",
       "    }\n",
       "</style>\n",
       "<table border=\"1\" class=\"dataframe\">\n",
       "  <thead>\n",
       "    <tr style=\"text-align: right;\">\n",
       "      <th></th>\n",
       "      <th>Unnamed: 0</th>\n",
       "      <th>Thousands</th>\n",
       "      <th>Hundreds</th>\n",
       "      <th>Tens</th>\n",
       "      <th>Units</th>\n",
       "    </tr>\n",
       "  </thead>\n",
       "  <tbody>\n",
       "    <tr>\n",
       "      <th>0</th>\n",
       "      <td>1</td>\n",
       "      <td>M</td>\n",
       "      <td>C</td>\n",
       "      <td>X</td>\n",
       "      <td>I</td>\n",
       "    </tr>\n",
       "    <tr>\n",
       "      <th>1</th>\n",
       "      <td>2</td>\n",
       "      <td>MM</td>\n",
       "      <td>CC</td>\n",
       "      <td>XX</td>\n",
       "      <td>II</td>\n",
       "    </tr>\n",
       "    <tr>\n",
       "      <th>2</th>\n",
       "      <td>3</td>\n",
       "      <td>MMM</td>\n",
       "      <td>CCC</td>\n",
       "      <td>XXX</td>\n",
       "      <td>III</td>\n",
       "    </tr>\n",
       "    <tr>\n",
       "      <th>3</th>\n",
       "      <td>4</td>\n",
       "      <td>NaN</td>\n",
       "      <td>CD</td>\n",
       "      <td>XL</td>\n",
       "      <td>IV</td>\n",
       "    </tr>\n",
       "    <tr>\n",
       "      <th>4</th>\n",
       "      <td>5</td>\n",
       "      <td>NaN</td>\n",
       "      <td>D</td>\n",
       "      <td>L</td>\n",
       "      <td>V</td>\n",
       "    </tr>\n",
       "    <tr>\n",
       "      <th>5</th>\n",
       "      <td>6</td>\n",
       "      <td>NaN</td>\n",
       "      <td>DC</td>\n",
       "      <td>LX</td>\n",
       "      <td>VI</td>\n",
       "    </tr>\n",
       "    <tr>\n",
       "      <th>6</th>\n",
       "      <td>7</td>\n",
       "      <td>NaN</td>\n",
       "      <td>DCC</td>\n",
       "      <td>LXX</td>\n",
       "      <td>VII</td>\n",
       "    </tr>\n",
       "    <tr>\n",
       "      <th>7</th>\n",
       "      <td>8</td>\n",
       "      <td>NaN</td>\n",
       "      <td>DCCC</td>\n",
       "      <td>LXXX</td>\n",
       "      <td>VIII</td>\n",
       "    </tr>\n",
       "    <tr>\n",
       "      <th>8</th>\n",
       "      <td>9</td>\n",
       "      <td>NaN</td>\n",
       "      <td>CM</td>\n",
       "      <td>XC</td>\n",
       "      <td>IX</td>\n",
       "    </tr>\n",
       "  </tbody>\n",
       "</table>\n",
       "</div>"
      ],
      "text/plain": [
       "   Unnamed: 0 Thousands Hundreds  Tens Units\n",
       "0           1         M        C     X     I\n",
       "1           2        MM       CC    XX    II\n",
       "2           3       MMM      CCC   XXX   III\n",
       "3           4       NaN       CD    XL    IV\n",
       "4           5       NaN        D     L     V\n",
       "5           6       NaN       DC    LX    VI\n",
       "6           7       NaN      DCC   LXX   VII\n",
       "7           8       NaN     DCCC  LXXX  VIII\n",
       "8           9       NaN       CM    XC    IX"
      ]
     },
     "execution_count": 4,
     "metadata": {},
     "output_type": "execute_result"
    }
   ],
   "source": [
    "df2 = tables[3]\n",
    "df2"
   ]
  },
  {
   "cell_type": "code",
   "execution_count": 6,
   "id": "21909938-003a-4365-b96c-c34004890803",
   "metadata": {
    "tags": []
   },
   "outputs": [
    {
     "data": {
      "text/html": [
       "<div>\n",
       "<style scoped>\n",
       "    .dataframe tbody tr th:only-of-type {\n",
       "        vertical-align: middle;\n",
       "    }\n",
       "\n",
       "    .dataframe tbody tr th {\n",
       "        vertical-align: top;\n",
       "    }\n",
       "\n",
       "    .dataframe thead th {\n",
       "        text-align: right;\n",
       "    }\n",
       "</style>\n",
       "<table border=\"1\" class=\"dataframe\">\n",
       "  <thead>\n",
       "    <tr style=\"text-align: right;\">\n",
       "      <th></th>\n",
       "      <th>Thousands</th>\n",
       "      <th>Hundreds</th>\n",
       "      <th>Tens</th>\n",
       "      <th>Units</th>\n",
       "    </tr>\n",
       "    <tr>\n",
       "      <th>index</th>\n",
       "      <th></th>\n",
       "      <th></th>\n",
       "      <th></th>\n",
       "      <th></th>\n",
       "    </tr>\n",
       "  </thead>\n",
       "  <tbody>\n",
       "    <tr>\n",
       "      <th>1</th>\n",
       "      <td>M</td>\n",
       "      <td>C</td>\n",
       "      <td>X</td>\n",
       "      <td>I</td>\n",
       "    </tr>\n",
       "    <tr>\n",
       "      <th>2</th>\n",
       "      <td>MM</td>\n",
       "      <td>CC</td>\n",
       "      <td>XX</td>\n",
       "      <td>II</td>\n",
       "    </tr>\n",
       "    <tr>\n",
       "      <th>3</th>\n",
       "      <td>MMM</td>\n",
       "      <td>CCC</td>\n",
       "      <td>XXX</td>\n",
       "      <td>III</td>\n",
       "    </tr>\n",
       "    <tr>\n",
       "      <th>4</th>\n",
       "      <td>NaN</td>\n",
       "      <td>CD</td>\n",
       "      <td>XL</td>\n",
       "      <td>IV</td>\n",
       "    </tr>\n",
       "    <tr>\n",
       "      <th>5</th>\n",
       "      <td>NaN</td>\n",
       "      <td>D</td>\n",
       "      <td>L</td>\n",
       "      <td>V</td>\n",
       "    </tr>\n",
       "    <tr>\n",
       "      <th>6</th>\n",
       "      <td>NaN</td>\n",
       "      <td>DC</td>\n",
       "      <td>LX</td>\n",
       "      <td>VI</td>\n",
       "    </tr>\n",
       "    <tr>\n",
       "      <th>7</th>\n",
       "      <td>NaN</td>\n",
       "      <td>DCC</td>\n",
       "      <td>LXX</td>\n",
       "      <td>VII</td>\n",
       "    </tr>\n",
       "    <tr>\n",
       "      <th>8</th>\n",
       "      <td>NaN</td>\n",
       "      <td>DCCC</td>\n",
       "      <td>LXXX</td>\n",
       "      <td>VIII</td>\n",
       "    </tr>\n",
       "    <tr>\n",
       "      <th>9</th>\n",
       "      <td>NaN</td>\n",
       "      <td>CM</td>\n",
       "      <td>XC</td>\n",
       "      <td>IX</td>\n",
       "    </tr>\n",
       "  </tbody>\n",
       "</table>\n",
       "</div>"
      ],
      "text/plain": [
       "      Thousands Hundreds  Tens Units\n",
       "index                               \n",
       "1             M        C     X     I\n",
       "2            MM       CC    XX    II\n",
       "3           MMM      CCC   XXX   III\n",
       "4           NaN       CD    XL    IV\n",
       "5           NaN        D     L     V\n",
       "6           NaN       DC    LX    VI\n",
       "7           NaN      DCC   LXX   VII\n",
       "8           NaN     DCCC  LXXX  VIII\n",
       "9           NaN       CM    XC    IX"
      ]
     },
     "execution_count": 6,
     "metadata": {},
     "output_type": "execute_result"
    }
   ],
   "source": [
    "df_new = df2.rename(columns={'Unnamed: 0':'index'}).set_index('index')\n",
    "df_new"
   ]
  },
  {
   "cell_type": "markdown",
   "id": "ad43d9d4-a434-4fbe-b8fb-bebef29b682c",
   "metadata": {},
   "source": [
    "* [NaN - Wikipedia](https://en.wikipedia.org/wiki/NaN)\n",
    "    - [Working with missing data — pandas 2.0.1 documentation](https://pandas.pydata.org/docs/user_guide/missing_data.html)"
   ]
  },
  {
   "cell_type": "markdown",
   "id": "18a19a90-880e-43cb-a90d-e739d59e5cc4",
   "metadata": {},
   "source": [
    "## データフレームをJSON形式に変換し、さらに辞書に変換"
   ]
  },
  {
   "cell_type": "markdown",
   "id": "544af9e0-dfde-47c3-8577-d09d1797d7c6",
   "metadata": {},
   "source": [
    "### データフレームをJSON形式に変換"
   ]
  },
  {
   "cell_type": "code",
   "execution_count": 8,
   "id": "fa1e1c0e-946f-47b0-933f-7677a2390235",
   "metadata": {
    "tags": []
   },
   "outputs": [
    {
     "data": {
      "text/plain": [
       "'{\"Thousands\":{\"1\":\"M\",\"2\":\"MM\",\"3\":\"MMM\",\"4\":null,\"5\":null,\"6\":null,\"7\":null,\"8\":null,\"9\":null},\"Hundreds\":{\"1\":\"C\",\"2\":\"CC\",\"3\":\"CCC\",\"4\":\"CD\",\"5\":\"D\",\"6\":\"DC\",\"7\":\"DCC\",\"8\":\"DCCC\",\"9\":\"CM\"},\"Tens\":{\"1\":\"X\",\"2\":\"XX\",\"3\":\"XXX\",\"4\":\"XL\",\"5\":\"L\",\"6\":\"LX\",\"7\":\"LXX\",\"8\":\"LXXX\",\"9\":\"XC\"},\"Units\":{\"1\":\"I\",\"2\":\"II\",\"3\":\"III\",\"4\":\"IV\",\"5\":\"V\",\"6\":\"VI\",\"7\":\"VII\",\"8\":\"VIII\",\"9\":\"IX\"}}'"
      ]
     },
     "execution_count": 8,
     "metadata": {},
     "output_type": "execute_result"
    }
   ],
   "source": [
    "df_new.to_json()"
   ]
  },
  {
   "cell_type": "markdown",
   "id": "906d0fb9-fbce-4727-8117-ab93e8db1dd0",
   "metadata": {},
   "source": [
    "#### 見やすく成形 (pretty-print)\n",
    "\n",
    "* [Prettyprint - Wikipedia](https://en.wikipedia.org/wiki/Prettyprint)"
   ]
  },
  {
   "cell_type": "code",
   "execution_count": 9,
   "id": "4b592a39-2cf5-4f92-b328-71c646c2817c",
   "metadata": {
    "tags": []
   },
   "outputs": [],
   "source": [
    "import json"
   ]
  },
  {
   "cell_type": "code",
   "execution_count": 11,
   "id": "5b5a94e4-ac53-4d78-9257-7d10e9870f77",
   "metadata": {
    "tags": []
   },
   "outputs": [
    {
     "name": "stdout",
     "output_type": "stream",
     "text": [
      "{\n",
      "    \"Thousands\": {\n",
      "        \"1\": \"M\",\n",
      "        \"2\": \"MM\",\n",
      "        \"3\": \"MMM\",\n",
      "        \"4\": null,\n",
      "        \"5\": null,\n",
      "        \"6\": null,\n",
      "        \"7\": null,\n",
      "        \"8\": null,\n",
      "        \"9\": null\n",
      "    },\n",
      "    \"Hundreds\": {\n",
      "        \"1\": \"C\",\n",
      "        \"2\": \"CC\",\n",
      "        \"3\": \"CCC\",\n",
      "        \"4\": \"CD\",\n",
      "        \"5\": \"D\",\n",
      "        \"6\": \"DC\",\n",
      "        \"7\": \"DCC\",\n",
      "        \"8\": \"DCCC\",\n",
      "        \"9\": \"CM\"\n",
      "    },\n",
      "    \"Tens\": {\n",
      "        \"1\": \"X\",\n",
      "        \"2\": \"XX\",\n",
      "        \"3\": \"XXX\",\n",
      "        \"4\": \"XL\",\n",
      "        \"5\": \"L\",\n",
      "        \"6\": \"LX\",\n",
      "        \"7\": \"LXX\",\n",
      "        \"8\": \"LXXX\",\n",
      "        \"9\": \"XC\"\n",
      "    },\n",
      "    \"Units\": {\n",
      "        \"1\": \"I\",\n",
      "        \"2\": \"II\",\n",
      "        \"3\": \"III\",\n",
      "        \"4\": \"IV\",\n",
      "        \"5\": \"V\",\n",
      "        \"6\": \"VI\",\n",
      "        \"7\": \"VII\",\n",
      "        \"8\": \"VIII\",\n",
      "        \"9\": \"IX\"\n",
      "    }\n",
      "}\n"
     ]
    }
   ],
   "source": [
    "df_json = json.loads((df_new.to_json()))\n",
    "print(json.dumps(df_json, indent=4))"
   ]
  },
  {
   "cell_type": "markdown",
   "id": "6afcf8ff-359d-4364-ab08-be578c77a098",
   "metadata": {},
   "source": [
    "### JSON形式を辞書に変換する"
   ]
  },
  {
   "cell_type": "code",
   "execution_count": 36,
   "id": "f810aa0c-4d7a-4c88-bbf9-83f802c3090d",
   "metadata": {},
   "outputs": [
    {
     "data": {
      "text/plain": [
       "'{\"Thousands\":{\"1\":\"M\",\"2\":\"MM\",\"3\":\"MMM\",\"4\":null,\"5\":null,\"6\":null,\"7\":null,\"8\":null,\"9\":null},\"Hundreds\":{\"1\":\"C\",\"2\":\"CC\",\"3\":\"CCC\",\"4\":\"CD\",\"5\":\"D\",\"6\":\"DC\",\"7\":\"DCC\",\"8\":\"DCCC\",\"9\":\"CM\"},\"Tens\":{\"1\":\"X\",\"2\":\"XX\",\"3\":\"XXX\",\"4\":\"XL\",\"5\":\"L\",\"6\":\"LX\",\"7\":\"LXX\",\"8\":\"LXXX\",\"9\":\"XC\"},\"Units\":{\"1\":\"I\",\"2\":\"II\",\"3\":\"III\",\"4\":\"IV\",\"5\":\"V\",\"6\":\"VI\",\"7\":\"VII\",\"8\":\"VIII\",\"9\":\"IX\"}}'"
      ]
     },
     "execution_count": 36,
     "metadata": {},
     "output_type": "execute_result"
    }
   ],
   "source": [
    "df_new.to_json()"
   ]
  },
  {
   "cell_type": "code",
   "execution_count": 37,
   "id": "1f7fc010-f1d9-4abf-8428-d736f3491410",
   "metadata": {
    "tags": []
   },
   "outputs": [
    {
     "data": {
      "text/markdown": [
       "提供されたJSONデータから、各位（千の位、百の位、十の位、一の位）のローマ数字の表現を示す4つのPython辞書を作成することができます。以下にそのPythonコードを示します：\n",
       "\n",
       "```python\n",
       "# 提供されたJSONデータ\n",
       "data = {\n",
       "    \"Thousands\": {\"1\":\"M\",\"2\":\"MM\",\"3\":\"MMM\",\"4\":None,\"5\":None,\"6\":None,\"7\":None,\"8\":None,\"9\":None},\n",
       "    \"Hundreds\": {\"1\":\"C\",\"2\":\"CC\",\"3\":\"CCC\",\"4\":\"CD\",\"5\":\"D\",\"6\":\"DC\",\"7\":\"DCC\",\"8\":\"DCCC\",\"9\":\"CM\"},\n",
       "    \"Tens\": {\"1\":\"X\",\"2\":\"XX\",\"3\":\"XXX\",\"4\":\"XL\",\"5\":\"L\",\"6\":\"LX\",\"7\":\"LXX\",\"8\":\"LXXX\",\"9\":\"XC\"},\n",
       "    \"Units\": {\"1\":\"I\",\"2\":\"II\",\"3\":\"III\",\"4\":\"IV\",\"5\":\"V\",\"6\":\"VI\",\"7\":\"VII\",\"8\":\"VIII\",\"9\":\"IX\"}\n",
       "}\n",
       "\n",
       "# 各位のローマ数字表現を示す辞書\n",
       "thousands_dict = data[\"Thousands\"]\n",
       "hundreds_dict = data[\"Hundreds\"]\n",
       "tens_dict = data[\"Tens\"]\n",
       "units_dict = data[\"Units\"]\n",
       "\n",
       "print(\"Thousands:\", thousands_dict)\n",
       "print(\"Hundreds:\", hundreds_dict)\n",
       "print(\"Tens:\", tens_dict)\n",
       "print(\"Units:\", units_dict)\n",
       "```\n",
       "\n",
       "このコードは提供されたJSONデータから4つのPython辞書を生成します。各辞書はそれぞれ千の位、百の位、十の位、一の位のローマ数字の表現をキーと値のペアとして格納します。"
      ],
      "text/plain": [
       "<IPython.core.display.Markdown object>"
      ]
     },
     "execution_count": 37,
     "metadata": {
      "text/markdown": {
       "jupyter_ai": {
        "custom_chain_id": "vioras"
       }
      }
     },
     "output_type": "execute_result"
    }
   ],
   "source": [
    "%%ai vioras\n",
    "次の表を10進数をローマ数字に変換するときに使うPythonの辞書に変換してください\n",
    "{_}"
   ]
  },
  {
   "cell_type": "code",
   "execution_count": 38,
   "id": "f912d933-4f59-4277-a132-1575e8d1cb82",
   "metadata": {},
   "outputs": [
    {
     "data": {
      "text/markdown": [
       "提供された辞書を使用して、10進数をローマ数字に変換するPythonプログラムを作成します。以下にそのコードを示します：\n",
       "\n",
       "```python\n",
       "# 提供されたJSONデータ\n",
       "data = {\n",
       "    \"Thousands\": {\"1\":\"M\",\"2\":\"MM\",\"3\":\"MMM\",\"4\":None,\"5\":None,\"6\":None,\"7\":None,\"8\":None,\"9\":None},\n",
       "    \"Hundreds\": {\"1\":\"C\",\"2\":\"CC\",\"3\":\"CCC\",\"4\":\"CD\",\"5\":\"D\",\"6\":\"DC\",\"7\":\"DCC\",\"8\":\"DCCC\",\"9\":\"CM\"},\n",
       "    \"Tens\": {\"1\":\"X\",\"2\":\"XX\",\"3\":\"XXX\",\"4\":\"XL\",\"5\":\"L\",\"6\":\"LX\",\"7\":\"LXX\",\"8\":\"LXXX\",\"9\":\"XC\"},\n",
       "    \"Units\": {\"1\":\"I\",\"2\":\"II\",\"3\":\"III\",\"4\":\"IV\",\"5\":\"V\",\"6\":\"VI\",\"7\":\"VII\",\"8\":\"VIII\",\"9\":\"IX\"}\n",
       "}\n",
       "\n",
       "# 各位のローマ数字表現を示す辞書\n",
       "thousands_dict = data[\"Thousands\"]\n",
       "hundreds_dict = data[\"Hundreds\"]\n",
       "tens_dict = data[\"Tens\"]\n",
       "units_dict = data[\"Units\"]\n",
       "\n",
       "def decimal_to_roman(num):\n",
       "    # 各位の数字を取得\n",
       "    thousands = num // 1000\n",
       "    hundreds = num % 1000 // 100\n",
       "    tens = num % 100 // 10\n",
       "    units = num % 10\n",
       "\n",
       "    # 各位の数字を対応するローマ数字に変換\n",
       "    roman_thousands = thousands_dict.get(str(thousands), \"\")\n",
       "    roman_hundreds = hundreds_dict.get(str(hundreds), \"\")\n",
       "    roman_tens = tens_dict.get(str(tens), \"\")\n",
       "    roman_units = units_dict.get(str(units), \"\")\n",
       "\n",
       "    # ローマ数字を結合\n",
       "    roman_num = roman_thousands + roman_hundreds + roman_tens + roman_units\n",
       "\n",
       "    return roman_num\n",
       "\n",
       "# テスト\n",
       "print(decimal_to_roman(1987))  # MCMLXXXVII\n",
       "```\n",
       "\n",
       "このコードは、10進数の各位の数字を取得し、それぞれ対応するローマ数字に変換します。そして、結果を結合してローマ数字として出力します。"
      ],
      "text/plain": [
       "<IPython.core.display.Markdown object>"
      ]
     },
     "execution_count": 38,
     "metadata": {
      "text/markdown": {
       "jupyter_ai": {
        "custom_chain_id": "vioras"
       }
      }
     },
     "output_type": "execute_result"
    }
   ],
   "source": [
    "%%ai vioras\n",
    "その辞書を使って10進数をローマ数字に変換するプログラムを作って下さい"
   ]
  },
  {
   "cell_type": "code",
   "execution_count": null,
   "id": "1a658aa3-69b5-46f2-bbf2-6d4ef5112b76",
   "metadata": {},
   "outputs": [],
   "source": []
  }
 ],
 "metadata": {
  "kernelspec": {
   "display_name": "Python 3 (ipykernel)",
   "language": "python",
   "name": "python3"
  },
  "language_info": {
   "codemirror_mode": {
    "name": "ipython",
    "version": 3
   },
   "file_extension": ".py",
   "mimetype": "text/x-python",
   "name": "python",
   "nbconvert_exporter": "python",
   "pygments_lexer": "ipython3",
   "version": "3.11.8"
  }
 },
 "nbformat": 4,
 "nbformat_minor": 5
}
