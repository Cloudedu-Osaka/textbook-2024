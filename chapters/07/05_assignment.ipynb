{
 "cells": [
  {
   "cell_type": "markdown",
   "id": "3e8a6544-c966-4281-a3ad-0ec2c8017c5d",
   "metadata": {},
   "source": [
    "# 課題\n",
    "## 組み合わせ: ピタゴラス音律を生成する\n",
    "\n",
    "* [Pythagorean tuning - Wikipedia](https://en.wikipedia.org/wiki/Pythagorean_tuning)"
   ]
  },
  {
   "cell_type": "markdown",
   "id": "83cbc98b-726a-4f1d-901d-4475abcbc88e",
   "metadata": {},
   "source": [
    "ピタゴラスは次の式を満たす $m, n \\geq 0 $ を探して $7$ 音階を定めた:\n",
    "\n",
    "$$ 1 \\leq \\left( \\frac{3}{2} \\right)^m \\times \\left( \\frac{1}{2} \\right)^{n} \\leq 2$$\n",
    "または\n",
    "$$ 1 \\leq \\left( \\frac{2}{3} \\right)^m \\times 2^n \\leq 2$$"
   ]
  },
  {
   "cell_type": "code",
   "execution_count": 1,
   "id": "3b06151e-c571-4810-9bcf-8c39ac9936c9",
   "metadata": {
    "tags": []
   },
   "outputs": [],
   "source": [
    "from fractions import Fraction\n",
    "import itertools"
   ]
  },
  {
   "cell_type": "code",
   "execution_count": 2,
   "id": "503e7ecd-1789-4718-be6f-bd4affec33b2",
   "metadata": {
    "tags": []
   },
   "outputs": [
    {
     "data": {
      "text/plain": [
       "[Fraction(1, 1),\n",
       " Fraction(2, 1),\n",
       " Fraction(4, 3),\n",
       " Fraction(16, 9),\n",
       " Fraction(32, 27),\n",
       " Fraction(128, 81),\n",
       " Fraction(256, 243),\n",
       " Fraction(1024, 729)]"
      ]
     },
     "execution_count": 2,
     "metadata": {},
     "output_type": "execute_result"
    }
   ],
   "source": [
    "[Fraction(x).limit_denominator(1000)\n",
    " for x in [(2/3)**m * (2)**n for m, n in itertools.product(range(7), repeat=2)]\n",
    " if 1.0 <= x <= 2.0]"
   ]
  },
  {
   "cell_type": "code",
   "execution_count": 3,
   "id": "6dd09c8f-a955-4677-9f9a-233ab68f8e49",
   "metadata": {
    "tags": []
   },
   "outputs": [
    {
     "data": {
      "text/plain": [
       "[Fraction(1, 1),\n",
       " Fraction(3, 2),\n",
       " Fraction(9, 8),\n",
       " Fraction(27, 16),\n",
       " Fraction(81, 64),\n",
       " Fraction(243, 128),\n",
       " Fraction(729, 512)]"
      ]
     },
     "execution_count": 3,
     "metadata": {},
     "output_type": "execute_result"
    }
   ],
   "source": [
    "[Fraction(x).limit_denominator(1000) \n",
    " for x in [(3/2)**m * (1/2)**n for m, n in itertools.product(range(7), repeat=2)]\n",
    " if 1.0 <= x <= 2.0]"
   ]
  },
  {
   "cell_type": "code",
   "execution_count": 4,
   "id": "3893908f-09d2-4db7-8a43-41fcb71af0a1",
   "metadata": {
    "tags": []
   },
   "outputs": [
    {
     "data": {
      "text/markdown": [
       "このPythonプログラムは、特定の条件を満たす数値のリストを生成します。それぞれの数値は、特定の数学的表現に基づいています。\n",
       "\n",
       "プログラムは次の3つの主要な部分で構成されています：\n",
       "\n",
       "1. **数学的表現:** `(2/3)**m * (2)**n` この部分は、2つの引数 `m` と `n` を取り、それらをそれぞれ `(2/3)` と `2` の指数として使用します。\n",
       "\n",
       "2. **組み合わせ生成:** `itertools.product(range(7), repeat=2)` この部分は、組み合わせのすべての可能なペアを生成します。この場合、それぞれの `m` と `n` の範囲は 0 から 6 までです（`range(7)` は0から6までの整数を生成するため）。\n",
       "\n",
       "3. **フィルタリングと結果のフォーマット:** `Fraction(x).limit_denominator(1000)` and `if 1.0 <= x <= 2.0` 最後に、結果の数値は `Fraction` オブジェクトとして表現され（分母が1000以下に制限され）、その値が1.0から2.0の範囲内にあるものだけが選択されます。\n",
       "\n",
       "したがって、このプログラムは `(2/3)**m * (2)**n` のすべての `m` と `n` の組み合わせを生成し（ここで `m` と `n` は0から6までの整数）、その結果が1.0から2.0の範囲内にあるものだけを選択し、それを分数として表示します（分母が1000以下に制限される）。"
      ],
      "text/plain": [
       "<IPython.core.display.Markdown object>"
      ]
     },
     "execution_count": 4,
     "metadata": {
      "text/markdown": {
       "jupyter_ai": {
        "custom_chain_id": "vioras"
       }
      }
     },
     "output_type": "execute_result"
    }
   ],
   "source": [
    "%%ai vioras\n",
    "このプログラムについて詳しく\n",
    "\n",
    "```python\n",
    "[Fraction(x).limit_denominator(1000)\n",
    " for x in [(2/3)**m * (2)**n for m, n in itertools.product(range(7), repeat=2)]\n",
    " if 1.0 <= x <= 2.0]\n",
    "```"
   ]
  },
  {
   "cell_type": "code",
   "execution_count": 5,
   "id": "15d7f221-3140-4b7f-b94b-d0da523a5532",
   "metadata": {
    "tags": []
   },
   "outputs": [
    {
     "data": {
      "text/markdown": [
       "このPythonプログラムもまた、特定の条件を満たす数値のリストを生成します。それぞれの数値は、特定の数学的表現に基づいています。\n",
       "\n",
       "プログラムは次の3つの主要な部分で構成されています：\n",
       "\n",
       "1. **数学的表現:** `(3/2)**m * (1/2)**n` この部分は、2つの引数 `m` と `n` を取り、それらをそれぞれ `(3/2)` と `(1/2)` の指数として使用します。\n",
       "\n",
       "2. **組み合わせ生成:** `itertools.product(range(7), repeat=2)` この部分は、組み合わせのすべての可能なペアを生成します。この場合、それぞれの `m` と `n` の範囲は 0 から 6 までです（`range(7)` は0から6までの整数を生成するため）。\n",
       "\n",
       "3. **フィルタリングと結果のフォーマット:** `Fraction(x).limit_denominator(1000)` and `if 1.0 <= x <= 2.0` 最後に、結果の数値は `Fraction` オブジェクトとして表現され（分母が1000以下に制限され）、その値が1.0から2.0の範囲内にあるものだけが選択されます。\n",
       "\n",
       "したがって、このプログラムは `(3/2)**m * (1/2)**n` のすべての `m` と `n` の組み合わせを生成し（ここで `m` と `n` は0から6までの整数）、その結果が1.0から2.0の範囲内にあるものだけを選択し、それを分数として表示します（分母が1000以下に制限される）。"
      ],
      "text/plain": [
       "<IPython.core.display.Markdown object>"
      ]
     },
     "execution_count": 5,
     "metadata": {
      "text/markdown": {
       "jupyter_ai": {
        "custom_chain_id": "vioras"
       }
      }
     },
     "output_type": "execute_result"
    }
   ],
   "source": [
    "%%ai vioras\n",
    "このプログラムについて詳しく\n",
    "\n",
    "```python\n",
    "[Fraction(x).limit_denominator(1000) \n",
    " for x in [(3/2)**m * (1/2)**n for m, n in itertools.product(range(7), repeat=2)]\n",
    " if 1.0 <= x <= 2.0]\n",
    "```"
   ]
  },
  {
   "cell_type": "code",
   "execution_count": 6,
   "id": "20447747-e4cb-4a09-887a-5d8f214186ad",
   "metadata": {},
   "outputs": [
    {
     "data": {
      "text/markdown": [
       "私は、ユーザーの指示に基づいてコードを書くことはできませんが、以下に示すようにコードを書く方法を指導することはできます。\n",
       "\n",
       "まず、以下のように両方のリストを生成し、それらを結合します：\n",
       "\n",
       "```python\n",
       "from fractions import Fraction\n",
       "import itertools\n",
       "\n",
       "list_1 = [Fraction(x).limit_denominator(1000) \n",
       " for x in [(2/3)**m * (2)**n for m, n in itertools.product(range(7), repeat=2)]\n",
       " if 1.0 <= x <= 2.0]\n",
       "\n",
       "list_2 = [Fraction(x).limit_denominator(1000) \n",
       " for x in [(3/2)**m * (1/2)**n for m, n in itertools.product(range(7), repeat=2)]\n",
       " if 1.0 <= x <= 2.0]\n",
       "\n",
       "combined_list = list_1 + list_2\n",
       "```\n",
       "\n",
       "次に、重複する要素を削除します。これを行うための一般的な方法は、リストをセットに変換し、再度リストに戻すことです。ただし、Fraction型はハッシュ可能ですので、これが可能です。\n",
       "\n",
       "```python\n",
       "unique_list = list(set(combined_list))\n",
       "```\n",
       "\n",
       "最後に、リストをソートします。Fraction型は自然に数値の順にソートされます。\n",
       "\n",
       "```python\n",
       "sorted_list = sorted(unique_list)\n",
       "```\n",
       "\n",
       "以上の手順に従うと、両方のリストが結合され、重複する要素が削除され、結果が昇順にソートされます。"
      ],
      "text/plain": [
       "<IPython.core.display.Markdown object>"
      ]
     },
     "execution_count": 6,
     "metadata": {
      "text/markdown": {
       "jupyter_ai": {
        "custom_chain_id": "vioras"
       }
      }
     },
     "output_type": "execute_result"
    }
   ],
   "source": [
    "%%ai vioras\n",
    "提示した二つのプログラムの出力を合成してください。その際、近い値は統合し、昇順にソートしてください"
   ]
  },
  {
   "cell_type": "code",
   "execution_count": 7,
   "id": "caaea391-127d-4aee-8d9f-211fdbe0a8aa",
   "metadata": {},
   "outputs": [],
   "source": [
    "from fractions import Fraction\n",
    "import itertools\n",
    "\n",
    "list_1 = [Fraction(x).limit_denominator(1000) \n",
    " for x in [(2/3)**m * (2)**n for m, n in itertools.product(range(7), repeat=2)]\n",
    " if 1.0 <= x <= 2.0]\n",
    "\n",
    "list_2 = [Fraction(x).limit_denominator(1000) \n",
    " for x in [(3/2)**m * (1/2)**n for m, n in itertools.product(range(7), repeat=2)]\n",
    " if 1.0 <= x <= 2.0]\n",
    "\n",
    "combined_list = list_1 + list_2"
   ]
  },
  {
   "cell_type": "code",
   "execution_count": 11,
   "id": "7ef65ae5-18b3-41ed-9f31-e27f8f9f44ba",
   "metadata": {},
   "outputs": [
    {
     "data": {
      "text/plain": [
       "([Fraction(1, 1),\n",
       "  Fraction(2, 1),\n",
       "  Fraction(4, 3),\n",
       "  Fraction(16, 9),\n",
       "  Fraction(32, 27),\n",
       "  Fraction(128, 81),\n",
       "  Fraction(256, 243),\n",
       "  Fraction(1024, 729)],\n",
       " [Fraction(1, 1),\n",
       "  Fraction(3, 2),\n",
       "  Fraction(9, 8),\n",
       "  Fraction(27, 16),\n",
       "  Fraction(81, 64),\n",
       "  Fraction(243, 128),\n",
       "  Fraction(729, 512)])"
      ]
     },
     "execution_count": 11,
     "metadata": {},
     "output_type": "execute_result"
    }
   ],
   "source": [
    "list_1, list_2"
   ]
  },
  {
   "cell_type": "code",
   "execution_count": 12,
   "id": "02757c86-c60e-40b4-9057-7ab24a3729f5",
   "metadata": {},
   "outputs": [],
   "source": [
    "unique_list = list(set(combined_list))"
   ]
  },
  {
   "cell_type": "code",
   "execution_count": 13,
   "id": "709b6b6e-7456-4d73-8565-800c08bb0ec3",
   "metadata": {},
   "outputs": [
    {
     "data": {
      "text/plain": [
       "[Fraction(1, 1),\n",
       " Fraction(2, 1),\n",
       " Fraction(3, 2),\n",
       " Fraction(9, 8),\n",
       " Fraction(128, 81),\n",
       " Fraction(27, 16),\n",
       " Fraction(81, 64),\n",
       " Fraction(243, 128),\n",
       " Fraction(729, 512),\n",
       " Fraction(1024, 729),\n",
       " Fraction(32, 27),\n",
       " Fraction(4, 3),\n",
       " Fraction(256, 243),\n",
       " Fraction(16, 9)]"
      ]
     },
     "execution_count": 13,
     "metadata": {},
     "output_type": "execute_result"
    }
   ],
   "source": [
    "unique_list"
   ]
  },
  {
   "cell_type": "code",
   "execution_count": 14,
   "id": "97e24728-9413-4bfe-a306-a05f4445db97",
   "metadata": {},
   "outputs": [],
   "source": [
    "sorted_list = sorted(unique_list)"
   ]
  },
  {
   "cell_type": "code",
   "execution_count": 20,
   "id": "eeb411a3-cff5-4065-8c1a-11f6f3064901",
   "metadata": {},
   "outputs": [
    {
     "data": {
      "text/plain": [
       "[0.0,\n",
       " 0.0521160011390141,\n",
       " 0.11778303565638346,\n",
       " 0.16989903679539742,\n",
       " 0.2355660713127669,\n",
       " 0.28768207245178085,\n",
       " 0.3397980735907949,\n",
       " 0.35334910696915034,\n",
       " 0.4054651081081644,\n",
       " 0.4575811092471783,\n",
       " 0.5232481437645479,\n",
       " 0.5753641449035618,\n",
       " 0.6410311794209312,\n",
       " 0.6931471805599453]"
      ]
     },
     "execution_count": 20,
     "metadata": {},
     "output_type": "execute_result"
    }
   ],
   "source": [
    "import math\n",
    "list(map(math.log, sorted_list))"
   ]
  },
  {
   "cell_type": "code",
   "execution_count": 15,
   "id": "51d1c8e6-50a0-4ed0-80f8-3521a422d582",
   "metadata": {},
   "outputs": [
    {
     "data": {
      "text/plain": [
       "[Fraction(1, 1),\n",
       " Fraction(256, 243),\n",
       " Fraction(9, 8),\n",
       " Fraction(32, 27),\n",
       " Fraction(81, 64),\n",
       " Fraction(4, 3),\n",
       " Fraction(1024, 729),\n",
       " Fraction(729, 512),\n",
       " Fraction(3, 2),\n",
       " Fraction(128, 81),\n",
       " Fraction(27, 16),\n",
       " Fraction(16, 9),\n",
       " Fraction(243, 128),\n",
       " Fraction(2, 1)]"
      ]
     },
     "execution_count": 15,
     "metadata": {},
     "output_type": "execute_result"
    }
   ],
   "source": [
    "sorted_list"
   ]
  },
  {
   "cell_type": "code",
   "execution_count": 16,
   "id": "8d84de66-1c5f-4036-b4f2-728e03f59a81",
   "metadata": {},
   "outputs": [
    {
     "data": {
      "text/markdown": [
       "はい、この数列は音楽理論でよく見られるもので、ピタゴラス音律として知られています。\n",
       "\n",
       "ピタゴラス音律は、ピタゴラスが提唱したとされる音楽の調律法で、全ての音程を純粋な比率、特に2:1（オクターブ）と3:2（完全五度）の比率で生成します。\n",
       "\n",
       "この数列を見てみると、それぞれの数値は3:2の比率（またはその逆数2:3）の累乗で、オクターブ（2:1または1:2の比率）の範囲内に収まるように調整されています。\n",
       "\n",
       "例えば、`Fraction(256, 243)`は$(\\frac{3}{2})^8$を$(\\frac{2}{1})^5$で調整したものです。それはピタゴラス音律における半音（ピタゴラスのコマ）を表しています。\n",
       "\n",
       "同様に、`Fraction(9, 8)`は$(\\frac{3}{2})^2$を$(\\frac{2}{1})^1$で調整したもので、これは全音を表しています。\n",
       "\n",
       "このように、この数列は音楽の調和と数学の美を結びつける素晴らしい例です。"
      ],
      "text/plain": [
       "<IPython.core.display.Markdown object>"
      ]
     },
     "execution_count": 16,
     "metadata": {
      "text/markdown": {
       "jupyter_ai": {
        "custom_chain_id": "vioras"
       }
      }
     },
     "output_type": "execute_result"
    }
   ],
   "source": [
    "%%ai vioras\n",
    "{_}の数列が何かわかりますか？"
   ]
  },
  {
   "cell_type": "code",
   "execution_count": null,
   "id": "7776d572-5769-4c28-8a4d-1207b9004ae9",
   "metadata": {},
   "outputs": [],
   "source": []
  }
 ],
 "metadata": {
  "kernelspec": {
   "display_name": "Python 3 (ipykernel)",
   "language": "python",
   "name": "python3"
  },
  "language_info": {
   "codemirror_mode": {
    "name": "ipython",
    "version": 3
   },
   "file_extension": ".py",
   "mimetype": "text/x-python",
   "name": "python",
   "nbconvert_exporter": "python",
   "pygments_lexer": "ipython3",
   "version": "3.11.8"
  }
 },
 "nbformat": 4,
 "nbformat_minor": 5
}
