{
 "cells": [
  {
   "cell_type": "markdown",
   "id": "8c6a9366-bd93-497f-ae7b-ce22db4cea2d",
   "metadata": {},
   "source": [
    "# 微分と幾何学 (2)\n",
    "\n",
    "## 大学入試過去問から"
   ]
  },
  {
   "cell_type": "markdown",
   "id": "02d8949b-e359-435d-9a3c-8dae8f65b51d",
   "metadata": {},
   "source": [
    "### 京都大学 (2006)"
   ]
  },
  {
   "cell_type": "markdown",
   "id": "258ecdcd-487c-4ff2-ba35-502f0b8e1c15",
   "metadata": {},
   "source": [
    "$\\tan(1^{\\circ})$ は有理数か？"
   ]
  },
  {
   "cell_type": "markdown",
   "id": "770063ae-29ab-4143-8d4e-57b44fc74c5f",
   "metadata": {},
   "source": [
    "### 大阪大学 (2013)"
   ]
  },
  {
   "cell_type": "markdown",
   "id": "c3ddf2eb-42e4-4b35-8aea-b31678a259dd",
   "metadata": {},
   "source": [
    "三角関数の極限に関する公式\n",
    "$$\n",
    "\\lim_{x \\to 0} \\frac{\\sin(x)}{x} = 1\n",
    "$$\n",
    "を証明することにより、$\\sin(x)$ の導関数が $\\cos(x)$ であることを証明せよ。"
   ]
  },
  {
   "cell_type": "code",
   "execution_count": 2,
   "id": "2880505e-4a1a-49da-87ca-5b0d4eb2eb60",
   "metadata": {},
   "outputs": [
    {
     "data": {
      "text/markdown": [
       "はい、それは可能です。まず、$\\lim_{x \\to 0} \\frac{\\sin(x)}{x} = 1$という極限の証明を行います。この証明では、しばしばサンドイッチの定理（あるいははさみうちの定理）が用いられます。\n",
       "\n",
       "サンドイッチの定理によれば、もし関数$f(x)$, $g(x)$, $h(x)$がすべて$x \\to a$で同じ極限を持ち、かつ$f(x) \\leq g(x) \\leq h(x)$となるならば、$g(x)$も$x \\to a$で同じ極限を持つ、というものです。\n",
       "\n",
       "この定理を用いて、$\\lim_{x \\to 0} \\frac{\\sin(x)}{x} = 1$を証明します。まず、$0 < x < \\frac{\\pi}{2}$のとき、次の不等式が成り立つことを観察します：\n",
       "\n",
       "$$\\cos(x) \\leq \\frac{\\sin(x)}{x} \\leq 1$$\n",
       "\n",
       "左辺と右辺の極限は$x \\to 0$のとき、それぞれ$1$と$1$になります。したがって、サンドイッチの定理により、真ん中の$\\frac{\\sin(x)}{x}$の極限も$x \\to 0$のとき$1$になると結論付けられます。\n",
       "\n",
       "次に、$\\sin(x)$の導関数が$\\cos(x)$であることを確認します。導関数の定義に従って計算します：\n",
       "\n",
       "$$\\frac{d}{dx}\\sin(x) = \\lim_{h\\to 0} \\frac{\\sin(x+h) - \\sin(x)}{h}$$\n",
       "\n",
       "$\\sin(a + b)$の公式を用いて、$\\sin(x + h)$を展開します：\n",
       "\n",
       "$$\\frac{d}{dx}\\sin(x) = \\lim_{h\\to 0} \\frac{\\sin(x)\\cos(h) + \\cos(x)\\sin(h) - \\sin(x)}{h}$$\n",
       "\n",
       "これを整理すると：\n",
       "\n",
       "$$\\frac{d}{dx}\\sin(x) = \\lim_{h\\to 0} \\sin(x)\\left(\\frac{\\cos(h) - 1}{h}\\right) + \\cos(x)\\left(\\frac{\\sin(h)}{h}\\right)$$\n",
       "\n",
       "$h \\to 0$のとき、$\\frac{\\cos(h) - 1}{h}$は$0$に、$\\frac{\\sin(h)}{h}$は$1$に収束します。したがって、この極限は次のようになります：\n",
       "\n",
       "$$\\frac{d}{dx}\\sin(x) = \\sin(x) \\cdot 0 + \\cos(x) \\cdot 1 = \\cos(x)$$\n",
       "\n",
       "したがって、$\\sin(x)$の導関数は$\\cos(x)$であることが示されました。"
      ],
      "text/plain": [
       "<IPython.core.display.Markdown object>"
      ]
     },
     "execution_count": 2,
     "metadata": {
      "text/markdown": {
       "jupyter_ai": {
        "custom_chain_id": "vioras"
       }
      }
     },
     "output_type": "execute_result"
    }
   ],
   "source": [
    "%%ai vioras\n",
    "$\\lim_{x \\to 0} \\frac{\\sin(x)}{x} = 1$を証明することにより、\n",
    "$\\sin(x)$の導関数が$\\cos(x)$であることを証明せよ"
   ]
  },
  {
   "cell_type": "markdown",
   "id": "954a1bfc-9d00-4861-9734-749d46956fa0",
   "metadata": {},
   "source": [
    "$\\sin(x) \\geq \\cos(x)$"
   ]
  },
  {
   "cell_type": "code",
   "execution_count": 4,
   "id": "45432720-7835-4554-9430-ffdf7fe56def",
   "metadata": {},
   "outputs": [
    {
     "data": {
      "text/markdown": [
       "その通りです。あらかじめこれらの不等式を知っていると、極限や不等式の証明が容易になります。\n",
       "\n",
       "しかし、これらの不等式自体も証明可能です。例えば、$\\sin(x) \\leq x$は、$x = 0$の周りで$\\sin(x)$のグラフを観察することで直感的に理解できます。また、微分を用いることで正式に証明することもできます。\n",
       "\n",
       "同様に、$x \\leq \\tan(x)$も証明可能です。これは特に$x \\geq 0$について成り立ちます。$\\tan(x) = \\frac{\\sin(x)}{\\cos(x)}$と考えると、$\\cos(x) \\leq 1$であるため、$\\sin(x) \\leq \\tan(x)$が成り立ちます。そして、$\\sin(x) \\leq x$であるため、$x \\leq \\tan(x)$が導かれます。\n",
       "\n",
       "これらの不等式を覚えておくことは便利ですが、それらを証明するための原理を理解していれば、必要に応じて導出することも可能です。"
      ],
      "text/plain": [
       "<IPython.core.display.Markdown object>"
      ]
     },
     "execution_count": 4,
     "metadata": {
      "text/markdown": {
       "jupyter_ai": {
        "custom_chain_id": "vioras"
       }
      }
     },
     "output_type": "execute_result"
    }
   ],
   "source": [
    "%%ai vioras\n",
    "$\\sin(x) \\leq x$かつ$x \\leq \\tan(x)$を暗記していないと難しそうです"
   ]
  },
  {
   "cell_type": "code",
   "execution_count": 3,
   "id": "146b11f6-9815-4ce1-8f74-a507d8bd6010",
   "metadata": {},
   "outputs": [
    {
     "data": {
      "text/markdown": [
       "マクローリン級数（テイラー級数の一種）を用いて$\\sin(x)$を級数展開すると、以下のようになります：\n",
       "\n",
       "$$\\sin(x) = x - \\frac{x^3}{3!} + \\frac{x^5}{5!} - \\frac{x^7}{7!} + \\cdots$$\n",
       "\n",
       "これは全ての整数$n$について$-\\infty < x < \\infty$の範囲で成り立ちます。\n",
       "\n",
       "そして、この無限級数の各項を$x$に関して微分します。微分の結果、偶数次の項は消え、奇数次の項は$\\cos(x)$のマクローリン級数に変わります：\n",
       "\n",
       "$$\\frac{d}{dx}\\sin(x) = 1 - \\frac{x^2}{2!} + \\frac{x^4}{4!} - \\frac{x^6}{6!} + \\cdots = \\cos(x)$$\n",
       "\n",
       "したがって、$\\sin(x)$の導関数は$\\cos(x)$であることが示されました。"
      ],
      "text/plain": [
       "<IPython.core.display.Markdown object>"
      ]
     },
     "execution_count": 3,
     "metadata": {
      "text/markdown": {
       "jupyter_ai": {
        "custom_chain_id": "vioras"
       }
      }
     },
     "output_type": "execute_result"
    }
   ],
   "source": [
    "%%ai vioras\n",
    "$\\sin(x)$を級数展開して証明してください"
   ]
  },
  {
   "cell_type": "markdown",
   "id": "2c19a399-4441-40d6-91b5-92186a79b4d9",
   "metadata": {},
   "source": [
    "#### SymPyで検証する"
   ]
  },
  {
   "cell_type": "markdown",
   "id": "5d20580f-ead7-424f-a2d7-fea0cfeb7225",
   "metadata": {},
   "source": [
    "* [Series Expansions - SymPy 1.12 documentation](https://docs.sympy.org/latest/modules/series/series.html)"
   ]
  },
  {
   "cell_type": "code",
   "execution_count": 1,
   "id": "5c2d083e-878b-4eab-a7f3-70797ac73884",
   "metadata": {
    "tags": []
   },
   "outputs": [],
   "source": [
    "from sympy import *\n",
    "from sympy.abc import x"
   ]
  },
  {
   "cell_type": "code",
   "execution_count": 2,
   "id": "86a86775-32f2-4b2d-9194-24cb210d369d",
   "metadata": {
    "tags": []
   },
   "outputs": [
    {
     "data": {
      "text/latex": [
       "$\\displaystyle x - \\frac{x^{3}}{6} + \\frac{x^{5}}{120} + O\\left(x^{6}\\right)$"
      ],
      "text/plain": [
       "x - x**3/6 + x**5/120 + O(x**6)"
      ]
     },
     "execution_count": 2,
     "metadata": {},
     "output_type": "execute_result"
    }
   ],
   "source": [
    "sin_x = series(sin(x), x, 0, 6)\n",
    "sin_x"
   ]
  },
  {
   "cell_type": "code",
   "execution_count": 3,
   "id": "24611459-1609-4fd2-9a50-87f3f285251b",
   "metadata": {
    "tags": []
   },
   "outputs": [
    {
     "data": {
      "text/plain": [
       "[<matplotlib.lines.Line2D at 0x7f4debe85350>]"
      ]
     },
     "execution_count": 3,
     "metadata": {},
     "output_type": "execute_result"
    },
    {
     "data": {
      "image/png": "[encoded data removed]",
      "text/plain": [
       "<Figure size 640x480 with 1 Axes>"
      ]
     },
     "metadata": {},
     "output_type": "display_data"
    }
   ],
   "source": [
    "import matplotlib.pyplot as plt\n",
    "import numpy as np\n",
    "\n",
    "X = np.linspace(-1*np.pi, 1*np.pi, 100)\n",
    "Y = [sin_x.removeO().subs(x,xi) for xi in X]\n",
    "plt.plot(X, Y)\n",
    "plt.plot(X, np.sin(X))"
   ]
  },
  {
   "cell_type": "code",
   "execution_count": 4,
   "id": "35f1e306-b661-4a77-a37b-1cfe8b6a975a",
   "metadata": {
    "tags": []
   },
   "outputs": [
    {
     "data": {
      "text/latex": [
       "$\\displaystyle 1 - \\frac{x^{2}}{6} + \\frac{x^{4}}{120} + O\\left(x^{6}\\right)$"
      ],
      "text/plain": [
       "1 - x**2/6 + x**4/120 + O(x**6)"
      ]
     },
     "execution_count": 4,
     "metadata": {},
     "output_type": "execute_result"
    }
   ],
   "source": [
    "series(sin(x)/x)"
   ]
  },
  {
   "cell_type": "code",
   "execution_count": 5,
   "id": "7ce795b5-7524-4bb6-9453-c843e603c7ee",
   "metadata": {
    "tags": []
   },
   "outputs": [
    {
     "data": {
      "text/latex": [
       "$\\displaystyle 1$"
      ],
      "text/plain": [
       "1"
      ]
     },
     "execution_count": 5,
     "metadata": {},
     "output_type": "execute_result"
    }
   ],
   "source": [
    "limit(_, x, 0)"
   ]
  },
  {
   "cell_type": "code",
   "execution_count": 6,
   "id": "1967d92d-34bc-4471-9628-ec93c7396fa0",
   "metadata": {
    "tags": []
   },
   "outputs": [
    {
     "data": {
      "text/latex": [
       "$\\displaystyle 1$"
      ],
      "text/plain": [
       "1"
      ]
     },
     "execution_count": 6,
     "metadata": {},
     "output_type": "execute_result"
    }
   ],
   "source": [
    "limit(sin(x)/x, x, 0)"
   ]
  },
  {
   "cell_type": "code",
   "execution_count": 7,
   "id": "bfdae382-ea08-435c-be07-7b7d0937c9b9",
   "metadata": {
    "tags": []
   },
   "outputs": [
    {
     "data": {
      "text/latex": [
       "$\\displaystyle 1 - \\frac{x^{2}}{2} + \\frac{x^{4}}{24} + O\\left(x^{6}\\right)$"
      ],
      "text/plain": [
       "1 - x**2/2 + x**4/24 + O(x**6)"
      ]
     },
     "execution_count": 7,
     "metadata": {},
     "output_type": "execute_result"
    }
   ],
   "source": [
    "series(cos(x))"
   ]
  },
  {
   "cell_type": "code",
   "execution_count": 8,
   "id": "dd5007ae-ace6-4547-8c43-fca2f9e5f997",
   "metadata": {
    "tags": []
   },
   "outputs": [
    {
     "data": {
      "text/latex": [
       "$\\displaystyle - \\frac{x}{2} + \\frac{x^{3}}{24} - \\frac{x^{5}}{720} + O\\left(x^{6}\\right)$"
      ],
      "text/plain": [
       "-x/2 + x**3/24 - x**5/720 + O(x**6)"
      ]
     },
     "execution_count": 8,
     "metadata": {},
     "output_type": "execute_result"
    }
   ],
   "source": [
    "series((cos(x)-1)/x)"
   ]
  },
  {
   "cell_type": "code",
   "execution_count": 9,
   "id": "4fd7a14a-db9c-49a3-b2b1-601f8fa454d1",
   "metadata": {},
   "outputs": [
    {
     "data": {
      "text/latex": [
       "$\\displaystyle 0$"
      ],
      "text/plain": [
       "0"
      ]
     },
     "execution_count": 9,
     "metadata": {},
     "output_type": "execute_result"
    }
   ],
   "source": [
    "limit(_, x, 0)"
   ]
  },
  {
   "cell_type": "code",
   "execution_count": null,
   "id": "7fdc9ae4-b853-4c27-a509-ab0b9f85e0ba",
   "metadata": {},
   "outputs": [],
   "source": []
  }
 ],
 "metadata": {
  "kernelspec": {
   "display_name": "Python 3 (ipykernel)",
   "language": "python",
   "name": "python3"
  },
  "language_info": {
   "codemirror_mode": {
    "name": "ipython",
    "version": 3
   },
   "file_extension": ".py",
   "mimetype": "text/x-python",
   "name": "python",
   "nbconvert_exporter": "python",
   "pygments_lexer": "ipython3",
   "version": "3.11.8"
  }
 },
 "nbformat": 4,
 "nbformat_minor": 5
}
