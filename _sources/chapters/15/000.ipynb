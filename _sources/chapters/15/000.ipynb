{
 "cells": [
  {
   "cell_type": "markdown",
   "id": "ca8e9264-acdf-4f29-899c-e32935cfbf0b",
   "metadata": {},
   "source": [
    "# 第15回\n",
    "\n",
    "## 微分と幾何学、重力と測地線"
   ]
  },
  {
   "cell_type": "markdown",
   "id": "8914cdd0-6e8f-4a0a-9837-c0cc75c0c28a",
   "metadata": {},
   "source": [
    "* [Introduction to general relativity - Wikipedia](https://en.wikipedia.org/wiki/Introduction_to_general_relativity)\n",
    "\n",
    "\n",
    ":::{image} https://upload.wikimedia.org/wikipedia/commons/6/63/Spacetime_lattice_analogy.svg\n",
    ":width: 60%\n",
    ":::\n",
    "\n",
    ":::{image} https://upload.wikimedia.org/wikipedia/commons/f/f9/Newtonianvseinsteinianorbits.gif\n",
    ":width: 60%\n",
    ":::\n",
    "\n",
    "* [Gravity Demo Part 2 Basic Demo - YouTube](https://www.youtube.com/watch?v=MkbUzfTq3w4)"
   ]
  },
  {
   "cell_type": "markdown",
   "id": "7c0f2ce3-d611-46c7-9d32-17ae00beefc1",
   "metadata": {},
   "source": [
    "* (1571&ndash;1630) [Johannes Kepler - Wikipedia](https://en.wikipedia.org/wiki/Johannes_Kepler)\n",
    "* (1643&ndash;1727) [Isaac Newton - Wikipedia](https://en.wikipedia.org/wiki/Isaac_Newton)\n",
    "* (1879&ndash;1955) [Albert Einstein - Wikipedia](https://en.wikipedia.org/wiki/Albert_Einstein)"
   ]
  },
  {
   "cell_type": "code",
   "execution_count": 1,
   "id": "7398d4c8-a613-4b44-b9a2-733449ebfe1a",
   "metadata": {},
   "outputs": [
    {
     "data": {
      "text/markdown": [
       "はい、その通りです。イザーク・ニュートンは、重力を中心とした物体の運動を説明するために三つの法則を定式化しました。これらはニュートンの運動の法則として広く知られており、次のようにまとめられます：\n",
       "\n",
       "1. **ニュートンの第一法則（慣性の法則）**: 物体は静止していれば静止し続け、一定の速度で直線運動をしていればその速度を保ち続けます。物体の速度が変化するのは、物体に力が作用したときだけです。\n",
       "\n",
       "2. **ニュートンの第二法則（F=ma）**: 物体に働く力は物体の質量と加速度の積に等しい。数学的には、$F = ma$ と表すことができます。ここで $F$ は力、$m$ は物体の質量、$a$ は物体の加速度です。\n",
       "\n",
       "3. **ニュートンの第三法則（作用反作用の法則）**: ある物体が別の物体に力を及ぼすとき、その別の物体もまた最初の物体に等しい大きさの反対方向の力を及ぼします。\n",
       "\n",
       "これらの法則は、物体がどのように動き、その動きがどのように変化するかを理解するための基本的な枠組みを提供します。"
      ],
      "text/plain": [
       "<IPython.core.display.Markdown object>"
      ]
     },
     "execution_count": 1,
     "metadata": {
      "text/markdown": {
       "jupyter_ai": {
        "custom_chain_id": "vioras"
       }
      }
     },
     "output_type": "execute_result"
    }
   ],
   "source": [
    "%%ai vioras\n",
    "ニュートンは重力を中心とした物体の運動を示しました"
   ]
  },
  {
   "cell_type": "code",
   "execution_count": 3,
   "id": "7ec9a545-255d-461d-9082-08c0014f389f",
   "metadata": {},
   "outputs": [
    {
     "data": {
      "text/markdown": [
       "はい、その通りです。ニュートンの重力理論は、ケプラーの法則の数学的な説明を提供します。ケプラーの法則とは、惑星の運動に関する三つの法則で、それぞれ以下のようになります：\n",
       "\n",
       "1. **ケプラーの第一法則（軌道の法則）**: 惑星は太陽を一つの焦点とする楕円軌道を描いて運動する。\n",
       "\n",
       "2. **ケプラーの第二法則（面積速度の法則）**: 惑星が太陽と結ぶ線が同等の時間で掃く面積は一定である。これは惑星が近日点で速度が上がり、遠日点で速度が下がることを意味します。\n",
       "\n",
       "3. **ケプラーの第三法則（調和の法則）**: 惑星の公転周期の二乗は、その平均太陽距離の三乗に比例する。\n",
       "\n",
       "これらの法則は、ヨハネス・ケプラーによって観測データから統計的に発見されましたが、その根本的な理由は明らかではありませんでした。しかし、ニュートンの重力理論と運動の法則を使うと、これらの法則が自然に導き出され、その理由が明らかになります。"
      ],
      "text/plain": [
       "<IPython.core.display.Markdown object>"
      ]
     },
     "execution_count": 3,
     "metadata": {
      "text/markdown": {
       "jupyter_ai": {
        "custom_chain_id": "vioras"
       }
      }
     },
     "output_type": "execute_result"
    }
   ],
   "source": [
    "%%ai vioras\n",
    "ニュートンによってケプラーの第一法則、第二法則が証明されました"
   ]
  },
  {
   "cell_type": "markdown",
   "id": "e208fa49-a13f-4afa-bdf9-8b88880da1f5",
   "metadata": {},
   "source": [
    "* [Kepler's laws of planetary motion - Wikipedia](https://en.wikipedia.org/wiki/Kepler%27s_laws_of_planetary_motion)\n",
    "    * [地球の公転軌道が楕円であることの導出 | 高校数学の美しい物語](https://manabitimes.jp/math/1263)\n",
    "\n",
    ":::{image} https://upload.wikimedia.org/wikipedia/commons/9/98/Kepler_laws_diagram.svg\n",
    ":width: 60%\n",
    ":::"
   ]
  },
  {
   "cell_type": "markdown",
   "id": "738ee828-d145-4bb1-8b16-a245a4afd684",
   "metadata": {},
   "source": [
    "* [Two-body problem in general relativity - Wikipedia](https://en.wikipedia.org/wiki/Two-body_problem_in_general_relativity)\n",
    "    * [Apsidal precession - Wikipedia](https://en.wikipedia.org/wiki/Apsidal_precession)\n",
    "\n",
    ":::{image} https://upload.wikimedia.org/wikipedia/commons/9/92/Perihelion_precession.svg\n",
    ":width: 60%\n",
    ":::"
   ]
  },
  {
   "cell_type": "code",
   "execution_count": 2,
   "id": "8f948658-1ed7-43e4-8752-d6f5cfc55577",
   "metadata": {},
   "outputs": [
    {
     "data": {
      "text/markdown": [
       "その通りです。アルベルト・アインシュタインは、一般相対性理論という理論を提唱しました。この理論では、重力は物体が単に他の物体に引きつけられるというものではなく、実際には大きな質量を持つ物体が周囲の空間時間を歪めると解釈されます。\n",
       "\n",
       "この理論では、光や物体はこの歪んだ空間時間を通過するときに最短（または最長）のパスを辿ります。このパスは「測地線」と呼ばれ、地球表面の最短経路（大圏距離）や光の軌道など、空間時間の曲線を辿る物体の軌道を表します。\n",
       "\n",
       "アインシュタインの一般相対性理論は、ニュートンの重力理論がうまく説明できない現象（例えば、水星の近日点の進行）を説明することができました。また、この理論はさまざまな実験や観測によって検証され、現代物理学の基礎的な要素となっています。"
      ],
      "text/plain": [
       "<IPython.core.display.Markdown object>"
      ]
     },
     "execution_count": 2,
     "metadata": {
      "text/markdown": {
       "jupyter_ai": {
        "custom_chain_id": "vioras"
       }
      }
     },
     "output_type": "execute_result"
    }
   ],
   "source": [
    "%%ai vioras\n",
    "アインシュタインは重力によって空間が歪み、光の軌跡が測地線を描くことを示しました"
   ]
  },
  {
   "cell_type": "code",
   "execution_count": null,
   "id": "b695f63e-b452-4da3-a547-5b638dc69863",
   "metadata": {},
   "outputs": [],
   "source": []
  }
 ],
 "metadata": {
  "kernelspec": {
   "display_name": "Python 3 (ipykernel)",
   "language": "python",
   "name": "python3"
  },
  "language_info": {
   "codemirror_mode": {
    "name": "ipython",
    "version": 3
   },
   "file_extension": ".py",
   "mimetype": "text/x-python",
   "name": "python",
   "nbconvert_exporter": "python",
   "pygments_lexer": "ipython3",
   "version": "3.11.8"
  }
 },
 "nbformat": 4,
 "nbformat_minor": 5
}
