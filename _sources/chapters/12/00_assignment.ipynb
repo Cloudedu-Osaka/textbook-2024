{
 "cells": [
  {
   "cell_type": "markdown",
   "id": "c55ca14e-850f-4dec-b223-5e420fb524d4",
   "metadata": {},
   "source": [
    "# 課題: プログラミングのない世界"
   ]
  },
  {
   "attachments": {},
   "cell_type": "markdown",
   "id": "adbdd6c4-ed60-4821-9fc4-ac37088555a7",
   "metadata": {},
   "source": [
    ":::{seealso}\n",
    "* [Logic synthesis - Wikipedia](https://en.wikipedia.org/wiki/Logic_synthesis)\n",
    "* [Boolean function - Wikipedia](https://en.wikipedia.org/wiki/Boolean_function)\n",
    "    * [Algebraic normal form - Wikipedia](https://en.wikipedia.org/wiki/Algebraic_normal_form)\n",
    "\n",
    "$$\n",
    "f: \\{0, 1\\}^k \\rightarrow \\{0, 1\\}\n",
    "$$\n",
    ":::"
   ]
  },
  {
   "cell_type": "code",
   "execution_count": 1,
   "id": "f7426645-4063-4b09-a045-c7aefae3d676",
   "metadata": {},
   "outputs": [
    {
     "data": {
      "text/markdown": [
       "PythonでXORと等価な論理関数を自動的に合成するために、真理値表とブール代数を使用します。\n",
       "\n",
       "ここでは、XORの真理値表を使用して、ブール関数を生成します。\n",
       "\n",
       "XOR関数は2つの入力（A, B）に対して以下の出力（Y）を生成します：\n",
       "\n",
       "| A | B | Y |\n",
       "|---|---|---|\n",
       "| 0 | 0 | 0 |\n",
       "| 0 | 1 | 1 |\n",
       "| 1 | 0 | 1 |\n",
       "| 1 | 1 | 0 |\n",
       "\n",
       "この真理値表から、ブール関数を生成することができます。ブール関数は、以下のように表すことができます：\n",
       "\n",
       "$Y = (\\neg A \\land B) \\lor (A \\land \\neg B)$\n",
       "\n",
       "これは、ソレノイド表記では次のようになります：\n",
       "\n",
       "$Y = (!A \\& B) | (A \\& !B)$\n",
       "\n",
       "これをPython関数として書き出すと以下のようになります：\n",
       "\n",
       "```python\n",
       "def xor(A, B):\n",
       "    return (not A and B) or (A and not B)\n",
       "```\n",
       "\n",
       "ここで、`and`は論理積（AND）、`or`は論理和（OR）、`not`は否定（NOT）を表します。これらの演算子を組み合わせて、XOR関数を表現しています。\n",
       "\n",
       "この関数は入力AとBがどちらも真または偽のときに偽を返し、入力が一方が真で一方が偽のときに真を返すので、XORの動作を模倣します。\n",
       "\n",
       "以上がPythonでXORと等価な論理関数を自動的に合成する方法です。"
      ],
      "text/plain": [
       "<IPython.core.display.Markdown object>"
      ]
     },
     "execution_count": 1,
     "metadata": {
      "text/markdown": {
       "jupyter_ai": {
        "custom_chain_id": "vioras"
       }
      }
     },
     "output_type": "execute_result"
    }
   ],
   "source": [
    "%%ai vioras\n",
    "Pythonでxorと等価な入出力を持つ論理関数を自動的に合成する方法を教えてください"
   ]
  },
  {
   "cell_type": "markdown",
   "id": "125da65e-e049-4243-8a3e-c4f46be50ad8",
   "metadata": {},
   "source": [
    "```{note}\n",
    "検証します\n",
    "```"
   ]
  },
  {
   "cell_type": "code",
   "execution_count": 1,
   "id": "50046a6c-feb1-4e3e-a5b4-a8da80ad52c1",
   "metadata": {},
   "outputs": [],
   "source": [
    "def xor(A, B):\n",
    "    return (not A and B) or (A and not B)"
   ]
  },
  {
   "cell_type": "code",
   "execution_count": 8,
   "id": "e01360bd-a2c1-4e36-9048-13c4bce9c146",
   "metadata": {},
   "outputs": [
    {
     "data": {
      "text/plain": [
       "[(0, 0), (0, 1), (1, 0), (1, 1)]"
      ]
     },
     "execution_count": 8,
     "metadata": {},
     "output_type": "execute_result"
    }
   ],
   "source": [
    "import itertools\n",
    "list(itertools.product([0, 1], repeat=2))"
   ]
  },
  {
   "cell_type": "code",
   "execution_count": 6,
   "id": "a06ee7b9-6a4b-47b3-a87c-f855f72a04f6",
   "metadata": {},
   "outputs": [
    {
     "data": {
      "text/plain": [
       "[0, 1, True, False]"
      ]
     },
     "execution_count": 6,
     "metadata": {},
     "output_type": "execute_result"
    }
   ],
   "source": [
    "[xor(*xy) for xy in itertools.product([0, 1], repeat=2)]"
   ]
  },
  {
   "cell_type": "code",
   "execution_count": 12,
   "id": "8a2e9933-407c-45b2-91ed-c091b932c03e",
   "metadata": {},
   "outputs": [],
   "source": [
    "from sympy import symbols\n",
    "from sympy.logic.boolalg import ANFform, to_anf\n",
    "A, B = symbols('A B')"
   ]
  },
  {
   "cell_type": "code",
   "execution_count": 16,
   "id": "b41294cf-0c80-4c66-b5d0-d0b6ccc56977",
   "metadata": {},
   "outputs": [
    {
     "data": {
      "text/latex": [
       "$\\displaystyle A \\veebar B$"
      ],
      "text/plain": [
       "A ^ B"
      ]
     },
     "execution_count": 16,
     "metadata": {},
     "output_type": "execute_result"
    }
   ],
   "source": [
    "to_anf((~ A & B) | (A & ~B))"
   ]
  },
  {
   "cell_type": "markdown",
   "id": "ff173520-25d5-422b-b66c-952dc6b8b79d",
   "metadata": {},
   "source": [
    "```{note}\n",
    "ANFやCNF、DNFについて\n",
    "```"
   ]
  },
  {
   "cell_type": "markdown",
   "id": "f58651ae-a69a-4c58-a837-2a049c172a67",
   "metadata": {},
   "source": [
    "### CNF and DNF, ANF\n",
    "\n",
    "論理演算には相等な表現が無数に存在する。ある規約の下で「標準形」へ簡略化が可能:\n",
    "\n",
    "* [Conjunctive normal form - Wikipedia](https://en.wikipedia.org/wiki/Conjunctive_normal_form)\n",
    "  - \"**P**roduct **o**f **S**ums\"\n",
    "  - \"**an AND of ORs**\"\n",
    "  - [Logical conjunction - Wikipedia](https://en.wikipedia.org/wiki/Logical_conjunction)\n",
    "    - 「連言 (論理積)」\n",
    "* [Disjunctive normal form - Wikipedia](https://en.wikipedia.org/wiki/Disjunctive_normal_form)\n",
    "  - \"**S**um **o**f **P**roducts\"\"\n",
    "  - \"**an OR of ANDs**\"\n",
    "  - [Logical disjunction - Wikipedia](https://en.wikipedia.org/wiki/Logical_disjunction)\n",
    "    - 「選言 (論理和)」\n",
    "* [Algebraic normal form - Wikipedia](https://en.wikipedia.org/wiki/Algebraic_normal_form)\n",
    "  - One or more variables are **AND**ed together into a *term*,\n",
    "  - then one or more terms are **XOR**ed together into *ANF*.\n",
    "  - *No **NOT**s are permitted*"
   ]
  },
  {
   "cell_type": "code",
   "execution_count": 2,
   "id": "83d55594-25a5-498c-bac9-264a2cbcc016",
   "metadata": {},
   "outputs": [
    {
     "data": {
      "text/markdown": [
       "PythonのSymPyライブラリを使用して、XORと等価な論理関数を自動的に合成することが可能です。SymPyは数学のシンボリック計算を行うためのPythonライブラリで、ブール代数の関数も提供しています。`logic.boolalg.ANFform()`関数は、論理関数の代数的正規形（Algebraic Normal Form）を生成します。\n",
       "\n",
       "以下に、XORと等価な論理関数を自動的に合成するPythonコードを示します：\n",
       "\n",
       "```python\n",
       "from sympy import symbols\n",
       "from sympy.logic.boolalg import Or, And, Not, truth_table, ANFform\n",
       "\n",
       "# 入力AとBをシンボルとして定義します\n",
       "A, B = symbols('A B')\n",
       "\n",
       "# XOR関数を定義します\n",
       "XOR = Or(And(A, Not(B)), And(Not(A), B))\n",
       "\n",
       "# XOR関数の代数的正規形を生成します\n",
       "ANF = ANFform(XOR)\n",
       "\n",
       "# 結果を出力します\n",
       "print(ANF)\n",
       "```\n",
       "\n",
       "このコードは、SymPyのシンボル、ブール関数、真理値表、そして代数的正規形の機能を使用しています。まず、入力AとBをシンボルとして定義します。次に、これらのシンボルを使用してXOR関数をブール関数として定義します。そして、`ANFform()`関数を使用してXOR関数の代数的正規形を生成します。\n",
       "\n",
       "最後に、生成された代数的正規形を出力します。これがXORと等価な論理関数の自動的な合成です。"
      ],
      "text/plain": [
       "<IPython.core.display.Markdown object>"
      ]
     },
     "execution_count": 2,
     "metadata": {
      "text/markdown": {
       "jupyter_ai": {
        "custom_chain_id": "vioras"
       }
      }
     },
     "output_type": "execute_result"
    }
   ],
   "source": [
    "%%ai vioras\n",
    "sympyの`logic.boolalg.ANFform()`を使ってください"
   ]
  },
  {
   "cell_type": "code",
   "execution_count": 9,
   "id": "bc8cbcdd-db3c-49fe-a64d-4c8960f6562c",
   "metadata": {},
   "outputs": [
    {
     "data": {
      "text/plain": [
       "\u001b[0;31mSignature:\u001b[0m \u001b[0mANFform\u001b[0m\u001b[0;34m(\u001b[0m\u001b[0mvariables\u001b[0m\u001b[0;34m,\u001b[0m \u001b[0mtruthvalues\u001b[0m\u001b[0;34m)\u001b[0m\u001b[0;34m\u001b[0m\u001b[0;34m\u001b[0m\u001b[0m\n",
       "\u001b[0;31mDocstring:\u001b[0m\n",
       "The ANFform function converts the list of truth values to\n",
       "Algebraic Normal Form (ANF).\n",
       "\n",
       "The variables must be given as the first argument.\n",
       "\n",
       "Return True, False, logical :py:class:`~.And` function (i.e., the\n",
       "\"Zhegalkin monomial\") or logical :py:class:`~.Xor` function (i.e.,\n",
       "the \"Zhegalkin polynomial\"). When True and False\n",
       "are represented by 1 and 0, respectively, then\n",
       ":py:class:`~.And` is multiplication and :py:class:`~.Xor` is addition.\n",
       "\n",
       "Formally a \"Zhegalkin monomial\" is the product (logical\n",
       "And) of a finite set of distinct variables, including\n",
       "the empty set whose product is denoted 1 (True).\n",
       "A \"Zhegalkin polynomial\" is the sum (logical Xor) of a\n",
       "set of Zhegalkin monomials, with the empty set denoted\n",
       "by 0 (False).\n",
       "\n",
       "Parameters\n",
       "==========\n",
       "\n",
       "variables : list of variables\n",
       "truthvalues : list of 1's and 0's (result column of truth table)\n",
       "\n",
       "Examples\n",
       "========\n",
       ">>> from sympy.logic.boolalg import ANFform\n",
       ">>> from sympy.abc import x, y\n",
       ">>> ANFform([x], [1, 0])\n",
       "x ^ True\n",
       ">>> ANFform([x, y], [0, 1, 1, 1])\n",
       "x ^ y ^ (x & y)\n",
       "\n",
       "References\n",
       "==========\n",
       "\n",
       ".. [1] https://en.wikipedia.org/wiki/Zhegalkin_polynomial\n",
       "\u001b[0;31mFile:\u001b[0m      /opt/conda/lib/python3.11/site-packages/sympy/logic/boolalg.py\n",
       "\u001b[0;31mType:\u001b[0m      function"
      ]
     },
     "metadata": {},
     "output_type": "display_data"
    }
   ],
   "source": [
    "ANFform?"
   ]
  },
  {
   "cell_type": "code",
   "execution_count": 3,
   "id": "1da9e7e0-b47b-454d-a339-f4300c0eb2a9",
   "metadata": {},
   "outputs": [
    {
     "data": {
      "text/markdown": [
       "申し訳ありません、私の誤りです。`ANFform`関数の使用方法を正しく説明しましょう。\n",
       "\n",
       "`ANFform`関数は、論理関数の代数的正規形（Algebraic Normal Form）を生成します。この関数には2つの引数が必要です：論理変数のリストと、それらの組み合わせで得られる出力の値のリストです。\n",
       "\n",
       "以下の例は、XOR関数の代数的正規形を生成します：\n",
       "\n",
       "```python\n",
       "from sympy import symbols\n",
       "from sympy.logic.boolalg import ANFform\n",
       "\n",
       "# 入力AとBをシンボルとして定義します\n",
       "A, B = symbols('A B')\n",
       "\n",
       "# XOR関数の結果をリストとして定義します\n",
       "# 入力の組み合わせは (A=False, B=False), (A=False, B=True), (A=True, B=False), (A=True, B=True) の順になります\n",
       "result = [False, True, True, False]\n",
       "\n",
       "# XOR関数の代数的正規形を生成します\n",
       "ANF = ANFform([A, B], result)\n",
       "\n",
       "# 結果を出力します\n",
       "print(ANF)\n",
       "```\n",
       "\n",
       "このコードは、`ANFform`関数に論理変数のリスト `[A, B]` と、それらの組み合わせで得られる出力の値のリスト `result` を引数として渡します。出力のリスト `result` は、入力の組み合わせ `(A=False, B=False), (A=False, B=True), (A=True, B=False), (A=True, B=True)` の順に対応しています。\n",
       "\n",
       "最後に、生成された代数的正規形を出力します。これがXORと等価な論理関数の自動的な合成です。"
      ],
      "text/plain": [
       "<IPython.core.display.Markdown object>"
      ]
     },
     "execution_count": 3,
     "metadata": {
      "text/markdown": {
       "jupyter_ai": {
        "custom_chain_id": "vioras"
       }
      }
     },
     "output_type": "execute_result"
    }
   ],
   "source": [
    "%%ai vioras\n",
    "`ANFform`の使い方が間違っています。第一引数は論理変数のリストを、\n",
    "第二引数はその組み合わせで得られる出力の値をリストで与えます"
   ]
  },
  {
   "cell_type": "code",
   "execution_count": 4,
   "id": "677315d2-5be3-47fe-9f11-d0c57268e4dc",
   "metadata": {},
   "outputs": [
    {
     "name": "stdout",
     "output_type": "stream",
     "text": [
      "A ^ B\n"
     ]
    }
   ],
   "source": [
    "from sympy import symbols\n",
    "from sympy.logic.boolalg import ANFform\n",
    "\n",
    "# 入力AとBをシンボルとして定義します\n",
    "A, B = symbols('A B')\n",
    "\n",
    "# XOR関数の結果をリストとして定義します\n",
    "# 入力の組み合わせは (A=False, B=False), (A=False, B=True), (A=True, B=False), (A=True, B=True) の順になります\n",
    "result = [False, True, True, False]\n",
    "\n",
    "# XOR関数の代数的正規形を生成します\n",
    "ANF = ANFform([A, B], result)\n",
    "\n",
    "# 結果を出力します\n",
    "print(ANF)"
   ]
  },
  {
   "cell_type": "code",
   "execution_count": 5,
   "id": "d5822782-2c3c-4f0d-894e-d2fdbe037828",
   "metadata": {},
   "outputs": [
    {
     "data": {
      "text/markdown": [
       "Zhegalkin多項式（またはアルファベット多項式）は、ブール関数を代表する多項式の一種です。それはブール関数を一連のXORとAND演算子で表現します。Zhegalkin多項式は、ブール関数を分析し、最適化する際に非常に便利です。\n",
       "\n",
       "Zhegalkin多項式は、ブール多項式の一種であり、その係数は2元体（つまり、値が0または1の体）になります。ブール多項式の各項は、一連の変数のAND（論理積）であり、全体の多項式はこれらの項のXOR（排他的論理和）です。\n",
       "\n",
       "例えば、2つの変数AとBに対するXOR関数は、Zhegalkin多項式として次のように表現することができます：\n",
       "\n",
       "$A \\oplus B = A \\land \\neg B \\lor \\neg A \\land B$\n",
       "\n",
       "ここで $\\oplus$ はXOR演算を表し、$\\land$ はAND演算を表し、$\\lor$ はOR演算を表します。$\\neg$ は否定（NOT）を表します。\n",
       "\n",
       "SymPyの`ANFform`関数は、ブール関数をZhegalkin多項式の形式で表現します。これは、ブール関数の最小化や最適化、あるいはブール回路の設計などに役立ちます。\n",
       "\n",
       "以上がZhegalkin多項式の基本的な説明です。Zhegalkin多項式はブール代数の強力なツールであり、ブール関数の分析や操作に広く利用されます。"
      ],
      "text/plain": [
       "<IPython.core.display.Markdown object>"
      ]
     },
     "execution_count": 5,
     "metadata": {
      "text/markdown": {
       "jupyter_ai": {
        "custom_chain_id": "vioras"
       }
      }
     },
     "output_type": "execute_result"
    }
   ],
   "source": [
    "%%ai vioras\n",
    "sympyのマニュアルによると、`ANFform`はZhegalkin polynomialを使っているそうです。その解説をしてください"
   ]
  },
  {
   "cell_type": "markdown",
   "id": "a80bc700-aa84-46da-b5bb-f1a9ceaa710f",
   "metadata": {},
   "source": [
    ":::{seealso}\n",
    "* [Zhegalkin polynomial - Wikipedia](https://en.wikipedia.org/wiki/Zhegalkin_polynomial)\n",
    ":::"
   ]
  },
  {
   "cell_type": "markdown",
   "id": "9ae3fb13-15d3-4e66-a28c-600c9376524d",
   "metadata": {},
   "source": [
    "## 一桁の二進数の加算と等価な論理演算"
   ]
  },
  {
   "cell_type": "code",
   "execution_count": 17,
   "id": "e3b14386-898e-4f4d-8971-e9ccc061cc34",
   "metadata": {},
   "outputs": [],
   "source": [
    "import itertools"
   ]
  },
  {
   "cell_type": "code",
   "execution_count": 19,
   "id": "353fe5fc-fddc-4277-b4d6-53ec6da86fe9",
   "metadata": {},
   "outputs": [],
   "source": [
    "from sympy.abc import x,y,z\n",
    "from sympy.logic import simplify_logic"
   ]
  },
  {
   "cell_type": "code",
   "execution_count": 23,
   "id": "9c40678c-698b-42df-82a0-98495548ec7c",
   "metadata": {},
   "outputs": [],
   "source": [
    "from sympy.logic.boolalg import ANFform, to_cnf, to_dnf"
   ]
  },
  {
   "cell_type": "code",
   "execution_count": 31,
   "id": "1357580a",
   "metadata": {},
   "outputs": [
    {
     "name": "stdout",
     "output_type": "stream",
     "text": [
      "0+0=00 (0,0)\n",
      "0+1=01 (0,1)\n",
      "1+0=01 (0,1)\n",
      "1+1=10 (1,0)\n"
     ]
    }
   ],
   "source": [
    "for i,j in itertools.product([0,1], repeat=2):\n",
    "    print(\"{:d}+{:d}={:02b} \".format(i,j,i+j), end=\"\")\n",
    "    print(\"({:d},{:d})\".format(*divmod(i+j,2)))"
   ]
  },
  {
   "cell_type": "code",
   "execution_count": 38,
   "id": "f6e0e1ca-bbaf-4aad-91a5-9ce377c22ade",
   "metadata": {},
   "outputs": [
    {
     "data": {
      "text/plain": [
       "[(0, 0), (0, 1), (0, 1), (1, 0)]"
      ]
     },
     "execution_count": 38,
     "metadata": {},
     "output_type": "execute_result"
    }
   ],
   "source": [
    "[divmod(i+j,2) for i,j in itertools.product([0,1], repeat=2)]"
   ]
  },
  {
   "cell_type": "code",
   "execution_count": 39,
   "id": "8c126641-8ee1-4afa-9ee5-58d981185412",
   "metadata": {},
   "outputs": [
    {
     "data": {
      "text/plain": [
       "[(0, 0, 0, 1), (0, 1, 1, 0)]"
      ]
     },
     "execution_count": 39,
     "metadata": {},
     "output_type": "execute_result"
    }
   ],
   "source": [
    "list(zip(*[divmod(i+j, 2) for i, j in itertools.product([0,1], repeat=2)]))"
   ]
  },
  {
   "cell_type": "code",
   "execution_count": 41,
   "id": "0d9512c3-3002-4dfc-9807-0f16b7713fab",
   "metadata": {},
   "outputs": [
    {
     "name": "stdout",
     "output_type": "stream",
     "text": [
      "x & y\n",
      "x ^ y\n"
     ]
    }
   ],
   "source": [
    "for qr in zip(*[divmod(i+j, 2) for i,j in itertools.product([0,1], repeat=2)]):\n",
    "    print(ANFform([x, y], qr))"
   ]
  },
  {
   "cell_type": "code",
   "execution_count": null,
   "id": "64ba4f00-01d2-4459-aeb6-4afd9a50a753",
   "metadata": {},
   "outputs": [],
   "source": []
  }
 ],
 "metadata": {
  "kernelspec": {
   "display_name": "Python 3 (ipykernel)",
   "language": "python",
   "name": "python3"
  },
  "language_info": {
   "codemirror_mode": {
    "name": "ipython",
    "version": 3
   },
   "file_extension": ".py",
   "mimetype": "text/x-python",
   "name": "python",
   "nbconvert_exporter": "python",
   "pygments_lexer": "ipython3",
   "version": "3.11.8"
  }
 },
 "nbformat": 4,
 "nbformat_minor": 5
}
