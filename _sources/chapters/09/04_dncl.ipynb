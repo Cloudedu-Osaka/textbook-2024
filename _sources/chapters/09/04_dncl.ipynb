{
 "cells": [
  {
   "cell_type": "markdown",
   "id": "0090ba4b-3c57-4b9a-be93-28cd4e72896f",
   "metadata": {},
   "source": [
    "# 学校で教わらないけど試験に出る擬似コード (Pseudocode)"
   ]
  },
  {
   "cell_type": "markdown",
   "id": "51f6ab40-c093-4921-bf9d-5f6ef59db424",
   "metadata": {},
   "source": [
    "* [Pseudocode - Wikipedia](https://en.wikipedia.org/wiki/Pseudocode)\n",
    "    - [LaTeX/Algorithms - Wikibooks, open books for an open world](https://en.wikibooks.org/wiki/LaTeX/Algorithms)"
   ]
  },
  {
   "cell_type": "markdown",
   "id": "36bcdf9c-7586-41d0-aa8b-aafb07a9cb70",
   "metadata": {},
   "source": [
    "* [IPA 独立行政法人 情報処理推進機構](https://www.ipa.go.jp/index.html)\n",
    "    - [試験で使用する情報技術に関する用語・プログラム言語など](https://www.ipa.go.jp/shiken/syllabus/ps6vr7000000i9dp-att/shiken_yougo_ver5_0.pdf)\n",
    "        - (スキルレベル1) [ITパスポート試験 - Wikipedia](https://ja.wikipedia.org/wiki/IT%E3%83%91%E3%82%B9%E3%83%9D%E3%83%BC%E3%83%88%E8%A9%A6%E9%A8%93)\n",
    "        - (スキルレベル2) [基本情報技術者試験 - Wikipedia](https://ja.wikipedia.org/wiki/%E5%9F%BA%E6%9C%AC%E6%83%85%E5%A0%B1%E6%8A%80%E8%A1%93%E8%80%85%E8%A9%A6%E9%A8%93)\n",
    "* [大学入試センター試験 - Wikipedia](https://ja.wikipedia.org/wiki/%E5%A4%A7%E5%AD%A6%E5%85%A5%E8%A9%A6%E3%82%BB%E3%83%B3%E3%82%BF%E3%83%BC%E8%A9%A6%E9%A8%93)\n",
    "    - (数学②) [情報関係基礎 - Wikipedia](https://ja.wikipedia.org/wiki/%E6%83%85%E5%A0%B1%E9%96%A2%E4%BF%82%E5%9F%BA%E7%A4%8E)\n",
    "        - [情報処理学会 情報入試委員会 - 情報関係基礎 アーカイブ](https://sites.google.com/a.ipsj.or.jp/ipsjjn/resources/JHK)\n",
    "    - (情報I) [情報 (教科) - Wikipedia](https://ja.wikipedia.org/wiki/%E6%83%85%E5%A0%B1_(%E6%95%99%E7%A7%91))\n",
    "        - [（参考）試作問題等令和４年度までの検討状況 | 独立行政法人 大学入試センター](https://www.dnc.ac.jp/kyotsu/shiken_jouhou/r7ikou/)"
   ]
  },
  {
   "cell_type": "markdown",
   "id": "36444e60-6192-4510-a869-e0e3f874a8c5",
   "metadata": {},
   "source": [
    "* DNCL\n",
    "    - (1997) BASIC, COBOL, Pascal\n",
    "    - (1998-2002) 疑似言語「センター試験用手続記述標準言語」仕様は「読めばそのまま意味が分かる」\n",
    "    - (2002-) 疑似言語「DNCL」\n",
    "    - (2021-) 疑似言語「DNCL2」"
   ]
  },
  {
   "cell_type": "markdown",
   "id": "f226c6c9-2296-4e92-8ef2-3d806799b164",
   "metadata": {},
   "source": [
    "* 中西 渉, \"[DNCL2（仮称）の学習環境の実装に関する考察](https://ipsj.ixsq.nii.ac.jp/ej/?action=pages_view_main&active_action=repository_view_main_item_detail&item_id=212372&item_no=1&page_id=13&block_id=8)\", 2021"
   ]
  },
  {
   "cell_type": "markdown",
   "id": "0103d357-1f1f-4606-812e-b55f1f674319",
   "metadata": {},
   "source": [
    "## 2002年試験問題作成部会の見解"
   ]
  },
  {
   "cell_type": "markdown",
   "id": "03f75fbc-02d2-4769-9633-0559b6f242e6",
   "metadata": {},
   "source": [
    "* 「既存のプログラミング言語を用いずに、制限された構文を持つ自然言語によって処理手順を記述することにした」\n",
    "* 「この言語は読めば分かるので、特に説明の必要はないと思われるが、今後も使われる可能性があるので、参考までに、本報告の最後にその言語仕様を付することにする。」"
   ]
  },
  {
   "cell_type": "markdown",
   "id": "269f6cb1-5755-4f40-a3f5-3f7a8047dd91",
   "metadata": {},
   "source": [
    "## センター試験用手順記述標準言語の仕様 (2002年度版)"
   ]
  },
  {
   "cell_type": "markdown",
   "id": "956f1b1d-e82c-4c09-ab7b-9892c30c7e21",
   "metadata": {},
   "source": [
    "![fig-11](./fig-11.png)"
   ]
  },
  {
   "cell_type": "markdown",
   "id": "a69c6d47-6d42-4828-9c54-26532b94f8de",
   "metadata": {},
   "source": [
    "![fig-12](./fig-12.png)"
   ]
  },
  {
   "cell_type": "markdown",
   "id": "17f453e1-26ee-4fce-b33c-c81ec2522af6",
   "metadata": {},
   "source": [
    "## センター試験用手順記述標準言語の例"
   ]
  },
  {
   "cell_type": "markdown",
   "id": "021b4a80-0e40-42f2-aa57-792fb709a17f",
   "metadata": {},
   "source": [
    "2008年度の例:"
   ]
  },
  {
   "cell_type": "markdown",
   "id": "b8522ef5-b674-4b67-afa3-e7f8279ff745",
   "metadata": {},
   "source": [
    "```\n",
    "(01) Namae[1] ← 「はるこ」，Tokuten[1] ← 73 \n",
    "(02) Namae[2] ← 「なつお」，Tokuten[2] ← 77\n",
    "(03) Namae[3] ← 「あきよ」，Tokuten[3] ← 81 \n",
    "(04) Namae[4] ← 「ふゆき」，Tokuten[4] ← 68\n",
    "```\n",
    "            図2 配列の要素を初期化する手続き"
   ]
  },
  {
   "cell_type": "markdown",
   "id": "5ab53cb1-bbaa-4063-817c-5f1c75085f69",
   "metadata": {},
   "source": [
    "```\n",
    "(01) n ← Namae[i]\n",
    "(02) [エ] ← [オ]\n",
    "(03) Namae[i+1] ← n \n",
    "(04) t ← [カ]\n",
    "(05) [カ] ← Tokuten[i+1]\n",
    "(06) Tokuten[i+1] ← [キ]\n",
    "```\n",
    "            図3 配列の要素を入れ替える手続き"
   ]
  },
  {
   "cell_type": "markdown",
   "id": "d14cfca6-a49e-418b-b5ea-e09385d565ed",
   "metadata": {},
   "source": [
    "```\n",
    "(01) ~ (04) (図2 配列の要素を初期化する手続き) \n",
    "(05)        jを4-1から1まで1ずつ減らしながら，\n",
    "(06)        ｜ iを1から[ク]まで1ずつ増やしながら，\n",
    "(07)        ｜ ｜ もしTokuten[i] < [ケ] ならば\n",
    "(08) ~ (13) ｜ ｜ ｜ (図3 配列の要素を入れ替える手続き) \n",
    "(14)        ｜ ｜ を実行する\n",
    "(15)        ｜ を繰り返す\n",
    "(16)        を繰り返す\n",
    "```\n",
    "            図4 並べ替えの手続き"
   ]
  },
  {
   "cell_type": "markdown",
   "id": "66b0d4f0-691f-47a8-aa84-638879a51b3d",
   "metadata": {},
   "source": [
    "```\n",
    "(01) ~ (04) (図2 配列の要素を初期化する手続き) \n",
    "(05)        j ← [シ] - 1\n",
    "(06)        繰り返し，\n",
    "(07)        ｜ saigo ← 0\n",
    "(08)        ｜ iを1から[ク]まで1ずつ増やしながら，\n",
    "(09)        ｜ ｜ もしTokuten[i] < [ケ] ならば\n",
    "(10) ~ (15) ｜ ｜ ｜ (図3 配列の要素を入れ替える手続き) \n",
    "(16)        ｜ ｜ ｜ saigo ← [ス]\n",
    "(17)        ｜ ｜ を実行する\n",
    "(18)        ｜ を繰り返す\n",
    "(19)        ｜ j ← saigo - 1\n",
    "(20)        を，saigo ≤ 1になるまで実行する\n",
    "```\n",
    "            図6 比較回数を減らした並べ替えの手続き"
   ]
  },
  {
   "cell_type": "markdown",
   "id": "7c046e98-08e7-4c4e-bc9f-a6507631f468",
   "metadata": {},
   "source": [
    "### ブロック\n",
    "\n",
    "「一番外側の分の並びを除き、文の並びはインデントを添えてその左側に縦線を置く。文が１個でも縦線を引き、文の並びであることを示す。」\n",
    "\n",
    "*  [Block (programming) - Wikipedia](https://en.wikipedia.org/wiki/Block_(programming))\n",
    "    - [ブロック (プログラミング) - Wikipedia](https://ja.wikipedia.org/wiki/%E3%83%96%E3%83%AD%E3%83%83%E3%82%AF_(%E3%83%97%E3%83%AD%E3%82%B0%E3%83%A9%E3%83%9F%E3%83%B3%E3%82%B0))"
   ]
  },
  {
   "cell_type": "markdown",
   "id": "8a06e5bb-afee-4b22-900f-e5950e645647",
   "metadata": {},
   "source": [
    "### 代入文\n",
    "\n",
    "「単純な代入文に限り、読点「，」で区切って文を横に並べることができる。」\n",
    "\n",
    "```a ← b，c ← d```"
   ]
  },
  {
   "cell_type": "markdown",
   "id": "136732fb-484c-41a1-a862-ac4906dc3a13",
   "metadata": {},
   "source": [
    "### 制御構造\n",
    "\n",
    "* [Control flow - Wikipedia](https://en.wikipedia.org/wiki/Control_flow)\n",
    "    - [制御構造 - Wikipedia](https://ja.wikipedia.org/wiki/%E5%88%B6%E5%BE%A1%E6%A7%8B%E9%80%A0)\n",
    "    \n",
    "#### if文\n",
    "\n",
    "* [Conditional (computer programming) - Wikipedia](https://en.wikipedia.org/wiki/Conditional_(computer_programming))\n",
    "    - [if文 - Wikipedia](https://ja.wikipedia.org/wiki/If%E6%96%87)"
   ]
  },
  {
   "cell_type": "markdown",
   "id": "e8ab0ee5-37e3-482d-bd8f-ec57a53eb179",
   "metadata": {},
   "source": [
    "#### case文\n",
    "\n",
    "* [Switch statement - Wikipedia](https://en.wikipedia.org/wiki/Switch_statement)\n",
    "    - [switch文 - Wikipedia](https://ja.wikipedia.org/wiki/Switch%E6%96%87)"
   ]
  },
  {
   "cell_type": "markdown",
   "id": "e1ae29fe-f76b-4a22-8278-9e6d1c1a35b7",
   "metadata": {},
   "source": [
    "#### for文\n",
    "\n",
    "* [For loop - Wikipedia](https://en.wikipedia.org/wiki/For_loop)\n",
    "    - [for文 - Wikipedia](https://ja.wikipedia.org/wiki/For%E6%96%87)\n",
    "\n",
    "#### while-do文 (前条件ループ)\n",
    "\n",
    "* [While loop - Wikipedia](https://en.wikipedia.org/wiki/While_loop)\n",
    "    - [while文 - Wikipedia](https://ja.wikipedia.org/wiki/While%E6%96%87)\n",
    "\n",
    "#### repeat-until文 (後条件ループ)\n",
    "\n",
    "* [Do while loop - Wikipedia](https://en.wikipedia.org/wiki/Do_while_loop)\n",
    "    - [do-while文 - Wikipedia](https://ja.wikipedia.org/wiki/Do-while%E6%96%87)"
   ]
  },
  {
   "cell_type": "markdown",
   "id": "70b4c8ef-cc71-4aa5-8318-8f32f4d79196",
   "metadata": {},
   "source": []
  },
  {
   "cell_type": "markdown",
   "id": "d30f2d09-6125-42f8-8435-b930890e58c9",
   "metadata": {
    "tags": []
   },
   "source": []
  }
 ],
 "metadata": {
  "kernelspec": {
   "display_name": "Python 3 (ipykernel)",
   "language": "python",
   "name": "python3"
  },
  "language_info": {
   "codemirror_mode": {
    "name": "ipython",
    "version": 3
   },
   "file_extension": ".py",
   "mimetype": "text/x-python",
   "name": "python",
   "nbconvert_exporter": "python",
   "pygments_lexer": "ipython3",
   "version": "3.11.8"
  }
 },
 "nbformat": 4,
 "nbformat_minor": 5
}
