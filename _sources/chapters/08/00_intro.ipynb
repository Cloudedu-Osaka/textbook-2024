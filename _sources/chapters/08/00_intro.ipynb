{
 "cells": [
  {
   "cell_type": "markdown",
   "id": "40b311d1-566b-4c09-a3bb-e57477a2168c",
   "metadata": {},
   "source": [
    "# 第八週"
   ]
  },
  {
   "cell_type": "markdown",
   "id": "0d77e7ca-f032-4491-a4b1-a831f7a13c1d",
   "metadata": {},
   "source": [
    "* 数の組み合わせによる概念の生成\n",
    "    * ピタゴラス音階はなぜ廃れたか?\n",
    "* 倍音の知覚\n",
    "    * オクターブを認識する能力は生得か?"
   ]
  },
  {
   "cell_type": "markdown",
   "id": "4004842c-6f4d-4b9a-aec5-623980ff169b",
   "metadata": {
    "tags": []
   },
   "source": [
    "## FMP: Fundamentals of Music Processing"
   ]
  },
  {
   "cell_type": "markdown",
   "id": "46289554-d391-4001-879d-330b081a9f51",
   "metadata": {},
   "source": [
    "* [AudioLabs - Accompanying Website: Fundamentals of Music Processing](https://www.audiolabs-erlangen.de/fau/professor/mueller/bookFMP)\n",
    "    * [C0: Overview](https://www.audiolabs-erlangen.de/resources/MIR/FMP/C0/C0.html)\n",
    "        - [meinardmueller/libfmp: libfmp - Python package for teaching and learning Fundamentals of Music Processing (FMP)](https://github.com/meinardmueller/libfmp)\n",
    "    * [C1: Music Representations](https://www.audiolabs-erlangen.de/resources/MIR/FMP/C1/C1.html)\n",
    "        - [C1S3: Waveform](https://www.audiolabs-erlangen.de/resources/MIR/FMP/C1/C1S3_Waveform.html)\n",
    "        - [C1E10: Pythagorean Tuning](https://www.audiolabs-erlangen.de/resources/MIR/FMP/C1/C1E10_PythagoreanTuning.html)\n",
    "        - [C1S3: Timbre](https://www.audiolabs-erlangen.de/resources/MIR/FMP/C1/C1S3_Timbre.html)"
   ]
  },
  {
   "cell_type": "code",
   "execution_count": null,
   "id": "a1df7bc3-d321-4a81-83b8-c235e6833a46",
   "metadata": {},
   "outputs": [],
   "source": [
    "!pip install -U librosa"
   ]
  },
  {
   "cell_type": "code",
   "execution_count": null,
   "id": "60b32bf2-18b5-40cc-a5a1-aa268665fdc3",
   "metadata": {},
   "outputs": [],
   "source": [
    "!pip install -U libfmp"
   ]
  },
  {
   "cell_type": "code",
   "execution_count": null,
   "id": "54452b5b-401e-4149-90a0-161d161dc119",
   "metadata": {},
   "outputs": [],
   "source": []
  }
 ],
 "metadata": {
  "kernelspec": {
   "display_name": "Python 3 (ipykernel)",
   "language": "python",
   "name": "python3"
  },
  "language_info": {
   "codemirror_mode": {
    "name": "ipython",
    "version": 3
   },
   "file_extension": ".py",
   "mimetype": "text/x-python",
   "name": "python",
   "nbconvert_exporter": "python",
   "pygments_lexer": "ipython3",
   "version": "3.11.8"
  }
 },
 "nbformat": 4,
 "nbformat_minor": 5
}
