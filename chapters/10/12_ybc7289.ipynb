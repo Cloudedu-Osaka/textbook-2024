{
 "cells": [
  {
   "cell_type": "markdown",
   "id": "6853a0c8",
   "metadata": {},
   "source": [
    "# YBC 7289 (2)"
   ]
  },
  {
   "cell_type": "markdown",
   "id": "86f1e044",
   "metadata": {},
   "source": [
    "## Plimpton 322を生成する元となったと考えられる公式"
   ]
  },
  {
   "cell_type": "markdown",
   "id": "dbda8e23",
   "metadata": {},
   "source": [
    "* [Pythagorean triple - Wikipedia](https://en.wikipedia.org/wiki/Pythagorean_triple)"
   ]
  },
  {
   "cell_type": "markdown",
   "id": "54589bc8",
   "metadata": {},
   "source": [
    "正の整数 $p$, $q$ $(p>q)$ に対して、\n",
    "\n",
    "$$\n",
    "  \\begin{align}\n",
    "    a & =  2 p q \\\\\n",
    "    b & =  p^2 - q^2\\\\\n",
    "    d & =  p^2 + q^2\\\\\n",
    "  \\end{align}\n",
    "$$\n",
    "\n",
    "とおくと、$a$, $b$, $d$ はピタゴラスの三数となり、$a^2+b^2 = d^2$ を満たす。"
   ]
  },
  {
   "cell_type": "markdown",
   "id": "c639e747",
   "metadata": {},
   "source": [
    "証明) 恒等式\n",
    "\n",
    "$$\n",
    "  (x-y)^2 = (x+y)^2 - 4xy\n",
    "$$\n",
    "\n",
    "に対して $x=p^2$, $y=q^2$ とおいて $p$, $q$ を消去する。\n",
    "\n",
    "$$\n",
    "  \\begin{align}\n",
    "    (p^2-q^2)^2 &= (p^2+q^2)^2 - 4p^2q^2 \\\\\n",
    "    b^2 &= d^2 - a^2\n",
    "  \\end{align}\n",
    "$$"
   ]
  },
  {
   "cell_type": "markdown",
   "id": "a479d964-7f29-4daf-be3a-ba626d827220",
   "metadata": {},
   "source": [
    "### その図形的解釈"
   ]
  },
  {
   "cell_type": "code",
   "execution_count": 1,
   "id": "7d7c37d2",
   "metadata": {
    "hide_input": true,
    "jupyter": {
     "source_hidden": true
    },
    "tags": [
     "remove-input"
    ]
   },
   "outputs": [
    {
     "data": {
      "image/png": "[encoded data removed]",
      "text/plain": [
       "<Figure size 640x480 with 1 Axes>"
      ]
     },
     "metadata": {},
     "output_type": "display_data"
    }
   ],
   "source": [
    "from matplotlib.patches import Polygon\n",
    "import matplotlib.pyplot as plt\n",
    "\n",
    "p0 = Polygon([(0,0), (3,0), (3,1), (0,1), ], fill=False)\n",
    "p1 = Polygon([(3,0), (4,0), (4,3), (3,3), ], fill=False)\n",
    "p2 = Polygon([(4,3), (4,4), (1,4), (1,3), ], fill=False)\n",
    "p3 = Polygon([(1,1), (1,4), (0,4), (0,1), ], fill=False)\n",
    "\n",
    "fig, ax = plt.subplots(1,1)\n",
    "\n",
    "ax.add_patch(p0)\n",
    "ax.add_patch(p1)\n",
    "ax.add_patch(p2)\n",
    "ax.add_patch(p3)\n",
    "ax.axis('equal')\n",
    "ax.set(xlim=(0,4),ylim=(-1,5))\n",
    "\n",
    "plt.text(1.5,-0.3,'x')\n",
    "plt.text(3.5,-0.3,'y')\n",
    "plt.text(-0.3,2.5,'x')\n",
    "plt.text(-0.3,0.5,'y')\n",
    "plt.text(1.8,1.2, 'x - y')\n",
    "plt.show()"
   ]
  },
  {
   "cell_type": "markdown",
   "id": "52efad7d-38bc-4009-8ab4-8a91b8b1c7aa",
   "metadata": {},
   "source": [
    "### Euclid's Element\n",
    "* [Euclid's Elements, Book X, Proposition 29](https://mathcs.clarku.edu/~djoyce/java/elements/bookX/propX29.html)\n",
    "    - Lemma 1: \"To find two square numbers such that their sum is also square.\""
   ]
  },
  {
   "cell_type": "markdown",
   "id": "fdc226d9-9e0f-4a60-b7d1-5c459a205e3a",
   "metadata": {},
   "source": [
    "```{note}\n",
    "* ユークリッドの原論10巻は、無理数が有理数と同じ数の基本的な性質を持つことが示されています。\n",
    "* そして、有理数と無理数の関係を「通約」が可能か否かで論じています。\n",
    "* 数の体系を有理数から無理数を含む実数に拡大している現代人には大変理解が難しい議論になっています。\n",
    "```"
   ]
  },
  {
   "cell_type": "code",
   "execution_count": 1,
   "id": "bf69a015-6a12-45f6-a744-3433a6e757fe",
   "metadata": {},
   "outputs": [
    {
     "data": {
      "text/markdown": [
       "ユークリッドの「原論」における「不可測（incommensurable）」とは、2つの長さが共通の単位で測ることができない、つまり比率が無理数になる場合を指します。これは、ユークリッドがギリシャの数学者たちと同様に、数値を長さの比率として理解していたためです。\n",
       "\n",
       "この概念は、「原論」の第10巻で詳しく説明されています。例えば、一辺が1、他辺が√2の長方形があるとします。この2つの辺の長さは不可測です。なぜなら、ある共通の単位で両者を測ることはできず、その比は無理数であるからです。\n",
       "\n",
       "この発見は、古代ギリシャの数学者にとっては衝撃的でした。なぜなら、彼らはすべての数が有理数（分数）であると信じていたからです。この発見は、数学の基本的な概念を再考するきっかけとなりました。\n",
       "\n",
       "なお、ここで使用した「不可測」や「無理数」などの語は、当時のギリシャ語の概念を現代の数学の用語で説明しています。"
      ],
      "text/plain": [
       "<IPython.core.display.Markdown object>"
      ]
     },
     "execution_count": 1,
     "metadata": {
      "text/markdown": {
       "jupyter_ai": {
        "custom_chain_id": "vioras"
       }
      }
     },
     "output_type": "execute_result"
    }
   ],
   "source": [
    "%%ai vioras\n",
    "ユークリッドの原論における通約可能 (incommensurable) について"
   ]
  },
  {
   "cell_type": "code",
   "execution_count": 2,
   "id": "1354577d-2f4f-47e9-8479-30d9624344fc",
   "metadata": {},
   "outputs": [
    {
     "data": {
      "text/markdown": [
       "ユークリッドの「不可測」の概念は、現代の数学における「無理数」の概念へと発展しました。古代ギリシャの数学者たちは、数を全て有理数（分数）とみなしていました。しかし、ユークリッドの「不可測」の発見は、すべての数が有理数であるという考え方を覆しました。この発見は、数学者たちによる数の性質についての深い理解へとつながり、現代の実数の概念へと発展しました。\n",
       "\n",
       "さらに、無理数の存在は、数の連続性という重要な概念を導き出す触媒ともなりました。この概念は、微積分などの現代的な数学の分野で中心的な役割を果たしています。\n",
       "\n",
       "したがって、ユークリッドの「不可測」の概念は、現代数学の基礎を築く重要な一部となりました。"
      ],
      "text/plain": [
       "<IPython.core.display.Markdown object>"
      ]
     },
     "execution_count": 2,
     "metadata": {
      "text/markdown": {
       "jupyter_ai": {
        "custom_chain_id": "vioras"
       }
      }
     },
     "output_type": "execute_result"
    }
   ],
   "source": [
    "%%ai vioras\n",
    "その概念は現代にどう伝わりましたか？"
   ]
  },
  {
   "cell_type": "markdown",
   "id": "35c274d1",
   "metadata": {},
   "source": [
    "### 相加相乗平均"
   ]
  },
  {
   "cell_type": "markdown",
   "id": "fe9cb5d3",
   "metadata": {},
   "source": [
    "系) $(x-y)^2 \\geq 0$ なので、$(x+y)^2 - 4xy \\geq 0$ が成り立つ。これを次のように変形すると、相加相乗平均の公式が得られる。\n",
    "\n",
    "$$\n",
    "  \\begin{align}\n",
    "    \\frac{(x+y)^2}{4} &\\geq \\ xy \\\\\n",
    "    \\frac{x+y}{2} &\\geq \\sqrt{xy} \n",
    "  \\end{align}\n",
    "$$\n",
    "\n",
    "* [Inequality of arithmetic and geometric means - Wikipedia](https://en.wikipedia.org/wiki/Inequality_of_arithmetic_and_geometric_means)"
   ]
  },
  {
   "cell_type": "markdown",
   "id": "be3a41d4",
   "metadata": {},
   "source": [
    "## ピタゴラスの定理の証明の一つ"
   ]
  },
  {
   "cell_type": "markdown",
   "id": "5c899680",
   "metadata": {},
   "source": [
    "* [Pythagorean theorem - Wikipedia](https://en.wikipedia.org/wiki/Pythagorean_theorem)"
   ]
  },
  {
   "cell_type": "markdown",
   "id": "7ae1047c",
   "metadata": {},
   "source": [
    "$$\n",
    "  \\begin{align}\n",
    "    (a-b)^2+4\\frac{ab}{2} &= d^2 \\\\\n",
    "    a^2 + b^2 & = d^2\n",
    "  \\end{align}\n",
    "$$"
   ]
  },
  {
   "cell_type": "code",
   "execution_count": 2,
   "id": "a99b053e",
   "metadata": {
    "hide_input": true,
    "jupyter": {
     "source_hidden": true
    },
    "tags": [
     "remove-input"
    ]
   },
   "outputs": [
    {
     "data": {
      "image/png": "[encoded data removed]",
      "text/plain": [
       "<Figure size 640x480 with 1 Axes>"
      ]
     },
     "metadata": {},
     "output_type": "display_data"
    }
   ],
   "source": [
    "from matplotlib.patches import Polygon\n",
    "import matplotlib.pyplot as plt\n",
    "\n",
    "p00 = Polygon([(0,0), (3,0), (0,1), ], fill=False)\n",
    "p01 = Polygon([(3,0), (4,0), (4,3), ], fill=False)\n",
    "p02 = Polygon([(4,3), (4,4), (1,4), ], fill=False)\n",
    "p03 = Polygon([(1,4), (0,4), (0,1), ], fill=False)\n",
    "\n",
    "p10 = Polygon([(3,1), (3,0), (0,1), ], fill=True, alpha=0.3, edgecolor='b')\n",
    "p11 = Polygon([(3,0), (3,3), (4,3), ], fill=True, alpha=0.3, edgecolor='b')\n",
    "p12 = Polygon([(4,3), (1,3), (1,4), ], fill=True, alpha=0.3, edgecolor='b')\n",
    "p13 = Polygon([(1,4), (1,1), (0,1), ], fill=True, alpha=0.3, edgecolor='b')\n",
    "\n",
    "fig, ax = plt.subplots(1,1)\n",
    "\n",
    "ax.add_patch(p00)\n",
    "ax.add_patch(p01)\n",
    "ax.add_patch(p02)\n",
    "ax.add_patch(p03)\n",
    "ax.add_patch(p10)\n",
    "ax.add_patch(p11)\n",
    "ax.add_patch(p12)\n",
    "ax.add_patch(p13)\n",
    "ax.axis('equal')\n",
    "ax.set(xlim=(0,4),ylim=(-1,5))\n",
    "\n",
    "plt.text(1.7,1.3,'a - b')\n",
    "plt.text(1.1,0.3,'d')\n",
    "plt.text(1.5,-0.3,'a')\n",
    "plt.text(3.5,-0.3,'b')\n",
    "plt.text(-0.3,2.5,'a')\n",
    "plt.text(-0.3,0.5,'b')\n",
    "plt.show()"
   ]
  },
  {
   "cell_type": "markdown",
   "id": "5d4be155-e3b5-4fa2-af3e-dadbbfd57974",
   "metadata": {},
   "source": [
    "$a=b$のとき、$a-b = 0$なので、YBC7289の図形となる。"
   ]
  },
  {
   "cell_type": "code",
   "execution_count": null,
   "id": "5a8f3fb5-78b1-49c5-90b5-97957897cd87",
   "metadata": {},
   "outputs": [],
   "source": []
  }
 ],
 "metadata": {
  "celltoolbar": "Tags",
  "kernelspec": {
   "display_name": "Python 3 (ipykernel)",
   "language": "python",
   "name": "python3"
  },
  "language_info": {
   "codemirror_mode": {
    "name": "ipython",
    "version": 3
   },
   "file_extension": ".py",
   "mimetype": "text/x-python",
   "name": "python",
   "nbconvert_exporter": "python",
   "pygments_lexer": "ipython3",
   "version": "3.11.8"
  },
  "toc": {
   "base_numbering": 1,
   "nav_menu": {},
   "number_sections": true,
   "sideBar": true,
   "skip_h1_title": false,
   "title_cell": "Table of Contents",
   "title_sidebar": "Contents",
   "toc_cell": false,
   "toc_position": {},
   "toc_section_display": true,
   "toc_window_display": false
  }
 },
 "nbformat": 4,
 "nbformat_minor": 5
}
