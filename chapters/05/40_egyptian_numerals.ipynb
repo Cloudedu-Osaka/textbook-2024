{
 "cells": [
  {
   "cell_type": "markdown",
   "id": "30a3563d-524f-45c1-a1f2-bb63b156e656",
   "metadata": {},
   "source": [
    "# エジプト数字に変換する"
   ]
  },
  {
   "cell_type": "code",
   "execution_count": 2,
   "id": "d8edca9d-8c56-4374-9ae5-3edb22bc00d2",
   "metadata": {
    "tags": []
   },
   "outputs": [
    {
     "data": {
      "text/markdown": [
       "ロゼッタストーンとベヒストゥン碑文は、古代の言語を解読するための重要な手がかりとなった記念碑です。\n",
       "\n",
       "**ロゼッタストーン**\n",
       "\n",
       "ロゼッタストーンは、紀元前196年のエジプト、プトレマイオス5世の時代の碑文です。この碑文は、古代エジプトのヒエログリフ、デモティック（エジプトの民間文書で使われた書体）、ギリシャ語の3つの言語・文字体系で書かれています。すべて同じ内容を伝えています。この3つの言語が同じ内容を伝える形で記されていることから、比較研究が可能となり、古代エジプトのヒエログリフが解読されるきっかけとなりました。この碑文は、フランスのナポレオン・ボナパルトがエジプトを侵略した際に発見され、現在はイギリスの大英博物館に収蔵されています。\n",
       "\n",
       "**ベヒストゥン碑文**\n",
       "\n",
       "ベヒストゥン碑文は、紀元前520年ごろのペルシアのダレイオス1世の時代の碑文です。この碑文は、バビロニアの楔形文字、エラム語（古代イランの言語）、古代ペルシャ語の3つの言語・文字体系で書かれています。すべて同じ内容を伝えています。これも3つの言語が同じ内容を伝える形で記されていることから、比較研究が可能となり、古代ペルシャ語の楔形文字が解読されるきっかけとなりました。この碑文は、イランのベヒストゥン山に刻まれており、現地で見ることができます。\n",
       "\n",
       "これらの碑文を通じて、古代の言語が解読され、歴史研究や言語学研究に大きな進歩をもたらしました。"
      ],
      "text/plain": [
       "<IPython.core.display.Markdown object>"
      ]
     },
     "execution_count": 2,
     "metadata": {
      "text/markdown": {
       "jupyter_ai": {
        "custom_chain_id": "vioras"
       }
      }
     },
     "output_type": "execute_result"
    }
   ],
   "source": [
    "%%ai vioras\n",
    "ロゼッタストーンとベヒストゥン碑文について"
   ]
  },
  {
   "cell_type": "markdown",
   "id": "32282ed3-e592-4f20-a254-bdf774e99a09",
   "metadata": {},
   "source": [
    "* [Rosetta Stone - Wikipedia](https://en.wikipedia.org/wiki/Rosetta_Stone)\n",
    "    - Created: 196 BC\n",
    "    - Discovered: 1779\n",
    "    - Location: Egypt\n",
    "    - Languages:\n",
    "        - [Egyptian hieroglyphs - Wikipedia](https://en.wikipedia.org/wiki/Egyptian_hieroglyphs)\n",
    "        - [Demotic (Egyptian) - Wikipedia](https://en.wikipedia.org/wiki/Demotic_%28Egyptian%29)\n",
    "        - [Ancient Greek - Wikipedia](https://en.wikipedia.org/wiki/Ancient_Greek)\n",
    "* [Behistun Inscription - Wikipedia](https://en.wikipedia.org/wiki/Behistun_Inscription)\n",
    "    - Created: c.520 BC\n",
    "    - Discovered: 1598\n",
    "    - Location: Iran\n",
    "    - Languages:\n",
    "        - [Old Persian - Wikipedia](https://en.wikipedia.org/wiki/Old_Persian)\n",
    "        - [Elamite language - Wikipedia](https://en.wikipedia.org/wiki/Elamite_language)\n",
    "        - [Akkadian language - Wikipedia](https://en.wikipedia.org/wiki/Akkadian_language)"
   ]
  },
  {
   "cell_type": "markdown",
   "id": "4b74c846",
   "metadata": {},
   "source": [
    "## WikipediaからUnicodeコードポイント表を読み込む"
   ]
  },
  {
   "cell_type": "markdown",
   "id": "50798aa6-3986-49c9-8766-20d2b5cf267d",
   "metadata": {},
   "source": [
    "* [Egyptian numerals - Wikipedia](https://en.wikipedia.org/wiki/Egyptian_numerals)\n",
    "    - [Sign-value notation - Wikipedia](https://en.wikipedia.org/wiki/Sign-value_notation)\n",
    "* [Egyptian Hieroglyphs (Unicode block) - Wikipedia](https://en.wikipedia.org/wiki/Egyptian_Hieroglyphs_%28Unicode_block%29)"
   ]
  },
  {
   "cell_type": "code",
   "execution_count": 5,
   "id": "72ed1a9c-86e3-4e77-86d2-3146e3bfa3aa",
   "metadata": {},
   "outputs": [
    {
     "name": "stdout",
     "output_type": "stream",
     "text": [
      "Collecting lxml\n",
      "  Downloading lxml-5.2.2-cp311-cp311-manylinux_2_28_x86_64.whl.metadata (3.4 kB)\n",
      "Downloading lxml-5.2.2-cp311-cp311-manylinux_2_28_x86_64.whl (5.0 MB)\n",
      "\u001b[2K   \u001b[90m━━━━━━━━━━━━━━━━━━━━━━━━━━━━━━━━━━━━━━━━\u001b[0m \u001b[32m5.0/5.0 MB\u001b[0m \u001b[31m62.2 MB/s\u001b[0m eta \u001b[36m0:00:00\u001b[0m:00:01\u001b[0m00:01\u001b[0m\n",
      "\u001b[?25hInstalling collected packages: lxml\n",
      "Successfully installed lxml-5.2.2\n"
     ]
    }
   ],
   "source": [
    "!pip install -U lxml"
   ]
  },
  {
   "cell_type": "code",
   "execution_count": 3,
   "id": "bfb7101f-bdfc-4589-ac86-168cd7133801",
   "metadata": {
    "tags": []
   },
   "outputs": [],
   "source": [
    "import pandas as pd"
   ]
  },
  {
   "cell_type": "code",
   "execution_count": 6,
   "id": "5e9d52c3-ebef-4d35-9581-dfca56833099",
   "metadata": {
    "tags": []
   },
   "outputs": [],
   "source": [
    "dfs = pd.read_html('https://en.wikipedia.org/wiki/Egyptian_Hieroglyphs_(Unicode_block)')"
   ]
  },
  {
   "cell_type": "code",
   "execution_count": 7,
   "id": "3a8b03ae-a38e-46f0-8f6b-9afb147bf577",
   "metadata": {
    "tags": []
   },
   "outputs": [
    {
     "data": {
      "text/html": [
       "<div>\n",
       "<style scoped>\n",
       "    .dataframe tbody tr th:only-of-type {\n",
       "        vertical-align: middle;\n",
       "    }\n",
       "\n",
       "    .dataframe tbody tr th {\n",
       "        vertical-align: top;\n",
       "    }\n",
       "\n",
       "    .dataframe thead th {\n",
       "        text-align: right;\n",
       "    }\n",
       "</style>\n",
       "<table border=\"1\" class=\"dataframe\">\n",
       "  <thead>\n",
       "    <tr style=\"text-align: right;\">\n",
       "      <th></th>\n",
       "      <th>0</th>\n",
       "      <th>1</th>\n",
       "      <th>2</th>\n",
       "      <th>3</th>\n",
       "      <th>4</th>\n",
       "      <th>5</th>\n",
       "      <th>6</th>\n",
       "      <th>7</th>\n",
       "      <th>8</th>\n",
       "      <th>9</th>\n",
       "      <th>10</th>\n",
       "      <th>11</th>\n",
       "      <th>12</th>\n",
       "      <th>13</th>\n",
       "      <th>14</th>\n",
       "      <th>15</th>\n",
       "      <th>16</th>\n",
       "    </tr>\n",
       "  </thead>\n",
       "  <tbody>\n",
       "    <tr>\n",
       "      <th>0</th>\n",
       "      <td>Egyptian Hieroglyphs[1] Official Unicode Conso...</td>\n",
       "      <td>Egyptian Hieroglyphs[1] Official Unicode Conso...</td>\n",
       "      <td>Egyptian Hieroglyphs[1] Official Unicode Conso...</td>\n",
       "      <td>Egyptian Hieroglyphs[1] Official Unicode Conso...</td>\n",
       "      <td>Egyptian Hieroglyphs[1] Official Unicode Conso...</td>\n",
       "      <td>Egyptian Hieroglyphs[1] Official Unicode Conso...</td>\n",
       "      <td>Egyptian Hieroglyphs[1] Official Unicode Conso...</td>\n",
       "      <td>Egyptian Hieroglyphs[1] Official Unicode Conso...</td>\n",
       "      <td>Egyptian Hieroglyphs[1] Official Unicode Conso...</td>\n",
       "      <td>Egyptian Hieroglyphs[1] Official Unicode Conso...</td>\n",
       "      <td>Egyptian Hieroglyphs[1] Official Unicode Conso...</td>\n",
       "      <td>Egyptian Hieroglyphs[1] Official Unicode Conso...</td>\n",
       "      <td>Egyptian Hieroglyphs[1] Official Unicode Conso...</td>\n",
       "      <td>Egyptian Hieroglyphs[1] Official Unicode Conso...</td>\n",
       "      <td>Egyptian Hieroglyphs[1] Official Unicode Conso...</td>\n",
       "      <td>Egyptian Hieroglyphs[1] Official Unicode Conso...</td>\n",
       "      <td>Egyptian Hieroglyphs[1] Official Unicode Conso...</td>\n",
       "    </tr>\n",
       "    <tr>\n",
       "      <th>1</th>\n",
       "      <td>NaN</td>\n",
       "      <td>0</td>\n",
       "      <td>1</td>\n",
       "      <td>2</td>\n",
       "      <td>3</td>\n",
       "      <td>4</td>\n",
       "      <td>5</td>\n",
       "      <td>6</td>\n",
       "      <td>7</td>\n",
       "      <td>8</td>\n",
       "      <td>9</td>\n",
       "      <td>A</td>\n",
       "      <td>B</td>\n",
       "      <td>C</td>\n",
       "      <td>D</td>\n",
       "      <td>E</td>\n",
       "      <td>F</td>\n",
       "    </tr>\n",
       "    <tr>\n",
       "      <th>2</th>\n",
       "      <td>U+1300x</td>\n",
       "      <td>𓀀</td>\n",
       "      <td>𓀁</td>\n",
       "      <td>𓀂</td>\n",
       "      <td>𓀃</td>\n",
       "      <td>𓀄</td>\n",
       "      <td>𓀅</td>\n",
       "      <td>𓀆</td>\n",
       "      <td>𓀇</td>\n",
       "      <td>𓀈</td>\n",
       "      <td>𓀉</td>\n",
       "      <td>𓀊</td>\n",
       "      <td>𓀋</td>\n",
       "      <td>𓀌</td>\n",
       "      <td>𓀍</td>\n",
       "      <td>𓀎</td>\n",
       "      <td>𓀏</td>\n",
       "    </tr>\n",
       "    <tr>\n",
       "      <th>3</th>\n",
       "      <td>U+1301x</td>\n",
       "      <td>𓀐</td>\n",
       "      <td>𓀑</td>\n",
       "      <td>𓀒</td>\n",
       "      <td>𓀓</td>\n",
       "      <td>𓀔</td>\n",
       "      <td>𓀕</td>\n",
       "      <td>𓀖</td>\n",
       "      <td>𓀗</td>\n",
       "      <td>𓀘</td>\n",
       "      <td>𓀙</td>\n",
       "      <td>𓀚</td>\n",
       "      <td>𓀛</td>\n",
       "      <td>𓀜</td>\n",
       "      <td>𓀝</td>\n",
       "      <td>𓀞</td>\n",
       "      <td>𓀟</td>\n",
       "    </tr>\n",
       "    <tr>\n",
       "      <th>4</th>\n",
       "      <td>U+1302x</td>\n",
       "      <td>𓀠</td>\n",
       "      <td>𓀡</td>\n",
       "      <td>𓀢</td>\n",
       "      <td>𓀣</td>\n",
       "      <td>𓀤</td>\n",
       "      <td>𓀥</td>\n",
       "      <td>𓀦</td>\n",
       "      <td>𓀧</td>\n",
       "      <td>𓀨</td>\n",
       "      <td>𓀩</td>\n",
       "      <td>𓀪</td>\n",
       "      <td>𓀫</td>\n",
       "      <td>𓀬</td>\n",
       "      <td>𓀭</td>\n",
       "      <td>𓀮</td>\n",
       "      <td>𓀯</td>\n",
       "    </tr>\n",
       "    <tr>\n",
       "      <th>...</th>\n",
       "      <td>...</td>\n",
       "      <td>...</td>\n",
       "      <td>...</td>\n",
       "      <td>...</td>\n",
       "      <td>...</td>\n",
       "      <td>...</td>\n",
       "      <td>...</td>\n",
       "      <td>...</td>\n",
       "      <td>...</td>\n",
       "      <td>...</td>\n",
       "      <td>...</td>\n",
       "      <td>...</td>\n",
       "      <td>...</td>\n",
       "      <td>...</td>\n",
       "      <td>...</td>\n",
       "      <td>...</td>\n",
       "      <td>...</td>\n",
       "    </tr>\n",
       "    <tr>\n",
       "      <th>65</th>\n",
       "      <td>U+133Fx</td>\n",
       "      <td>𓏰</td>\n",
       "      <td>𓏱</td>\n",
       "      <td>𓏲</td>\n",
       "      <td>𓏳</td>\n",
       "      <td>𓏴</td>\n",
       "      <td>𓏵</td>\n",
       "      <td>𓏶</td>\n",
       "      <td>𓏷</td>\n",
       "      <td>𓏸</td>\n",
       "      <td>𓏹</td>\n",
       "      <td>𓏺</td>\n",
       "      <td>𓏻</td>\n",
       "      <td>𓏼</td>\n",
       "      <td>𓏽</td>\n",
       "      <td>𓏾</td>\n",
       "      <td>𓏿</td>\n",
       "    </tr>\n",
       "    <tr>\n",
       "      <th>66</th>\n",
       "      <td>U+1340x</td>\n",
       "      <td>𓐀</td>\n",
       "      <td>𓐁</td>\n",
       "      <td>𓐂</td>\n",
       "      <td>𓐃</td>\n",
       "      <td>𓐄</td>\n",
       "      <td>𓐅</td>\n",
       "      <td>𓐆</td>\n",
       "      <td>𓐇</td>\n",
       "      <td>𓐈</td>\n",
       "      <td>𓐉</td>\n",
       "      <td>𓐊</td>\n",
       "      <td>𓐋</td>\n",
       "      <td>𓐌</td>\n",
       "      <td>𓐍</td>\n",
       "      <td>𓐎</td>\n",
       "      <td>𓐏</td>\n",
       "    </tr>\n",
       "    <tr>\n",
       "      <th>67</th>\n",
       "      <td>U+1341x</td>\n",
       "      <td>𓐐</td>\n",
       "      <td>𓐑</td>\n",
       "      <td>𓐒</td>\n",
       "      <td>𓐓</td>\n",
       "      <td>𓐔</td>\n",
       "      <td>𓐕</td>\n",
       "      <td>𓐖</td>\n",
       "      <td>𓐗</td>\n",
       "      <td>𓐘</td>\n",
       "      <td>𓐙</td>\n",
       "      <td>𓐚</td>\n",
       "      <td>𓐛</td>\n",
       "      <td>𓐜</td>\n",
       "      <td>𓐝</td>\n",
       "      <td>𓐞</td>\n",
       "      <td>𓐟</td>\n",
       "    </tr>\n",
       "    <tr>\n",
       "      <th>68</th>\n",
       "      <td>U+1342x</td>\n",
       "      <td>𓐠</td>\n",
       "      <td>𓐡</td>\n",
       "      <td>𓐢</td>\n",
       "      <td>𓐣</td>\n",
       "      <td>𓐤</td>\n",
       "      <td>𓐥</td>\n",
       "      <td>𓐦</td>\n",
       "      <td>𓐧</td>\n",
       "      <td>𓐨</td>\n",
       "      <td>𓐩</td>\n",
       "      <td>𓐪</td>\n",
       "      <td>𓐫</td>\n",
       "      <td>𓐬</td>\n",
       "      <td>𓐭</td>\n",
       "      <td>𓐮</td>\n",
       "      <td>𓐯</td>\n",
       "    </tr>\n",
       "    <tr>\n",
       "      <th>69</th>\n",
       "      <td>Notes 1.^ As of Unicode version 15.1</td>\n",
       "      <td>Notes 1.^ As of Unicode version 15.1</td>\n",
       "      <td>Notes 1.^ As of Unicode version 15.1</td>\n",
       "      <td>Notes 1.^ As of Unicode version 15.1</td>\n",
       "      <td>Notes 1.^ As of Unicode version 15.1</td>\n",
       "      <td>Notes 1.^ As of Unicode version 15.1</td>\n",
       "      <td>Notes 1.^ As of Unicode version 15.1</td>\n",
       "      <td>Notes 1.^ As of Unicode version 15.1</td>\n",
       "      <td>Notes 1.^ As of Unicode version 15.1</td>\n",
       "      <td>Notes 1.^ As of Unicode version 15.1</td>\n",
       "      <td>Notes 1.^ As of Unicode version 15.1</td>\n",
       "      <td>Notes 1.^ As of Unicode version 15.1</td>\n",
       "      <td>Notes 1.^ As of Unicode version 15.1</td>\n",
       "      <td>Notes 1.^ As of Unicode version 15.1</td>\n",
       "      <td>Notes 1.^ As of Unicode version 15.1</td>\n",
       "      <td>Notes 1.^ As of Unicode version 15.1</td>\n",
       "      <td>Notes 1.^ As of Unicode version 15.1</td>\n",
       "    </tr>\n",
       "  </tbody>\n",
       "</table>\n",
       "<p>70 rows × 17 columns</p>\n",
       "</div>"
      ],
      "text/plain": [
       "                                                   0   \\\n",
       "0   Egyptian Hieroglyphs[1] Official Unicode Conso...   \n",
       "1                                                 NaN   \n",
       "2                                             U+1300x   \n",
       "3                                             U+1301x   \n",
       "4                                             U+1302x   \n",
       "..                                                ...   \n",
       "65                                            U+133Fx   \n",
       "66                                            U+1340x   \n",
       "67                                            U+1341x   \n",
       "68                                            U+1342x   \n",
       "69               Notes 1.^ As of Unicode version 15.1   \n",
       "\n",
       "                                                   1   \\\n",
       "0   Egyptian Hieroglyphs[1] Official Unicode Conso...   \n",
       "1                                                   0   \n",
       "2                                                   𓀀   \n",
       "3                                                   𓀐   \n",
       "4                                                   𓀠   \n",
       "..                                                ...   \n",
       "65                                                  𓏰   \n",
       "66                                                  𓐀   \n",
       "67                                                  𓐐   \n",
       "68                                                  𓐠   \n",
       "69               Notes 1.^ As of Unicode version 15.1   \n",
       "\n",
       "                                                   2   \\\n",
       "0   Egyptian Hieroglyphs[1] Official Unicode Conso...   \n",
       "1                                                   1   \n",
       "2                                                   𓀁   \n",
       "3                                                   𓀑   \n",
       "4                                                   𓀡   \n",
       "..                                                ...   \n",
       "65                                                  𓏱   \n",
       "66                                                  𓐁   \n",
       "67                                                  𓐑   \n",
       "68                                                  𓐡   \n",
       "69               Notes 1.^ As of Unicode version 15.1   \n",
       "\n",
       "                                                   3   \\\n",
       "0   Egyptian Hieroglyphs[1] Official Unicode Conso...   \n",
       "1                                                   2   \n",
       "2                                                   𓀂   \n",
       "3                                                   𓀒   \n",
       "4                                                   𓀢   \n",
       "..                                                ...   \n",
       "65                                                  𓏲   \n",
       "66                                                  𓐂   \n",
       "67                                                  𓐒   \n",
       "68                                                  𓐢   \n",
       "69               Notes 1.^ As of Unicode version 15.1   \n",
       "\n",
       "                                                   4   \\\n",
       "0   Egyptian Hieroglyphs[1] Official Unicode Conso...   \n",
       "1                                                   3   \n",
       "2                                                   𓀃   \n",
       "3                                                   𓀓   \n",
       "4                                                   𓀣   \n",
       "..                                                ...   \n",
       "65                                                  𓏳   \n",
       "66                                                  𓐃   \n",
       "67                                                  𓐓   \n",
       "68                                                  𓐣   \n",
       "69               Notes 1.^ As of Unicode version 15.1   \n",
       "\n",
       "                                                   5   \\\n",
       "0   Egyptian Hieroglyphs[1] Official Unicode Conso...   \n",
       "1                                                   4   \n",
       "2                                                   𓀄   \n",
       "3                                                   𓀔   \n",
       "4                                                   𓀤   \n",
       "..                                                ...   \n",
       "65                                                  𓏴   \n",
       "66                                                  𓐄   \n",
       "67                                                  𓐔   \n",
       "68                                                  𓐤   \n",
       "69               Notes 1.^ As of Unicode version 15.1   \n",
       "\n",
       "                                                   6   \\\n",
       "0   Egyptian Hieroglyphs[1] Official Unicode Conso...   \n",
       "1                                                   5   \n",
       "2                                                   𓀅   \n",
       "3                                                   𓀕   \n",
       "4                                                   𓀥   \n",
       "..                                                ...   \n",
       "65                                                  𓏵   \n",
       "66                                                  𓐅   \n",
       "67                                                  𓐕   \n",
       "68                                                  𓐥   \n",
       "69               Notes 1.^ As of Unicode version 15.1   \n",
       "\n",
       "                                                   7   \\\n",
       "0   Egyptian Hieroglyphs[1] Official Unicode Conso...   \n",
       "1                                                   6   \n",
       "2                                                   𓀆   \n",
       "3                                                   𓀖   \n",
       "4                                                   𓀦   \n",
       "..                                                ...   \n",
       "65                                                  𓏶   \n",
       "66                                                  𓐆   \n",
       "67                                                  𓐖   \n",
       "68                                                  𓐦   \n",
       "69               Notes 1.^ As of Unicode version 15.1   \n",
       "\n",
       "                                                   8   \\\n",
       "0   Egyptian Hieroglyphs[1] Official Unicode Conso...   \n",
       "1                                                   7   \n",
       "2                                                   𓀇   \n",
       "3                                                   𓀗   \n",
       "4                                                   𓀧   \n",
       "..                                                ...   \n",
       "65                                                  𓏷   \n",
       "66                                                  𓐇   \n",
       "67                                                  𓐗   \n",
       "68                                                  𓐧   \n",
       "69               Notes 1.^ As of Unicode version 15.1   \n",
       "\n",
       "                                                   9   \\\n",
       "0   Egyptian Hieroglyphs[1] Official Unicode Conso...   \n",
       "1                                                   8   \n",
       "2                                                   𓀈   \n",
       "3                                                   𓀘   \n",
       "4                                                   𓀨   \n",
       "..                                                ...   \n",
       "65                                                  𓏸   \n",
       "66                                                  𓐈   \n",
       "67                                                  𓐘   \n",
       "68                                                  𓐨   \n",
       "69               Notes 1.^ As of Unicode version 15.1   \n",
       "\n",
       "                                                   10  \\\n",
       "0   Egyptian Hieroglyphs[1] Official Unicode Conso...   \n",
       "1                                                   9   \n",
       "2                                                   𓀉   \n",
       "3                                                   𓀙   \n",
       "4                                                   𓀩   \n",
       "..                                                ...   \n",
       "65                                                  𓏹   \n",
       "66                                                  𓐉   \n",
       "67                                                  𓐙   \n",
       "68                                                  𓐩   \n",
       "69               Notes 1.^ As of Unicode version 15.1   \n",
       "\n",
       "                                                   11  \\\n",
       "0   Egyptian Hieroglyphs[1] Official Unicode Conso...   \n",
       "1                                                   A   \n",
       "2                                                   𓀊   \n",
       "3                                                   𓀚   \n",
       "4                                                   𓀪   \n",
       "..                                                ...   \n",
       "65                                                  𓏺   \n",
       "66                                                  𓐊   \n",
       "67                                                  𓐚   \n",
       "68                                                  𓐪   \n",
       "69               Notes 1.^ As of Unicode version 15.1   \n",
       "\n",
       "                                                   12  \\\n",
       "0   Egyptian Hieroglyphs[1] Official Unicode Conso...   \n",
       "1                                                   B   \n",
       "2                                                   𓀋   \n",
       "3                                                   𓀛   \n",
       "4                                                   𓀫   \n",
       "..                                                ...   \n",
       "65                                                  𓏻   \n",
       "66                                                  𓐋   \n",
       "67                                                  𓐛   \n",
       "68                                                  𓐫   \n",
       "69               Notes 1.^ As of Unicode version 15.1   \n",
       "\n",
       "                                                   13  \\\n",
       "0   Egyptian Hieroglyphs[1] Official Unicode Conso...   \n",
       "1                                                   C   \n",
       "2                                                   𓀌   \n",
       "3                                                   𓀜   \n",
       "4                                                   𓀬   \n",
       "..                                                ...   \n",
       "65                                                  𓏼   \n",
       "66                                                  𓐌   \n",
       "67                                                  𓐜   \n",
       "68                                                  𓐬   \n",
       "69               Notes 1.^ As of Unicode version 15.1   \n",
       "\n",
       "                                                   14  \\\n",
       "0   Egyptian Hieroglyphs[1] Official Unicode Conso...   \n",
       "1                                                   D   \n",
       "2                                                   𓀍   \n",
       "3                                                   𓀝   \n",
       "4                                                   𓀭   \n",
       "..                                                ...   \n",
       "65                                                  𓏽   \n",
       "66                                                  𓐍   \n",
       "67                                                  𓐝   \n",
       "68                                                  𓐭   \n",
       "69               Notes 1.^ As of Unicode version 15.1   \n",
       "\n",
       "                                                   15  \\\n",
       "0   Egyptian Hieroglyphs[1] Official Unicode Conso...   \n",
       "1                                                   E   \n",
       "2                                                   𓀎   \n",
       "3                                                   𓀞   \n",
       "4                                                   𓀮   \n",
       "..                                                ...   \n",
       "65                                                  𓏾   \n",
       "66                                                  𓐎   \n",
       "67                                                  𓐞   \n",
       "68                                                  𓐮   \n",
       "69               Notes 1.^ As of Unicode version 15.1   \n",
       "\n",
       "                                                   16  \n",
       "0   Egyptian Hieroglyphs[1] Official Unicode Conso...  \n",
       "1                                                   F  \n",
       "2                                                   𓀏  \n",
       "3                                                   𓀟  \n",
       "4                                                   𓀯  \n",
       "..                                                ...  \n",
       "65                                                  𓏿  \n",
       "66                                                  𓐏  \n",
       "67                                                  𓐟  \n",
       "68                                                  𓐯  \n",
       "69               Notes 1.^ As of Unicode version 15.1  \n",
       "\n",
       "[70 rows x 17 columns]"
      ]
     },
     "execution_count": 7,
     "metadata": {},
     "output_type": "execute_result"
    }
   ],
   "source": [
    "dfs[1]"
   ]
  },
  {
   "cell_type": "markdown",
   "id": "fe2f581d-61e5-45ae-90e3-6c3351937440",
   "metadata": {},
   "source": [
    "### Pandasのテーブルの参照"
   ]
  },
  {
   "cell_type": "code",
   "execution_count": 9,
   "id": "49285f0c-2845-4c22-948c-cc947c52f16c",
   "metadata": {
    "tags": []
   },
   "outputs": [
    {
     "data": {
      "text/markdown": [
       "Pandasのデータフレームから特定の行と列のデータを参照するには、`iloc`や`at`を使用できます。\n",
       "\n",
       "例えば、`dataframe`という名前のデータフレームがあり、その中からx行目y列のデータを取り出したいとすると、以下のようにします：\n",
       "\n",
       "```python\n",
       "# ilocを使用する場合\n",
       "value = dataframe.iloc[x-1, y-1]  # 行と列は0から始まるので、1を引く。\n",
       "\n",
       "# atを使用する場合\n",
       "row_label = dataframe.index[x-1]  # 行ラベルを取得\n",
       "column_label = dataframe.columns[y-1]  # 列ラベルを取得\n",
       "value = dataframe.at[row_label, column_label]  # 行ラベルと列ラベルを指定して値を取得\n",
       "```\n",
       "\n",
       "ここで、`x-1`と`y-1`を使用している理由は、Pythonではインデックスが0から始まるためです。したがって、\"1行目\"はPythonでは\"0行目\"になります。\n",
       "\n",
       "また、`at`メソッドは、特定の行と列のラベルを指定して値を取得するためのもので、`iloc`よりも高速に動作することが知られています。ただし、一度に一つのセルの値のみを取得できます。\n",
       "\n",
       "なお、これらの方法はデータフレームから値を参照するためのもので、値を変更するためには別の方法を使用する必要があります。"
      ],
      "text/plain": [
       "<IPython.core.display.Markdown object>"
      ]
     },
     "execution_count": 9,
     "metadata": {
      "text/markdown": {
       "jupyter_ai": {
        "custom_chain_id": "vioras"
       }
      }
     },
     "output_type": "execute_result"
    }
   ],
   "source": [
    "%%ai vioras\n",
    "pandasのデータフレームのx行目y列のデータを参照したい"
   ]
  },
  {
   "cell_type": "code",
   "execution_count": 15,
   "id": "23cd56ff-7585-4297-862e-a8c13ae7d375",
   "metadata": {
    "tags": []
   },
   "outputs": [
    {
     "data": {
      "text/markdown": [
       "Jupyterノートブックでは、アンダースコア `_` を使用して直前のセルの出力を参照することができます。例えば：\n",
       "\n",
       "```python\n",
       "3 + 4\n",
       "```\n",
       "\n",
       "上記のセルを実行すると、出力は `7` です。次のセルで `_` を使用すれば、その結果を引き続き使用することができます：\n",
       "\n",
       "```python\n",
       "print(_)  # これは '7' を出力します\n",
       "```\n",
       "\n",
       "一方、`_N`（`N` はセルの実行番号）を使用すると、特定のセルの出力を参照することもできます。例えば、2つ目のセルの出力を参照したい場合は、`_2` を使います。\n",
       "\n",
       "ただし、これらの方法はすべての種類の出力に対して機能するわけではないことに注意してください。具体的には、表示（`print`）関数を使用して出力した結果は参照できません。これらの方法は、セルの最後の行で評価された結果を参照します。"
      ],
      "text/plain": [
       "<IPython.core.display.Markdown object>"
      ]
     },
     "execution_count": 15,
     "metadata": {
      "text/markdown": {
       "jupyter_ai": {
        "custom_chain_id": "vioras"
       }
      }
     },
     "output_type": "execute_result"
    }
   ],
   "source": [
    "%%ai vioras\n",
    "jupyterで一個前のセルの出力を参照したい"
   ]
  },
  {
   "cell_type": "code",
   "execution_count": 32,
   "id": "530eea47-245a-4694-95ca-6be9daa4f646",
   "metadata": {
    "tags": []
   },
   "outputs": [
    {
     "data": {
      "text/plain": [
       "'𓏺'"
      ]
     },
     "execution_count": 32,
     "metadata": {},
     "output_type": "execute_result"
    }
   ],
   "source": [
    "dfs[1].iloc[65, 11]"
   ]
  },
  {
   "cell_type": "code",
   "execution_count": 33,
   "id": "bd39f22b-dfd6-4707-a84a-0faca82ec830",
   "metadata": {},
   "outputs": [
    {
     "data": {
      "text/plain": [
       "'𓏺'"
      ]
     },
     "execution_count": 33,
     "metadata": {},
     "output_type": "execute_result"
    }
   ],
   "source": [
    "_"
   ]
  },
  {
   "cell_type": "markdown",
   "id": "602bb547-00cd-46ad-96a7-8dc7e0eb9be8",
   "metadata": {},
   "source": [
    "### Unicodeコードポイントと文字表現の変換"
   ]
  },
  {
   "cell_type": "code",
   "execution_count": 54,
   "id": "84f76071-e105-485f-bed0-f2f0ad1f269a",
   "metadata": {
    "tags": []
   },
   "outputs": [
    {
     "data": {
      "text/markdown": [
       "Pythonでは、`ord()`関数と`hex()`関数を組み合わせて、文字列のUnicodeのコードポイントを16進数で表示することができます。`ord()`関数は文字のUnicodeコードポイントを取得し、`hex()`関数はその整数値を16進数の文字列に変換します。\n",
       "\n",
       "以下に例を示します：\n",
       "\n",
       "```python\n",
       "s = 'あ'\n",
       "codepoint = ord(s)\n",
       "hex_codepoint = hex(codepoint)\n",
       "print(hex_codepoint)\n",
       "```\n",
       "\n",
       "このコードは、Unicode文字 'あ' のコードポイントを16進数で表示します。\n",
       "\n",
       "複数の文字からなる文字列の各文字のコードポイントを16進数で表示するには、文字列をループで処理します：\n",
       "\n",
       "```python\n",
       "s = 'こんにちは'\n",
       "for char in s:\n",
       "    print(f'The hexadecimal codepoint of {char} is {hex(ord(char))}')\n",
       "```\n",
       "\n",
       "このコードは、文字列 'こんにちは' の各文字のUnicodeコードポイントを16進数で表示します。\n",
       "\n",
       "なお、`ord()`関数は単一のUnicode文字に対してのみ動作し、複数の文字からなる文字列を引数に取ることはできません。複数の文字からなる文字列のコードポイントを取得するには、文字列を一文字ずつ処理する必要があります。"
      ],
      "text/plain": [
       "<IPython.core.display.Markdown object>"
      ]
     },
     "execution_count": 54,
     "metadata": {
      "text/markdown": {
       "jupyter_ai": {
        "custom_chain_id": "vioras"
       }
      }
     },
     "output_type": "execute_result"
    }
   ],
   "source": [
    "%%ai vioras\n",
    "文字列のユニコードのコードポイントを16進数で表示したい"
   ]
  },
  {
   "cell_type": "code",
   "execution_count": 55,
   "id": "b75b6a82-809a-4fbb-9dd7-a6c2e434fcae",
   "metadata": {},
   "outputs": [
    {
     "name": "stdout",
     "output_type": "stream",
     "text": [
      "0x3042\n"
     ]
    }
   ],
   "source": [
    "s = 'あ'\n",
    "codepoint = ord(s)\n",
    "hex_codepoint = hex(codepoint)\n",
    "print(hex_codepoint)"
   ]
  },
  {
   "cell_type": "code",
   "execution_count": 36,
   "id": "977d6d93-40ae-4081-b6f3-ec1985b492a3",
   "metadata": {
    "tags": []
   },
   "outputs": [
    {
     "data": {
      "text/markdown": [
       "ユニコードエスケープされた文字列を表示するには、Pythonの組み込み関数である`chr()`と`format()`を使用できます。これにより、ユニコードのコードポイントを対応する文字に変換し、そのユニコードエスケープされた表現を得ることができます。\n",
       "\n",
       "たとえば、コードポイント`12354`（これは「あ」に対応します）をユニコードエスケープされた文字列で表示するには、以下のようにします：\n",
       "\n",
       "```python\n",
       "codepoint = 12354\n",
       "unicode_char = chr(codepoint)\n",
       "escaped_unicode_string = unicode_char.encode('unicode_escape').decode()\n",
       "print(escaped_unicode_string)\n",
       "```\n",
       "\n",
       "このコードは、コードポイント`12354`をユニコード文字「あ」に変換し、そのユニコードエスケープされた表現（`\\u3042`）を表示します。\n",
       "\n",
       "この方法では、任意のコードポイントをユニコードエスケープされた文字列に変換できます。"
      ],
      "text/plain": [
       "<IPython.core.display.Markdown object>"
      ]
     },
     "execution_count": 36,
     "metadata": {
      "text/markdown": {
       "jupyter_ai": {
        "custom_chain_id": "vioras"
       }
      }
     },
     "output_type": "execute_result"
    }
   ],
   "source": [
    "%%ai vioras\n",
    "コードポイントをユニコードエスケープされたraw文字列で表示する"
   ]
  },
  {
   "cell_type": "markdown",
   "id": "10907efb-3a30-4dd4-ba02-4feafda687d3",
   "metadata": {},
   "source": [
    "### それぞれの桁の最初の数をコードポイント表から探す"
   ]
  },
  {
   "cell_type": "markdown",
   "id": "35b14bdd-f0b3-4677-b312-e5378e4d7970",
   "metadata": {},
   "source": [
    "* [Egyptian numerals - Wikipedia](https://en.wikipedia.org/wiki/Egyptian_numerals)"
   ]
  },
  {
   "cell_type": "markdown",
   "id": "4b2e714f-430e-423f-9018-e1e184b141cf",
   "metadata": {},
   "source": [
    "#### 1"
   ]
  },
  {
   "cell_type": "code",
   "execution_count": 52,
   "id": "3bf2ef9d-2ed6-41ab-879c-9ca7dc8597ed",
   "metadata": {
    "tags": []
   },
   "outputs": [
    {
     "data": {
      "text/plain": [
       "'𓏺'"
      ]
     },
     "execution_count": 52,
     "metadata": {},
     "output_type": "execute_result"
    }
   ],
   "source": [
    "dfs[1].iloc[65, 11]"
   ]
  },
  {
   "cell_type": "code",
   "execution_count": 53,
   "id": "09bbd151-2728-493e-8521-1e6039d09b25",
   "metadata": {},
   "outputs": [
    {
     "data": {
      "text/plain": [
       "'0x133fa'"
      ]
     },
     "execution_count": 53,
     "metadata": {},
     "output_type": "execute_result"
    }
   ],
   "source": [
    "hex(ord(_))"
   ]
  },
  {
   "cell_type": "code",
   "execution_count": 38,
   "id": "a9a212b1-5ca5-4b14-9107-51d58f41b3f8",
   "metadata": {
    "tags": []
   },
   "outputs": [
    {
     "data": {
      "text/plain": [
       "b'\\\\U000133fa'"
      ]
     },
     "execution_count": 38,
     "metadata": {},
     "output_type": "execute_result"
    }
   ],
   "source": [
    "_.encode('unicode-escape')"
   ]
  },
  {
   "cell_type": "code",
   "execution_count": 39,
   "id": "1199a12f-d991-42ba-a901-9e0b6678eb8f",
   "metadata": {},
   "outputs": [
    {
     "data": {
      "text/plain": [
       "'\\\\U000133fa'"
      ]
     },
     "execution_count": 39,
     "metadata": {},
     "output_type": "execute_result"
    }
   ],
   "source": [
    "_.decode()"
   ]
  },
  {
   "cell_type": "code",
   "execution_count": 18,
   "id": "e7a652ef-c246-4215-8fa5-84323b0b26b4",
   "metadata": {
    "jupyter": {
     "source_hidden": true
    },
    "tags": []
   },
   "outputs": [
    {
     "data": {
      "text/plain": [
       "'𓏺'"
      ]
     },
     "execution_count": 18,
     "metadata": {},
     "output_type": "execute_result"
    }
   ],
   "source": [
    "u'\\U000133fa'"
   ]
  },
  {
   "cell_type": "markdown",
   "id": "04920d56-23f3-4152-ba94-2071ece8f0dd",
   "metadata": {},
   "source": [
    "#### 10"
   ]
  },
  {
   "cell_type": "code",
   "execution_count": 40,
   "id": "3a289cb2-5246-4de9-893a-bd9a7157d445",
   "metadata": {
    "tags": []
   },
   "outputs": [
    {
     "data": {
      "text/plain": [
       "'𓎆'"
      ]
     },
     "execution_count": 40,
     "metadata": {},
     "output_type": "execute_result"
    }
   ],
   "source": [
    "dfs[1].iloc[58, 7]"
   ]
  },
  {
   "cell_type": "code",
   "execution_count": 41,
   "id": "3368ba19-75c1-4993-848d-bbb7d64cc187",
   "metadata": {
    "tags": []
   },
   "outputs": [
    {
     "data": {
      "text/plain": [
       "b'\\\\U00013386'"
      ]
     },
     "execution_count": 41,
     "metadata": {},
     "output_type": "execute_result"
    }
   ],
   "source": [
    "_.encode('unicode-escape')"
   ]
  },
  {
   "cell_type": "markdown",
   "id": "fe880d0a-0296-4225-bb69-315cc5052329",
   "metadata": {},
   "source": [
    "#### 100"
   ]
  },
  {
   "cell_type": "code",
   "execution_count": 42,
   "id": "629af344-0ace-41b6-9f3e-ac8f2cec39da",
   "metadata": {
    "tags": []
   },
   "outputs": [
    {
     "data": {
      "text/plain": [
       "'𓍢'"
      ]
     },
     "execution_count": 42,
     "metadata": {},
     "output_type": "execute_result"
    }
   ],
   "source": [
    "dfs[1].iloc[56, 3]"
   ]
  },
  {
   "cell_type": "code",
   "execution_count": 43,
   "id": "0b595dcb-3dfd-4e91-8cfa-ded85539b419",
   "metadata": {
    "jupyter": {
     "source_hidden": true
    },
    "tags": []
   },
   "outputs": [
    {
     "data": {
      "text/plain": [
       "b'\\\\U00013362'"
      ]
     },
     "execution_count": 43,
     "metadata": {},
     "output_type": "execute_result"
    }
   ],
   "source": [
    "_.encode('unicode-escape')"
   ]
  },
  {
   "cell_type": "markdown",
   "id": "cbd982dd-6cbd-4f73-a192-afff0733bfa0",
   "metadata": {},
   "source": [
    "#### 1,000"
   ]
  },
  {
   "cell_type": "code",
   "execution_count": 44,
   "id": "2a24a51a-01da-4b93-aab2-a744e194bcea",
   "metadata": {
    "tags": []
   },
   "outputs": [
    {
     "data": {
      "text/plain": [
       "'𓆼'"
      ]
     },
     "execution_count": 44,
     "metadata": {},
     "output_type": "execute_result"
    }
   ],
   "source": [
    "dfs[1].iloc[29,13]"
   ]
  },
  {
   "cell_type": "code",
   "execution_count": 45,
   "id": "64bfc0cb-9842-4308-89fa-8613d508a13f",
   "metadata": {
    "tags": []
   },
   "outputs": [
    {
     "data": {
      "text/plain": [
       "b'\\\\U000131bc'"
      ]
     },
     "execution_count": 45,
     "metadata": {},
     "output_type": "execute_result"
    }
   ],
   "source": [
    "_.encode('unicode-escape')"
   ]
  },
  {
   "cell_type": "markdown",
   "id": "4fd7952f-c334-489e-aa37-7fc0cc9eb5be",
   "metadata": {},
   "source": [
    "#### 10,000"
   ]
  },
  {
   "cell_type": "code",
   "execution_count": 46,
   "id": "b0d0cced-fe0c-427c-a517-6d7d1ffa529a",
   "metadata": {
    "tags": []
   },
   "outputs": [
    {
     "data": {
      "text/plain": [
       "'𓂭'"
      ]
     },
     "execution_count": 46,
     "metadata": {},
     "output_type": "execute_result"
    }
   ],
   "source": [
    "dfs[1].iloc[12, 14]"
   ]
  },
  {
   "cell_type": "code",
   "execution_count": 47,
   "id": "2840dd1f-11ad-4f08-b3b8-c7e458f325e5",
   "metadata": {
    "tags": []
   },
   "outputs": [
    {
     "data": {
      "text/plain": [
       "b'\\\\U000130ad'"
      ]
     },
     "execution_count": 47,
     "metadata": {},
     "output_type": "execute_result"
    }
   ],
   "source": [
    "_.encode('unicode-escape')"
   ]
  },
  {
   "cell_type": "markdown",
   "id": "53d3ec10-87d9-40d0-b746-5e8fd8679fab",
   "metadata": {},
   "source": [
    "#### 100,000"
   ]
  },
  {
   "cell_type": "code",
   "execution_count": 48,
   "id": "72a40f73-ec8c-4101-9838-f3232c9fd5a6",
   "metadata": {
    "tags": []
   },
   "outputs": [
    {
     "data": {
      "text/plain": [
       "'𓆐'"
      ]
     },
     "execution_count": 48,
     "metadata": {},
     "output_type": "execute_result"
    }
   ],
   "source": [
    "dfs[1].iloc[27, 1]"
   ]
  },
  {
   "cell_type": "code",
   "execution_count": 49,
   "id": "38a7168d-2d77-4b24-b960-3237c6660794",
   "metadata": {
    "jupyter": {
     "source_hidden": true
    },
    "tags": []
   },
   "outputs": [
    {
     "data": {
      "text/plain": [
       "b'\\\\U00013190'"
      ]
     },
     "execution_count": 49,
     "metadata": {},
     "output_type": "execute_result"
    }
   ],
   "source": [
    "_.encode('unicode-escape')"
   ]
  },
  {
   "cell_type": "markdown",
   "id": "1b1de337-e2a4-4c1d-8e7c-596d5035dc6f",
   "metadata": {},
   "source": [
    "#### 1,000,000"
   ]
  },
  {
   "cell_type": "code",
   "execution_count": 50,
   "id": "3bcd0df3-474f-4c28-a5d9-dc7527958ba3",
   "metadata": {
    "tags": []
   },
   "outputs": [
    {
     "data": {
      "text/plain": [
       "'𓁨'"
      ]
     },
     "execution_count": 50,
     "metadata": {},
     "output_type": "execute_result"
    }
   ],
   "source": [
    "dfs[1].iloc[8, 9]"
   ]
  },
  {
   "cell_type": "code",
   "execution_count": 51,
   "id": "dce929d9-df93-46d3-89db-05a62bc735db",
   "metadata": {},
   "outputs": [
    {
     "data": {
      "text/plain": [
       "b'\\\\U00013068'"
      ]
     },
     "execution_count": 51,
     "metadata": {},
     "output_type": "execute_result"
    }
   ],
   "source": [
    "_.encode('unicode-escape')"
   ]
  },
  {
   "cell_type": "markdown",
   "id": "f7bcaeff-c868-42cb-9d08-697f026d9cee",
   "metadata": {},
   "source": [
    "## 10進数をエジプト数字に変換する"
   ]
  },
  {
   "cell_type": "code",
   "execution_count": 56,
   "id": "fd45049a-62d9-4ce7-a837-6365c6157e32",
   "metadata": {
    "tags": []
   },
   "outputs": [
    {
     "data": {
      "text/markdown": [
       "Pythonの`chr()`関数と`range()`関数を使うと、連続したUnicodeコードポイントの文字列を生成することができます。`chr()`関数はコードポイントを文字に変換し、`range()`関数は指定した範囲の連続した整数を生成します。\n",
       "\n",
       "例えば、ASCIIの英小文字（'a'から'z'）を列挙するには、以下のようにします：\n",
       "\n",
       "```python\n",
       "for codepoint in range(ord('a'), ord('z') + 1):\n",
       "    print(chr(codepoint), end=' ')\n",
       "```\n",
       "\n",
       "これは、'a'から'z'までの英小文字を空白で区切って表示します。`ord('a')`と`ord('z') + 1`は、それぞれ'a'と'z'のUnicodeコードポイントを取得します。`range()`関数は終点を含まないので、'z'を含めるためには終点に1を足す必要があります。\n",
       "\n",
       "また、任意の範囲のUnicode文字を列挙するには、コードポイントの範囲を直接指定します。例えば、ひらがな（Unicodeコードポイントは'3040'から'309F'）を列挙するには、以下のようにします：\n",
       "\n",
       "```python\n",
       "for codepoint in range(0x3040, 0x309F + 1):\n",
       "    print(chr(codepoint), end=' ')\n",
       "```\n",
       "\n",
       "これは、Unicodeコードポイントが'3040'から'309F'の範囲の文字を空白で区切って表示します。16進数の数値はPythonでは`0x`を前につけて表現します。"
      ],
      "text/plain": [
       "<IPython.core.display.Markdown object>"
      ]
     },
     "execution_count": 56,
     "metadata": {
      "text/markdown": {
       "jupyter_ai": {
        "custom_chain_id": "vioras"
       }
      }
     },
     "output_type": "execute_result"
    }
   ],
   "source": [
    "%%ai vioras\n",
    "コードポイントが連続した文字を列挙する方法"
   ]
  },
  {
   "cell_type": "code",
   "execution_count": 60,
   "id": "94f0d8ee-4675-4b6c-902e-6248f8ac2f66",
   "metadata": {
    "tags": []
   },
   "outputs": [],
   "source": [
    "egyptian_numerals = {}"
   ]
  },
  {
   "cell_type": "code",
   "execution_count": 61,
   "id": "a6342d7e",
   "metadata": {
    "tags": []
   },
   "outputs": [
    {
     "name": "stdout",
     "output_type": "stream",
     "text": [
      "0x133fa 𓏺\n",
      "0x133fb 𓏻\n",
      "0x133fc 𓏼\n",
      "0x133fd 𓏽\n",
      "0x133fe 𓏾\n",
      "0x133ff 𓏿\n",
      "0x13400 𓐀\n",
      "0x13401 𓐁\n",
      "0x13402 𓐂\n"
     ]
    }
   ],
   "source": [
    "for i in range(ord('\\U000133fa'), ord('\\U000133fa')+9):\n",
    "    print(hex(i), chr(i))"
   ]
  },
  {
   "cell_type": "code",
   "execution_count": 62,
   "id": "555b4e58",
   "metadata": {
    "tags": []
   },
   "outputs": [
    {
     "name": "stdout",
     "output_type": "stream",
     "text": [
      "1 𓏺\n",
      "2 𓏻\n",
      "3 𓏼\n",
      "4 𓏽\n",
      "5 𓏾\n",
      "6 𓏿\n",
      "7 𓐀\n",
      "8 𓐁\n",
      "9 𓐂\n"
     ]
    },
    {
     "data": {
      "text/plain": [
       "{1: '𓏺', 2: '𓏻', 3: '𓏼', 4: '𓏽', 5: '𓏾', 6: '𓏿', 7: '𓐀', 8: '𓐁', 9: '𓐂'}"
      ]
     },
     "execution_count": 62,
     "metadata": {},
     "output_type": "execute_result"
    }
   ],
   "source": [
    "for i in range(1, 10):\n",
    "    print(i, chr(ord('\\U000133fa')-1+i))\n",
    "    egyptian_numerals[i] = chr(ord('\\U000133fa')-1+i)\n",
    "egyptian_numerals"
   ]
  },
  {
   "cell_type": "code",
   "execution_count": 63,
   "id": "6197c0ab",
   "metadata": {
    "tags": []
   },
   "outputs": [
    {
     "name": "stdout",
     "output_type": "stream",
     "text": [
      "10 𓎆\n",
      "20 𓎇\n",
      "30 𓎈\n",
      "40 𓎉\n",
      "50 𓎊\n",
      "60 𓎋\n",
      "70 𓎌\n",
      "80 𓎍\n",
      "90 𓎎\n"
     ]
    },
    {
     "data": {
      "text/plain": [
       "{1: '𓏺',\n",
       " 2: '𓏻',\n",
       " 3: '𓏼',\n",
       " 4: '𓏽',\n",
       " 5: '𓏾',\n",
       " 6: '𓏿',\n",
       " 7: '𓐀',\n",
       " 8: '𓐁',\n",
       " 9: '𓐂',\n",
       " 10: '𓎆',\n",
       " 20: '𓎇',\n",
       " 30: '𓎈',\n",
       " 40: '𓎉',\n",
       " 50: '𓎊',\n",
       " 60: '𓎋',\n",
       " 70: '𓎌',\n",
       " 80: '𓎍',\n",
       " 90: '𓎎'}"
      ]
     },
     "execution_count": 63,
     "metadata": {},
     "output_type": "execute_result"
    }
   ],
   "source": [
    "for i in range(1, 10):\n",
    "    print(i*10, chr(ord('\\U00013386')-1+i))\n",
    "    egyptian_numerals[i*10] = chr(ord('\\U00013386')-1+i)\n",
    "egyptian_numerals"
   ]
  },
  {
   "cell_type": "code",
   "execution_count": 64,
   "id": "c5a38a35",
   "metadata": {
    "tags": []
   },
   "outputs": [
    {
     "name": "stdout",
     "output_type": "stream",
     "text": [
      "100 𓍢\n",
      "200 𓍣\n",
      "300 𓍤\n",
      "400 𓍥\n",
      "500 𓍦\n",
      "600 𓍧\n",
      "700 𓍨\n",
      "800 𓍩\n",
      "900 𓍪\n"
     ]
    },
    {
     "data": {
      "text/plain": [
       "{1: '𓏺',\n",
       " 2: '𓏻',\n",
       " 3: '𓏼',\n",
       " 4: '𓏽',\n",
       " 5: '𓏾',\n",
       " 6: '𓏿',\n",
       " 7: '𓐀',\n",
       " 8: '𓐁',\n",
       " 9: '𓐂',\n",
       " 10: '𓎆',\n",
       " 20: '𓎇',\n",
       " 30: '𓎈',\n",
       " 40: '𓎉',\n",
       " 50: '𓎊',\n",
       " 60: '𓎋',\n",
       " 70: '𓎌',\n",
       " 80: '𓎍',\n",
       " 90: '𓎎',\n",
       " 100: '𓍢',\n",
       " 200: '𓍣',\n",
       " 300: '𓍤',\n",
       " 400: '𓍥',\n",
       " 500: '𓍦',\n",
       " 600: '𓍧',\n",
       " 700: '𓍨',\n",
       " 800: '𓍩',\n",
       " 900: '𓍪'}"
      ]
     },
     "execution_count": 64,
     "metadata": {},
     "output_type": "execute_result"
    }
   ],
   "source": [
    "for i in range(1, 10):\n",
    "    print(i*100, chr(ord('\\U00013362')-1+i))\n",
    "    egyptian_numerals[i*100] = chr(ord('\\U00013362')-1+i)\n",
    "egyptian_numerals"
   ]
  },
  {
   "cell_type": "code",
   "execution_count": 65,
   "id": "b10150c0",
   "metadata": {
    "tags": []
   },
   "outputs": [
    {
     "name": "stdout",
     "output_type": "stream",
     "text": [
      "1000 𓆼\n",
      "2000 𓆽\n",
      "3000 𓆾\n",
      "4000 𓆿\n",
      "5000 𓇀\n",
      "6000 𓇁\n",
      "7000 𓇂\n",
      "8000 𓇃\n",
      "9000 𓇄\n"
     ]
    },
    {
     "data": {
      "text/plain": [
       "{1: '𓏺',\n",
       " 2: '𓏻',\n",
       " 3: '𓏼',\n",
       " 4: '𓏽',\n",
       " 5: '𓏾',\n",
       " 6: '𓏿',\n",
       " 7: '𓐀',\n",
       " 8: '𓐁',\n",
       " 9: '𓐂',\n",
       " 10: '𓎆',\n",
       " 20: '𓎇',\n",
       " 30: '𓎈',\n",
       " 40: '𓎉',\n",
       " 50: '𓎊',\n",
       " 60: '𓎋',\n",
       " 70: '𓎌',\n",
       " 80: '𓎍',\n",
       " 90: '𓎎',\n",
       " 100: '𓍢',\n",
       " 200: '𓍣',\n",
       " 300: '𓍤',\n",
       " 400: '𓍥',\n",
       " 500: '𓍦',\n",
       " 600: '𓍧',\n",
       " 700: '𓍨',\n",
       " 800: '𓍩',\n",
       " 900: '𓍪',\n",
       " 1000: '𓆼',\n",
       " 2000: '𓆽',\n",
       " 3000: '𓆾',\n",
       " 4000: '𓆿',\n",
       " 5000: '𓇀',\n",
       " 6000: '𓇁',\n",
       " 7000: '𓇂',\n",
       " 8000: '𓇃',\n",
       " 9000: '𓇄'}"
      ]
     },
     "execution_count": 65,
     "metadata": {},
     "output_type": "execute_result"
    }
   ],
   "source": [
    "for i in range(1, 10):\n",
    "    print(i*1000, chr(ord('\\U000131bc')-1+i))\n",
    "    egyptian_numerals[i*1000] = chr(ord('\\U000131bc')-1+i)\n",
    "egyptian_numerals"
   ]
  },
  {
   "cell_type": "code",
   "execution_count": 66,
   "id": "5fc48c90-0eb6-45ec-8394-a6cff7ac0b37",
   "metadata": {
    "tags": []
   },
   "outputs": [
    {
     "name": "stdout",
     "output_type": "stream",
     "text": [
      "10000 𓂭\n",
      "20000 𓂮\n",
      "30000 𓂯\n",
      "40000 𓂰\n",
      "50000 𓂱\n",
      "60000 𓂲\n",
      "70000 𓂳\n",
      "80000 𓂴\n",
      "90000 𓂵\n"
     ]
    },
    {
     "data": {
      "text/plain": [
       "{1: '𓏺',\n",
       " 2: '𓏻',\n",
       " 3: '𓏼',\n",
       " 4: '𓏽',\n",
       " 5: '𓏾',\n",
       " 6: '𓏿',\n",
       " 7: '𓐀',\n",
       " 8: '𓐁',\n",
       " 9: '𓐂',\n",
       " 10: '𓎆',\n",
       " 20: '𓎇',\n",
       " 30: '𓎈',\n",
       " 40: '𓎉',\n",
       " 50: '𓎊',\n",
       " 60: '𓎋',\n",
       " 70: '𓎌',\n",
       " 80: '𓎍',\n",
       " 90: '𓎎',\n",
       " 100: '𓍢',\n",
       " 200: '𓍣',\n",
       " 300: '𓍤',\n",
       " 400: '𓍥',\n",
       " 500: '𓍦',\n",
       " 600: '𓍧',\n",
       " 700: '𓍨',\n",
       " 800: '𓍩',\n",
       " 900: '𓍪',\n",
       " 1000: '𓆼',\n",
       " 2000: '𓆽',\n",
       " 3000: '𓆾',\n",
       " 4000: '𓆿',\n",
       " 5000: '𓇀',\n",
       " 6000: '𓇁',\n",
       " 7000: '𓇂',\n",
       " 8000: '𓇃',\n",
       " 9000: '𓇄',\n",
       " 10000: '𓂭',\n",
       " 20000: '𓂮',\n",
       " 30000: '𓂯',\n",
       " 40000: '𓂰',\n",
       " 50000: '𓂱',\n",
       " 60000: '𓂲',\n",
       " 70000: '𓂳',\n",
       " 80000: '𓂴',\n",
       " 90000: '𓂵'}"
      ]
     },
     "execution_count": 66,
     "metadata": {},
     "output_type": "execute_result"
    }
   ],
   "source": [
    "for i in range(1, 10):\n",
    "    print(i*10000, chr(ord('\\U000130ad')-1+i))\n",
    "    egyptian_numerals[i*10000] = chr(ord('\\U000130ad')-1+i)\n",
    "egyptian_numerals"
   ]
  },
  {
   "cell_type": "code",
   "execution_count": 67,
   "id": "9cc80ced-6cb1-448f-8d25-0d439e6054b8",
   "metadata": {
    "tags": []
   },
   "outputs": [],
   "source": [
    "def decimal_to_egyptian(num):\n",
    "    result = ''\n",
    "    for value in sorted(egyptian_numerals.keys(), reverse=True):\n",
    "        while num >= value:\n",
    "            result += egyptian_numerals[value]\n",
    "            num -= value\n",
    "    return result"
   ]
  },
  {
   "cell_type": "code",
   "execution_count": 68,
   "id": "c900c393-46c8-46d0-ad5a-958f1619c3ab",
   "metadata": {
    "tags": []
   },
   "outputs": [
    {
     "data": {
      "text/plain": [
       "'𓆿𓍧𓎇𓏻'"
      ]
     },
     "execution_count": 68,
     "metadata": {},
     "output_type": "execute_result"
    }
   ],
   "source": [
    "decimal_to_egyptian(4622)"
   ]
  },
  {
   "cell_type": "markdown",
   "id": "d34274e2-ab94-4f1d-b0ce-308dc0fdd5a0",
   "metadata": {},
   "source": [
    "* [Egyptian numerals - Wikipedia](https://en.wikipedia.org/wiki/Egyptian_numerals)"
   ]
  },
  {
   "cell_type": "markdown",
   "id": "6e500dbf",
   "metadata": {},
   "source": [
    "## `ord()` と `chr()` による文字とコードポイントの変換"
   ]
  },
  {
   "cell_type": "code",
   "execution_count": 69,
   "id": "c50ff460-623f-44c6-a502-c5942e206249",
   "metadata": {
    "tags": []
   },
   "outputs": [
    {
     "data": {
      "text/markdown": [
       "Pythonの`ord()`関数は、特定の一つのUnicode文字を表す文字列を引数に取り、その文字のUnicodeコードポイントを整数として返す関数です。Unicodeコードポイントとは、各Unicode文字に一意に割り当てられた数値のことを指します。\n",
       "\n",
       "`ord()`関数が必要な理由は、文字とその背後の数値表現（つまりコードポイント）との間の変換を可能にするためです。この変換は、文字データを扱う際のさまざまなタスクで必要とされます。たとえば、その文字のバイナリ表現を取得したり、文字の並び替え順（コードポイントの数値に基づく）を決定したり、特定の範囲の文字を生成したりする場合などです。\n",
       "\n",
       "具体的な使用例としては、前述したように連続したコードポイントの文字列を生成する際や、与えられた文字が特定のUnicodeブロック（例えば、ラテン文字やひらがなやキリル文字など）に属するかどうかを判断する際などに`ord()`関数を使います。\n",
       "\n",
       "そのため、`ord()`関数はPythonで文字とコードポイントとの間の変換を行うための基本的なツールと言えます。"
      ],
      "text/plain": [
       "<IPython.core.display.Markdown object>"
      ]
     },
     "execution_count": 69,
     "metadata": {
      "text/markdown": {
       "jupyter_ai": {
        "custom_chain_id": "vioras"
       }
      }
     },
     "output_type": "execute_result"
    }
   ],
   "source": [
    "%%ai vioras\n",
    "`ord()`が必要な理由"
   ]
  },
  {
   "cell_type": "markdown",
   "id": "9458c22c-5531-4612-b9a3-6d36086df27b",
   "metadata": {},
   "source": [
    "### \"a\" の次の文字 \"b\" を表示する"
   ]
  },
  {
   "cell_type": "code",
   "execution_count": 32,
   "id": "b393b25d-47f3-4beb-aae2-1278448da4b8",
   "metadata": {
    "tags": []
   },
   "outputs": [
    {
     "data": {
      "text/plain": [
       "\u001b[0;31mSignature:\u001b[0m \u001b[0mchr\u001b[0m\u001b[0;34m(\u001b[0m\u001b[0mi\u001b[0m\u001b[0;34m,\u001b[0m \u001b[0;34m/\u001b[0m\u001b[0;34m)\u001b[0m\u001b[0;34m\u001b[0m\u001b[0;34m\u001b[0m\u001b[0m\n",
       "\u001b[0;31mDocstring:\u001b[0m Return a Unicode string of one character with ordinal i; 0 <= i <= 0x10ffff.\n",
       "\u001b[0;31mType:\u001b[0m      builtin_function_or_method"
      ]
     },
     "metadata": {},
     "output_type": "display_data"
    }
   ],
   "source": [
    "chr?"
   ]
  },
  {
   "cell_type": "code",
   "execution_count": 31,
   "id": "b911cc6e-ee39-41bf-b95e-8a4654162d2c",
   "metadata": {
    "tags": []
   },
   "outputs": [
    {
     "data": {
      "text/plain": [
       "\u001b[0;31mSignature:\u001b[0m \u001b[0mord\u001b[0m\u001b[0;34m(\u001b[0m\u001b[0mc\u001b[0m\u001b[0;34m,\u001b[0m \u001b[0;34m/\u001b[0m\u001b[0;34m)\u001b[0m\u001b[0;34m\u001b[0m\u001b[0;34m\u001b[0m\u001b[0m\n",
       "\u001b[0;31mDocstring:\u001b[0m Return the Unicode code point for a one-character string.\n",
       "\u001b[0;31mType:\u001b[0m      builtin_function_or_method"
      ]
     },
     "metadata": {},
     "output_type": "display_data"
    }
   ],
   "source": [
    "ord?"
   ]
  },
  {
   "cell_type": "code",
   "execution_count": 70,
   "id": "fc0c26c9-92db-4526-9e09-d23783e33feb",
   "metadata": {
    "tags": []
   },
   "outputs": [
    {
     "data": {
      "text/plain": [
       "97"
      ]
     },
     "execution_count": 70,
     "metadata": {},
     "output_type": "execute_result"
    }
   ],
   "source": [
    "ord('a')"
   ]
  },
  {
   "cell_type": "code",
   "execution_count": 71,
   "id": "1dbb2d55-e48c-4da1-877f-110dbf0b4bde",
   "metadata": {
    "tags": []
   },
   "outputs": [
    {
     "data": {
      "text/plain": [
       "'a'"
      ]
     },
     "execution_count": 71,
     "metadata": {},
     "output_type": "execute_result"
    }
   ],
   "source": [
    "chr(97)"
   ]
  },
  {
   "cell_type": "markdown",
   "id": "0f68f2f1-31d7-4aaf-a7e7-571b38c01a54",
   "metadata": {},
   "source": [
    "#### 型の異なるオブジェクトは演算できない"
   ]
  },
  {
   "cell_type": "code",
   "execution_count": 72,
   "id": "1d2dc74f-42c6-4b34-aa9c-c4d81f56b2df",
   "metadata": {
    "tags": []
   },
   "outputs": [
    {
     "ename": "TypeError",
     "evalue": "can only concatenate str (not \"int\") to str",
     "output_type": "error",
     "traceback": [
      "\u001b[0;31m---------------------------------------------------------------------------\u001b[0m",
      "\u001b[0;31mTypeError\u001b[0m                                 Traceback (most recent call last)",
      "Cell \u001b[0;32mIn[72], line 1\u001b[0m\n\u001b[0;32m----> 1\u001b[0m \u001b[38;5;124;43m'\u001b[39;49m\u001b[38;5;124;43ma\u001b[39;49m\u001b[38;5;124;43m'\u001b[39;49m\u001b[38;5;241;43m+\u001b[39;49m\u001b[38;5;241;43m1\u001b[39;49m\n",
      "\u001b[0;31mTypeError\u001b[0m: can only concatenate str (not \"int\") to str"
     ]
    }
   ],
   "source": [
    "'a'+1"
   ]
  },
  {
   "cell_type": "markdown",
   "id": "06c7aea4-86cf-469f-8ea7-4c00b24fcb8e",
   "metadata": {},
   "source": [
    "#### 文字・文字列を「足す」と連結される"
   ]
  },
  {
   "cell_type": "code",
   "execution_count": 73,
   "id": "7f5a4178-93e8-4369-a242-37e5b9ebb39c",
   "metadata": {
    "tags": []
   },
   "outputs": [
    {
     "data": {
      "text/plain": [
       "'a1'"
      ]
     },
     "execution_count": 73,
     "metadata": {},
     "output_type": "execute_result"
    }
   ],
   "source": [
    "'a'+'1'"
   ]
  },
  {
   "cell_type": "markdown",
   "id": "261c46e7-d43f-440a-abdb-64b29ce0d9e3",
   "metadata": {},
   "source": [
    "#### 文字を数字に変換して「足す」、その結果を文字に戻す"
   ]
  },
  {
   "cell_type": "code",
   "execution_count": 74,
   "id": "868433da-1b14-4458-bfc7-aeb971359db0",
   "metadata": {
    "tags": []
   },
   "outputs": [
    {
     "data": {
      "text/plain": [
       "98"
      ]
     },
     "execution_count": 74,
     "metadata": {},
     "output_type": "execute_result"
    }
   ],
   "source": [
    "ord('a')+1"
   ]
  },
  {
   "cell_type": "code",
   "execution_count": 75,
   "id": "25b5262c-208a-4046-8da0-7c3b472b6be3",
   "metadata": {
    "tags": []
   },
   "outputs": [
    {
     "data": {
      "text/plain": [
       "'b'"
      ]
     },
     "execution_count": 75,
     "metadata": {},
     "output_type": "execute_result"
    }
   ],
   "source": [
    "chr(_)"
   ]
  },
  {
   "cell_type": "code",
   "execution_count": 76,
   "id": "59d63c24-e553-48cc-bdf8-4783055b698a",
   "metadata": {
    "tags": []
   },
   "outputs": [
    {
     "data": {
      "text/plain": [
       "'b'"
      ]
     },
     "execution_count": 76,
     "metadata": {},
     "output_type": "execute_result"
    }
   ],
   "source": [
    "chr(ord('a')+1)"
   ]
  },
  {
   "cell_type": "code",
   "execution_count": 77,
   "id": "6840a57c-5092-40e6-b66a-5c4d36c08701",
   "metadata": {
    "tags": []
   },
   "outputs": [
    {
     "name": "stdout",
     "output_type": "stream",
     "text": [
      "0 97 a\n",
      "1 98 b\n",
      "2 99 c\n",
      "3 100 d\n",
      "4 101 e\n",
      "5 102 f\n",
      "6 103 g\n",
      "7 104 h\n",
      "8 105 i\n",
      "9 106 j\n",
      "10 107 k\n",
      "11 108 l\n",
      "12 109 m\n",
      "13 110 n\n",
      "14 111 o\n",
      "15 112 p\n",
      "16 113 q\n",
      "17 114 r\n",
      "18 115 s\n",
      "19 116 t\n",
      "20 117 u\n",
      "21 118 v\n",
      "22 119 w\n",
      "23 120 x\n",
      "24 121 y\n",
      "25 122 z\n"
     ]
    }
   ],
   "source": [
    "for i in range(26):\n",
    "    print(i, ord('a')+i, chr(ord('a')+i))"
   ]
  },
  {
   "cell_type": "markdown",
   "id": "3d22668a-eff2-4747-a594-49ec1c8d4a77",
   "metadata": {},
   "source": []
  }
 ],
 "metadata": {
  "kernelspec": {
   "display_name": "Python 3 (ipykernel)",
   "language": "python",
   "name": "python3"
  },
  "language_info": {
   "codemirror_mode": {
    "name": "ipython",
    "version": 3
   },
   "file_extension": ".py",
   "mimetype": "text/x-python",
   "name": "python",
   "nbconvert_exporter": "python",
   "pygments_lexer": "ipython3",
   "version": "3.11.8"
  }
 },
 "nbformat": 4,
 "nbformat_minor": 5
}
