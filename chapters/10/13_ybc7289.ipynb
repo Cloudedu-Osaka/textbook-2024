{
 "cells": [
  {
   "cell_type": "markdown",
   "id": "ea62637b",
   "metadata": {},
   "source": [
    "# YBC 7289 (3)"
   ]
  },
  {
   "cell_type": "markdown",
   "id": "d7a8643e",
   "metadata": {},
   "source": [
    "## 相加相乗平均の関係式\n",
    "\n",
    "* [Inequality of arithmetic and geometric means - Wikipedia](https://en.wikipedia.org/wiki/Inequality_of_arithmetic_and_geometric_means)"
   ]
  },
  {
   "cell_type": "markdown",
   "id": "8ad056ca",
   "metadata": {},
   "source": [
    "$$\n",
    "  \\frac{x+y}{2} \\geq \\sqrt{xy}\n",
    "$$"
   ]
  },
  {
   "cell_type": "markdown",
   "id": "09922da1",
   "metadata": {},
   "source": [
    "$y = \\frac{S}{x}$ とおく"
   ]
  },
  {
   "cell_type": "markdown",
   "id": "fbdd6ae9",
   "metadata": {},
   "source": [
    "$$\n",
    "  \\frac{1}{2} \\left( x + \\frac{S}{x} \\right) \\geq  \\sqrt{x \\cdot \\frac{S}{x}} = \\sqrt{S}\n",
    "$$"
   ]
  },
  {
   "cell_type": "markdown",
   "id": "4be737c5",
   "metadata": {},
   "source": [
    "$S = 2$ のとき"
   ]
  },
  {
   "cell_type": "markdown",
   "id": "88a0a0fe",
   "metadata": {},
   "source": [
    "$$\n",
    "  \\frac{1}{2}\\left( x+\\frac{2}{x} \\right) \\geq \\sqrt{x \\cdot \\frac{2}{x}} = \\sqrt{2}\n",
    "$$"
   ]
  },
  {
   "cell_type": "markdown",
   "id": "f4627e67-deab-43f2-815e-af0bb7291326",
   "metadata": {},
   "source": [
    "```{note}\n",
    "Plimpton 322の数表を生成する際に利用した方程式を変形し、\n",
    "古代メソポタミアの人たちは、$2$の平方根を計算する方法に辿り着いたと考えられています。\n",
    "```"
   ]
  },
  {
   "cell_type": "code",
   "execution_count": 1,
   "id": "bf4ef9c3",
   "metadata": {},
   "outputs": [
    {
     "data": {
      "text/plain": [
       "(1.4142135623730951, 1.414213562373095)"
      ]
     },
     "execution_count": 1,
     "metadata": {},
     "output_type": "execute_result"
    }
   ],
   "source": [
    "import math\n",
    "math.sqrt(2), 2/math.sqrt(2)"
   ]
  },
  {
   "cell_type": "code",
   "execution_count": 2,
   "id": "545be8e9",
   "metadata": {},
   "outputs": [],
   "source": [
    "def f(x):\n",
    "    return (x + 2/x)/2"
   ]
  },
  {
   "cell_type": "code",
   "execution_count": 3,
   "id": "62af10d1",
   "metadata": {},
   "outputs": [
    {
     "data": {
      "text/plain": [
       "(1.5, 1.3333333333333333, 1.4166666666666665)"
      ]
     },
     "execution_count": 3,
     "metadata": {},
     "output_type": "execute_result"
    }
   ],
   "source": [
    "x = 1.5\n",
    "x, 2/x, f(x)"
   ]
  },
  {
   "cell_type": "code",
   "execution_count": 4,
   "id": "3eabbb1e",
   "metadata": {},
   "outputs": [
    {
     "data": {
      "text/plain": [
       "(1.4166666666666665, 1.411764705882353, 1.4142156862745097)"
      ]
     },
     "execution_count": 4,
     "metadata": {},
     "output_type": "execute_result"
    }
   ],
   "source": [
    "x = 1.4166666666666665\n",
    "x, 2/x, f(x)"
   ]
  },
  {
   "cell_type": "code",
   "execution_count": 5,
   "id": "134cf21b",
   "metadata": {},
   "outputs": [
    {
     "data": {
      "text/plain": [
       "(1.4142156862745097, 1.41421143847487, 1.4142135623746899)"
      ]
     },
     "execution_count": 5,
     "metadata": {},
     "output_type": "execute_result"
    }
   ],
   "source": [
    "x = 1.4142156862745097\n",
    "x, 2/x, f(x)"
   ]
  },
  {
   "cell_type": "code",
   "execution_count": 13,
   "id": "7667a8fb",
   "metadata": {
    "tags": []
   },
   "outputs": [
    {
     "name": "stdout",
     "output_type": "stream",
     "text": [
      "x = 1.5000000000, 2/x = 1.3333333333, x**2 = 2.2500000000\n",
      "x = 1.4166666667, 2/x = 1.4117647059, x**2 = 2.0069444444\n",
      "x = 1.4142156863, 2/x = 1.4142114385, x**2 = 2.0000060073\n",
      "x = 1.4142135624, 2/x = 1.4142135624, x**2 = 2.0000000000\n",
      "x = 1.4142135624, 2/x = 1.4142135624, x**2 = 2.0000000000\n",
      "x = 1.4142135624, 2/x = 1.4142135624, x**2 = 2.0000000000\n"
     ]
    }
   ],
   "source": [
    "def f(x):\n",
    "    return (x + 2/x) / 2\n",
    "\n",
    "x = 2\n",
    "for i in range(6):\n",
    "    x = f(x)\n",
    "    print(\"x = {0:.10f}, 2/x = {1:.10f}, x**2 = {2:.10f}\".format(x, 2/x, x**2))"
   ]
  },
  {
   "cell_type": "markdown",
   "id": "5f66f60b-4dd6-49f5-ae39-c5203e61d3a6",
   "metadata": {},
   "source": [
    "## 数式で表すと･･･"
   ]
  },
  {
   "cell_type": "markdown",
   "id": "71a70473",
   "metadata": {},
   "source": [
    "数列 $x_{n}$ を次の式で定義する"
   ]
  },
  {
   "cell_type": "markdown",
   "id": "2fbb4892",
   "metadata": {},
   "source": [
    "$$\n",
    "  x_{n+1} = \\frac{1}{2}\\left( x_{n}+\\frac{2}{x_{n}} \\right) \\geq \\sqrt{x_{n} \\cdot \\frac{2}{x_{n}}} = \\sqrt{2}\n",
    "$$"
   ]
  },
  {
   "cell_type": "markdown",
   "id": "d953ce8e",
   "metadata": {},
   "source": [
    "$x_{n} - x_{n+1}$ を求める"
   ]
  },
  {
   "cell_type": "markdown",
   "id": "fab26c63",
   "metadata": {},
   "source": [
    "$$\n",
    "  \\begin{align}\n",
    "  x_{n} - x_{n+1} & = x_{n} - \\frac{1}{2}\\left( x_{n}+\\frac{2}{x_{n}}\\right) \\\\\n",
    "                  & = \\frac{1}{2} x_{n} - \\frac{1}{x_{n}} \\\\\n",
    "                  & = \\frac{1}{x_{n}}\\left(\\frac{1}{2} {x_{n}}^2 - 1\\right) \\\\\n",
    "                  & \\geq 0 \\quad (\\textrm{where}\\ x_{n} \\geq \\sqrt{2})\n",
    "  \\end{align}\n",
    "$$"
   ]
  },
  {
   "cell_type": "markdown",
   "id": "6f8dff5f",
   "metadata": {},
   "source": [
    "$x_{n} \\geq \\sqrt{2}$ のとき、$x_{n} - x_{n+1} > 0$、すなわち $x_{n} > x_{n+1} > \\cdots \\geq \\sqrt{2}$ である。"
   ]
  },
  {
   "cell_type": "markdown",
   "id": "a3eb4d8f",
   "metadata": {},
   "source": [
    "```{note}\n",
    "数列$x_{n}$は単調に減少することは簡単に証明できますが、$\\sqrt{2}$に収束することは自明ではありません。\n",
    "```"
   ]
  },
  {
   "cell_type": "markdown",
   "id": "323a7565",
   "metadata": {},
   "source": [
    "* [real analysis - Proof of Convergence: Babylonian Method $x_{n+1}=\\frac{1}{2}(x_n + \\frac{a}{x_n})$ - Mathematics Stack Exchange](https://math.stackexchange.com/questions/82682/proof-of-convergence-babylonian-method-x-n1-frac12x-n-fracax-n)"
   ]
  }
 ],
 "metadata": {
  "kernelspec": {
   "display_name": "Python 3 (ipykernel)",
   "language": "python",
   "name": "python3"
  },
  "language_info": {
   "codemirror_mode": {
    "name": "ipython",
    "version": 3
   },
   "file_extension": ".py",
   "mimetype": "text/x-python",
   "name": "python",
   "nbconvert_exporter": "python",
   "pygments_lexer": "ipython3",
   "version": "3.11.8"
  },
  "toc": {
   "base_numbering": 1,
   "nav_menu": {},
   "number_sections": true,
   "sideBar": true,
   "skip_h1_title": false,
   "title_cell": "Table of Contents",
   "title_sidebar": "Contents",
   "toc_cell": false,
   "toc_position": {},
   "toc_section_display": true,
   "toc_window_display": false
  }
 },
 "nbformat": 4,
 "nbformat_minor": 5
}
