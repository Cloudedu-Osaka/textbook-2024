{
 "cells": [
  {
   "cell_type": "markdown",
   "id": "85d5e89e-6835-489b-8517-4a73770f29d5",
   "metadata": {
    "tags": []
   },
   "source": [
    "# 自己紹介\n",
    "\n",
    "* 名前と所属学部\n",
    "* AIについてAIに聞いてみたかったこと → 回答をどう思ったか"
   ]
  },
  {
   "cell_type": "markdown",
   "id": "b43b15b3-7601-4087-9a65-343f0e25df11",
   "metadata": {},
   "source": [
    "```{note}\n",
    "次のセルにあなたがAIについてAIに聞いてみたかったことを入力し、`Shift+Enter` (または`shift+return`) を押してください。\n",
    "```"
   ]
  },
  {
   "cell_type": "markdown",
   "id": "8ffe5d69-e421-47c4-b950-8c1e1502326a",
   "metadata": {},
   "source": [
    "%%ai vioras\n"
   ]
  },
  {
   "cell_type": "code",
   "execution_count": null,
   "id": "20e18690-0ff5-41d8-a3fd-105cb5d1ae82",
   "metadata": {},
   "outputs": [],
   "source": [
    "%%ai vioras\n"
   ]
  }
 ],
 "metadata": {
  "kernelspec": {
   "display_name": "Python 3 (ipykernel)",
   "language": "python",
   "name": "python3"
  },
  "language_info": {
   "codemirror_mode": {
    "name": "ipython",
    "version": 3
   },
   "file_extension": ".py",
   "mimetype": "text/x-python",
   "name": "python",
   "nbconvert_exporter": "python",
   "pygments_lexer": "ipython3",
   "version": "3.11.8"
  }
 },
 "nbformat": 4,
 "nbformat_minor": 5
}
