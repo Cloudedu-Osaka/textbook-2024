{
 "cells": [
  {
   "cell_type": "markdown",
   "id": "14eb7ed2-3d19-4a4d-816d-3e72127c2074",
   "metadata": {},
   "source": [
    "# 重力と測地線"
   ]
  },
  {
   "cell_type": "markdown",
   "id": "07c32553-4458-4474-9a7c-23d0a3300606",
   "metadata": {},
   "source": [
    "## Einstein field equation"
   ]
  },
  {
   "cell_type": "markdown",
   "id": "8923c0a4-944c-4fae-8704-aea09c55ea27",
   "metadata": {},
   "source": [
    "* (1915) [Einstein field equations - Wikipedia](https://en.wikipedia.org/wiki/Einstein_field_equations)\n",
    "    - [Spacetime - Wikipedia](https://en.wikipedia.org/wiki/Spacetime)"
   ]
  },
  {
   "cell_type": "markdown",
   "id": "dfad320e-1c00-4c0d-a199-95e705692618",
   "metadata": {},
   "source": [
    "* $G$ : [Einstein tensor - Wikipedia](https://en.wikipedia.org/wiki/Einstein_tensor)\n",
    "    \n",
    "$$\n",
    "\\begin{align}\n",
    "G_{\\mu \\nu} + \\Lambda g_{\\mu \\nu} &= \\kappa T_{\\mu \\nu} \\\\\n",
    "\\left( R_{\\mu \\nu} - \\frac{1}{2} R g_{\\mu \\nu} \\right) + \\Lambda g_{\\mu \\nu} &= \\kappa T_{\\mu \\nu}\n",
    "\\end{align}\n",
    "$$"
   ]
  },
  {
   "cell_type": "markdown",
   "id": "70d2d90d-826a-4d67-a59e-757850b1ab57",
   "metadata": {},
   "source": [
    "* $\\Lambda$ : [Cosmological constant - Wikipedia](https://en.wikipedia.org/wiki/Cosmological_constant)\n",
    "* $T_{\\mu \\nu}$ : [Stress–energy tensor - Wikipedia](https://en.wikipedia.org/wiki/Stress%E2%80%93energy_tensor)"
   ]
  },
  {
   "cell_type": "markdown",
   "id": "9f8bb220-de15-49af-8e83-1632a9c2a768",
   "metadata": {},
   "source": [
    "$$\n",
    "\\kappa = \\frac{8 \\pi G}{c^4}\n",
    "$$"
   ]
  },
  {
   "cell_type": "markdown",
   "id": "5f619351-4a5d-4bae-9d26-a230ede9c605",
   "metadata": {},
   "source": [
    "* $G$ : [Gravitational constant - Wikipedia](https://en.wikipedia.org/wiki/Gravitational_constant)\n",
    "* $c$ : [Speed of light - Wikipedia](https://en.wikipedia.org/wiki/Speed_of_light)\n",
    "    "
   ]
  },
  {
   "cell_type": "markdown",
   "id": "ec4b9aad-4ec5-4171-894a-9f72715b44cb",
   "metadata": {},
   "source": [
    "![fig-33](https://upload.wikimedia.org/wikipedia/commons/6/63/Spacetime_lattice_analogy.svg)"
   ]
  },
  {
   "cell_type": "markdown",
   "id": "badd01ef",
   "metadata": {
    "tags": []
   },
   "source": [
    "## Polar (spherical) coordinate to Cartesian coordinate"
   ]
  },
  {
   "cell_type": "markdown",
   "id": "d5fcc489",
   "metadata": {},
   "source": [
    "* (1502) https://www.nationalgeographic.com/history/history-magazine/article/leonardo-da-vinci-transformed-mapping-art-science\n",
    "  - https://goo.gl/maps/QYqK6svQTVnzrYph7"
   ]
  },
  {
   "cell_type": "markdown",
   "id": "1eb3633a",
   "metadata": {},
   "source": [
    "![fig-1](https://i.natgeofe.com/n/e8a127f0-943b-425e-bbbd-01073405e81d/imola-map.jpg?w=2048&h=1366)"
   ]
  },
  {
   "cell_type": "markdown",
   "id": "c8df5f70",
   "metadata": {},
   "source": [
    "* (1637) [Cartesian coordinate system - Wikipedia](https://en.wikipedia.org/wiki/Cartesian_coordinate_system)\n",
    "  - (1596 &ndash; 1650) [René Descartes - Wikipedia](https://en.wikipedia.org/wiki/Ren%C3%A9_Descartes)\n",
    "    - [La Géométrie - Wikipedia](https://en.wikipedia.org/wiki/La_G%C3%A9om%C3%A9trie)\n",
    "      - [Descartes et les Mathématiques pour les mobiles](http://www.debart.fr/)\n",
    "      - [mathematics - When do we see for the first time the use of the Cartesian coordinates? - History of Science and Mathematics Stack Exchange](https://hsm.stackexchange.com/questions/2378/when-do-we-see-for-the-first-time-the-use-of-the-cartesian-coordinates)"
   ]
  },
  {
   "cell_type": "code",
   "execution_count": 4,
   "id": "598ef46c",
   "metadata": {
    "tags": []
   },
   "outputs": [],
   "source": [
    "from IPython.display import display"
   ]
  },
  {
   "cell_type": "code",
   "execution_count": 5,
   "id": "c6b1cbe9",
   "metadata": {
    "tags": []
   },
   "outputs": [],
   "source": [
    "import sympy\n",
    "from sympy import Function, Symbol\n",
    "from sympy import sin, cos, tan, cot"
   ]
  },
  {
   "cell_type": "markdown",
   "id": "fd544583",
   "metadata": {},
   "source": [
    "## Metric tensor"
   ]
  },
  {
   "cell_type": "markdown",
   "id": "d7221062",
   "metadata": {},
   "source": [
    "### Maniforld\n",
    "\n",
    "* [Manifold - Wikipedia](https://en.wikipedia.org/wiki/Manifold)"
   ]
  },
  {
   "cell_type": "markdown",
   "id": "aa694415",
   "metadata": {},
   "source": [
    "![fig-10](https://upload.wikimedia.org/wikipedia/commons/6/64/Circle_with_overlapping_manifold_charts.svg)"
   ]
  },
  {
   "cell_type": "markdown",
   "id": "bf2bb536",
   "metadata": {},
   "source": [
    "* (1826 &ndash; 1866) [Bernhard Riemann - Wikipedia](https://en.wikipedia.org/wiki/Bernhard_Riemann)\n",
    "  - [Riemannian manifold - Wikipedia](https://en.wikipedia.org/wiki/Riemannian_manifold)"
   ]
  },
  {
   "cell_type": "markdown",
   "id": "cc72ba03",
   "metadata": {},
   "source": [
    "* [Differential Geometry — SymPy 1.10.1 documentation](https://docs.sympy.org/latest/modules/diffgeom.html)"
   ]
  },
  {
   "cell_type": "code",
   "execution_count": 6,
   "id": "5e59f06b",
   "metadata": {
    "tags": []
   },
   "outputs": [],
   "source": [
    "from sympy.diffgeom.rn import R3_r, R3_s"
   ]
  },
  {
   "cell_type": "code",
   "execution_count": 33,
   "id": "9ae7d3ec",
   "metadata": {
    "tags": []
   },
   "outputs": [
    {
     "data": {
      "text/plain": [
       "(R^3, R^3)"
      ]
     },
     "execution_count": 33,
     "metadata": {},
     "output_type": "execute_result"
    }
   ],
   "source": [
    "R3_r.manifold, R3_s.manifold"
   ]
  },
  {
   "cell_type": "code",
   "execution_count": 24,
   "id": "a8fa0ba4",
   "metadata": {},
   "outputs": [
    {
     "data": {
      "text/plain": [
       "(sympy.diffgeom.diffgeom.CoordSystem, sympy.diffgeom.diffgeom.CoordSystem)"
      ]
     },
     "execution_count": 24,
     "metadata": {},
     "output_type": "execute_result"
    }
   ],
   "source": [
    "type(R3_r), type(R3_s)"
   ]
  },
  {
   "cell_type": "code",
   "execution_count": 25,
   "id": "1e180616",
   "metadata": {},
   "outputs": [
    {
     "name": "stdout",
     "output_type": "stream",
     "text": [
      "rectangular\n",
      "spherical\n"
     ]
    }
   ],
   "source": [
    "print(R3_r)\n",
    "print(R3_s)"
   ]
  },
  {
   "cell_type": "code",
   "execution_count": 26,
   "id": "16b812cb",
   "metadata": {},
   "outputs": [
    {
     "data": {
      "text/plain": [
       "[x, y, z]"
      ]
     },
     "execution_count": 26,
     "metadata": {},
     "output_type": "execute_result"
    }
   ],
   "source": [
    "R3_r.base_scalars()"
   ]
  },
  {
   "cell_type": "code",
   "execution_count": 27,
   "id": "81e237fc",
   "metadata": {},
   "outputs": [
    {
     "data": {
      "text/plain": [
       "[r, theta, phi]"
      ]
     },
     "execution_count": 27,
     "metadata": {},
     "output_type": "execute_result"
    }
   ],
   "source": [
    "R3_s.base_scalars()"
   ]
  },
  {
   "cell_type": "markdown",
   "id": "c39047f0",
   "metadata": {},
   "source": [
    "### Coordinate transformation\n",
    "\n",
    "* [List of common coordinate transformations - Wikipedia](https://en.wikipedia.org/wiki/List_of_common_coordinate_transformations)"
   ]
  },
  {
   "cell_type": "code",
   "execution_count": 28,
   "id": "6df1c47e",
   "metadata": {},
   "outputs": [
    {
     "data": {
      "text/latex": [
       "$\\displaystyle \\left[\\begin{matrix}\\sin{\\left(\\mathbf{\\theta} \\right)} \\cos{\\left(\\mathbf{\\phi} \\right)} \\mathbf{r}\\\\\\sin{\\left(\\mathbf{\\theta} \\right)} \\sin{\\left(\\mathbf{\\phi} \\right)} \\mathbf{r}\\\\\\cos{\\left(\\mathbf{\\theta} \\right)} \\mathbf{r}\\end{matrix}\\right]$"
      ],
      "text/plain": [
       "Matrix([\n",
       "[sin(theta)*cos(phi)*r],\n",
       "[sin(theta)*sin(phi)*r],\n",
       "[         cos(theta)*r]])"
      ]
     },
     "execution_count": 28,
     "metadata": {},
     "output_type": "execute_result"
    }
   ],
   "source": [
    "s = R3_s.transform(R3_r, R3_s.base_scalars())\n",
    "s"
   ]
  },
  {
   "cell_type": "code",
   "execution_count": 29,
   "id": "6de222ca",
   "metadata": {},
   "outputs": [
    {
     "data": {
      "text/latex": [
       "$\\displaystyle \\left[\\begin{matrix}\\sqrt{\\mathbf{x}^{2} + \\mathbf{y}^{2} + \\mathbf{z}^{2}}\\\\\\operatorname{acos}{\\left(\\frac{\\mathbf{z}}{\\sqrt{\\mathbf{x}^{2} + \\mathbf{y}^{2} + \\mathbf{z}^{2}}} \\right)}\\\\\\operatorname{atan_{2}}{\\left(\\mathbf{y},\\mathbf{x} \\right)}\\end{matrix}\\right]$"
      ],
      "text/plain": [
       "Matrix([\n",
       "[        sqrt(x**2 + y**2 + z**2)],\n",
       "[acos(z/sqrt(x**2 + y**2 + z**2))],\n",
       "[                     atan2(y, x)]])"
      ]
     },
     "execution_count": 29,
     "metadata": {},
     "output_type": "execute_result"
    }
   ],
   "source": [
    "s_r = R3_r.transform(R3_s, R3_r.base_scalars())\n",
    "s_r"
   ]
  },
  {
   "cell_type": "markdown",
   "id": "00221d34",
   "metadata": {},
   "source": [
    "### Line element\n",
    "* [Line element - Wikipedia](https://en.wikipedia.org/wiki/Line_element)"
   ]
  },
  {
   "cell_type": "markdown",
   "id": "b0fe21e7",
   "metadata": {},
   "source": [
    "![fig-20](https://upload.wikimedia.org/wikipedia/commons/0/06/Line_element.svg)"
   ]
  },
  {
   "cell_type": "code",
   "execution_count": 30,
   "id": "619bd46a",
   "metadata": {},
   "outputs": [
    {
     "data": {
      "text/latex": [
       "$\\displaystyle \\operatorname{d}r$"
      ],
      "text/plain": [
       "dr"
      ]
     },
     "metadata": {},
     "output_type": "display_data"
    },
    {
     "data": {
      "text/latex": [
       "$\\displaystyle \\operatorname{d}\\theta$"
      ],
      "text/plain": [
       "dtheta"
      ]
     },
     "metadata": {},
     "output_type": "display_data"
    },
    {
     "data": {
      "text/latex": [
       "$\\displaystyle \\operatorname{d}\\phi$"
      ],
      "text/plain": [
       "dphi"
      ]
     },
     "metadata": {},
     "output_type": "display_data"
    }
   ],
   "source": [
    "for i in range(3):\n",
    "    display(R3_s.base_oneform(i))"
   ]
  },
  {
   "cell_type": "code",
   "execution_count": 31,
   "id": "1aa2ff2e",
   "metadata": {
    "scrolled": true
   },
   "outputs": [
    {
     "data": {
      "text/latex": [
       "$\\displaystyle \\partial_{r}$"
      ],
      "text/plain": [
       "e_r"
      ]
     },
     "metadata": {},
     "output_type": "display_data"
    },
    {
     "data": {
      "text/latex": [
       "$\\displaystyle \\partial_{\\theta}$"
      ],
      "text/plain": [
       "e_theta"
      ]
     },
     "metadata": {},
     "output_type": "display_data"
    },
    {
     "data": {
      "text/latex": [
       "$\\displaystyle \\partial_{\\phi}$"
      ],
      "text/plain": [
       "e_phi"
      ]
     },
     "metadata": {},
     "output_type": "display_data"
    }
   ],
   "source": [
    "for i in range(3):\n",
    "    display(R3_s.base_vector(i))"
   ]
  },
  {
   "cell_type": "code",
   "execution_count": 32,
   "id": "f66b52dd",
   "metadata": {},
   "outputs": [
    {
     "data": {
      "text/latex": [
       "$\\displaystyle \\left[\\begin{matrix}\\sin{\\left(\\mathbf{\\theta} \\right)} \\cos{\\left(\\mathbf{\\phi} \\right)} \\mathbf{r}\\\\\\sin{\\left(\\mathbf{\\theta} \\right)} \\sin{\\left(\\mathbf{\\phi} \\right)} \\mathbf{r}\\\\\\cos{\\left(\\mathbf{\\theta} \\right)} \\mathbf{r}\\end{matrix}\\right]$"
      ],
      "text/plain": [
       "Matrix([\n",
       "[sin(theta)*cos(phi)*r],\n",
       "[sin(theta)*sin(phi)*r],\n",
       "[         cos(theta)*r]])"
      ]
     },
     "execution_count": 32,
     "metadata": {},
     "output_type": "execute_result"
    }
   ],
   "source": [
    "s"
   ]
  },
  {
   "cell_type": "code",
   "execution_count": 33,
   "id": "6d49c4b2",
   "metadata": {},
   "outputs": [
    {
     "data": {
      "text/latex": [
       "$\\displaystyle \\left[\\begin{matrix}\\sin{\\left(\\mathbf{\\theta} \\right)} \\cos{\\left(\\mathbf{\\phi} \\right)}\\\\\\sin{\\left(\\mathbf{\\theta} \\right)} \\sin{\\left(\\mathbf{\\phi} \\right)}\\\\\\cos{\\left(\\mathbf{\\theta} \\right)}\\end{matrix}\\right]$"
      ],
      "text/plain": [
       "Matrix([\n",
       "[sin(theta)*cos(phi)],\n",
       "[sin(theta)*sin(phi)],\n",
       "[         cos(theta)]])"
      ]
     },
     "metadata": {},
     "output_type": "display_data"
    },
    {
     "data": {
      "text/latex": [
       "$\\displaystyle \\left[\\begin{matrix}\\cos{\\left(\\mathbf{\\theta} \\right)} \\cos{\\left(\\mathbf{\\phi} \\right)} \\mathbf{r}\\\\\\sin{\\left(\\mathbf{\\phi} \\right)} \\cos{\\left(\\mathbf{\\theta} \\right)} \\mathbf{r}\\\\- \\sin{\\left(\\mathbf{\\theta} \\right)} \\mathbf{r}\\end{matrix}\\right]$"
      ],
      "text/plain": [
       "Matrix([\n",
       "[cos(theta)*cos(phi)*r],\n",
       "[sin(phi)*cos(theta)*r],\n",
       "[        -sin(theta)*r]])"
      ]
     },
     "metadata": {},
     "output_type": "display_data"
    },
    {
     "data": {
      "text/latex": [
       "$\\displaystyle \\left[\\begin{matrix}- \\sin{\\left(\\mathbf{\\theta} \\right)} \\sin{\\left(\\mathbf{\\phi} \\right)} \\mathbf{r}\\\\\\sin{\\left(\\mathbf{\\theta} \\right)} \\cos{\\left(\\mathbf{\\phi} \\right)} \\mathbf{r}\\\\0\\end{matrix}\\right]$"
      ],
      "text/plain": [
       "Matrix([\n",
       "[-sin(theta)*sin(phi)*r],\n",
       "[ sin(theta)*cos(phi)*r],\n",
       "[                     0]])"
      ]
     },
     "metadata": {},
     "output_type": "display_data"
    }
   ],
   "source": [
    "for i in range(3):\n",
    "    display(R3_s.base_vector(i)(s))"
   ]
  },
  {
   "cell_type": "code",
   "execution_count": 34,
   "id": "590ed266",
   "metadata": {
    "scrolled": true
   },
   "outputs": [
    {
     "data": {
      "text/latex": [
       "$\\displaystyle \\left[\\begin{matrix}- \\sin{\\left(\\mathbf{\\theta} \\right)} \\sin{\\left(\\mathbf{\\phi} \\right)} \\mathbf{r} \\operatorname{d}\\phi + \\sin{\\left(\\mathbf{\\theta} \\right)} \\cos{\\left(\\mathbf{\\phi} \\right)} \\operatorname{d}r + \\cos{\\left(\\mathbf{\\theta} \\right)} \\cos{\\left(\\mathbf{\\phi} \\right)} \\mathbf{r} \\operatorname{d}\\theta\\\\\\sin{\\left(\\mathbf{\\theta} \\right)} \\sin{\\left(\\mathbf{\\phi} \\right)} \\operatorname{d}r + \\sin{\\left(\\mathbf{\\theta} \\right)} \\cos{\\left(\\mathbf{\\phi} \\right)} \\mathbf{r} \\operatorname{d}\\phi + \\sin{\\left(\\mathbf{\\phi} \\right)} \\cos{\\left(\\mathbf{\\theta} \\right)} \\mathbf{r} \\operatorname{d}\\theta\\\\- \\sin{\\left(\\mathbf{\\theta} \\right)} \\mathbf{r} \\operatorname{d}\\theta + \\cos{\\left(\\mathbf{\\theta} \\right)} \\operatorname{d}r\\end{matrix}\\right]$"
      ],
      "text/plain": [
       "Matrix([\n",
       "[-sin(theta)*sin(phi)*r*dphi + sin(theta)*cos(phi)*dr + cos(theta)*cos(phi)*r*dtheta],\n",
       "[ sin(theta)*sin(phi)*dr + sin(theta)*cos(phi)*r*dphi + sin(phi)*cos(theta)*r*dtheta],\n",
       "[                                               -sin(theta)*r*dtheta + cos(theta)*dr]])"
      ]
     },
     "execution_count": 34,
     "metadata": {},
     "output_type": "execute_result"
    }
   ],
   "source": [
    "ds = (R3_s.base_vector(0)(s) * R3_s.base_oneform(0) \n",
    "    + R3_s.base_vector(1)(s) * R3_s.base_oneform(1)\n",
    "    + R3_s.base_vector(2)(s) * R3_s.base_oneform(2))\n",
    "ds"
   ]
  },
  {
   "cell_type": "markdown",
   "id": "f43fd8e0",
   "metadata": {},
   "source": [
    "### First fundamental form\n",
    "\n",
    "* [First fundamental form - Wikipedia](https://en.wikipedia.org/wiki/First_fundamental_form)"
   ]
  },
  {
   "cell_type": "code",
   "execution_count": 35,
   "id": "5d0f18d9",
   "metadata": {},
   "outputs": [
    {
     "data": {
      "text/latex": [
       "$\\displaystyle \\sin^{2}{\\left(\\mathbf{\\theta} \\right)} \\sin^{2}{\\left(\\mathbf{\\phi} \\right)} \\mathbf{r}^{2} \\operatorname{d}\\phi^{2} + \\sin^{2}{\\left(\\mathbf{\\theta} \\right)} \\sin^{2}{\\left(\\mathbf{\\phi} \\right)} \\operatorname{d}r^{2} + \\sin^{2}{\\left(\\mathbf{\\theta} \\right)} \\cos^{2}{\\left(\\mathbf{\\phi} \\right)} \\mathbf{r}^{2} \\operatorname{d}\\phi^{2} + \\sin^{2}{\\left(\\mathbf{\\theta} \\right)} \\cos^{2}{\\left(\\mathbf{\\phi} \\right)} \\operatorname{d}r^{2} + \\sin^{2}{\\left(\\mathbf{\\theta} \\right)} \\mathbf{r}^{2} \\operatorname{d}\\theta^{2} + \\sin{\\left(\\mathbf{\\theta} \\right)} \\sin^{2}{\\left(\\mathbf{\\phi} \\right)} \\cos{\\left(\\mathbf{\\theta} \\right)} \\mathbf{r} \\operatorname{d}r \\operatorname{d}\\theta + \\sin{\\left(\\mathbf{\\theta} \\right)} \\sin^{2}{\\left(\\mathbf{\\phi} \\right)} \\cos{\\left(\\mathbf{\\theta} \\right)} \\mathbf{r} \\operatorname{d}\\theta \\operatorname{d}r + \\sin{\\left(\\mathbf{\\theta} \\right)} \\cos{\\left(\\mathbf{\\theta} \\right)} \\cos^{2}{\\left(\\mathbf{\\phi} \\right)} \\mathbf{r} \\operatorname{d}r \\operatorname{d}\\theta + \\sin{\\left(\\mathbf{\\theta} \\right)} \\cos{\\left(\\mathbf{\\theta} \\right)} \\cos^{2}{\\left(\\mathbf{\\phi} \\right)} \\mathbf{r} \\operatorname{d}\\theta \\operatorname{d}r - \\sin{\\left(\\mathbf{\\theta} \\right)} \\cos{\\left(\\mathbf{\\theta} \\right)} \\mathbf{r} \\operatorname{d}r \\operatorname{d}\\theta - \\sin{\\left(\\mathbf{\\theta} \\right)} \\cos{\\left(\\mathbf{\\theta} \\right)} \\mathbf{r} \\operatorname{d}\\theta \\operatorname{d}r + \\sin^{2}{\\left(\\mathbf{\\phi} \\right)} \\cos^{2}{\\left(\\mathbf{\\theta} \\right)} \\mathbf{r}^{2} \\operatorname{d}\\theta^{2} + \\cos^{2}{\\left(\\mathbf{\\theta} \\right)} \\cos^{2}{\\left(\\mathbf{\\phi} \\right)} \\mathbf{r}^{2} \\operatorname{d}\\theta^{2} + \\cos^{2}{\\left(\\mathbf{\\theta} \\right)} \\operatorname{d}r^{2}$"
      ],
      "text/plain": [
       "sin(theta)**2*sin(phi)**2*r**2*dphi**2 + sin(theta)**2*sin(phi)**2*dr**2 + sin(theta)**2*cos(phi)**2*r**2*dphi**2 + sin(theta)**2*cos(phi)**2*dr**2 + sin(theta)**2*r**2*dtheta**2 + sin(theta)*sin(phi)**2*cos(theta)*r*dr*dtheta + sin(theta)*sin(phi)**2*cos(theta)*r*dtheta*dr + sin(theta)*cos(theta)*cos(phi)**2*r*dr*dtheta + sin(theta)*cos(theta)*cos(phi)**2*r*dtheta*dr - sin(theta)*cos(theta)*r*dr*dtheta - sin(theta)*cos(theta)*r*dtheta*dr + sin(phi)**2*cos(theta)**2*r**2*dtheta**2 + cos(theta)**2*cos(phi)**2*r**2*dtheta**2 + cos(theta)**2*dr**2"
      ]
     },
     "execution_count": 35,
     "metadata": {},
     "output_type": "execute_result"
    }
   ],
   "source": [
    "ds2 = sympy.expand(ds.dot(ds))\n",
    "ds2"
   ]
  },
  {
   "cell_type": "code",
   "execution_count": 36,
   "id": "c52be96d",
   "metadata": {},
   "outputs": [
    {
     "data": {
      "text/latex": [
       "$\\displaystyle - \\sin{\\left(2 \\mathbf{\\theta} \\right)} \\mathbf{r} \\operatorname{d}r \\operatorname{d}\\theta + \\sin^{2}{\\left(\\mathbf{\\theta} \\right)} \\sin^{2}{\\left(\\mathbf{\\phi} \\right)} \\mathbf{r}^{2} \\operatorname{d}\\phi^{2} + \\sin^{2}{\\left(\\mathbf{\\theta} \\right)} \\sin^{2}{\\left(\\mathbf{\\phi} \\right)} \\operatorname{d}r^{2} + \\sin^{2}{\\left(\\mathbf{\\theta} \\right)} \\cos^{2}{\\left(\\mathbf{\\phi} \\right)} \\mathbf{r}^{2} \\operatorname{d}\\phi^{2} + \\sin^{2}{\\left(\\mathbf{\\theta} \\right)} \\cos^{2}{\\left(\\mathbf{\\phi} \\right)} \\operatorname{d}r^{2} + \\sin^{2}{\\left(\\mathbf{\\theta} \\right)} \\mathbf{r}^{2} \\operatorname{d}\\theta^{2} + \\sin{\\left(\\mathbf{\\theta} \\right)} \\sin^{2}{\\left(\\mathbf{\\phi} \\right)} \\cos{\\left(\\mathbf{\\theta} \\right)} \\mathbf{r} \\operatorname{d}r \\operatorname{d}\\theta + \\sin{\\left(\\mathbf{\\theta} \\right)} \\sin^{2}{\\left(\\mathbf{\\phi} \\right)} \\cos{\\left(\\mathbf{\\theta} \\right)} \\mathbf{r} \\operatorname{d}\\theta \\operatorname{d}r + \\sin{\\left(\\mathbf{\\theta} \\right)} \\cos{\\left(\\mathbf{\\theta} \\right)} \\cos^{2}{\\left(\\mathbf{\\phi} \\right)} \\mathbf{r} \\operatorname{d}r \\operatorname{d}\\theta + \\sin{\\left(\\mathbf{\\theta} \\right)} \\cos{\\left(\\mathbf{\\theta} \\right)} \\cos^{2}{\\left(\\mathbf{\\phi} \\right)} \\mathbf{r} \\operatorname{d}\\theta \\operatorname{d}r + \\sin^{2}{\\left(\\mathbf{\\phi} \\right)} \\cos^{2}{\\left(\\mathbf{\\theta} \\right)} \\mathbf{r}^{2} \\operatorname{d}\\theta^{2} + \\cos^{2}{\\left(\\mathbf{\\theta} \\right)} \\cos^{2}{\\left(\\mathbf{\\phi} \\right)} \\mathbf{r}^{2} \\operatorname{d}\\theta^{2} + \\cos^{2}{\\left(\\mathbf{\\theta} \\right)} \\operatorname{d}r^{2}$"
      ],
      "text/plain": [
       "-sin(2*theta)*r*dr*dtheta + sin(theta)**2*sin(phi)**2*r**2*dphi**2 + sin(theta)**2*sin(phi)**2*dr**2 + sin(theta)**2*cos(phi)**2*r**2*dphi**2 + sin(theta)**2*cos(phi)**2*dr**2 + sin(theta)**2*r**2*dtheta**2 + sin(theta)*sin(phi)**2*cos(theta)*r*dr*dtheta + sin(theta)*sin(phi)**2*cos(theta)*r*dtheta*dr + sin(theta)*cos(theta)*cos(phi)**2*r*dr*dtheta + sin(theta)*cos(theta)*cos(phi)**2*r*dtheta*dr + sin(phi)**2*cos(theta)**2*r**2*dtheta**2 + cos(theta)**2*cos(phi)**2*r**2*dtheta**2 + cos(theta)**2*dr**2"
      ]
     },
     "execution_count": 36,
     "metadata": {},
     "output_type": "execute_result"
    }
   ],
   "source": [
    "sympy.simplify(ds2)"
   ]
  },
  {
   "cell_type": "code",
   "execution_count": 37,
   "id": "9c93acab",
   "metadata": {},
   "outputs": [
    {
     "data": {
      "text/latex": [
       "$\\displaystyle \\operatorname{d}r^{2}$"
      ],
      "text/plain": [
       "dr**2"
      ]
     },
     "metadata": {},
     "output_type": "display_data"
    },
    {
     "data": {
      "text/latex": [
       "$\\displaystyle \\operatorname{d}\\theta^{2}$"
      ],
      "text/plain": [
       "dtheta**2"
      ]
     },
     "metadata": {},
     "output_type": "display_data"
    },
    {
     "data": {
      "text/latex": [
       "$\\displaystyle \\operatorname{d}\\phi^{2}$"
      ],
      "text/plain": [
       "dphi**2"
      ]
     },
     "metadata": {},
     "output_type": "display_data"
    }
   ],
   "source": [
    "display(R3_s.base_oneform(0)**2, R3_s.base_oneform(1)**2, R3_s.base_oneform(2)**2)"
   ]
  },
  {
   "cell_type": "code",
   "execution_count": 38,
   "id": "f0a7e63f",
   "metadata": {},
   "outputs": [
    {
     "data": {
      "text/latex": [
       "$\\displaystyle 1$"
      ],
      "text/plain": [
       "1"
      ]
     },
     "execution_count": 38,
     "metadata": {},
     "output_type": "execute_result"
    }
   ],
   "source": [
    "sympy.simplify(ds2.coeff(R3_s.base_oneform(0)**2))"
   ]
  },
  {
   "cell_type": "code",
   "execution_count": 39,
   "id": "7335a701",
   "metadata": {},
   "outputs": [
    {
     "data": {
      "text/latex": [
       "$\\displaystyle \\mathbf{r}^{2}$"
      ],
      "text/plain": [
       "r**2"
      ]
     },
     "execution_count": 39,
     "metadata": {},
     "output_type": "execute_result"
    }
   ],
   "source": [
    "sympy.simplify(ds2.coeff(R3_s.base_oneform(1)**2))"
   ]
  },
  {
   "cell_type": "code",
   "execution_count": 40,
   "id": "13761339",
   "metadata": {},
   "outputs": [
    {
     "data": {
      "text/latex": [
       "$\\displaystyle \\sin^{2}{\\left(\\mathbf{\\theta} \\right)} \\mathbf{r}^{2}$"
      ],
      "text/plain": [
       "sin(theta)**2*r**2"
      ]
     },
     "execution_count": 40,
     "metadata": {},
     "output_type": "execute_result"
    }
   ],
   "source": [
    "sympy.simplify(ds2.coeff(R3_s.base_oneform(2)**2))"
   ]
  },
  {
   "cell_type": "markdown",
   "id": "e734ebce",
   "metadata": {},
   "source": [
    "$$\n",
    "ds^2 = (dr)^2 + r^2 (d\\theta)^2 + r^2 \\sin^2 \\theta (d\\phi)^2\n",
    "$$"
   ]
  },
  {
   "cell_type": "markdown",
   "id": "63aa1e6e",
   "metadata": {},
   "source": [
    "### 基底変換に伴う計量テンソルの変換公式\n",
    "\n",
    "* [Metric tensor § Induced metric - Wikipedia](https://en.wikipedia.org/wiki/Metric_tensor#Induced_metric)"
   ]
  },
  {
   "cell_type": "markdown",
   "id": "68fc6f95",
   "metadata": {},
   "source": [
    "$$\n",
    "g_{\\mu ' \\nu '} =\n",
    "\\frac{\\partial x^{\\mu}}{\\partial x^{\\mu '}}\n",
    "\\frac{\\partial x^{\\nu}}{\\partial x^{\\nu '}} \n",
    "g_{\\mu \\nu}\n",
    "$$"
   ]
  },
  {
   "cell_type": "code",
   "execution_count": 41,
   "id": "092d5c2c",
   "metadata": {},
   "outputs": [
    {
     "data": {
      "text/latex": [
       "$\\displaystyle \\left[\\begin{matrix}1 & 0 & 0\\\\0 & \\mathbf{r}^{2} & 0\\\\0 & 0 & \\sin^{2}{\\left(\\mathbf{\\theta} \\right)} \\mathbf{r}^{2}\\end{matrix}\\right]$"
      ],
      "text/plain": [
       "Matrix([\n",
       "[1,    0,                  0],\n",
       "[0, r**2,                  0],\n",
       "[0,    0, sin(theta)**2*r**2]])"
      ]
     },
     "execution_count": 41,
     "metadata": {},
     "output_type": "execute_result"
    }
   ],
   "source": [
    "g = sympy.diag(sympy.simplify(ds2.coeff(R3_s.base_oneform(0)**2)),\n",
    "               sympy.simplify(ds2.coeff(R3_s.base_oneform(1)**2)), \n",
    "               sympy.simplify(ds2.coeff(R3_s.base_oneform(2)**2)))\n",
    "g"
   ]
  },
  {
   "cell_type": "code",
   "execution_count": null,
   "id": "88174ef1",
   "metadata": {},
   "outputs": [],
   "source": []
  },
  {
   "cell_type": "code",
   "execution_count": null,
   "id": "8c2719f7",
   "metadata": {},
   "outputs": [],
   "source": []
  },
  {
   "cell_type": "code",
   "execution_count": null,
   "id": "63468ed2",
   "metadata": {},
   "outputs": [],
   "source": []
  },
  {
   "cell_type": "markdown",
   "id": "57f9a015",
   "metadata": {},
   "source": [
    "## Curvature"
   ]
  },
  {
   "cell_type": "markdown",
   "id": "91bc08aa",
   "metadata": {},
   "source": [
    "* [Einstein field equations - Wikipedia](https://en.wikipedia.org/wiki/Einstein_field_equations)\n",
    "* [The EinsteinPy Project](https://einsteinpy.org/)\n",
    "  - [Vacuum Solutions to Einstein’s Field Equations — EinsteinPy](https://docs.einsteinpy.org/en/stable/metric.html)"
   ]
  },
  {
   "cell_type": "code",
   "execution_count": 3,
   "id": "2303e9a1-4db5-40e9-83da-c0be713aa7f4",
   "metadata": {},
   "outputs": [],
   "source": [
    "import sympy"
   ]
  },
  {
   "cell_type": "code",
   "execution_count": 7,
   "id": "a7a39ca1-7e7e-4609-af3f-bbb5e0403c34",
   "metadata": {},
   "outputs": [],
   "source": [
    "from sympy import sin, cos, tan, cot"
   ]
  },
  {
   "cell_type": "code",
   "execution_count": 8,
   "id": "a272cb55",
   "metadata": {
    "tags": []
   },
   "outputs": [],
   "source": [
    "import einsteinpy"
   ]
  },
  {
   "cell_type": "code",
   "execution_count": 9,
   "id": "1b52304f",
   "metadata": {
    "scrolled": true,
    "tags": []
   },
   "outputs": [
    {
     "data": {
      "text/plain": [
       "'0.4.0'"
      ]
     },
     "execution_count": 9,
     "metadata": {},
     "output_type": "execute_result"
    }
   ],
   "source": [
    "einsteinpy.__version__"
   ]
  },
  {
   "cell_type": "code",
   "execution_count": 10,
   "id": "060e11c8",
   "metadata": {
    "tags": []
   },
   "outputs": [],
   "source": [
    "from einsteinpy.symbolic import MetricTensor\n",
    "from einsteinpy.symbolic import ChristoffelSymbols, RiemannCurvatureTensor\n",
    "from einsteinpy.symbolic import RicciTensor, RicciScalar"
   ]
  },
  {
   "cell_type": "markdown",
   "id": "1cb86449",
   "metadata": {},
   "source": [
    "### Ball in $\\rm{R}^3$"
   ]
  },
  {
   "cell_type": "code",
   "execution_count": 11,
   "id": "40e43099",
   "metadata": {
    "tags": []
   },
   "outputs": [
    {
     "data": {
      "text/plain": [
       "(r, theta, phi)"
      ]
     },
     "execution_count": 11,
     "metadata": {},
     "output_type": "execute_result"
    }
   ],
   "source": [
    "syms = sympy.symbols('r theta phi')\n",
    "syms"
   ]
  },
  {
   "cell_type": "code",
   "execution_count": 12,
   "id": "defe4860",
   "metadata": {
    "tags": []
   },
   "outputs": [],
   "source": [
    "r, theta, phi = syms"
   ]
  },
  {
   "cell_type": "code",
   "execution_count": 13,
   "id": "7275b3e2",
   "metadata": {
    "tags": []
   },
   "outputs": [
    {
     "data": {
      "text/latex": [
       "$\\displaystyle \\left[\\begin{matrix}1 & 0 & 0\\\\0 & r^{2} & 0\\\\0 & 0 & r^{2} \\sin^{2}{\\left(\\theta \\right)}\\end{matrix}\\right]$"
      ],
      "text/plain": [
       "Matrix([\n",
       "[1,    0,                  0],\n",
       "[0, r**2,                  0],\n",
       "[0,    0, r**2*sin(theta)**2]])"
      ]
     },
     "execution_count": 13,
     "metadata": {},
     "output_type": "execute_result"
    }
   ],
   "source": [
    "g=sympy.diag(1,r**2,r**2 * sin(theta)**2)\n",
    "g"
   ]
  },
  {
   "cell_type": "code",
   "execution_count": 14,
   "id": "b347a1c6",
   "metadata": {
    "tags": []
   },
   "outputs": [
    {
     "data": {
      "text/plain": [
       "[[1, 0, 0], [0, r**2, 0], [0, 0, r**2*sin(theta)**2]]"
      ]
     },
     "execution_count": 14,
     "metadata": {},
     "output_type": "execute_result"
    }
   ],
   "source": [
    "g.tolist()"
   ]
  },
  {
   "cell_type": "code",
   "execution_count": 15,
   "id": "1cd18673",
   "metadata": {
    "tags": []
   },
   "outputs": [],
   "source": [
    "metric = MetricTensor(g.tolist(), syms)"
   ]
  },
  {
   "cell_type": "code",
   "execution_count": 16,
   "id": "a51b3435",
   "metadata": {
    "tags": []
   },
   "outputs": [
    {
     "data": {
      "text/latex": [
       "$\\displaystyle \\left[\\begin{matrix}1 & 0 & 0\\\\0 & r^{2} & 0\\\\0 & 0 & r^{2} \\sin^{2}{\\left(\\theta \\right)}\\end{matrix}\\right]$"
      ],
      "text/plain": [
       "[[1, 0, 0], [0, r**2, 0], [0, 0, r**2*sin(theta)**2]]"
      ]
     },
     "execution_count": 16,
     "metadata": {},
     "output_type": "execute_result"
    }
   ],
   "source": [
    "metric.tensor()"
   ]
  },
  {
   "cell_type": "code",
   "execution_count": 17,
   "id": "94c2e5cc",
   "metadata": {
    "tags": []
   },
   "outputs": [
    {
     "data": {
      "text/latex": [
       "$\\displaystyle r$"
      ],
      "text/plain": [
       "r"
      ]
     },
     "metadata": {},
     "output_type": "display_data"
    },
    {
     "data": {
      "text/latex": [
       "$\\displaystyle \\theta$"
      ],
      "text/plain": [
       "theta"
      ]
     },
     "metadata": {},
     "output_type": "display_data"
    },
    {
     "data": {
      "text/latex": [
       "$\\displaystyle \\phi$"
      ],
      "text/plain": [
       "phi"
      ]
     },
     "metadata": {},
     "output_type": "display_data"
    }
   ],
   "source": [
    "display(*metric.syms)"
   ]
  },
  {
   "cell_type": "markdown",
   "id": "592e18b7",
   "metadata": {},
   "source": [
    "* [Christoffel symbols - Wikipedia](https://en.wikipedia.org/wiki/Christoffel_symbols)\n",
    "\n",
    "$$\n",
    "\\Gamma^{k}_{i j} = \\frac{\\partial{\\rm{\\bf e}}_i}{\\partial x^j} \\cdot {\\rm{\\bf e}}^k \n",
    "                 = \\frac{\\partial{\\rm{\\bf e}}_i}{\\partial x^j} \\cdot g^{k m} {\\rm{\\bf e}}_m\n",
    "$$"
   ]
  },
  {
   "cell_type": "markdown",
   "id": "1a32c83b",
   "metadata": {},
   "source": [
    "* [Geodesic - Wikipedia](https://en.wikipedia.org/wiki/Geodesic)\n",
    "  * [Euler–Lagrange equation - Wikipedia](https://en.wikipedia.org/wiki/Euler%E2%80%93Lagrange_equation)"
   ]
  },
  {
   "cell_type": "markdown",
   "id": "b3667c7c",
   "metadata": {},
   "source": [
    "$$\n",
    "\\frac{d^2 x^\\lambda}{dt^2} \n",
    "  + \\Gamma^\\lambda_{\\mu \\nu} \n",
    "    \\frac{dx^\\mu}{dt} \\frac{dx^\\nu}{dt} = 0\n",
    "$$"
   ]
  },
  {
   "cell_type": "code",
   "execution_count": 18,
   "id": "6b483d59",
   "metadata": {
    "tags": []
   },
   "outputs": [
    {
     "data": {
      "text/latex": [
       "$\\displaystyle \\left[\\begin{matrix}\\left[\\begin{matrix}0 & 0 & 0\\\\0 & - r & 0\\\\0 & 0 & - r \\sin^{2}{\\left(\\theta \\right)}\\end{matrix}\\right] & \\left[\\begin{matrix}0 & \\frac{1}{r} & 0\\\\\\frac{1}{r} & 0 & 0\\\\0 & 0 & - \\sin{\\left(\\theta \\right)} \\cos{\\left(\\theta \\right)}\\end{matrix}\\right] & \\left[\\begin{matrix}0 & 0 & \\frac{1}{r}\\\\0 & 0 & \\frac{\\cos{\\left(\\theta \\right)}}{\\sin{\\left(\\theta \\right)}}\\\\\\frac{1}{r} & \\frac{\\cos{\\left(\\theta \\right)}}{\\sin{\\left(\\theta \\right)}} & 0\\end{matrix}\\right]\\end{matrix}\\right]$"
      ],
      "text/plain": [
       "[[[0, 0, 0], [0, -r, 0], [0, 0, -r*sin(theta)**2]], [[0, 1/r, 0], [1/r, 0, 0], [0, 0, -sin(theta)*cos(theta)]], [[0, 0, 1/r], [0, 0, cos(theta)/sin(theta)], [1/r, cos(theta)/sin(theta), 0]]]"
      ]
     },
     "execution_count": 18,
     "metadata": {},
     "output_type": "execute_result"
    }
   ],
   "source": [
    "chr=ChristoffelSymbols.from_metric(metric)\n",
    "chr.tensor()"
   ]
  },
  {
   "cell_type": "code",
   "execution_count": 19,
   "id": "5dd2edf2",
   "metadata": {
    "tags": []
   },
   "outputs": [
    {
     "data": {
      "text/latex": [
       "$\\displaystyle r$"
      ],
      "text/plain": [
       "r"
      ]
     },
     "metadata": {},
     "output_type": "display_data"
    },
    {
     "data": {
      "text/latex": [
       "$\\displaystyle \\theta$"
      ],
      "text/plain": [
       "theta"
      ]
     },
     "metadata": {},
     "output_type": "display_data"
    },
    {
     "data": {
      "text/latex": [
       "$\\displaystyle \\phi$"
      ],
      "text/plain": [
       "phi"
      ]
     },
     "metadata": {},
     "output_type": "display_data"
    }
   ],
   "source": [
    "display(*chr.syms)"
   ]
  },
  {
   "cell_type": "markdown",
   "id": "c8d4d862",
   "metadata": {},
   "source": [
    "* [Riemann curvature tensor - Wikipedia](https://en.wikipedia.org/wiki/Riemann_curvature_tensor)\n",
    "  - \"A Riemannian manifold has zero curvature if and only if it is flat, i.e. locally isometric to the Euclidean space\"\n",
    "  \n",
    "$$\n",
    "R^{\\rho}_{\\sigma \\mu \\nu} \n",
    "  = \\partial_\\mu  \\Gamma^\\rho_{\\nu \\sigma}\n",
    "  - \\partial_\\nu  \\Gamma^\\rho_{\\mu \\lambda}\n",
    "  + \\Gamma^\\rho_{\\mu \\lambda} \\Gamma^\\lambda_{\\nu \\sigma}\n",
    "  - \\Gamma^\\rho_{\\nu \\lambda} \\Gamma^\\lambda_{\\mu \\sigma}\n",
    "$$"
   ]
  },
  {
   "cell_type": "code",
   "execution_count": 20,
   "id": "56638738",
   "metadata": {
    "tags": []
   },
   "outputs": [
    {
     "data": {
      "text/latex": [
       "$\\displaystyle \\left[\\begin{matrix}\\left[\\begin{matrix}0 & 0 & 0\\\\0 & 0 & 0\\\\0 & 0 & 0\\end{matrix}\\right] & \\left[\\begin{matrix}0 & 0 & 0\\\\0 & 0 & 0\\\\0 & 0 & 0\\end{matrix}\\right] & \\left[\\begin{matrix}0 & 0 & 0\\\\0 & 0 & 0\\\\0 & 0 & 0\\end{matrix}\\right]\\\\\\left[\\begin{matrix}0 & 0 & 0\\\\0 & 0 & 0\\\\0 & 0 & 0\\end{matrix}\\right] & \\left[\\begin{matrix}0 & 0 & 0\\\\0 & 0 & 0\\\\0 & 0 & 0\\end{matrix}\\right] & \\left[\\begin{matrix}0 & 0 & 0\\\\0 & 0 & 0\\\\0 & 0 & 0\\end{matrix}\\right]\\\\\\left[\\begin{matrix}0 & 0 & 0\\\\0 & 0 & 0\\\\0 & 0 & 0\\end{matrix}\\right] & \\left[\\begin{matrix}0 & 0 & 0\\\\0 & 0 & 0\\\\0 & 0 & 0\\end{matrix}\\right] & \\left[\\begin{matrix}0 & 0 & 0\\\\0 & 0 & 0\\\\0 & 0 & 0\\end{matrix}\\right]\\end{matrix}\\right]$"
      ],
      "text/plain": [
       "[[[[0, 0, 0], [0, 0, 0], [0, 0, 0]], [[0, 0, 0], [0, 0, 0], [0, 0, 0]], [[0, 0, 0], [0, 0, 0], [0, 0, 0]]], [[[0, 0, 0], [0, 0, 0], [0, 0, 0]], [[0, 0, 0], [0, 0, 0], [0, 0, 0]], [[0, 0, 0], [0, 0, 0], [0, 0, 0]]], [[[0, 0, 0], [0, 0, 0], [0, 0, 0]], [[0, 0, 0], [0, 0, 0], [0, 0, 0]], [[0, 0, 0], [0, 0, 0], [0, 0, 0]]]]"
      ]
     },
     "execution_count": 20,
     "metadata": {},
     "output_type": "execute_result"
    }
   ],
   "source": [
    "rmc = RiemannCurvatureTensor.from_christoffels(chr)\n",
    "rmc.tensor()"
   ]
  },
  {
   "cell_type": "markdown",
   "id": "6e824a06",
   "metadata": {},
   "source": [
    "リーマン曲率テンソルが $0$ なので平坦"
   ]
  },
  {
   "cell_type": "markdown",
   "id": "7faad1c9",
   "metadata": {},
   "source": [
    "### Sphere (2-dim surface) in $\\rm{R}^3$"
   ]
  },
  {
   "cell_type": "markdown",
   "id": "5dfb3e14",
   "metadata": {},
   "source": [
    "![fig-10](https://upload.wikimedia.org/wikipedia/commons/6/64/Circle_with_overlapping_manifold_charts.svg)"
   ]
  },
  {
   "cell_type": "markdown",
   "id": "d558cf82",
   "metadata": {},
   "source": [
    "![fig-30](https://upload.wikimedia.org/wikipedia/commons/f/fa/Mercator-proj.png)"
   ]
  },
  {
   "cell_type": "code",
   "execution_count": 21,
   "id": "38c43f3d",
   "metadata": {
    "tags": []
   },
   "outputs": [
    {
     "data": {
      "text/latex": [
       "$\\displaystyle r$"
      ],
      "text/plain": [
       "r"
      ]
     },
     "metadata": {},
     "output_type": "display_data"
    },
    {
     "data": {
      "text/latex": [
       "$\\displaystyle \\theta$"
      ],
      "text/plain": [
       "theta"
      ]
     },
     "metadata": {},
     "output_type": "display_data"
    },
    {
     "data": {
      "text/latex": [
       "$\\displaystyle \\phi$"
      ],
      "text/plain": [
       "phi"
      ]
     },
     "metadata": {},
     "output_type": "display_data"
    }
   ],
   "source": [
    "display(*metric.syms)"
   ]
  },
  {
   "cell_type": "code",
   "execution_count": 22,
   "id": "9f23c722",
   "metadata": {
    "tags": []
   },
   "outputs": [
    {
     "data": {
      "text/latex": [
       "$\\displaystyle \\left[\\begin{matrix}1 & 0 & 0\\\\0 & r^{2} & 0\\\\0 & 0 & r^{2} \\sin^{2}{\\left(\\theta \\right)}\\end{matrix}\\right]$"
      ],
      "text/plain": [
       "[[1, 0, 0], [0, r**2, 0], [0, 0, r**2*sin(theta)**2]]"
      ]
     },
     "execution_count": 22,
     "metadata": {},
     "output_type": "execute_result"
    }
   ],
   "source": [
    "metric.tensor()"
   ]
  },
  {
   "cell_type": "markdown",
   "id": "59b4a23a",
   "metadata": {},
   "source": [
    "$r$ を固定して $2$ 次元に制限する:"
   ]
  },
  {
   "cell_type": "code",
   "execution_count": 23,
   "id": "d06fbcdf",
   "metadata": {
    "tags": []
   },
   "outputs": [
    {
     "data": {
      "text/latex": [
       "$\\displaystyle \\left[\\begin{matrix}r^{2} & 0\\\\0 & r^{2} \\sin^{2}{\\left(\\theta \\right)}\\end{matrix}\\right]$"
      ],
      "text/plain": [
       "[[r**2, 0], [0, r**2*sin(theta)**2]]"
      ]
     },
     "execution_count": 23,
     "metadata": {},
     "output_type": "execute_result"
    }
   ],
   "source": [
    "metric[1:,1:]"
   ]
  },
  {
   "cell_type": "code",
   "execution_count": 24,
   "id": "47ed9e06",
   "metadata": {
    "tags": []
   },
   "outputs": [
    {
     "data": {
      "text/latex": [
       "$\\displaystyle \\left[\\begin{matrix}\\left[\\begin{matrix}0 & 0\\\\0 & - \\sin{\\left(\\theta \\right)} \\cos{\\left(\\theta \\right)}\\end{matrix}\\right] & \\left[\\begin{matrix}0 & \\frac{\\cos{\\left(\\theta \\right)}}{\\sin{\\left(\\theta \\right)}}\\\\\\frac{\\cos{\\left(\\theta \\right)}}{\\sin{\\left(\\theta \\right)}} & 0\\end{matrix}\\right]\\end{matrix}\\right]$"
      ],
      "text/plain": [
       "[[[0, 0], [0, -sin(theta)*cos(theta)]], [[0, cos(theta)/sin(theta)], [cos(theta)/sin(theta), 0]]]"
      ]
     },
     "execution_count": 24,
     "metadata": {},
     "output_type": "execute_result"
    }
   ],
   "source": [
    "chr[1:,1:,1:]"
   ]
  },
  {
   "cell_type": "code",
   "execution_count": 25,
   "id": "5ca4e72a",
   "metadata": {
    "tags": []
   },
   "outputs": [
    {
     "data": {
      "text/latex": [
       "$\\displaystyle \\left[\\begin{matrix}\\left[\\begin{matrix}0 & 0\\\\0 & - \\sin{\\left(\\theta \\right)} \\cos{\\left(\\theta \\right)}\\end{matrix}\\right] & \\left[\\begin{matrix}0 & \\frac{\\cos{\\left(\\theta \\right)}}{\\sin{\\left(\\theta \\right)}}\\\\\\frac{\\cos{\\left(\\theta \\right)}}{\\sin{\\left(\\theta \\right)}} & 0\\end{matrix}\\right]\\end{matrix}\\right]$"
      ],
      "text/plain": [
       "[[[0, 0], [0, -sin(theta)*cos(theta)]], [[0, cos(theta)/sin(theta)], [cos(theta)/sin(theta), 0]]]"
      ]
     },
     "execution_count": 25,
     "metadata": {},
     "output_type": "execute_result"
    }
   ],
   "source": [
    "ChristoffelSymbols.from_metric(MetricTensor(metric[1:,1:], \n",
    "                                             syms=(theta,phi))).tensor()"
   ]
  },
  {
   "cell_type": "code",
   "execution_count": 26,
   "id": "df7160be",
   "metadata": {
    "tags": []
   },
   "outputs": [
    {
     "data": {
      "text/latex": [
       "$\\displaystyle \\left[\\begin{matrix}\\left[\\begin{matrix}0 & 0\\\\0 & - \\sin{\\left(\\theta \\right)} \\cos{\\left(\\theta \\right)}\\end{matrix}\\right] & \\left[\\begin{matrix}0 & \\frac{\\cos{\\left(\\theta \\right)}}{\\sin{\\left(\\theta \\right)}}\\\\\\frac{\\cos{\\left(\\theta \\right)}}{\\sin{\\left(\\theta \\right)}} & 0\\end{matrix}\\right]\\end{matrix}\\right]$"
      ],
      "text/plain": [
       "[[[0, 0], [0, -sin(theta)*cos(theta)]], [[0, cos(theta)/sin(theta)], [cos(theta)/sin(theta), 0]]]"
      ]
     },
     "execution_count": 26,
     "metadata": {},
     "output_type": "execute_result"
    }
   ],
   "source": [
    "chr2 = ChristoffelSymbols(chr[1:,1:,1:], (theta, phi), \n",
    "                          parent_metric=MetricTensor(metric[1:,1:], (theta,phi)))\n",
    "chr2.tensor()"
   ]
  },
  {
   "cell_type": "code",
   "execution_count": 27,
   "id": "d2c73698",
   "metadata": {
    "tags": []
   },
   "outputs": [
    {
     "data": {
      "text/latex": [
       "$\\displaystyle \\theta$"
      ],
      "text/plain": [
       "theta"
      ]
     },
     "metadata": {},
     "output_type": "display_data"
    },
    {
     "data": {
      "text/latex": [
       "$\\displaystyle \\phi$"
      ],
      "text/plain": [
       "phi"
      ]
     },
     "metadata": {},
     "output_type": "display_data"
    }
   ],
   "source": [
    "display(*chr2.syms)"
   ]
  },
  {
   "cell_type": "code",
   "execution_count": 28,
   "id": "746cc306",
   "metadata": {
    "tags": []
   },
   "outputs": [
    {
     "data": {
      "text/latex": [
       "$\\displaystyle \\left[\\begin{matrix}\\left[\\begin{matrix}0 & 0\\\\0 & 0\\end{matrix}\\right] & \\left[\\begin{matrix}0 & \\sin^{2}{\\left(\\theta \\right)}\\\\- \\sin^{2}{\\left(\\theta \\right)} & 0\\end{matrix}\\right]\\\\\\left[\\begin{matrix}0 & -1\\\\1 & 0\\end{matrix}\\right] & \\left[\\begin{matrix}0 & 0\\\\0 & 0\\end{matrix}\\right]\\end{matrix}\\right]$"
      ],
      "text/plain": [
       "[[[[0, 0], [0, 0]], [[0, sin(theta)**2], [-sin(theta)**2, 0]]], [[[0, -1], [1, 0]], [[0, 0], [0, 0]]]]"
      ]
     },
     "execution_count": 28,
     "metadata": {},
     "output_type": "execute_result"
    }
   ],
   "source": [
    "rmc2 = RiemannCurvatureTensor.from_christoffels(chr2)\n",
    "rmc2.tensor()"
   ]
  },
  {
   "cell_type": "markdown",
   "id": "19193abb",
   "metadata": {},
   "source": [
    "リーマン曲率テンソルは $0$ ではない"
   ]
  },
  {
   "cell_type": "markdown",
   "id": "51f4bf63",
   "metadata": {},
   "source": [
    "* (1853 &ndash; 1925) [Gregorio Ricci-Curbastro - Wikipedia](https://en.wikipedia.org/wiki/Gregorio_Ricci-Curbastro)\n",
    "  * [Ricci curvature - Wikipedia](https://en.wikipedia.org/wiki/Ricci_curvature)\n",
    "    - [Scalar curvature - Wikipedia](https://en.wikipedia.org/wiki/Scalar_curvature)"
   ]
  },
  {
   "cell_type": "code",
   "execution_count": 29,
   "id": "c913c8bb",
   "metadata": {
    "tags": []
   },
   "outputs": [],
   "source": [
    "ricci = RicciTensor.from_christoffels(chr2)"
   ]
  },
  {
   "cell_type": "code",
   "execution_count": 30,
   "id": "23fec2bf",
   "metadata": {
    "tags": []
   },
   "outputs": [
    {
     "data": {
      "text/latex": [
       "$\\displaystyle \\left[\\begin{matrix}1 & 0\\\\0 & \\sin^{2}{\\left(\\theta \\right)}\\end{matrix}\\right]$"
      ],
      "text/plain": [
       "[[1, 0], [0, sin(theta)**2]]"
      ]
     },
     "execution_count": 30,
     "metadata": {},
     "output_type": "execute_result"
    }
   ],
   "source": [
    "ricci.tensor()"
   ]
  },
  {
   "cell_type": "code",
   "execution_count": 31,
   "id": "a62858fa",
   "metadata": {
    "tags": []
   },
   "outputs": [
    {
     "data": {
      "text/latex": [
       "$\\displaystyle \\left[\\begin{matrix}0 & 0 & 0\\\\0 & 0 & 0\\\\0 & 0 & 0\\end{matrix}\\right]$"
      ],
      "text/plain": [
       "[[0, 0, 0], [0, 0, 0], [0, 0, 0]]"
      ]
     },
     "execution_count": 31,
     "metadata": {},
     "output_type": "execute_result"
    }
   ],
   "source": [
    "# 参考: ボールは平坦\n",
    "RicciTensor.from_christoffels(chr).tensor()"
   ]
  },
  {
   "cell_type": "code",
   "execution_count": 32,
   "id": "fe960622",
   "metadata": {
    "tags": []
   },
   "outputs": [
    {
     "data": {
      "text/latex": [
       "$\\displaystyle \\left[\\begin{matrix}\\frac{1}{r^{2}} & 0\\\\0 & \\frac{1}{r^{2} \\sin^{2}{\\left(\\theta \\right)}}\\end{matrix}\\right]$"
      ],
      "text/plain": [
       "Matrix([\n",
       "[r**(-2),                      0],\n",
       "[      0, 1/(r**2*sin(theta)**2)]])"
      ]
     },
     "execution_count": 32,
     "metadata": {},
     "output_type": "execute_result"
    }
   ],
   "source": [
    "from sympy.matrices import Matrix\n",
    "Matrix(ricci.parent_metric.tensor()).inv()"
   ]
  },
  {
   "cell_type": "code",
   "execution_count": 33,
   "id": "78aaacff",
   "metadata": {
    "tags": []
   },
   "outputs": [
    {
     "data": {
      "text/plain": [
       "RicciScalar2/r**2"
      ]
     },
     "execution_count": 33,
     "metadata": {},
     "output_type": "execute_result"
    }
   ],
   "source": [
    "R=RicciScalar.from_riccitensor(ricci)\n",
    "R"
   ]
  },
  {
   "cell_type": "code",
   "execution_count": 34,
   "id": "a64eda05",
   "metadata": {
    "tags": []
   },
   "outputs": [
    {
     "data": {
      "text/latex": [
       "$\\displaystyle \\frac{2}{r^{2}}$"
      ],
      "text/plain": [
       "2/r**2"
      ]
     },
     "execution_count": 34,
     "metadata": {},
     "output_type": "execute_result"
    }
   ],
   "source": [
    "R.tensor()"
   ]
  },
  {
   "cell_type": "code",
   "execution_count": 2,
   "id": "c6ed1708-3df3-4b31-9ba3-eae7d2fad3c8",
   "metadata": {
    "tags": []
   },
   "outputs": [
    {
     "data": {
      "text/markdown": [
       "宇宙のリーマン曲率テンソルは、アインシュタインの一般相対性理論において、重力場の曲率を表す重要な量です。このテンソルは、時空の曲率を表し、重力場の強さや方向を決定します。宇宙のリーマン曲率テンソルは、宇宙の大規模構造や宇宙膨張の理解に不可欠なものであり、宇宙の形状や進化についての重要な情報を提供しています。また、宇宙のリーマン曲率テンソルは、宇宙の初期におけるインフレーション期間の理論的な予測にも関連しています。"
      ],
      "text/plain": [
       "<IPython.core.display.Markdown object>"
      ]
     },
     "metadata": {},
     "output_type": "display_data"
    }
   ],
   "source": [
    "%%ai_ask\n",
    "我々の宇宙のリーマン曲率テンソルについて"
   ]
  },
  {
   "cell_type": "code",
   "execution_count": 3,
   "id": "9604db30-40f0-4fdc-b228-aa1c1b1143a6",
   "metadata": {
    "tags": []
   },
   "outputs": [
    {
     "data": {
      "text/markdown": [
       "リッチスカラーは、リーマン曲率テンソルを用いて計算される、曲率のスカラー量です。リッチスカラーは、時空の曲率がどの程度強いかを表し、重力場の強さを定量化するために使用されます。具体的には、リッチスカラーは、リーマン曲率テンソルの各成分を用いて計算され、その結果をトレースしたものです。リッチスカラーは、アインシュタインの一般相対性理論において、重力場の方程式の一部として使用されます。また、宇宙の大規模構造や宇宙膨張の理解にも重要な役割を果たしています。"
      ],
      "text/plain": [
       "<IPython.core.display.Markdown object>"
      ]
     },
     "metadata": {},
     "output_type": "display_data"
    }
   ],
   "source": [
    "%%ai_continue\n",
    "リッチスカラーは？"
   ]
  },
  {
   "cell_type": "code",
   "execution_count": 4,
   "id": "60b554bb-2bd8-4755-a7b1-49a33c7a11ca",
   "metadata": {
    "tags": []
   },
   "outputs": [
    {
     "data": {
      "text/markdown": [
       "現在の宇宙のリッチスカラーは、宇宙の大規模構造や宇宙膨張の観測結果から推定されています。最新の観測結果によると、宇宙のリッチスカラーは、ほぼ一定であり、その値はおよそ0.0001程度です。この値は、宇宙の曲率がほぼ平坦であることを示しています。また、この値は、宇宙の初期におけるインフレーション期間の理論的な予測とも一致しています。"
      ],
      "text/plain": [
       "<IPython.core.display.Markdown object>"
      ]
     },
     "metadata": {},
     "output_type": "display_data"
    }
   ],
   "source": [
    "%%ai_continue\n",
    "我々の宇宙のリッチスカラーは？"
   ]
  },
  {
   "cell_type": "markdown",
   "id": "d6e8c143",
   "metadata": {},
   "source": [
    "* [Gaussian curvature - Wikipedia](https://en.wikipedia.org/wiki/Gaussian_curvature#Theorema_egregium)#Theorema_egregium\n",
    "  - (1827) [Theorema Egregium - Wikipedia](https://en.wikipedia.org/wiki/Theorema_Egregium)"
   ]
  },
  {
   "cell_type": "markdown",
   "id": "4863d409",
   "metadata": {},
   "source": [
    "![fig-31](https://upload.wikimedia.org/wikipedia/commons/e/eb/Minimal_surface_curvature_planes-en.svg)"
   ]
  },
  {
   "cell_type": "code",
   "execution_count": null,
   "id": "16503bb2",
   "metadata": {},
   "outputs": [],
   "source": []
  },
  {
   "cell_type": "code",
   "execution_count": null,
   "id": "966ee6a9-cdf1-4698-a94d-4b9a2ec3eb0c",
   "metadata": {},
   "outputs": [],
   "source": []
  },
  {
   "cell_type": "code",
   "execution_count": null,
   "id": "e257dc1c-1832-409d-af97-0bed30f84266",
   "metadata": {},
   "outputs": [],
   "source": []
  }
 ],
 "metadata": {
  "kernelspec": {
   "display_name": "Python 3 (ipykernel)",
   "language": "python",
   "name": "python3"
  },
  "language_info": {
   "codemirror_mode": {
    "name": "ipython",
    "version": 3
   },
   "file_extension": ".py",
   "mimetype": "text/x-python",
   "name": "python",
   "nbconvert_exporter": "python",
   "pygments_lexer": "ipython3",
   "version": "3.11.8"
  },
  "toc": {
   "base_numbering": 1,
   "nav_menu": {},
   "number_sections": true,
   "sideBar": true,
   "skip_h1_title": false,
   "title_cell": "Table of Contents",
   "title_sidebar": "Contents",
   "toc_cell": false,
   "toc_position": {},
   "toc_section_display": true,
   "toc_window_display": false
  },
  "widgets": {
   "application/vnd.jupyter.widget-state+json": {
    "state": {},
    "version_major": 2,
    "version_minor": 0
   }
  }
 },
 "nbformat": 4,
 "nbformat_minor": 5
}
